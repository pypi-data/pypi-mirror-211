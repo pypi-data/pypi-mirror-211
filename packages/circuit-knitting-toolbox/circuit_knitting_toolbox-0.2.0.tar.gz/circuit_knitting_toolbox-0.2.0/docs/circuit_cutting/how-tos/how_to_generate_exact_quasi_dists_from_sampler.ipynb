{
 "cells": [
  {
   "cell_type": "markdown",
   "id": "f9e40036",
   "metadata": {},
   "source": [
    "## How to generate exact quasiprobability distributions from Sampler\n",
    "\n",
    "This how-to guide is intended to show users how they can generate statevector-based quasiprobability distributions through the `qiskit.primitives.BaseSampler` interface."
   ]
  },
  {
   "cell_type": "code",
   "execution_count": 1,
   "id": "072055cb",
   "metadata": {},
   "outputs": [],
   "source": [
    "from qiskit import QuantumCircuit\n",
    "from qiskit.quantum_info import PauliList\n",
    "\n",
    "from circuit_knitting_toolbox.circuit_cutting import (\n",
    "    partition_problem,\n",
    "    execute_experiments,\n",
    ")"
   ]
  },
  {
   "cell_type": "markdown",
   "id": "940334fd",
   "metadata": {},
   "source": [
    "Prepare inputs to `execute_experiments`"
   ]
  },
  {
   "cell_type": "code",
   "execution_count": 2,
   "id": "dc4af922",
   "metadata": {},
   "outputs": [],
   "source": [
    "circuit = QuantumCircuit(2)\n",
    "circuit.h(0)\n",
    "circuit.cx(0, 1)\n",
    "observables = PauliList([\"ZZ\"])\n",
    "subcircuits, _, subobservables = partition_problem(\n",
    "    circuit=circuit, partition_labels=\"AB\", observables=observables\n",
    ")"
   ]
  },
  {
   "cell_type": "markdown",
   "id": "bc59b1be",
   "metadata": {},
   "source": [
    "In order to calculate exact quasiprobability distributions for circuits with mid-circuit measurements, users will need to use the `ExactSampler` class from `circuit_knitting_toolbox.utils.simulation`. The Qiskit Samplers do not support mid-circuit measurements in statevector mode."
   ]
  },
  {
   "cell_type": "code",
   "execution_count": 3,
   "id": "7a74f709",
   "metadata": {},
   "outputs": [],
   "source": [
    "from circuit_knitting_toolbox.utils.simulation import ExactSampler\n",
    "\n",
    "exact_sampler = ExactSampler()"
   ]
  },
  {
   "cell_type": "markdown",
   "id": "8d050fbe",
   "metadata": {},
   "source": [
    "If `ExactSampler` is used, the quasiprobability distributions returned from `execute_experiments` will be exact and generated from the statevectors of the subexperiments."
   ]
  },
  {
   "cell_type": "code",
   "execution_count": 4,
   "id": "7019d781",
   "metadata": {},
   "outputs": [],
   "source": [
    "quasi_dists, coefficients = execute_experiments(\n",
    "    circuits=subcircuits,\n",
    "    subobservables=subobservables,\n",
    "    num_samples=1000,\n",
    "    samplers=exact_sampler,\n",
    ")"
   ]
  }
 ],
 "metadata": {
  "kernelspec": {
   "display_name": "Python 3 (ipykernel)",
   "language": "python",
   "name": "python3"
  },
  "language_info": {
   "codemirror_mode": {
    "name": "ipython",
    "version": 3
   },
   "file_extension": ".py",
   "mimetype": "text/x-python",
   "name": "python",
   "nbconvert_exporter": "python",
   "pygments_lexer": "ipython3",
   "version": "3.8.16"
  }
 },
 "nbformat": 4,
 "nbformat_minor": 5
}
