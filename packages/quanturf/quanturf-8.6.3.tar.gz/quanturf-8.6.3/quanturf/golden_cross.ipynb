{
 "cells": [
  {
   "cell_type": "code",
   "execution_count": null,
   "metadata": {},
   "outputs": [],
   "source": [
    "from blankly import Strategy, StrategyState, Interface\n",
    "from blankly import Alpaca\n",
    "from blankly.indicators import sma"
   ]
  },
  {
   "cell_type": "code",
   "execution_count": null,
   "metadata": {},
   "outputs": [],
   "source": [
    "def init(symbol, state: StrategyState):\n",
    "    interface: Interface = state.interface\n",
    "    resolution = state.resolution\n",
    "    variables = state.variables\n",
    "    # initialize the historical data\n",
    "    variables['history'] = interface.history(symbol, 1200, resolution, end_date=state.time, return_as='deque')['close']\n",
    "    variables['owns_position'] = False\n"
   ]
  },
  {
   "cell_type": "code",
   "execution_count": null,
   "metadata": {},
   "outputs": [],
   "source": [
    "def price_event(price, symbol, state: StrategyState):\n",
    "    interface: Interface = state.interface\n",
    "    variables = state.variables\n",
    "\n",
    "    variables['history'].append(price)\n",
    "\n",
    "    sma200 = sma(variables['history'], period=200)\n",
    "    # match up dimensions\n",
    "    sma50 = sma(variables['history'], period=50)[-len(sma200):]\n",
    "    diff = sma200 - sma50\n",
    "    slope_sma50 = (sma50[-1] - sma50[-5]) / 5  # get the slope of the last 5 SMA50 Data Points\n",
    "    prev_diff = diff[-2]\n",
    "    curr_diff = diff[-1]\n",
    "    is_cross_up = slope_sma50 > 0 > prev_diff and curr_diff >= 0\n",
    "    is_cross_down = slope_sma50 < 0 < prev_diff and curr_diff <= 0\n",
    "    # comparing prev diff with current diff will show a cross\n",
    "    if is_cross_up and not variables['owns_position']:\n",
    "        interface.market_order(symbol, 'buy', int(interface.cash/price))\n",
    "        variables['owns_position'] = True\n",
    "    elif is_cross_down and variables['owns_position']:\n",
    "        # use strategy.base_asset if on CoinbasePro or Binance\n",
    "        interface.market_order(symbol, 'sell', int(interface.account[symbol].available))\n",
    "        variables['owns_position'] = False"
   ]
  },
  {
   "cell_type": "code",
   "execution_count": null,
   "metadata": {},
   "outputs": [],
   "source": [
    "if __name__ == \"__main__\":\n",
    "    alpaca = Alpaca()\n",
    "    s = Strategy(alpaca)\n",
    "    s.add_price_event(price_event, 'SNAP', resolution='1h', init=init)\n",
    "    s.add_price_event(price_event, 'GME', resolution='1h', init=init)\n",
    "    s.backtest(initial_values={'USD': 10000}, to='2y')\n",
    "    # Or just run it directly on the exchange\n",
    "    # s.start()"
   ]
  }
 ],
 "metadata": {
  "kernelspec": {
   "display_name": "Python 3",
   "language": "python",
   "name": "python3"
  },
  "language_info": {
   "name": "python",
   "version": "3.10.5 (tags/v3.10.5:f377153, Jun  6 2022, 16:14:13) [MSC v.1929 64 bit (AMD64)]"
  },
  "orig_nbformat": 4,
  "vscode": {
   "interpreter": {
    "hash": "c7075926691b5d490a0a7263e85b69d9e955c5305ab6cceedcd1a7ba0df970ba"
   }
  }
 },
 "nbformat": 4,
 "nbformat_minor": 2
}
