{
 "cells": [
  {
   "cell_type": "code",
   "execution_count": null,
   "metadata": {},
   "outputs": [],
   "source": [
    "import numpy as np\n",
    "from blankly import trunc\n",
    "from blankly import Strategy, StrategyState, Interface\n",
    "from blankly import CoinbasePro\n",
    "from blankly.indicators import rsi, sma\n",
    "# You may need to \"pip install scikit-learn\" if you do not have this installed\n",
    "from sklearn.neural_network import MLPClassifier\n",
    "from sklearn.datasets import make_classification\n",
    "from sklearn.preprocessing import MinMaxScaler\n",
    "from sklearn.model_selection import train_test_split\n"
   ]
  },
  {
   "cell_type": "code",
   "execution_count": null,
   "metadata": {},
   "outputs": [],
   "source": [
    "def init(symbol, state: StrategyState):\n",
    "    interface: Interface = state.interface\n",
    "    resolution = state.resolution\n",
    "    variables = state.variables\n",
    "    x, y = make_classification(n_samples=500, n_features=3, n_informative=3, n_redundant=0, random_state=1)\n",
    "    x_train, x_test, y_train, y_test = train_test_split(x, y, stratify=y, random_state=1)\n",
    "    # initialize the historical data\n",
    "    variables['model'] = MLPClassifier(random_state=1, max_iter=10000).fit(x_train, y_train)\n",
    "    variables['history'] = interface.history(symbol, 300, resolution, return_as='list')['close']\n",
    "    variables['has_bought'] = False"
   ]
  },
  {
   "cell_type": "code",
   "execution_count": null,
   "metadata": {},
   "outputs": [],
   "source": [
    "def price_event(price, symbol, state: StrategyState):\n",
    "    interface: Interface = state.interface\n",
    "    variables = state.variables\n",
    "\n",
    "    variables['history'].append(price)\n",
    "    model = variables['model']\n",
    "    scaler = MinMaxScaler()\n",
    "    rsi_values = rsi(variables['history'], period=14).reshape(-1, 1)\n",
    "    rsi_value = scaler.fit_transform(rsi_values)[-1]\n",
    "\n",
    "    ma_values = sma(variables['history'], period=50).reshape(-1, 1)\n",
    "    ma_value = scaler.fit_transform(ma_values)[-1]\n",
    "\n",
    "    ma100_values = sma(variables['history'], period=100).reshape(-1, 1)\n",
    "    ma100_value = scaler.fit_transform(ma100_values)[-1]\n",
    "    value = np.array([rsi_value, ma_value, ma100_value]).reshape(1, 3)\n",
    "    prediction = model.predict_proba(value)[0][1]\n",
    "\n",
    "    # comparing prev diff with current diff will show a cross\n",
    "    if prediction > 0.4 and not variables['has_bought']:\n",
    "        interface.market_order(symbol, 'buy', trunc(interface.cash/price, 8))\n",
    "        variables['has_bought'] = True\n",
    "    elif prediction <= 0.4 and variables['has_bought']:\n",
    "        # truncate is required due to float precision\n",
    "        interface.market_order(symbol, 'sell', interface.account[state.base_asset]['available'])\n",
    "        variables['has_bought'] = False"
   ]
  },
  {
   "cell_type": "code",
   "execution_count": null,
   "metadata": {},
   "outputs": [],
   "source": [
    "if __name__ == \"__main__\":\n",
    "    coinbase = CoinbasePro()\n",
    "    s = Strategy(coinbase)\n",
    "    # creating an init allows us to run the same function for\n",
    "    # different tickers and resolutions\n",
    "    s.add_price_event(price_event, 'BTC-USD', resolution='1d', init=init)\n",
    "    # s.add_price_event(price_event, 'AAPL', resolution='1d', init=init)\n",
    "    history = s.backtest(to='1y', initial_values={'USD': 100})\n",
    "    print(history)"
   ]
  }
 ],
 "metadata": {
  "kernelspec": {
   "display_name": "Python 3",
   "language": "python",
   "name": "python3"
  },
  "language_info": {
   "name": "python",
   "version": "3.10.5 (tags/v3.10.5:f377153, Jun  6 2022, 16:14:13) [MSC v.1929 64 bit (AMD64)]"
  },
  "orig_nbformat": 4,
  "vscode": {
   "interpreter": {
    "hash": "c7075926691b5d490a0a7263e85b69d9e955c5305ab6cceedcd1a7ba0df970ba"
   }
  }
 },
 "nbformat": 4,
 "nbformat_minor": 2
}
