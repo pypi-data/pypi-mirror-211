{
 "cells": [
  {
   "cell_type": "code",
   "execution_count": null,
   "metadata": {},
   "outputs": [],
   "source": [
    "import alpaca_trade_api as tradeapi\n",
    "from alpaca_trade_api import REST\n",
    "import os\n",
    "from alpaca_trade_api.rest import TimeFrame"
   ]
  },
  {
   "cell_type": "code",
   "execution_count": null,
   "metadata": {},
   "outputs": [],
   "source": [
    "os.environ['APCA_API_KEY_ID'] = '*****************************'\n",
    "os.environ['APCA_API_SECRET_KEY'] = '***********************************************************'\n",
    "os.environ['APCA_API_BASE_URL'] = 'https://paper-api.alpaca.markets'\n",
    "api = REST()"
   ]
  },
  {
   "cell_type": "code",
   "execution_count": null,
   "metadata": {},
   "outputs": [],
   "source": [
    "historical_data = api.get_bars(\n",
    "    symbol='TSLA', #any symbol is acceptable if it can be found in Alpaca API\n",
    "    timeframe=TimeFrame.Hour, \n",
    "    start=\"2018-01-01T00:00:00-00:00\",\n",
    "    end=\"2018-02-01T00:00:00-00:00\"\n",
    ").df"
   ]
  },
  {
   "cell_type": "code",
   "execution_count": null,
   "metadata": {},
   "outputs": [],
   "source": [
    "historical_data"
   ]
  }
 ],
 "metadata": {
  "kernelspec": {
   "display_name": "Python 3",
   "language": "python",
   "name": "python3"
  },
  "language_info": {
   "name": "python",
   "version": "3.10.5 (tags/v3.10.5:f377153, Jun  6 2022, 16:14:13) [MSC v.1929 64 bit (AMD64)]"
  },
  "orig_nbformat": 4,
  "vscode": {
   "interpreter": {
    "hash": "c7075926691b5d490a0a7263e85b69d9e955c5305ab6cceedcd1a7ba0df970ba"
   }
  }
 },
 "nbformat": 4,
 "nbformat_minor": 2
}
