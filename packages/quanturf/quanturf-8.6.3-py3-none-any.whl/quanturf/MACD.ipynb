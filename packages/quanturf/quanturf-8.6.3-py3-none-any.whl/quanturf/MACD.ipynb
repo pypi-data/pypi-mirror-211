{
 "cells": [
  {
   "cell_type": "code",
   "execution_count": null,
   "metadata": {},
   "outputs": [],
   "source": [
    "from blankly import Strategy, StrategyState, Interface\n",
    "from blankly import Alpaca\n",
    "from blankly.utils import trunc\n",
    "from blankly.indicators import macd"
   ]
  },
  {
   "cell_type": "code",
   "execution_count": null,
   "metadata": {},
   "outputs": [],
   "source": [
    "SHORT_PERIOD = 12\n",
    "LONG_PERIOD = 26\n",
    "SIGNAL_PERIOD = 9"
   ]
  },
  {
   "cell_type": "code",
   "execution_count": null,
   "metadata": {},
   "outputs": [],
   "source": [
    "def init(symbol, state: StrategyState):\n",
    "    interface = state.interface\n",
    "    resolution = state.resolution\n",
    "    variables = state.variables\n",
    "    # initialize the historical data\n",
    "    variables['history'] = interface.history(symbol, 800, resolution, return_as='deque')['close']\n",
    "    variables['short_period'] = SHORT_PERIOD\n",
    "    variables['long_period'] = LONG_PERIOD\n",
    "    variables['signal_period'] = SIGNAL_PERIOD\n",
    "    variables['has_bought'] = False"
   ]
  },
  {
   "cell_type": "code",
   "execution_count": null,
   "metadata": {},
   "outputs": [],
   "source": [
    "def price_event(price, symbol, state: StrategyState):\n",
    "    interface: Interface = state.interface\n",
    "    # allow the resolution to be any resolution: 15m, 30m, 1d, etc.\n",
    "    variables = state.variables\n",
    "\n",
    "    variables['history'].append(price)\n",
    "    macd_res, macd_signal, macd_histogram = macd(variables['history'], \n",
    "                                                 short_period=variables['short_period'],\n",
    "                                                 long_period=variables['long_period'],\n",
    "                                                 signal_period=variables['signal_period'])\n",
    "\n",
    "    slope_macd = (macd_res[-1] - macd_res[-5]) / 5  # get the slope of the last 5 MACD_points\n",
    "    prev_macd = macd_res[-2]\n",
    "    curr_macd = macd_res[-1]\n",
    "    curr_signal_macd = macd_signal[-1]\n",
    "\n",
    "    # We want to make sure this works even if curr_macd does not equal the signal MACD\n",
    "    is_cross_up = slope_macd > 0 and curr_macd >= curr_signal_macd > prev_macd\n",
    "\n",
    "    is_cross_down = slope_macd < 0 and curr_macd <= curr_signal_macd < prev_macd\n",
    "    if is_cross_up:\n",
    "        # If there is a buy signal, buy with 40% of cash available (that 40% has to be more than 10 dollars though)\n",
    "        cash = trunc(interface.cash * .4, 2)\n",
    "        if cash > 10:\n",
    "            interface.market_order(symbol, 'buy', int(cash/price))\n",
    "            variables['has_bought'] = True\n",
    "    elif is_cross_down and variables['has_bought']:\n",
    "        # Sell all of the position. We also have to own a position after buying\n",
    "        interface.market_order(symbol, 'sell', int(interface.account[symbol].available))\n",
    "        variables['has_bought'] = False"
   ]
  },
  {
   "cell_type": "code",
   "execution_count": null,
   "metadata": {},
   "outputs": [],
   "source": [
    "if __name__ == \"__main__\":\n",
    "    alpaca = Alpaca()\n",
    "    s = Strategy(alpaca)\n",
    "\n",
    "    # Add a bunch of stocks to watch for 2 years\n",
    "    s.add_price_event(price_event, 'SNAP', resolution='1d', init=init)\n",
    "    s.add_price_event(price_event, 'PBFX', resolution='1d', init=init)\n",
    "    s.add_price_event(price_event, 'NCLH', resolution='1d', init=init)\n",
    "\n",
    "    s.add_price_event(price_event, 'CRBP', resolution='1d', init=init)\n",
    "    s.add_price_event(price_event, 'D', resolution='1d', init=init)\n",
    "    s.add_price_event(price_event, 'GME', resolution='1d', init=init)\n",
    "\n",
    "    print(s.backtest(initial_values={'USD': 10000}, to='2y'))"
   ]
  }
 ],
 "metadata": {
  "kernelspec": {
   "display_name": "Python 3",
   "language": "python",
   "name": "python3"
  },
  "language_info": {
   "name": "python",
   "version": "3.10.5 (tags/v3.10.5:f377153, Jun  6 2022, 16:14:13) [MSC v.1929 64 bit (AMD64)]"
  },
  "orig_nbformat": 4,
  "vscode": {
   "interpreter": {
    "hash": "c7075926691b5d490a0a7263e85b69d9e955c5305ab6cceedcd1a7ba0df970ba"
   }
  }
 },
 "nbformat": 4,
 "nbformat_minor": 2
}
