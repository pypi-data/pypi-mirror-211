{
 "cells": [
  {
   "cell_type": "code",
   "execution_count": null,
   "metadata": {},
   "outputs": [],
   "source": [
    "import blankly"
   ]
  },
  {
   "cell_type": "code",
   "execution_count": null,
   "metadata": {},
   "outputs": [],
   "source": [
    "def init(symbol, state: blankly.StrategyState):\n",
    "    # Download price data to give context to the algo\n",
    "    state.variables['history'] = state.interface.history(symbol, to=150, return_as='deque',\n",
    "                                                         resolution=state.resolution)['close']\n",
    "    state.variables['owns_position'] = False\n"
   ]
  },
  {
   "cell_type": "code",
   "execution_count": null,
   "metadata": {},
   "outputs": [],
   "source": [
    "def price_event(price, symbol, state: blankly.StrategyState):\n",
    "    \"\"\" This function will give an updated price every 15 seconds from our definition below \"\"\"\n",
    "    state.variables['history'].append(price)\n",
    "    rsi = blankly.indicators.rsi(state.variables['history'])\n",
    "    if rsi[-1] < 30 and not state.variables['owns_position']:\n",
    "        # Dollar cost average buy\n",
    "        buy = blankly.trunc(state.interface.cash/price, 2)\n",
    "        state.interface.market_order(symbol, side='buy', size=buy)\n",
    "        state.variables['owns_position'] = True\n",
    "    elif rsi[-1] > 70 and state.variables['owns_position']:\n",
    "        # Dollar cost average sell\n",
    "        curr_value = state.interface.account[state.base_asset].available\n",
    "        state.interface.market_order(symbol, side='sell', size=curr_value)\n",
    "        state.variables['owns_position'] = False"
   ]
  },
  {
   "cell_type": "code",
   "execution_count": null,
   "metadata": {},
   "outputs": [],
   "source": [
    "if __name__ == \"__main__\":\n",
    "    # Authenticate coinbase pro strategy\n",
    "    exchange = blankly.CoinbasePro()\n",
    "\n",
    "    # Use our strategy helper on coinbase pro\n",
    "    strategy = blankly.Strategy(exchange)\n",
    "\n",
    "    # Run the price event function every time we check for a new price - by default that is 15 seconds\n",
    "    strategy.add_price_event(price_event, symbol='BTC-USD', resolution='1d', init=init)\n",
    "\n",
    "    # Start the strategy. This will begin each of the price event ticks\n",
    "    # strategy.start()\n",
    "    # Or backtest using this\n",
    "    results = strategy.backtest(to='1y', initial_values={'USD': 10000})\n",
    "    print(results)"
   ]
  }
 ],
 "metadata": {
  "kernelspec": {
   "display_name": "Python 3",
   "language": "python",
   "name": "python3"
  },
  "language_info": {
   "name": "python",
   "version": "3.10.5 (tags/v3.10.5:f377153, Jun  6 2022, 16:14:13) [MSC v.1929 64 bit (AMD64)]"
  },
  "orig_nbformat": 4,
  "vscode": {
   "interpreter": {
    "hash": "c7075926691b5d490a0a7263e85b69d9e955c5305ab6cceedcd1a7ba0df970ba"
   }
  }
 },
 "nbformat": 4,
 "nbformat_minor": 2
}
