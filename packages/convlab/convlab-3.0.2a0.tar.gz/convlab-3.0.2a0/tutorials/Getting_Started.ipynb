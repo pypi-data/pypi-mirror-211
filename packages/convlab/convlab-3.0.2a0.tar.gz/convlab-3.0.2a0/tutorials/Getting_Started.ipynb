{
  "cells": [
    {
      "cell_type": "markdown",
      "metadata": {
        "colab_type": "text",
        "id": "x3qZ8fi1FAWS"
      },
      "source": [
        "# Getting Started\n",
        "\n",
        "In this tutorial, you will know how to\n",
        "- use the models in **ConvLab-3** to build a dialog agent.\n",
        "\n",
        "Let's get started!"
      ]
    },
    {
      "cell_type": "markdown",
      "metadata": {
        "colab_type": "text",
        "id": "NvXG3UyBFFS3"
      },
      "source": [
        "## Environment setup\n",
        "Run the command below to install ConvLab-3. Then restart the notebook and skip this commend."
      ]
    },
    {
      "cell_type": "code",
      "execution_count": null,
      "metadata": {
        "colab": {},
        "colab_type": "code",
        "id": "qPqTs6EP0wxO"
      },
      "outputs": [],
      "source": [
        "# first install ConvLab-3 and restart the notebook\n",
        "! git clone --depth 1 https://github.com/ConvLab/ConvLab-3.git && cd ConvLab-3 && pip install -e ."
      ]
    },
    {
      "cell_type": "markdown",
      "metadata": {
        "colab_type": "text",
        "id": "1TPEtcEpFiCU"
      },
      "source": [
        "## build an agent\n",
        "\n",
        "We use the models adapted on [Multiwoz](https://www.aclweb.org/anthology/D18-1547)  dataset to build our agent. This pipeline agent consists of NLU, DST, Policy and NLG modules.\n",
        "\n",
        "First, import some models:"
      ]
    },
    {
      "cell_type": "code",
      "execution_count": null,
      "metadata": {
        "colab": {},
        "colab_type": "code",
        "id": "OqzFlmCBCXEV"
      },
      "outputs": [],
      "source": [
        "# common import: convlab.$module.$model.$dataset\n",
        "from convlab.base_models.t5.nlu import T5NLU\n",
        "from convlab.base_models.t5.dst import T5DST\n",
        "from convlab.base_models.t5.nlg import T5NLG\n",
        "from convlab.policy.vector.vector_nodes import VectorNodes\n",
        "from convlab.policy.vtrace_DPT import VTRACE\n",
        "from convlab.dialog_agent import PipelineAgent, BiSession\n",
        "from convlab.evaluator.multiwoz_eval import MultiWozEvaluator\n",
        "from pprint import pprint\n",
        "import random\n",
        "import numpy as np\n",
        "import torch"
      ]
    },
    {
      "cell_type": "markdown",
      "metadata": {
        "colab_type": "text",
        "id": "N-18Q6YKGEzY"
      },
      "source": [
        "Then, create the models and build an agent on Multiwoz 2.1 dataset:"
      ]
    },
    {
      "cell_type": "code",
      "execution_count": null,
      "metadata": {
        "colab": {},
        "colab_type": "code",
        "id": "-GPQgUD6GjHv"
      },
      "outputs": [],
      "source": [
        "# go to README.md of each model for more information\n",
        "sys_nlu = T5NLU(speaker='user', context_window_size=0, model_name_or_path='ConvLab/t5-small-nlu-multiwoz21')\n",
        "sys_dst = T5DST(dataset_name='multiwoz21', speaker='user', context_window_size=100, model_name_or_path='ConvLab/t5-small-dst-multiwoz21')\n",
        "# Download pre-trained DDPT model\n",
        "! wget https://huggingface.co/ConvLab/ddpt-policy-multiwoz21/resolve/main/supervised.pol.mdl --directory-prefix=\"convlab/policy/vtrace_DPT\"\n",
        "vectorizer = VectorNodes(dataset_name='multiwoz21',\n",
        "                         use_masking=True,\n",
        "                         manually_add_entity_names=True,\n",
        "                         seed=0,\n",
        "                         filter_state=True)\n",
        "sys_policy = VTRACE(is_train=False,\n",
        "              seed=0,\n",
        "              vectorizer=vectorizer,\n",
        "              load_path=\"convlab/policy/vtrace_DPT/supervised\")\n",
        "sys_nlg = T5NLG(speaker='system', context_window_size=0, model_name_or_path='ConvLab/t5-small-nlg-multiwoz21')\n",
        "# assemble\n",
        "sys_agent = PipelineAgent(sys_nlu, sys_dst, sys_policy, sys_nlg, name='sys')"
      ]
    },
    {
      "cell_type": "markdown",
      "metadata": {
        "colab_type": "text",
        "id": "FvqIiO22H0Od"
      },
      "source": [
        "That's all! Let's chat with the agent using its response function:"
      ]
    },
    {
      "cell_type": "code",
      "execution_count": null,
      "metadata": {},
      "outputs": [],
      "source": [
        "sys_agent.init_session()\n",
        "sys_agent.response(\"I want to find a hotel in the expensive pricerange\")"
      ]
    },
    {
      "cell_type": "code",
      "execution_count": null,
      "metadata": {
        "colab": {},
        "colab_type": "code",
        "id": "dAvi-IzsH474"
      },
      "outputs": [],
      "source": [
        "sys_agent.response(\"Which type of hotel is it ?\")"
      ]
    },
    {
      "cell_type": "code",
      "execution_count": null,
      "metadata": {
        "colab": {},
        "colab_type": "code",
        "id": "f0A6Pt4tH60c"
      },
      "outputs": [],
      "source": [
        "sys_agent.response(\"OK , where is its address ?\")"
      ]
    },
    {
      "cell_type": "code",
      "execution_count": null,
      "metadata": {
        "colab": {},
        "colab_type": "code",
        "id": "8VH6yO6PH8Ua"
      },
      "outputs": [],
      "source": [
        "sys_agent.response(\"Thank you !\")"
      ]
    },
    {
      "cell_type": "code",
      "execution_count": null,
      "metadata": {
        "colab": {},
        "colab_type": "code",
        "id": "wto-PxgNH9gp"
      },
      "outputs": [],
      "source": [
        "sys_agent.response(\"Try to find me a Chinese restaurant in south area .\")"
      ]
    },
    {
      "cell_type": "code",
      "execution_count": null,
      "metadata": {
        "colab": {},
        "colab_type": "code",
        "id": "MJ9C1ZhbH_JY"
      },
      "outputs": [],
      "source": [
        "sys_agent.response(\"Which kind of food it provides ?\")"
      ]
    },
    {
      "cell_type": "code",
      "execution_count": null,
      "metadata": {
        "colab": {},
        "colab_type": "code",
        "id": "DpaQNA_HIAmT"
      },
      "outputs": [],
      "source": [
        "sys_agent.response(\"Book a table for 5 , this Sunday .\")"
      ]
    }
  ],
  "metadata": {
    "colab": {
      "collapsed_sections": [],
      "name": "Tutorial",
      "provenance": [],
      "toc_visible": true
    },
    "kernelspec": {
      "display_name": "Python 3.8.13 ('convlab')",
      "language": "python",
      "name": "python3"
    },
    "language_info": {
      "codemirror_mode": {
        "name": "ipython",
        "version": 3
      },
      "file_extension": ".py",
      "mimetype": "text/x-python",
      "name": "python",
      "nbconvert_exporter": "python",
      "pygments_lexer": "ipython3",
      "version": "3.8.13"
    },
    "vscode": {
      "interpreter": {
        "hash": "4a33698a9a325011d7646f7f090905d1bb6057c0d4ab1946e074e5e84aab8508"
      }
    }
  },
  "nbformat": 4,
  "nbformat_minor": 0
}
