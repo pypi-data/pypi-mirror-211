{
 "cells": [
  {
   "cell_type": "code",
   "execution_count": null,
   "id": "7b0e7697-b90e-4a94-a754-cfb577c4f1df",
   "metadata": {},
   "outputs": [],
   "source": [
    "import collections\n",
    "import sys\n",
    "sys.path.append(\"..\")\n",
    "\n",
    "import tqdm\n",
    "import numpy as np\n",
    "from IPython.display import SVG, HTML\n",
    "from matplotlib import pyplot as plt\n",
    "import tszip\n",
    "\n",
    "import sc2ts\n",
    "base_sc2_time = \"2021-06-30\"  # equivalent of day 0 in the sc2_ts file\n",
    "sc2_ts = tszip.decompress(f\"../results/upgma-full-md-30-mm-3-{base_sc2_time}.ts.tsz\")\n"
   ]
  },
  {
   "cell_type": "code",
   "execution_count": null,
   "id": "14a3d52c-4c3e-4e60-abb8-e095b9b77630",
   "metadata": {},
   "outputs": [],
   "source": [
    "\n",
    "times, counts = np.unique(sc2_ts.nodes_time[sc2_ts.samples()], return_counts=True)\n",
    "times = times[counts > 5]  # Some times have few samples\n",
    "data = {}\n",
    "most_common_recombinant_mixes = {}\n",
    "num_stored_recombinant_mixes = 3\n",
    "for time in tqdm.tqdm(times):\n",
    "    ts = sc2_ts.simplify(sc2_ts.samples(time=time), keep_unary=True, filter_nodes=False)\n",
    "    recombinants_in_ancestry = {u: set() for u in ts.samples()}\n",
    "    first_edge = ts.edges_left.min()\n",
    "    for ed, tree in zip(ts.edge_diffs(), ts.trees(sample_lists=True)):\n",
    "        if ed.interval.left == first_edge:\n",
    "            continue  # Skip the first tree, for speed: recombinants arrive in intermediate trees anyway\n",
    "        for u in [e.child for e in ed.edges_in if (ts.node(e.child).flags & sc2ts.NODE_IS_RECOMBINANT)]:\n",
    "            for v in tree.samples(u):\n",
    "                recombinants_in_ancestry[v].add(u)\n",
    "    data[time] = np.bincount([len(s) for s in recombinants_in_ancestry.values()], minlength=50)\n",
    "    most_common_recombinant_mix[time] = collections.Counter(\n",
    "        frozenset(v) for v in recombinants_in_ancestry.values()\n",
    "    ).most_common(num_stored_recombinant_mixes)"
   ]
  },
  {
   "cell_type": "code",
   "execution_count": null,
   "id": "9176acd3-e6a5-40de-b612-11eb4ffc58e7",
   "metadata": {},
   "outputs": [],
   "source": [
    "most_recent = min(most_common_recombinant_mix.keys())\n",
    "print(\n",
    "    f\"At the most recent sampling time ({most_recent}),\",\n",
    "    \"the most common recombinant mixes are:\",\n",
    ")\n",
    "for val, count in most_common_recombinant_mix[most_recent]:\n",
    "    print(\n",
    "        val,\n",
    "        count,\n",
    "        f\"({count/np.sum(data[most_recent]) * 100}% of all samples on that day)\",\n",
    "    )"
   ]
  },
  {
   "cell_type": "code",
   "execution_count": null,
   "id": "7069580b-c4ee-4b19-812e-9ee5b634a455",
   "metadata": {},
   "outputs": [],
   "source": [
    "import pandas as pd\n",
    "df = pd.DataFrame(data).T\n",
    "# Remove the zero padded columns\n",
    "print(df.sum(axis=0))\n",
    "df.drop(df.iloc[:, 24:], inplace=True, axis=1)\n",
    "df"
   ]
  },
  {
   "cell_type": "code",
   "execution_count": null,
   "id": "08a5f5b5-6084-4f64-addd-e7a1c9afd917",
   "metadata": {},
   "outputs": [],
   "source": [
    "df_sum = df.copy()\n",
    "df_sum.iloc[:, 3] = df_sum.iloc[:, 3:].sum(axis=1)\n",
    "df_sum.drop(df_sum.iloc[:, 7:], inplace=True, axis=1)\n",
    "df_sum.rename(columns={0: \"0\", 1: \"1\", 2: \"2\", 3: \"3+}, inplace=True)\n",
    "pro = df_sum.div(df_sum.sum(axis=1), axis=0)\n",
    "pro"
   ]
  },
  {
   "cell_type": "code",
   "execution_count": null,
   "id": "1c4c1ad8-57da-4d24-973e-5f7fddf4f4a1",
   "metadata": {},
   "outputs": [],
   "source": [
    "plt.figure(figsize=(10, 4))\n",
    "p4 = plt.bar(pro.index, pro[\"0\"],bottom=(pro[\"3+\"] + pro[\"2\"] + pro[\"1\"]), width=1.0, label=\"0\")\n",
    "p3 = plt.bar(pro.index, pro[\"1\"],bottom=(pro[\"3+\"] + pro[\"2\"]), width=1.0, label=\"1\")\n",
    "p2 = plt.bar(pro.index, pro[\"2\"],bottom=pro[\"3+\"], width=1.0, label=\"2\")\n",
    "p1 = plt.bar(pro.index, pro[\"3+\"], width=1.0, label=\"3+\")\n",
    "plt.gca().legend(title=\"Number of\\nrecombinants\\nin ancestry\")\n",
    "plt.gca().invert_xaxis()\n",
    "plt.xlabel(f\"Days before {base_sc2_time}\")\n",
    "plt.ylabel(f\"Daily proportion of samples\")\n"
   ]
  },
  {
   "cell_type": "code",
   "execution_count": null,
   "id": "339cf181-eea0-41be-8aee-5f9a74b5b709",
   "metadata": {},
   "outputs": [],
   "source": []
  },
  {
   "cell_type": "code",
   "execution_count": null,
   "id": "6c172a5f-f389-47d5-80e8-1d8beca6eebf",
   "metadata": {},
   "outputs": [],
   "source": []
  },
  {
   "cell_type": "code",
   "execution_count": null,
   "id": "531e6388-ae57-4592-bb2a-6e9c6d5749b3",
   "metadata": {},
   "outputs": [],
   "source": []
  },
  {
   "cell_type": "code",
   "execution_count": null,
   "id": "d1996566-a0e5-4e44-825e-37eefcebbf1a",
   "metadata": {},
   "outputs": [],
   "source": []
  },
  {
   "cell_type": "code",
   "execution_count": null,
   "id": "942a7b91-262e-463a-9493-8cc62881e17f",
   "metadata": {},
   "outputs": [],
   "source": []
  },
  {
   "cell_type": "code",
   "execution_count": null,
   "id": "8eb171db-b1ab-4312-bf9b-9b7410913a95",
   "metadata": {},
   "outputs": [],
   "source": []
  }
 ],
 "metadata": {
  "kernelspec": {
   "display_name": "Python 3 (ipykernel)",
   "language": "python",
   "name": "python3"
  },
  "language_info": {
   "codemirror_mode": {
    "name": "ipython",
    "version": 3
   },
   "file_extension": ".py",
   "mimetype": "text/x-python",
   "name": "python",
   "nbconvert_exporter": "python",
   "pygments_lexer": "ipython3",
   "version": "3.10.8"
  }
 },
 "nbformat": 4,
 "nbformat_minor": 5
}
