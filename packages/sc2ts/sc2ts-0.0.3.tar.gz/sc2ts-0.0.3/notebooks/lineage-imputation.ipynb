{
 "cells": [
  {
   "cell_type": "markdown",
   "id": "498996a6",
   "metadata": {},
   "source": [
    "# Imputing lineages for reconstructed internal nodes"
   ]
  },
  {
   "cell_type": "code",
   "execution_count": 1,
   "id": "06dc368e",
   "metadata": {},
   "outputs": [],
   "source": [
    "import tskit\n",
    "import tszip\n",
    "import pandas as pd\n",
    "import tqdm\n",
    "\n",
    "import sys\n",
    "sys.path.append(\"../\")\n",
    "import sc2ts.utils\n",
    "import sc2ts.lineages"
   ]
  },
  {
   "cell_type": "code",
   "execution_count": 2,
   "id": "26f1cf95",
   "metadata": {},
   "outputs": [
    {
     "name": "stderr",
     "output_type": "stream",
     "text": [
      "Counting descendants : 100%|███████████████████████████████████████| 783231/783231 [00:00<00:00, 3460493.66it/s]\n",
      "Indexing metadata    : 100%|█████████████████████████████████████████| 783231/783231 [00:08<00:00, 93027.58it/s]\n",
      "Classifying mutations: 100%|██████████████████████████████████████| 1062072/1062072 [00:07<00:00, 142610.22it/s]\n",
      "Counting descendants : 100%|█████████████████████████████████████| 1453347/1453347 [00:00<00:00, 3336969.57it/s]\n",
      "Indexing metadata    : 100%|███████████████████████████████████████| 1453347/1453347 [00:16<00:00, 87669.72it/s]\n",
      "Classifying mutations: 100%|██████████████████████████████████████| 1213193/1213193 [00:08<00:00, 141461.46it/s]\n"
     ]
    }
   ],
   "source": [
    "ts_long_path = \"../../sc2ts_ts/upgma-mds-1000-md-30-mm-3-2022-06-30-recinfo\"\n",
    "ts_wide_path = \"../../sc2ts_ts/upgma-full-md-30-mm-3-2021-06-30-recinfo\"\n",
    "ts_long = tszip.decompress(ts_long_path + \"-il.ts.tsz\")\n",
    "ts_wide = tszip.decompress(ts_wide_path + \"-il.ts.tsz\")\n",
    "ti_long = sc2ts.utils.TreeInfo(ts_long)\n",
    "ti_wide = sc2ts.utils.TreeInfo(ts_wide)\n",
    "mutations_json_filepath = \"../../sc2ts_ts/consensus_mutations.json\"\n",
    "gisaid_metadata_filepath = \"../../sc2ts_ts/metadata_tsv_2023_03_09/metadata.tsv\""
   ]
  },
  {
   "cell_type": "markdown",
   "id": "4367b112",
   "metadata": {},
   "source": [
    "# GISAID vs Nextclade lineage comparison"
   ]
  },
  {
   "cell_type": "code",
   "execution_count": 3,
   "id": "77546779",
   "metadata": {},
   "outputs": [
    {
     "name": "stderr",
     "output_type": "stream",
     "text": [
      "/var/folders/6m/05k8jk1s03q36gn2syqp87m80000gs/T/ipykernel_2688/3177304272.py:1: DtypeWarning: Columns (18) have mixed types. Specify dtype option on import or set low_memory=False.\n",
      "  md = pd.read_table(gisaid_metadata_filepath)\n"
     ]
    }
   ],
   "source": [
    "md = pd.read_table(gisaid_metadata_filepath)"
   ]
  },
  {
   "cell_type": "code",
   "execution_count": 4,
   "id": "c1c93bfc",
   "metadata": {},
   "outputs": [],
   "source": [
    "gisaid_data = [(x,y) for x, y in zip(md['Accession ID'], md['Pango lineage'])]"
   ]
  },
  {
   "cell_type": "code",
   "execution_count": 5,
   "id": "d3004341",
   "metadata": {},
   "outputs": [],
   "source": [
    "linmuts_dict = sc2ts.lineages.read_in_mutations(mutations_json_filepath)"
   ]
  },
  {
   "cell_type": "code",
   "execution_count": 6,
   "id": "cb061202",
   "metadata": {},
   "outputs": [
    {
     "name": "stderr",
     "output_type": "stream",
     "text": [
      "100%|███████████████████████████████████████████████████████████| 15115274/15115274 [00:15<00:00, 982823.61it/s]\n"
     ]
    },
    {
     "name": "stdout",
     "output_type": "stream",
     "text": [
      "ts number of samples: 657239\n",
      "number matched to gisaid data: 657168\n",
      "number of differences: 46311\n",
      "proportion: 0.0704705646044847\n",
      "Filling in missing GISAID lineages with Nextclade lineages: 185\n"
     ]
    }
   ],
   "source": [
    "ts_long_gisaid = sc2ts.utils.check_lineages(\n",
    "    ts_long,\n",
    "    ti_long,\n",
    "    gisaid_data,\n",
    "    linmuts_dict,\n",
    "    diff_filehandle='../../sc2ts_ts/lineage_disagreement_long',\n",
    ")"
   ]
  },
  {
   "cell_type": "code",
   "execution_count": 7,
   "id": "1f9f99dc",
   "metadata": {
    "scrolled": true
   },
   "outputs": [
    {
     "name": "stderr",
     "output_type": "stream",
     "text": [
      "100%|███████████████████████████████████████████████████████████| 15115274/15115274 [00:21<00:00, 715844.46it/s]\n"
     ]
    },
    {
     "name": "stdout",
     "output_type": "stream",
     "text": [
      "ts number of samples: 1265685\n",
      "number matched to gisaid data: 1265683\n",
      "number of differences: 65677\n",
      "proportion: 0.05189056027457112\n",
      "Filling in missing GISAID lineages with Nextclade lineages: 0\n"
     ]
    }
   ],
   "source": [
    "ts_wide_gisaid = sc2ts.utils.check_lineages(\n",
    "    ts_wide,\n",
    "    ti_wide,\n",
    "    gisaid_data,\n",
    "    linmuts_dict,\n",
    "    diff_filehandle='../../sc2ts_ts/lineage_disagreement_wide',\n",
    ")"
   ]
  },
  {
   "cell_type": "markdown",
   "id": "bd69bb4f",
   "metadata": {},
   "source": [
    "# ts lineage imputation"
   ]
  },
  {
   "cell_type": "code",
   "execution_count": 8,
   "id": "3930d1da",
   "metadata": {},
   "outputs": [
    {
     "name": "stdout",
     "output_type": "stream",
     "text": [
      "Recording relevant mutations for each node...\n"
     ]
    },
    {
     "data": {
      "application/vnd.jupyter.widget-view+json": {
       "model_id": "cee29a41d6a04870a7e1c5c35e153b6a",
       "version_major": 2,
       "version_minor": 0
      },
      "text/plain": [
       "  0%|          | 0/1062072 [00:00<?, ?it/s]"
      ]
     },
     "metadata": {},
     "output_type": "display_data"
    },
    {
     "name": "stdout",
     "output_type": "stream",
     "text": [
      "Inferring lineages...\n"
     ]
    },
    {
     "data": {
      "application/vnd.jupyter.widget-view+json": {
       "model_id": "f323804040a74309b9fd1418b5701e94",
       "version_major": 2,
       "version_minor": 0
      },
      "text/plain": [
       "  0%|          | 0/781152 [00:00<?, ?it/s]"
      ]
     },
     "metadata": {},
     "output_type": "display_data"
    },
    {
     "name": "stdout",
     "output_type": "stream",
     "text": [
      "------------------------------\n",
      "Sample nodes imputed: 657239 out of possible 657239\n",
      "Internal nodes imputed: 123914 out of possible 123914\n",
      "Total imputed: 781153 out of possible 781153\n",
      "Number of recombinants (not imputed): 2078\n",
      "------------------------------\n",
      "Correctly imputed samples: 639658 ( 97.789 % )\n",
      "Incorrectly imputed samples: 14460 ( 2.211 % )\n",
      "Imputed using inheritance: 518270 ( 66.347 % ) decision tree: 262883 ( 33.653 % )\n",
      "------------------------------\n",
      "Time: 328.4449107646942\n",
      "Inferring lineages...\n"
     ]
    },
    {
     "data": {
      "application/vnd.jupyter.widget-view+json": {
       "model_id": "4b29f820270c4dcbb550d2b94bced052",
       "version_major": 2,
       "version_minor": 0
      },
      "text/plain": [
       "  0%|          | 0/781152 [00:00<?, ?it/s]"
      ]
     },
     "metadata": {},
     "output_type": "display_data"
    },
    {
     "name": "stdout",
     "output_type": "stream",
     "text": [
      "------------------------------\n",
      "Sample nodes imputed: 657205 out of possible 657239\n",
      "Internal nodes imputed: 123948 out of possible 123914\n",
      "Total imputed: 781153 out of possible 781153\n",
      "Number of recombinants (not imputed): 2078\n",
      "------------------------------\n",
      "Correctly imputed samples: 634978 ( 97.084 % )\n",
      "Incorrectly imputed samples: 19070 ( 2.916 % )\n",
      "Imputed using inheritance: 518268 ( 66.347 % ) decision tree: 262885 ( 33.653 % )\n",
      "------------------------------\n",
      "Time: 355.47603726387024\n"
     ]
    }
   ],
   "source": [
    "edited_ts_long = sc2ts.utils.lineage_imputation(\n",
    "    mutations_json_filepath,\n",
    "    ts_long_gisaid, \n",
    "    ti_long,\n",
    "    internal_only=False,\n",
    "    verbose=False\n",
    ")"
   ]
  },
  {
   "cell_type": "code",
   "execution_count": 9,
   "id": "23b6e9a7",
   "metadata": {},
   "outputs": [],
   "source": [
    "edited_ts_long.dump(ts_long_path + \"-gisaid-il.ts\")\n",
    "tszip.compress(edited_ts_long, ts_long_path + \"-gisaid-il.ts.tsz\")"
   ]
  },
  {
   "cell_type": "code",
   "execution_count": 10,
   "id": "f3369f8a",
   "metadata": {},
   "outputs": [
    {
     "name": "stdout",
     "output_type": "stream",
     "text": [
      "0.9398057019493301\n"
     ]
    }
   ],
   "source": [
    "correct = total = 0\n",
    "for node in edited_ts_long.nodes():\n",
    "    if 'GISAID_lineage' not in node.metadata and 'Imputed_GISAID_lineage' in node.metadata and 'Nextclade_pango' not in node.metadata and 'Imputed_Nextclade_pango' in node.metadata:\n",
    "        if node.metadata['Imputed_GISAID_lineage'] == node.metadata['Imputed_Nextclade_pango']:\n",
    "            correct += 1\n",
    "        total += 1\n",
    "print(correct/total)"
   ]
  },
  {
   "cell_type": "code",
   "execution_count": 11,
   "id": "3907aca2",
   "metadata": {},
   "outputs": [
    {
     "name": "stdout",
     "output_type": "stream",
     "text": [
      "Recording relevant mutations for each node...\n"
     ]
    },
    {
     "data": {
      "application/vnd.jupyter.widget-view+json": {
       "model_id": "0a4f818c20eb491aadebb2c7fdedaad3",
       "version_major": 2,
       "version_minor": 0
      },
      "text/plain": [
       "  0%|          | 0/1213193 [00:00<?, ?it/s]"
      ]
     },
     "metadata": {},
     "output_type": "display_data"
    },
    {
     "name": "stdout",
     "output_type": "stream",
     "text": [
      "Inferring lineages...\n"
     ]
    },
    {
     "data": {
      "application/vnd.jupyter.widget-view+json": {
       "model_id": "3b953a4c4f0d4a3b9204898f7b0e1cfc",
       "version_major": 2,
       "version_minor": 0
      },
      "text/plain": [
       "  0%|          | 0/1449223 [00:00<?, ?it/s]"
      ]
     },
     "metadata": {},
     "output_type": "display_data"
    },
    {
     "name": "stdout",
     "output_type": "stream",
     "text": [
      "------------------------------\n",
      "Sample nodes imputed: 1265685 out of possible 1265685\n",
      "Internal nodes imputed: 183539 out of possible 183539\n",
      "Total imputed: 1449224 out of possible 1449224\n",
      "Number of recombinants (not imputed): 4123\n",
      "------------------------------\n",
      "Correctly imputed samples: 1250162 ( 99.203 % )\n",
      "Incorrectly imputed samples: 10045 ( 0.797 % )\n",
      "Imputed using inheritance: 1160067 ( 80.047 % ) decision tree: 289157 ( 19.953 % )\n",
      "------------------------------\n",
      "Time: 545.9626221656799\n",
      "Inferring lineages...\n"
     ]
    },
    {
     "data": {
      "application/vnd.jupyter.widget-view+json": {
       "model_id": "970bd399175146098828e2ebeeeda576",
       "version_major": 2,
       "version_minor": 0
      },
      "text/plain": [
       "  0%|          | 0/1449223 [00:00<?, ?it/s]"
      ]
     },
     "metadata": {},
     "output_type": "display_data"
    },
    {
     "name": "stdout",
     "output_type": "stream",
     "text": [
      "------------------------------\n",
      "Sample nodes imputed: 1265685 out of possible 1265685\n",
      "Internal nodes imputed: 183539 out of possible 183539\n",
      "Total imputed: 1449224 out of possible 1449224\n",
      "Number of recombinants (not imputed): 4123\n",
      "------------------------------\n",
      "Correctly imputed samples: 1244789 ( 98.777 % )\n",
      "Incorrectly imputed samples: 15416 ( 1.223 % )\n",
      "Imputed using inheritance: 1160067 ( 80.047 % ) decision tree: 289157 ( 19.953 % )\n",
      "------------------------------\n",
      "Time: 561.4245040416718\n"
     ]
    }
   ],
   "source": [
    "edited_ts_wide = sc2ts.utils.lineage_imputation(\n",
    "    mutations_json_filepath,\n",
    "    ts_wide_gisaid, \n",
    "    ti_wide,\n",
    "    internal_only=False,\n",
    "    verbose=False\n",
    ")"
   ]
  },
  {
   "cell_type": "code",
   "execution_count": 12,
   "id": "ac0fe662",
   "metadata": {},
   "outputs": [],
   "source": [
    "edited_ts_wide.dump(ts_wide_path + \"-gisaid-il.ts\")\n",
    "tszip.compress(edited_ts_wide, ts_wide_path + \"-gisaid-il.ts.tsz\")"
   ]
  },
  {
   "cell_type": "code",
   "execution_count": 13,
   "id": "d1ab97f9",
   "metadata": {},
   "outputs": [
    {
     "name": "stdout",
     "output_type": "stream",
     "text": [
      "0.94598267097228\n"
     ]
    }
   ],
   "source": [
    "correct = total = 0\n",
    "for node in edited_ts_wide.nodes():\n",
    "    if 'GISAID_lineage' not in node.metadata and 'Imputed_GISAID_lineage' in node.metadata and 'Nextclade_pango' not in node.metadata and 'Imputed_Nextclade_pango' in node.metadata:\n",
    "        if node.metadata['Imputed_GISAID_lineage'] == node.metadata['Imputed_Nextclade_pango']:\n",
    "            correct += 1\n",
    "        total += 1\n",
    "print(correct/total)"
   ]
  }
 ],
 "metadata": {
  "kernelspec": {
   "display_name": "Python 3 (ipykernel)",
   "language": "python",
   "name": "python3"
  },
  "language_info": {
   "codemirror_mode": {
    "name": "ipython",
    "version": 3
   },
   "file_extension": ".py",
   "mimetype": "text/x-python",
   "name": "python",
   "nbconvert_exporter": "python",
   "pygments_lexer": "ipython3",
   "version": "3.10.5"
  }
 },
 "nbformat": 4,
 "nbformat_minor": 5
}
