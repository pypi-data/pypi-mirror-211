{
 "cells": [
  {
   "cell_type": "code",
   "execution_count": 139,
   "id": "865a70dc-1ed8-45e4-8151-cff99e7dfee4",
   "metadata": {},
   "outputs": [],
   "source": [
    "from explore_network import *"
   ]
  },
  {
   "cell_type": "code",
   "execution_count": 10,
   "id": "3fc99e72-877f-4204-a971-e37310f9bf3f",
   "metadata": {},
   "outputs": [],
   "source": [
    "import os\n",
    "import sys\n",
    "\n",
    "import numpy\n",
    "import yaml\n",
    "from fractions import Fraction\n",
    "\n",
    "from multixrank import logger_setup, constants\n",
    "from multixrank.BipartiteAll import BipartiteAll\n",
    "from multixrank.Bipartite import Bipartite\n",
    "from multixrank.MultiplexAll import MultiplexAll\n",
    "from multixrank.Multiplex import Multiplex\n",
    "from multixrank.MultiplexLayer import MultiplexLayer\n",
    "from multixrank.ParameterEta import ParameterEta\n",
    "from multixrank.ParameterLambda import ParameterLambda\n",
    "from multixrank.Parameters import Parameters\n",
    "from multixrank.Seed import Seed\n",
    "from multixrank.logger_setup import logger"
   ]
  },
  {
   "cell_type": "code",
   "execution_count": 106,
   "id": "751086a4-845a-4815-a923-560085d83588",
   "metadata": {},
   "outputs": [
    {
     "data": {
      "text/plain": [
       "['source', 'target']"
      ]
     },
     "execution_count": 106,
     "metadata": {},
     "output_type": "execute_result"
    }
   ],
   "source": [
    "name_lst"
   ]
  },
  {
   "cell_type": "code",
   "execution_count": 117,
   "id": "2dfea3f9-49de-41ba-b269-fa89e5c91e32",
   "metadata": {},
   "outputs": [],
   "source": [
    "layer_obj.abspath = layer_obj.abspath+'.tsv'"
   ]
  },
  {
   "cell_type": "code",
   "execution_count": 129,
   "id": "6ed38929-a9bc-424d-9306-3765419278b3",
   "metadata": {},
   "outputs": [
    {
     "data": {
      "text/html": [
       "<div>\n",
       "<style scoped>\n",
       "    .dataframe tbody tr th:only-of-type {\n",
       "        vertical-align: middle;\n",
       "    }\n",
       "\n",
       "    .dataframe tbody tr th {\n",
       "        vertical-align: top;\n",
       "    }\n",
       "\n",
       "    .dataframe thead th {\n",
       "        text-align: right;\n",
       "    }\n",
       "</style>\n",
       "<table border=\"1\" class=\"dataframe\">\n",
       "  <thead>\n",
       "    <tr style=\"text-align: right;\">\n",
       "      <th></th>\n",
       "      <th>5</th>\n",
       "      <th>6</th>\n",
       "    </tr>\n",
       "  </thead>\n",
       "  <tbody>\n",
       "    <tr>\n",
       "      <th>0</th>\n",
       "      <td>7</td>\n",
       "      <td>8</td>\n",
       "    </tr>\n",
       "    <tr>\n",
       "      <th>1</th>\n",
       "      <td>5</td>\n",
       "      <td>8</td>\n",
       "    </tr>\n",
       "  </tbody>\n",
       "</table>\n",
       "</div>"
      ],
      "text/plain": [
       "   5  6\n",
       "0  7  8\n",
       "1  5  8"
      ]
     },
     "execution_count": 129,
     "metadata": {},
     "output_type": "execute_result"
    }
   ],
   "source": [
    "pd.read_csv(layer_obj.abspath,  sep=\"\\t\")"
   ]
  },
  {
   "cell_type": "code",
   "execution_count": 141,
   "id": "45123431-b56b-409d-957d-3fd8b696459b",
   "metadata": {},
   "outputs": [
    {
     "data": {
      "text/plain": [
       "<networkx.classes.graph.Graph at 0x7fcf638192d0>"
      ]
     },
     "execution_count": 141,
     "metadata": {},
     "output_type": "execute_result"
    }
   ],
   "source": [
    "name_lst = ['source', 'target']  # layer file column labels\n",
    "dtype_dic = dict(zip(name_lst, [str]*len(name_lst)))\n",
    "\n",
    "# unweighted vs weighted ######################################\n",
    "edge_attr = ['network_key']\n",
    "usecols = [0, 1]  # two cols like in unweighted\n",
    "layer_obj.networkx"
   ]
  },
  {
   "cell_type": "code",
   "execution_count": 16,
   "id": "aa549fc1-dbbd-4e62-af8d-cab8c06661ae",
   "metadata": {},
   "outputs": [],
   "source": [
    "import os"
   ]
  },
  {
   "cell_type": "code",
   "execution_count": 44,
   "id": "3dd45a56-41e4-4a38-90ee-fcaea632fc32",
   "metadata": {},
   "outputs": [],
   "source": [
    "os.chdir('data/example')"
   ]
  },
  {
   "cell_type": "code",
   "execution_count": 140,
   "id": "98a87c46-21ce-48c1-892a-cc707c5ac7df",
   "metadata": {},
   "outputs": [
    {
     "data": {
      "text/plain": [
       "'/home/rtrimbou/HuMMuS/hummus_package/data/example'"
      ]
     },
     "execution_count": 140,
     "metadata": {},
     "output_type": "execute_result"
    }
   ],
   "source": [
    "os.getcwd()"
   ]
  },
  {
   "cell_type": "code",
   "execution_count": 58,
   "id": "c41a908f-f03e-4a1d-ba9a-26b1ce850e14",
   "metadata": {},
   "outputs": [
    {
     "name": "stdout",
     "output_type": "stream",
     "text": [
      "Name: networkx\n",
      "Version: 2.5\n",
      "Summary: Python package for creating and manipulating graphs and networks\n",
      "Home-page: http://networkx.github.io/\n",
      "Author: Aric Hagberg\n",
      "Author-email: hagberg@lanl.gov\n",
      "License: UNKNOWN\n",
      "Location: /home/rtrimbou/miniconda3/lib/python3.10/site-packages\n",
      "Requires: decorator\n",
      "Required-by: multixrank\n",
      "Note: you may need to restart the kernel to use updated packages.\n"
     ]
    }
   ],
   "source": [
    "pip show networkx"
   ]
  },
  {
   "cell_type": "code",
   "execution_count": null,
   "id": "ba4dd8d1-73c1-4805-ad56-5f76cc1545a4",
   "metadata": {},
   "outputs": [],
   "source": []
  }
 ],
 "metadata": {
  "kernelspec": {
   "display_name": "Python 3 (ipykernel)",
   "language": "python",
   "name": "python3"
  },
  "language_info": {
   "codemirror_mode": {
    "name": "ipython",
    "version": 3
   },
   "file_extension": ".py",
   "mimetype": "text/x-python",
   "name": "python",
   "nbconvert_exporter": "python",
   "pygments_lexer": "ipython3",
   "version": "3.10.9"
  }
 },
 "nbformat": 4,
 "nbformat_minor": 5
}
