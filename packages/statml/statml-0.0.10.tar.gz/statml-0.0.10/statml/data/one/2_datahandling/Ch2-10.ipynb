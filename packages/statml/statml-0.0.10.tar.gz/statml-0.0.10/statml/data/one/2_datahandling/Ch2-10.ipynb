{
 "cells": [
  {
   "cell_type": "code",
   "execution_count": null,
   "metadata": {
    "colab": {
     "base_uri": "https://localhost:8080/"
    },
    "executionInfo": {
     "elapsed": 924,
     "status": "ok",
     "timestamp": 1650722016184,
     "user": {
      "displayName": "양여진",
      "userId": "00702759979750743808"
     },
     "user_tz": -540
    },
    "id": "1Kh0AooWstlg",
    "outputId": "d62d9713-0be2-4053-be89-b1e52a3c769f"
   },
   "outputs": [],
   "source": [
    "import pandas as pd\n",
    "landmark = pd.DataFrame({'name':['광화문','호미곶', '첨성대'], \n",
    "                         'location':['서울 종로구 사직로 161', \n",
    "                                     '경북 포항시 남구 호미곶면 대보리 150',\n",
    "                                     '경북 경주시 인왕동 839-1']})\n",
    "landmark['location'].str[3:6]"
   ]
  },
  {
   "cell_type": "code",
   "execution_count": null,
   "metadata": {
    "colab": {
     "base_uri": "https://localhost:8080/",
     "height": 143
    },
    "executionInfo": {
     "elapsed": 45,
     "status": "ok",
     "timestamp": 1650722016187,
     "user": {
      "displayName": "양여진",
      "userId": "00702759979750743808"
     },
     "user_tz": -540
    },
    "id": "bcsfvI-Hstln",
    "outputId": "fc7af077-f1a5-4383-89a2-addf4523b549"
   },
   "outputs": [],
   "source": [
    "landmark['location'].str.split(\" \", expand=True)"
   ]
  },
  {
   "cell_type": "code",
   "execution_count": null,
   "metadata": {
    "colab": {
     "base_uri": "https://localhost:8080/",
     "height": 143
    },
    "executionInfo": {
     "elapsed": 44,
     "status": "ok",
     "timestamp": 1650722016189,
     "user": {
      "displayName": "양여진",
      "userId": "00702759979750743808"
     },
     "user_tz": -540
    },
    "id": "IiZyilIMstlo",
    "outputId": "df811735-bd8c-443a-9dfb-c432f72a9c0f"
   },
   "outputs": [],
   "source": [
    "landmark['loc_1'] = landmark['location'].str.split(\" \").str[0]\n",
    "landmark"
   ]
  },
  {
   "cell_type": "code",
   "execution_count": null,
   "metadata": {
    "colab": {
     "base_uri": "https://localhost:8080/"
    },
    "executionInfo": {
     "elapsed": 45,
     "status": "ok",
     "timestamp": 1650722016191,
     "user": {
      "displayName": "양여진",
      "userId": "00702759979750743808"
     },
     "user_tz": -540
    },
    "id": "ewpY4l0Ustlp",
    "outputId": "c5f5e3f9-61ac-42cc-d0e3-2fee44b29cf4"
   },
   "outputs": [],
   "source": [
    "landmark['location'].str.startswith('서울')"
   ]
  },
  {
   "cell_type": "code",
   "execution_count": null,
   "metadata": {
    "colab": {
     "base_uri": "https://localhost:8080/"
    },
    "executionInfo": {
     "elapsed": 45,
     "status": "ok",
     "timestamp": 1650722016194,
     "user": {
      "displayName": "양여진",
      "userId": "00702759979750743808"
     },
     "user_tz": -540
    },
    "id": "AOBq_8l_stlq",
    "outputId": "ff1ba1b9-8511-473e-817d-61f7b90fc1cb"
   },
   "outputs": [],
   "source": [
    "landmark['location'].str.endswith('1')"
   ]
  },
  {
   "cell_type": "code",
   "execution_count": null,
   "metadata": {
    "colab": {
     "base_uri": "https://localhost:8080/"
    },
    "executionInfo": {
     "elapsed": 46,
     "status": "ok",
     "timestamp": 1650722016196,
     "user": {
      "displayName": "양여진",
      "userId": "00702759979750743808"
     },
     "user_tz": -540
    },
    "id": "EHfVkvZestlr",
    "outputId": "64445be5-cd5d-4e81-da2d-3de2fda90c54"
   },
   "outputs": [],
   "source": [
    "landmark['location'].str.contains('1')"
   ]
  }
 ],
 "metadata": {
  "colab": {
   "name": "Ch2-10.ipynb",
   "provenance": []
  },
  "kernelspec": {
   "display_name": "Python 3 (ipykernel)",
   "language": "python",
   "name": "python3"
  },
  "language_info": {
   "codemirror_mode": {
    "name": "ipython",
    "version": 3
   },
   "file_extension": ".py",
   "mimetype": "text/x-python",
   "name": "python",
   "nbconvert_exporter": "python",
   "pygments_lexer": "ipython3",
   "version": "3.7.16"
  }
 },
 "nbformat": 4,
 "nbformat_minor": 2
}
