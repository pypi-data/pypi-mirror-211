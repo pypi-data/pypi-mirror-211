{
 "cells": [
  {
   "cell_type": "code",
   "execution_count": null,
   "id": "851388d3",
   "metadata": {
    "colab": {
     "base_uri": "https://localhost:8080/",
     "height": 237
    },
    "executionInfo": {
     "elapsed": 323,
     "status": "ok",
     "timestamp": 1650721414164,
     "user": {
      "displayName": "양여진",
      "userId": "00702759979750743808"
     },
     "user_tz": -540
    },
    "id": "bzgwxGECqZjX",
    "outputId": "8de8f626-d444-447c-d647-683d5fcabf36"
   },
   "outputs": [],
   "source": [
    "import pandas as pd\n",
    "\n",
    "score = {'학년':[1, 1, 1, 1, 2, 2], \n",
    "         '반':['A', 'A', 'B', 'B', 'C', 'C'], \n",
    "         '성별':['여자', '남자', '여자', '남자', '여자', '남자'],\n",
    "         '성적': [76, 88, 85, 72, 68, 70]}\n",
    "\n",
    "score = pd.DataFrame(score)\n",
    "score"
   ]
  },
  {
   "cell_type": "code",
   "execution_count": null,
   "id": "d7149f05",
   "metadata": {
    "colab": {
     "base_uri": "https://localhost:8080/",
     "height": 175
    },
    "executionInfo": {
     "elapsed": 551,
     "status": "ok",
     "timestamp": 1650721414703,
     "user": {
      "displayName": "양여진",
      "userId": "00702759979750743808"
     },
     "user_tz": -540
    },
    "id": "25O6BJbOqZjd",
    "outputId": "0ad9127e-a6ab-4371-890e-9704fde58163"
   },
   "outputs": [],
   "source": [
    "score = score.pivot_table(index=['학년', '반'], columns='성별', values='성적')\n",
    "score"
   ]
  },
  {
   "cell_type": "code",
   "execution_count": null,
   "id": "39652e00",
   "metadata": {
    "colab": {
     "base_uri": "https://localhost:8080/",
     "height": 237
    },
    "executionInfo": {
     "elapsed": 49,
     "status": "ok",
     "timestamp": 1650721414709,
     "user": {
      "displayName": "양여진",
      "userId": "00702759979750743808"
     },
     "user_tz": -540
    },
    "id": "GcNOhrkbqZjf",
    "outputId": "e909b4c6-db3c-4145-adb8-d959c67231e8"
   },
   "outputs": [],
   "source": [
    "score.reset_index().melt(id_vars=['학년','반'], var_name='성별', value_name='성적')"
   ]
  },
  {
   "cell_type": "code",
   "execution_count": null,
   "id": "71392727",
   "metadata": {
    "colab": {
     "base_uri": "https://localhost:8080/",
     "height": 175
    },
    "executionInfo": {
     "elapsed": 49,
     "status": "ok",
     "timestamp": 1650721414713,
     "user": {
      "displayName": "양여진",
      "userId": "00702759979750743808"
     },
     "user_tz": -540
    },
    "id": "J6nP-AU0qZjg",
    "outputId": "c36afeee-952b-4a3b-d411-9a20ce7ea3f3"
   },
   "outputs": [],
   "source": [
    "import numpy as np\n",
    "score.apply(np.sqrt, axis=0)"
   ]
  },
  {
   "cell_type": "code",
   "execution_count": null,
   "id": "ac0f4ab0",
   "metadata": {
    "colab": {
     "base_uri": "https://localhost:8080/"
    },
    "executionInfo": {
     "elapsed": 49,
     "status": "ok",
     "timestamp": 1650721414715,
     "user": {
      "displayName": "양여진",
      "userId": "00702759979750743808"
     },
     "user_tz": -540
    },
    "id": "6z0yhgBtqZjh",
    "outputId": "5cc98d84-f3af-4d2d-bbed-eb92863c35fe"
   },
   "outputs": [],
   "source": [
    "score.apply(np.max, axis=0)"
   ]
  },
  {
   "cell_type": "code",
   "execution_count": null,
   "id": "0afad904",
   "metadata": {
    "colab": {
     "base_uri": "https://localhost:8080/",
     "height": 175
    },
    "executionInfo": {
     "elapsed": 48,
     "status": "ok",
     "timestamp": 1650721414716,
     "user": {
      "displayName": "양여진",
      "userId": "00702759979750743808"
     },
     "user_tz": -540
    },
    "id": "W0YzrOKmqZji",
    "outputId": "67cc7b3c-371d-4538-a24b-d641eacbaa10"
   },
   "outputs": [],
   "source": [
    "def plus_five(val):\n",
    "    return val + 5\n",
    "\n",
    "score.apply(plus_five)"
   ]
  },
  {
   "cell_type": "code",
   "execution_count": null,
   "id": "1a148765",
   "metadata": {
    "colab": {
     "base_uri": "https://localhost:8080/"
    },
    "executionInfo": {
     "elapsed": 49,
     "status": "ok",
     "timestamp": 1650721414718,
     "user": {
      "displayName": "양여진",
      "userId": "00702759979750743808"
     },
     "user_tz": -540
    },
    "id": "F8Kh084EqZjj",
    "outputId": "d3f90451-60bb-45cf-f5ab-e9fbbbaf7522"
   },
   "outputs": [],
   "source": [
    "from math import ceil\n",
    "def class_avg(df):\n",
    "    return ceil((df['남자'] + df['여자'])/2)\n",
    "\n",
    "score.apply(class_avg, axis=1)"
   ]
  },
  {
   "cell_type": "code",
   "execution_count": null,
   "id": "d938c8fc",
   "metadata": {
    "colab": {
     "base_uri": "https://localhost:8080/"
    },
    "executionInfo": {
     "elapsed": 47,
     "status": "ok",
     "timestamp": 1650721414719,
     "user": {
      "displayName": "양여진",
      "userId": "00702759979750743808"
     },
     "user_tz": -540
    },
    "id": "JzQPIpGMqZjk",
    "outputId": "9fae22b6-d6d1-4be2-a3d0-868dc6de262b"
   },
   "outputs": [],
   "source": [
    "score['남자'].map(lambda x: x + 5)"
   ]
  }
 ],
 "metadata": {
  "colab": {
   "name": "Ch2-8,9.ipynb",
   "provenance": []
  },
  "kernelspec": {
   "display_name": "Python 3 (ipykernel)",
   "language": "python",
   "name": "python3"
  },
  "language_info": {
   "codemirror_mode": {
    "name": "ipython",
    "version": 3
   },
   "file_extension": ".py",
   "mimetype": "text/x-python",
   "name": "python",
   "nbconvert_exporter": "python",
   "pygments_lexer": "ipython3",
   "version": "3.7.16"
  }
 },
 "nbformat": 4,
 "nbformat_minor": 5
}
