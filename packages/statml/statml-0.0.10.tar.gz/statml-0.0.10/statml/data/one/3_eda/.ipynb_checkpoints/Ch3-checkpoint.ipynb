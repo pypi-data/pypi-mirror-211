{
 "cells": [
  {
   "cell_type": "markdown",
   "metadata": {
    "id": "wYPpgRN5YCKl"
   },
   "source": [
    "## 2. Bar Plot & Histogram"
   ]
  },
  {
   "cell_type": "markdown",
   "metadata": {
    "id": "LnuXKLGcZrW-"
   },
   "source": [
    "### Bar Plot"
   ]
  },
  {
   "cell_type": "code",
   "execution_count": null,
   "metadata": {
    "colab": {
     "base_uri": "https://localhost:8080/"
    },
    "executionInfo": {
     "elapsed": 423,
     "status": "ok",
     "timestamp": 1645887955439,
     "user": {
      "displayName": "양여진",
      "photoUrl": "https://lh3.googleusercontent.com/a-/AOh14GiXC1CG0EkeV0kLYMoe646OJCoJKNOsysFSmU8eug=s64",
      "userId": "00702759979750743808"
     },
     "user_tz": -540
    },
    "id": "fsHPxGJSVV9M",
    "outputId": "0c98c90e-aaec-49c5-bfff-7bb3745695af"
   },
   "outputs": [],
   "source": [
    "import pandas as pd\n",
    "import matplotlib.pyplot as plt\n",
    "from sklearn.datasets import load_wine\n",
    "\n",
    "wine_load = load_wine()\n",
    "wine = pd.DataFrame(wine_load.data, columns=wine_load.feature_names)\n",
    "wine['Class'] = wine_load.target\n",
    "wine['Class'] = wine['Class'].map({0:'class_0', 1:'class_1', 2:'class_2'})\n",
    "wine_type = wine['Class'].value_counts()\n",
    "wine_type"
   ]
  },
  {
   "cell_type": "code",
   "execution_count": null,
   "metadata": {
    "colab": {
     "base_uri": "https://localhost:8080/",
     "height": 266
    },
    "executionInfo": {
     "elapsed": 335,
     "status": "ok",
     "timestamp": 1645887955769,
     "user": {
      "displayName": "양여진",
      "photoUrl": "https://lh3.googleusercontent.com/a-/AOh14GiXC1CG0EkeV0kLYMoe646OJCoJKNOsysFSmU8eug=s64",
      "userId": "00702759979750743808"
     },
     "user_tz": -540
    },
    "id": "tSoGZY33VV56",
    "outputId": "79c80b18-37f5-48e6-d6ef-ce329e85a596"
   },
   "outputs": [],
   "source": [
    "plt.bar(wine_type.index, wine_type.values,               # 데이터의 x, 높이\n",
    "        width = 0.8, bottom = None,        # 막대의 넓이와 막대 밑면의 y좌표\n",
    "        align = 'edge')        # 막대의 정렬\n",
    "plt.show()"
   ]
  },
  {
   "cell_type": "code",
   "execution_count": null,
   "metadata": {
    "colab": {
     "base_uri": "https://localhost:8080/",
     "height": 265
    },
    "executionInfo": {
     "elapsed": 10,
     "status": "ok",
     "timestamp": 1645887955770,
     "user": {
      "displayName": "양여진",
      "photoUrl": "https://lh3.googleusercontent.com/a-/AOh14GiXC1CG0EkeV0kLYMoe646OJCoJKNOsysFSmU8eug=s64",
      "userId": "00702759979750743808"
     },
     "user_tz": -540
    },
    "id": "oNl2AiZkKKUf",
    "outputId": "2a48ab51-7567-4b47-ee68-d923e36dcad3"
   },
   "outputs": [],
   "source": [
    "plt.barh(wine_type.index, wine_type.values, height = 0.8, left = None, align = 'edge')\n",
    "plt.show()"
   ]
  },
  {
   "cell_type": "markdown",
   "metadata": {
    "id": "L3_zKvBJdtUD"
   },
   "source": [
    "<br>\n",
    "\n",
    "### Histogram"
   ]
  },
  {
   "cell_type": "code",
   "execution_count": null,
   "metadata": {
    "colab": {
     "base_uri": "https://localhost:8080/",
     "height": 281
    },
    "executionInfo": {
     "elapsed": 380,
     "status": "ok",
     "timestamp": 1645887956141,
     "user": {
      "displayName": "양여진",
      "photoUrl": "https://lh3.googleusercontent.com/a-/AOh14GiXC1CG0EkeV0kLYMoe646OJCoJKNOsysFSmU8eug=s64",
      "userId": "00702759979750743808"
     },
     "user_tz": -540
    },
    "id": "0Zx4PA1wdt_S",
    "outputId": "3fedacd0-2eb9-41bb-c639-1b1620d4aa16"
   },
   "outputs": [],
   "source": [
    "plt.title('Wine alcohol histogram')\n",
    "plt.hist('alcohol', bins = 8, range = (11, 15), color='purple', data = wine)\n",
    "plt.show()"
   ]
  },
  {
   "cell_type": "markdown",
   "metadata": {
    "id": "iNGiq3qwN-Do"
   },
   "source": [
    "## 3. Box plot"
   ]
  },
  {
   "cell_type": "code",
   "execution_count": null,
   "metadata": {
    "executionInfo": {
     "elapsed": 23,
     "status": "ok",
     "timestamp": 1645887956144,
     "user": {
      "displayName": "양여진",
      "photoUrl": "https://lh3.googleusercontent.com/a-/AOh14GiXC1CG0EkeV0kLYMoe646OJCoJKNOsysFSmU8eug=s64",
      "userId": "00702759979750743808"
     },
     "user_tz": -540
    },
    "id": "fW_BqwdnN-D1"
   },
   "outputs": [],
   "source": [
    "import pandas as pd\n",
    "from sklearn.datasets import load_iris\n",
    "\n",
    "iris = load_iris()\n",
    "iris = pd.DataFrame(iris.data, columns=iris.feature_names)\n",
    "iris['Class'] = load_iris().target\n",
    "iris['Class'] = iris['Class'].map({0:'Setosa', 1:'Versicolour', 2:'Virginica'})"
   ]
  },
  {
   "cell_type": "code",
   "execution_count": null,
   "metadata": {
    "colab": {
     "base_uri": "https://localhost:8080/",
     "height": 265
    },
    "executionInfo": {
     "elapsed": 458,
     "status": "ok",
     "timestamp": 1645887956581,
     "user": {
      "displayName": "양여진",
      "photoUrl": "https://lh3.googleusercontent.com/a-/AOh14GiXC1CG0EkeV0kLYMoe646OJCoJKNOsysFSmU8eug=s64",
      "userId": "00702759979750743808"
     },
     "user_tz": -540
    },
    "id": "QR1hzvhKTisS",
    "outputId": "1cc9342b-0aed-43e9-9a14-8ec00f6dd1b7"
   },
   "outputs": [],
   "source": [
    "iris.drop(columns='Class').plot(kind='box')\n",
    "plt.show()"
   ]
  },
  {
   "cell_type": "code",
   "execution_count": null,
   "metadata": {
    "colab": {
     "base_uri": "https://localhost:8080/",
     "height": 265
    },
    "executionInfo": {
     "elapsed": 55,
     "status": "ok",
     "timestamp": 1645887956620,
     "user": {
      "displayName": "양여진",
      "photoUrl": "https://lh3.googleusercontent.com/a-/AOh14GiXC1CG0EkeV0kLYMoe646OJCoJKNOsysFSmU8eug=s64",
      "userId": "00702759979750743808"
     },
     "user_tz": -540
    },
    "id": "CicXibiDN-D3",
    "outputId": "71d84529-f708-4e5d-f2e5-7b4cc07ce9d6"
   },
   "outputs": [],
   "source": [
    "import matplotlib.pyplot as plt\n",
    "iris.drop(columns='Class').boxplot()\n",
    "plt.show()"
   ]
  },
  {
   "cell_type": "code",
   "execution_count": null,
   "metadata": {
    "colab": {
     "base_uri": "https://localhost:8080/",
     "height": 281
    },
    "executionInfo": {
     "elapsed": 540,
     "status": "ok",
     "timestamp": 1645887957108,
     "user": {
      "displayName": "양여진",
      "photoUrl": "https://lh3.googleusercontent.com/a-/AOh14GiXC1CG0EkeV0kLYMoe646OJCoJKNOsysFSmU8eug=s64",
      "userId": "00702759979750743808"
     },
     "user_tz": -540
    },
    "id": "ZLLQBMKLN-D5",
    "outputId": "51e8fe6d-6973-49d4-d064-69f3c4df29d9"
   },
   "outputs": [],
   "source": [
    "import matplotlib.pyplot as plt\n",
    "\n",
    "plt.boxplot(iris['sepal width (cm)'], whis=1.5)\n",
    "plt.title('sepal width (cm)')\n",
    "plt.show()"
   ]
  },
  {
   "cell_type": "code",
   "execution_count": null,
   "metadata": {
    "colab": {
     "base_uri": "https://localhost:8080/",
     "height": 282
    },
    "executionInfo": {
     "elapsed": 603,
     "status": "ok",
     "timestamp": 1645887957702,
     "user": {
      "displayName": "양여진",
      "photoUrl": "https://lh3.googleusercontent.com/a-/AOh14GiXC1CG0EkeV0kLYMoe646OJCoJKNOsysFSmU8eug=s64",
      "userId": "00702759979750743808"
     },
     "user_tz": -540
    },
    "id": "RWfI9lp9N-D8",
    "outputId": "fca27ea3-ea89-43fe-b42e-c8755b3e7a0c"
   },
   "outputs": [],
   "source": [
    "import matplotlib.pyplot as plt\n",
    "import seaborn as sns\n",
    "sns.boxplot(x=\"Class\", y=\"sepal width (cm)\", data=iris)\n",
    "plt.show()"
   ]
  },
  {
   "cell_type": "markdown",
   "metadata": {
    "id": "i1eKhwDxN-D9"
   },
   "source": [
    "<br><br>\n",
    "\n",
    "## 4. Scatter Plot"
   ]
  },
  {
   "cell_type": "code",
   "execution_count": null,
   "metadata": {
    "colab": {
     "base_uri": "https://localhost:8080/",
     "height": 206
    },
    "executionInfo": {
     "elapsed": 30,
     "status": "ok",
     "timestamp": 1645887957704,
     "user": {
      "displayName": "양여진",
      "photoUrl": "https://lh3.googleusercontent.com/a-/AOh14GiXC1CG0EkeV0kLYMoe646OJCoJKNOsysFSmU8eug=s64",
      "userId": "00702759979750743808"
     },
     "user_tz": -540
    },
    "id": "IotSTYSbN-D-",
    "outputId": "195f8067-7ec2-4c86-944d-1c50f7f42ac8"
   },
   "outputs": [],
   "source": [
    "iris.head()"
   ]
  },
  {
   "cell_type": "code",
   "execution_count": null,
   "metadata": {
    "colab": {
     "base_uri": "https://localhost:8080/",
     "height": 295
    },
    "executionInfo": {
     "elapsed": 27,
     "status": "ok",
     "timestamp": 1645887957705,
     "user": {
      "displayName": "양여진",
      "photoUrl": "https://lh3.googleusercontent.com/a-/AOh14GiXC1CG0EkeV0kLYMoe646OJCoJKNOsysFSmU8eug=s64",
      "userId": "00702759979750743808"
     },
     "user_tz": -540
    },
    "id": "xWWU05GdN-EA",
    "outputId": "29778a32-7734-48e9-ef8c-e9e13f947e5e"
   },
   "outputs": [],
   "source": [
    "plt.title('iris scatter') \n",
    "plt.xlabel('sepal length (cm)')\n",
    "plt.ylabel('sepal width (cm)') \n",
    "\n",
    "plt.scatter(x = iris['sepal length (cm)'], y = iris['sepal width (cm)'], alpha = 0.5)\n",
    "plt.show()"
   ]
  },
  {
   "cell_type": "code",
   "execution_count": null,
   "metadata": {
    "colab": {
     "base_uri": "https://localhost:8080/",
     "height": 282
    },
    "executionInfo": {
     "elapsed": 836,
     "status": "ok",
     "timestamp": 1645887958524,
     "user": {
      "displayName": "양여진",
      "photoUrl": "https://lh3.googleusercontent.com/a-/AOh14GiXC1CG0EkeV0kLYMoe646OJCoJKNOsysFSmU8eug=s64",
      "userId": "00702759979750743808"
     },
     "user_tz": -540
    },
    "id": "OXIKGfbON-EC",
    "outputId": "082326d8-7cfd-4b30-889d-9bfaa2db02f6"
   },
   "outputs": [],
   "source": [
    "import seaborn as sns\n",
    "\n",
    "sns.scatterplot(x='sepal length (cm)', y='sepal width (cm)', data=iris, hue='Class', style='Class')\n",
    "plt.show()"
   ]
  },
  {
   "cell_type": "markdown",
   "metadata": {
    "id": "47Diqv_eN-ED"
   },
   "source": [
    "<br><br>\n",
    "\n",
    "## 5. Line Plot"
   ]
  },
  {
   "cell_type": "markdown",
   "metadata": {
    "id": "bn4tvF40XATy"
   },
   "source": [
    "### 직선 그래프"
   ]
  },
  {
   "cell_type": "code",
   "execution_count": null,
   "metadata": {
    "colab": {
     "base_uri": "https://localhost:8080/",
     "height": 265
    },
    "executionInfo": {
     "elapsed": 1198,
     "status": "ok",
     "timestamp": 1645887959677,
     "user": {
      "displayName": "양여진",
      "photoUrl": "https://lh3.googleusercontent.com/a-/AOh14GiXC1CG0EkeV0kLYMoe646OJCoJKNOsysFSmU8eug=s64",
      "userId": "00702759979750743808"
     },
     "user_tz": -540
    },
    "id": "Fq1TcNfuN-EE",
    "outputId": "a7330374-7c0d-4969-891c-f8d4fe1c1a75"
   },
   "outputs": [],
   "source": [
    "import matplotlib.pyplot as plt\n",
    "\n",
    "plt.hlines(-6, -10, 10, color='grey')\n",
    "plt.hlines(-2, -10, 10, color='green')\n",
    "plt.hlines(2, -10, 10, color='orange')\n",
    "plt.hlines(6, -10, 10, color='red')\n",
    "\n",
    "plt.vlines(-6, -10, 10, linestyles='solid')\n",
    "plt.vlines(-2, -10, 10, linestyles='dashed')\n",
    "plt.vlines(2, -10, 10, linestyles='dashdot')\n",
    "plt.vlines(6, -10, 10, linestyles='dotted')\n",
    "plt.show()"
   ]
  },
  {
   "cell_type": "markdown",
   "metadata": {
    "id": "eQOprYAQ7VxT"
   },
   "source": [
    "### 함수식 그래프"
   ]
  },
  {
   "cell_type": "code",
   "execution_count": null,
   "metadata": {
    "colab": {
     "base_uri": "https://localhost:8080/",
     "height": 265
    },
    "executionInfo": {
     "elapsed": 116,
     "status": "ok",
     "timestamp": 1645887959679,
     "user": {
      "displayName": "양여진",
      "photoUrl": "https://lh3.googleusercontent.com/a-/AOh14GiXC1CG0EkeV0kLYMoe646OJCoJKNOsysFSmU8eug=s64",
      "userId": "00702759979750743808"
     },
     "user_tz": -540
    },
    "id": "VuSSr3bYYw3h",
    "outputId": "1577ea29-9c04-4014-8586-f6ebc8b8191d"
   },
   "outputs": [],
   "source": [
    "def linear_func(x):\n",
    "  return x*2 + 1 \n",
    "\n",
    "X = iris['sepal length (cm)']\n",
    "plt.plot(X, linear_func(X), c='#789395')\n",
    "plt.show()"
   ]
  },
  {
   "cell_type": "markdown",
   "metadata": {
    "id": "e6PV5Y_7XMfw"
   },
   "source": [
    "### 회귀선 그래프"
   ]
  },
  {
   "cell_type": "markdown",
   "metadata": {
    "id": "Q_FSeL9hVVDU"
   },
   "source": [
    "#### 일차 함수 회귀식\n"
   ]
  },
  {
   "cell_type": "code",
   "execution_count": null,
   "metadata": {
    "colab": {
     "base_uri": "https://localhost:8080/",
     "height": 265
    },
    "executionInfo": {
     "elapsed": 123,
     "status": "ok",
     "timestamp": 1645887959696,
     "user": {
      "displayName": "양여진",
      "photoUrl": "https://lh3.googleusercontent.com/a-/AOh14GiXC1CG0EkeV0kLYMoe646OJCoJKNOsysFSmU8eug=s64",
      "userId": "00702759979750743808"
     },
     "user_tz": -540
    },
    "id": "SdefddPcN-EG",
    "outputId": "30d0f941-23d0-4dd1-f0cf-5f3025c5c34e"
   },
   "outputs": [],
   "source": [
    "import numpy as np\n",
    "\n",
    "X, Y = iris['sepal length (cm)'], iris['petal length (cm)']\n",
    "b1, b0 = np.polyfit(X, Y, 1)\n",
    "\n",
    "plt.scatter(x = X, y = Y, alpha = 0.5)\n",
    "plt.plot(X, b1*X + b0, color='red')\n",
    "plt.show()"
   ]
  },
  {
   "cell_type": "markdown",
   "metadata": {
    "id": "GSindMqsXrNk"
   },
   "source": [
    "#### n차 함수 회귀식"
   ]
  },
  {
   "cell_type": "code",
   "execution_count": null,
   "metadata": {
    "colab": {
     "base_uri": "https://localhost:8080/",
     "height": 265
    },
    "executionInfo": {
     "elapsed": 124,
     "status": "ok",
     "timestamp": 1645887959701,
     "user": {
      "displayName": "양여진",
      "photoUrl": "https://lh3.googleusercontent.com/a-/AOh14GiXC1CG0EkeV0kLYMoe646OJCoJKNOsysFSmU8eug=s64",
      "userId": "00702759979750743808"
     },
     "user_tz": -540
    },
    "id": "FxnP6r00N-EH",
    "outputId": "5afc13c9-d0bd-4cca-e722-c41d7f364a31"
   },
   "outputs": [],
   "source": [
    "import numpy as np\n",
    "\n",
    "iris2 = iris.sort_values(by='sepal length (cm)')\n",
    "X, Y = iris2['sepal length (cm)'], iris2['petal length (cm)']\n",
    "b2, b1, b0 = np.polyfit(X, Y, 2)\n",
    "\n",
    "plt.scatter(x = X, y = Y, alpha = 0.5)\n",
    "plt.plot(X, b0 + b1*X + b2*X**2, color='red')\n",
    "plt.show()"
   ]
  },
  {
   "cell_type": "markdown",
   "metadata": {
    "id": "j3OCzfDecBZD"
   },
   "source": [
    "### 꺾은선 그래프"
   ]
  },
  {
   "cell_type": "code",
   "execution_count": null,
   "metadata": {
    "colab": {
     "base_uri": "https://localhost:8080/",
     "height": 265
    },
    "executionInfo": {
     "elapsed": 120,
     "status": "ok",
     "timestamp": 1645887959703,
     "user": {
      "displayName": "양여진",
      "photoUrl": "https://lh3.googleusercontent.com/a-/AOh14GiXC1CG0EkeV0kLYMoe646OJCoJKNOsysFSmU8eug=s64",
      "userId": "00702759979750743808"
     },
     "user_tz": -540
    },
    "id": "6KDKPYxTcPuz",
    "outputId": "aecd12ac-2b7b-4304-879a-0d7e4db6117e"
   },
   "outputs": [],
   "source": [
    "import matplotlib.pyplot as plt\n",
    "\n",
    "iris2 = iris.sort_values(by='sepal length (cm)')\n",
    "plt.plot('sepal length (cm)', 'petal length (cm)', data=iris2)\n",
    "plt.show( )"
   ]
  },
  {
   "cell_type": "code",
   "execution_count": null,
   "metadata": {
    "colab": {
     "base_uri": "https://localhost:8080/",
     "height": 265
    },
    "executionInfo": {
     "elapsed": 672,
     "status": "ok",
     "timestamp": 1645887960259,
     "user": {
      "displayName": "양여진",
      "photoUrl": "https://lh3.googleusercontent.com/a-/AOh14GiXC1CG0EkeV0kLYMoe646OJCoJKNOsysFSmU8eug=s64",
      "userId": "00702759979750743808"
     },
     "user_tz": -540
    },
    "id": "_aLgoiIvctYJ",
    "outputId": "78172f2e-7ef8-41c8-e828-298ff4dded82"
   },
   "outputs": [],
   "source": [
    "# 특정 카테고리별로 그래프를 겹쳐 그릴 때 카테고리별로 plot을 그리고 범례를 제시함\n",
    "plt.plot('sepal length (cm)', 'petal length (cm)', data=iris2.loc[iris2['Class'] == 'Setosa'])\n",
    "plt.plot('sepal length (cm)', 'petal length (cm)', data=iris2.loc[iris2['Class'] == 'Versicolour'])\n",
    "plt.plot('sepal length (cm)', 'petal length (cm)', data=iris2.loc[iris2['Class'] == 'Virginica'])\n",
    "plt.legend(iris2.Class.unique())\n",
    "plt.show()"
   ]
  },
  {
   "cell_type": "markdown",
   "metadata": {
    "id": "f1lUaWoaxZJa"
   },
   "source": [
    "## 6. 상관관계 시각화"
   ]
  },
  {
   "cell_type": "markdown",
   "metadata": {
    "id": "8mSLKbqVxsdS"
   },
   "source": [
    "### 산점도 행렬"
   ]
  },
  {
   "cell_type": "code",
   "execution_count": null,
   "metadata": {
    "colab": {
     "base_uri": "https://localhost:8080/",
     "height": 500
    },
    "executionInfo": {
     "elapsed": 1321,
     "status": "ok",
     "timestamp": 1645887961494,
     "user": {
      "displayName": "양여진",
      "photoUrl": "https://lh3.googleusercontent.com/a-/AOh14GiXC1CG0EkeV0kLYMoe646OJCoJKNOsysFSmU8eug=s64",
      "userId": "00702759979750743808"
     },
     "user_tz": -540
    },
    "id": "LCN3yXYkxrIt",
    "outputId": "64d94f58-4a92-42db-afea-0b32da30217f"
   },
   "outputs": [],
   "source": [
    "import pandas as pd\n",
    "import matplotlib.pyplot as plt\n",
    "from pandas.plotting import scatter_matrix\n",
    "from sklearn.datasets import load_iris\n",
    "\n",
    "iris = load_iris()\n",
    "iris = pd.DataFrame(iris.data, columns=iris.feature_names)\n",
    "iris['Class'] = load_iris().target\n",
    "iris['Class'] = iris['Class'].map({0:'Setosa', 1:'Versicolour', 2:'Virginica'})\n",
    "\n",
    "scatter_matrix(iris, alpha = 0.5, figsize = (8, 8), diagonal = 'kde')\n",
    "plt.show()"
   ]
  },
  {
   "cell_type": "code",
   "execution_count": null,
   "metadata": {
    "colab": {
     "base_uri": "https://localhost:8080/",
     "height": 726
    },
    "executionInfo": {
     "elapsed": 20423,
     "status": "ok",
     "timestamp": 1645887981910,
     "user": {
      "displayName": "양여진",
      "photoUrl": "https://lh3.googleusercontent.com/a-/AOh14GiXC1CG0EkeV0kLYMoe646OJCoJKNOsysFSmU8eug=s64",
      "userId": "00702759979750743808"
     },
     "user_tz": -540
    },
    "id": "Vs2Eb--6xd38",
    "outputId": "0ca247ba-b8a5-466f-f627-f195db667771"
   },
   "outputs": [],
   "source": [
    "import seaborn as sns\n",
    "\n",
    "sns.pairplot(iris, diag_kind = 'auto', hue = 'Class')\n",
    "plt.show()"
   ]
  },
  {
   "cell_type": "code",
   "execution_count": null,
   "metadata": {
    "colab": {
     "base_uri": "https://localhost:8080/",
     "height": 423
    },
    "executionInfo": {
     "elapsed": 303,
     "status": "ok",
     "timestamp": 1645888161232,
     "user": {
      "displayName": "양여진",
      "photoUrl": "https://lh3.googleusercontent.com/a-/AOh14GiXC1CG0EkeV0kLYMoe646OJCoJKNOsysFSmU8eug=s64",
      "userId": "00702759979750743808"
     },
     "user_tz": -540
    },
    "id": "2LbrYzaklDHb",
    "outputId": "7952fc8a-03d5-495d-b586-0b97194966ed"
   },
   "outputs": [],
   "source": [
    "iris_feature"
   ]
  },
  {
   "cell_type": "markdown",
   "metadata": {
    "id": "boFC1CeOwDWn"
   },
   "source": [
    "### 상관행렬 그래프"
   ]
  },
  {
   "cell_type": "code",
   "execution_count": null,
   "metadata": {
    "colab": {
     "base_uri": "https://localhost:8080/",
     "height": 347
    },
    "executionInfo": {
     "elapsed": 891,
     "status": "ok",
     "timestamp": 1645888339541,
     "user": {
      "displayName": "양여진",
      "photoUrl": "https://lh3.googleusercontent.com/a-/AOh14GiXC1CG0EkeV0kLYMoe646OJCoJKNOsysFSmU8eug=s64",
      "userId": "00702759979750743808"
     },
     "user_tz": -540
    },
    "id": "u_anQQ4E36ZO",
    "outputId": "0f65f9f4-c028-48bf-a61d-d328336f3cc7"
   },
   "outputs": [],
   "source": [
    "iris_corr = iris.drop(columns='Class').corr(method='pearson')\n",
    "sns.heatmap(iris_corr, xticklabels = iris_corr.columns, yticklabels = iris_corr.columns, cmap = 'RdBu_r', annot = True)\n",
    "plt.show()"
   ]
  },
  {
   "cell_type": "markdown",
   "metadata": {
    "id": "1en1uc1TyZ3s"
   },
   "source": [
    "## Pandas Profiling"
   ]
  },
  {
   "cell_type": "markdown",
   "metadata": {
    "id": "bxP6ppaJzHUt"
   },
   "source": [
    "Colab에서 수행하는 경우 pandas_profiling 재설치"
   ]
  },
  {
   "cell_type": "code",
   "execution_count": null,
   "metadata": {
    "executionInfo": {
     "elapsed": 277,
     "status": "ok",
     "timestamp": 1645891878736,
     "user": {
      "displayName": "양여진",
      "photoUrl": "https://lh3.googleusercontent.com/a-/AOh14GiXC1CG0EkeV0kLYMoe646OJCoJKNOsysFSmU8eug=s64",
      "userId": "00702759979750743808"
     },
     "user_tz": -540
    },
    "id": "km0TRSEsyaRG"
   },
   "outputs": [],
   "source": [
    "# !pip uninstall pandas_profiling\n",
    "# !pip install pandas-profiling[notebook,html]"
   ]
  },
  {
   "cell_type": "code",
   "execution_count": null,
   "metadata": {
    "colab": {
     "base_uri": "https://localhost:8080/",
     "height": 916,
     "referenced_widgets": [
      "d57f005ba456437eab8664863d3272b3",
      "32bf178ded564aaaad732c8fb9eb4035",
      "979884e4636b491892fb293cf50cd5e6",
      "bb522b148b654a64b5cea13f2b9c4135",
      "575d887421db4476a0550bd0d05ff4c9",
      "9633fc8353004b649c661eafd27c622c",
      "5e449dbd3a7b4027a3a3ef77ec7ec9af",
      "de4bf140f2f54ef0a790f7a36e98e9e9",
      "eedeb2657236471480a26206ca1d612e",
      "41b19870f46d41da9e07fa33c253866a",
      "045afed2dce84b2db8fbeb2d01cfcf9f",
      "be3500b60d374d8fa0068f1f6739ea1b",
      "0e4b480acadc442a84c9ee3c59b7795c",
      "b85e09702ffd41dfb499936bec386b60",
      "9d49515055a3456ca56cb93dfa97f509",
      "dd2ef4713585489e9122849beaf0c0e7",
      "264e0388654f4d328c7a5965f8db4e80",
      "dc4720fb139e45d48f44e9e320a72e9e",
      "87148e43dd1145b4be1252d87b6812da",
      "550fb6e78dbf4dbfa533939e288a0c30",
      "3ae40be034b245aa88dda4602804c404",
      "a5a9fc6782c74ceea2cbebe3fd9c4726",
      "15e6ebaed7e54deb99554944f0cb541f",
      "bf6ac3544fc1435f82014e2318953d13",
      "feca00b5037f4a4fae5f0cf091295477",
      "7209ffe1cf9c4348adcdce730bc720cc",
      "e20012b7b7d04557b01db07b99e9ce49",
      "66738087b9c64d8699f5d68839e6ccc4",
      "88a018a814ed432b918ab6925c35c6e1",
      "3a96982d613d4da9838965180d4b42f1",
      "217f9c04503b463b88900eafa7f56a3d",
      "b277f179cae242aaba20e53d458b58e4",
      "5ab13606a7c64c2cbad9f1bc45d95d3b"
     ]
    },
    "executionInfo": {
     "elapsed": 36366,
     "status": "ok",
     "timestamp": 1645891854655,
     "user": {
      "displayName": "양여진",
      "photoUrl": "https://lh3.googleusercontent.com/a-/AOh14GiXC1CG0EkeV0kLYMoe646OJCoJKNOsysFSmU8eug=s64",
      "userId": "00702759979750743808"
     },
     "user_tz": -540
    },
    "id": "h2pjjLVqkfgM",
    "outputId": "10a2a28c-ec20-446e-db99-4121e3ee6e8e"
   },
   "outputs": [],
   "source": [
    "import pandas as pd\n",
    "from sklearn.datasets import load_iris\n",
    "from pandas_profiling import ProfileReport\n",
    "\n",
    "iris = load_iris()\n",
    "iris = pd.DataFrame(iris.data, columns=iris.feature_names)\n",
    "iris['Class'] = load_iris().target\n",
    "iris['Class'] = iris['Class'].map({0:'Setosa', 1:'Versicolour', 2:'Virginica'})\n",
    "\n",
    "ProfileReport(iris)"
   ]
  },
  {
   "cell_type": "code",
   "execution_count": null,
   "metadata": {
    "id": "SXg3cJajwxMA"
   },
   "outputs": [],
   "source": [
    "iris_corr = iris.drop(columns='Class').corr(method='pearson')"
   ]
  },
  {
   "cell_type": "code",
   "execution_count": null,
   "metadata": {},
   "outputs": [],
   "source": [
    "iris_corr"
   ]
  },
  {
   "cell_type": "code",
   "execution_count": null,
   "metadata": {},
   "outputs": [],
   "source": [
    "iris.drop(columns='Class')"
   ]
  },
  {
   "cell_type": "code",
   "execution_count": null,
   "metadata": {},
   "outputs": [],
   "source": [
    "iris"
   ]
  },
  {
   "cell_type": "code",
   "execution_count": null,
   "metadata": {},
   "outputs": [],
   "source": [
    "iris['Class'] = iris['Class'].map({0:'Setosa', 1:'Versicolour', 2:'Virginica'})"
   ]
  },
  {
   "cell_type": "code",
   "execution_count": null,
   "metadata": {},
   "outputs": [],
   "source": [
    "iris['Class'] "
   ]
  },
  {
   "cell_type": "code",
   "execution_count": null,
   "metadata": {},
   "outputs": [],
   "source": [
    "import pandas as pd\n",
    "from sklearn.datasets import load_iris\n",
    "\n",
    "iris = load_iris()\n",
    "iris = pd.DataFrame(iris.data, columns=iris.feature_names)\n",
    "iris['Class'] = load_iris().target"
   ]
  },
  {
   "cell_type": "code",
   "execution_count": null,
   "metadata": {},
   "outputs": [],
   "source": [
    "iris.head()"
   ]
  },
  {
   "cell_type": "code",
   "execution_count": null,
   "metadata": {},
   "outputs": [],
   "source": [
    "iris_dummy = pd.get_dummies(iris, columns=['Class'])\n",
    "iris_dummy"
   ]
  },
  {
   "cell_type": "code",
   "execution_count": null,
   "metadata": {},
   "outputs": [],
   "source": [
    "plt.plot([1,2,3,4], [0.72, 0.22, 0.03, 0.01], 'o-')"
   ]
  },
  {
   "cell_type": "code",
   "execution_count": null,
   "metadata": {},
   "outputs": [],
   "source": []
  }
 ],
 "metadata": {
  "colab": {
   "collapsed_sections": [],
   "name": "Ch3.ipynb",
   "provenance": [],
   "toc_visible": true
  },
  "kernelspec": {
   "display_name": "Python 3 (ipykernel)",
   "language": "python",
   "name": "python3"
  },
  "language_info": {
   "codemirror_mode": {
    "name": "ipython",
    "version": 3
   },
   "file_extension": ".py",
   "mimetype": "text/x-python",
   "name": "python",
   "nbconvert_exporter": "python",
   "pygments_lexer": "ipython3",
   "version": "3.7.16"
  },
  "widgets": {
   "application/vnd.jupyter.widget-state+json": {
    "045afed2dce84b2db8fbeb2d01cfcf9f": {
     "model_module": "@jupyter-widgets/base",
     "model_module_version": "1.2.0",
     "model_name": "LayoutModel",
     "state": {
      "_model_module": "@jupyter-widgets/base",
      "_model_module_version": "1.2.0",
      "_model_name": "LayoutModel",
      "_view_count": null,
      "_view_module": "@jupyter-widgets/base",
      "_view_module_version": "1.2.0",
      "_view_name": "LayoutView",
      "align_content": null,
      "align_items": null,
      "align_self": null,
      "border": null,
      "bottom": null,
      "display": null,
      "flex": null,
      "flex_flow": null,
      "grid_area": null,
      "grid_auto_columns": null,
      "grid_auto_flow": null,
      "grid_auto_rows": null,
      "grid_column": null,
      "grid_gap": null,
      "grid_row": null,
      "grid_template_areas": null,
      "grid_template_columns": null,
      "grid_template_rows": null,
      "height": null,
      "justify_content": null,
      "justify_items": null,
      "left": null,
      "margin": null,
      "max_height": null,
      "max_width": null,
      "min_height": null,
      "min_width": null,
      "object_fit": null,
      "object_position": null,
      "order": null,
      "overflow": null,
      "overflow_x": null,
      "overflow_y": null,
      "padding": null,
      "right": null,
      "top": null,
      "visibility": null,
      "width": null
     }
    },
    "0e4b480acadc442a84c9ee3c59b7795c": {
     "model_module": "@jupyter-widgets/base",
     "model_module_version": "1.2.0",
     "model_name": "LayoutModel",
     "state": {
      "_model_module": "@jupyter-widgets/base",
      "_model_module_version": "1.2.0",
      "_model_name": "LayoutModel",
      "_view_count": null,
      "_view_module": "@jupyter-widgets/base",
      "_view_module_version": "1.2.0",
      "_view_name": "LayoutView",
      "align_content": null,
      "align_items": null,
      "align_self": null,
      "border": null,
      "bottom": null,
      "display": null,
      "flex": null,
      "flex_flow": null,
      "grid_area": null,
      "grid_auto_columns": null,
      "grid_auto_flow": null,
      "grid_auto_rows": null,
      "grid_column": null,
      "grid_gap": null,
      "grid_row": null,
      "grid_template_areas": null,
      "grid_template_columns": null,
      "grid_template_rows": null,
      "height": null,
      "justify_content": null,
      "justify_items": null,
      "left": null,
      "margin": null,
      "max_height": null,
      "max_width": null,
      "min_height": null,
      "min_width": null,
      "object_fit": null,
      "object_position": null,
      "order": null,
      "overflow": null,
      "overflow_x": null,
      "overflow_y": null,
      "padding": null,
      "right": null,
      "top": null,
      "visibility": null,
      "width": null
     }
    },
    "15e6ebaed7e54deb99554944f0cb541f": {
     "model_module": "@jupyter-widgets/controls",
     "model_module_version": "1.5.0",
     "model_name": "HBoxModel",
     "state": {
      "_dom_classes": [],
      "_model_module": "@jupyter-widgets/controls",
      "_model_module_version": "1.5.0",
      "_model_name": "HBoxModel",
      "_view_count": null,
      "_view_module": "@jupyter-widgets/controls",
      "_view_module_version": "1.5.0",
      "_view_name": "HBoxView",
      "box_style": "",
      "children": [
       "IPY_MODEL_feca00b5037f4a4fae5f0cf091295477",
       "IPY_MODEL_7209ffe1cf9c4348adcdce730bc720cc",
       "IPY_MODEL_e20012b7b7d04557b01db07b99e9ce49"
      ],
      "layout": "IPY_MODEL_bf6ac3544fc1435f82014e2318953d13"
     }
    },
    "217f9c04503b463b88900eafa7f56a3d": {
     "model_module": "@jupyter-widgets/base",
     "model_module_version": "1.2.0",
     "model_name": "LayoutModel",
     "state": {
      "_model_module": "@jupyter-widgets/base",
      "_model_module_version": "1.2.0",
      "_model_name": "LayoutModel",
      "_view_count": null,
      "_view_module": "@jupyter-widgets/base",
      "_view_module_version": "1.2.0",
      "_view_name": "LayoutView",
      "align_content": null,
      "align_items": null,
      "align_self": null,
      "border": null,
      "bottom": null,
      "display": null,
      "flex": null,
      "flex_flow": null,
      "grid_area": null,
      "grid_auto_columns": null,
      "grid_auto_flow": null,
      "grid_auto_rows": null,
      "grid_column": null,
      "grid_gap": null,
      "grid_row": null,
      "grid_template_areas": null,
      "grid_template_columns": null,
      "grid_template_rows": null,
      "height": null,
      "justify_content": null,
      "justify_items": null,
      "left": null,
      "margin": null,
      "max_height": null,
      "max_width": null,
      "min_height": null,
      "min_width": null,
      "object_fit": null,
      "object_position": null,
      "order": null,
      "overflow": null,
      "overflow_x": null,
      "overflow_y": null,
      "padding": null,
      "right": null,
      "top": null,
      "visibility": null,
      "width": null
     }
    },
    "264e0388654f4d328c7a5965f8db4e80": {
     "model_module": "@jupyter-widgets/controls",
     "model_module_version": "1.5.0",
     "model_name": "DescriptionStyleModel",
     "state": {
      "_model_module": "@jupyter-widgets/controls",
      "_model_module_version": "1.5.0",
      "_model_name": "DescriptionStyleModel",
      "_view_count": null,
      "_view_module": "@jupyter-widgets/base",
      "_view_module_version": "1.2.0",
      "_view_name": "StyleView",
      "description_width": ""
     }
    },
    "32bf178ded564aaaad732c8fb9eb4035": {
     "model_module": "@jupyter-widgets/base",
     "model_module_version": "1.2.0",
     "model_name": "LayoutModel",
     "state": {
      "_model_module": "@jupyter-widgets/base",
      "_model_module_version": "1.2.0",
      "_model_name": "LayoutModel",
      "_view_count": null,
      "_view_module": "@jupyter-widgets/base",
      "_view_module_version": "1.2.0",
      "_view_name": "LayoutView",
      "align_content": null,
      "align_items": null,
      "align_self": null,
      "border": null,
      "bottom": null,
      "display": null,
      "flex": null,
      "flex_flow": null,
      "grid_area": null,
      "grid_auto_columns": null,
      "grid_auto_flow": null,
      "grid_auto_rows": null,
      "grid_column": null,
      "grid_gap": null,
      "grid_row": null,
      "grid_template_areas": null,
      "grid_template_columns": null,
      "grid_template_rows": null,
      "height": null,
      "justify_content": null,
      "justify_items": null,
      "left": null,
      "margin": null,
      "max_height": null,
      "max_width": null,
      "min_height": null,
      "min_width": null,
      "object_fit": null,
      "object_position": null,
      "order": null,
      "overflow": null,
      "overflow_x": null,
      "overflow_y": null,
      "padding": null,
      "right": null,
      "top": null,
      "visibility": null,
      "width": null
     }
    },
    "3a96982d613d4da9838965180d4b42f1": {
     "model_module": "@jupyter-widgets/controls",
     "model_module_version": "1.5.0",
     "model_name": "ProgressStyleModel",
     "state": {
      "_model_module": "@jupyter-widgets/controls",
      "_model_module_version": "1.5.0",
      "_model_name": "ProgressStyleModel",
      "_view_count": null,
      "_view_module": "@jupyter-widgets/base",
      "_view_module_version": "1.2.0",
      "_view_name": "StyleView",
      "bar_color": null,
      "description_width": ""
     }
    },
    "3ae40be034b245aa88dda4602804c404": {
     "model_module": "@jupyter-widgets/controls",
     "model_module_version": "1.5.0",
     "model_name": "DescriptionStyleModel",
     "state": {
      "_model_module": "@jupyter-widgets/controls",
      "_model_module_version": "1.5.0",
      "_model_name": "DescriptionStyleModel",
      "_view_count": null,
      "_view_module": "@jupyter-widgets/base",
      "_view_module_version": "1.2.0",
      "_view_name": "StyleView",
      "description_width": ""
     }
    },
    "41b19870f46d41da9e07fa33c253866a": {
     "model_module": "@jupyter-widgets/controls",
     "model_module_version": "1.5.0",
     "model_name": "DescriptionStyleModel",
     "state": {
      "_model_module": "@jupyter-widgets/controls",
      "_model_module_version": "1.5.0",
      "_model_name": "DescriptionStyleModel",
      "_view_count": null,
      "_view_module": "@jupyter-widgets/base",
      "_view_module_version": "1.2.0",
      "_view_name": "StyleView",
      "description_width": ""
     }
    },
    "550fb6e78dbf4dbfa533939e288a0c30": {
     "model_module": "@jupyter-widgets/base",
     "model_module_version": "1.2.0",
     "model_name": "LayoutModel",
     "state": {
      "_model_module": "@jupyter-widgets/base",
      "_model_module_version": "1.2.0",
      "_model_name": "LayoutModel",
      "_view_count": null,
      "_view_module": "@jupyter-widgets/base",
      "_view_module_version": "1.2.0",
      "_view_name": "LayoutView",
      "align_content": null,
      "align_items": null,
      "align_self": null,
      "border": null,
      "bottom": null,
      "display": null,
      "flex": null,
      "flex_flow": null,
      "grid_area": null,
      "grid_auto_columns": null,
      "grid_auto_flow": null,
      "grid_auto_rows": null,
      "grid_column": null,
      "grid_gap": null,
      "grid_row": null,
      "grid_template_areas": null,
      "grid_template_columns": null,
      "grid_template_rows": null,
      "height": null,
      "justify_content": null,
      "justify_items": null,
      "left": null,
      "margin": null,
      "max_height": null,
      "max_width": null,
      "min_height": null,
      "min_width": null,
      "object_fit": null,
      "object_position": null,
      "order": null,
      "overflow": null,
      "overflow_x": null,
      "overflow_y": null,
      "padding": null,
      "right": null,
      "top": null,
      "visibility": null,
      "width": null
     }
    },
    "575d887421db4476a0550bd0d05ff4c9": {
     "model_module": "@jupyter-widgets/controls",
     "model_module_version": "1.5.0",
     "model_name": "HTMLModel",
     "state": {
      "_dom_classes": [],
      "_model_module": "@jupyter-widgets/controls",
      "_model_module_version": "1.5.0",
      "_model_name": "HTMLModel",
      "_view_count": null,
      "_view_module": "@jupyter-widgets/controls",
      "_view_module_version": "1.5.0",
      "_view_name": "HTMLView",
      "description": "",
      "description_tooltip": null,
      "layout": "IPY_MODEL_045afed2dce84b2db8fbeb2d01cfcf9f",
      "placeholder": "​",
      "style": "IPY_MODEL_41b19870f46d41da9e07fa33c253866a",
      "value": " 34/34 [00:16&lt;00:00,  3.42it/s, Completed]"
     }
    },
    "5ab13606a7c64c2cbad9f1bc45d95d3b": {
     "model_module": "@jupyter-widgets/base",
     "model_module_version": "1.2.0",
     "model_name": "LayoutModel",
     "state": {
      "_model_module": "@jupyter-widgets/base",
      "_model_module_version": "1.2.0",
      "_model_name": "LayoutModel",
      "_view_count": null,
      "_view_module": "@jupyter-widgets/base",
      "_view_module_version": "1.2.0",
      "_view_name": "LayoutView",
      "align_content": null,
      "align_items": null,
      "align_self": null,
      "border": null,
      "bottom": null,
      "display": null,
      "flex": null,
      "flex_flow": null,
      "grid_area": null,
      "grid_auto_columns": null,
      "grid_auto_flow": null,
      "grid_auto_rows": null,
      "grid_column": null,
      "grid_gap": null,
      "grid_row": null,
      "grid_template_areas": null,
      "grid_template_columns": null,
      "grid_template_rows": null,
      "height": null,
      "justify_content": null,
      "justify_items": null,
      "left": null,
      "margin": null,
      "max_height": null,
      "max_width": null,
      "min_height": null,
      "min_width": null,
      "object_fit": null,
      "object_position": null,
      "order": null,
      "overflow": null,
      "overflow_x": null,
      "overflow_y": null,
      "padding": null,
      "right": null,
      "top": null,
      "visibility": null,
      "width": null
     }
    },
    "5e449dbd3a7b4027a3a3ef77ec7ec9af": {
     "model_module": "@jupyter-widgets/base",
     "model_module_version": "1.2.0",
     "model_name": "LayoutModel",
     "state": {
      "_model_module": "@jupyter-widgets/base",
      "_model_module_version": "1.2.0",
      "_model_name": "LayoutModel",
      "_view_count": null,
      "_view_module": "@jupyter-widgets/base",
      "_view_module_version": "1.2.0",
      "_view_name": "LayoutView",
      "align_content": null,
      "align_items": null,
      "align_self": null,
      "border": null,
      "bottom": null,
      "display": null,
      "flex": null,
      "flex_flow": null,
      "grid_area": null,
      "grid_auto_columns": null,
      "grid_auto_flow": null,
      "grid_auto_rows": null,
      "grid_column": null,
      "grid_gap": null,
      "grid_row": null,
      "grid_template_areas": null,
      "grid_template_columns": null,
      "grid_template_rows": null,
      "height": null,
      "justify_content": null,
      "justify_items": null,
      "left": null,
      "margin": null,
      "max_height": null,
      "max_width": null,
      "min_height": null,
      "min_width": null,
      "object_fit": null,
      "object_position": null,
      "order": null,
      "overflow": null,
      "overflow_x": null,
      "overflow_y": null,
      "padding": null,
      "right": null,
      "top": null,
      "visibility": null,
      "width": null
     }
    },
    "66738087b9c64d8699f5d68839e6ccc4": {
     "model_module": "@jupyter-widgets/controls",
     "model_module_version": "1.5.0",
     "model_name": "DescriptionStyleModel",
     "state": {
      "_model_module": "@jupyter-widgets/controls",
      "_model_module_version": "1.5.0",
      "_model_name": "DescriptionStyleModel",
      "_view_count": null,
      "_view_module": "@jupyter-widgets/base",
      "_view_module_version": "1.2.0",
      "_view_name": "StyleView",
      "description_width": ""
     }
    },
    "7209ffe1cf9c4348adcdce730bc720cc": {
     "model_module": "@jupyter-widgets/controls",
     "model_module_version": "1.5.0",
     "model_name": "FloatProgressModel",
     "state": {
      "_dom_classes": [],
      "_model_module": "@jupyter-widgets/controls",
      "_model_module_version": "1.5.0",
      "_model_name": "FloatProgressModel",
      "_view_count": null,
      "_view_module": "@jupyter-widgets/controls",
      "_view_module_version": "1.5.0",
      "_view_name": "ProgressView",
      "bar_style": "success",
      "description": "",
      "description_tooltip": null,
      "layout": "IPY_MODEL_217f9c04503b463b88900eafa7f56a3d",
      "max": 1,
      "min": 0,
      "orientation": "horizontal",
      "style": "IPY_MODEL_3a96982d613d4da9838965180d4b42f1",
      "value": 1
     }
    },
    "87148e43dd1145b4be1252d87b6812da": {
     "model_module": "@jupyter-widgets/controls",
     "model_module_version": "1.5.0",
     "model_name": "ProgressStyleModel",
     "state": {
      "_model_module": "@jupyter-widgets/controls",
      "_model_module_version": "1.5.0",
      "_model_name": "ProgressStyleModel",
      "_view_count": null,
      "_view_module": "@jupyter-widgets/base",
      "_view_module_version": "1.2.0",
      "_view_name": "StyleView",
      "bar_color": null,
      "description_width": ""
     }
    },
    "88a018a814ed432b918ab6925c35c6e1": {
     "model_module": "@jupyter-widgets/base",
     "model_module_version": "1.2.0",
     "model_name": "LayoutModel",
     "state": {
      "_model_module": "@jupyter-widgets/base",
      "_model_module_version": "1.2.0",
      "_model_name": "LayoutModel",
      "_view_count": null,
      "_view_module": "@jupyter-widgets/base",
      "_view_module_version": "1.2.0",
      "_view_name": "LayoutView",
      "align_content": null,
      "align_items": null,
      "align_self": null,
      "border": null,
      "bottom": null,
      "display": null,
      "flex": null,
      "flex_flow": null,
      "grid_area": null,
      "grid_auto_columns": null,
      "grid_auto_flow": null,
      "grid_auto_rows": null,
      "grid_column": null,
      "grid_gap": null,
      "grid_row": null,
      "grid_template_areas": null,
      "grid_template_columns": null,
      "grid_template_rows": null,
      "height": null,
      "justify_content": null,
      "justify_items": null,
      "left": null,
      "margin": null,
      "max_height": null,
      "max_width": null,
      "min_height": null,
      "min_width": null,
      "object_fit": null,
      "object_position": null,
      "order": null,
      "overflow": null,
      "overflow_x": null,
      "overflow_y": null,
      "padding": null,
      "right": null,
      "top": null,
      "visibility": null,
      "width": null
     }
    },
    "9633fc8353004b649c661eafd27c622c": {
     "model_module": "@jupyter-widgets/controls",
     "model_module_version": "1.5.0",
     "model_name": "DescriptionStyleModel",
     "state": {
      "_model_module": "@jupyter-widgets/controls",
      "_model_module_version": "1.5.0",
      "_model_name": "DescriptionStyleModel",
      "_view_count": null,
      "_view_module": "@jupyter-widgets/base",
      "_view_module_version": "1.2.0",
      "_view_name": "StyleView",
      "description_width": ""
     }
    },
    "979884e4636b491892fb293cf50cd5e6": {
     "model_module": "@jupyter-widgets/controls",
     "model_module_version": "1.5.0",
     "model_name": "HTMLModel",
     "state": {
      "_dom_classes": [],
      "_model_module": "@jupyter-widgets/controls",
      "_model_module_version": "1.5.0",
      "_model_name": "HTMLModel",
      "_view_count": null,
      "_view_module": "@jupyter-widgets/controls",
      "_view_module_version": "1.5.0",
      "_view_name": "HTMLView",
      "description": "",
      "description_tooltip": null,
      "layout": "IPY_MODEL_5e449dbd3a7b4027a3a3ef77ec7ec9af",
      "placeholder": "​",
      "style": "IPY_MODEL_9633fc8353004b649c661eafd27c622c",
      "value": "Summarize dataset: 100%"
     }
    },
    "9d49515055a3456ca56cb93dfa97f509": {
     "model_module": "@jupyter-widgets/controls",
     "model_module_version": "1.5.0",
     "model_name": "FloatProgressModel",
     "state": {
      "_dom_classes": [],
      "_model_module": "@jupyter-widgets/controls",
      "_model_module_version": "1.5.0",
      "_model_name": "FloatProgressModel",
      "_view_count": null,
      "_view_module": "@jupyter-widgets/controls",
      "_view_module_version": "1.5.0",
      "_view_name": "ProgressView",
      "bar_style": "success",
      "description": "",
      "description_tooltip": null,
      "layout": "IPY_MODEL_550fb6e78dbf4dbfa533939e288a0c30",
      "max": 1,
      "min": 0,
      "orientation": "horizontal",
      "style": "IPY_MODEL_87148e43dd1145b4be1252d87b6812da",
      "value": 1
     }
    },
    "a5a9fc6782c74ceea2cbebe3fd9c4726": {
     "model_module": "@jupyter-widgets/base",
     "model_module_version": "1.2.0",
     "model_name": "LayoutModel",
     "state": {
      "_model_module": "@jupyter-widgets/base",
      "_model_module_version": "1.2.0",
      "_model_name": "LayoutModel",
      "_view_count": null,
      "_view_module": "@jupyter-widgets/base",
      "_view_module_version": "1.2.0",
      "_view_name": "LayoutView",
      "align_content": null,
      "align_items": null,
      "align_self": null,
      "border": null,
      "bottom": null,
      "display": null,
      "flex": null,
      "flex_flow": null,
      "grid_area": null,
      "grid_auto_columns": null,
      "grid_auto_flow": null,
      "grid_auto_rows": null,
      "grid_column": null,
      "grid_gap": null,
      "grid_row": null,
      "grid_template_areas": null,
      "grid_template_columns": null,
      "grid_template_rows": null,
      "height": null,
      "justify_content": null,
      "justify_items": null,
      "left": null,
      "margin": null,
      "max_height": null,
      "max_width": null,
      "min_height": null,
      "min_width": null,
      "object_fit": null,
      "object_position": null,
      "order": null,
      "overflow": null,
      "overflow_x": null,
      "overflow_y": null,
      "padding": null,
      "right": null,
      "top": null,
      "visibility": null,
      "width": null
     }
    },
    "b277f179cae242aaba20e53d458b58e4": {
     "model_module": "@jupyter-widgets/controls",
     "model_module_version": "1.5.0",
     "model_name": "DescriptionStyleModel",
     "state": {
      "_model_module": "@jupyter-widgets/controls",
      "_model_module_version": "1.5.0",
      "_model_name": "DescriptionStyleModel",
      "_view_count": null,
      "_view_module": "@jupyter-widgets/base",
      "_view_module_version": "1.2.0",
      "_view_name": "StyleView",
      "description_width": ""
     }
    },
    "b85e09702ffd41dfb499936bec386b60": {
     "model_module": "@jupyter-widgets/controls",
     "model_module_version": "1.5.0",
     "model_name": "HTMLModel",
     "state": {
      "_dom_classes": [],
      "_model_module": "@jupyter-widgets/controls",
      "_model_module_version": "1.5.0",
      "_model_name": "HTMLModel",
      "_view_count": null,
      "_view_module": "@jupyter-widgets/controls",
      "_view_module_version": "1.5.0",
      "_view_name": "HTMLView",
      "description": "",
      "description_tooltip": null,
      "layout": "IPY_MODEL_dc4720fb139e45d48f44e9e320a72e9e",
      "placeholder": "​",
      "style": "IPY_MODEL_264e0388654f4d328c7a5965f8db4e80",
      "value": "Generate report structure: 100%"
     }
    },
    "bb522b148b654a64b5cea13f2b9c4135": {
     "model_module": "@jupyter-widgets/controls",
     "model_module_version": "1.5.0",
     "model_name": "FloatProgressModel",
     "state": {
      "_dom_classes": [],
      "_model_module": "@jupyter-widgets/controls",
      "_model_module_version": "1.5.0",
      "_model_name": "FloatProgressModel",
      "_view_count": null,
      "_view_module": "@jupyter-widgets/controls",
      "_view_module_version": "1.5.0",
      "_view_name": "ProgressView",
      "bar_style": "success",
      "description": "",
      "description_tooltip": null,
      "layout": "IPY_MODEL_eedeb2657236471480a26206ca1d612e",
      "max": 5,
      "min": 0,
      "orientation": "horizontal",
      "style": "IPY_MODEL_de4bf140f2f54ef0a790f7a36e98e9e9",
      "value": 5
     }
    },
    "be3500b60d374d8fa0068f1f6739ea1b": {
     "model_module": "@jupyter-widgets/controls",
     "model_module_version": "1.5.0",
     "model_name": "HBoxModel",
     "state": {
      "_dom_classes": [],
      "_model_module": "@jupyter-widgets/controls",
      "_model_module_version": "1.5.0",
      "_model_name": "HBoxModel",
      "_view_count": null,
      "_view_module": "@jupyter-widgets/controls",
      "_view_module_version": "1.5.0",
      "_view_name": "HBoxView",
      "box_style": "",
      "children": [
       "IPY_MODEL_b85e09702ffd41dfb499936bec386b60",
       "IPY_MODEL_9d49515055a3456ca56cb93dfa97f509",
       "IPY_MODEL_dd2ef4713585489e9122849beaf0c0e7"
      ],
      "layout": "IPY_MODEL_0e4b480acadc442a84c9ee3c59b7795c"
     }
    },
    "bf6ac3544fc1435f82014e2318953d13": {
     "model_module": "@jupyter-widgets/base",
     "model_module_version": "1.2.0",
     "model_name": "LayoutModel",
     "state": {
      "_model_module": "@jupyter-widgets/base",
      "_model_module_version": "1.2.0",
      "_model_name": "LayoutModel",
      "_view_count": null,
      "_view_module": "@jupyter-widgets/base",
      "_view_module_version": "1.2.0",
      "_view_name": "LayoutView",
      "align_content": null,
      "align_items": null,
      "align_self": null,
      "border": null,
      "bottom": null,
      "display": null,
      "flex": null,
      "flex_flow": null,
      "grid_area": null,
      "grid_auto_columns": null,
      "grid_auto_flow": null,
      "grid_auto_rows": null,
      "grid_column": null,
      "grid_gap": null,
      "grid_row": null,
      "grid_template_areas": null,
      "grid_template_columns": null,
      "grid_template_rows": null,
      "height": null,
      "justify_content": null,
      "justify_items": null,
      "left": null,
      "margin": null,
      "max_height": null,
      "max_width": null,
      "min_height": null,
      "min_width": null,
      "object_fit": null,
      "object_position": null,
      "order": null,
      "overflow": null,
      "overflow_x": null,
      "overflow_y": null,
      "padding": null,
      "right": null,
      "top": null,
      "visibility": null,
      "width": null
     }
    },
    "d57f005ba456437eab8664863d3272b3": {
     "model_module": "@jupyter-widgets/controls",
     "model_module_version": "1.5.0",
     "model_name": "HBoxModel",
     "state": {
      "_dom_classes": [],
      "_model_module": "@jupyter-widgets/controls",
      "_model_module_version": "1.5.0",
      "_model_name": "HBoxModel",
      "_view_count": null,
      "_view_module": "@jupyter-widgets/controls",
      "_view_module_version": "1.5.0",
      "_view_name": "HBoxView",
      "box_style": "",
      "children": [
       "IPY_MODEL_979884e4636b491892fb293cf50cd5e6",
       "IPY_MODEL_bb522b148b654a64b5cea13f2b9c4135",
       "IPY_MODEL_575d887421db4476a0550bd0d05ff4c9"
      ],
      "layout": "IPY_MODEL_32bf178ded564aaaad732c8fb9eb4035"
     }
    },
    "dc4720fb139e45d48f44e9e320a72e9e": {
     "model_module": "@jupyter-widgets/base",
     "model_module_version": "1.2.0",
     "model_name": "LayoutModel",
     "state": {
      "_model_module": "@jupyter-widgets/base",
      "_model_module_version": "1.2.0",
      "_model_name": "LayoutModel",
      "_view_count": null,
      "_view_module": "@jupyter-widgets/base",
      "_view_module_version": "1.2.0",
      "_view_name": "LayoutView",
      "align_content": null,
      "align_items": null,
      "align_self": null,
      "border": null,
      "bottom": null,
      "display": null,
      "flex": null,
      "flex_flow": null,
      "grid_area": null,
      "grid_auto_columns": null,
      "grid_auto_flow": null,
      "grid_auto_rows": null,
      "grid_column": null,
      "grid_gap": null,
      "grid_row": null,
      "grid_template_areas": null,
      "grid_template_columns": null,
      "grid_template_rows": null,
      "height": null,
      "justify_content": null,
      "justify_items": null,
      "left": null,
      "margin": null,
      "max_height": null,
      "max_width": null,
      "min_height": null,
      "min_width": null,
      "object_fit": null,
      "object_position": null,
      "order": null,
      "overflow": null,
      "overflow_x": null,
      "overflow_y": null,
      "padding": null,
      "right": null,
      "top": null,
      "visibility": null,
      "width": null
     }
    },
    "dd2ef4713585489e9122849beaf0c0e7": {
     "model_module": "@jupyter-widgets/controls",
     "model_module_version": "1.5.0",
     "model_name": "HTMLModel",
     "state": {
      "_dom_classes": [],
      "_model_module": "@jupyter-widgets/controls",
      "_model_module_version": "1.5.0",
      "_model_name": "HTMLModel",
      "_view_count": null,
      "_view_module": "@jupyter-widgets/controls",
      "_view_module_version": "1.5.0",
      "_view_name": "HTMLView",
      "description": "",
      "description_tooltip": null,
      "layout": "IPY_MODEL_a5a9fc6782c74ceea2cbebe3fd9c4726",
      "placeholder": "​",
      "style": "IPY_MODEL_3ae40be034b245aa88dda4602804c404",
      "value": " 1/1 [00:12&lt;00:00, 12.54s/it]"
     }
    },
    "de4bf140f2f54ef0a790f7a36e98e9e9": {
     "model_module": "@jupyter-widgets/controls",
     "model_module_version": "1.5.0",
     "model_name": "ProgressStyleModel",
     "state": {
      "_model_module": "@jupyter-widgets/controls",
      "_model_module_version": "1.5.0",
      "_model_name": "ProgressStyleModel",
      "_view_count": null,
      "_view_module": "@jupyter-widgets/base",
      "_view_module_version": "1.2.0",
      "_view_name": "StyleView",
      "bar_color": null,
      "description_width": ""
     }
    },
    "e20012b7b7d04557b01db07b99e9ce49": {
     "model_module": "@jupyter-widgets/controls",
     "model_module_version": "1.5.0",
     "model_name": "HTMLModel",
     "state": {
      "_dom_classes": [],
      "_model_module": "@jupyter-widgets/controls",
      "_model_module_version": "1.5.0",
      "_model_name": "HTMLModel",
      "_view_count": null,
      "_view_module": "@jupyter-widgets/controls",
      "_view_module_version": "1.5.0",
      "_view_name": "HTMLView",
      "description": "",
      "description_tooltip": null,
      "layout": "IPY_MODEL_5ab13606a7c64c2cbad9f1bc45d95d3b",
      "placeholder": "​",
      "style": "IPY_MODEL_b277f179cae242aaba20e53d458b58e4",
      "value": " 1/1 [00:03&lt;00:00,  3.97s/it]"
     }
    },
    "eedeb2657236471480a26206ca1d612e": {
     "model_module": "@jupyter-widgets/base",
     "model_module_version": "1.2.0",
     "model_name": "LayoutModel",
     "state": {
      "_model_module": "@jupyter-widgets/base",
      "_model_module_version": "1.2.0",
      "_model_name": "LayoutModel",
      "_view_count": null,
      "_view_module": "@jupyter-widgets/base",
      "_view_module_version": "1.2.0",
      "_view_name": "LayoutView",
      "align_content": null,
      "align_items": null,
      "align_self": null,
      "border": null,
      "bottom": null,
      "display": null,
      "flex": null,
      "flex_flow": null,
      "grid_area": null,
      "grid_auto_columns": null,
      "grid_auto_flow": null,
      "grid_auto_rows": null,
      "grid_column": null,
      "grid_gap": null,
      "grid_row": null,
      "grid_template_areas": null,
      "grid_template_columns": null,
      "grid_template_rows": null,
      "height": null,
      "justify_content": null,
      "justify_items": null,
      "left": null,
      "margin": null,
      "max_height": null,
      "max_width": null,
      "min_height": null,
      "min_width": null,
      "object_fit": null,
      "object_position": null,
      "order": null,
      "overflow": null,
      "overflow_x": null,
      "overflow_y": null,
      "padding": null,
      "right": null,
      "top": null,
      "visibility": null,
      "width": null
     }
    },
    "feca00b5037f4a4fae5f0cf091295477": {
     "model_module": "@jupyter-widgets/controls",
     "model_module_version": "1.5.0",
     "model_name": "HTMLModel",
     "state": {
      "_dom_classes": [],
      "_model_module": "@jupyter-widgets/controls",
      "_model_module_version": "1.5.0",
      "_model_name": "HTMLModel",
      "_view_count": null,
      "_view_module": "@jupyter-widgets/controls",
      "_view_module_version": "1.5.0",
      "_view_name": "HTMLView",
      "description": "",
      "description_tooltip": null,
      "layout": "IPY_MODEL_88a018a814ed432b918ab6925c35c6e1",
      "placeholder": "​",
      "style": "IPY_MODEL_66738087b9c64d8699f5d68839e6ccc4",
      "value": "Render HTML: 100%"
     }
    }
   }
  }
 },
 "nbformat": 4,
 "nbformat_minor": 2
}
