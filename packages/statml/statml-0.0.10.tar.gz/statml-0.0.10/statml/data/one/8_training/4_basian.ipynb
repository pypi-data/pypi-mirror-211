{
 "cells": [
  {
   "cell_type": "markdown",
   "id": "9d2d766e",
   "metadata": {},
   "source": [
    "# 7번문제 \n",
    "##### 23.03.21 자료 수정, ARDRegression이 적합해보여 강의와 다른 자료로 업로드하였습니다. \n",
    "height(키), weight(몸무게), waist(허리둘레) 컬럼을 가진 problem7.csv파일을 가지고 다음을 분석하라\n",
    "A시의 20대 남성 411명을 임의로 추출하여 키, 몸무게, 허리둘레를 조사하여 기록한 데이터이다.\n",
    "이 데이터를 이용하여 20대 남성의 키와 허리둘레가 체중에 영향을 미치는지 알아보고자 한다.\n",
    "\n",
    "7.1 아래 조건을 참고하여 회귀계수(반올림하여 소수점 두자리)를 구하시오.\n",
    "\n",
    "* 조건 1: 베이지안 회귀\n",
    "* 조건 2: 1000번의 burn-in 이후 10,000의 MCMC를 수행\n",
    "* 조건 3:  회귀계수의 사전분포는 부적절한 균일분포(inproper uniform prior distribution),\n",
    "* 조건 4: 오차항의 분산의 사전분포는 역감마 분포로 지정. \n",
    "* 조건 5: 형상(Shape)모수와 척도(Scale)모수는 각각 0.005로 지정.\n",
    "\n",
    "7.2 위에서 만든 모델을 바탕으로 키 180cm, 허리둘레 85cm인 남성의 몸무게를 추정하라\n",
    "\n",
    "* 참고 : https://www.pymc.io/projects/examples/en/latest/case_studies/BART_introduction.html\n"
   ]
  },
  {
   "cell_type": "code",
   "execution_count": null,
   "id": "e27abb53",
   "metadata": {
    "scrolled": false
   },
   "outputs": [],
   "source": [
    "import pandas as pd \n",
    "\n",
    "data = pd.read_csv(\"https://raw.githubusercontent.com/ADPclass/ADP_book_ver01/main/data/26_problem7.csv\")\n",
    "data"
   ]
  },
  {
   "cell_type": "code",
   "execution_count": null,
   "id": "50f52d6f",
   "metadata": {
    "scrolled": true
   },
   "outputs": [],
   "source": [
    "from sklearn import linear_model\n",
    "help(linear_model)"
   ]
  },
  {
   "cell_type": "code",
   "execution_count": null,
   "id": "57b06fec",
   "metadata": {},
   "outputs": [],
   "source": [
    "from sklearn.linear_model._bayes import ARDRegression\n",
    "help(ARDRegression)\n",
    "\n",
    "\n",
    "# 1000번의 burn-in 이후 10,000의 MCMC를 수행\n",
    "# 회귀계수의 사전분포는 부적절한 균일분포(inproper uniform prior distribution),\n",
    "# 오차항의 분산의 사전분포는 역감마 분포로 지정.\n",
    "# 이때, 형상(Shape)모수와 척도(Scale)모수는 각각 0.005로 지정."
   ]
  },
  {
   "cell_type": "code",
   "execution_count": null,
   "id": "ef3fdd8c",
   "metadata": {},
   "outputs": [],
   "source": [
    "from sklearn.model_selection import train_test_split\n",
    "\n",
    "# 훈련 테스트 데이터셋 분리 \n",
    "X = data[[\"height\", \"weight\"]]\n",
    "y = data[\"waistline\"]\n",
    "X_train, X_test, y_train, y_test = train_test_split(X,y, test_size=0.3, random_state=7)"
   ]
  },
  {
   "cell_type": "code",
   "execution_count": null,
   "id": "f631a562",
   "metadata": {
    "scrolled": true
   },
   "outputs": [],
   "source": [
    "clf = ARDRegression(n_iter=1000,alpha_2=0.005, lambda_1=0.005, fit_intercept = False )## 부적절한 균일분포\n",
    "clf.fit(X_train, y_train)\n",
    "y_pred = clf.predict(X_test)\n",
    "y_pred"
   ]
  },
  {
   "cell_type": "markdown",
   "id": "86ee724e",
   "metadata": {},
   "source": [
    "# 7.1 회귀계수(반올림하여 소수점 두자리)를 구하시오.\n",
    "\n"
   ]
  },
  {
   "cell_type": "code",
   "execution_count": null,
   "id": "ea6b83ea",
   "metadata": {},
   "outputs": [],
   "source": [
    "clf.coef_"
   ]
  },
  {
   "cell_type": "markdown",
   "id": "69164c50",
   "metadata": {},
   "source": [
    "## 회귀계수  [ 0.538, -0.191]"
   ]
  },
  {
   "cell_type": "code",
   "execution_count": null,
   "id": "74a507f0",
   "metadata": {},
   "outputs": [],
   "source": [
    "X_test.iloc[0]"
   ]
  },
  {
   "cell_type": "markdown",
   "id": "86796e1f",
   "metadata": {},
   "source": [
    "## 7.2 위에서 만든 모델을 바탕으로 키 180cm, 허리둘레 85cm인 남성의 몸무게를 추정하라"
   ]
  },
  {
   "cell_type": "code",
   "execution_count": null,
   "id": "f709687a",
   "metadata": {},
   "outputs": [],
   "source": [
    "clf.predict([[180,85]])"
   ]
  },
  {
   "cell_type": "markdown",
   "id": "9d65a7ec",
   "metadata": {},
   "source": [
    "## 추정 몸무게  정답 : 80.68931"
   ]
  },
  {
   "cell_type": "code",
   "execution_count": null,
   "id": "fb85e6ed",
   "metadata": {},
   "outputs": [],
   "source": []
  },
  {
   "cell_type": "code",
   "execution_count": null,
   "id": "be029627",
   "metadata": {},
   "outputs": [],
   "source": []
  }
 ],
 "metadata": {
  "kernelspec": {
   "display_name": "Python 3 (ipykernel)",
   "language": "python",
   "name": "python3"
  },
  "language_info": {
   "codemirror_mode": {
    "name": "ipython",
    "version": 3
   },
   "file_extension": ".py",
   "mimetype": "text/x-python",
   "name": "python",
   "nbconvert_exporter": "python",
   "pygments_lexer": "ipython3",
   "version": "3.7.16"
  },
  "toc": {
   "base_numbering": 1,
   "nav_menu": {},
   "number_sections": false,
   "sideBar": true,
   "skip_h1_title": false,
   "title_cell": "Table of Contents",
   "title_sidebar": "Contents",
   "toc_cell": false,
   "toc_position": {
    "height": "calc(100% - 180px)",
    "left": "10px",
    "top": "150px",
    "width": "232.358px"
   },
   "toc_section_display": true,
   "toc_window_display": false
  }
 },
 "nbformat": 4,
 "nbformat_minor": 5
}
