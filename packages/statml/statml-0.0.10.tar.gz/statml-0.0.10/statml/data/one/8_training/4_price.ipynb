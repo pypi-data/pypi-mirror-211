{
 "cells": [
  {
   "cell_type": "markdown",
   "id": "3451f1ba",
   "metadata": {},
   "source": [
    "# 4번 문제 \n",
    "\n",
    "다음은 1월부터 9월까지의 은의 가격이다\n",
    "\n",
    "1.  은의 가격 및 이동평균값 3이 설정된 시계열 그래프를 그리세요. \n",
    "2.  1월 대비 9월의 은의 가격은 몇 % 올랐는가? (소수점 두번째 자리에서 반올림)"
   ]
  },
  {
   "cell_type": "code",
   "execution_count": null,
   "id": "f50d27a6",
   "metadata": {},
   "outputs": [],
   "source": [
    "# 라이브러리 불러오기 \n",
    "import pandas as pd \n",
    "import numpy as np\n",
    "\n",
    "data = pd.read_csv(\"./data/26_problem4.csv\")\n",
    "data"
   ]
  },
  {
   "cell_type": "code",
   "execution_count": null,
   "id": "dde3ee8b",
   "metadata": {
    "scrolled": false
   },
   "outputs": [],
   "source": [
    "ma_data = data.transpose() \n",
    "ma_data.columns = [\"month_price\"]\n",
    "ma_data"
   ]
  },
  {
   "cell_type": "code",
   "execution_count": null,
   "id": "4700728e",
   "metadata": {},
   "outputs": [],
   "source": [
    "ma_data[\"ma_3\"] = 0 \n",
    "ma_data.loc[\"3M\",\"ma_3\"] = ma_data[\"month_price\"][0:3].mean()\n",
    "ma_data.loc[\"4M\",\"ma_3\"] = ma_data[\"month_price\"][1:4].mean()\n",
    "ma_data.loc[\"5M\",\"ma_3\"] = ma_data[\"month_price\"][2:5].mean()\n",
    "ma_data.loc[\"6M\",\"ma_3\"] = ma_data[\"month_price\"][3:6].mean()\n",
    "ma_data.loc[\"7M\",\"ma_3\"] = ma_data[\"month_price\"][4:7].mean()\n",
    "ma_data.loc[\"8M\",\"ma_3\"] = ma_data[\"month_price\"][5:8].mean()\n",
    "ma_data.loc[\"9M\",\"ma_3\"] = ma_data[\"month_price\"][6:9].mean()\n",
    "\n",
    "ma_data"
   ]
  },
  {
   "cell_type": "code",
   "execution_count": null,
   "id": "63703ae8",
   "metadata": {},
   "outputs": [],
   "source": [
    "## 한 7행 정도라면 for문을 작성하는 것보다는 그냥 복사 붙여넣기로 하는게 편한듯 \n",
    "## 시험장에서는 단순한게 최고!! \n",
    "\n",
    "for i in range(3,10): \n",
    "    ma_data.loc[\"{}M\".format(i),\"ma_3\"] = ma_data[\"month_price\"][i-3:i].mean()"
   ]
  },
  {
   "cell_type": "code",
   "execution_count": null,
   "id": "1fc3967c",
   "metadata": {},
   "outputs": [],
   "source": [
    "ma_data"
   ]
  },
  {
   "cell_type": "code",
   "execution_count": null,
   "id": "7a078cbf",
   "metadata": {},
   "outputs": [],
   "source": [
    "import matplotlib.pyplot as plt \n",
    "plt.scatter(x=ma_data.index ,y = ma_data[\"month_price\"])\n",
    "plt.plot(ma_data.index[2:], ma_data[\"ma_3\"][2:],c='red')"
   ]
  },
  {
   "cell_type": "markdown",
   "id": "80fde02f",
   "metadata": {},
   "source": [
    "## 4-2.  1월 대비 9월의 은의 가격은 몇 % 올랐는가? 소수점 두번째 자리에서 반올림"
   ]
  },
  {
   "cell_type": "code",
   "execution_count": null,
   "id": "a23b6104",
   "metadata": {},
   "outputs": [],
   "source": [
    "ma_data"
   ]
  },
  {
   "cell_type": "code",
   "execution_count": null,
   "id": "5890dcd0",
   "metadata": {},
   "outputs": [],
   "source": [
    "round(ma_data[\"month_price\"][-1]/ma_data[\"month_price\"][0]*100,1)"
   ]
  },
  {
   "cell_type": "markdown",
   "id": "b65f2682",
   "metadata": {},
   "source": [
    "# 정답 : 258.5%"
   ]
  },
  {
   "cell_type": "code",
   "execution_count": null,
   "id": "d63b9272",
   "metadata": {},
   "outputs": [],
   "source": []
  }
 ],
 "metadata": {
  "kernelspec": {
   "display_name": "Python 3 (ipykernel)",
   "language": "python",
   "name": "python3"
  },
  "language_info": {
   "codemirror_mode": {
    "name": "ipython",
    "version": 3
   },
   "file_extension": ".py",
   "mimetype": "text/x-python",
   "name": "python",
   "nbconvert_exporter": "python",
   "pygments_lexer": "ipython3",
   "version": "3.7.16"
  },
  "toc": {
   "base_numbering": 1,
   "nav_menu": {},
   "number_sections": false,
   "sideBar": true,
   "skip_h1_title": false,
   "title_cell": "Table of Contents",
   "title_sidebar": "Contents",
   "toc_cell": false,
   "toc_position": {},
   "toc_section_display": true,
   "toc_window_display": false
  }
 },
 "nbformat": 4,
 "nbformat_minor": 5
}
