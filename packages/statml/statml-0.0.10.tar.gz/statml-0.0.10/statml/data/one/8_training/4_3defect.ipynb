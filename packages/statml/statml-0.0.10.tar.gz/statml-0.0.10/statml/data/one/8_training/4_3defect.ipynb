{
 "cells": [
  {
   "cell_type": "markdown",
   "id": "aeceba19",
   "metadata": {},
   "source": [
    "# 3번 문제 \n",
    "한 공장에서 생산된 제품에서 최근 추정 불량률은 90% 였다. <br> 오차의 한계가 5% 이하가 되도록하는 최소 표본 사이즈를 구하여라. "
   ]
  },
  {
   "cell_type": "code",
   "execution_count": null,
   "id": "301d7bab",
   "metadata": {},
   "outputs": [],
   "source": [
    "## 완전 기초통계 내용 \n",
    "## 최근 추정, 기초통계 내용이 많이 나옴, 기본적인 용어 등을 익히고 있어야 함 \n",
    "## python 으로 풀지 않아도 되는 문제들 "
   ]
  },
  {
   "cell_type": "markdown",
   "id": "c3721f9a",
   "metadata": {},
   "source": [
    "# 모비율에 대한 추정, 신뢰구간의 공식  \n",
    "* 95% 신뢰구간의 뜻은 모집단 평균이 포함되는 구간이 95% 확률로 생성된다는 의미 \n",
    "* 오차한계 = Z_0.05 * std/sqrt(n) \n"
   ]
  },
  {
   "cell_type": "code",
   "execution_count": null,
   "id": "90e87c27",
   "metadata": {},
   "outputs": [],
   "source": [
    "def calculate_sample_size(p, z, d) :\n",
    "    n = p*(1-p)*(z**2)/(d**2)\n",
    "    print(\"최소 샘플사이즈는 {}보다 커야합니다\".format(n))\n",
    "    "
   ]
  },
  {
   "cell_type": "code",
   "execution_count": null,
   "id": "a0c30f21",
   "metadata": {
    "scrolled": true
   },
   "outputs": [],
   "source": [
    "calculate_sample_size(0.9, 1.96,0.05)"
   ]
  },
  {
   "cell_type": "markdown",
   "id": "f9026180",
   "metadata": {},
   "source": [
    "# 정답 : 139"
   ]
  },
  {
   "cell_type": "code",
   "execution_count": null,
   "id": "737a47a7",
   "metadata": {},
   "outputs": [],
   "source": []
  },
  {
   "cell_type": "code",
   "execution_count": null,
   "id": "241a5d19",
   "metadata": {},
   "outputs": [],
   "source": []
  },
  {
   "cell_type": "code",
   "execution_count": null,
   "id": "702b189c",
   "metadata": {},
   "outputs": [],
   "source": []
  },
  {
   "cell_type": "code",
   "execution_count": null,
   "id": "e460732d",
   "metadata": {},
   "outputs": [],
   "source": [
    "## 아래는 설명을 돕기 위해 PPT에 들어간 내용 "
   ]
  },
  {
   "cell_type": "code",
   "execution_count": null,
   "id": "a719d4a5",
   "metadata": {},
   "outputs": [],
   "source": [
    "import numpy as np \n",
    "import matplotlib.pyplot as plt \n",
    "from scipy.stats import norm \n",
    "x = np.linspace(-3,3,500)\n",
    "plt.plot(x, norm.pdf(x, loc=0, scale = 1))\n",
    "plt.fill_between(np.arange(-1.96,1.96,0.01), norm.pdf(np.arange(-1.96,1.96,0.01)))\n",
    "plt.hlines(0.05, -3, 3, color ='red')"
   ]
  },
  {
   "cell_type": "code",
   "execution_count": null,
   "id": "7365681b",
   "metadata": {},
   "outputs": [],
   "source": []
  }
 ],
 "metadata": {
  "kernelspec": {
   "display_name": "Python 3 (ipykernel)",
   "language": "python",
   "name": "python3"
  },
  "language_info": {
   "codemirror_mode": {
    "name": "ipython",
    "version": 3
   },
   "file_extension": ".py",
   "mimetype": "text/x-python",
   "name": "python",
   "nbconvert_exporter": "python",
   "pygments_lexer": "ipython3",
   "version": "3.7.16"
  },
  "toc": {
   "base_numbering": 1,
   "nav_menu": {},
   "number_sections": false,
   "sideBar": true,
   "skip_h1_title": false,
   "title_cell": "Table of Contents",
   "title_sidebar": "Contents",
   "toc_cell": false,
   "toc_position": {},
   "toc_section_display": true,
   "toc_window_display": false
  }
 },
 "nbformat": 4,
 "nbformat_minor": 5
}
