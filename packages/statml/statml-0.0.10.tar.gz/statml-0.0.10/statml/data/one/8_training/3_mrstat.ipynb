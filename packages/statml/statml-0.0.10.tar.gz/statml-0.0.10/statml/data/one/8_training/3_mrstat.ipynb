{
 "cells": [
  {
   "cell_type": "markdown",
   "id": "13138fe3",
   "metadata": {},
   "source": [
    "## 최신 기출동형 모의고사 - 제3회 기출동형 모의고사\n",
    "### 1. 머신러닝 (50점)"
   ]
  },
  {
   "cell_type": "markdown",
   "id": "98b3f9ee",
   "metadata": {},
   "source": [
    "#### (1) 데이터를 탐색하고 탐색 결과를 제시하시오."
   ]
  },
  {
   "cell_type": "code",
   "execution_count": null,
   "id": "c2cdea0b",
   "metadata": {},
   "outputs": [],
   "source": [
    "import pandas as pd\n",
    "import numpy as np \n",
    "hotel = pd.read_csv('../data/hotel_bookings.csv')\n",
    "hotel\n",
    "\n",
    "# 결측치 확인\n",
    "hotel.isna().sum()"
   ]
  },
  {
   "cell_type": "code",
   "execution_count": null,
   "id": "4c1d1236",
   "metadata": {},
   "outputs": [],
   "source": [
    "hotel.info()"
   ]
  },
  {
   "cell_type": "code",
   "execution_count": null,
   "id": "f8c7a11b",
   "metadata": {},
   "outputs": [],
   "source": [
    "hotel.deposit_type.describe()"
   ]
  },
  {
   "cell_type": "code",
   "execution_count": null,
   "id": "f97ba32d",
   "metadata": {},
   "outputs": [],
   "source": [
    "hotel.groupby(hotel['deposit_type']).mean()['adr']"
   ]
  },
  {
   "cell_type": "markdown",
   "id": "f6841eac",
   "metadata": {},
   "source": [
    "#### (2) 결측치를 탐색하고 대체 방법 및 근거를 제시하시오."
   ]
  },
  {
   "cell_type": "code",
   "execution_count": null,
   "id": "f742277d",
   "metadata": {},
   "outputs": [],
   "source": [
    "# 결측치 확인\n",
    "hotel.isna().sum()"
   ]
  },
  {
   "cell_type": "code",
   "execution_count": null,
   "id": "ffb23e69",
   "metadata": {},
   "outputs": [],
   "source": [
    "#결측치 비율 확인\n",
    "print('lead time 결측치 비율: {}%'.format(round(5 /len(hotel)*100, 2)))\n",
    "print('is repeated guest 결측치 비율: {}%'.format(round(358/len(hotel)*100, 2)))\n",
    "print('adr 결측치 비율: {}%'.format(round(1063 /len(hotel)*100, 2)))"
   ]
  },
  {
   "cell_type": "code",
   "execution_count": null,
   "id": "2c5bec75",
   "metadata": {},
   "outputs": [],
   "source": [
    "hotel_nonull=hotel\n",
    "## lead time 변수의 결측치는 1%가 되지 않음\n",
    "## 제거한다\n",
    "hotel_nonull.dropna(subset=['lead_time'], axis =0, inplace =True)\n",
    "\n",
    "## is_repeated_guest 변수는 binary이기 때문에\n",
    "## 최빈값으로 대체한다\n",
    "hotel_nonull['is_repeated_guest'].fillna(0)\n",
    "\n",
    "## adr 변수는 연속형 변수이기 때문에 평균대치법을 사용한다.\n",
    "## 다만, 보증금 유형에 따라 adr이 다르기 때문에\n",
    "## adr그룹별 평균을 이용해 결측값을 대체한다.\n",
    "fill_mean_func = lambda g: g.fillna(g.mean())\n",
    "hotel_nonull=hotel_nonull.groupby('deposit_type').apply(fill_mean_func)\n",
    "\n",
    "hotel_nonull.index =hotel_nonull.index.droplevel(0 )\n",
    "hotel_nonull.sort_index(inplace =True )\n",
    "\n",
    "hotel_nonull.isna().sum()"
   ]
  },
  {
   "cell_type": "markdown",
   "id": "c87f5cc8",
   "metadata": {},
   "source": [
    "#### (4) 데이터 불균형을 시각화하여 식별하고 불균형 판단근거를 작성하시오."
   ]
  },
  {
   "cell_type": "code",
   "execution_count": null,
   "id": "3aa02d28",
   "metadata": {},
   "outputs": [],
   "source": [
    "import seaborn as sns\n",
    "import matplotlib.pyplot as plt\n",
    "from matplotlib import font_manager, rc\n",
    "font_path ='C:/Windows/Fonts/NGULIM.TTF'\n",
    "font = font_manager.FontProperties(fname =font_path).get_name()\n",
    "rc('font', family =font)\n",
    "\n",
    "sns.countplot(x='is_canceled', data =hotel_nonull)\n",
    "plt.title('데이터 불균형 시각화', fontsize =14)\n",
    "plt.show()\n",
    "ratio0 = round(len(hotel_nonull[hotel_nonull['is_canceled']==0])/len(hotel_nonull)*100, 2)\n",
    "ratio1 = round(len(hotel_nonull[hotel_nonull['is_canceled']==1])/len(hotel_nonull)*100, 2)\n",
    "print('0 비율: {}%'.format(ratio0))\n",
    "print('1 비율: {}%'.format(ratio1))"
   ]
  },
  {
   "cell_type": "markdown",
   "id": "4c17bc7b",
   "metadata": {},
   "source": [
    "#### (6) 기법을 선정한 이유를 작성하고, 원데이터를 포함해 3개의 데이터 세트를 구성하시오."
   ]
  },
  {
   "cell_type": "code",
   "execution_count": null,
   "id": "39fcf3ee",
   "metadata": {},
   "outputs": [],
   "source": [
    "# 먼저 hotel_null 데이터의 object 형태 변수를 one_hot_encoding함\n",
    "hotel_nonull=pd.get_dummies(hotel_nonull)\n",
    "\n",
    "from imblearn.over_sampling import RandomOverSampler, SMOTE\n",
    "import time\n",
    "# 원본 데이터 (hotel_nonull)\n",
    "X = hotel_nonull[hotel_nonull.columns.difference(['is_canceled'])]\n",
    "y = hotel_nonull['is_canceled']\n",
    "\n",
    "start = time.time() # 시작 시간 저장\n",
    "# Random Oversampling\n",
    "ros = RandomOverSampler(random_state =42)\n",
    "X_ro, y_ro = ros.fit_resample(X, y)\n",
    "print('time :', time.time() - start) # 현재시각 - 시작시간 = 실행 시간"
   ]
  },
  {
   "cell_type": "code",
   "execution_count": null,
   "id": "67ec45b3",
   "metadata": {},
   "outputs": [],
   "source": [
    "start = time.time() # 시작 시간 저장\n",
    "# SMOTE\n",
    "sm = SMOTE(random_state =42)\n",
    "X_sm, y_sm = ros.fit_resample(X, y)\n",
    "print('time :', time.time() - start) # 현재시각 - 시작시간 = 실행 시간"
   ]
  },
  {
   "cell_type": "markdown",
   "id": "9bb3bc38",
   "metadata": {},
   "source": [
    "#### (7) 오버 샘플링 데이터와 원데이터를 사용해 정확도 측면 모델 하나와 속도 측면의 모델 하나를 선정하고, 그 이유를 설명하시오."
   ]
  },
  {
   "cell_type": "code",
   "execution_count": null,
   "id": "e834e1aa",
   "metadata": {},
   "outputs": [],
   "source": [
    "from sklearn.model_selection import train_test_split\n",
    "from sklearn.ensemble import RandomForestClassifier\n",
    "from sklearn.metrics import classification_report\n",
    "\n",
    "start = time.time() # 시작 시간 저장\n",
    "X_train, X_test, y_train, y_test = train_test_split(X, y, test_size =0.2, stratify =y, random_state =100)\n",
    "clf = RandomForestClassifier(n_estimators =100, min_samples_split =10)\n",
    "clf.fit(X_train, y_train)\n",
    "print('train 정확도 :', clf.score(X_train, y_train), '\\n')\n",
    "pred=clf.predict(X_test)\n",
    "print(classification_report(y_test, pred))\n",
    "print('time :', time.time() - start) # 현재시각 - 시작시간 = 실행 시간"
   ]
  },
  {
   "cell_type": "code",
   "execution_count": null,
   "id": "4c7b905f",
   "metadata": {},
   "outputs": [],
   "source": [
    "start = time.time() # 시작 시간 저장\n",
    "X_ro_train, X_ro_test, y_ro_train, y_ro_test = train_test_split(X_ro, y_ro, test_size =0.2, stratify =y_ro, random_state =100)\n",
    "clf_ro = RandomForestClassifier(n_estimators =100, min_samples_split=10, random_state =100)\n",
    "clf_ro.fit(X_ro_train, y_ro_train)\n",
    "print('train 정확도 :', clf_ro.score(X_ro_train, y_ro_train), '\\n')\n",
    "pred_ro=clf_ro.predict(X_ro_test)\n",
    "print(classification_report(y_ro_test, pred_ro))\n",
    "print('time :', time.time() - start) # 현재시각 - 시작시간 = 실행 시간"
   ]
  },
  {
   "cell_type": "code",
   "execution_count": null,
   "id": "9297a8b4",
   "metadata": {},
   "outputs": [],
   "source": [
    "start = time.time() # 시작 시간 저장\n",
    "X_sm_train, X_sm_test, y_sm_train, y_sm_test = train_test_split(X_sm, y_sm, test_size =0.2, stratify =y_sm, random_state =100)\n",
    "clf_sm = RandomForestClassifier(n_estimators =100, min_samples_split=10, random_state =100)\n",
    "clf_sm.fit(X_sm_train, y_sm_train)\n",
    "print('train 정확도 :', clf_sm.score(X_sm_train, y_sm_train), '\\n')\n",
    "pred_sm=clf_sm.predict(X_sm_test)\n",
    "print(classification_report(y_sm_test, pred_sm))\n",
    "print('time :', time.time() - start) # 현재시각 - 시작시간 = 실행 시간"
   ]
  },
  {
   "cell_type": "code",
   "execution_count": null,
   "id": "6491164e",
   "metadata": {},
   "outputs": [],
   "source": [
    "raw=0 +1.7477023601531982\n",
    "ro=0.03391218185424805+3.019350051879883\n",
    "sm=0.0389096736907959+3.2345712184906006\n",
    "print('원본 데이터세트의 모델링 수행속도: ','\\t', raw)\n",
    "print('RO 데이터세트의 모델링 수행속도: ','\\t', ro)\n",
    "print('SMOTE 데이터세트의 모델링 수행속도: ','\\t', sm) "
   ]
  },
  {
   "cell_type": "markdown",
   "id": "21fc9527",
   "metadata": {},
   "source": [
    "### 2. 통계분석 (50점)"
   ]
  },
  {
   "cell_type": "markdown",
   "id": "d8ed8f00",
   "metadata": {},
   "source": [
    "#### 1. 공장에서는 시제품의 농도(%)가 60이라고 주장하며 품질관리팀에서 10개의 샘플을 뽑았다. 유의수준 5%에서 다음을 검정하시오."
   ]
  },
  {
   "cell_type": "code",
   "execution_count": null,
   "id": "29c9999d",
   "metadata": {},
   "outputs": [],
   "source": [
    "x =[52 ,50 ,62 ,75 ,26 ,45 ,62 ,35 ,57 ,14 ]\n",
    "\n",
    "import numpy as np\n",
    "moe=5\n",
    "a=0.05\n",
    "std = np.std(x)\n",
    "print(std)"
   ]
  },
  {
   "cell_type": "code",
   "execution_count": null,
   "id": "058bbb22",
   "metadata": {},
   "outputs": [],
   "source": [
    "from scipy import stats\n",
    "(stats.t.ppf(q =.05 ,df =9 )*std /5 )**2"
   ]
  },
  {
   "cell_type": "code",
   "execution_count": null,
   "id": "90c31bf7",
   "metadata": {},
   "outputs": [],
   "source": [
    "from scipy import stats\n",
    "stats.wilcoxon(pd.Series(x)-60)"
   ]
  },
  {
   "cell_type": "markdown",
   "id": "0e52db4d",
   "metadata": {},
   "source": [
    "#### 2. 코로나 시계열 데이터로 다음을 수행하시오."
   ]
  },
  {
   "cell_type": "code",
   "execution_count": null,
   "id": "1b3441a4",
   "metadata": {},
   "outputs": [],
   "source": [
    "import pandas as pd\n",
    "covid = pd.read_csv('../data/서울특별시 코로나19.csv')\n",
    "print (covid.head())\n",
    "covid1 = covid[covid.columns.difference(['날짜'])]"
   ]
  },
  {
   "cell_type": "code",
   "execution_count": null,
   "id": "46e56b21",
   "metadata": {},
   "outputs": [],
   "source": [
    "import numpy as np\n",
    "import statsmodels.api as sm\n",
    "from statsmodels.tsa.arima_process import ArmaProcess\n",
    "def acf(x, n_lags):\n",
    "    return sm.tsa.stattools.acf(x, nlags =n_lags)\n",
    "\n",
    "# Max ACF lags\n",
    "n_lags =785\n",
    "lag_arr = np.repeat(n_lags, covid1.shape[1])\n",
    "acf_list = list(map(acf, covid1.transpose().to_numpy(), lag_arr))\n",
    "acf_df = pd.DataFrame(acf_list).transpose()\n",
    "acf_df.columns = covid1.columns\n",
    "\n",
    "acf_df"
   ]
  },
  {
   "cell_type": "code",
   "execution_count": null,
   "id": "a0f903d1",
   "metadata": {},
   "outputs": [],
   "source": [
    "acf_df =acf_df.T\n",
    "acf_df.head()"
   ]
  },
  {
   "cell_type": "code",
   "execution_count": null,
   "id": "ce9ab55a",
   "metadata": {},
   "outputs": [],
   "source": [
    "import scipy.cluster.hierarchy as sch\n",
    "import matplotlib.pyplot as plt\n",
    "from matplotlib import font_manager, rc\n",
    "font_path ='C:/Windows/Fonts/NGULIM.TTF'\n",
    "font = font_manager.FontProperties(fname =font_path).get_name()\n",
    "rc('font', family =font)\n",
    "\n",
    "plt.figure(figsize=(15, 5))\n",
    "label = acf_df.index\n",
    "dend1=sch.linkage(acf_df, method ='average')\n",
    "cutoff =0.5 *max(dend1[:,2])\n",
    "dend_res1=sch.dendrogram(dend1, color_threshold=cutoff, labels=label)\n",
    "plt.show()"
   ]
  },
  {
   "cell_type": "markdown",
   "id": "484a4d03",
   "metadata": {},
   "source": [
    "#### 3. 사회과학, 자연과학, 공학 세 개 학과의 평점조사표를 보고 학과와 성적이 관계있는지 검정하시오."
   ]
  },
  {
   "cell_type": "code",
   "execution_count": null,
   "id": "61b3822e",
   "metadata": {},
   "outputs": [],
   "source": [
    "사회 = [16, 30, 12]\n",
    "자연 = [12, 20, 3]\n",
    "공학 = [18, 13, 14]\n",
    "table = pd.DataFrame({'사회과학': 사회,\n",
    "                     '자연과학': 자연,\n",
    "                     '공학': 공학},\n",
    "                     index=['3.5~4.5', '2.5~3.5', '1.5~2.5'])\n",
    "print (table)"
   ]
  },
  {
   "cell_type": "code",
   "execution_count": null,
   "id": "d3e39b4c",
   "metadata": {},
   "outputs": [],
   "source": [
    "from scipy import stats\n",
    "stats.chi2_contingency(observed=table)"
   ]
  },
  {
   "cell_type": "code",
   "execution_count": null,
   "id": "fed76cfd",
   "metadata": {},
   "outputs": [],
   "source": []
  }
 ],
 "metadata": {
  "kernelspec": {
   "display_name": "Python 3 (ipykernel)",
   "language": "python",
   "name": "python3"
  },
  "language_info": {
   "codemirror_mode": {
    "name": "ipython",
    "version": 3
   },
   "file_extension": ".py",
   "mimetype": "text/x-python",
   "name": "python",
   "nbconvert_exporter": "python",
   "pygments_lexer": "ipython3",
   "version": "3.7.16"
  }
 },
 "nbformat": 4,
 "nbformat_minor": 5
}
