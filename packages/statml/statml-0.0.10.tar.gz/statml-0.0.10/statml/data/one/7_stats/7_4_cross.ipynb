{
 "cells": [
  {
   "cell_type": "markdown",
   "id": "bd26e5e7",
   "metadata": {
    "toc": true
   },
   "source": [
    "<h1>Table of Contents<span class=\"tocSkip\"></span></h1>\n",
    "<div class=\"toc\"><ul class=\"toc-item\"><li><span><a href=\"#적합도-검정\" data-toc-modified-id=\"적합도-검정-1\"><span class=\"toc-item-num\">1&nbsp;&nbsp;</span>적합도 검정</a></span></li><li><span><a href=\"#독립성-검정\" data-toc-modified-id=\"독립성-검정-2\"><span class=\"toc-item-num\">2&nbsp;&nbsp;</span>독립성 검정</a></span></li></ul></div>"
   ]
  },
  {
   "cell_type": "markdown",
   "id": "19af7a65",
   "metadata": {},
   "source": [
    "## 적합도 검정"
   ]
  },
  {
   "cell_type": "code",
   "execution_count": null,
   "id": "122bf57c",
   "metadata": {},
   "outputs": [],
   "source": [
    "import pandas as pd\n",
    "# 데이터 불러오기\n",
    "df = pd.read_csv(\"../data/titanic.csv\")\n",
    "# titinic 데이터의 구조 확인\n",
    "df.info()\n"
   ]
  },
  {
   "cell_type": "code",
   "execution_count": null,
   "id": "5dc424a8",
   "metadata": {},
   "outputs": [],
   "source": [
    "df_t = df[df['survived']==1]\n",
    "table= df_t[['sex']].value_counts()\n",
    "table\n"
   ]
  },
  {
   "cell_type": "code",
   "execution_count": null,
   "id": "f32432b0",
   "metadata": {},
   "outputs": [],
   "source": [
    "# 유의수준 0.05로 적합도 검정 수행\n",
    "from scipy.stats import chisquare\n",
    "chi = chisquare(table, f_exp=[171,171])\n",
    "print('<적합도 검정>\\n',chi)\n"
   ]
  },
  {
   "cell_type": "markdown",
   "id": "d94846e3",
   "metadata": {},
   "source": [
    "## 독립성 검정"
   ]
  },
  {
   "cell_type": "code",
   "execution_count": null,
   "id": "a4b17f5e",
   "metadata": {},
   "outputs": [],
   "source": [
    "# 데이터 불러오기\n",
    "df = pd.read_csv(\"../data/titanic.csv\")\n",
    "table = pd.crosstab(df['class'], df['survived'])\n",
    "table\n"
   ]
  },
  {
   "cell_type": "code",
   "execution_count": null,
   "id": "c60016e0",
   "metadata": {},
   "outputs": [],
   "source": [
    "# 카이제곱 검정을 통한 독립성 검정 수행\n",
    "from scipy.stats import chi2_contingency\n",
    "chi, p, df, expect = chi2_contingency(table) \n",
    "print('Statistic:', chi)\n",
    "print('p-value:', p)\n",
    "print('df:', df)\n",
    "print('expect: \\n', expect)\n"
   ]
  },
  {
   "cell_type": "code",
   "execution_count": null,
   "id": "ce0f65f1",
   "metadata": {},
   "outputs": [],
   "source": []
  }
 ],
 "metadata": {
  "kernelspec": {
   "display_name": "Python 3 (ipykernel)",
   "language": "python",
   "name": "python3"
  },
  "language_info": {
   "codemirror_mode": {
    "name": "ipython",
    "version": 3
   },
   "file_extension": ".py",
   "mimetype": "text/x-python",
   "name": "python",
   "nbconvert_exporter": "python",
   "pygments_lexer": "ipython3",
   "version": "3.7.16"
  },
  "toc": {
   "base_numbering": 1,
   "nav_menu": {},
   "number_sections": true,
   "sideBar": true,
   "skip_h1_title": false,
   "title_cell": "Table of Contents",
   "title_sidebar": "Contents",
   "toc_cell": true,
   "toc_position": {},
   "toc_section_display": true,
   "toc_window_display": true
  }
 },
 "nbformat": 4,
 "nbformat_minor": 5
}
