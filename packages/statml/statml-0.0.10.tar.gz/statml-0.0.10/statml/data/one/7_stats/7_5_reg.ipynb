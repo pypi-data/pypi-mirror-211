{
 "cells": [
  {
   "cell_type": "markdown",
   "id": "7285227a",
   "metadata": {
    "toc": true
   },
   "source": [
    "<h1>Table of Contents<span class=\"tocSkip\"></span></h1>\n",
    "<div class=\"toc\"><ul class=\"toc-item\"></ul></div>"
   ]
  },
  {
   "cell_type": "code",
   "execution_count": null,
   "id": "b16d9853",
   "metadata": {},
   "outputs": [],
   "source": [
    "import pandas as pd \n",
    "import numpy as np \n",
    "house = pd.read_csv('../data/kc_house_data.csv')\n",
    "house = house[[\"price\",\"sqft_living\"]]\n",
    "## 독립변수와 종속변수의 선형 가정 \n",
    "house.corr()\n"
   ]
  },
  {
   "cell_type": "code",
   "execution_count": null,
   "id": "7581a056",
   "metadata": {},
   "outputs": [],
   "source": [
    "from statsmodels.formula.api import ols\n",
    "import matplotlib.pyplot as plt\n",
    "# 변수 할당 \n",
    "y = house['price']\n",
    "X = house[['sqft_living']]\n",
    "# 단순선형회귀모형 적합\n",
    "lr = ols('price ~ sqft_living',data=house).fit()\n",
    "y_pred = lr.predict(X)\n",
    "# 시각화 \n",
    "plt.scatter(X, y) ## 원 데이터 산포도\n",
    "plt.plot(X, y_pred, color='red') ## 회귀직선 추가 \n",
    "plt.xlabel('sqft_living', fontsize=10)\n",
    "plt.ylabel('price',fontsize=10)\n",
    "plt.title('Linear Regression Result')\n",
    "plt.show()\n"
   ]
  },
  {
   "cell_type": "code",
   "execution_count": null,
   "id": "6ec862d9",
   "metadata": {},
   "outputs": [],
   "source": [
    "lr.summary()"
   ]
  },
  {
   "cell_type": "code",
   "execution_count": null,
   "id": "4c92c9bb",
   "metadata": {},
   "outputs": [],
   "source": []
  },
  {
   "cell_type": "code",
   "execution_count": null,
   "id": "87f6527e",
   "metadata": {},
   "outputs": [],
   "source": [
    "import pandas as pd\n",
    "# 데이터 불러오기\n",
    "Cars = pd.read_csv('../data/Cars93.csv')\n",
    "Cars.info()\n"
   ]
  },
  {
   "cell_type": "code",
   "execution_count": null,
   "id": "4fe7daa5",
   "metadata": {},
   "outputs": [],
   "source": [
    "import numpy as np\n",
    "import statsmodels.api as sm\n",
    "import statsmodels.formula.api as smf\n",
    "# ols 모델의 formula을 정의할 때, 일부 특수문자는 쓸 수 없기에, 컬럼 특수문자 제거 \n",
    "Cars.columns = Cars.columns.str.replace(\".\",\"\")\n",
    "model = smf.ols(formula =\"Price ~ EngineSize + RPM + Weight+ Length + MPGcity + MPGhighway\", data = Cars)\n",
    "result = model.fit()\n",
    "result.summary()\n"
   ]
  },
  {
   "cell_type": "code",
   "execution_count": null,
   "id": "467a95cc",
   "metadata": {},
   "outputs": [],
   "source": [
    "result."
   ]
  },
  {
   "cell_type": "code",
   "execution_count": null,
   "id": "8e61a75f",
   "metadata": {},
   "outputs": [],
   "source": [
    "Cars[['EngineSize','RPM' , 'Weight','Length','MPGcity','MPGhighway']].corr()"
   ]
  },
  {
   "cell_type": "code",
   "execution_count": null,
   "id": "75e7522d",
   "metadata": {},
   "outputs": [],
   "source": [
    "from patsy import dmatrices\n",
    "from statsmodels.stats.outliers_influence import variance_inflation_factor\n",
    "# 독립변수와 종속변수를 데이터프레임으로 나누어 저장하는 함수 \n",
    "y,X = dmatrices(\"Price ~ EngineSize + RPM + Weight+ Length + MPGcity + MPGhighway\",\n",
    "                data = Cars,return_type =\"dataframe\")\n",
    "# 독립변수끼리의 VIF값을 계산하여 데이터프레임으로 만드는 과정 \n",
    "vif_list = []\n",
    "for i in range(1,len(X.columns)): \n",
    "    vif_list.append([variance_inflation_factor(X.values,i), X.columns[i]])\n",
    "pd.DataFrame(vif_list,columns=['vif','variable'])\n"
   ]
  },
  {
   "cell_type": "code",
   "execution_count": null,
   "id": "091edfd1",
   "metadata": {},
   "outputs": [],
   "source": [
    "model = smf.ols(formula =\"Price ~ EngineSize + RPM + Weight  + MPGhighway\", data = Cars)\n",
    "result = model.fit()\n",
    "result.summary()"
   ]
  },
  {
   "cell_type": "code",
   "execution_count": null,
   "id": "b1fb79c2",
   "metadata": {},
   "outputs": [],
   "source": [
    "df=pd.concat([X,y], axis=1)"
   ]
  },
  {
   "cell_type": "code",
   "execution_count": null,
   "id": "19df4244",
   "metadata": {},
   "outputs": [],
   "source": [
    "df=df.drop(labels='Intercept', axis=1)"
   ]
  },
  {
   "cell_type": "code",
   "execution_count": null,
   "id": "165e3914",
   "metadata": {},
   "outputs": [],
   "source": [
    "df"
   ]
  },
  {
   "cell_type": "code",
   "execution_count": null,
   "id": "81530c93",
   "metadata": {},
   "outputs": [],
   "source": []
  },
  {
   "cell_type": "code",
   "execution_count": null,
   "id": "81564332",
   "metadata": {},
   "outputs": [],
   "source": [
    "X.columns.difference(['Intercept'])"
   ]
  },
  {
   "cell_type": "code",
   "execution_count": null,
   "id": "53598f2e",
   "metadata": {},
   "outputs": [],
   "source": [
    "import time\n",
    "import itertools\n",
    "def processSubset(X,y, feature_set):\n",
    "            model = sm.OLS(y,X[list(feature_set)]) # Modeling\n",
    "            regr = model.fit() # 모델 학습\n",
    "            AIC = regr.aic # 모델의 AIC\n",
    "            return {\"model\":regr, \"AIC\":AIC}\n",
    "        \n",
    "# 전진선택법\n",
    "def forward(X, y, predictors):\n",
    "    # 데이터 변수들이 미리정의된 predictors에 있는지 없는지 확인 및 분류\n",
    "    remaining_predictors = [p for p in X.columns.difference(['Intercept']) if p not in predictors]\n",
    "    results = []\n",
    "    for p in remaining_predictors:\n",
    "        results.append(processSubset(X=X, y= y, feature_set=predictors+[p] +['Intercept']))\n",
    "        \n",
    "    # 데이터프레임으로 변환\n",
    "    models = pd.DataFrame(results)\n",
    "    f1=pd.DataFrame(remaining_predictors, columns=['Features'])\n",
    "    c=pd.concat([f1, models['AIC']], axis = 1)\n",
    "    print('\\n')\n",
    "    print(c)\n",
    "    \n",
    "    # AIC가 가장 낮은 것을 선택\n",
    "    best_model = models.loc[models['AIC'].argmin()] # index\n",
    "    print(\"Processed \", models.shape[0], \"models on\", len(predictors)+1, \"predictors in\")\n",
    "    print('Selected predictors:',best_model['model'].model.exog_names,' AIC:',best_model['AIC'])\n",
    "    return best_model\n",
    "\n",
    "### 전진선택법 모델\n",
    "def forward_model(X,y):\n",
    "\n",
    "    Fmodels = pd.DataFrame(columns=[\"AIC\",\"model\"])\n",
    "    tic = time.time()\n",
    "    \n",
    "    # 미리 정의된 데이터 변수\n",
    "    predictors = []\n",
    "    \n",
    "    # 변수 1~10개 : 0-9 -> 1-10\n",
    "    for i in range(1,len(X.columns.difference(['Intercept']))+1):\n",
    "        Forward_result = forward(X=X,y=y,predictors=predictors)\n",
    "        if i > 1 :\n",
    "            if Forward_result[\"AIC\"] > Fmodel_before:\n",
    "                break\n",
    "        Fmodels.loc[i] = Forward_result\n",
    "        predictors = Fmodels.loc[i][\"model\"].model.exog_names\n",
    "        Fmodel_before = Fmodels.loc[i][\"AIC\"]\n",
    "        predictors = [k for k in predictors if k != 'Intercept']\n",
    "    toc = time.time()\n",
    "    print(\"Total elapsed time:\",(toc-tic), \"seconds.\")\n",
    "    \n",
    "    return (Fmodels['model'][len(Fmodels['model'])])"
   ]
  },
  {
   "cell_type": "code",
   "execution_count": null,
   "id": "86f505ef",
   "metadata": {},
   "outputs": [],
   "source": [
    "# 후진소거법\n",
    "def backward(X,y,predictors):\n",
    "    tic = time.time()\n",
    "    results = []\n",
    "    \n",
    "    # 데이터 변수들이 미리정의된 predictors 조합 확인\n",
    "    for combo in itertools.combinations(predictors, len(predictors) -1):\n",
    "        results.append(processSubset(X=X, y= y, feature_set = list(combo) +['Intercept'] ))\n",
    "    models = pd.DataFrame(results)\n",
    "    f1=pd.DataFrame(predictors, columns=['Feature'])\n",
    "    c=pd.concat([f1, models['AIC']], axis = 1)\n",
    "    print('\\n')\n",
    "    print(c)\n",
    "    \n",
    "    # 가장 낮은 AIC를 가진 모델을 선택\n",
    "    best_model = models.loc[models['AIC'].argmin()]\n",
    "    toc = time.time()\n",
    "    print(\"Processed \", models.shape[0], \"models on\", len(predictors) -1, \"predictors in\", (toc - tic))\n",
    "    print('Selected predictors:',best_model['model'].model.exog_names, 'AIC:',best_model['AIC'])\n",
    "\n",
    "    return best_model\n",
    "\n",
    "def backward_model(X,y) :\n",
    "    Bmodels = pd.DataFrame(columns=[\"AIC\",\"model\"], index = range(1,len(X.columns)))\n",
    "    tic = time.time()\n",
    "    predictors = X.columns.difference(['const'])\n",
    "    Bmodel_before = processSubset(X,y,predictors)['AIC']\n",
    "    \n",
    "    while (len(predictors) > 1):\n",
    "        Backward_result = backward(X=X, y= y, predictors=predictors)\n",
    "        if Backward_result['AIC'] > Bmodel_before :\n",
    "            break\n",
    "        Bmodels.loc[len(predictors) -1] = Backward_result\n",
    "        predictors = Bmodels.loc[len(predictors) - 1]['model'].model.exog_names\n",
    "        Bmodel_before = Backward_result[\"AIC\"]\n",
    "        predictors = [k for k in predictors if k != 'Intercept']\n",
    "    \n",
    "    toc = time.time()\n",
    "    print(\"Total elapsed time:\",(toc-tic),\"seconds.\")\n",
    "    return (Bmodels[\"model\"].dropna().iloc[0])"
   ]
  },
  {
   "cell_type": "code",
   "execution_count": null,
   "id": "b1242b94",
   "metadata": {},
   "outputs": [],
   "source": [
    "# 단계적 선택법\n",
    "def Stepwise_model(X,y):\n",
    "    Stepmodels = pd.DataFrame(columns=[\"AIC\", \"model\"])\n",
    "    tic = time.time()\n",
    "    predictors = []\n",
    "    Smodel_before = processSubset(X,y,predictors+['Intercept'])['AIC']\n",
    "\n",
    "    for i in range(1, len(X.columns.difference(['Intercept'])) +1):\n",
    "        Forward_result = forward(X=X, y=y, predictors=predictors) \n",
    "        print('forward--^')\n",
    "        Stepmodels.loc[i] = Forward_result\n",
    "        predictors = Stepmodels.loc[i][\"model\"].model.exog_names\n",
    "        predictors = [ k for k in predictors if k !='Intercept']\n",
    "        Backward_result = backward(X=X, y=y, predictors=predictors)\n",
    "\n",
    "        if Backward_result['AIC']< Forward_result['AIC']:\n",
    "            Stepmodels.loc[i] = Backward_result\n",
    "            predictors = Stepmodels.loc[i][\"model\"].model.exog_names\n",
    "            Smodel_before = Stepmodels.loc[i][\"AIC\"]\n",
    "            predictors = [ k for k in predictors if k !='Intercept']\n",
    "            print('backward--^')\n",
    "\n",
    "        if Stepmodels.loc[i]['AIC']> Smodel_before:\n",
    "            break\n",
    "        else:\n",
    "            Smodel_before = Stepmodels.loc[i][\"AIC\"]\n",
    "    toc = time.time()\n",
    "    print(\"Total elapsed time:\", (toc - tic), \"seconds.\")\n",
    "\n",
    "    return (Stepmodels['model'][len(Stepmodels['model'])])\n"
   ]
  },
  {
   "cell_type": "code",
   "execution_count": null,
   "id": "d9a739c2",
   "metadata": {},
   "outputs": [],
   "source": [
    "Best_model = Stepwise_model(X=X, y=y)"
   ]
  },
  {
   "cell_type": "code",
   "execution_count": null,
   "id": "a795ec94",
   "metadata": {},
   "outputs": [],
   "source": [
    "Best_model.summary()"
   ]
  },
  {
   "cell_type": "code",
   "execution_count": null,
   "id": "7ccd747e",
   "metadata": {},
   "outputs": [],
   "source": []
  },
  {
   "cell_type": "code",
   "execution_count": null,
   "id": "0f05adc9",
   "metadata": {},
   "outputs": [],
   "source": []
  },
  {
   "cell_type": "code",
   "execution_count": null,
   "id": "c45f3985",
   "metadata": {},
   "outputs": [],
   "source": []
  }
 ],
 "metadata": {
  "kernelspec": {
   "display_name": "Python 3 (ipykernel)",
   "language": "python",
   "name": "python3"
  },
  "language_info": {
   "codemirror_mode": {
    "name": "ipython",
    "version": 3
   },
   "file_extension": ".py",
   "mimetype": "text/x-python",
   "name": "python",
   "nbconvert_exporter": "python",
   "pygments_lexer": "ipython3",
   "version": "3.7.16"
  },
  "toc": {
   "base_numbering": 1,
   "nav_menu": {},
   "number_sections": true,
   "sideBar": true,
   "skip_h1_title": false,
   "title_cell": "Table of Contents",
   "title_sidebar": "Contents",
   "toc_cell": true,
   "toc_position": {},
   "toc_section_display": true,
   "toc_window_display": true
  }
 },
 "nbformat": 4,
 "nbformat_minor": 5
}
