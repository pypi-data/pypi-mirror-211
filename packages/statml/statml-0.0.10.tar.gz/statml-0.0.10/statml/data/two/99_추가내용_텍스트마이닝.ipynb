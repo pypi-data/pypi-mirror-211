{
 "cells": [
  {
   "cell_type": "markdown",
   "metadata": {},
   "source": [
    "# 07_기계학습_ 3_텍스트마이닝"
   ]
  },
  {
   "cell_type": "markdown",
   "metadata": {},
   "source": [
    "- 한글 사용자 사전 기준 빈도 : 로딩 - 클렌징 - 사정 등록 - TDM - 빈도 확인\n",
    "\n",
    "- 한글 line, Dataframe 명사 빈도 : 로딩 - 클렌징 - (사전 등록) - 학습(w/ 사전) - 명사 추출 - 빈도 확인\n",
    "- 한글 line, Dataframe 형용사 빈도 : 로딩 - 클렌징 - (사전 등록) - 학습(w/사전) - 품사 tagging - 형용사 추출 - 빈도 확인\n",
    "- 한글 Dataframe 명사, 형용사 TDM 생성 : 로딩 - 클렌징 - 벡터화 인스턴스 생성 - TDM생성 - (명사, 형용사 구분) \n",
    "\n",
    "- 영어 사용사 사전 기준 빈도 :\n",
    "- 영어 line, Dataframe 빈도 :\n",
    "- 영어 명사 Dataframe TDM 생성 :\n",
    "- 영어 형용사 Dataframe TDM 생성 :"
   ]
  },
  {
   "cell_type": "markdown",
   "metadata": {
    "ExecuteTime": {
     "end_time": "2021-03-25T06:29:32.550382Z",
     "start_time": "2021-03-25T06:29:32.544456Z"
    }
   },
   "source": [
    "**품사표**<br>\n",
    "명사NN<br>\n",
    "일반명사NNG<br>\n",
    "고유명사NNP<br>\n",
    "의존명사NNB<br>\n",
    "동사VV<br>\n",
    "형용사VA<br>\n",
    "부사MA"
   ]
  },
  {
   "cell_type": "code",
   "execution_count": 2,
   "metadata": {
    "ExecuteTime": {
     "end_time": "2021-03-25T07:44:45.336731Z",
     "start_time": "2021-03-25T07:44:44.109025Z"
    }
   },
   "outputs": [],
   "source": [
    "import pandas as pd"
   ]
  },
  {
   "cell_type": "markdown",
   "metadata": {},
   "source": [
    "# 한글 사용자 사전 기준 빈도"
   ]
  },
  {
   "cell_type": "code",
   "execution_count": 3,
   "metadata": {
    "ExecuteTime": {
     "end_time": "2021-03-25T07:44:45.629511Z",
     "start_time": "2021-03-25T07:44:45.601653Z"
    }
   },
   "outputs": [
    {
     "data": {
      "text/html": [
       "<div>\n",
       "<style scoped>\n",
       "    .dataframe tbody tr th:only-of-type {\n",
       "        vertical-align: middle;\n",
       "    }\n",
       "\n",
       "    .dataframe tbody tr th {\n",
       "        vertical-align: top;\n",
       "    }\n",
       "\n",
       "    .dataframe thead th {\n",
       "        text-align: right;\n",
       "    }\n",
       "</style>\n",
       "<table border=\"1\" class=\"dataframe\">\n",
       "  <thead>\n",
       "    <tr style=\"text-align: right;\">\n",
       "      <th></th>\n",
       "      <th>sentence</th>\n",
       "    </tr>\n",
       "  </thead>\n",
       "  <tbody>\n",
       "    <tr>\n",
       "      <th>0</th>\n",
       "      <td>별1개  준 사람들은   나베당임</td>\n",
       "    </tr>\n",
       "    <tr>\n",
       "      <th>1</th>\n",
       "      <td>역쉬</td>\n",
       "    </tr>\n",
       "    <tr>\n",
       "      <th>2</th>\n",
       "      <td>영화가 끝나고 가슴이 먹먹하고 답답햇습니다 너무나 충격적이었습니다..</td>\n",
       "    </tr>\n",
       "  </tbody>\n",
       "</table>\n",
       "</div>"
      ],
      "text/plain": [
       "                                 sentence\n",
       "0                      별1개  준 사람들은   나베당임\n",
       "1                                      역쉬\n",
       "2  영화가 끝나고 가슴이 먹먹하고 답답햇습니다 너무나 충격적이었습니다.."
      ]
     },
     "execution_count": 3,
     "metadata": {},
     "output_type": "execute_result"
    }
   ],
   "source": [
    "file = open('data/영화 기생충_review.txt', 'r', encoding='cp949')\n",
    "line = file.read()\n",
    "\n",
    "import re\n",
    "line = re.sub(r'\\n+','\\n', line)\n",
    "data = pd.DataFrame(line.split('\\n'), columns=['sentence'])\n",
    "data.head(3)"
   ]
  },
  {
   "cell_type": "code",
   "execution_count": 4,
   "metadata": {
    "ExecuteTime": {
     "end_time": "2021-03-25T07:44:47.801282Z",
     "start_time": "2021-03-25T07:44:47.781276Z"
    }
   },
   "outputs": [
    {
     "data": {
      "text/html": [
       "<div>\n",
       "<style scoped>\n",
       "    .dataframe tbody tr th:only-of-type {\n",
       "        vertical-align: middle;\n",
       "    }\n",
       "\n",
       "    .dataframe tbody tr th {\n",
       "        vertical-align: top;\n",
       "    }\n",
       "\n",
       "    .dataframe thead th {\n",
       "        text-align: right;\n",
       "    }\n",
       "</style>\n",
       "<table border=\"1\" class=\"dataframe\">\n",
       "  <thead>\n",
       "    <tr style=\"text-align: right;\">\n",
       "      <th></th>\n",
       "      <th>sentence</th>\n",
       "    </tr>\n",
       "  </thead>\n",
       "  <tbody>\n",
       "    <tr>\n",
       "      <th>0</th>\n",
       "      <td>별 개  준 사람들은   나베당임</td>\n",
       "    </tr>\n",
       "    <tr>\n",
       "      <th>1</th>\n",
       "      <td>역쉬</td>\n",
       "    </tr>\n",
       "    <tr>\n",
       "      <th>2</th>\n",
       "      <td>영화가 끝나고 가슴이 먹먹하고 답답햇습니다 너무나 충격적이었습니다</td>\n",
       "    </tr>\n",
       "  </tbody>\n",
       "</table>\n",
       "</div>"
      ],
      "text/plain": [
       "                                 sentence\n",
       "0                      별 개  준 사람들은   나베당임\n",
       "1                                      역쉬\n",
       "2  영화가 끝나고 가슴이 먹먹하고 답답햇습니다 너무나 충격적이었습니다  "
      ]
     },
     "execution_count": 4,
     "metadata": {},
     "output_type": "execute_result"
    }
   ],
   "source": [
    "import re\n",
    "\n",
    "data['sentence'] = data['sentence'].map(lambda x: re.sub(r\"\\d\", \" \", x))\n",
    "data['sentence'] = data['sentence'].map(lambda x: re.sub('[-=+,#/\\?:^$.@*\\\"※~&%ㆍ!』\\\\‘|\\(\\)\\[\\]\\<\\>`\\'…》;]', ' ', x))\n",
    "data.head(3)"
   ]
  },
  {
   "cell_type": "code",
   "execution_count": 5,
   "metadata": {
    "ExecuteTime": {
     "end_time": "2021-03-25T07:44:49.142803Z",
     "start_time": "2021-03-25T07:44:49.133693Z"
    }
   },
   "outputs": [],
   "source": [
    "# 공백은 사전 돌릴 때 에러나서 미리 지워줌\n",
    "data = data[data['sentence'] != ' ']\n",
    "data = data[data['sentence'] != '  ']\n",
    "data = data[data['sentence'] != '   ']\n",
    "data = data[data['sentence'] != '    ']"
   ]
  },
  {
   "cell_type": "code",
   "execution_count": 6,
   "metadata": {
    "ExecuteTime": {
     "end_time": "2021-03-25T07:44:52.352211Z",
     "start_time": "2021-03-25T07:44:52.338238Z"
    }
   },
   "outputs": [
    {
     "data": {
      "text/html": [
       "<div>\n",
       "<style scoped>\n",
       "    .dataframe tbody tr th:only-of-type {\n",
       "        vertical-align: middle;\n",
       "    }\n",
       "\n",
       "    .dataframe tbody tr th {\n",
       "        vertical-align: top;\n",
       "    }\n",
       "\n",
       "    .dataframe thead th {\n",
       "        text-align: right;\n",
       "    }\n",
       "</style>\n",
       "<table border=\"1\" class=\"dataframe\">\n",
       "  <thead>\n",
       "    <tr style=\"text-align: right;\">\n",
       "      <th></th>\n",
       "      <th>word</th>\n",
       "      <th>pos</th>\n",
       "    </tr>\n",
       "  </thead>\n",
       "  <tbody>\n",
       "    <tr>\n",
       "      <th>0</th>\n",
       "      <td>기생충</td>\n",
       "      <td>NNP</td>\n",
       "    </tr>\n",
       "    <tr>\n",
       "      <th>1</th>\n",
       "      <td>봉준호</td>\n",
       "      <td>NNP</td>\n",
       "    </tr>\n",
       "    <tr>\n",
       "      <th>2</th>\n",
       "      <td>송강호</td>\n",
       "      <td>NNP</td>\n",
       "    </tr>\n",
       "    <tr>\n",
       "      <th>3</th>\n",
       "      <td>기택</td>\n",
       "      <td>NNP</td>\n",
       "    </tr>\n",
       "    <tr>\n",
       "      <th>4</th>\n",
       "      <td>이선균</td>\n",
       "      <td>NNP</td>\n",
       "    </tr>\n",
       "  </tbody>\n",
       "</table>\n",
       "</div>"
      ],
      "text/plain": [
       "  word  pos\n",
       "0  기생충  NNP\n",
       "1  봉준호  NNP\n",
       "2  송강호  NNP\n",
       "3   기택  NNP\n",
       "4  이선균  NNP"
      ]
     },
     "execution_count": 6,
     "metadata": {},
     "output_type": "execute_result"
    }
   ],
   "source": [
    "dic = pd.read_csv('data/영화 기생충_사전.txt', encoding='cp949',sep='\\t', names=['word'])\n",
    "dic['pos'] = 'NNP'\n",
    "dic.head()"
   ]
  },
  {
   "cell_type": "code",
   "execution_count": 10,
   "metadata": {
    "ExecuteTime": {
     "end_time": "2021-03-25T07:45:42.451053Z",
     "start_time": "2021-03-25T07:45:42.443425Z"
    }
   },
   "outputs": [
    {
     "data": {
      "text/plain": [
       "CountVectorizer()"
      ]
     },
     "execution_count": 10,
     "metadata": {},
     "output_type": "execute_result"
    }
   ],
   "source": [
    "# 벡터화 인스턴스 생성\n",
    "from sklearn.feature_extraction.text import CountVectorizer\n",
    "cv = CountVectorizer()\n",
    "\n",
    "# 사전으로 fit\n",
    "cv.fit(dic['word'])\n",
    "cv"
   ]
  },
  {
   "cell_type": "code",
   "execution_count": 12,
   "metadata": {
    "ExecuteTime": {
     "end_time": "2021-03-25T07:46:30.438627Z",
     "start_time": "2021-03-25T07:46:30.415689Z"
    }
   },
   "outputs": [],
   "source": [
    "# 문서로 tdm 생성\n",
    "cv_matrix = cv.transform(data['sentence'])"
   ]
  },
  {
   "cell_type": "code",
   "execution_count": 14,
   "metadata": {
    "ExecuteTime": {
     "end_time": "2021-03-25T07:46:43.976913Z",
     "start_time": "2021-03-25T07:46:43.970938Z"
    }
   },
   "outputs": [],
   "source": [
    "name = cv.get_feature_names()\n",
    "cv_mat = cv_matrix.toarray()\n",
    "tdm = pd.DataFrame(cv_mat, columns = name)"
   ]
  },
  {
   "cell_type": "code",
   "execution_count": 16,
   "metadata": {
    "ExecuteTime": {
     "end_time": "2021-03-25T07:46:50.474158Z",
     "start_time": "2021-03-25T07:46:50.460712Z"
    }
   },
   "outputs": [
    {
     "data": {
      "text/html": [
       "<div>\n",
       "<style scoped>\n",
       "    .dataframe tbody tr th:only-of-type {\n",
       "        vertical-align: middle;\n",
       "    }\n",
       "\n",
       "    .dataframe tbody tr th {\n",
       "        vertical-align: top;\n",
       "    }\n",
       "\n",
       "    .dataframe thead th {\n",
       "        text-align: right;\n",
       "    }\n",
       "</style>\n",
       "<table border=\"1\" class=\"dataframe\">\n",
       "  <thead>\n",
       "    <tr style=\"text-align: right;\">\n",
       "      <th></th>\n",
       "      <th>기생충</th>\n",
       "      <th>기우</th>\n",
       "      <th>기정</th>\n",
       "      <th>기택</th>\n",
       "      <th>박사장</th>\n",
       "      <th>박서준</th>\n",
       "      <th>박소담</th>\n",
       "      <th>봉준호</th>\n",
       "      <th>송강호</th>\n",
       "      <th>연교</th>\n",
       "      <th>이선균</th>\n",
       "      <th>이정은</th>\n",
       "      <th>이지혜</th>\n",
       "      <th>장혜진</th>\n",
       "      <th>조여정</th>\n",
       "      <th>최우식</th>\n",
       "      <th>충숙</th>\n",
       "    </tr>\n",
       "  </thead>\n",
       "  <tbody>\n",
       "    <tr>\n",
       "      <th>0</th>\n",
       "      <td>0</td>\n",
       "      <td>0</td>\n",
       "      <td>0</td>\n",
       "      <td>0</td>\n",
       "      <td>0</td>\n",
       "      <td>0</td>\n",
       "      <td>0</td>\n",
       "      <td>0</td>\n",
       "      <td>0</td>\n",
       "      <td>0</td>\n",
       "      <td>0</td>\n",
       "      <td>0</td>\n",
       "      <td>0</td>\n",
       "      <td>0</td>\n",
       "      <td>0</td>\n",
       "      <td>0</td>\n",
       "      <td>0</td>\n",
       "    </tr>\n",
       "    <tr>\n",
       "      <th>1</th>\n",
       "      <td>0</td>\n",
       "      <td>0</td>\n",
       "      <td>0</td>\n",
       "      <td>0</td>\n",
       "      <td>0</td>\n",
       "      <td>0</td>\n",
       "      <td>0</td>\n",
       "      <td>0</td>\n",
       "      <td>0</td>\n",
       "      <td>0</td>\n",
       "      <td>0</td>\n",
       "      <td>0</td>\n",
       "      <td>0</td>\n",
       "      <td>0</td>\n",
       "      <td>0</td>\n",
       "      <td>0</td>\n",
       "      <td>0</td>\n",
       "    </tr>\n",
       "    <tr>\n",
       "      <th>2</th>\n",
       "      <td>0</td>\n",
       "      <td>0</td>\n",
       "      <td>0</td>\n",
       "      <td>0</td>\n",
       "      <td>0</td>\n",
       "      <td>0</td>\n",
       "      <td>0</td>\n",
       "      <td>0</td>\n",
       "      <td>0</td>\n",
       "      <td>0</td>\n",
       "      <td>0</td>\n",
       "      <td>0</td>\n",
       "      <td>0</td>\n",
       "      <td>0</td>\n",
       "      <td>0</td>\n",
       "      <td>0</td>\n",
       "      <td>0</td>\n",
       "    </tr>\n",
       "  </tbody>\n",
       "</table>\n",
       "</div>"
      ],
      "text/plain": [
       "   기생충  기우  기정  기택  박사장  박서준  박소담  봉준호  송강호  연교  이선균  이정은  이지혜  장혜진  조여정  최우식  \\\n",
       "0    0   0   0   0    0    0    0    0    0   0    0    0    0    0    0    0   \n",
       "1    0   0   0   0    0    0    0    0    0   0    0    0    0    0    0    0   \n",
       "2    0   0   0   0    0    0    0    0    0   0    0    0    0    0    0    0   \n",
       "\n",
       "   충숙  \n",
       "0   0  \n",
       "1   0  \n",
       "2   0  "
      ]
     },
     "execution_count": 16,
     "metadata": {},
     "output_type": "execute_result"
    }
   ],
   "source": [
    "tdm.head(3)"
   ]
  },
  {
   "cell_type": "code",
   "execution_count": 18,
   "metadata": {
    "ExecuteTime": {
     "end_time": "2021-03-25T07:47:23.834085Z",
     "start_time": "2021-03-25T07:47:23.826528Z"
    }
   },
   "outputs": [
    {
     "data": {
      "text/plain": [
       "봉준호    79\n",
       "송강호    31\n",
       "기생충    21\n",
       "dtype: int64"
      ]
     },
     "execution_count": 18,
     "metadata": {},
     "output_type": "execute_result"
    }
   ],
   "source": [
    "# 빈도 계산\n",
    "tdm_freq = tdm.sum(axis=0).sort_values(ascending=False)\n",
    "tdm_freq.head(3)"
   ]
  },
  {
   "cell_type": "code",
   "execution_count": 166,
   "metadata": {
    "ExecuteTime": {
     "end_time": "2021-03-25T07:14:43.410404Z",
     "start_time": "2021-03-25T07:14:43.399433Z"
    }
   },
   "outputs": [],
   "source": [
    "# 시각화 - 한글 깨짐 방지\n",
    "from matplotlib import font_manager, rc\n",
    "\n",
    "path = 'c:/Windows/Fonts/malgun.ttf'\n",
    "font_name = font_manager.FontProperties(fname=path).get_name()\n",
    "rc('font', family=font_name)"
   ]
  },
  {
   "cell_type": "code",
   "execution_count": null,
   "metadata": {
    "ExecuteTime": {
     "end_time": "2021-03-25T07:14:43.745514Z",
     "start_time": "2021-03-25T07:14:43.413395Z"
    }
   },
   "outputs": [],
   "source": [
    "# 시각화\n",
    "import matplotlib.pyplot as plt\n",
    "tdm_freq.plot(kind = 'bar', figsize=(10,5))\n",
    "plt.show()"
   ]
  },
  {
   "cell_type": "markdown",
   "metadata": {},
   "source": [
    "# 한글 line, Dataframe 명사 빈도"
   ]
  },
  {
   "cell_type": "code",
   "execution_count": 182,
   "metadata": {
    "ExecuteTime": {
     "end_time": "2021-03-25T07:25:52.230746Z",
     "start_time": "2021-03-25T07:25:52.212794Z"
    }
   },
   "outputs": [
    {
     "data": {
      "text/html": [
       "<div>\n",
       "<style scoped>\n",
       "    .dataframe tbody tr th:only-of-type {\n",
       "        vertical-align: middle;\n",
       "    }\n",
       "\n",
       "    .dataframe tbody tr th {\n",
       "        vertical-align: top;\n",
       "    }\n",
       "\n",
       "    .dataframe thead th {\n",
       "        text-align: right;\n",
       "    }\n",
       "</style>\n",
       "<table border=\"1\" class=\"dataframe\">\n",
       "  <thead>\n",
       "    <tr style=\"text-align: right;\">\n",
       "      <th></th>\n",
       "      <th>sentence</th>\n",
       "    </tr>\n",
       "  </thead>\n",
       "  <tbody>\n",
       "    <tr>\n",
       "      <th>0</th>\n",
       "      <td>별1개  준 사람들은   나베당임</td>\n",
       "    </tr>\n",
       "    <tr>\n",
       "      <th>1</th>\n",
       "      <td>역쉬</td>\n",
       "    </tr>\n",
       "    <tr>\n",
       "      <th>2</th>\n",
       "      <td>영화가 끝나고 가슴이 먹먹하고 답답햇습니다 너무나 충격적이었습니다..</td>\n",
       "    </tr>\n",
       "  </tbody>\n",
       "</table>\n",
       "</div>"
      ],
      "text/plain": [
       "                                 sentence\n",
       "0                      별1개  준 사람들은   나베당임\n",
       "1                                      역쉬\n",
       "2  영화가 끝나고 가슴이 먹먹하고 답답햇습니다 너무나 충격적이었습니다.."
      ]
     },
     "execution_count": 182,
     "metadata": {},
     "output_type": "execute_result"
    }
   ],
   "source": [
    "file = open('data/영화 기생충_review.txt', 'r', encoding='cp949')\n",
    "line = file.read()\n",
    "\n",
    "import re\n",
    "line = re.sub(r'\\n+','\\n', line)\n",
    "data = pd.DataFrame(line.split('\\n'), columns=['sentence'])\n",
    "data.head(3)"
   ]
  },
  {
   "cell_type": "code",
   "execution_count": 183,
   "metadata": {
    "ExecuteTime": {
     "end_time": "2021-03-25T07:25:56.094984Z",
     "start_time": "2021-03-25T07:25:56.075034Z"
    }
   },
   "outputs": [
    {
     "data": {
      "text/html": [
       "<div>\n",
       "<style scoped>\n",
       "    .dataframe tbody tr th:only-of-type {\n",
       "        vertical-align: middle;\n",
       "    }\n",
       "\n",
       "    .dataframe tbody tr th {\n",
       "        vertical-align: top;\n",
       "    }\n",
       "\n",
       "    .dataframe thead th {\n",
       "        text-align: right;\n",
       "    }\n",
       "</style>\n",
       "<table border=\"1\" class=\"dataframe\">\n",
       "  <thead>\n",
       "    <tr style=\"text-align: right;\">\n",
       "      <th></th>\n",
       "      <th>sentence</th>\n",
       "    </tr>\n",
       "  </thead>\n",
       "  <tbody>\n",
       "    <tr>\n",
       "      <th>0</th>\n",
       "      <td>별 개  준 사람들은   나베당임</td>\n",
       "    </tr>\n",
       "    <tr>\n",
       "      <th>1</th>\n",
       "      <td>역쉬</td>\n",
       "    </tr>\n",
       "    <tr>\n",
       "      <th>2</th>\n",
       "      <td>영화가 끝나고 가슴이 먹먹하고 답답햇습니다 너무나 충격적이었습니다</td>\n",
       "    </tr>\n",
       "  </tbody>\n",
       "</table>\n",
       "</div>"
      ],
      "text/plain": [
       "                                 sentence\n",
       "0                      별 개  준 사람들은   나베당임\n",
       "1                                      역쉬\n",
       "2  영화가 끝나고 가슴이 먹먹하고 답답햇습니다 너무나 충격적이었습니다  "
      ]
     },
     "execution_count": 183,
     "metadata": {},
     "output_type": "execute_result"
    }
   ],
   "source": [
    "import re\n",
    "data['sentence'].fillna(' ')\n",
    "data['sentence'] = data['sentence'].map(lambda x: re.sub(r\"\\d\", \" \", x))\n",
    "data['sentence'] = data['sentence'].map(lambda x: re.sub('[-=+,#/\\?:^$.@*\\\"※~&%ㆍ!』\\\\‘|\\(\\)\\[\\]\\<\\>`\\'…》;]', ' ', x))\n",
    "data.head(3)"
   ]
  },
  {
   "cell_type": "code",
   "execution_count": 170,
   "metadata": {
    "ExecuteTime": {
     "end_time": "2021-03-25T07:16:10.451192Z",
     "start_time": "2021-03-25T07:16:08.517233Z"
    }
   },
   "outputs": [],
   "source": [
    "from konlpy.tag import Komoran\n",
    "komoran = Komoran()\n",
    "# komoran = Komoran(userdic='data/기생충사전.txt')"
   ]
  },
  {
   "cell_type": "code",
   "execution_count": 171,
   "metadata": {
    "ExecuteTime": {
     "end_time": "2021-03-25T07:16:47.295654Z",
     "start_time": "2021-03-25T07:16:24.938756Z"
    }
   },
   "outputs": [],
   "source": [
    "one = ' '.join(data['sentence'])\n",
    "nouns = komoran.nouns(one)"
   ]
  },
  {
   "cell_type": "code",
   "execution_count": 174,
   "metadata": {
    "ExecuteTime": {
     "end_time": "2021-03-25T07:17:05.758110Z",
     "start_time": "2021-03-25T07:17:05.752117Z"
    }
   },
   "outputs": [],
   "source": [
    "import collections\n",
    "freq = collections.Counter(nouns)"
   ]
  },
  {
   "cell_type": "code",
   "execution_count": 175,
   "metadata": {
    "ExecuteTime": {
     "end_time": "2021-03-25T07:17:06.001448Z",
     "start_time": "2021-03-25T07:17:05.992473Z"
    }
   },
   "outputs": [],
   "source": [
    "freq2 = pd.DataFrame(dict(word=freq.keys(), frequency = freq.values())).sort_values('frequency', ascending=False).head(20)"
   ]
  },
  {
   "cell_type": "code",
   "execution_count": 176,
   "metadata": {
    "ExecuteTime": {
     "end_time": "2021-03-25T07:17:06.782121Z",
     "start_time": "2021-03-25T07:17:06.777216Z"
    }
   },
   "outputs": [],
   "source": [
    "# 2음절 이상만 추리기\n",
    "freq2 = freq2.loc[freq2['word'].map(lambda x : len(x)>=2),:]"
   ]
  },
  {
   "cell_type": "code",
   "execution_count": 178,
   "metadata": {
    "ExecuteTime": {
     "end_time": "2021-03-25T07:17:20.167747Z",
     "start_time": "2021-03-25T07:17:20.158771Z"
    }
   },
   "outputs": [
    {
     "data": {
      "text/html": [
       "<div>\n",
       "<style scoped>\n",
       "    .dataframe tbody tr th:only-of-type {\n",
       "        vertical-align: middle;\n",
       "    }\n",
       "\n",
       "    .dataframe tbody tr th {\n",
       "        vertical-align: top;\n",
       "    }\n",
       "\n",
       "    .dataframe thead th {\n",
       "        text-align: right;\n",
       "    }\n",
       "</style>\n",
       "<table border=\"1\" class=\"dataframe\">\n",
       "  <thead>\n",
       "    <tr style=\"text-align: right;\">\n",
       "      <th></th>\n",
       "      <th>word</th>\n",
       "      <th>frequency</th>\n",
       "    </tr>\n",
       "  </thead>\n",
       "  <tbody>\n",
       "    <tr>\n",
       "      <th>4</th>\n",
       "      <td>영화</td>\n",
       "      <td>514</td>\n",
       "    </tr>\n",
       "    <tr>\n",
       "      <th>17</th>\n",
       "      <td>봉준호</td>\n",
       "      <td>138</td>\n",
       "    </tr>\n",
       "    <tr>\n",
       "      <th>8</th>\n",
       "      <td>감독</td>\n",
       "      <td>125</td>\n",
       "    </tr>\n",
       "  </tbody>\n",
       "</table>\n",
       "</div>"
      ],
      "text/plain": [
       "   word  frequency\n",
       "4    영화        514\n",
       "17  봉준호        138\n",
       "8    감독        125"
      ]
     },
     "execution_count": 178,
     "metadata": {},
     "output_type": "execute_result"
    }
   ],
   "source": [
    "freq2.head(3)"
   ]
  },
  {
   "cell_type": "code",
   "execution_count": null,
   "metadata": {
    "ExecuteTime": {
     "end_time": "2021-03-25T07:27:12.397988Z",
     "start_time": "2021-03-25T07:27:12.103029Z"
    }
   },
   "outputs": [],
   "source": [
    "# 시각화\n",
    "import matplotlib.pyplot as plt\n",
    "freq2.plot(kind = 'bar', x='word',y='frequency', figsize=(10,5))\n",
    "plt.show()"
   ]
  },
  {
   "cell_type": "markdown",
   "metadata": {},
   "source": [
    "# 한글 line, Dataframe 형용사 빈도"
   ]
  },
  {
   "cell_type": "code",
   "execution_count": 189,
   "metadata": {
    "ExecuteTime": {
     "end_time": "2021-03-25T07:35:31.332892Z",
     "start_time": "2021-03-25T07:35:31.314941Z"
    }
   },
   "outputs": [
    {
     "data": {
      "text/html": [
       "<div>\n",
       "<style scoped>\n",
       "    .dataframe tbody tr th:only-of-type {\n",
       "        vertical-align: middle;\n",
       "    }\n",
       "\n",
       "    .dataframe tbody tr th {\n",
       "        vertical-align: top;\n",
       "    }\n",
       "\n",
       "    .dataframe thead th {\n",
       "        text-align: right;\n",
       "    }\n",
       "</style>\n",
       "<table border=\"1\" class=\"dataframe\">\n",
       "  <thead>\n",
       "    <tr style=\"text-align: right;\">\n",
       "      <th></th>\n",
       "      <th>sentence</th>\n",
       "    </tr>\n",
       "  </thead>\n",
       "  <tbody>\n",
       "    <tr>\n",
       "      <th>0</th>\n",
       "      <td>별1개  준 사람들은   나베당임</td>\n",
       "    </tr>\n",
       "    <tr>\n",
       "      <th>1</th>\n",
       "      <td>역쉬</td>\n",
       "    </tr>\n",
       "    <tr>\n",
       "      <th>2</th>\n",
       "      <td>영화가 끝나고 가슴이 먹먹하고 답답햇습니다 너무나 충격적이었습니다..</td>\n",
       "    </tr>\n",
       "  </tbody>\n",
       "</table>\n",
       "</div>"
      ],
      "text/plain": [
       "                                 sentence\n",
       "0                      별1개  준 사람들은   나베당임\n",
       "1                                      역쉬\n",
       "2  영화가 끝나고 가슴이 먹먹하고 답답햇습니다 너무나 충격적이었습니다.."
      ]
     },
     "execution_count": 189,
     "metadata": {},
     "output_type": "execute_result"
    }
   ],
   "source": [
    "file = open('data/영화 기생충_review.txt', 'r', encoding='cp949')\n",
    "line = file.read()\n",
    "\n",
    "import re\n",
    "line = re.sub(r'\\n+','\\n', line)\n",
    "data = pd.DataFrame(line.split('\\n'), columns=['sentence'])\n",
    "data.head(3)"
   ]
  },
  {
   "cell_type": "code",
   "execution_count": 190,
   "metadata": {
    "ExecuteTime": {
     "end_time": "2021-03-25T07:35:31.635084Z",
     "start_time": "2021-03-25T07:35:31.614140Z"
    }
   },
   "outputs": [
    {
     "data": {
      "text/html": [
       "<div>\n",
       "<style scoped>\n",
       "    .dataframe tbody tr th:only-of-type {\n",
       "        vertical-align: middle;\n",
       "    }\n",
       "\n",
       "    .dataframe tbody tr th {\n",
       "        vertical-align: top;\n",
       "    }\n",
       "\n",
       "    .dataframe thead th {\n",
       "        text-align: right;\n",
       "    }\n",
       "</style>\n",
       "<table border=\"1\" class=\"dataframe\">\n",
       "  <thead>\n",
       "    <tr style=\"text-align: right;\">\n",
       "      <th></th>\n",
       "      <th>sentence</th>\n",
       "    </tr>\n",
       "  </thead>\n",
       "  <tbody>\n",
       "    <tr>\n",
       "      <th>0</th>\n",
       "      <td>별 개  준 사람들은   나베당임</td>\n",
       "    </tr>\n",
       "    <tr>\n",
       "      <th>1</th>\n",
       "      <td>역쉬</td>\n",
       "    </tr>\n",
       "    <tr>\n",
       "      <th>2</th>\n",
       "      <td>영화가 끝나고 가슴이 먹먹하고 답답햇습니다 너무나 충격적이었습니다</td>\n",
       "    </tr>\n",
       "  </tbody>\n",
       "</table>\n",
       "</div>"
      ],
      "text/plain": [
       "                                 sentence\n",
       "0                      별 개  준 사람들은   나베당임\n",
       "1                                      역쉬\n",
       "2  영화가 끝나고 가슴이 먹먹하고 답답햇습니다 너무나 충격적이었습니다  "
      ]
     },
     "execution_count": 190,
     "metadata": {},
     "output_type": "execute_result"
    }
   ],
   "source": [
    "import re\n",
    "data['sentence'].fillna(' ')\n",
    "data['sentence'] = data['sentence'].map(lambda x: re.sub(r\"\\d\", \" \", x))\n",
    "data['sentence'] = data['sentence'].map(lambda x: re.sub('[-=+,#/\\?:^$.@*\\\"※~&%ㆍ!』\\\\‘|\\(\\)\\[\\]\\<\\>`\\'…》;]', ' ', x))\n",
    "data.head(3)"
   ]
  },
  {
   "cell_type": "code",
   "execution_count": 191,
   "metadata": {
    "ExecuteTime": {
     "end_time": "2021-03-25T07:37:47.364312Z",
     "start_time": "2021-03-25T07:37:45.423496Z"
    }
   },
   "outputs": [],
   "source": [
    "from konlpy.tag import Komoran\n",
    "komoran = Komoran()\n",
    "# komoran = Komoran(userdic='data/new_사전.txt')"
   ]
  },
  {
   "cell_type": "code",
   "execution_count": 193,
   "metadata": {
    "ExecuteTime": {
     "end_time": "2021-03-25T07:38:56.800750Z",
     "start_time": "2021-03-25T07:38:38.331647Z"
    }
   },
   "outputs": [
    {
     "data": {
      "text/plain": [
       "[('별', 'MM'), ('개', 'NNB'), ('주', 'VX')]"
      ]
     },
     "execution_count": 193,
     "metadata": {},
     "output_type": "execute_result"
    }
   ],
   "source": [
    "one = ' '.join(data['sentence'])\n",
    "pos = komoran.pos(one)\n",
    "pos[:3]"
   ]
  },
  {
   "cell_type": "code",
   "execution_count": 195,
   "metadata": {
    "ExecuteTime": {
     "end_time": "2021-03-25T07:39:09.226279Z",
     "start_time": "2021-03-25T07:39:09.217369Z"
    }
   },
   "outputs": [
    {
     "data": {
      "text/plain": [
       "['좋', '같', '없', '재밌', '같']"
      ]
     },
     "execution_count": 195,
     "metadata": {},
     "output_type": "execute_result"
    }
   ],
   "source": [
    "adj = []\n",
    "for i in pos:\n",
    "    if i[1] == 'VA':\n",
    "        adj.append(i[0])\n",
    "adj[:5]"
   ]
  },
  {
   "cell_type": "code",
   "execution_count": 196,
   "metadata": {
    "ExecuteTime": {
     "end_time": "2021-03-25T07:39:53.240739Z",
     "start_time": "2021-03-25T07:39:53.235903Z"
    }
   },
   "outputs": [],
   "source": [
    "import collections\n",
    "freq = collections.Counter(adj)"
   ]
  },
  {
   "cell_type": "code",
   "execution_count": 198,
   "metadata": {
    "ExecuteTime": {
     "end_time": "2021-03-25T07:39:59.852273Z",
     "start_time": "2021-03-25T07:39:59.846287Z"
    }
   },
   "outputs": [],
   "source": [
    "freq2 = pd.DataFrame(dict(word=freq.keys(), frequency = freq.values())).sort_values('frequency', ascending=False).head(20)"
   ]
  },
  {
   "cell_type": "code",
   "execution_count": 199,
   "metadata": {
    "ExecuteTime": {
     "end_time": "2021-03-25T07:40:00.641955Z",
     "start_time": "2021-03-25T07:40:00.636543Z"
    }
   },
   "outputs": [],
   "source": [
    "# 2음절 이상만 추리기\n",
    "freq2 = freq2.loc[freq2['word'].map(lambda x : len(x)>=2),:]"
   ]
  },
  {
   "cell_type": "code",
   "execution_count": 200,
   "metadata": {
    "ExecuteTime": {
     "end_time": "2021-03-25T07:40:01.919561Z",
     "start_time": "2021-03-25T07:40:01.910590Z"
    }
   },
   "outputs": [
    {
     "data": {
      "text/html": [
       "<div>\n",
       "<style scoped>\n",
       "    .dataframe tbody tr th:only-of-type {\n",
       "        vertical-align: middle;\n",
       "    }\n",
       "\n",
       "    .dataframe tbody tr th {\n",
       "        vertical-align: top;\n",
       "    }\n",
       "\n",
       "    .dataframe thead th {\n",
       "        text-align: right;\n",
       "    }\n",
       "</style>\n",
       "<table border=\"1\" class=\"dataframe\">\n",
       "  <thead>\n",
       "    <tr style=\"text-align: right;\">\n",
       "      <th></th>\n",
       "      <th>word</th>\n",
       "      <th>frequency</th>\n",
       "    </tr>\n",
       "  </thead>\n",
       "  <tbody>\n",
       "    <tr>\n",
       "      <th>3</th>\n",
       "      <td>재밌</td>\n",
       "      <td>46</td>\n",
       "    </tr>\n",
       "    <tr>\n",
       "      <th>11</th>\n",
       "      <td>슬프</td>\n",
       "      <td>32</td>\n",
       "    </tr>\n",
       "    <tr>\n",
       "      <th>19</th>\n",
       "      <td>그렇</td>\n",
       "      <td>31</td>\n",
       "    </tr>\n",
       "  </tbody>\n",
       "</table>\n",
       "</div>"
      ],
      "text/plain": [
       "   word  frequency\n",
       "3    재밌         46\n",
       "11   슬프         32\n",
       "19   그렇         31"
      ]
     },
     "execution_count": 200,
     "metadata": {},
     "output_type": "execute_result"
    }
   ],
   "source": [
    "freq2.head(3)"
   ]
  },
  {
   "cell_type": "code",
   "execution_count": null,
   "metadata": {
    "ExecuteTime": {
     "end_time": "2021-03-25T07:40:07.699871Z",
     "start_time": "2021-03-25T07:40:07.469489Z"
    }
   },
   "outputs": [],
   "source": [
    "# 시각화\n",
    "import matplotlib.pyplot as plt\n",
    "freq2.plot(kind = 'bar', x='word',y='frequency', figsize=(10,5))\n",
    "plt.show()"
   ]
  },
  {
   "cell_type": "markdown",
   "metadata": {},
   "source": [
    "# 한글 Dataframe 명사, 형용사 TDM 생성 // 빈도 분석을 위해서는 잘 안 쓸 듯"
   ]
  },
  {
   "cell_type": "code",
   "execution_count": 2,
   "metadata": {
    "ExecuteTime": {
     "end_time": "2021-03-25T07:49:04.360281Z",
     "start_time": "2021-03-25T07:49:04.334358Z"
    }
   },
   "outputs": [
    {
     "data": {
      "text/html": [
       "<div>\n",
       "<style scoped>\n",
       "    .dataframe tbody tr th:only-of-type {\n",
       "        vertical-align: middle;\n",
       "    }\n",
       "\n",
       "    .dataframe tbody tr th {\n",
       "        vertical-align: top;\n",
       "    }\n",
       "\n",
       "    .dataframe thead th {\n",
       "        text-align: right;\n",
       "    }\n",
       "</style>\n",
       "<table border=\"1\" class=\"dataframe\">\n",
       "  <thead>\n",
       "    <tr style=\"text-align: right;\">\n",
       "      <th></th>\n",
       "      <th>sentence</th>\n",
       "    </tr>\n",
       "  </thead>\n",
       "  <tbody>\n",
       "    <tr>\n",
       "      <th>0</th>\n",
       "      <td>별1개  준 사람들은   나베당임</td>\n",
       "    </tr>\n",
       "    <tr>\n",
       "      <th>1</th>\n",
       "      <td>역쉬</td>\n",
       "    </tr>\n",
       "    <tr>\n",
       "      <th>2</th>\n",
       "      <td>영화가 끝나고 가슴이 먹먹하고 답답햇습니다 너무나 충격적이었습니다..</td>\n",
       "    </tr>\n",
       "  </tbody>\n",
       "</table>\n",
       "</div>"
      ],
      "text/plain": [
       "                                 sentence\n",
       "0                      별1개  준 사람들은   나베당임\n",
       "1                                      역쉬\n",
       "2  영화가 끝나고 가슴이 먹먹하고 답답햇습니다 너무나 충격적이었습니다.."
      ]
     },
     "execution_count": 2,
     "metadata": {},
     "output_type": "execute_result"
    }
   ],
   "source": [
    "file = open('data/영화 기생충_review.txt', 'r', encoding='cp949')\n",
    "line = file.read()\n",
    "\n",
    "import re\n",
    "line = re.sub(r'\\n+','\\n', line)\n",
    "data = pd.DataFrame(line.split('\\n'), columns=['sentence'])\n",
    "data.head(3)"
   ]
  },
  {
   "cell_type": "code",
   "execution_count": 3,
   "metadata": {
    "ExecuteTime": {
     "end_time": "2021-03-25T07:49:07.133032Z",
     "start_time": "2021-03-25T07:49:07.114086Z"
    }
   },
   "outputs": [
    {
     "data": {
      "text/html": [
       "<div>\n",
       "<style scoped>\n",
       "    .dataframe tbody tr th:only-of-type {\n",
       "        vertical-align: middle;\n",
       "    }\n",
       "\n",
       "    .dataframe tbody tr th {\n",
       "        vertical-align: top;\n",
       "    }\n",
       "\n",
       "    .dataframe thead th {\n",
       "        text-align: right;\n",
       "    }\n",
       "</style>\n",
       "<table border=\"1\" class=\"dataframe\">\n",
       "  <thead>\n",
       "    <tr style=\"text-align: right;\">\n",
       "      <th></th>\n",
       "      <th>sentence</th>\n",
       "    </tr>\n",
       "  </thead>\n",
       "  <tbody>\n",
       "    <tr>\n",
       "      <th>0</th>\n",
       "      <td>별 개  준 사람들은   나베당임</td>\n",
       "    </tr>\n",
       "    <tr>\n",
       "      <th>1</th>\n",
       "      <td>역쉬</td>\n",
       "    </tr>\n",
       "    <tr>\n",
       "      <th>2</th>\n",
       "      <td>영화가 끝나고 가슴이 먹먹하고 답답햇습니다 너무나 충격적이었습니다</td>\n",
       "    </tr>\n",
       "  </tbody>\n",
       "</table>\n",
       "</div>"
      ],
      "text/plain": [
       "                                 sentence\n",
       "0                      별 개  준 사람들은   나베당임\n",
       "1                                      역쉬\n",
       "2  영화가 끝나고 가슴이 먹먹하고 답답햇습니다 너무나 충격적이었습니다  "
      ]
     },
     "execution_count": 3,
     "metadata": {},
     "output_type": "execute_result"
    }
   ],
   "source": [
    "import re\n",
    "\n",
    "data['sentence'] = data['sentence'].map(lambda x: re.sub(r\"\\d\", \" \", x))\n",
    "data['sentence'] = data['sentence'].map(lambda x: re.sub('[-=+,#/\\?:^$.@*\\\"※~&%ㆍ!』\\\\‘|\\(\\)\\[\\]\\<\\>`\\'…》;]', ' ', x))\n",
    "data.head(3)"
   ]
  },
  {
   "cell_type": "code",
   "execution_count": 10,
   "metadata": {
    "ExecuteTime": {
     "end_time": "2021-03-25T07:53:16.837333Z",
     "start_time": "2021-03-25T07:53:16.831282Z"
    }
   },
   "outputs": [],
   "source": [
    "from konlpy.tag import Okt\n",
    "\n",
    "twitter = Okt()\n",
    "def tw_tokenizer(text):\n",
    "    # 입력 인자로 들어온 text 를 형태소 단어로 토큰화 하여 list 객체 반환\n",
    "    tokens_ko = twitter.morphs(text)\n",
    "    return tokens_ko"
   ]
  },
  {
   "cell_type": "code",
   "execution_count": 12,
   "metadata": {
    "ExecuteTime": {
     "end_time": "2021-03-25T07:54:03.911369Z",
     "start_time": "2021-03-25T07:54:00.942183Z"
    }
   },
   "outputs": [
    {
     "name": "stderr",
     "output_type": "stream",
     "text": [
      "C:\\Users\\50008313\\AppData\\Local\\Continuum\\anaconda3\\lib\\site-packages\\sklearn\\feature_extraction\\text.py:484: UserWarning: The parameter 'token_pattern' will not be used since 'tokenizer' is not None'\n",
      "  warnings.warn(\"The parameter 'token_pattern' will not be used\"\n"
     ]
    },
    {
     "data": {
      "text/plain": [
       "CountVectorizer(tokenizer=<function tw_tokenizer at 0x000002B83C71B048>)"
      ]
     },
     "execution_count": 12,
     "metadata": {},
     "output_type": "execute_result"
    }
   ],
   "source": [
    "# 벡터화 인스턴스 생성\n",
    "from sklearn.feature_extraction.text import CountVectorizer\n",
    "cv = CountVectorizer(tokenizer=tw_tokenizer)\n",
    "\n",
    "# 사전으로 fit\n",
    "cv.fit(data['sentence'])\n",
    "cv"
   ]
  },
  {
   "cell_type": "code",
   "execution_count": 13,
   "metadata": {
    "ExecuteTime": {
     "end_time": "2021-03-25T07:54:28.846435Z",
     "start_time": "2021-03-25T07:54:25.809555Z"
    }
   },
   "outputs": [],
   "source": [
    "# 문서로 tdm 생성\n",
    "cv_matrix = cv.transform(data['sentence'])"
   ]
  },
  {
   "cell_type": "code",
   "execution_count": 14,
   "metadata": {
    "ExecuteTime": {
     "end_time": "2021-03-25T07:54:31.396468Z",
     "start_time": "2021-03-25T07:54:31.370983Z"
    }
   },
   "outputs": [],
   "source": [
    "name = cv.get_feature_names()\n",
    "cv_mat = cv_matrix.toarray()\n",
    "tdm = pd.DataFrame(cv_mat, columns = name)"
   ]
  },
  {
   "cell_type": "code",
   "execution_count": 15,
   "metadata": {
    "ExecuteTime": {
     "end_time": "2021-03-25T07:54:32.430460Z",
     "start_time": "2021-03-25T07:54:32.413538Z"
    }
   },
   "outputs": [
    {
     "data": {
      "text/html": [
       "<div>\n",
       "<style scoped>\n",
       "    .dataframe tbody tr th:only-of-type {\n",
       "        vertical-align: middle;\n",
       "    }\n",
       "\n",
       "    .dataframe tbody tr th {\n",
       "        vertical-align: top;\n",
       "    }\n",
       "\n",
       "    .dataframe thead th {\n",
       "        text-align: right;\n",
       "    }\n",
       "</style>\n",
       "<table border=\"1\" class=\"dataframe\">\n",
       "  <thead>\n",
       "    <tr style=\"text-align: right;\">\n",
       "      <th></th>\n",
       "      <th>a</th>\n",
       "      <th>age</th>\n",
       "      <th>an</th>\n",
       "      <th>avant</th>\n",
       "      <th>b</th>\n",
       "      <th>black</th>\n",
       "      <th>bomb</th>\n",
       "      <th>comedy</th>\n",
       "      <th>d</th>\n",
       "      <th>do</th>\n",
       "      <th>...</th>\n",
       "      <th>힐</th>\n",
       "      <th>힘</th>\n",
       "      <th>힘내세요</th>\n",
       "      <th>힘든</th>\n",
       "      <th>힘들게</th>\n",
       "      <th>힘들다</th>\n",
       "      <th>힘들었다</th>\n",
       "      <th>힘들지</th>\n",
       "      <th>힘들지만</th>\n",
       "      <th>힘듬</th>\n",
       "    </tr>\n",
       "  </thead>\n",
       "  <tbody>\n",
       "    <tr>\n",
       "      <th>0</th>\n",
       "      <td>0</td>\n",
       "      <td>0</td>\n",
       "      <td>0</td>\n",
       "      <td>0</td>\n",
       "      <td>0</td>\n",
       "      <td>0</td>\n",
       "      <td>0</td>\n",
       "      <td>0</td>\n",
       "      <td>0</td>\n",
       "      <td>0</td>\n",
       "      <td>...</td>\n",
       "      <td>0</td>\n",
       "      <td>0</td>\n",
       "      <td>0</td>\n",
       "      <td>0</td>\n",
       "      <td>0</td>\n",
       "      <td>0</td>\n",
       "      <td>0</td>\n",
       "      <td>0</td>\n",
       "      <td>0</td>\n",
       "      <td>0</td>\n",
       "    </tr>\n",
       "    <tr>\n",
       "      <th>1</th>\n",
       "      <td>0</td>\n",
       "      <td>0</td>\n",
       "      <td>0</td>\n",
       "      <td>0</td>\n",
       "      <td>0</td>\n",
       "      <td>0</td>\n",
       "      <td>0</td>\n",
       "      <td>0</td>\n",
       "      <td>0</td>\n",
       "      <td>0</td>\n",
       "      <td>...</td>\n",
       "      <td>0</td>\n",
       "      <td>0</td>\n",
       "      <td>0</td>\n",
       "      <td>0</td>\n",
       "      <td>0</td>\n",
       "      <td>0</td>\n",
       "      <td>0</td>\n",
       "      <td>0</td>\n",
       "      <td>0</td>\n",
       "      <td>0</td>\n",
       "    </tr>\n",
       "    <tr>\n",
       "      <th>2</th>\n",
       "      <td>0</td>\n",
       "      <td>0</td>\n",
       "      <td>0</td>\n",
       "      <td>0</td>\n",
       "      <td>0</td>\n",
       "      <td>0</td>\n",
       "      <td>0</td>\n",
       "      <td>0</td>\n",
       "      <td>0</td>\n",
       "      <td>0</td>\n",
       "      <td>...</td>\n",
       "      <td>0</td>\n",
       "      <td>0</td>\n",
       "      <td>0</td>\n",
       "      <td>0</td>\n",
       "      <td>0</td>\n",
       "      <td>0</td>\n",
       "      <td>0</td>\n",
       "      <td>0</td>\n",
       "      <td>0</td>\n",
       "      <td>0</td>\n",
       "    </tr>\n",
       "  </tbody>\n",
       "</table>\n",
       "<p>3 rows × 5115 columns</p>\n",
       "</div>"
      ],
      "text/plain": [
       "   a  age  an  avant  b  black  bomb  comedy  d  do  ...  힐  힘  힘내세요  힘든  힘들게  \\\n",
       "0  0    0   0      0  0      0     0       0  0   0  ...  0  0     0   0    0   \n",
       "1  0    0   0      0  0      0     0       0  0   0  ...  0  0     0   0    0   \n",
       "2  0    0   0      0  0      0     0       0  0   0  ...  0  0     0   0    0   \n",
       "\n",
       "   힘들다  힘들었다  힘들지  힘들지만  힘듬  \n",
       "0    0     0    0     0   0  \n",
       "1    0     0    0     0   0  \n",
       "2    0     0    0     0   0  \n",
       "\n",
       "[3 rows x 5115 columns]"
      ]
     },
     "execution_count": 15,
     "metadata": {},
     "output_type": "execute_result"
    }
   ],
   "source": [
    "tdm.head(3)"
   ]
  },
  {
   "cell_type": "code",
   "execution_count": 30,
   "metadata": {
    "ExecuteTime": {
     "end_time": "2021-03-25T08:05:51.024730Z",
     "start_time": "2021-03-25T08:05:50.987837Z"
    }
   },
   "outputs": [
    {
     "data": {
      "text/plain": [
       "영화     499\n",
       "봉준호    138\n",
       "감독     126\n",
       "dtype: int64"
      ]
     },
     "execution_count": 30,
     "metadata": {},
     "output_type": "execute_result"
    }
   ],
   "source": [
    "# 빈도 계산(2글자 이상)\n",
    "tdm_freq = tdm.sum(axis=0).sort_values(ascending=False)\n",
    "\n",
    "len2 = []\n",
    "for i in tdm_freq.index:\n",
    "    if len(i) >=2:\n",
    "        len2.append(True)\n",
    "    else:\n",
    "        len2.append(False)\n",
    "\n",
    "tdm_freq = tdm_freq[len2]\n",
    "tdm_freq.head(3)"
   ]
  },
  {
   "cell_type": "code",
   "execution_count": 89,
   "metadata": {
    "ExecuteTime": {
     "end_time": "2021-03-25T08:41:33.994532Z",
     "start_time": "2021-03-25T08:41:32.933396Z"
    }
   },
   "outputs": [],
   "source": [
    "# 명사, 형용사 골라내야할 때\n",
    "pos_noun = []\n",
    "pos_adj = []\n",
    "for i in tdm.columns:\n",
    "    p = twitter.pos(i)[0]\n",
    "    if p[1] == 'Noun':\n",
    "        pos_noun.append(i)\n",
    "    elif p[1] == 'Adjective':\n",
    "        pos_adj.append(i)"
   ]
  },
  {
   "cell_type": "code",
   "execution_count": 95,
   "metadata": {
    "ExecuteTime": {
     "end_time": "2021-03-25T08:42:12.335958Z",
     "start_time": "2021-03-25T08:42:12.266044Z"
    }
   },
   "outputs": [
    {
     "data": {
      "text/html": [
       "<div>\n",
       "<style scoped>\n",
       "    .dataframe tbody tr th:only-of-type {\n",
       "        vertical-align: middle;\n",
       "    }\n",
       "\n",
       "    .dataframe tbody tr th {\n",
       "        vertical-align: top;\n",
       "    }\n",
       "\n",
       "    .dataframe thead th {\n",
       "        text-align: right;\n",
       "    }\n",
       "</style>\n",
       "<table border=\"1\" class=\"dataframe\">\n",
       "  <thead>\n",
       "    <tr style=\"text-align: right;\">\n",
       "      <th></th>\n",
       "      <th>가난한</th>\n",
       "      <th>가난한자</th>\n",
       "      <th>가난한자는</th>\n",
       "      <th>가능한</th>\n",
       "      <th>가능할</th>\n",
       "      <th>가능함</th>\n",
       "      <th>가득한</th>\n",
       "      <th>가벼</th>\n",
       "      <th>가벼우면서도</th>\n",
       "      <th>가벼운</th>\n",
       "      <th>...</th>\n",
       "      <th>흥미롭게</th>\n",
       "      <th>흥미롭다</th>\n",
       "      <th>희한하게</th>\n",
       "      <th>힘든</th>\n",
       "      <th>힘들게</th>\n",
       "      <th>힘들다</th>\n",
       "      <th>힘들었다</th>\n",
       "      <th>힘들지</th>\n",
       "      <th>힘들지만</th>\n",
       "      <th>힘듬</th>\n",
       "    </tr>\n",
       "  </thead>\n",
       "  <tbody>\n",
       "    <tr>\n",
       "      <th>0</th>\n",
       "      <td>0</td>\n",
       "      <td>0</td>\n",
       "      <td>0</td>\n",
       "      <td>0</td>\n",
       "      <td>0</td>\n",
       "      <td>0</td>\n",
       "      <td>0</td>\n",
       "      <td>0</td>\n",
       "      <td>0</td>\n",
       "      <td>0</td>\n",
       "      <td>...</td>\n",
       "      <td>0</td>\n",
       "      <td>0</td>\n",
       "      <td>0</td>\n",
       "      <td>0</td>\n",
       "      <td>0</td>\n",
       "      <td>0</td>\n",
       "      <td>0</td>\n",
       "      <td>0</td>\n",
       "      <td>0</td>\n",
       "      <td>0</td>\n",
       "    </tr>\n",
       "    <tr>\n",
       "      <th>1</th>\n",
       "      <td>0</td>\n",
       "      <td>0</td>\n",
       "      <td>0</td>\n",
       "      <td>0</td>\n",
       "      <td>0</td>\n",
       "      <td>0</td>\n",
       "      <td>0</td>\n",
       "      <td>0</td>\n",
       "      <td>0</td>\n",
       "      <td>0</td>\n",
       "      <td>...</td>\n",
       "      <td>0</td>\n",
       "      <td>0</td>\n",
       "      <td>0</td>\n",
       "      <td>0</td>\n",
       "      <td>0</td>\n",
       "      <td>0</td>\n",
       "      <td>0</td>\n",
       "      <td>0</td>\n",
       "      <td>0</td>\n",
       "      <td>0</td>\n",
       "    </tr>\n",
       "    <tr>\n",
       "      <th>2</th>\n",
       "      <td>0</td>\n",
       "      <td>0</td>\n",
       "      <td>0</td>\n",
       "      <td>0</td>\n",
       "      <td>0</td>\n",
       "      <td>0</td>\n",
       "      <td>0</td>\n",
       "      <td>0</td>\n",
       "      <td>0</td>\n",
       "      <td>0</td>\n",
       "      <td>...</td>\n",
       "      <td>0</td>\n",
       "      <td>0</td>\n",
       "      <td>0</td>\n",
       "      <td>0</td>\n",
       "      <td>0</td>\n",
       "      <td>0</td>\n",
       "      <td>0</td>\n",
       "      <td>0</td>\n",
       "      <td>0</td>\n",
       "      <td>0</td>\n",
       "    </tr>\n",
       "  </tbody>\n",
       "</table>\n",
       "<p>3 rows × 961 columns</p>\n",
       "</div>"
      ],
      "text/plain": [
       "   가난한  가난한자  가난한자는  가능한  가능할  가능함  가득한  가벼  가벼우면서도  가벼운  ...  흥미롭게  흥미롭다  \\\n",
       "0    0     0      0    0    0    0    0   0       0    0  ...     0     0   \n",
       "1    0     0      0    0    0    0    0   0       0    0  ...     0     0   \n",
       "2    0     0      0    0    0    0    0   0       0    0  ...     0     0   \n",
       "\n",
       "   희한하게  힘든  힘들게  힘들다  힘들었다  힘들지  힘들지만  힘듬  \n",
       "0     0   0    0    0     0    0     0   0  \n",
       "1     0   0    0    0     0    0     0   0  \n",
       "2     0   0    0    0     0    0     0   0  \n",
       "\n",
       "[3 rows x 961 columns]"
      ]
     },
     "execution_count": 95,
     "metadata": {},
     "output_type": "execute_result"
    }
   ],
   "source": [
    "tdm_noun = tdm.loc[:,pos_noun]\n",
    "tdm_adj = tdm.loc[:, pos_adj]\n",
    "tdm_adj.head(3)"
   ]
  },
  {
   "cell_type": "code",
   "execution_count": 90,
   "metadata": {
    "ExecuteTime": {
     "end_time": "2021-03-25T08:41:38.287028Z",
     "start_time": "2021-03-25T08:41:38.023802Z"
    }
   },
   "outputs": [],
   "source": [
    "pos_noun_bool = []\n",
    "for i in tdm_freq.index:\n",
    "    if i in pos_noun:\n",
    "        pos_noun_bool.append(True)\n",
    "    else:\n",
    "        pos_noun_bool.append(False)\n",
    "\n",
    "pos_adj_bool = []\n",
    "for i in tdm_freq.index:\n",
    "    if i in pos_adj:\n",
    "        pos_adj_bool.append(True)\n",
    "    else:\n",
    "        pos_adj_bool.append(False)"
   ]
  },
  {
   "cell_type": "code",
   "execution_count": 91,
   "metadata": {
    "ExecuteTime": {
     "end_time": "2021-03-25T08:41:38.813544Z",
     "start_time": "2021-03-25T08:41:38.804636Z"
    }
   },
   "outputs": [
    {
     "data": {
      "text/plain": [
       "영화     499\n",
       "봉준호    138\n",
       "감독     126\n",
       "dtype: int64"
      ]
     },
     "execution_count": 91,
     "metadata": {},
     "output_type": "execute_result"
    }
   ],
   "source": [
    "tdm_freq[pos_noun_bool].head(3)"
   ]
  },
  {
   "cell_type": "code",
   "execution_count": 92,
   "metadata": {
    "ExecuteTime": {
     "end_time": "2021-03-25T08:41:40.237611Z",
     "start_time": "2021-03-25T08:41:40.229602Z"
    }
   },
   "outputs": [
    {
     "data": {
      "text/plain": [
       "없는     48\n",
       "있는     39\n",
       "입니다    30\n",
       "dtype: int64"
      ]
     },
     "execution_count": 92,
     "metadata": {},
     "output_type": "execute_result"
    }
   ],
   "source": [
    "tdm_freq[pos_adj_bool].head(3)"
   ]
  },
  {
   "cell_type": "markdown",
   "metadata": {},
   "source": [
    "# 영어 line, Dataframe 빈도"
   ]
  },
  {
   "cell_type": "code",
   "execution_count": 62,
   "metadata": {
    "ExecuteTime": {
     "end_time": "2021-03-25T09:19:29.935616Z",
     "start_time": "2021-03-25T09:19:29.923648Z"
    }
   },
   "outputs": [
    {
     "data": {
      "text/html": [
       "<div>\n",
       "<style scoped>\n",
       "    .dataframe tbody tr th:only-of-type {\n",
       "        vertical-align: middle;\n",
       "    }\n",
       "\n",
       "    .dataframe tbody tr th {\n",
       "        vertical-align: top;\n",
       "    }\n",
       "\n",
       "    .dataframe thead th {\n",
       "        text-align: right;\n",
       "    }\n",
       "</style>\n",
       "<table border=\"1\" class=\"dataframe\">\n",
       "  <thead>\n",
       "    <tr style=\"text-align: right;\">\n",
       "      <th></th>\n",
       "      <th>sentence</th>\n",
       "    </tr>\n",
       "  </thead>\n",
       "  <tbody>\n",
       "    <tr>\n",
       "      <th>0</th>\n",
       "      <td>I am honored to be with you today at your comm...</td>\n",
       "    </tr>\n",
       "    <tr>\n",
       "      <th>1</th>\n",
       "      <td>The first story is about connecting the dots.</td>\n",
       "    </tr>\n",
       "    <tr>\n",
       "      <th>2</th>\n",
       "      <td>I dropped out of Reed College after the first ...</td>\n",
       "    </tr>\n",
       "  </tbody>\n",
       "</table>\n",
       "</div>"
      ],
      "text/plain": [
       "                                            sentence\n",
       "0  I am honored to be with you today at your comm...\n",
       "1      The first story is about connecting the dots.\n",
       "2  I dropped out of Reed College after the first ..."
      ]
     },
     "execution_count": 62,
     "metadata": {},
     "output_type": "execute_result"
    }
   ],
   "source": [
    "import pandas as pd\n",
    "data = pd.read_csv('data/SteveJobs.txt', sep='\\n', names = ['sentence'])\n",
    "data.head(3)"
   ]
  },
  {
   "cell_type": "code",
   "execution_count": 63,
   "metadata": {
    "ExecuteTime": {
     "end_time": "2021-03-25T09:19:29.952580Z",
     "start_time": "2021-03-25T09:19:29.937613Z"
    }
   },
   "outputs": [
    {
     "data": {
      "text/plain": [
       "'e stories. The first story is about connecting the dots. I dropped out of Reed College after the fir'"
      ]
     },
     "execution_count": 63,
     "metadata": {},
     "output_type": "execute_result"
    }
   ],
   "source": [
    "line = ' '.join(data['sentence'].tolist())\n",
    "line[300:400]"
   ]
  },
  {
   "cell_type": "code",
   "execution_count": 64,
   "metadata": {
    "ExecuteTime": {
     "end_time": "2021-03-25T09:19:29.967531Z",
     "start_time": "2021-03-25T09:19:29.955563Z"
    }
   },
   "outputs": [
    {
     "data": {
      "text/plain": [
       "'e stories  the first story is about connecting the dots  i dropped out of reed college after the fir'"
      ]
     },
     "execution_count": 64,
     "metadata": {},
     "output_type": "execute_result"
    }
   ],
   "source": [
    "import re\n",
    "line = re.sub(r'[-,.?!;:\\'\\\"]',' ', line).lower()\n",
    "line[300:400]"
   ]
  },
  {
   "cell_type": "code",
   "execution_count": 65,
   "metadata": {
    "ExecuteTime": {
     "end_time": "2021-03-25T09:19:29.987477Z",
     "start_time": "2021-03-25T09:19:29.969525Z"
    }
   },
   "outputs": [
    {
     "name": "stdout",
     "output_type": "stream",
     "text": [
      "<class 'list'> 2355\n",
      "['i', 'am', 'honored', 'to', 'be', 'with', 'you', 'today', 'at', 'your']\n"
     ]
    }
   ],
   "source": [
    "from nltk import word_tokenize\n",
    "words = word_tokenize(line)\n",
    "print(type(words), len(words))\n",
    "print(words[:10])"
   ]
  },
  {
   "cell_type": "markdown",
   "metadata": {},
   "source": [
    "## (옵션)불용어 처리 할 경우"
   ]
  },
  {
   "cell_type": "code",
   "execution_count": 66,
   "metadata": {
    "ExecuteTime": {
     "end_time": "2021-03-25T09:19:29.999445Z",
     "start_time": "2021-03-25T09:19:29.990469Z"
    }
   },
   "outputs": [
    {
     "name": "stderr",
     "output_type": "stream",
     "text": [
      "[nltk_data] Downloading package stopwords to\n",
      "[nltk_data]     C:\\Users\\50008313\\AppData\\Roaming\\nltk_data...\n",
      "[nltk_data]   Package stopwords is already up-to-date!\n"
     ]
    },
    {
     "data": {
      "text/plain": [
       "True"
      ]
     },
     "execution_count": 66,
     "metadata": {},
     "output_type": "execute_result"
    }
   ],
   "source": [
    "import nltk\n",
    "nltk.download('stopwords')"
   ]
  },
  {
   "cell_type": "code",
   "execution_count": 67,
   "metadata": {
    "ExecuteTime": {
     "end_time": "2021-03-25T09:19:30.016401Z",
     "start_time": "2021-03-25T09:19:30.003448Z"
    }
   },
   "outputs": [
    {
     "name": "stdout",
     "output_type": "stream",
     "text": [
      "['honored', 'today', 'commencement', 'one', 'finest']\n"
     ]
    }
   ],
   "source": [
    "stopwords = nltk.corpus.stopwords.words('english')\n",
    "all_tokens = []\n",
    "\n",
    "for word in words:\n",
    "    #소문자로 모두 변환합니다. \n",
    "    word = word.lower()\n",
    "    # tokenize 된 개별 word가 stop words 들의 단어에 포함되지 않으면 word_tokens에 추가\n",
    "    if word not in stopwords:\n",
    "        all_tokens.append(word)\n",
    "    \n",
    "print(all_tokens[:5])"
   ]
  },
  {
   "cell_type": "markdown",
   "metadata": {},
   "source": [
    "## 품사 기준으로 선택할 경우"
   ]
  },
  {
   "cell_type": "code",
   "execution_count": 68,
   "metadata": {
    "ExecuteTime": {
     "end_time": "2021-03-25T09:19:30.116133Z",
     "start_time": "2021-03-25T09:19:30.019393Z"
    }
   },
   "outputs": [
    {
     "data": {
      "text/plain": [
       "[('honored', 'VBN'),\n",
       " ('today', 'NN'),\n",
       " ('commencement', 'NN'),\n",
       " ('one', 'CD'),\n",
       " ('finest', 'NN')]"
      ]
     },
     "execution_count": 68,
     "metadata": {},
     "output_type": "execute_result"
    }
   ],
   "source": [
    "import nltk\n",
    "tags = nltk.pos_tag(all_tokens)\n",
    "tags[:5]"
   ]
  },
  {
   "cell_type": "code",
   "execution_count": 69,
   "metadata": {
    "ExecuteTime": {
     "end_time": "2021-03-25T09:19:30.123116Z",
     "start_time": "2021-03-25T09:19:30.119202Z"
    }
   },
   "outputs": [],
   "source": [
    "# nltk.help.upenn_tagset()\n",
    "# 형용사 : 'JJ','JJR','JJS'\n",
    "# 명사 : 'NN','NNP','NNPS','NNS','PRP','PRP$'"
   ]
  },
  {
   "cell_type": "code",
   "execution_count": 70,
   "metadata": {
    "ExecuteTime": {
     "end_time": "2021-03-25T09:19:30.135082Z",
     "start_time": "2021-03-25T09:19:30.127104Z"
    }
   },
   "outputs": [
    {
     "data": {
      "text/plain": [
       "['closest', 'big', 'born', 'biological', 'young']"
      ]
     },
     "execution_count": 70,
     "metadata": {},
     "output_type": "execute_result"
    }
   ],
   "source": [
    "# 형용사의 경우\n",
    "adj = []\n",
    "for i in tags:\n",
    "    if i[1] in ['JJ','JJR','JJS']:\n",
    "        adj.append(i[0])\n",
    "adj[:5]"
   ]
  },
  {
   "cell_type": "code",
   "execution_count": 71,
   "metadata": {
    "ExecuteTime": {
     "end_time": "2021-03-25T09:19:30.149085Z",
     "start_time": "2021-03-25T09:19:30.139226Z"
    }
   },
   "outputs": [
    {
     "data": {
      "text/plain": [
       "['today', 'commencement', 'finest', 'world', 'college']"
      ]
     },
     "execution_count": 71,
     "metadata": {},
     "output_type": "execute_result"
    }
   ],
   "source": [
    "# 얘는 명사\n",
    "noun = []\n",
    "for i in tags:\n",
    "    if i[1] in ['NN','NNP','NNPS','NNS','PRP','PRP$']:\n",
    "        noun.append(i[0])\n",
    "noun[:5]"
   ]
  },
  {
   "cell_type": "markdown",
   "metadata": {},
   "source": [
    "## 토큰별 빈도 계산"
   ]
  },
  {
   "cell_type": "code",
   "execution_count": 78,
   "metadata": {
    "ExecuteTime": {
     "end_time": "2021-03-25T09:19:51.322266Z",
     "start_time": "2021-03-25T09:19:51.318020Z"
    }
   },
   "outputs": [],
   "source": [
    "import collections\n",
    "freq = collections.Counter(adj)"
   ]
  },
  {
   "cell_type": "code",
   "execution_count": 79,
   "metadata": {
    "ExecuteTime": {
     "end_time": "2021-03-25T09:19:51.334974Z",
     "start_time": "2021-03-25T09:19:51.326995Z"
    }
   },
   "outputs": [],
   "source": [
    "freq2 = pd.DataFrame(dict(word=freq.keys(), frequency = freq.values())).sort_values('frequency', ascending=False)"
   ]
  },
  {
   "cell_type": "code",
   "execution_count": 80,
   "metadata": {
    "ExecuteTime": {
     "end_time": "2021-03-25T09:19:51.346943Z",
     "start_time": "2021-03-25T09:19:51.338054Z"
    }
   },
   "outputs": [],
   "source": [
    "# 2음절 이상만 추리기\n",
    "freq2 = freq2.loc[freq2['word'].map(lambda x : len(x)>=2),:]"
   ]
  },
  {
   "cell_type": "code",
   "execution_count": 81,
   "metadata": {
    "ExecuteTime": {
     "end_time": "2021-03-25T09:19:51.358914Z",
     "start_time": "2021-03-25T09:19:51.349934Z"
    }
   },
   "outputs": [
    {
     "data": {
      "text/html": [
       "<div>\n",
       "<style scoped>\n",
       "    .dataframe tbody tr th:only-of-type {\n",
       "        vertical-align: middle;\n",
       "    }\n",
       "\n",
       "    .dataframe tbody tr th {\n",
       "        vertical-align: top;\n",
       "    }\n",
       "\n",
       "    .dataframe thead th {\n",
       "        text-align: right;\n",
       "    }\n",
       "</style>\n",
       "<table border=\"1\" class=\"dataframe\">\n",
       "  <thead>\n",
       "    <tr style=\"text-align: right;\">\n",
       "      <th></th>\n",
       "      <th>word</th>\n",
       "      <th>frequency</th>\n",
       "    </tr>\n",
       "  </thead>\n",
       "  <tbody>\n",
       "    <tr>\n",
       "      <th>14</th>\n",
       "      <td>the</td>\n",
       "      <td>98</td>\n",
       "    </tr>\n",
       "    <tr>\n",
       "      <th>3</th>\n",
       "      <td>to</td>\n",
       "      <td>71</td>\n",
       "    </tr>\n",
       "    <tr>\n",
       "      <th>82</th>\n",
       "      <td>and</td>\n",
       "      <td>67</td>\n",
       "    </tr>\n",
       "  </tbody>\n",
       "</table>\n",
       "</div>"
      ],
      "text/plain": [
       "   word  frequency\n",
       "14  the         98\n",
       "3    to         71\n",
       "82  and         67"
      ]
     },
     "execution_count": 81,
     "metadata": {},
     "output_type": "execute_result"
    }
   ],
   "source": [
    "freq2.head(3)"
   ]
  },
  {
   "cell_type": "code",
   "execution_count": 82,
   "metadata": {
    "ExecuteTime": {
     "end_time": "2021-03-25T09:19:51.367886Z",
     "start_time": "2021-03-25T09:19:51.361902Z"
    }
   },
   "outputs": [
    {
     "data": {
      "text/plain": [
       "2114"
      ]
     },
     "execution_count": 82,
     "metadata": {},
     "output_type": "execute_result"
    }
   ],
   "source": [
    "freq2['frequency'].sum()"
   ]
  },
  {
   "cell_type": "markdown",
   "metadata": {},
   "source": [
    "# 영어 Dataframe 명사 TDM 생성"
   ]
  },
  {
   "cell_type": "code",
   "execution_count": 89,
   "metadata": {
    "ExecuteTime": {
     "end_time": "2021-03-25T09:25:08.209335Z",
     "start_time": "2021-03-25T09:25:08.196353Z"
    }
   },
   "outputs": [
    {
     "data": {
      "text/html": [
       "<div>\n",
       "<style scoped>\n",
       "    .dataframe tbody tr th:only-of-type {\n",
       "        vertical-align: middle;\n",
       "    }\n",
       "\n",
       "    .dataframe tbody tr th {\n",
       "        vertical-align: top;\n",
       "    }\n",
       "\n",
       "    .dataframe thead th {\n",
       "        text-align: right;\n",
       "    }\n",
       "</style>\n",
       "<table border=\"1\" class=\"dataframe\">\n",
       "  <thead>\n",
       "    <tr style=\"text-align: right;\">\n",
       "      <th></th>\n",
       "      <th>sentence</th>\n",
       "    </tr>\n",
       "  </thead>\n",
       "  <tbody>\n",
       "    <tr>\n",
       "      <th>0</th>\n",
       "      <td>I am honored to be with you today at your comm...</td>\n",
       "    </tr>\n",
       "    <tr>\n",
       "      <th>1</th>\n",
       "      <td>The first story is about connecting the dots.</td>\n",
       "    </tr>\n",
       "    <tr>\n",
       "      <th>2</th>\n",
       "      <td>I dropped out of Reed College after the first ...</td>\n",
       "    </tr>\n",
       "  </tbody>\n",
       "</table>\n",
       "</div>"
      ],
      "text/plain": [
       "                                            sentence\n",
       "0  I am honored to be with you today at your comm...\n",
       "1      The first story is about connecting the dots.\n",
       "2  I dropped out of Reed College after the first ..."
      ]
     },
     "execution_count": 89,
     "metadata": {},
     "output_type": "execute_result"
    }
   ],
   "source": [
    "import pandas as pd\n",
    "data = pd.read_csv('data/SteveJobs.txt', sep='\\n', names = ['sentence'])\n",
    "data.head(3)"
   ]
  },
  {
   "cell_type": "code",
   "execution_count": 90,
   "metadata": {
    "ExecuteTime": {
     "end_time": "2021-03-25T09:25:08.818743Z",
     "start_time": "2021-03-25T09:25:08.809756Z"
    }
   },
   "outputs": [],
   "source": [
    "import re\n",
    "data.fillna(' ')\n",
    "data['sentence'] = data['sentence'].apply(lambda x : re.sub(r'\\d+',' ', x)) # 숫자 제거\n",
    "data['sentence'] = data['sentence'].apply(lambda x : re.sub(r'[-,.?!;:\\'\\\"]',' ', x)) # 약식으로 이것만 해도 될 듯\n",
    "# data['sentence'] = data['sentence'].apply(lambda x : re.sub(r'[-+=,#/\\?:^$.@*\\\"~&%!\\\\|;\\(\\)\\[\\]\\<\\>\\'.]',' ', x))\n",
    "data['sentence'] = data['sentence'].apply(lambda x : x.lower())"
   ]
  },
  {
   "cell_type": "markdown",
   "metadata": {},
   "source": [
    "## (옵션)불용어 처리할 경우"
   ]
  },
  {
   "cell_type": "code",
   "execution_count": 66,
   "metadata": {
    "ExecuteTime": {
     "end_time": "2021-03-25T09:19:29.999445Z",
     "start_time": "2021-03-25T09:19:29.990469Z"
    }
   },
   "outputs": [
    {
     "name": "stderr",
     "output_type": "stream",
     "text": [
      "[nltk_data] Downloading package stopwords to\n",
      "[nltk_data]     C:\\Users\\50008313\\AppData\\Roaming\\nltk_data...\n",
      "[nltk_data]   Package stopwords is already up-to-date!\n"
     ]
    },
    {
     "data": {
      "text/plain": [
       "True"
      ]
     },
     "execution_count": 66,
     "metadata": {},
     "output_type": "execute_result"
    }
   ],
   "source": [
    "import nltk\n",
    "nltk.download('stopwords')\n",
    "stopwords = nltk.corpus.stopwords.words('english')"
   ]
  },
  {
   "cell_type": "code",
   "execution_count": 97,
   "metadata": {
    "ExecuteTime": {
     "end_time": "2021-03-25T09:43:29.473639Z",
     "start_time": "2021-03-25T09:43:29.460869Z"
    }
   },
   "outputs": [
    {
     "data": {
      "text/plain": [
       "CountVectorizer(stop_words=['i', 'me', 'my', 'myself', 'we', 'our', 'ours',\n",
       "                            'ourselves', 'you', \"you're\", \"you've\", \"you'll\",\n",
       "                            \"you'd\", 'your', 'yours', 'yourself', 'yourselves',\n",
       "                            'he', 'him', 'his', 'himself', 'she', \"she's\",\n",
       "                            'her', 'hers', 'herself', 'it', \"it's\", 'its',\n",
       "                            'itself', ...])"
      ]
     },
     "execution_count": 97,
     "metadata": {},
     "output_type": "execute_result"
    }
   ],
   "source": [
    "# 벡터화 인스턴스 생성\n",
    "from sklearn.feature_extraction.text import CountVectorizer\n",
    "cv = CountVectorizer()\n",
    "# cv = CountVectorizer(stop_words=stopwords) # 불용어 처리 시\n",
    "\n",
    "# 사전으로 fit\n",
    "cv.fit(data['sentence'])\n",
    "cv"
   ]
  },
  {
   "cell_type": "code",
   "execution_count": 98,
   "metadata": {
    "ExecuteTime": {
     "end_time": "2021-03-25T09:45:00.781715Z",
     "start_time": "2021-03-25T09:45:00.774723Z"
    }
   },
   "outputs": [],
   "source": [
    "# 문서로 tdm 생성\n",
    "cv_matrix = cv.transform(data['sentence'])"
   ]
  },
  {
   "cell_type": "code",
   "execution_count": 99,
   "metadata": {
    "ExecuteTime": {
     "end_time": "2021-03-25T09:45:01.312840Z",
     "start_time": "2021-03-25T09:45:01.308809Z"
    }
   },
   "outputs": [],
   "source": [
    "name = cv.get_feature_names()\n",
    "cv_mat = cv_matrix.toarray()\n",
    "tdm = pd.DataFrame(cv_mat, columns = name)"
   ]
  },
  {
   "cell_type": "code",
   "execution_count": 100,
   "metadata": {
    "ExecuteTime": {
     "end_time": "2021-03-25T09:45:02.003991Z",
     "start_time": "2021-03-25T09:45:01.988490Z"
    }
   },
   "outputs": [
    {
     "data": {
      "text/html": [
       "<div>\n",
       "<style scoped>\n",
       "    .dataframe tbody tr th:only-of-type {\n",
       "        vertical-align: middle;\n",
       "    }\n",
       "\n",
       "    .dataframe tbody tr th {\n",
       "        vertical-align: top;\n",
       "    }\n",
       "\n",
       "    .dataframe thead th {\n",
       "        text-align: right;\n",
       "    }\n",
       "</style>\n",
       "<table border=\"1\" class=\"dataframe\">\n",
       "  <thead>\n",
       "    <tr style=\"text-align: right;\">\n",
       "      <th></th>\n",
       "      <th>across</th>\n",
       "      <th>adopted</th>\n",
       "      <th>adoption</th>\n",
       "      <th>adult</th>\n",
       "      <th>adventurous</th>\n",
       "      <th>advised</th>\n",
       "      <th>affairs</th>\n",
       "      <th>age</th>\n",
       "      <th>agent</th>\n",
       "      <th>ago</th>\n",
       "      <th>...</th>\n",
       "      <th>work</th>\n",
       "      <th>worked</th>\n",
       "      <th>working</th>\n",
       "      <th>world</th>\n",
       "      <th>would</th>\n",
       "      <th>woz</th>\n",
       "      <th>year</th>\n",
       "      <th>years</th>\n",
       "      <th>yet</th>\n",
       "      <th>young</th>\n",
       "    </tr>\n",
       "  </thead>\n",
       "  <tbody>\n",
       "    <tr>\n",
       "      <th>0</th>\n",
       "      <td>0</td>\n",
       "      <td>0</td>\n",
       "      <td>0</td>\n",
       "      <td>0</td>\n",
       "      <td>0</td>\n",
       "      <td>0</td>\n",
       "      <td>0</td>\n",
       "      <td>0</td>\n",
       "      <td>0</td>\n",
       "      <td>0</td>\n",
       "      <td>...</td>\n",
       "      <td>0</td>\n",
       "      <td>0</td>\n",
       "      <td>0</td>\n",
       "      <td>1</td>\n",
       "      <td>0</td>\n",
       "      <td>0</td>\n",
       "      <td>0</td>\n",
       "      <td>0</td>\n",
       "      <td>0</td>\n",
       "      <td>0</td>\n",
       "    </tr>\n",
       "    <tr>\n",
       "      <th>1</th>\n",
       "      <td>0</td>\n",
       "      <td>0</td>\n",
       "      <td>0</td>\n",
       "      <td>0</td>\n",
       "      <td>0</td>\n",
       "      <td>0</td>\n",
       "      <td>0</td>\n",
       "      <td>0</td>\n",
       "      <td>0</td>\n",
       "      <td>0</td>\n",
       "      <td>...</td>\n",
       "      <td>0</td>\n",
       "      <td>0</td>\n",
       "      <td>0</td>\n",
       "      <td>0</td>\n",
       "      <td>0</td>\n",
       "      <td>0</td>\n",
       "      <td>0</td>\n",
       "      <td>0</td>\n",
       "      <td>0</td>\n",
       "      <td>0</td>\n",
       "    </tr>\n",
       "    <tr>\n",
       "      <th>2</th>\n",
       "      <td>0</td>\n",
       "      <td>0</td>\n",
       "      <td>0</td>\n",
       "      <td>0</td>\n",
       "      <td>0</td>\n",
       "      <td>0</td>\n",
       "      <td>0</td>\n",
       "      <td>0</td>\n",
       "      <td>0</td>\n",
       "      <td>0</td>\n",
       "      <td>...</td>\n",
       "      <td>0</td>\n",
       "      <td>0</td>\n",
       "      <td>0</td>\n",
       "      <td>0</td>\n",
       "      <td>0</td>\n",
       "      <td>0</td>\n",
       "      <td>0</td>\n",
       "      <td>0</td>\n",
       "      <td>0</td>\n",
       "      <td>0</td>\n",
       "    </tr>\n",
       "  </tbody>\n",
       "</table>\n",
       "<p>3 rows × 577 columns</p>\n",
       "</div>"
      ],
      "text/plain": [
       "   across  adopted  adoption  adult  adventurous  advised  affairs  age  \\\n",
       "0       0        0         0      0            0        0        0    0   \n",
       "1       0        0         0      0            0        0        0    0   \n",
       "2       0        0         0      0            0        0        0    0   \n",
       "\n",
       "   agent  ago  ...  work  worked  working  world  would  woz  year  years  \\\n",
       "0      0    0  ...     0       0        0      1      0    0     0      0   \n",
       "1      0    0  ...     0       0        0      0      0    0     0      0   \n",
       "2      0    0  ...     0       0        0      0      0    0     0      0   \n",
       "\n",
       "   yet  young  \n",
       "0    0      0  \n",
       "1    0      0  \n",
       "2    0      0  \n",
       "\n",
       "[3 rows x 577 columns]"
      ]
     },
     "execution_count": 100,
     "metadata": {},
     "output_type": "execute_result"
    }
   ],
   "source": [
    "tdm.head(3)"
   ]
  },
  {
   "cell_type": "code",
   "execution_count": null,
   "metadata": {},
   "outputs": [],
   "source": []
  },
  {
   "cell_type": "markdown",
   "metadata": {},
   "source": [
    "# (참고) 데이터 로딩"
   ]
  },
  {
   "cell_type": "markdown",
   "metadata": {},
   "source": [
    "## *불러올 때부터 쪼개서 가져오기 = \\n 기준으로 행이 구분된 데이터 프레임(결과 2)"
   ]
  },
  {
   "cell_type": "code",
   "execution_count": 125,
   "metadata": {
    "ExecuteTime": {
     "end_time": "2021-03-25T06:40:55.508606Z",
     "start_time": "2021-03-25T06:40:55.496636Z"
    }
   },
   "outputs": [
    {
     "data": {
      "text/html": [
       "<div>\n",
       "<style scoped>\n",
       "    .dataframe tbody tr th:only-of-type {\n",
       "        vertical-align: middle;\n",
       "    }\n",
       "\n",
       "    .dataframe tbody tr th {\n",
       "        vertical-align: top;\n",
       "    }\n",
       "\n",
       "    .dataframe thead th {\n",
       "        text-align: right;\n",
       "    }\n",
       "</style>\n",
       "<table border=\"1\" class=\"dataframe\">\n",
       "  <thead>\n",
       "    <tr style=\"text-align: right;\">\n",
       "      <th></th>\n",
       "      <th>sentence</th>\n",
       "    </tr>\n",
       "  </thead>\n",
       "  <tbody>\n",
       "    <tr>\n",
       "      <th>0</th>\n",
       "      <td>I am honored to be with you today at your comm...</td>\n",
       "    </tr>\n",
       "    <tr>\n",
       "      <th>1</th>\n",
       "      <td>The first story is about connecting the dots.</td>\n",
       "    </tr>\n",
       "    <tr>\n",
       "      <th>2</th>\n",
       "      <td>I dropped out of Reed College after the first ...</td>\n",
       "    </tr>\n",
       "  </tbody>\n",
       "</table>\n",
       "</div>"
      ],
      "text/plain": [
       "                                            sentence\n",
       "0  I am honored to be with you today at your comm...\n",
       "1      The first story is about connecting the dots.\n",
       "2  I dropped out of Reed College after the first ..."
      ]
     },
     "execution_count": 125,
     "metadata": {},
     "output_type": "execute_result"
    }
   ],
   "source": [
    "import pandas as pd\n",
    "data = pd.read_csv('data/SteveJobs.txt', sep='\\n', names = ['sentence'])\n",
    "data.head(3)"
   ]
  },
  {
   "cell_type": "markdown",
   "metadata": {},
   "source": [
    "### 모든 행을 합치기 = 전체 내용이 들어간 하나의 텍스트(결과 1) *"
   ]
  },
  {
   "cell_type": "code",
   "execution_count": 123,
   "metadata": {
    "ExecuteTime": {
     "end_time": "2021-03-25T06:39:06.662912Z",
     "start_time": "2021-03-25T06:39:06.656909Z"
    }
   },
   "outputs": [
    {
     "data": {
      "text/plain": [
       "'e stories. The first story is about connecting the dots. I dropped out of Reed College after the fir'"
      ]
     },
     "execution_count": 123,
     "metadata": {},
     "output_type": "execute_result"
    }
   ],
   "source": [
    "line = ' '.join(data['sentence'].tolist())\n",
    "line[300:400]"
   ]
  },
  {
   "cell_type": "markdown",
   "metadata": {
    "ExecuteTime": {
     "end_time": "2021-03-25T04:17:34.546361Z",
     "start_time": "2021-03-25T04:17:34.542677Z"
    }
   },
   "source": [
    "## 그냥 불러오기 = \\n이 포함되어 있음  // 정신건강에 안 좋은 방법"
   ]
  },
  {
   "cell_type": "code",
   "execution_count": 71,
   "metadata": {
    "ExecuteTime": {
     "end_time": "2021-03-25T04:27:45.640962Z",
     "start_time": "2021-03-25T04:27:45.629925Z"
    }
   },
   "outputs": [],
   "source": [
    "file = open('data/SteveJobs.txt', 'r', encoding='utf-8')\n",
    "line = file.read()"
   ]
  },
  {
   "cell_type": "code",
   "execution_count": 72,
   "metadata": {
    "ExecuteTime": {
     "end_time": "2021-03-25T04:27:46.894656Z",
     "start_time": "2021-03-25T04:27:46.889513Z"
    },
    "scrolled": true
   },
   "outputs": [
    {
     "data": {
      "text/plain": [
       "'e stories.\\n\\nThe first story is about connecting the dots.\\n\\nI dropped out of Reed College after the f'"
      ]
     },
     "execution_count": 72,
     "metadata": {},
     "output_type": "execute_result"
    }
   ],
   "source": [
    "line[300:400]"
   ]
  },
  {
   "cell_type": "markdown",
   "metadata": {},
   "source": [
    "### \\n 제거 = 전체 내용이 들어간 하나의 텍스트(결과 1)"
   ]
  },
  {
   "cell_type": "code",
   "execution_count": 67,
   "metadata": {
    "ExecuteTime": {
     "end_time": "2021-03-25T04:26:18.774909Z",
     "start_time": "2021-03-25T04:26:18.767961Z"
    }
   },
   "outputs": [
    {
     "data": {
      "text/plain": [
       "'e stories. The first story is about connecting the dots. I dropped out of Reed College after the fir'"
      ]
     },
     "execution_count": 67,
     "metadata": {},
     "output_type": "execute_result"
    }
   ],
   "source": [
    "import re\n",
    "line = re.sub(r'\\n+',' ', line)\n",
    "line[300:400]"
   ]
  },
  {
   "cell_type": "markdown",
   "metadata": {},
   "source": [
    "### \\n 기준으로 행 쪼개기 = 데이터 프레임(결과 2)"
   ]
  },
  {
   "cell_type": "code",
   "execution_count": 83,
   "metadata": {
    "ExecuteTime": {
     "end_time": "2021-03-25T04:32:10.824238Z",
     "start_time": "2021-03-25T04:32:10.815325Z"
    }
   },
   "outputs": [
    {
     "data": {
      "text/html": [
       "<div>\n",
       "<style scoped>\n",
       "    .dataframe tbody tr th:only-of-type {\n",
       "        vertical-align: middle;\n",
       "    }\n",
       "\n",
       "    .dataframe tbody tr th {\n",
       "        vertical-align: top;\n",
       "    }\n",
       "\n",
       "    .dataframe thead th {\n",
       "        text-align: right;\n",
       "    }\n",
       "</style>\n",
       "<table border=\"1\" class=\"dataframe\">\n",
       "  <thead>\n",
       "    <tr style=\"text-align: right;\">\n",
       "      <th></th>\n",
       "      <th>sentence</th>\n",
       "    </tr>\n",
       "  </thead>\n",
       "  <tbody>\n",
       "    <tr>\n",
       "      <th>0</th>\n",
       "      <td>I am honored to be with you today at your comm...</td>\n",
       "    </tr>\n",
       "    <tr>\n",
       "      <th>1</th>\n",
       "      <td>The first story is about connecting the dots.</td>\n",
       "    </tr>\n",
       "    <tr>\n",
       "      <th>2</th>\n",
       "      <td>I dropped out of Reed College after the first ...</td>\n",
       "    </tr>\n",
       "  </tbody>\n",
       "</table>\n",
       "</div>"
      ],
      "text/plain": [
       "                                            sentence\n",
       "0  I am honored to be with you today at your comm...\n",
       "1      The first story is about connecting the dots.\n",
       "2  I dropped out of Reed College after the first ..."
      ]
     },
     "execution_count": 83,
     "metadata": {},
     "output_type": "execute_result"
    }
   ],
   "source": [
    "import re\n",
    "line = re.sub(r'\\n+','\\n', line)\n",
    "data = pd.DataFrame(line.split('\\n'), columns=['sentence'])\n",
    "data.head(3)"
   ]
  },
  {
   "cell_type": "markdown",
   "metadata": {},
   "source": [
    "# (참고) 숫자, 특수문자 등 제거 및 소문자화"
   ]
  },
  {
   "cell_type": "markdown",
   "metadata": {},
   "source": [
    "## 텍스트일 때"
   ]
  },
  {
   "cell_type": "code",
   "execution_count": 102,
   "metadata": {
    "ExecuteTime": {
     "end_time": "2021-03-25T04:45:42.026515Z",
     "start_time": "2021-03-25T04:45:42.019339Z"
    }
   },
   "outputs": [
    {
     "data": {
      "text/plain": [
       "'e stories the first story is about connecting the dots i dropped out of reed college after the first'"
      ]
     },
     "execution_count": 102,
     "metadata": {},
     "output_type": "execute_result"
    }
   ],
   "source": [
    "import re\n",
    "line = re.sub(r'[-,.?!;:\\'\\\"]',' ', line).lower()\n",
    "line[300:400]\n",
    "# re.sub(r'[-+=,#/\\?:^$.@*\\\"~&%!\\\\|;\\(\\)\\[\\]\\<\\>\\'.]',' ', line)"
   ]
  },
  {
   "cell_type": "markdown",
   "metadata": {},
   "source": [
    "## 데이터 프레임일 때"
   ]
  },
  {
   "cell_type": "code",
   "execution_count": 97,
   "metadata": {
    "ExecuteTime": {
     "end_time": "2021-03-25T04:43:22.562889Z",
     "start_time": "2021-03-25T04:43:22.528930Z"
    }
   },
   "outputs": [],
   "source": [
    "import re\n",
    "data.fillna(' ')\n",
    "data['sentence'] = data['sentence'].apply(lambda x : re.sub(r'\\d+',' ', x)) # 숫자 제거\n",
    "data['sentence'] = data['sentence'].apply(lambda x : re.sub(r'[-,.?!;:\\'\\\"]',' ', x)) # 약식으로 이것만 해도 될 듯\n",
    "# data['sentence'] = data['sentence'].apply(lambda x : re.sub(r'[-+=,#/\\?:^$.@*\\\"~&%!\\\\|;\\(\\)\\[\\]\\<\\>\\'.]',' ', x))\n",
    "data['sentence'] = data['sentence'].apply(lambda x : x.lower())"
   ]
  },
  {
   "cell_type": "code",
   "execution_count": null,
   "metadata": {},
   "outputs": [],
   "source": []
  },
  {
   "cell_type": "markdown",
   "metadata": {},
   "source": [
    "# (참고) 영어/한글 텍스트 마이닝 다른 자료\n",
    "- 한글 버전은 '파이썬으로 영어와 한국어 텍스트 다루기 — Courses' 참고"
   ]
  },
  {
   "cell_type": "code",
   "execution_count": 3,
   "metadata": {
    "ExecuteTime": {
     "end_time": "2021-03-25T02:01:42.966971Z",
     "start_time": "2021-03-25T02:01:42.963016Z"
    }
   },
   "outputs": [],
   "source": [
    "#!pip install nltk"
   ]
  },
  {
   "cell_type": "code",
   "execution_count": 5,
   "metadata": {
    "ExecuteTime": {
     "end_time": "2021-03-25T02:02:45.884811Z",
     "start_time": "2021-03-25T02:02:40.487307Z"
    }
   },
   "outputs": [],
   "source": [
    "import nltk"
   ]
  },
  {
   "cell_type": "code",
   "execution_count": null,
   "metadata": {
    "ExecuteTime": {
     "end_time": "2021-03-25T02:02:47.322717Z",
     "start_time": "2021-03-25T02:02:46.736184Z"
    }
   },
   "outputs": [],
   "source": [
    "nltk.download('gutenberg')\n",
    "nltk.download('maxent_treebank_pos_tagger')"
   ]
  },
  {
   "cell_type": "code",
   "execution_count": 7,
   "metadata": {
    "ExecuteTime": {
     "end_time": "2021-03-25T02:04:02.395231Z",
     "start_time": "2021-03-25T02:04:02.391208Z"
    }
   },
   "outputs": [],
   "source": [
    "#!pip install -U gensim"
   ]
  },
  {
   "cell_type": "code",
   "execution_count": 8,
   "metadata": {
    "ExecuteTime": {
     "end_time": "2021-03-25T02:04:10.238828Z",
     "start_time": "2021-03-25T02:04:10.233926Z"
    }
   },
   "outputs": [],
   "source": [
    "#!pip install twython"
   ]
  },
  {
   "cell_type": "markdown",
   "metadata": {},
   "source": [
    "### 데이터 로딩"
   ]
  },
  {
   "cell_type": "code",
   "execution_count": 14,
   "metadata": {
    "ExecuteTime": {
     "end_time": "2021-03-25T02:09:29.349944Z",
     "start_time": "2021-03-25T02:09:29.345018Z"
    }
   },
   "outputs": [],
   "source": [
    "# Read Document\n",
    "file = open('data/SteveJobs.txt', 'r', encoding='utf-8')\n",
    "doc_en = file.read()"
   ]
  },
  {
   "cell_type": "markdown",
   "metadata": {},
   "source": [
    "### Tokenize"
   ]
  },
  {
   "cell_type": "code",
   "execution_count": 29,
   "metadata": {
    "ExecuteTime": {
     "end_time": "2021-03-25T03:02:58.923094Z",
     "start_time": "2021-03-25T03:02:58.917153Z"
    }
   },
   "outputs": [],
   "source": [
    "# Tokenizing\n",
    "from nltk import regexp_tokenize\n",
    "# pattern = r'''(?x) ([A-Z]\\.)+ | \\w+(-\\w+)* | \\$?\\d+(\\.\\d+)?%? | \\.\\.\\. | [][.,;\"'?():-_`]'''\n",
    "pattern = \"[\\w']+\"\n",
    "tokens_en = regexp_tokenize(doc_en, pattern)"
   ]
  },
  {
   "cell_type": "markdown",
   "metadata": {},
   "source": [
    "### nltk.Text() 사용 예시"
   ]
  },
  {
   "cell_type": "code",
   "execution_count": 31,
   "metadata": {
    "ExecuteTime": {
     "end_time": "2021-03-25T03:03:19.726386Z",
     "start_time": "2021-03-25T03:03:19.722420Z"
    }
   },
   "outputs": [],
   "source": [
    "import nltk\n",
    "en = nltk.Text(tokens_en)"
   ]
  },
  {
   "cell_type": "code",
   "execution_count": 32,
   "metadata": {
    "ExecuteTime": {
     "end_time": "2021-03-25T03:03:21.118257Z",
     "start_time": "2021-03-25T03:03:21.112340Z"
    }
   },
   "outputs": [
    {
     "data": {
      "text/plain": [
       "<Text: I am honored to be with you today...>"
      ]
     },
     "execution_count": 32,
     "metadata": {},
     "output_type": "execute_result"
    }
   ],
   "source": [
    "en"
   ]
  },
  {
   "cell_type": "code",
   "execution_count": 33,
   "metadata": {
    "ExecuteTime": {
     "end_time": "2021-03-25T03:04:00.510253Z",
     "start_time": "2021-03-25T03:04:00.499345Z"
    }
   },
   "outputs": [
    {
     "name": "stdout",
     "output_type": "stream",
     "text": [
      "2290\n",
      "744\n"
     ]
    },
    {
     "data": {
      "text/plain": [
       "FreqDist({'I': 93, 'the': 91, 'to': 71, 'and': 49, 'was': 48, 'a': 46, 'of': 40, 'that': 38, 'it': 37, 'in': 34, ...})"
      ]
     },
     "execution_count": 33,
     "metadata": {},
     "output_type": "execute_result"
    }
   ],
   "source": [
    "print(len(en.tokens))       # returns number of tokens (document length)\n",
    "print(len(set(en.tokens)))  # returns number of unique tokens\n",
    "en.vocab()                  # returns frequency distribution"
   ]
  },
  {
   "cell_type": "code",
   "execution_count": 35,
   "metadata": {
    "ExecuteTime": {
     "end_time": "2021-03-25T03:04:28.556853Z",
     "start_time": "2021-03-25T03:04:27.996853Z"
    }
   },
   "outputs": [
    {
     "data": {
      "image/png": "[encoded data removed]",
      "text/plain": [
       "<Figure size 432x288 with 1 Axes>"
      ]
     },
     "metadata": {
      "needs_background": "light"
     },
     "output_type": "display_data"
    }
   ],
   "source": [
    "en.plot(50) "
   ]
  },
  {
   "cell_type": "code",
   "execution_count": 38,
   "metadata": {
    "ExecuteTime": {
     "end_time": "2021-03-25T03:05:23.188249Z",
     "start_time": "2021-03-25T03:05:23.182266Z"
    }
   },
   "outputs": [
    {
     "data": {
      "text/plain": [
       "71"
      ]
     },
     "execution_count": 38,
     "metadata": {},
     "output_type": "execute_result"
    }
   ],
   "source": [
    "en.count('to') "
   ]
  },
  {
   "cell_type": "code",
   "execution_count": 39,
   "metadata": {
    "ExecuteTime": {
     "end_time": "2021-03-25T03:05:51.625080Z",
     "start_time": "2021-03-25T03:05:51.618169Z"
    }
   },
   "outputs": [
    {
     "name": "stdout",
     "output_type": "stream",
     "text": [
      "Displaying 5 of 7 matches:\n",
      "It was pretty scary at the time but looking back it was one of the best decisio\n",
      " was impossible to connect the dots looking forward when I was in college But i\n",
      " college But it was very very clear looking backward 10 years later Again you c\n",
      "er Again you can t connect the dots looking forward you can only connect them l\n",
      "g forward you can only connect them looking backward So you have to trust that \n"
     ]
    }
   ],
   "source": [
    "en.concordance('looking', lines=5)"
   ]
  },
  {
   "cell_type": "code",
   "execution_count": 41,
   "metadata": {
    "ExecuteTime": {
     "end_time": "2021-03-25T03:06:28.690922Z",
     "start_time": "2021-03-25T03:06:28.684938Z"
    }
   },
   "outputs": [
    {
     "name": "stdout",
     "output_type": "stream",
     "text": [
      "you is about sometimes\n"
     ]
    }
   ],
   "source": [
    "en.similar('to')"
   ]
  },
  {
   "cell_type": "code",
   "execution_count": null,
   "metadata": {
    "ExecuteTime": {
     "end_time": "2021-03-25T03:06:46.996253Z",
     "start_time": "2021-03-25T03:06:46.924428Z"
    }
   },
   "outputs": [],
   "source": [
    "en.collocations()"
   ]
  },
  {
   "cell_type": "markdown",
   "metadata": {},
   "source": [
    "### pos_tagging"
   ]
  },
  {
   "cell_type": "code",
   "execution_count": 45,
   "metadata": {
    "ExecuteTime": {
     "end_time": "2021-03-25T03:08:53.344711Z",
     "start_time": "2021-03-25T03:08:53.208164Z"
    },
    "scrolled": true
   },
   "outputs": [
    {
     "data": {
      "text/plain": [
       "[('I', 'PRP'), ('am', 'VBP'), ('honored', 'VBN'), ('to', 'TO'), ('be', 'VB')]"
      ]
     },
     "execution_count": 45,
     "metadata": {},
     "output_type": "execute_result"
    }
   ],
   "source": [
    "tags_en = nltk.pos_tag(tokens_en)\n",
    "tags_en[:5]"
   ]
  },
  {
   "cell_type": "markdown",
   "metadata": {},
   "source": [
    "### word cloud"
   ]
  },
  {
   "cell_type": "code",
   "execution_count": 47,
   "metadata": {
    "ExecuteTime": {
     "end_time": "2021-03-25T03:14:53.811290Z",
     "start_time": "2021-03-25T03:14:53.805305Z"
    }
   },
   "outputs": [
    {
     "name": "stdout",
     "output_type": "stream",
     "text": [
      "<FreqDist with 744 samples and 2290 outcomes>\n"
     ]
    }
   ],
   "source": [
    "print(en.vocab())"
   ]
  },
  {
   "cell_type": "code",
   "execution_count": 49,
   "metadata": {
    "ExecuteTime": {
     "end_time": "2021-03-25T03:15:11.555296Z",
     "start_time": "2021-03-25T03:15:11.549312Z"
    }
   },
   "outputs": [
    {
     "data": {
      "text/plain": [
       "nltk.probability.FreqDist"
      ]
     },
     "execution_count": 49,
     "metadata": {},
     "output_type": "execute_result"
    }
   ],
   "source": [
    "type(en.vocab())"
   ]
  },
  {
   "cell_type": "code",
   "execution_count": null,
   "metadata": {
    "ExecuteTime": {
     "end_time": "2021-03-25T03:15:56.469197Z",
     "start_time": "2021-03-25T03:15:56.463199Z"
    }
   },
   "outputs": [],
   "source": [
    "data = en.vocab().items()\n",
    "print(data)\n",
    "print(type(data))"
   ]
  },
  {
   "cell_type": "code",
   "execution_count": null,
   "metadata": {},
   "outputs": [],
   "source": [
    "import csv\n",
    "with open('words.csv', 'w', encoding='utf-8') as f:\n",
    "    f.write('word,freq\\n')\n",
    "    writer = csv.writer(f)\n",
    "    writer.writerows(data)"
   ]
  },
  {
   "cell_type": "code",
   "execution_count": null,
   "metadata": {},
   "outputs": [],
   "source": [
    "# 아래의 코드를 복사하여 words.csv가 있는 폴더 내에 index.html라는 이름으로 저장하자.\n",
    "<!DOCTYPE html>\n",
    "<html>\n",
    "<head>\n",
    "  <style>\n",
    "    text:hover {\n",
    "        stroke: black;\n",
    "    }\n",
    "  </style>\n",
    "  <script src=\"http://d3js.org/d3.v3.min.js\" charset=\"utf-8\"></script>\n",
    "  <script src=\"d3.layout.cloud.js\"></script>\n",
    "</head>\n",
    "<body>\n",
    "  <div id=\"cloud\"></div>\n",
    "  <script type=\"text/javascript\">\n",
    "    var weight = 3,   // change me\n",
    "        width = 960,\n",
    "        height = 500;\n",
    "\n",
    "    var fill = d3.scale.category20();\n",
    "    d3.csv(\"words.csv\", function(d) {\n",
    "        return {\n",
    "          text: d.word,\n",
    "          size: +d.freq*weight\n",
    "        }\n",
    "      },\n",
    "      function(data) {\n",
    "        d3.layout.cloud().size([width, height]).words(data)\n",
    "          //.rotate(function() { return ~~(Math.random() * 2) * 90; })\n",
    "          .rotate(0)\n",
    "          .font(\"Impact\")\n",
    "          .fontSize(function(d) { return d.size; })\n",
    "          .on(\"end\", draw)\n",
    "          .start();\n",
    "\n",
    "        function draw(words) {\n",
    "          d3.select(\"#cloud\").append(\"svg\")\n",
    "              .attr(\"width\", width)\n",
    "              .attr(\"height\", height)\n",
    "            .append(\"g\")\n",
    "              .attr(\"transform\", \"translate(\" + width/2 + \",\" + height/2 + \")\")\n",
    "            .selectAll(\"text\")\n",
    "              .data(words)\n",
    "            .enter().append(\"text\")\n",
    "              .style(\"font-size\", function(d) { return d.size + \"px\"; })\n",
    "              .style(\"font-family\", \"Impact\")\n",
    "              .style(\"fill\", function(d, i) { return fill(i); })\n",
    "              .attr(\"text-anchor\", \"middle\")\n",
    "              .attr(\"transform\", function(d) {\n",
    "                return \"translate(\" + [d.x, d.y] + \")rotate(\" + d.rotate + \")\";\n",
    "              })\n",
    "            .text(function(d) { return d.text; });\n",
    "        }\n",
    "      });\n",
    "  </script>\n",
    "</body>\n",
    "</html>"
   ]
  },
  {
   "cell_type": "markdown",
   "metadata": {
    "ExecuteTime": {
     "end_time": "2021-03-25T03:17:50.955490Z",
     "start_time": "2021-03-25T03:17:50.949549Z"
    }
   },
   "source": [
    "- 위와 같은 폴더에서 아래를 실행하자.\n",
    "- python -m http.server 8888      # for Python2, `python -m SimpleHTTPServer`\n",
    "\n",
    "- 마지막으로, 모던 브라우저(ex: 크롬)의 주소창에 http://localhost:8888를 입력하면 우리의 워드클라우드가 떠있을 것이다! (이미지를 클릭하면 interative 페이지로 이동합니다.)"
   ]
  },
  {
   "cell_type": "code",
   "execution_count": null,
   "metadata": {},
   "outputs": [],
   "source": []
  }
 ],
 "metadata": {
  "kernelspec": {
   "display_name": "Python 3",
   "language": "python",
   "name": "python3"
  },
  "language_info": {
   "codemirror_mode": {
    "name": "ipython",
    "version": 3
   },
   "file_extension": ".py",
   "mimetype": "text/x-python",
   "name": "python",
   "nbconvert_exporter": "python",
   "pygments_lexer": "ipython3",
   "version": "3.7.4"
  },
  "toc": {
   "base_numbering": 1,
   "nav_menu": {},
   "number_sections": true,
   "sideBar": true,
   "skip_h1_title": false,
   "title_cell": "Table of Contents",
   "title_sidebar": "Contents",
   "toc_cell": false,
   "toc_position": {
    "height": "calc(100% - 180px)",
    "left": "10px",
    "top": "150px",
    "width": "556px"
   },
   "toc_section_display": true,
   "toc_window_display": true
  },
  "varInspector": {
   "cols": {
    "lenName": 16,
    "lenType": 16,
    "lenVar": 40
   },
   "kernels_config": {
    "python": {
     "delete_cmd_postfix": "",
     "delete_cmd_prefix": "del ",
     "library": "var_list.py",
     "varRefreshCmd": "print(var_dic_list())"
    },
    "r": {
     "delete_cmd_postfix": ") ",
     "delete_cmd_prefix": "rm(",
     "library": "var_list.r",
     "varRefreshCmd": "cat(var_dic_list()) "
    }
   },
   "types_to_exclude": [
    "module",
    "function",
    "builtin_function_or_method",
    "instance",
    "_Feature"
   ],
   "window_display": false
  }
 },
 "nbformat": 4,
 "nbformat_minor": 2
}
