{
 "cells": [
  {
   "cell_type": "markdown",
   "metadata": {},
   "source": [
    "# 데이터에듀 모의고사(정형데이터, 통계분석)"
   ]
  },
  {
   "cell_type": "markdown",
   "metadata": {},
   "source": [
    "# 모의고사 1"
   ]
  },
  {
   "cell_type": "markdown",
   "metadata": {},
   "source": [
    "## 정형데이터"
   ]
  },
  {
   "cell_type": "code",
   "execution_count": 1,
   "metadata": {
    "ExecuteTime": {
     "end_time": "2020-09-18T13:58:31.315790Z",
     "start_time": "2020-09-18T13:58:29.587418Z"
    }
   },
   "outputs": [],
   "source": [
    "import pandas as pd"
   ]
  },
  {
   "cell_type": "code",
   "execution_count": 10,
   "metadata": {
    "ExecuteTime": {
     "end_time": "2020-09-18T14:02:19.030051Z",
     "start_time": "2020-09-18T14:02:19.021076Z"
    }
   },
   "outputs": [],
   "source": [
    "data = pd.read_csv('data/lotto.csv')"
   ]
  },
  {
   "cell_type": "code",
   "execution_count": 11,
   "metadata": {
    "ExecuteTime": {
     "end_time": "2020-09-18T14:02:21.398710Z",
     "start_time": "2020-09-18T14:02:21.387738Z"
    }
   },
   "outputs": [
    {
     "data": {
      "text/html": [
       "<div>\n",
       "<style scoped>\n",
       "    .dataframe tbody tr th:only-of-type {\n",
       "        vertical-align: middle;\n",
       "    }\n",
       "\n",
       "    .dataframe tbody tr th {\n",
       "        vertical-align: top;\n",
       "    }\n",
       "\n",
       "    .dataframe thead th {\n",
       "        text-align: right;\n",
       "    }\n",
       "</style>\n",
       "<table border=\"1\" class=\"dataframe\">\n",
       "  <thead>\n",
       "    <tr style=\"text-align: right;\">\n",
       "      <th></th>\n",
       "      <th>time_id</th>\n",
       "      <th>num1</th>\n",
       "      <th>num2</th>\n",
       "      <th>num3</th>\n",
       "      <th>num4</th>\n",
       "      <th>num5</th>\n",
       "      <th>num6</th>\n",
       "    </tr>\n",
       "  </thead>\n",
       "  <tbody>\n",
       "    <tr>\n",
       "      <th>0</th>\n",
       "      <td>859</td>\n",
       "      <td>8</td>\n",
       "      <td>22</td>\n",
       "      <td>35</td>\n",
       "      <td>38</td>\n",
       "      <td>39</td>\n",
       "      <td>41</td>\n",
       "    </tr>\n",
       "    <tr>\n",
       "      <th>1</th>\n",
       "      <td>858</td>\n",
       "      <td>9</td>\n",
       "      <td>13</td>\n",
       "      <td>32</td>\n",
       "      <td>38</td>\n",
       "      <td>39</td>\n",
       "      <td>43</td>\n",
       "    </tr>\n",
       "    <tr>\n",
       "      <th>2</th>\n",
       "      <td>857</td>\n",
       "      <td>6</td>\n",
       "      <td>10</td>\n",
       "      <td>16</td>\n",
       "      <td>28</td>\n",
       "      <td>34</td>\n",
       "      <td>38</td>\n",
       "    </tr>\n",
       "    <tr>\n",
       "      <th>3</th>\n",
       "      <td>856</td>\n",
       "      <td>10</td>\n",
       "      <td>24</td>\n",
       "      <td>40</td>\n",
       "      <td>41</td>\n",
       "      <td>43</td>\n",
       "      <td>44</td>\n",
       "    </tr>\n",
       "    <tr>\n",
       "      <th>4</th>\n",
       "      <td>855</td>\n",
       "      <td>8</td>\n",
       "      <td>15</td>\n",
       "      <td>17</td>\n",
       "      <td>19</td>\n",
       "      <td>43</td>\n",
       "      <td>44</td>\n",
       "    </tr>\n",
       "  </tbody>\n",
       "</table>\n",
       "</div>"
      ],
      "text/plain": [
       "   time_id  num1  num2  num3  num4  num5  num6\n",
       "0      859     8    22    35    38    39    41\n",
       "1      858     9    13    32    38    39    43\n",
       "2      857     6    10    16    28    34    38\n",
       "3      856    10    24    40    41    43    44\n",
       "4      855     8    15    17    19    43    44"
      ]
     },
     "execution_count": 11,
     "metadata": {},
     "output_type": "execute_result"
    }
   ],
   "source": [
    "data.head()\n"
   ]
  },
  {
   "cell_type": "code",
   "execution_count": 6,
   "metadata": {
    "ExecuteTime": {
     "end_time": "2020-09-18T14:00:04.106361Z",
     "start_time": "2020-09-18T14:00:04.080399Z"
    }
   },
   "outputs": [],
   "source": [
    "from mlxtend.preprocessing import TransactionEncoder\n",
    "from mlxtend.frequent_patterns import apriori, association_rules"
   ]
  },
  {
   "cell_type": "code",
   "execution_count": 9,
   "metadata": {
    "ExecuteTime": {
     "end_time": "2020-09-18T14:01:10.232267Z",
     "start_time": "2020-09-18T14:01:10.227281Z"
    }
   },
   "outputs": [],
   "source": [
    "dataset = df.iloc[:, 1:].values"
   ]
  },
  {
   "cell_type": "code",
   "execution_count": 14,
   "metadata": {
    "ExecuteTime": {
     "end_time": "2020-09-18T14:03:04.969054Z",
     "start_time": "2020-09-18T14:03:04.962073Z"
    }
   },
   "outputs": [
    {
     "data": {
      "text/plain": [
       "array([[ 8, 22, 35, 38, 39, 41],\n",
       "       [ 9, 13, 32, 38, 39, 43],\n",
       "       [ 6, 10, 16, 28, 34, 38],\n",
       "       ...,\n",
       "       [11, 16, 19, 21, 27, 31],\n",
       "       [ 9, 13, 21, 25, 32, 42],\n",
       "       [10, 23, 29, 33, 37, 40]], dtype=int64)"
      ]
     },
     "execution_count": 14,
     "metadata": {},
     "output_type": "execute_result"
    }
   ],
   "source": [
    "dataset"
   ]
  },
  {
   "cell_type": "code",
   "execution_count": 18,
   "metadata": {
    "ExecuteTime": {
     "end_time": "2020-09-18T14:04:32.421930Z",
     "start_time": "2020-09-18T14:04:32.411957Z"
    }
   },
   "outputs": [],
   "source": [
    "te = TransactionEncoder()\n",
    "te_ary = te.fit(dataset).transform(dataset)"
   ]
  },
  {
   "cell_type": "code",
   "execution_count": 19,
   "metadata": {
    "ExecuteTime": {
     "end_time": "2020-09-18T14:04:32.999384Z",
     "start_time": "2020-09-18T14:04:32.994426Z"
    }
   },
   "outputs": [],
   "source": [
    "df = pd.DataFrame(te_ary, columns = te.columns_)"
   ]
  },
  {
   "cell_type": "code",
   "execution_count": 23,
   "metadata": {
    "ExecuteTime": {
     "end_time": "2020-09-18T14:06:00.734509Z",
     "start_time": "2020-09-18T14:06:00.710581Z"
    }
   },
   "outputs": [
    {
     "data": {
      "text/html": [
       "<div>\n",
       "<style scoped>\n",
       "    .dataframe tbody tr th:only-of-type {\n",
       "        vertical-align: middle;\n",
       "    }\n",
       "\n",
       "    .dataframe tbody tr th {\n",
       "        vertical-align: top;\n",
       "    }\n",
       "\n",
       "    .dataframe thead th {\n",
       "        text-align: right;\n",
       "    }\n",
       "</style>\n",
       "<table border=\"1\" class=\"dataframe\">\n",
       "  <thead>\n",
       "    <tr style=\"text-align: right;\">\n",
       "      <th></th>\n",
       "      <th>1</th>\n",
       "      <th>2</th>\n",
       "      <th>3</th>\n",
       "      <th>4</th>\n",
       "      <th>5</th>\n",
       "      <th>6</th>\n",
       "      <th>7</th>\n",
       "      <th>8</th>\n",
       "      <th>9</th>\n",
       "      <th>10</th>\n",
       "      <th>...</th>\n",
       "      <th>36</th>\n",
       "      <th>37</th>\n",
       "      <th>38</th>\n",
       "      <th>39</th>\n",
       "      <th>40</th>\n",
       "      <th>41</th>\n",
       "      <th>42</th>\n",
       "      <th>43</th>\n",
       "      <th>44</th>\n",
       "      <th>45</th>\n",
       "    </tr>\n",
       "  </thead>\n",
       "  <tbody>\n",
       "    <tr>\n",
       "      <th>0</th>\n",
       "      <td>False</td>\n",
       "      <td>False</td>\n",
       "      <td>False</td>\n",
       "      <td>False</td>\n",
       "      <td>False</td>\n",
       "      <td>False</td>\n",
       "      <td>False</td>\n",
       "      <td>True</td>\n",
       "      <td>False</td>\n",
       "      <td>False</td>\n",
       "      <td>...</td>\n",
       "      <td>False</td>\n",
       "      <td>False</td>\n",
       "      <td>True</td>\n",
       "      <td>True</td>\n",
       "      <td>False</td>\n",
       "      <td>True</td>\n",
       "      <td>False</td>\n",
       "      <td>False</td>\n",
       "      <td>False</td>\n",
       "      <td>False</td>\n",
       "    </tr>\n",
       "    <tr>\n",
       "      <th>1</th>\n",
       "      <td>False</td>\n",
       "      <td>False</td>\n",
       "      <td>False</td>\n",
       "      <td>False</td>\n",
       "      <td>False</td>\n",
       "      <td>False</td>\n",
       "      <td>False</td>\n",
       "      <td>False</td>\n",
       "      <td>True</td>\n",
       "      <td>False</td>\n",
       "      <td>...</td>\n",
       "      <td>False</td>\n",
       "      <td>False</td>\n",
       "      <td>True</td>\n",
       "      <td>True</td>\n",
       "      <td>False</td>\n",
       "      <td>False</td>\n",
       "      <td>False</td>\n",
       "      <td>True</td>\n",
       "      <td>False</td>\n",
       "      <td>False</td>\n",
       "    </tr>\n",
       "    <tr>\n",
       "      <th>2</th>\n",
       "      <td>False</td>\n",
       "      <td>False</td>\n",
       "      <td>False</td>\n",
       "      <td>False</td>\n",
       "      <td>False</td>\n",
       "      <td>True</td>\n",
       "      <td>False</td>\n",
       "      <td>False</td>\n",
       "      <td>False</td>\n",
       "      <td>True</td>\n",
       "      <td>...</td>\n",
       "      <td>False</td>\n",
       "      <td>False</td>\n",
       "      <td>True</td>\n",
       "      <td>False</td>\n",
       "      <td>False</td>\n",
       "      <td>False</td>\n",
       "      <td>False</td>\n",
       "      <td>False</td>\n",
       "      <td>False</td>\n",
       "      <td>False</td>\n",
       "    </tr>\n",
       "    <tr>\n",
       "      <th>3</th>\n",
       "      <td>False</td>\n",
       "      <td>False</td>\n",
       "      <td>False</td>\n",
       "      <td>False</td>\n",
       "      <td>False</td>\n",
       "      <td>False</td>\n",
       "      <td>False</td>\n",
       "      <td>False</td>\n",
       "      <td>False</td>\n",
       "      <td>True</td>\n",
       "      <td>...</td>\n",
       "      <td>False</td>\n",
       "      <td>False</td>\n",
       "      <td>False</td>\n",
       "      <td>False</td>\n",
       "      <td>True</td>\n",
       "      <td>True</td>\n",
       "      <td>False</td>\n",
       "      <td>True</td>\n",
       "      <td>True</td>\n",
       "      <td>False</td>\n",
       "    </tr>\n",
       "    <tr>\n",
       "      <th>4</th>\n",
       "      <td>False</td>\n",
       "      <td>False</td>\n",
       "      <td>False</td>\n",
       "      <td>False</td>\n",
       "      <td>False</td>\n",
       "      <td>False</td>\n",
       "      <td>False</td>\n",
       "      <td>True</td>\n",
       "      <td>False</td>\n",
       "      <td>False</td>\n",
       "      <td>...</td>\n",
       "      <td>False</td>\n",
       "      <td>False</td>\n",
       "      <td>False</td>\n",
       "      <td>False</td>\n",
       "      <td>False</td>\n",
       "      <td>False</td>\n",
       "      <td>False</td>\n",
       "      <td>True</td>\n",
       "      <td>True</td>\n",
       "      <td>False</td>\n",
       "    </tr>\n",
       "  </tbody>\n",
       "</table>\n",
       "<p>5 rows × 45 columns</p>\n",
       "</div>"
      ],
      "text/plain": [
       "      1      2      3      4      5      6      7      8      9      10  ...  \\\n",
       "0  False  False  False  False  False  False  False   True  False  False  ...   \n",
       "1  False  False  False  False  False  False  False  False   True  False  ...   \n",
       "2  False  False  False  False  False   True  False  False  False   True  ...   \n",
       "3  False  False  False  False  False  False  False  False  False   True  ...   \n",
       "4  False  False  False  False  False  False  False   True  False  False  ...   \n",
       "\n",
       "      36     37     38     39     40     41     42     43     44     45  \n",
       "0  False  False   True   True  False   True  False  False  False  False  \n",
       "1  False  False   True   True  False  False  False   True  False  False  \n",
       "2  False  False   True  False  False  False  False  False  False  False  \n",
       "3  False  False  False  False   True   True  False   True   True  False  \n",
       "4  False  False  False  False  False  False  False   True   True  False  \n",
       "\n",
       "[5 rows x 45 columns]"
      ]
     },
     "execution_count": 23,
     "metadata": {},
     "output_type": "execute_result"
    }
   ],
   "source": [
    "df.head()"
   ]
  },
  {
   "cell_type": "code",
   "execution_count": 49,
   "metadata": {
    "ExecuteTime": {
     "end_time": "2020-09-18T14:28:32.010794Z",
     "start_time": "2020-09-18T14:28:32.004801Z"
    }
   },
   "outputs": [
    {
     "data": {
      "text/plain": [
       "(859, 45)"
      ]
     },
     "execution_count": 49,
     "metadata": {},
     "output_type": "execute_result"
    }
   ],
   "source": [
    "df.shape"
   ]
  },
  {
   "cell_type": "code",
   "execution_count": 31,
   "metadata": {
    "ExecuteTime": {
     "end_time": "2020-09-18T14:08:34.779131Z",
     "start_time": "2020-09-18T14:08:34.773196Z"
    }
   },
   "outputs": [],
   "source": [
    "df_top10 = df.sum(axis=0).sort_values(ascending=False).head(10)"
   ]
  },
  {
   "cell_type": "code",
   "execution_count": 32,
   "metadata": {
    "ExecuteTime": {
     "end_time": "2020-09-18T14:08:36.727919Z",
     "start_time": "2020-09-18T14:08:36.720939Z"
    }
   },
   "outputs": [
    {
     "data": {
      "text/plain": [
       "34    134\n",
       "27    126\n",
       "40    126\n",
       "43    125\n",
       "20    124\n",
       "12    123\n",
       "17    123\n",
       "1     122\n",
       "10    122\n",
       "13    122\n",
       "dtype: int64"
      ]
     },
     "execution_count": 32,
     "metadata": {},
     "output_type": "execute_result"
    }
   ],
   "source": [
    "df_top10"
   ]
  },
  {
   "cell_type": "code",
   "execution_count": 33,
   "metadata": {
    "ExecuteTime": {
     "end_time": "2020-09-18T14:08:38.245851Z",
     "start_time": "2020-09-18T14:08:38.240879Z"
    }
   },
   "outputs": [],
   "source": [
    "import matplotlib.pyplot as plt"
   ]
  },
  {
   "cell_type": "code",
   "execution_count": 34,
   "metadata": {
    "ExecuteTime": {
     "end_time": "2020-09-18T14:08:38.732553Z",
     "start_time": "2020-09-18T14:08:38.482219Z"
    }
   },
   "outputs": [
    {
     "data": {
      "text/plain": [
       "<AxesSubplot:>"
      ]
     },
     "execution_count": 34,
     "metadata": {},
     "output_type": "execute_result"
    },
    {
     "data": {
      "image/png": "[encoded data removed]",
      "text/plain": [
       "<Figure size 432x288 with 1 Axes>"
      ]
     },
     "metadata": {
      "needs_background": "light"
     },
     "output_type": "display_data"
    }
   ],
   "source": [
    "df_top10.plot(kind='bar')"
   ]
  },
  {
   "cell_type": "code",
   "execution_count": 35,
   "metadata": {
    "ExecuteTime": {
     "end_time": "2020-09-18T14:10:52.147445Z",
     "start_time": "2020-09-18T14:10:51.513142Z"
    }
   },
   "outputs": [],
   "source": [
    "frequent_itemsets = apriori(df, min_support=0.002, max_len=6)"
   ]
  },
  {
   "cell_type": "code",
   "execution_count": 44,
   "metadata": {
    "ExecuteTime": {
     "end_time": "2020-09-18T14:17:34.560423Z",
     "start_time": "2020-09-18T14:17:34.146522Z"
    }
   },
   "outputs": [],
   "source": [
    "rules_1 = association_rules(frequent_itemsets, metric='lift')"
   ]
  },
  {
   "cell_type": "code",
   "execution_count": 45,
   "metadata": {
    "ExecuteTime": {
     "end_time": "2020-09-18T14:17:34.755891Z",
     "start_time": "2020-09-18T14:17:34.722980Z"
    }
   },
   "outputs": [
    {
     "data": {
      "text/html": [
       "<div>\n",
       "<style scoped>\n",
       "    .dataframe tbody tr th:only-of-type {\n",
       "        vertical-align: middle;\n",
       "    }\n",
       "\n",
       "    .dataframe tbody tr th {\n",
       "        vertical-align: top;\n",
       "    }\n",
       "\n",
       "    .dataframe thead th {\n",
       "        text-align: right;\n",
       "    }\n",
       "</style>\n",
       "<table border=\"1\" class=\"dataframe\">\n",
       "  <thead>\n",
       "    <tr style=\"text-align: right;\">\n",
       "      <th></th>\n",
       "      <th>antecedents</th>\n",
       "      <th>consequents</th>\n",
       "      <th>antecedent support</th>\n",
       "      <th>consequent support</th>\n",
       "      <th>support</th>\n",
       "      <th>confidence</th>\n",
       "      <th>lift</th>\n",
       "      <th>leverage</th>\n",
       "      <th>conviction</th>\n",
       "    </tr>\n",
       "  </thead>\n",
       "  <tbody>\n",
       "    <tr>\n",
       "      <th>0</th>\n",
       "      <td>(0)</td>\n",
       "      <td>(1)</td>\n",
       "      <td>0.142026</td>\n",
       "      <td>0.130384</td>\n",
       "      <td>0.022119</td>\n",
       "      <td>0.155738</td>\n",
       "      <td>1.194453</td>\n",
       "      <td>0.003601</td>\n",
       "      <td>1.030030</td>\n",
       "    </tr>\n",
       "    <tr>\n",
       "      <th>1</th>\n",
       "      <td>(1)</td>\n",
       "      <td>(0)</td>\n",
       "      <td>0.130384</td>\n",
       "      <td>0.142026</td>\n",
       "      <td>0.022119</td>\n",
       "      <td>0.169643</td>\n",
       "      <td>1.194453</td>\n",
       "      <td>0.003601</td>\n",
       "      <td>1.033259</td>\n",
       "    </tr>\n",
       "    <tr>\n",
       "      <th>2</th>\n",
       "      <td>(0)</td>\n",
       "      <td>(2)</td>\n",
       "      <td>0.142026</td>\n",
       "      <td>0.129220</td>\n",
       "      <td>0.023283</td>\n",
       "      <td>0.163934</td>\n",
       "      <td>1.268646</td>\n",
       "      <td>0.004930</td>\n",
       "      <td>1.041521</td>\n",
       "    </tr>\n",
       "    <tr>\n",
       "      <th>3</th>\n",
       "      <td>(2)</td>\n",
       "      <td>(0)</td>\n",
       "      <td>0.129220</td>\n",
       "      <td>0.142026</td>\n",
       "      <td>0.023283</td>\n",
       "      <td>0.180180</td>\n",
       "      <td>1.268646</td>\n",
       "      <td>0.004930</td>\n",
       "      <td>1.046540</td>\n",
       "    </tr>\n",
       "    <tr>\n",
       "      <th>4</th>\n",
       "      <td>(0)</td>\n",
       "      <td>(4)</td>\n",
       "      <td>0.142026</td>\n",
       "      <td>0.138533</td>\n",
       "      <td>0.017462</td>\n",
       "      <td>0.122951</td>\n",
       "      <td>0.887519</td>\n",
       "      <td>-0.002213</td>\n",
       "      <td>0.982233</td>\n",
       "    </tr>\n",
       "    <tr>\n",
       "      <th>...</th>\n",
       "      <td>...</td>\n",
       "      <td>...</td>\n",
       "      <td>...</td>\n",
       "      <td>...</td>\n",
       "      <td>...</td>\n",
       "      <td>...</td>\n",
       "      <td>...</td>\n",
       "      <td>...</td>\n",
       "      <td>...</td>\n",
       "    </tr>\n",
       "    <tr>\n",
       "      <th>35741</th>\n",
       "      <td>(35)</td>\n",
       "      <td>(25, 42, 30, 15)</td>\n",
       "      <td>0.133877</td>\n",
       "      <td>0.002328</td>\n",
       "      <td>0.002328</td>\n",
       "      <td>0.017391</td>\n",
       "      <td>7.469565</td>\n",
       "      <td>0.002017</td>\n",
       "      <td>1.015330</td>\n",
       "    </tr>\n",
       "    <tr>\n",
       "      <th>35742</th>\n",
       "      <td>(42)</td>\n",
       "      <td>(25, 35, 30, 15)</td>\n",
       "      <td>0.145518</td>\n",
       "      <td>0.002328</td>\n",
       "      <td>0.002328</td>\n",
       "      <td>0.016000</td>\n",
       "      <td>6.872000</td>\n",
       "      <td>0.001989</td>\n",
       "      <td>1.013894</td>\n",
       "    </tr>\n",
       "    <tr>\n",
       "      <th>35743</th>\n",
       "      <td>(15)</td>\n",
       "      <td>(25, 42, 35, 30)</td>\n",
       "      <td>0.128056</td>\n",
       "      <td>0.002328</td>\n",
       "      <td>0.002328</td>\n",
       "      <td>0.018182</td>\n",
       "      <td>7.809091</td>\n",
       "      <td>0.002030</td>\n",
       "      <td>1.016147</td>\n",
       "    </tr>\n",
       "    <tr>\n",
       "      <th>35744</th>\n",
       "      <td>(25)</td>\n",
       "      <td>(42, 35, 30, 15)</td>\n",
       "      <td>0.135041</td>\n",
       "      <td>0.002328</td>\n",
       "      <td>0.002328</td>\n",
       "      <td>0.017241</td>\n",
       "      <td>7.405172</td>\n",
       "      <td>0.002014</td>\n",
       "      <td>1.015175</td>\n",
       "    </tr>\n",
       "    <tr>\n",
       "      <th>35745</th>\n",
       "      <td>(30)</td>\n",
       "      <td>(25, 42, 35, 15)</td>\n",
       "      <td>0.137369</td>\n",
       "      <td>0.002328</td>\n",
       "      <td>0.002328</td>\n",
       "      <td>0.016949</td>\n",
       "      <td>7.279661</td>\n",
       "      <td>0.002008</td>\n",
       "      <td>1.014873</td>\n",
       "    </tr>\n",
       "  </tbody>\n",
       "</table>\n",
       "<p>35746 rows × 9 columns</p>\n",
       "</div>"
      ],
      "text/plain": [
       "      antecedents       consequents  antecedent support  consequent support  \\\n",
       "0             (0)               (1)            0.142026            0.130384   \n",
       "1             (1)               (0)            0.130384            0.142026   \n",
       "2             (0)               (2)            0.142026            0.129220   \n",
       "3             (2)               (0)            0.129220            0.142026   \n",
       "4             (0)               (4)            0.142026            0.138533   \n",
       "...           ...               ...                 ...                 ...   \n",
       "35741        (35)  (25, 42, 30, 15)            0.133877            0.002328   \n",
       "35742        (42)  (25, 35, 30, 15)            0.145518            0.002328   \n",
       "35743        (15)  (25, 42, 35, 30)            0.128056            0.002328   \n",
       "35744        (25)  (42, 35, 30, 15)            0.135041            0.002328   \n",
       "35745        (30)  (25, 42, 35, 15)            0.137369            0.002328   \n",
       "\n",
       "        support  confidence      lift  leverage  conviction  \n",
       "0      0.022119    0.155738  1.194453  0.003601    1.030030  \n",
       "1      0.022119    0.169643  1.194453  0.003601    1.033259  \n",
       "2      0.023283    0.163934  1.268646  0.004930    1.041521  \n",
       "3      0.023283    0.180180  1.268646  0.004930    1.046540  \n",
       "4      0.017462    0.122951  0.887519 -0.002213    0.982233  \n",
       "...         ...         ...       ...       ...         ...  \n",
       "35741  0.002328    0.017391  7.469565  0.002017    1.015330  \n",
       "35742  0.002328    0.016000  6.872000  0.001989    1.013894  \n",
       "35743  0.002328    0.018182  7.809091  0.002030    1.016147  \n",
       "35744  0.002328    0.017241  7.405172  0.002014    1.015175  \n",
       "35745  0.002328    0.016949  7.279661  0.002008    1.014873  \n",
       "\n",
       "[35746 rows x 9 columns]"
      ]
     },
     "execution_count": 45,
     "metadata": {},
     "output_type": "execute_result"
    }
   ],
   "source": [
    "rules_1"
   ]
  },
  {
   "cell_type": "code",
   "execution_count": 46,
   "metadata": {
    "ExecuteTime": {
     "end_time": "2020-09-18T14:17:34.903505Z",
     "start_time": "2020-09-18T14:17:34.889533Z"
    }
   },
   "outputs": [],
   "source": [
    "# 남은 규칙 적용\n",
    "rules_1 = rules_1[rules_1['confidence']>=0.8]\n",
    "rules_1 = rules_1[rules_1['antecedents'].map(lambda x: len(x) >=2)]"
   ]
  },
  {
   "cell_type": "code",
   "execution_count": 57,
   "metadata": {
    "ExecuteTime": {
     "end_time": "2020-09-18T14:31:49.118414Z",
     "start_time": "2020-09-18T14:31:49.112431Z"
    }
   },
   "outputs": [
    {
     "data": {
      "text/plain": [
       "(704, 9)"
      ]
     },
     "execution_count": 57,
     "metadata": {},
     "output_type": "execute_result"
    }
   ],
   "source": [
    "# 704개의 규칙이 생성됨\n",
    "rules_1.shape"
   ]
  },
  {
   "cell_type": "code",
   "execution_count": 52,
   "metadata": {
    "ExecuteTime": {
     "end_time": "2020-09-18T14:30:35.303908Z",
     "start_time": "2020-09-18T14:30:35.277984Z"
    }
   },
   "outputs": [
    {
     "data": {
      "text/html": [
       "<div>\n",
       "<style scoped>\n",
       "    .dataframe tbody tr th:only-of-type {\n",
       "        vertical-align: middle;\n",
       "    }\n",
       "\n",
       "    .dataframe tbody tr th {\n",
       "        vertical-align: top;\n",
       "    }\n",
       "\n",
       "    .dataframe thead th {\n",
       "        text-align: right;\n",
       "    }\n",
       "</style>\n",
       "<table border=\"1\" class=\"dataframe\">\n",
       "  <thead>\n",
       "    <tr style=\"text-align: right;\">\n",
       "      <th></th>\n",
       "      <th>antecedents</th>\n",
       "      <th>consequents</th>\n",
       "      <th>antecedent support</th>\n",
       "      <th>consequent support</th>\n",
       "      <th>support</th>\n",
       "      <th>confidence</th>\n",
       "      <th>lift</th>\n",
       "      <th>leverage</th>\n",
       "      <th>conviction</th>\n",
       "    </tr>\n",
       "  </thead>\n",
       "  <tbody>\n",
       "    <tr>\n",
       "      <th>35730</th>\n",
       "      <td>(25, 30, 15)</td>\n",
       "      <td>(42, 35)</td>\n",
       "      <td>0.002328</td>\n",
       "      <td>0.012806</td>\n",
       "      <td>0.002328</td>\n",
       "      <td>1.0</td>\n",
       "      <td>78.090909</td>\n",
       "      <td>0.002298</td>\n",
       "      <td>inf</td>\n",
       "    </tr>\n",
       "    <tr>\n",
       "      <th>35484</th>\n",
       "      <td>(33, 21, 23)</td>\n",
       "      <td>(6, 30)</td>\n",
       "      <td>0.002328</td>\n",
       "      <td>0.012806</td>\n",
       "      <td>0.002328</td>\n",
       "      <td>1.0</td>\n",
       "      <td>78.090909</td>\n",
       "      <td>0.002298</td>\n",
       "      <td>inf</td>\n",
       "    </tr>\n",
       "    <tr>\n",
       "      <th>35483</th>\n",
       "      <td>(33, 6, 30)</td>\n",
       "      <td>(21, 23)</td>\n",
       "      <td>0.002328</td>\n",
       "      <td>0.012806</td>\n",
       "      <td>0.002328</td>\n",
       "      <td>1.0</td>\n",
       "      <td>78.090909</td>\n",
       "      <td>0.002298</td>\n",
       "      <td>inf</td>\n",
       "    </tr>\n",
       "    <tr>\n",
       "      <th>35636</th>\n",
       "      <td>(25, 20, 13)</td>\n",
       "      <td>(17, 14)</td>\n",
       "      <td>0.002328</td>\n",
       "      <td>0.013970</td>\n",
       "      <td>0.002328</td>\n",
       "      <td>1.0</td>\n",
       "      <td>71.583333</td>\n",
       "      <td>0.002296</td>\n",
       "      <td>inf</td>\n",
       "    </tr>\n",
       "    <tr>\n",
       "      <th>35511</th>\n",
       "      <td>(33, 35, 9)</td>\n",
       "      <td>(43, 21)</td>\n",
       "      <td>0.002328</td>\n",
       "      <td>0.013970</td>\n",
       "      <td>0.002328</td>\n",
       "      <td>1.0</td>\n",
       "      <td>71.583333</td>\n",
       "      <td>0.002296</td>\n",
       "      <td>inf</td>\n",
       "    </tr>\n",
       "    <tr>\n",
       "      <th>35490</th>\n",
       "      <td>(21, 30, 23)</td>\n",
       "      <td>(33, 6)</td>\n",
       "      <td>0.002328</td>\n",
       "      <td>0.013970</td>\n",
       "      <td>0.002328</td>\n",
       "      <td>1.0</td>\n",
       "      <td>71.583333</td>\n",
       "      <td>0.002296</td>\n",
       "      <td>inf</td>\n",
       "    </tr>\n",
       "    <tr>\n",
       "      <th>35577</th>\n",
       "      <td>(19, 14, 23)</td>\n",
       "      <td>(11, 29)</td>\n",
       "      <td>0.002328</td>\n",
       "      <td>0.013970</td>\n",
       "      <td>0.002328</td>\n",
       "      <td>1.0</td>\n",
       "      <td>71.583333</td>\n",
       "      <td>0.002296</td>\n",
       "      <td>inf</td>\n",
       "    </tr>\n",
       "    <tr>\n",
       "      <th>35727</th>\n",
       "      <td>(25, 42, 15)</td>\n",
       "      <td>(35, 30)</td>\n",
       "      <td>0.002328</td>\n",
       "      <td>0.013970</td>\n",
       "      <td>0.002328</td>\n",
       "      <td>1.0</td>\n",
       "      <td>71.583333</td>\n",
       "      <td>0.002296</td>\n",
       "      <td>inf</td>\n",
       "    </tr>\n",
       "    <tr>\n",
       "      <th>35721</th>\n",
       "      <td>(42, 35, 15)</td>\n",
       "      <td>(25, 30)</td>\n",
       "      <td>0.002328</td>\n",
       "      <td>0.015134</td>\n",
       "      <td>0.002328</td>\n",
       "      <td>1.0</td>\n",
       "      <td>66.076923</td>\n",
       "      <td>0.002293</td>\n",
       "      <td>inf</td>\n",
       "    </tr>\n",
       "    <tr>\n",
       "      <th>35515</th>\n",
       "      <td>(33, 21, 9)</td>\n",
       "      <td>(43, 35)</td>\n",
       "      <td>0.002328</td>\n",
       "      <td>0.016298</td>\n",
       "      <td>0.002328</td>\n",
       "      <td>1.0</td>\n",
       "      <td>61.357143</td>\n",
       "      <td>0.002290</td>\n",
       "      <td>inf</td>\n",
       "    </tr>\n",
       "  </tbody>\n",
       "</table>\n",
       "</div>"
      ],
      "text/plain": [
       "        antecedents consequents  antecedent support  consequent support  \\\n",
       "35730  (25, 30, 15)    (42, 35)            0.002328            0.012806   \n",
       "35484  (33, 21, 23)     (6, 30)            0.002328            0.012806   \n",
       "35483   (33, 6, 30)    (21, 23)            0.002328            0.012806   \n",
       "35636  (25, 20, 13)    (17, 14)            0.002328            0.013970   \n",
       "35511   (33, 35, 9)    (43, 21)            0.002328            0.013970   \n",
       "35490  (21, 30, 23)     (33, 6)            0.002328            0.013970   \n",
       "35577  (19, 14, 23)    (11, 29)            0.002328            0.013970   \n",
       "35727  (25, 42, 15)    (35, 30)            0.002328            0.013970   \n",
       "35721  (42, 35, 15)    (25, 30)            0.002328            0.015134   \n",
       "35515   (33, 21, 9)    (43, 35)            0.002328            0.016298   \n",
       "\n",
       "        support  confidence       lift  leverage  conviction  \n",
       "35730  0.002328         1.0  78.090909  0.002298         inf  \n",
       "35484  0.002328         1.0  78.090909  0.002298         inf  \n",
       "35483  0.002328         1.0  78.090909  0.002298         inf  \n",
       "35636  0.002328         1.0  71.583333  0.002296         inf  \n",
       "35511  0.002328         1.0  71.583333  0.002296         inf  \n",
       "35490  0.002328         1.0  71.583333  0.002296         inf  \n",
       "35577  0.002328         1.0  71.583333  0.002296         inf  \n",
       "35727  0.002328         1.0  71.583333  0.002296         inf  \n",
       "35721  0.002328         1.0  66.076923  0.002293         inf  \n",
       "35515  0.002328         1.0  61.357143  0.002290         inf  "
      ]
     },
     "execution_count": 52,
     "metadata": {},
     "output_type": "execute_result"
    }
   ],
   "source": [
    "# Lift 기준 정렬\n",
    "rules_1.sort_values('lift', ascending=False).head(10)"
   ]
  },
  {
   "cell_type": "code",
   "execution_count": 65,
   "metadata": {
    "ExecuteTime": {
     "end_time": "2020-09-18T14:33:04.972468Z",
     "start_time": "2020-09-18T14:33:04.966484Z"
    }
   },
   "outputs": [
    {
     "data": {
      "text/plain": [
       "frozenset({21, 43})"
      ]
     },
     "execution_count": 65,
     "metadata": {},
     "output_type": "execute_result"
    }
   ],
   "source": [
    "# 데이터 타입이 frozenset이라고 한다\n",
    "rules_1['consequents'][35511]"
   ]
  },
  {
   "cell_type": "code",
   "execution_count": 69,
   "metadata": {
    "ExecuteTime": {
     "end_time": "2020-09-18T14:33:49.946147Z",
     "start_time": "2020-09-18T14:33:49.911252Z"
    }
   },
   "outputs": [
    {
     "data": {
      "text/html": [
       "<div>\n",
       "<style scoped>\n",
       "    .dataframe tbody tr th:only-of-type {\n",
       "        vertical-align: middle;\n",
       "    }\n",
       "\n",
       "    .dataframe tbody tr th {\n",
       "        vertical-align: top;\n",
       "    }\n",
       "\n",
       "    .dataframe thead th {\n",
       "        text-align: right;\n",
       "    }\n",
       "</style>\n",
       "<table border=\"1\" class=\"dataframe\">\n",
       "  <thead>\n",
       "    <tr style=\"text-align: right;\">\n",
       "      <th></th>\n",
       "      <th>antecedents</th>\n",
       "      <th>consequents</th>\n",
       "      <th>antecedent support</th>\n",
       "      <th>consequent support</th>\n",
       "      <th>support</th>\n",
       "      <th>confidence</th>\n",
       "      <th>lift</th>\n",
       "      <th>leverage</th>\n",
       "      <th>conviction</th>\n",
       "    </tr>\n",
       "  </thead>\n",
       "  <tbody>\n",
       "    <tr>\n",
       "      <th>30017</th>\n",
       "      <td>(3, 4, 44)</td>\n",
       "      <td>(34)</td>\n",
       "      <td>0.002328</td>\n",
       "      <td>0.123399</td>\n",
       "      <td>0.002328</td>\n",
       "      <td>1.0</td>\n",
       "      <td>8.103774</td>\n",
       "      <td>0.002041</td>\n",
       "      <td>inf</td>\n",
       "    </tr>\n",
       "    <tr>\n",
       "      <th>30267</th>\n",
       "      <td>(3, 25, 19)</td>\n",
       "      <td>(34)</td>\n",
       "      <td>0.003492</td>\n",
       "      <td>0.123399</td>\n",
       "      <td>0.003492</td>\n",
       "      <td>1.0</td>\n",
       "      <td>8.103774</td>\n",
       "      <td>0.003061</td>\n",
       "      <td>inf</td>\n",
       "    </tr>\n",
       "    <tr>\n",
       "      <th>30773</th>\n",
       "      <td>(42, 4, 30)</td>\n",
       "      <td>(34)</td>\n",
       "      <td>0.002328</td>\n",
       "      <td>0.123399</td>\n",
       "      <td>0.002328</td>\n",
       "      <td>1.0</td>\n",
       "      <td>8.103774</td>\n",
       "      <td>0.002041</td>\n",
       "      <td>inf</td>\n",
       "    </tr>\n",
       "    <tr>\n",
       "      <th>31864</th>\n",
       "      <td>(16, 35, 7)</td>\n",
       "      <td>(34)</td>\n",
       "      <td>0.002328</td>\n",
       "      <td>0.123399</td>\n",
       "      <td>0.002328</td>\n",
       "      <td>1.0</td>\n",
       "      <td>8.103774</td>\n",
       "      <td>0.002041</td>\n",
       "      <td>inf</td>\n",
       "    </tr>\n",
       "    <tr>\n",
       "      <th>32073</th>\n",
       "      <td>(8, 17, 22)</td>\n",
       "      <td>(34)</td>\n",
       "      <td>0.002328</td>\n",
       "      <td>0.123399</td>\n",
       "      <td>0.002328</td>\n",
       "      <td>1.0</td>\n",
       "      <td>8.103774</td>\n",
       "      <td>0.002041</td>\n",
       "      <td>inf</td>\n",
       "    </tr>\n",
       "    <tr>\n",
       "      <th>32186</th>\n",
       "      <td>(9, 15, 23)</td>\n",
       "      <td>(34)</td>\n",
       "      <td>0.002328</td>\n",
       "      <td>0.123399</td>\n",
       "      <td>0.002328</td>\n",
       "      <td>1.0</td>\n",
       "      <td>8.103774</td>\n",
       "      <td>0.002041</td>\n",
       "      <td>inf</td>\n",
       "    </tr>\n",
       "    <tr>\n",
       "      <th>32298</th>\n",
       "      <td>(9, 21, 39)</td>\n",
       "      <td>(34)</td>\n",
       "      <td>0.002328</td>\n",
       "      <td>0.123399</td>\n",
       "      <td>0.002328</td>\n",
       "      <td>1.0</td>\n",
       "      <td>8.103774</td>\n",
       "      <td>0.002041</td>\n",
       "      <td>inf</td>\n",
       "    </tr>\n",
       "    <tr>\n",
       "      <th>32660</th>\n",
       "      <td>(25, 10, 19)</td>\n",
       "      <td>(34)</td>\n",
       "      <td>0.002328</td>\n",
       "      <td>0.123399</td>\n",
       "      <td>0.002328</td>\n",
       "      <td>1.0</td>\n",
       "      <td>8.103774</td>\n",
       "      <td>0.002041</td>\n",
       "      <td>inf</td>\n",
       "    </tr>\n",
       "    <tr>\n",
       "      <th>33293</th>\n",
       "      <td>(42, 12, 22)</td>\n",
       "      <td>(34)</td>\n",
       "      <td>0.002328</td>\n",
       "      <td>0.123399</td>\n",
       "      <td>0.002328</td>\n",
       "      <td>1.0</td>\n",
       "      <td>8.103774</td>\n",
       "      <td>0.002041</td>\n",
       "      <td>inf</td>\n",
       "    </tr>\n",
       "    <tr>\n",
       "      <th>33405</th>\n",
       "      <td>(42, 12, 44)</td>\n",
       "      <td>(34)</td>\n",
       "      <td>0.002328</td>\n",
       "      <td>0.123399</td>\n",
       "      <td>0.002328</td>\n",
       "      <td>1.0</td>\n",
       "      <td>8.103774</td>\n",
       "      <td>0.002041</td>\n",
       "      <td>inf</td>\n",
       "    </tr>\n",
       "    <tr>\n",
       "      <th>33642</th>\n",
       "      <td>(13, 21, 38)</td>\n",
       "      <td>(34)</td>\n",
       "      <td>0.003492</td>\n",
       "      <td>0.123399</td>\n",
       "      <td>0.003492</td>\n",
       "      <td>1.0</td>\n",
       "      <td>8.103774</td>\n",
       "      <td>0.003061</td>\n",
       "      <td>inf</td>\n",
       "    </tr>\n",
       "    <tr>\n",
       "      <th>34173</th>\n",
       "      <td>(26, 15, 23)</td>\n",
       "      <td>(34)</td>\n",
       "      <td>0.002328</td>\n",
       "      <td>0.123399</td>\n",
       "      <td>0.002328</td>\n",
       "      <td>1.0</td>\n",
       "      <td>8.103774</td>\n",
       "      <td>0.002041</td>\n",
       "      <td>inf</td>\n",
       "    </tr>\n",
       "    <tr>\n",
       "      <th>34369</th>\n",
       "      <td>(16, 19, 35)</td>\n",
       "      <td>(34)</td>\n",
       "      <td>0.002328</td>\n",
       "      <td>0.123399</td>\n",
       "      <td>0.002328</td>\n",
       "      <td>1.0</td>\n",
       "      <td>8.103774</td>\n",
       "      <td>0.002041</td>\n",
       "      <td>inf</td>\n",
       "    </tr>\n",
       "    <tr>\n",
       "      <th>34858</th>\n",
       "      <td>(32, 26, 19)</td>\n",
       "      <td>(34)</td>\n",
       "      <td>0.002328</td>\n",
       "      <td>0.123399</td>\n",
       "      <td>0.002328</td>\n",
       "      <td>1.0</td>\n",
       "      <td>8.103774</td>\n",
       "      <td>0.002041</td>\n",
       "      <td>inf</td>\n",
       "    </tr>\n",
       "    <tr>\n",
       "      <th>35015</th>\n",
       "      <td>(21, 30, 39)</td>\n",
       "      <td>(34)</td>\n",
       "      <td>0.002328</td>\n",
       "      <td>0.123399</td>\n",
       "      <td>0.002328</td>\n",
       "      <td>1.0</td>\n",
       "      <td>8.103774</td>\n",
       "      <td>0.002041</td>\n",
       "      <td>inf</td>\n",
       "    </tr>\n",
       "    <tr>\n",
       "      <th>35392</th>\n",
       "      <td>(32, 42, 44)</td>\n",
       "      <td>(34)</td>\n",
       "      <td>0.002328</td>\n",
       "      <td>0.123399</td>\n",
       "      <td>0.002328</td>\n",
       "      <td>1.0</td>\n",
       "      <td>8.103774</td>\n",
       "      <td>0.002041</td>\n",
       "      <td>inf</td>\n",
       "    </tr>\n",
       "  </tbody>\n",
       "</table>\n",
       "</div>"
      ],
      "text/plain": [
       "        antecedents consequents  antecedent support  consequent support  \\\n",
       "30017    (3, 4, 44)        (34)            0.002328            0.123399   \n",
       "30267   (3, 25, 19)        (34)            0.003492            0.123399   \n",
       "30773   (42, 4, 30)        (34)            0.002328            0.123399   \n",
       "31864   (16, 35, 7)        (34)            0.002328            0.123399   \n",
       "32073   (8, 17, 22)        (34)            0.002328            0.123399   \n",
       "32186   (9, 15, 23)        (34)            0.002328            0.123399   \n",
       "32298   (9, 21, 39)        (34)            0.002328            0.123399   \n",
       "32660  (25, 10, 19)        (34)            0.002328            0.123399   \n",
       "33293  (42, 12, 22)        (34)            0.002328            0.123399   \n",
       "33405  (42, 12, 44)        (34)            0.002328            0.123399   \n",
       "33642  (13, 21, 38)        (34)            0.003492            0.123399   \n",
       "34173  (26, 15, 23)        (34)            0.002328            0.123399   \n",
       "34369  (16, 19, 35)        (34)            0.002328            0.123399   \n",
       "34858  (32, 26, 19)        (34)            0.002328            0.123399   \n",
       "35015  (21, 30, 39)        (34)            0.002328            0.123399   \n",
       "35392  (32, 42, 44)        (34)            0.002328            0.123399   \n",
       "\n",
       "        support  confidence      lift  leverage  conviction  \n",
       "30017  0.002328         1.0  8.103774  0.002041         inf  \n",
       "30267  0.003492         1.0  8.103774  0.003061         inf  \n",
       "30773  0.002328         1.0  8.103774  0.002041         inf  \n",
       "31864  0.002328         1.0  8.103774  0.002041         inf  \n",
       "32073  0.002328         1.0  8.103774  0.002041         inf  \n",
       "32186  0.002328         1.0  8.103774  0.002041         inf  \n",
       "32298  0.002328         1.0  8.103774  0.002041         inf  \n",
       "32660  0.002328         1.0  8.103774  0.002041         inf  \n",
       "33293  0.002328         1.0  8.103774  0.002041         inf  \n",
       "33405  0.002328         1.0  8.103774  0.002041         inf  \n",
       "33642  0.003492         1.0  8.103774  0.003061         inf  \n",
       "34173  0.002328         1.0  8.103774  0.002041         inf  \n",
       "34369  0.002328         1.0  8.103774  0.002041         inf  \n",
       "34858  0.002328         1.0  8.103774  0.002041         inf  \n",
       "35015  0.002328         1.0  8.103774  0.002041         inf  \n",
       "35392  0.002328         1.0  8.103774  0.002041         inf  "
      ]
     },
     "execution_count": 69,
     "metadata": {},
     "output_type": "execute_result"
    }
   ],
   "source": [
    "# 위에서 확인한 가장 많이 나온 번호 34를 조회함\n",
    "rules_1[rules_1['consequents']==frozenset({34})].sort_values('lift', ascending=False)"
   ]
  },
  {
   "cell_type": "markdown",
   "metadata": {},
   "source": [
    "## 통계분석"
   ]
  },
  {
   "cell_type": "code",
   "execution_count": 107,
   "metadata": {
    "ExecuteTime": {
     "end_time": "2020-09-18T15:09:54.483950Z",
     "start_time": "2020-09-18T15:09:54.401176Z"
    }
   },
   "outputs": [],
   "source": [
    "import pandas as pd\n",
    "\n",
    "data = pd.read_csv('D:/github/FIFA.csv', encoding='cp949')"
   ]
  },
  {
   "cell_type": "code",
   "execution_count": 108,
   "metadata": {
    "ExecuteTime": {
     "end_time": "2020-09-18T15:09:54.709324Z",
     "start_time": "2020-09-18T15:09:54.676416Z"
    }
   },
   "outputs": [
    {
     "data": {
      "text/html": [
       "<div>\n",
       "<style scoped>\n",
       "    .dataframe tbody tr th:only-of-type {\n",
       "        vertical-align: middle;\n",
       "    }\n",
       "\n",
       "    .dataframe tbody tr th {\n",
       "        vertical-align: top;\n",
       "    }\n",
       "\n",
       "    .dataframe thead th {\n",
       "        text-align: right;\n",
       "    }\n",
       "</style>\n",
       "<table border=\"1\" class=\"dataframe\">\n",
       "  <thead>\n",
       "    <tr style=\"text-align: right;\">\n",
       "      <th></th>\n",
       "      <th>ID</th>\n",
       "      <th>Name</th>\n",
       "      <th>Age</th>\n",
       "      <th>Nationality</th>\n",
       "      <th>Overall</th>\n",
       "      <th>Club</th>\n",
       "      <th>Preferred_Foot</th>\n",
       "      <th>Work_Rate</th>\n",
       "      <th>Position</th>\n",
       "      <th>Jersey_Number</th>\n",
       "      <th>Contract_Valid_Until</th>\n",
       "      <th>Height</th>\n",
       "      <th>Weight_lb</th>\n",
       "      <th>Release_Clause</th>\n",
       "      <th>Value</th>\n",
       "      <th>Wage</th>\n",
       "    </tr>\n",
       "  </thead>\n",
       "  <tbody>\n",
       "    <tr>\n",
       "      <th>0</th>\n",
       "      <td>158023</td>\n",
       "      <td>L. Messi</td>\n",
       "      <td>31</td>\n",
       "      <td>Argentina</td>\n",
       "      <td>94</td>\n",
       "      <td>FC Barcelona</td>\n",
       "      <td>Left</td>\n",
       "      <td>Medium/ Medium</td>\n",
       "      <td>RF</td>\n",
       "      <td>10</td>\n",
       "      <td>2021</td>\n",
       "      <td>5'7</td>\n",
       "      <td>159</td>\n",
       "      <td>226500</td>\n",
       "      <td>110500</td>\n",
       "      <td>565</td>\n",
       "    </tr>\n",
       "    <tr>\n",
       "      <th>1</th>\n",
       "      <td>20801</td>\n",
       "      <td>Cristiano Ronaldo</td>\n",
       "      <td>33</td>\n",
       "      <td>Portugal</td>\n",
       "      <td>94</td>\n",
       "      <td>Juventus</td>\n",
       "      <td>Right</td>\n",
       "      <td>High/ Low</td>\n",
       "      <td>ST</td>\n",
       "      <td>7</td>\n",
       "      <td>2022</td>\n",
       "      <td>6'2</td>\n",
       "      <td>183</td>\n",
       "      <td>127100</td>\n",
       "      <td>77000</td>\n",
       "      <td>405</td>\n",
       "    </tr>\n",
       "    <tr>\n",
       "      <th>2</th>\n",
       "      <td>190871</td>\n",
       "      <td>Neymar Jr</td>\n",
       "      <td>26</td>\n",
       "      <td>Brazil</td>\n",
       "      <td>92</td>\n",
       "      <td>Paris Saint-Germain</td>\n",
       "      <td>Right</td>\n",
       "      <td>High/ Medium</td>\n",
       "      <td>LW</td>\n",
       "      <td>10</td>\n",
       "      <td>2022</td>\n",
       "      <td>5'9</td>\n",
       "      <td>150</td>\n",
       "      <td>228100</td>\n",
       "      <td>118500</td>\n",
       "      <td>290</td>\n",
       "    </tr>\n",
       "    <tr>\n",
       "      <th>3</th>\n",
       "      <td>193080</td>\n",
       "      <td>De Gea</td>\n",
       "      <td>27</td>\n",
       "      <td>Spain</td>\n",
       "      <td>91</td>\n",
       "      <td>Manchester United</td>\n",
       "      <td>Right</td>\n",
       "      <td>Medium/ Medium</td>\n",
       "      <td>GK</td>\n",
       "      <td>1</td>\n",
       "      <td>2020</td>\n",
       "      <td>6'4</td>\n",
       "      <td>168</td>\n",
       "      <td>138600</td>\n",
       "      <td>72000</td>\n",
       "      <td>260</td>\n",
       "    </tr>\n",
       "    <tr>\n",
       "      <th>4</th>\n",
       "      <td>192985</td>\n",
       "      <td>K. De Bruyne</td>\n",
       "      <td>27</td>\n",
       "      <td>Belgium</td>\n",
       "      <td>91</td>\n",
       "      <td>Manchester City</td>\n",
       "      <td>Right</td>\n",
       "      <td>High/ High</td>\n",
       "      <td>RCM</td>\n",
       "      <td>7</td>\n",
       "      <td>2023</td>\n",
       "      <td>5'11</td>\n",
       "      <td>154</td>\n",
       "      <td>196400</td>\n",
       "      <td>102000</td>\n",
       "      <td>355</td>\n",
       "    </tr>\n",
       "    <tr>\n",
       "      <th>...</th>\n",
       "      <td>...</td>\n",
       "      <td>...</td>\n",
       "      <td>...</td>\n",
       "      <td>...</td>\n",
       "      <td>...</td>\n",
       "      <td>...</td>\n",
       "      <td>...</td>\n",
       "      <td>...</td>\n",
       "      <td>...</td>\n",
       "      <td>...</td>\n",
       "      <td>...</td>\n",
       "      <td>...</td>\n",
       "      <td>...</td>\n",
       "      <td>...</td>\n",
       "      <td>...</td>\n",
       "      <td>...</td>\n",
       "    </tr>\n",
       "    <tr>\n",
       "      <th>16637</th>\n",
       "      <td>238813</td>\n",
       "      <td>J. Lundstram</td>\n",
       "      <td>19</td>\n",
       "      <td>England</td>\n",
       "      <td>47</td>\n",
       "      <td>Crewe Alexandra</td>\n",
       "      <td>Right</td>\n",
       "      <td>Medium/ Medium</td>\n",
       "      <td>CM</td>\n",
       "      <td>22</td>\n",
       "      <td>2019</td>\n",
       "      <td>5'9</td>\n",
       "      <td>134</td>\n",
       "      <td>143</td>\n",
       "      <td>60</td>\n",
       "      <td>1</td>\n",
       "    </tr>\n",
       "    <tr>\n",
       "      <th>16638</th>\n",
       "      <td>243165</td>\n",
       "      <td>N. Christoffersson</td>\n",
       "      <td>19</td>\n",
       "      <td>Sweden</td>\n",
       "      <td>47</td>\n",
       "      <td>Trelleborgs FF</td>\n",
       "      <td>Right</td>\n",
       "      <td>Medium/ Medium</td>\n",
       "      <td>ST</td>\n",
       "      <td>21</td>\n",
       "      <td>2020</td>\n",
       "      <td>6'3</td>\n",
       "      <td>170</td>\n",
       "      <td>113</td>\n",
       "      <td>60</td>\n",
       "      <td>1</td>\n",
       "    </tr>\n",
       "    <tr>\n",
       "      <th>16639</th>\n",
       "      <td>241638</td>\n",
       "      <td>B. Worman</td>\n",
       "      <td>16</td>\n",
       "      <td>England</td>\n",
       "      <td>47</td>\n",
       "      <td>Cambridge United</td>\n",
       "      <td>Right</td>\n",
       "      <td>Medium/ Medium</td>\n",
       "      <td>ST</td>\n",
       "      <td>33</td>\n",
       "      <td>2021</td>\n",
       "      <td>5'8</td>\n",
       "      <td>148</td>\n",
       "      <td>165</td>\n",
       "      <td>60</td>\n",
       "      <td>1</td>\n",
       "    </tr>\n",
       "    <tr>\n",
       "      <th>16640</th>\n",
       "      <td>246268</td>\n",
       "      <td>D. Walker-Rice</td>\n",
       "      <td>17</td>\n",
       "      <td>England</td>\n",
       "      <td>47</td>\n",
       "      <td>Tranmere Rovers</td>\n",
       "      <td>Right</td>\n",
       "      <td>Medium/ Medium</td>\n",
       "      <td>RW</td>\n",
       "      <td>34</td>\n",
       "      <td>2019</td>\n",
       "      <td>5'10</td>\n",
       "      <td>154</td>\n",
       "      <td>143</td>\n",
       "      <td>60</td>\n",
       "      <td>1</td>\n",
       "    </tr>\n",
       "    <tr>\n",
       "      <th>16641</th>\n",
       "      <td>246269</td>\n",
       "      <td>G. Nugent</td>\n",
       "      <td>16</td>\n",
       "      <td>England</td>\n",
       "      <td>46</td>\n",
       "      <td>Tranmere Rovers</td>\n",
       "      <td>Right</td>\n",
       "      <td>Medium/ Medium</td>\n",
       "      <td>CM</td>\n",
       "      <td>33</td>\n",
       "      <td>2019</td>\n",
       "      <td>5'10</td>\n",
       "      <td>176</td>\n",
       "      <td>165</td>\n",
       "      <td>60</td>\n",
       "      <td>1</td>\n",
       "    </tr>\n",
       "  </tbody>\n",
       "</table>\n",
       "<p>16642 rows × 16 columns</p>\n",
       "</div>"
      ],
      "text/plain": [
       "           ID                Name  Age Nationality  Overall  \\\n",
       "0      158023            L. Messi   31   Argentina       94   \n",
       "1       20801   Cristiano Ronaldo   33    Portugal       94   \n",
       "2      190871           Neymar Jr   26      Brazil       92   \n",
       "3      193080              De Gea   27       Spain       91   \n",
       "4      192985        K. De Bruyne   27     Belgium       91   \n",
       "...       ...                 ...  ...         ...      ...   \n",
       "16637  238813        J. Lundstram   19     England       47   \n",
       "16638  243165  N. Christoffersson   19      Sweden       47   \n",
       "16639  241638           B. Worman   16     England       47   \n",
       "16640  246268      D. Walker-Rice   17     England       47   \n",
       "16641  246269           G. Nugent   16     England       46   \n",
       "\n",
       "                      Club Preferred_Foot       Work_Rate Position  \\\n",
       "0             FC Barcelona           Left  Medium/ Medium       RF   \n",
       "1                 Juventus          Right       High/ Low       ST   \n",
       "2      Paris Saint-Germain          Right    High/ Medium       LW   \n",
       "3        Manchester United          Right  Medium/ Medium       GK   \n",
       "4          Manchester City          Right      High/ High      RCM   \n",
       "...                    ...            ...             ...      ...   \n",
       "16637      Crewe Alexandra          Right  Medium/ Medium       CM   \n",
       "16638       Trelleborgs FF          Right  Medium/ Medium       ST   \n",
       "16639     Cambridge United          Right  Medium/ Medium       ST   \n",
       "16640      Tranmere Rovers          Right  Medium/ Medium       RW   \n",
       "16641      Tranmere Rovers          Right  Medium/ Medium       CM   \n",
       "\n",
       "       Jersey_Number  Contract_Valid_Until Height  Weight_lb  Release_Clause  \\\n",
       "0                 10                  2021    5'7        159          226500   \n",
       "1                  7                  2022    6'2        183          127100   \n",
       "2                 10                  2022    5'9        150          228100   \n",
       "3                  1                  2020    6'4        168          138600   \n",
       "4                  7                  2023   5'11        154          196400   \n",
       "...              ...                   ...    ...        ...             ...   \n",
       "16637             22                  2019    5'9        134             143   \n",
       "16638             21                  2020    6'3        170             113   \n",
       "16639             33                  2021    5'8        148             165   \n",
       "16640             34                  2019   5'10        154             143   \n",
       "16641             33                  2019   5'10        176             165   \n",
       "\n",
       "        Value  Wage  \n",
       "0      110500   565  \n",
       "1       77000   405  \n",
       "2      118500   290  \n",
       "3       72000   260  \n",
       "4      102000   355  \n",
       "...       ...   ...  \n",
       "16637      60     1  \n",
       "16638      60     1  \n",
       "16639      60     1  \n",
       "16640      60     1  \n",
       "16641      60     1  \n",
       "\n",
       "[16642 rows x 16 columns]"
      ]
     },
     "execution_count": 108,
     "metadata": {},
     "output_type": "execute_result"
    }
   ],
   "source": [
    "data"
   ]
  },
  {
   "cell_type": "code",
   "execution_count": 109,
   "metadata": {
    "ExecuteTime": {
     "end_time": "2020-09-18T15:09:56.052737Z",
     "start_time": "2020-09-18T15:09:56.046742Z"
    }
   },
   "outputs": [
    {
     "data": {
      "text/plain": [
       "0"
      ]
     },
     "execution_count": 109,
     "metadata": {},
     "output_type": "execute_result"
    }
   ],
   "source": [
    "data['Height'].isna().sum()"
   ]
  },
  {
   "cell_type": "code",
   "execution_count": 78,
   "metadata": {
    "ExecuteTime": {
     "end_time": "2020-09-18T14:42:04.907547Z",
     "start_time": "2020-09-18T14:42:04.839754Z"
    }
   },
   "outputs": [
    {
     "data": {
      "text/html": [
       "<div>\n",
       "<style scoped>\n",
       "    .dataframe tbody tr th:only-of-type {\n",
       "        vertical-align: middle;\n",
       "    }\n",
       "\n",
       "    .dataframe tbody tr th {\n",
       "        vertical-align: top;\n",
       "    }\n",
       "\n",
       "    .dataframe thead th {\n",
       "        text-align: right;\n",
       "    }\n",
       "</style>\n",
       "<table border=\"1\" class=\"dataframe\">\n",
       "  <thead>\n",
       "    <tr style=\"text-align: right;\">\n",
       "      <th></th>\n",
       "      <th>0</th>\n",
       "      <th>1</th>\n",
       "      <th>Height_cm</th>\n",
       "    </tr>\n",
       "  </thead>\n",
       "  <tbody>\n",
       "    <tr>\n",
       "      <th>0</th>\n",
       "      <td>5</td>\n",
       "      <td>7</td>\n",
       "      <td>167.5</td>\n",
       "    </tr>\n",
       "    <tr>\n",
       "      <th>1</th>\n",
       "      <td>6</td>\n",
       "      <td>2</td>\n",
       "      <td>185.0</td>\n",
       "    </tr>\n",
       "    <tr>\n",
       "      <th>2</th>\n",
       "      <td>5</td>\n",
       "      <td>9</td>\n",
       "      <td>172.5</td>\n",
       "    </tr>\n",
       "    <tr>\n",
       "      <th>3</th>\n",
       "      <td>6</td>\n",
       "      <td>4</td>\n",
       "      <td>190.0</td>\n",
       "    </tr>\n",
       "    <tr>\n",
       "      <th>4</th>\n",
       "      <td>5</td>\n",
       "      <td>11</td>\n",
       "      <td>177.5</td>\n",
       "    </tr>\n",
       "    <tr>\n",
       "      <th>...</th>\n",
       "      <td>...</td>\n",
       "      <td>...</td>\n",
       "      <td>...</td>\n",
       "    </tr>\n",
       "    <tr>\n",
       "      <th>16637</th>\n",
       "      <td>5</td>\n",
       "      <td>9</td>\n",
       "      <td>172.5</td>\n",
       "    </tr>\n",
       "    <tr>\n",
       "      <th>16638</th>\n",
       "      <td>6</td>\n",
       "      <td>3</td>\n",
       "      <td>187.5</td>\n",
       "    </tr>\n",
       "    <tr>\n",
       "      <th>16639</th>\n",
       "      <td>5</td>\n",
       "      <td>8</td>\n",
       "      <td>170.0</td>\n",
       "    </tr>\n",
       "    <tr>\n",
       "      <th>16640</th>\n",
       "      <td>5</td>\n",
       "      <td>10</td>\n",
       "      <td>175.0</td>\n",
       "    </tr>\n",
       "    <tr>\n",
       "      <th>16641</th>\n",
       "      <td>5</td>\n",
       "      <td>10</td>\n",
       "      <td>175.0</td>\n",
       "    </tr>\n",
       "  </tbody>\n",
       "</table>\n",
       "<p>16642 rows × 3 columns</p>\n",
       "</div>"
      ],
      "text/plain": [
       "       0   1  Height_cm\n",
       "0      5   7      167.5\n",
       "1      6   2      185.0\n",
       "2      5   9      172.5\n",
       "3      6   4      190.0\n",
       "4      5  11      177.5\n",
       "...   ..  ..        ...\n",
       "16637  5   9      172.5\n",
       "16638  6   3      187.5\n",
       "16639  5   8      170.0\n",
       "16640  5  10      175.0\n",
       "16641  5  10      175.0\n",
       "\n",
       "[16642 rows x 3 columns]"
      ]
     },
     "execution_count": 78,
     "metadata": {},
     "output_type": "execute_result"
    }
   ],
   "source": [
    "temp1 = data['Height'].str.split(\"'\", expand=True)\n",
    "temp1[0] = temp1[0].astype('int')\n",
    "temp1[1] = temp1[1].astype('int')\n",
    "\n",
    "temp1['Height_cm']=temp1[0]*30 + temp1[1]*2.5\n",
    "temp1"
   ]
  },
  {
   "cell_type": "code",
   "execution_count": 83,
   "metadata": {
    "ExecuteTime": {
     "end_time": "2020-09-18T14:43:34.883849Z",
     "start_time": "2020-09-18T14:43:34.871890Z"
    }
   },
   "outputs": [],
   "source": [
    "data2 = pd.concat([data, temp1['Height_cm']], axis=1)"
   ]
  },
  {
   "cell_type": "code",
   "execution_count": 88,
   "metadata": {
    "ExecuteTime": {
     "end_time": "2020-09-18T14:51:05.502210Z",
     "start_time": "2020-09-18T14:51:05.461271Z"
    }
   },
   "outputs": [],
   "source": [
    "forward = ['LS','ST','RS','LW','LF','CF','RF','RW']\n",
    "midfielder = ['LAM','CAM','RAM','LM','LCM','CM','RCM','RM']\n",
    "defender = ['LWB','LDM','CDM','RDM','RWB','LB','LCB','CB','RCB','RB']\n",
    "goalkeeper = ['GK']\n",
    "\n",
    "data2.loc[data2['Position'].map(lambda x : x in forward),'Position_Class'] = 'Forward'\n",
    "data2.loc[data2['Position'].map(lambda x : x in midfielder),'Position_Class'] = 'Midfielder'\n",
    "data2.loc[data2['Position'].map(lambda x : x in defender),'Position_Class'] = 'Defender'\n",
    "data2.loc[data2['Position'].map(lambda x : x in goalkeeper),'Position_Class'] = 'Goalkeeper'"
   ]
  },
  {
   "cell_type": "code",
   "execution_count": 111,
   "metadata": {
    "ExecuteTime": {
     "end_time": "2020-09-18T15:11:04.606196Z",
     "start_time": "2020-09-18T15:11:04.600206Z"
    }
   },
   "outputs": [
    {
     "data": {
      "text/plain": [
       "0"
      ]
     },
     "execution_count": 111,
     "metadata": {},
     "output_type": "execute_result"
    }
   ],
   "source": [
    "data2['Position_Class'].isna().sum()"
   ]
  },
  {
   "cell_type": "code",
   "execution_count": 90,
   "metadata": {
    "ExecuteTime": {
     "end_time": "2020-09-18T14:51:19.544532Z",
     "start_time": "2020-09-18T14:51:19.537549Z"
    }
   },
   "outputs": [
    {
     "data": {
      "text/plain": [
       "array(['Forward', 'Goalkeeper', 'Midfielder', 'Defender'], dtype=object)"
      ]
     },
     "execution_count": 90,
     "metadata": {},
     "output_type": "execute_result"
    }
   ],
   "source": [
    "data2['Position_Class'].unique()"
   ]
  },
  {
   "cell_type": "markdown",
   "metadata": {},
   "source": [
    "### 일원배치분산분석, 이원배치분산분석"
   ]
  },
  {
   "cell_type": "code",
   "execution_count": 112,
   "metadata": {
    "ExecuteTime": {
     "end_time": "2020-09-18T15:11:58.926760Z",
     "start_time": "2020-09-18T15:11:58.918785Z"
    }
   },
   "outputs": [],
   "source": [
    "from statsmodels.formula.api import ols\n",
    "from statsmodels.stats.anova import anova_lm\n",
    "import matplotlib.pyplot as plt\n",
    "import numpy as np\n",
    "%matplotlib inline"
   ]
  },
  {
   "cell_type": "code",
   "execution_count": 116,
   "metadata": {
    "ExecuteTime": {
     "end_time": "2020-09-18T15:13:44.835247Z",
     "start_time": "2020-09-18T15:13:44.719557Z"
    }
   },
   "outputs": [
    {
     "name": "stdout",
     "output_type": "stream",
     "text": [
      "                        df        sum_sq       mean_sq          F  \\\n",
      "C(Position_Class)      3.0  4.081181e+09  1.360394e+09  41.873906   \n",
      "Residual           16638.0  5.405330e+11  3.248786e+07        NaN   \n",
      "\n",
      "                         PR(>F)  \n",
      "C(Position_Class)  5.988667e-27  \n",
      "Residual                    NaN  \n"
     ]
    }
   ],
   "source": [
    "import warnings\n",
    "warnings.filterwarnings('ignore')\n",
    "\n",
    "df = data2[['Position_Class', 'Value']] \n",
    "\n",
    "# the \"C\" indicates categorical data\n",
    "model = ols('Value ~ C(Position_Class)', df).fit()\n",
    "# model = ols('Value ~ C(col1)+C(col2)+C(col1):C(col2)', df).fit() # 이원배치분산분석\n",
    "\n",
    "print(anova_lm(model))"
   ]
  },
  {
   "cell_type": "markdown",
   "metadata": {},
   "source": [
    "**해석**\n",
    "- SSA의 자유도는 3(집단의 수 -1), SST의 자유도는 16638(관측값의 수 - 집단의 수)임을 확인할 수 있다. p-value-값(5.98e-27)이 매우 낮게 나와 유의수준 0.05하에서 귀무가설을 기각한다. 따라서 네 가지 포지션(Position Class)에 따른 선수의 시장가치(Value)가 모두 동일하지는 않다고 결론내릴 수 있다. 즉, 포지션(Position_Class)별 선수의 시장가치(Vlaue)의 평균값들 중에서 적어도 어느 하나의 포지션은 통계적으로 유의한 차이가 있는 값을 가진다고 말 할 수 있다."
   ]
  },
  {
   "cell_type": "markdown",
   "metadata": {},
   "source": [
    "### 사후검정 - Tukey'HSD Test"
   ]
  },
  {
   "cell_type": "code",
   "execution_count": 117,
   "metadata": {
    "ExecuteTime": {
     "end_time": "2020-09-18T15:15:59.561810Z",
     "start_time": "2020-09-18T15:15:59.535874Z"
    }
   },
   "outputs": [],
   "source": [
    "from statsmodels.stats.multicomp import pairwise_tukeyhsd"
   ]
  },
  {
   "cell_type": "code",
   "execution_count": 120,
   "metadata": {
    "ExecuteTime": {
     "end_time": "2020-09-18T15:17:42.748013Z",
     "start_time": "2020-09-18T15:17:42.679189Z"
    }
   },
   "outputs": [
    {
     "name": "stdout",
     "output_type": "stream",
     "text": [
      "        Multiple Comparison of Means - Tukey HSD, FWER=0.05         \n",
      "====================================================================\n",
      "  group1     group2    meandiff  p-adj    lower      upper    reject\n",
      "--------------------------------------------------------------------\n",
      "  Defender    Forward    930.373  0.001   610.7429  1250.0031   True\n",
      "  Defender Goalkeeper  -507.3848 0.0034  -887.6261  -127.1436   True\n",
      "  Defender Midfielder   760.8787  0.001   486.7123   1035.045   True\n",
      "   Forward Goalkeeper -1437.7579  0.001 -1865.9234 -1009.5923   True\n",
      "   Forward Midfielder  -169.4944 0.5609  -506.9991   168.0104  False\n",
      "Goalkeeper Midfielder  1268.2635  0.001   872.8782  1663.6488   True\n",
      "--------------------------------------------------------------------\n"
     ]
    }
   ],
   "source": [
    "posthoc = pairwise_tukeyhsd(df['Value'], df['Position_Class'], alpha=0.05)\n",
    "print(posthoc)"
   ]
  },
  {
   "cell_type": "markdown",
   "metadata": {},
   "source": [
    "**해석**\n",
    "- 사후분석에서는 귀무가설을 '집단들 사이의 평균은 같다', 대립가설을 '집단들 사이의 평균은 같지 않다'로 두고, 모든 집단 수준에 대해서 두 집단씩 짝을 지어 각각 다중 비교를 수행한다.\n",
    "- 사후 분석 결과를 보면 Forward-Midfielder 포지션 간의 비교에 대해서 p-value가 0.05보다 크므로 귀무가설을 기각하지 않는다. 즉, 포지션이 Forward인 선수와 Midfielder인 선수들 간의 시장가치는 통계적으로 유의한 차이가 있다고 볼 수 없다. 반면 나머지 비교들에 대해서는 모두 수정된 p-value값이 0.05보다 작으므로 각각의 비교에 대한 귀무가설을 모두 기각한다. 즉 해당 포지션들에 대한 선수들의 시장가치 평균값은 각각 통계적으로 유의한 차이가 있다는 것을 알 수 있다. 또한 meandiff는 group1과 group2의 반응값 차이를 나타내는데(group2-group1), 음수인 경우 group1의 포지션보다 group2의 포지션의 Value 평균이 반응값만큼 높다는 것을 뜻한다. 예를들어 Forward일 때 시장가치가 통계적으로 유의하게 큰 값을 가진다고 해석할 수 있다."
   ]
  },
  {
   "cell_type": "markdown",
   "metadata": {},
   "source": [
    "### 이원배치분산분석"
   ]
  },
  {
   "cell_type": "code",
   "execution_count": 126,
   "metadata": {
    "ExecuteTime": {
     "end_time": "2020-09-18T15:30:36.563156Z",
     "start_time": "2020-09-18T15:30:36.557210Z"
    }
   },
   "outputs": [],
   "source": [
    "df2 = data2[['Value','Preferred_Foot','Position_Class']]"
   ]
  },
  {
   "cell_type": "code",
   "execution_count": 128,
   "metadata": {
    "ExecuteTime": {
     "end_time": "2020-09-18T15:31:33.295349Z",
     "start_time": "2020-09-18T15:31:33.103863Z"
    }
   },
   "outputs": [
    {
     "name": "stdout",
     "output_type": "stream",
     "text": [
      "                                          df        sum_sq       mean_sq  \\\n",
      "C(Preferred_Foot)                        1.0  1.460850e+08  1.460850e+08   \n",
      "C(Position_Class)                        3.0  4.087367e+09  1.362456e+09   \n",
      "C(Preferred_Foot):C(Position_Class)      3.0  4.736156e+08  1.578719e+08   \n",
      "Residual                             16634.0  5.399071e+11  3.245805e+07   \n",
      "\n",
      "                                             F        PR(>F)  \n",
      "C(Preferred_Foot)                     4.500734  3.389505e-02  \n",
      "C(Position_Class)                    41.975902  5.151392e-27  \n",
      "C(Preferred_Foot):C(Position_Class)   4.863874  2.207249e-03  \n",
      "Residual                                   NaN           NaN  \n"
     ]
    }
   ],
   "source": [
    "import warnings\n",
    "warnings.filterwarnings('ignore')\n",
    "\n",
    "# the \"C\" indicates categorical data\n",
    "model = ols('Value ~ C(Preferred_Foot)+C(Position_Class)+C(Preferred_Foot):C(Position_Class)', df2).fit() # 이원배치분산분석\n",
    "\n",
    "print(anova_lm(model))"
   ]
  },
  {
   "cell_type": "markdown",
   "metadata": {},
   "source": [
    "**해석**\n",
    "- 주발(Preferred_Foot) 변수에 대한 p-value는 0.0039로 유의수준 0.05보다 작으므로 귀무가설을 기각하고 대립가설을 채택하여 선수의 주발에 따른 선수의 가치는 차이가 있다고 판단할 수 있다.\n",
    "- 그리고 포지션(Position_Class) 변수에 대한 p-value는 5.12e-27보다 작아 유의수준 0.05하에서 매우 유의하므로 귀무가설을 기각하고 대립가설을 채택하여 선수의 포지션에 따른 선수의 가치에는 차이가 있다고 판단할 수 있다.\n",
    "- 마지막으로 주발(Preferred Foot)과 포지션(Position_Class) 변수의 교호작용에 대한 p-value는 0.00221로 유의수준 0.05보다 작으므로 귀무가설을 기각하고 대립가설을 채택하여 선수의 주발과 포지션의 상호작용에 의한 효과가 있다고 판단할 수 있다."
   ]
  },
  {
   "cell_type": "markdown",
   "metadata": {},
   "source": [
    "# 모의고사 2"
   ]
  },
  {
   "cell_type": "markdown",
   "metadata": {},
   "source": [
    "## 통계분석"
   ]
  },
  {
   "cell_type": "code",
   "execution_count": 130,
   "metadata": {
    "ExecuteTime": {
     "end_time": "2020-09-18T15:48:27.164486Z",
     "start_time": "2020-09-18T15:48:27.156509Z"
    }
   },
   "outputs": [],
   "source": [
    "data = pd.read_csv('data/Admission.csv')"
   ]
  },
  {
   "cell_type": "code",
   "execution_count": 131,
   "metadata": {
    "ExecuteTime": {
     "end_time": "2020-09-18T15:48:37.199644Z",
     "start_time": "2020-09-18T15:48:37.186683Z"
    }
   },
   "outputs": [
    {
     "data": {
      "text/html": [
       "<div>\n",
       "<style scoped>\n",
       "    .dataframe tbody tr th:only-of-type {\n",
       "        vertical-align: middle;\n",
       "    }\n",
       "\n",
       "    .dataframe tbody tr th {\n",
       "        vertical-align: top;\n",
       "    }\n",
       "\n",
       "    .dataframe thead th {\n",
       "        text-align: right;\n",
       "    }\n",
       "</style>\n",
       "<table border=\"1\" class=\"dataframe\">\n",
       "  <thead>\n",
       "    <tr style=\"text-align: right;\">\n",
       "      <th></th>\n",
       "      <th>GRE</th>\n",
       "      <th>TOEFL</th>\n",
       "      <th>Univ_Rating</th>\n",
       "      <th>SOP</th>\n",
       "      <th>LOR</th>\n",
       "      <th>CGPA</th>\n",
       "      <th>Research</th>\n",
       "      <th>Chance_of_Admit</th>\n",
       "    </tr>\n",
       "  </thead>\n",
       "  <tbody>\n",
       "    <tr>\n",
       "      <th>0</th>\n",
       "      <td>337</td>\n",
       "      <td>118</td>\n",
       "      <td>4</td>\n",
       "      <td>4.5</td>\n",
       "      <td>4.5</td>\n",
       "      <td>9.65</td>\n",
       "      <td>1</td>\n",
       "      <td>0.92</td>\n",
       "    </tr>\n",
       "    <tr>\n",
       "      <th>1</th>\n",
       "      <td>324</td>\n",
       "      <td>107</td>\n",
       "      <td>4</td>\n",
       "      <td>4.0</td>\n",
       "      <td>4.5</td>\n",
       "      <td>8.87</td>\n",
       "      <td>1</td>\n",
       "      <td>0.76</td>\n",
       "    </tr>\n",
       "    <tr>\n",
       "      <th>2</th>\n",
       "      <td>316</td>\n",
       "      <td>104</td>\n",
       "      <td>3</td>\n",
       "      <td>3.0</td>\n",
       "      <td>3.5</td>\n",
       "      <td>8.00</td>\n",
       "      <td>1</td>\n",
       "      <td>0.72</td>\n",
       "    </tr>\n",
       "    <tr>\n",
       "      <th>3</th>\n",
       "      <td>322</td>\n",
       "      <td>110</td>\n",
       "      <td>3</td>\n",
       "      <td>3.5</td>\n",
       "      <td>2.5</td>\n",
       "      <td>8.67</td>\n",
       "      <td>1</td>\n",
       "      <td>0.80</td>\n",
       "    </tr>\n",
       "    <tr>\n",
       "      <th>4</th>\n",
       "      <td>314</td>\n",
       "      <td>103</td>\n",
       "      <td>2</td>\n",
       "      <td>2.0</td>\n",
       "      <td>3.0</td>\n",
       "      <td>8.21</td>\n",
       "      <td>0</td>\n",
       "      <td>0.65</td>\n",
       "    </tr>\n",
       "  </tbody>\n",
       "</table>\n",
       "</div>"
      ],
      "text/plain": [
       "   GRE  TOEFL  Univ_Rating  SOP  LOR   CGPA  Research  Chance_of_Admit\n",
       "0  337    118            4  4.5   4.5  9.65         1             0.92\n",
       "1  324    107            4  4.0   4.5  8.87         1             0.76\n",
       "2  316    104            3  3.0   3.5  8.00         1             0.72\n",
       "3  322    110            3  3.5   2.5  8.67         1             0.80\n",
       "4  314    103            2  2.0   3.0  8.21         0             0.65"
      ]
     },
     "execution_count": 131,
     "metadata": {},
     "output_type": "execute_result"
    }
   ],
   "source": [
    "data.head()"
   ]
  },
  {
   "cell_type": "code",
   "execution_count": 132,
   "metadata": {
    "ExecuteTime": {
     "end_time": "2020-09-18T15:48:40.762122Z",
     "start_time": "2020-09-18T15:48:40.757148Z"
    }
   },
   "outputs": [
    {
     "data": {
      "text/plain": [
       "(400, 8)"
      ]
     },
     "execution_count": 132,
     "metadata": {},
     "output_type": "execute_result"
    }
   ],
   "source": [
    "data.shape"
   ]
  },
  {
   "cell_type": "markdown",
   "metadata": {},
   "source": [
    "### 상관분석 - 상관계수, p-value"
   ]
  },
  {
   "cell_type": "code",
   "execution_count": 133,
   "metadata": {
    "ExecuteTime": {
     "end_time": "2020-09-18T15:55:47.689095Z",
     "start_time": "2020-09-18T15:55:47.684134Z"
    }
   },
   "outputs": [],
   "source": [
    "import scipy.stats\n",
    "\n",
    "a = scipy.stats.pearsonr(data['GRE'], data['Chance_of_Admit'])\n",
    "print('피어슨 상관계수 : ', a[0])\n",
    "print('p-value : ', a[1])"
   ]
  },
  {
   "cell_type": "markdown",
   "metadata": {},
   "source": [
    "**해석**\n",
    "- p-value가 0.05보다 작으므로, 두 변수간의 상관관계는 통계적으로 유의하다.\n",
    "- 상관계수는 약 0.80으로 GRE와 Chance_of_Admit은 양의 상관관계를 가지고 있음을 알 수 있다."
   ]
  },
  {
   "cell_type": "markdown",
   "metadata": {},
   "source": [
    "## 정형데이터"
   ]
  },
  {
   "cell_type": "markdown",
   "metadata": {},
   "source": [
    "# 모의고사 3"
   ]
  },
  {
   "cell_type": "markdown",
   "metadata": {},
   "source": [
    "## 통계분석"
   ]
  },
  {
   "cell_type": "code",
   "execution_count": 165,
   "metadata": {
    "ExecuteTime": {
     "end_time": "2020-09-18T16:27:57.226332Z",
     "start_time": "2020-09-18T16:27:57.217356Z"
    }
   },
   "outputs": [],
   "source": [
    "df = pd.read_csv('data/Carseats.csv')"
   ]
  },
  {
   "cell_type": "code",
   "execution_count": 167,
   "metadata": {
    "ExecuteTime": {
     "end_time": "2020-09-18T16:28:04.465000Z",
     "start_time": "2020-09-18T16:28:04.450043Z"
    }
   },
   "outputs": [
    {
     "data": {
      "text/html": [
       "<div>\n",
       "<style scoped>\n",
       "    .dataframe tbody tr th:only-of-type {\n",
       "        vertical-align: middle;\n",
       "    }\n",
       "\n",
       "    .dataframe tbody tr th {\n",
       "        vertical-align: top;\n",
       "    }\n",
       "\n",
       "    .dataframe thead th {\n",
       "        text-align: right;\n",
       "    }\n",
       "</style>\n",
       "<table border=\"1\" class=\"dataframe\">\n",
       "  <thead>\n",
       "    <tr style=\"text-align: right;\">\n",
       "      <th></th>\n",
       "      <th>Sales</th>\n",
       "      <th>CompPrice</th>\n",
       "      <th>Income</th>\n",
       "      <th>Advertising</th>\n",
       "      <th>Population</th>\n",
       "      <th>Price</th>\n",
       "      <th>ShelveLoc</th>\n",
       "      <th>Age</th>\n",
       "      <th>Education</th>\n",
       "      <th>Urban</th>\n",
       "      <th>US</th>\n",
       "    </tr>\n",
       "  </thead>\n",
       "  <tbody>\n",
       "    <tr>\n",
       "      <th>0</th>\n",
       "      <td>9.50</td>\n",
       "      <td>138</td>\n",
       "      <td>73</td>\n",
       "      <td>11</td>\n",
       "      <td>276</td>\n",
       "      <td>120</td>\n",
       "      <td>Bad</td>\n",
       "      <td>42</td>\n",
       "      <td>17</td>\n",
       "      <td>Yes</td>\n",
       "      <td>Yes</td>\n",
       "    </tr>\n",
       "    <tr>\n",
       "      <th>1</th>\n",
       "      <td>11.22</td>\n",
       "      <td>111</td>\n",
       "      <td>48</td>\n",
       "      <td>16</td>\n",
       "      <td>260</td>\n",
       "      <td>83</td>\n",
       "      <td>Good</td>\n",
       "      <td>65</td>\n",
       "      <td>10</td>\n",
       "      <td>Yes</td>\n",
       "      <td>Yes</td>\n",
       "    </tr>\n",
       "    <tr>\n",
       "      <th>2</th>\n",
       "      <td>10.06</td>\n",
       "      <td>113</td>\n",
       "      <td>35</td>\n",
       "      <td>10</td>\n",
       "      <td>269</td>\n",
       "      <td>80</td>\n",
       "      <td>Medium</td>\n",
       "      <td>59</td>\n",
       "      <td>12</td>\n",
       "      <td>Yes</td>\n",
       "      <td>Yes</td>\n",
       "    </tr>\n",
       "    <tr>\n",
       "      <th>3</th>\n",
       "      <td>7.40</td>\n",
       "      <td>117</td>\n",
       "      <td>100</td>\n",
       "      <td>4</td>\n",
       "      <td>466</td>\n",
       "      <td>97</td>\n",
       "      <td>Medium</td>\n",
       "      <td>55</td>\n",
       "      <td>14</td>\n",
       "      <td>Yes</td>\n",
       "      <td>Yes</td>\n",
       "    </tr>\n",
       "    <tr>\n",
       "      <th>4</th>\n",
       "      <td>4.15</td>\n",
       "      <td>141</td>\n",
       "      <td>64</td>\n",
       "      <td>3</td>\n",
       "      <td>340</td>\n",
       "      <td>128</td>\n",
       "      <td>Bad</td>\n",
       "      <td>38</td>\n",
       "      <td>13</td>\n",
       "      <td>Yes</td>\n",
       "      <td>No</td>\n",
       "    </tr>\n",
       "  </tbody>\n",
       "</table>\n",
       "</div>"
      ],
      "text/plain": [
       "   Sales  CompPrice  Income  Advertising  Population  Price ShelveLoc  Age  \\\n",
       "0   9.50        138      73           11         276    120       Bad   42   \n",
       "1  11.22        111      48           16         260     83      Good   65   \n",
       "2  10.06        113      35           10         269     80    Medium   59   \n",
       "3   7.40        117     100            4         466     97    Medium   55   \n",
       "4   4.15        141      64            3         340    128       Bad   38   \n",
       "\n",
       "   Education Urban   US  \n",
       "0         17   Yes  Yes  \n",
       "1         10   Yes  Yes  \n",
       "2         12   Yes  Yes  \n",
       "3         14   Yes  Yes  \n",
       "4         13   Yes   No  "
      ]
     },
     "execution_count": 167,
     "metadata": {},
     "output_type": "execute_result"
    }
   ],
   "source": [
    "df.head()"
   ]
  },
  {
   "cell_type": "code",
   "execution_count": 168,
   "metadata": {
    "ExecuteTime": {
     "end_time": "2020-09-18T16:28:47.008740Z",
     "start_time": "2020-09-18T16:28:47.002760Z"
    }
   },
   "outputs": [
    {
     "data": {
      "text/plain": [
       "array(['Yes', 'No'], dtype=object)"
      ]
     },
     "execution_count": 168,
     "metadata": {},
     "output_type": "execute_result"
    }
   ],
   "source": [
    "df['Urban'].unique()"
   ]
  },
  {
   "cell_type": "code",
   "execution_count": 177,
   "metadata": {
    "ExecuteTime": {
     "end_time": "2020-09-18T16:30:57.994678Z",
     "start_time": "2020-09-18T16:30:57.987692Z"
    }
   },
   "outputs": [],
   "source": [
    "uy = df[df['Urban']=='Yes']['Sales']\n",
    "un = df[df['Urban']=='No']['Sales']"
   ]
  },
  {
   "cell_type": "markdown",
   "metadata": {},
   "source": [
    "### 등분산성 먼저 검정"
   ]
  },
  {
   "cell_type": "code",
   "execution_count": 186,
   "metadata": {
    "ExecuteTime": {
     "end_time": "2020-09-18T16:36:19.437426Z",
     "start_time": "2020-09-18T16:36:19.427467Z"
    }
   },
   "outputs": [
    {
     "name": "stdout",
     "output_type": "stream",
     "text": [
      "바틀렛 검정 :  BartlettResult(statistic=0.019034162105407128, pvalue=0.890268591965826)\n",
      "플리그너 검정 :  FlignerResult(statistic=6.416940137288126e-06, pvalue=0.9979788265211879)\n",
      "레빈 검정 :  LeveneResult(statistic=2.9559854965252977e-06, pvalue=0.9986290607894824)\n"
     ]
    }
   ],
   "source": [
    "import scipy.stats as spst\n",
    "print('바틀렛 검정 : ', spst.bartlett(uy, un))\n",
    "print('플리그너 검정 : ', spst.fligner(uy, un))\n",
    "print('레빈 검정 : ', spst.levene(uy, un))"
   ]
  },
  {
   "cell_type": "markdown",
   "metadata": {},
   "source": [
    "**해석**\n",
    "- 등분산 검정 결과 유의확률(p-value)이 0.89, 1.0, 1.0으로 유의수준 0.05보다 크기 때문에 귀무가설을 기각하지 않는다. 따라서 도시와 도시가 아닌 집단의 데이터는 등분산 가정을 만족한다고 볼 수 있다."
   ]
  },
  {
   "cell_type": "markdown",
   "metadata": {},
   "source": [
    "### 독립표본 t-검정"
   ]
  },
  {
   "cell_type": "code",
   "execution_count": 188,
   "metadata": {
    "ExecuteTime": {
     "end_time": "2020-09-18T16:37:58.999770Z",
     "start_time": "2020-09-18T16:37:58.992790Z"
    }
   },
   "outputs": [
    {
     "data": {
      "text/plain": [
       "Ttest_indResult(statistic=-0.30765346670661126, pvalue=0.7585069603942775)"
      ]
     },
     "execution_count": 188,
     "metadata": {},
     "output_type": "execute_result"
    }
   ],
   "source": [
    "import scipy.stats as spst\n",
    "spst.ttest_ind(uy, un, equal_var=True) # 등분산이니까 equal_var=True"
   ]
  },
  {
   "cell_type": "markdown",
   "metadata": {},
   "source": [
    "**해석**\n",
    "- 독립표본 t-검정 수행결과 검정통계량(t값)은 0.30765, 유의확률(p-value)는 0.7585다.\n",
    "- p-value가 유의수준 0.05보다 크기 때문에 귀무가설을 기각하지 않는다. 따라서 도시지역과 도시가 아닌 지역간의 차 판매량에는 통계적으로 유의한 차이가 있다고 볼 수 없다는 결론을 내릴 수 있다. "
   ]
  },
  {
   "cell_type": "markdown",
   "metadata": {},
   "source": [
    "### 잔차분석"
   ]
  },
  {
   "cell_type": "markdown",
   "metadata": {},
   "source": [
    "- 잔차는 실제 값 y와 예측된 값 ŷ의 차 e를 말한다.\n",
    "- sklearn의 linear_model.LinearRegression를 사용해서 모델을 생성하면 .score()라는 메서드를 사용할 수 있는데 R²라고 하는 결정계수(coefficient of determination)를 돌려준다. 표현은 1-(u/v)\n",
    "-  분자에 있는 u는 잔차의 제곱의 평균 RSS(residual sum of square)는 직선이 미처 Y에 대해 설명하지 못한 변화량을 의미한다.\n",
    "- 분모에 있는 v는 TSS(total sum of squares), y값의 총 변화량으로 이해하면 된다.\n",
    "- 결국 결정계수 R²는 전체에서 직선이 미처 설명하지 못한 부분의 비율을 뺀 거다. 결정계수 R²가 클수록 실제값과 예측값이 유사함을 의미하며, 데이터를 잘 설명한다고 이해하자.그러니 모델이 얼마나 정확한지 평가할 때도 이 결정계수 R²가 기준이 될 수 있는 거다.\n",
    "- 예를 들어, 주택 사이즈(“size_sqft”)와 침실 개수(“bedrooms”)를 기준으로 임대료를 예측하는 모델의 R²이 0.72인 경우 그 2개의 변수들이 함께 임대료 변동의 72%를 설명한다는 뜻이다.\n",
    "- 당연히 최선의 R²는 1이겠지만 그건 말이 안 되고, 일반적으로 0.7 정도면 양호한 것으로 간주한다.\n"
   ]
  },
  {
   "cell_type": "markdown",
   "metadata": {},
   "source": [
    "## 단계 선택법, 전진선택법, 후진제거법"
   ]
  },
  {
   "cell_type": "markdown",
   "metadata": {},
   "source": [
    "- 별도 첨부"
   ]
  }
 ],
 "metadata": {
  "kernelspec": {
   "display_name": "Python 3",
   "language": "python",
   "name": "python3"
  },
  "language_info": {
   "codemirror_mode": {
    "name": "ipython",
    "version": 3
   },
   "file_extension": ".py",
   "mimetype": "text/x-python",
   "name": "python",
   "nbconvert_exporter": "python",
   "pygments_lexer": "ipython3",
   "version": "3.7.4"
  },
  "toc": {
   "base_numbering": 1,
   "nav_menu": {},
   "number_sections": true,
   "sideBar": true,
   "skip_h1_title": false,
   "title_cell": "Table of Contents",
   "title_sidebar": "Contents",
   "toc_cell": false,
   "toc_position": {},
   "toc_section_display": true,
   "toc_window_display": true
  },
  "varInspector": {
   "cols": {
    "lenName": 16,
    "lenType": 16,
    "lenVar": 40
   },
   "kernels_config": {
    "python": {
     "delete_cmd_postfix": "",
     "delete_cmd_prefix": "del ",
     "library": "var_list.py",
     "varRefreshCmd": "print(var_dic_list())"
    },
    "r": {
     "delete_cmd_postfix": ") ",
     "delete_cmd_prefix": "rm(",
     "library": "var_list.r",
     "varRefreshCmd": "cat(var_dic_list()) "
    }
   },
   "types_to_exclude": [
    "module",
    "function",
    "builtin_function_or_method",
    "instance",
    "_Feature"
   ],
   "window_display": false
  }
 },
 "nbformat": 4,
 "nbformat_minor": 2
}
