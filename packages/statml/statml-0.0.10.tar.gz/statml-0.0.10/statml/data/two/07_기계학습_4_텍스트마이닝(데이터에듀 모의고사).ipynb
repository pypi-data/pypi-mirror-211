{
 "cells": [
  {
   "cell_type": "markdown",
   "metadata": {},
   "source": [
    "# 07_기계학습_4 텍스트마이닝(데이터에듀 모의고사)."
   ]
  },
  {
   "cell_type": "markdown",
   "metadata": {},
   "source": [
    "# 모의고사 1\n",
    "- \"영화 기생충_review.txt\" : review 데이터\n",
    "- \"영화 기생충_사전.txt\" : 출연진 이름, 극중 이름, 감독 이름"
   ]
  },
  {
   "cell_type": "markdown",
   "metadata": {},
   "source": [
    "## '영화 기생충_review.txt' 데이터를 읽어온 뒤 숫자, 특수문자 등을 제거하는 전처리 작업을 시행하시오. 그리고 '영화 기생충_review.txt'를 사전에 등록하시오."
   ]
  },
  {
   "cell_type": "markdown",
   "metadata": {},
   "source": [
    "### 데이터 로딩"
   ]
  },
  {
   "cell_type": "code",
   "execution_count": 509,
   "metadata": {
    "ExecuteTime": {
     "end_time": "2020-09-18T13:41:43.223870Z",
     "start_time": "2020-09-18T13:41:43.217883Z"
    }
   },
   "outputs": [],
   "source": [
    "file = open('data/영화 기생충_review.txt', 'r', encoding='cp949')\n",
    "line = file.read()"
   ]
  },
  {
   "cell_type": "code",
   "execution_count": 510,
   "metadata": {
    "ExecuteTime": {
     "end_time": "2020-09-18T13:41:44.229176Z",
     "start_time": "2020-09-18T13:41:44.225227Z"
    }
   },
   "outputs": [],
   "source": [
    "line = line.split('\\n')"
   ]
  },
  {
   "cell_type": "code",
   "execution_count": 511,
   "metadata": {
    "ExecuteTime": {
     "end_time": "2020-09-18T13:41:44.474520Z",
     "start_time": "2020-09-18T13:41:44.470538Z"
    }
   },
   "outputs": [],
   "source": [
    "import pandas as pd\n",
    "\n",
    "review = pd.Series(line)"
   ]
  },
  {
   "cell_type": "code",
   "execution_count": 512,
   "metadata": {
    "ExecuteTime": {
     "end_time": "2020-09-18T13:41:44.662019Z",
     "start_time": "2020-09-18T13:41:44.656036Z"
    }
   },
   "outputs": [
    {
     "data": {
      "text/plain": [
       "(1791,)"
      ]
     },
     "execution_count": 512,
     "metadata": {},
     "output_type": "execute_result"
    }
   ],
   "source": [
    "review.shape"
   ]
  },
  {
   "cell_type": "code",
   "execution_count": 513,
   "metadata": {
    "ExecuteTime": {
     "end_time": "2020-09-18T13:41:45.000114Z",
     "start_time": "2020-09-18T13:41:44.993138Z"
    }
   },
   "outputs": [
    {
     "data": {
      "text/plain": [
       "0                             별1개  준 사람들은   나베당임\n",
       "1                                             역쉬\n",
       "2         영화가 끝나고 가슴이 먹먹하고 답답햇습니다 너무나 충격적이었습니다..\n",
       "3    지금까지 나온 감독의 모든 작품이 압축되어있다는 느낌을 받음.  Bomb!!!\n",
       "4                           대단한 영화. 몰입력 장난아님. 후아\n",
       "5                                             그닥\n",
       "6                                      칸하고 안맞나봄.\n",
       "7                           봉준호식의 코메디와 사회비판 페이소스\n",
       "8                                          좋았습니다\n",
       "9      군더더기 없이 깔끔한 영화, 지금도 영화가 주는 메세지를 생각하는 중입니다\n",
       "dtype: object"
      ]
     },
     "execution_count": 513,
     "metadata": {},
     "output_type": "execute_result"
    }
   ],
   "source": [
    "review[:10]"
   ]
  },
  {
   "cell_type": "markdown",
   "metadata": {
    "ExecuteTime": {
     "end_time": "2020-09-18T07:54:43.951287Z",
     "start_time": "2020-09-18T07:54:43.948283Z"
    }
   },
   "source": [
    "### 클렌징 : 숫자, 특수문자 제거"
   ]
  },
  {
   "cell_type": "code",
   "execution_count": 514,
   "metadata": {
    "ExecuteTime": {
     "end_time": "2020-09-18T13:41:46.594851Z",
     "start_time": "2020-09-18T13:41:46.572910Z"
    }
   },
   "outputs": [
    {
     "data": {
      "text/plain": [
       "0                                별 개  준 사람들은   나베당임\n",
       "1                                                역쉬\n",
       "2            영화가 끝나고 가슴이 먹먹하고 답답햇습니다 너무나 충격적이었습니다  \n",
       "3       지금까지 나온 감독의 모든 작품이 압축되어있다는 느낌을 받음   Bomb   \n",
       "4                              대단한 영화  몰입력 장난아님  후아\n",
       "                           ...                     \n",
       "1786                            와 내 앞으로도  명이나 있네   \n",
       "1787                          좌파폭도고발영화 전라도까는 내용이었어 \n",
       "1788                          언제나 기대되는 봉준호감독의 영화   \n",
       "1789                            이번에도 매우 매우 기대됩니다   \n",
       "1790                                               \n",
       "Length: 1791, dtype: object"
      ]
     },
     "execution_count": 514,
     "metadata": {},
     "output_type": "execute_result"
    }
   ],
   "source": [
    "import re\n",
    "\n",
    "review = review.map(lambda x: re.sub(r\"\\d\", \" \", x))\n",
    "review = review.map(lambda x: re.sub('[-=+,#/\\?:^$.@*\\\"※~&%ㆍ!』\\\\‘|\\(\\)\\[\\]\\<\\>`\\'…》;]', ' ', x))\n",
    "review"
   ]
  },
  {
   "cell_type": "code",
   "execution_count": 515,
   "metadata": {
    "ExecuteTime": {
     "end_time": "2020-09-18T13:41:48.505739Z",
     "start_time": "2020-09-18T13:41:48.497762Z"
    }
   },
   "outputs": [],
   "source": [
    "# 공백은 사전 돌릴 때 에러나서 미리 지워줌\n",
    "review = review[review != ' ']\n",
    "review = review[review != '  ']\n",
    "review = review[review != '   ']\n",
    "review = review[review != '    ']"
   ]
  },
  {
   "cell_type": "markdown",
   "metadata": {},
   "source": [
    "### 사전 로딩, 사전 등록"
   ]
  },
  {
   "cell_type": "code",
   "execution_count": 517,
   "metadata": {
    "ExecuteTime": {
     "end_time": "2020-09-18T13:42:02.046529Z",
     "start_time": "2020-09-18T13:42:02.033562Z"
    }
   },
   "outputs": [
    {
     "data": {
      "text/html": [
       "<div>\n",
       "<style scoped>\n",
       "    .dataframe tbody tr th:only-of-type {\n",
       "        vertical-align: middle;\n",
       "    }\n",
       "\n",
       "    .dataframe tbody tr th {\n",
       "        vertical-align: top;\n",
       "    }\n",
       "\n",
       "    .dataframe thead th {\n",
       "        text-align: right;\n",
       "    }\n",
       "</style>\n",
       "<table border=\"1\" class=\"dataframe\">\n",
       "  <thead>\n",
       "    <tr style=\"text-align: right;\">\n",
       "      <th></th>\n",
       "      <th>word</th>\n",
       "    </tr>\n",
       "  </thead>\n",
       "  <tbody>\n",
       "    <tr>\n",
       "      <th>0</th>\n",
       "      <td>기생충</td>\n",
       "    </tr>\n",
       "    <tr>\n",
       "      <th>1</th>\n",
       "      <td>봉준호</td>\n",
       "    </tr>\n",
       "    <tr>\n",
       "      <th>2</th>\n",
       "      <td>송강호</td>\n",
       "    </tr>\n",
       "    <tr>\n",
       "      <th>3</th>\n",
       "      <td>기택</td>\n",
       "    </tr>\n",
       "    <tr>\n",
       "      <th>4</th>\n",
       "      <td>이선균</td>\n",
       "    </tr>\n",
       "  </tbody>\n",
       "</table>\n",
       "</div>"
      ],
      "text/plain": [
       "  word\n",
       "0  기생충\n",
       "1  봉준호\n",
       "2  송강호\n",
       "3   기택\n",
       "4  이선균"
      ]
     },
     "execution_count": 517,
     "metadata": {},
     "output_type": "execute_result"
    }
   ],
   "source": [
    "dic = pd.read_csv('data/영화 기생충_사전.txt', encoding='cp949',sep='\\t', names=['word'])\n",
    "dic.head()"
   ]
  },
  {
   "cell_type": "markdown",
   "metadata": {},
   "source": [
    "**품사표**<br>\n",
    "명사NN<br>\n",
    "일반명사NNG<br>\n",
    "고유명사NNP<br>\n",
    "의존명사NNB<br>\n",
    "동사VV<br>\n",
    "형용사VA<br>\n",
    "부사MA"
   ]
  },
  {
   "cell_type": "code",
   "execution_count": 518,
   "metadata": {
    "ExecuteTime": {
     "end_time": "2020-09-18T13:42:05.510266Z",
     "start_time": "2020-09-18T13:42:05.505277Z"
    }
   },
   "outputs": [],
   "source": [
    "dic['pos'] = 'NNP'"
   ]
  },
  {
   "cell_type": "code",
   "execution_count": 519,
   "metadata": {
    "ExecuteTime": {
     "end_time": "2020-09-18T13:42:06.772888Z",
     "start_time": "2020-09-18T13:42:06.762914Z"
    }
   },
   "outputs": [
    {
     "data": {
      "text/html": [
       "<div>\n",
       "<style scoped>\n",
       "    .dataframe tbody tr th:only-of-type {\n",
       "        vertical-align: middle;\n",
       "    }\n",
       "\n",
       "    .dataframe tbody tr th {\n",
       "        vertical-align: top;\n",
       "    }\n",
       "\n",
       "    .dataframe thead th {\n",
       "        text-align: right;\n",
       "    }\n",
       "</style>\n",
       "<table border=\"1\" class=\"dataframe\">\n",
       "  <thead>\n",
       "    <tr style=\"text-align: right;\">\n",
       "      <th></th>\n",
       "      <th>word</th>\n",
       "      <th>pos</th>\n",
       "    </tr>\n",
       "  </thead>\n",
       "  <tbody>\n",
       "    <tr>\n",
       "      <th>0</th>\n",
       "      <td>기생충</td>\n",
       "      <td>NNP</td>\n",
       "    </tr>\n",
       "    <tr>\n",
       "      <th>1</th>\n",
       "      <td>봉준호</td>\n",
       "      <td>NNP</td>\n",
       "    </tr>\n",
       "    <tr>\n",
       "      <th>2</th>\n",
       "      <td>송강호</td>\n",
       "      <td>NNP</td>\n",
       "    </tr>\n",
       "    <tr>\n",
       "      <th>3</th>\n",
       "      <td>기택</td>\n",
       "      <td>NNP</td>\n",
       "    </tr>\n",
       "    <tr>\n",
       "      <th>4</th>\n",
       "      <td>이선균</td>\n",
       "      <td>NNP</td>\n",
       "    </tr>\n",
       "  </tbody>\n",
       "</table>\n",
       "</div>"
      ],
      "text/plain": [
       "  word  pos\n",
       "0  기생충  NNP\n",
       "1  봉준호  NNP\n",
       "2  송강호  NNP\n",
       "3   기택  NNP\n",
       "4  이선균  NNP"
      ]
     },
     "execution_count": 519,
     "metadata": {},
     "output_type": "execute_result"
    }
   ],
   "source": [
    "dic.head()"
   ]
  },
  {
   "cell_type": "code",
   "execution_count": 520,
   "metadata": {
    "ExecuteTime": {
     "end_time": "2020-09-18T13:42:12.985273Z",
     "start_time": "2020-09-18T13:42:12.977296Z"
    }
   },
   "outputs": [],
   "source": [
    "dic.to_csv('data/기생충사전.txt',  sep='\\t', index=False, header=False)"
   ]
  },
  {
   "cell_type": "code",
   "execution_count": 521,
   "metadata": {
    "ExecuteTime": {
     "end_time": "2020-09-18T13:42:16.151804Z",
     "start_time": "2020-09-18T13:42:14.482271Z"
    }
   },
   "outputs": [],
   "source": [
    "from konlpy.tag import Komoran\n",
    "komoran = Komoran(userdic='data/기생충사전.txt')"
   ]
  },
  {
   "cell_type": "markdown",
   "metadata": {},
   "source": [
    "## '영화 기생충_사전.txt'를 단어 사전으로 하는 TDM을 구축하고 빈도를 파악하고 시각화 하시오."
   ]
  },
  {
   "cell_type": "code",
   "execution_count": 522,
   "metadata": {
    "ExecuteTime": {
     "end_time": "2020-09-18T13:42:18.233238Z",
     "start_time": "2020-09-18T13:42:18.226257Z"
    }
   },
   "outputs": [
    {
     "data": {
      "text/plain": [
       "CountVectorizer(analyzer='word', binary=False, decode_error='strict',\n",
       "                dtype=<class 'numpy.int64'>, encoding='utf-8', input='content',\n",
       "                lowercase=True, max_df=1.0, max_features=None, min_df=1,\n",
       "                ngram_range=(1, 1), preprocessor=None, stop_words=None,\n",
       "                strip_accents=None, token_pattern='(?u)\\\\b\\\\w\\\\w+\\\\b',\n",
       "                tokenizer=None, vocabulary=None)"
      ]
     },
     "execution_count": 522,
     "metadata": {},
     "output_type": "execute_result"
    }
   ],
   "source": [
    "# 벡터화 인스턴스 생성\n",
    "from sklearn.feature_extraction.text import CountVectorizer\n",
    "cv = CountVectorizer()\n",
    "\n",
    "# 사전으로 fit\n",
    "cv.fit(dic['word'])"
   ]
  },
  {
   "cell_type": "code",
   "execution_count": 523,
   "metadata": {
    "ExecuteTime": {
     "end_time": "2020-09-18T13:42:19.590633Z",
     "start_time": "2020-09-18T13:42:19.569702Z"
    }
   },
   "outputs": [],
   "source": [
    "# 문서로 tdm 생성\n",
    "cv_matrix = cv.transform(review)"
   ]
  },
  {
   "cell_type": "code",
   "execution_count": 524,
   "metadata": {
    "ExecuteTime": {
     "end_time": "2020-09-18T13:42:20.359551Z",
     "start_time": "2020-09-18T13:42:20.354566Z"
    }
   },
   "outputs": [],
   "source": [
    "name = cv.get_feature_names()\n",
    "cv_mat = cv_matrix.toarray()\n",
    "tdm = pd.DataFrame(cv_mat, columns = name)"
   ]
  },
  {
   "cell_type": "code",
   "execution_count": 525,
   "metadata": {
    "ExecuteTime": {
     "end_time": "2020-09-18T13:42:22.697313Z",
     "start_time": "2020-09-18T13:42:22.692321Z"
    }
   },
   "outputs": [],
   "source": [
    "# 빈도 계산\n",
    "tdm_freq = tdm.sum(axis=0).sort_values(ascending=False)"
   ]
  },
  {
   "cell_type": "code",
   "execution_count": 526,
   "metadata": {
    "ExecuteTime": {
     "end_time": "2020-09-18T13:42:23.399422Z",
     "start_time": "2020-09-18T13:42:23.394436Z"
    }
   },
   "outputs": [],
   "source": [
    "# 시각화 - 한글 깨짐 방지\n",
    "from matplotlib import font_manager, rc\n",
    "\n",
    "path = 'c:/Windows/Fonts/malgun.ttf'\n",
    "font_name = font_manager.FontProperties(fname=path).get_name()\n",
    "rc('font', family=font_name)"
   ]
  },
  {
   "cell_type": "code",
   "execution_count": 527,
   "metadata": {
    "ExecuteTime": {
     "end_time": "2020-09-18T13:42:24.672028Z",
     "start_time": "2020-09-18T13:42:24.425678Z"
    }
   },
   "outputs": [
    {
     "data": {
      "image/png": "[encoded data removed]",
      "text/plain": [
       "<Figure size 720x360 with 1 Axes>"
      ]
     },
     "metadata": {
      "needs_background": "light"
     },
     "output_type": "display_data"
    }
   ],
   "source": [
    "# 시각화\n",
    "tdm_freq.plot(kind = 'bar', figsize=(10,5))\n",
    "plt.show()"
   ]
  },
  {
   "cell_type": "markdown",
   "metadata": {},
   "source": [
    "## extraNoun으로 명사를 추출하여 워드클라우드를 그리고 특성을 파악하시오."
   ]
  },
  {
   "cell_type": "code",
   "execution_count": 528,
   "metadata": {
    "ExecuteTime": {
     "end_time": "2020-09-18T13:43:48.868885Z",
     "start_time": "2020-09-18T13:43:31.169183Z"
    }
   },
   "outputs": [],
   "source": [
    "nouns = komoran.nouns(' '.join(review))"
   ]
  },
  {
   "cell_type": "code",
   "execution_count": 529,
   "metadata": {
    "ExecuteTime": {
     "end_time": "2020-09-18T13:43:49.004484Z",
     "start_time": "2020-09-18T13:43:48.997503Z"
    },
    "scrolled": true
   },
   "outputs": [],
   "source": [
    "import collections\n",
    "\n",
    "freq = collections.Counter(nouns)"
   ]
  },
  {
   "cell_type": "code",
   "execution_count": 530,
   "metadata": {
    "ExecuteTime": {
     "end_time": "2020-09-18T13:43:49.016452Z",
     "start_time": "2020-09-18T13:43:49.007477Z"
    },
    "scrolled": true
   },
   "outputs": [],
   "source": [
    "freq2 = pd.DataFrame(dict(word=freq.keys(), frequency = freq.values())).sort_values('frequency', ascending=False).head(20)"
   ]
  },
  {
   "cell_type": "code",
   "execution_count": 531,
   "metadata": {
    "ExecuteTime": {
     "end_time": "2020-09-18T13:43:49.024438Z",
     "start_time": "2020-09-18T13:43:49.019455Z"
    }
   },
   "outputs": [],
   "source": [
    "# 2음절 이상만 추리기\n",
    "freq2 = freq2.loc[freq2['word'].map(lambda x : len(x)>=2),:]"
   ]
  },
  {
   "cell_type": "markdown",
   "metadata": {},
   "source": [
    "- 워드클라우드는 그냥 MS워드로 폰트크기로 그려서 붙이기"
   ]
  },
  {
   "cell_type": "markdown",
   "metadata": {},
   "source": [
    "# 모의고사 2"
   ]
  },
  {
   "cell_type": "markdown",
   "metadata": {},
   "source": [
    "## '연설문.txt' 데이터를 읽어온 뒤 숫자, 특수 문자 등을 제거하는 전처리 작업을 시행하시오."
   ]
  },
  {
   "cell_type": "code",
   "execution_count": 241,
   "metadata": {
    "ExecuteTime": {
     "end_time": "2020-09-18T12:09:59.798814Z",
     "start_time": "2020-09-18T12:09:59.790831Z"
    }
   },
   "outputs": [],
   "source": [
    "data = pd.read_csv('data/연설문.txt', sep='\\n', encoding='cp949', names = ['sentence'])"
   ]
  },
  {
   "cell_type": "code",
   "execution_count": 243,
   "metadata": {
    "ExecuteTime": {
     "end_time": "2020-09-18T12:10:08.817670Z",
     "start_time": "2020-09-18T12:10:08.807696Z"
    }
   },
   "outputs": [
    {
     "data": {
      "text/html": [
       "<div>\n",
       "<style scoped>\n",
       "    .dataframe tbody tr th:only-of-type {\n",
       "        vertical-align: middle;\n",
       "    }\n",
       "\n",
       "    .dataframe tbody tr th {\n",
       "        vertical-align: top;\n",
       "    }\n",
       "\n",
       "    .dataframe thead th {\n",
       "        text-align: right;\n",
       "    }\n",
       "</style>\n",
       "<table border=\"1\" class=\"dataframe\">\n",
       "  <thead>\n",
       "    <tr style=\"text-align: right;\">\n",
       "      <th></th>\n",
       "      <th>sentence</th>\n",
       "    </tr>\n",
       "  </thead>\n",
       "  <tbody>\n",
       "    <tr>\n",
       "      <th>0</th>\n",
       "      <td>존경하고 사랑하는 국민 여러분, 감사합니다.</td>\n",
       "    </tr>\n",
       "    <tr>\n",
       "      <th>1</th>\n",
       "      <td>국민 여러분의 위대한 선택에 머리 숙여 깊이 감사드립니다. 저는 오늘 대한민국 제1...</td>\n",
       "    </tr>\n",
       "    <tr>\n",
       "      <th>2</th>\n",
       "      <td>우리가 만들어가려는 새로운 대한민국은 숱한 좌절과 패배에도 불구하고 우리의 선대들이...</td>\n",
       "    </tr>\n",
       "    <tr>\n",
       "      <th>3</th>\n",
       "      <td>함께 선거를 치른 후보들께 감사의 말씀과 심심한 위로를 전합니다. 이번 선거에서는 ...</td>\n",
       "    </tr>\n",
       "    <tr>\n",
       "      <th>4</th>\n",
       "      <td>존경하는 국민 여러분,</td>\n",
       "    </tr>\n",
       "  </tbody>\n",
       "</table>\n",
       "</div>"
      ],
      "text/plain": [
       "                                            sentence\n",
       "0                           존경하고 사랑하는 국민 여러분, 감사합니다.\n",
       "1  국민 여러분의 위대한 선택에 머리 숙여 깊이 감사드립니다. 저는 오늘 대한민국 제1...\n",
       "2  우리가 만들어가려는 새로운 대한민국은 숱한 좌절과 패배에도 불구하고 우리의 선대들이...\n",
       "3  함께 선거를 치른 후보들께 감사의 말씀과 심심한 위로를 전합니다. 이번 선거에서는 ...\n",
       "4                                       존경하는 국민 여러분,"
      ]
     },
     "execution_count": 243,
     "metadata": {},
     "output_type": "execute_result"
    }
   ],
   "source": [
    "data.head()"
   ]
  },
  {
   "cell_type": "code",
   "execution_count": 255,
   "metadata": {
    "ExecuteTime": {
     "end_time": "2020-09-18T12:16:07.510641Z",
     "start_time": "2020-09-18T12:16:07.503735Z"
    }
   },
   "outputs": [],
   "source": [
    "import re\n",
    "data.fillna(' ')\n",
    "data['sentence'] = data['sentence'].apply(lambda x : re.sub(r'\\d+',' ', x))\n",
    "data['sentence'] = data['sentence'].apply(lambda x : re.sub(r'[-+=,#/\\?:^$.@*\\\"~&%!\\\\|;\\(\\)\\[\\]\\<\\>\\']',' ', x))\n",
    "data['sentence'] = data['sentence'].apply(lambda x : x.lower())"
   ]
  },
  {
   "cell_type": "markdown",
   "metadata": {
    "ExecuteTime": {
     "end_time": "2020-09-18T12:03:41.806164Z",
     "start_time": "2020-09-18T12:03:41.803144Z"
    }
   },
   "source": [
    "## 전처리된 데이터에서 명사를 추출하고 명사의 출현빈도를 10위까지 추출하여 막대그래프로 시각화하시오"
   ]
  },
  {
   "cell_type": "code",
   "execution_count": 268,
   "metadata": {
    "ExecuteTime": {
     "end_time": "2020-09-18T12:18:43.273779Z",
     "start_time": "2020-09-18T12:18:43.268818Z"
    }
   },
   "outputs": [],
   "source": [
    "one = ' '.join(data['sentence'].tolist())"
   ]
  },
  {
   "cell_type": "code",
   "execution_count": 269,
   "metadata": {
    "ExecuteTime": {
     "end_time": "2020-09-18T12:18:45.482867Z",
     "start_time": "2020-09-18T12:18:43.483218Z"
    }
   },
   "outputs": [],
   "source": [
    "from konlpy.tag import Komoran\n",
    "komoran = Komoran()\n",
    "freq = komoran.nouns(one)"
   ]
  },
  {
   "cell_type": "code",
   "execution_count": 270,
   "metadata": {
    "ExecuteTime": {
     "end_time": "2020-09-18T12:18:45.575627Z",
     "start_time": "2020-09-18T12:18:45.569635Z"
    }
   },
   "outputs": [
    {
     "data": {
      "text/plain": [
       "['존경', '사랑', '국민', '여러분', '감사', '국민', '선택', '머리', '감사', '오늘']"
      ]
     },
     "execution_count": 270,
     "metadata": {},
     "output_type": "execute_result"
    }
   ],
   "source": [
    "freq[:10]"
   ]
  },
  {
   "cell_type": "code",
   "execution_count": 271,
   "metadata": {
    "ExecuteTime": {
     "end_time": "2020-09-18T12:18:51.577584Z",
     "start_time": "2020-09-18T12:18:51.573595Z"
    }
   },
   "outputs": [],
   "source": [
    "import collections\n",
    "\n",
    "freq_cnt = collections.Counter(freq)"
   ]
  },
  {
   "cell_type": "code",
   "execution_count": 287,
   "metadata": {
    "ExecuteTime": {
     "end_time": "2020-09-18T12:23:01.390085Z",
     "start_time": "2020-09-18T12:23:01.385084Z"
    },
    "scrolled": true
   },
   "outputs": [],
   "source": [
    "freq_cnt2 = dict(freq_cnt)\n",
    "word = freq_cnt2.keys()\n",
    "word_freq = freq_cnt2.values()\n",
    "freq_mat=pd.DataFrame(dict(word=word, word_freq = word_freq))"
   ]
  },
  {
   "cell_type": "code",
   "execution_count": 289,
   "metadata": {
    "ExecuteTime": {
     "end_time": "2020-09-18T12:23:13.527577Z",
     "start_time": "2020-09-18T12:23:13.517604Z"
    },
    "scrolled": true
   },
   "outputs": [
    {
     "data": {
      "text/html": [
       "<div>\n",
       "<style scoped>\n",
       "    .dataframe tbody tr th:only-of-type {\n",
       "        vertical-align: middle;\n",
       "    }\n",
       "\n",
       "    .dataframe tbody tr th {\n",
       "        vertical-align: top;\n",
       "    }\n",
       "\n",
       "    .dataframe thead th {\n",
       "        text-align: right;\n",
       "    }\n",
       "</style>\n",
       "<table border=\"1\" class=\"dataframe\">\n",
       "  <thead>\n",
       "    <tr style=\"text-align: right;\">\n",
       "      <th></th>\n",
       "      <th>word</th>\n",
       "      <th>word_freq</th>\n",
       "    </tr>\n",
       "  </thead>\n",
       "  <tbody>\n",
       "    <tr>\n",
       "      <th>0</th>\n",
       "      <td>존경</td>\n",
       "      <td>3</td>\n",
       "    </tr>\n",
       "    <tr>\n",
       "      <th>1</th>\n",
       "      <td>사랑</td>\n",
       "      <td>2</td>\n",
       "    </tr>\n",
       "    <tr>\n",
       "      <th>2</th>\n",
       "      <td>국민</td>\n",
       "      <td>19</td>\n",
       "    </tr>\n",
       "    <tr>\n",
       "      <th>3</th>\n",
       "      <td>여러분</td>\n",
       "      <td>3</td>\n",
       "    </tr>\n",
       "    <tr>\n",
       "      <th>4</th>\n",
       "      <td>감사</td>\n",
       "      <td>3</td>\n",
       "    </tr>\n",
       "  </tbody>\n",
       "</table>\n",
       "</div>"
      ],
      "text/plain": [
       "  word  word_freq\n",
       "0   존경          3\n",
       "1   사랑          2\n",
       "2   국민         19\n",
       "3  여러분          3\n",
       "4   감사          3"
      ]
     },
     "execution_count": 289,
     "metadata": {},
     "output_type": "execute_result"
    }
   ],
   "source": [
    "freq_mat.head()"
   ]
  },
  {
   "cell_type": "code",
   "execution_count": 293,
   "metadata": {
    "ExecuteTime": {
     "end_time": "2020-09-18T12:24:37.329344Z",
     "start_time": "2020-09-18T12:24:37.316380Z"
    }
   },
   "outputs": [
    {
     "data": {
      "text/html": [
       "<div>\n",
       "<style scoped>\n",
       "    .dataframe tbody tr th:only-of-type {\n",
       "        vertical-align: middle;\n",
       "    }\n",
       "\n",
       "    .dataframe tbody tr th {\n",
       "        vertical-align: top;\n",
       "    }\n",
       "\n",
       "    .dataframe thead th {\n",
       "        text-align: right;\n",
       "    }\n",
       "</style>\n",
       "<table border=\"1\" class=\"dataframe\">\n",
       "  <thead>\n",
       "    <tr style=\"text-align: right;\">\n",
       "      <th></th>\n",
       "      <th>word</th>\n",
       "      <th>word_freq</th>\n",
       "    </tr>\n",
       "  </thead>\n",
       "  <tbody>\n",
       "    <tr>\n",
       "      <th>2</th>\n",
       "      <td>국민</td>\n",
       "      <td>19</td>\n",
       "    </tr>\n",
       "    <tr>\n",
       "      <th>10</th>\n",
       "      <td>대통령</td>\n",
       "      <td>15</td>\n",
       "    </tr>\n",
       "    <tr>\n",
       "      <th>8</th>\n",
       "      <td>대한민국</td>\n",
       "      <td>8</td>\n",
       "    </tr>\n",
       "    <tr>\n",
       "      <th>18</th>\n",
       "      <td>나라</td>\n",
       "      <td>6</td>\n",
       "    </tr>\n",
       "    <tr>\n",
       "      <th>54</th>\n",
       "      <td>정치</td>\n",
       "      <td>4</td>\n",
       "    </tr>\n",
       "    <tr>\n",
       "      <th>7</th>\n",
       "      <td>오늘</td>\n",
       "      <td>4</td>\n",
       "    </tr>\n",
       "    <tr>\n",
       "      <th>6</th>\n",
       "      <td>머리</td>\n",
       "      <td>3</td>\n",
       "    </tr>\n",
       "    <tr>\n",
       "      <th>33</th>\n",
       "      <td>역사</td>\n",
       "      <td>3</td>\n",
       "    </tr>\n",
       "    <tr>\n",
       "      <th>4</th>\n",
       "      <td>감사</td>\n",
       "      <td>3</td>\n",
       "    </tr>\n",
       "    <tr>\n",
       "      <th>123</th>\n",
       "      <td>평화</td>\n",
       "      <td>3</td>\n",
       "    </tr>\n",
       "  </tbody>\n",
       "</table>\n",
       "</div>"
      ],
      "text/plain": [
       "     word  word_freq\n",
       "2      국민         19\n",
       "10    대통령         15\n",
       "8    대한민국          8\n",
       "18     나라          6\n",
       "54     정치          4\n",
       "7      오늘          4\n",
       "6      머리          3\n",
       "33     역사          3\n",
       "4      감사          3\n",
       "123    평화          3"
      ]
     },
     "execution_count": 293,
     "metadata": {},
     "output_type": "execute_result"
    }
   ],
   "source": [
    "freq_mat = freq_mat[freq_mat['word'].map(lambda x : len(x)>=2)].sort_values('word_freq',ascending=False)\n",
    "freq_mat.head(10)"
   ]
  },
  {
   "cell_type": "code",
   "execution_count": 294,
   "metadata": {
    "ExecuteTime": {
     "end_time": "2020-09-18T12:25:36.866052Z",
     "start_time": "2020-09-18T12:25:36.861083Z"
    }
   },
   "outputs": [],
   "source": [
    "freq_top10 = freq_mat.head(10)"
   ]
  },
  {
   "cell_type": "code",
   "execution_count": 305,
   "metadata": {
    "ExecuteTime": {
     "end_time": "2020-09-18T12:32:20.500504Z",
     "start_time": "2020-09-18T12:32:20.494511Z"
    }
   },
   "outputs": [],
   "source": [
    "freq_top10 = freq_top10.set_index(freq_top10['word'])"
   ]
  },
  {
   "cell_type": "code",
   "execution_count": 307,
   "metadata": {
    "ExecuteTime": {
     "end_time": "2020-09-18T12:32:36.674221Z",
     "start_time": "2020-09-18T12:32:36.437867Z"
    }
   },
   "outputs": [
    {
     "data": {
      "text/plain": [
       "<AxesSubplot:xlabel='word'>"
      ]
     },
     "execution_count": 307,
     "metadata": {},
     "output_type": "execute_result"
    },
    {
     "data": {
      "image/png": "[encoded data removed]",
      "text/plain": [
       "<Figure size 720x360 with 1 Axes>"
      ]
     },
     "metadata": {
      "needs_background": "light"
     },
     "output_type": "display_data"
    }
   ],
   "source": [
    "freq_top10['word_freq'].plot(kind='bar', figsize=(10,5))"
   ]
  },
  {
   "cell_type": "markdown",
   "metadata": {},
   "source": [
    "## 전처리된 데이터를 이용해 워드클라우드를 작성하고 인사이트를 추출하시오"
   ]
  },
  {
   "cell_type": "code",
   "execution_count": null,
   "metadata": {},
   "outputs": [],
   "source": []
  },
  {
   "cell_type": "markdown",
   "metadata": {},
   "source": [
    "# 모의고사 3"
   ]
  },
  {
   "cell_type": "markdown",
   "metadata": {},
   "source": [
    "## '공구 블로그 댓글.txt' 파일을 읽어 들여 숫자, 특수 문자 등을 제거하는 전처리 작업을 시행하시오."
   ]
  },
  {
   "cell_type": "code",
   "execution_count": 532,
   "metadata": {
    "ExecuteTime": {
     "end_time": "2020-09-18T13:43:58.232811Z",
     "start_time": "2020-09-18T13:43:58.217846Z"
    }
   },
   "outputs": [],
   "source": [
    "import pandas as pd\n",
    "\n",
    "data = pd.read_csv('data/공구 블로그 댓글.txt', sep='\\t', encoding='cp949')"
   ]
  },
  {
   "cell_type": "code",
   "execution_count": 533,
   "metadata": {
    "ExecuteTime": {
     "end_time": "2020-09-18T13:43:58.521036Z",
     "start_time": "2020-09-18T13:43:58.505078Z"
    }
   },
   "outputs": [
    {
     "data": {
      "text/html": [
       "<div>\n",
       "<style scoped>\n",
       "    .dataframe tbody tr th:only-of-type {\n",
       "        vertical-align: middle;\n",
       "    }\n",
       "\n",
       "    .dataframe tbody tr th {\n",
       "        vertical-align: top;\n",
       "    }\n",
       "\n",
       "    .dataframe thead th {\n",
       "        text-align: right;\n",
       "    }\n",
       "</style>\n",
       "<table border=\"1\" class=\"dataframe\">\n",
       "  <thead>\n",
       "    <tr style=\"text-align: right;\">\n",
       "      <th></th>\n",
       "      <th>Date</th>\n",
       "      <th>Good</th>\n",
       "      <th>Hate</th>\n",
       "      <th>Content</th>\n",
       "    </tr>\n",
       "  </thead>\n",
       "  <tbody>\n",
       "    <tr>\n",
       "      <th>0</th>\n",
       "      <td>2014.02.14\\t</td>\n",
       "      <td>71</td>\n",
       "      <td>0</td>\n",
       "      <td>두두월드님.담번엔 실리콘스티머공구도부탁요.</td>\n",
       "    </tr>\n",
       "    <tr>\n",
       "      <th>1</th>\n",
       "      <td>2014.02.14\\t</td>\n",
       "      <td>118</td>\n",
       "      <td>0</td>\n",
       "      <td>김다미돈까스 공구 일정 궁금해요</td>\n",
       "    </tr>\n",
       "    <tr>\n",
       "      <th>2</th>\n",
       "      <td>2014.02.14\\t</td>\n",
       "      <td>42</td>\n",
       "      <td>0</td>\n",
       "      <td>빌보나 헹켈 커트러리요~</td>\n",
       "    </tr>\n",
       "    <tr>\n",
       "      <th>3</th>\n",
       "      <td>2014.02.14\\t</td>\n",
       "      <td>84</td>\n",
       "      <td>0</td>\n",
       "      <td>드롱기 아이코다 빈티지 공구 부탁드려요..ㅠㅠ</td>\n",
       "    </tr>\n",
       "    <tr>\n",
       "      <th>4</th>\n",
       "      <td>2014.02.14\\t</td>\n",
       "      <td>145</td>\n",
       "      <td>0</td>\n",
       "      <td>폴란드그릇 다른패턴으로공구희망유</td>\n",
       "    </tr>\n",
       "    <tr>\n",
       "      <th>...</th>\n",
       "      <td>...</td>\n",
       "      <td>...</td>\n",
       "      <td>...</td>\n",
       "      <td>...</td>\n",
       "    </tr>\n",
       "    <tr>\n",
       "      <th>220</th>\n",
       "      <td>2014.01.15\\t</td>\n",
       "      <td>123</td>\n",
       "      <td>0</td>\n",
       "      <td>앵무새 유기농 설탕욤~~</td>\n",
       "    </tr>\n",
       "    <tr>\n",
       "      <th>221</th>\n",
       "      <td>2014.01.15\\t</td>\n",
       "      <td>53</td>\n",
       "      <td>0</td>\n",
       "      <td>오일은 공구 안하시나요?</td>\n",
       "    </tr>\n",
       "    <tr>\n",
       "      <th>222</th>\n",
       "      <td>2014.01.15\\t</td>\n",
       "      <td>27</td>\n",
       "      <td>0</td>\n",
       "      <td>넬리 공구 안해용????</td>\n",
       "    </tr>\n",
       "    <tr>\n",
       "      <th>223</th>\n",
       "      <td>2014.01.15\\t</td>\n",
       "      <td>87</td>\n",
       "      <td>0</td>\n",
       "      <td>혹시 떡은 ?</td>\n",
       "    </tr>\n",
       "    <tr>\n",
       "      <th>224</th>\n",
       "      <td>2014.01.15\\t</td>\n",
       "      <td>0</td>\n",
       "      <td>0</td>\n",
       "      <td>궁물맛이.찌게맛이 끈내주는건 스타우브던디..</td>\n",
       "    </tr>\n",
       "  </tbody>\n",
       "</table>\n",
       "<p>225 rows × 4 columns</p>\n",
       "</div>"
      ],
      "text/plain": [
       "             Date  Good  Hate                    Content\n",
       "0    2014.02.14\\t    71     0    두두월드님.담번엔 실리콘스티머공구도부탁요.\n",
       "1    2014.02.14\\t   118     0          김다미돈까스 공구 일정 궁금해요\n",
       "2    2014.02.14\\t    42     0              빌보나 헹켈 커트러리요~\n",
       "3    2014.02.14\\t    84     0  드롱기 아이코다 빈티지 공구 부탁드려요..ㅠㅠ\n",
       "4    2014.02.14\\t   145     0          폴란드그릇 다른패턴으로공구희망유\n",
       "..            ...   ...   ...                        ...\n",
       "220  2014.01.15\\t   123     0              앵무새 유기농 설탕욤~~\n",
       "221  2014.01.15\\t    53     0              오일은 공구 안하시나요?\n",
       "222  2014.01.15\\t    27     0              넬리 공구 안해용????\n",
       "223  2014.01.15\\t    87     0                    혹시 떡은 ?\n",
       "224  2014.01.15\\t     0     0   궁물맛이.찌게맛이 끈내주는건 스타우브던디..\n",
       "\n",
       "[225 rows x 4 columns]"
      ]
     },
     "execution_count": 533,
     "metadata": {},
     "output_type": "execute_result"
    }
   ],
   "source": [
    "data"
   ]
  },
  {
   "cell_type": "code",
   "execution_count": 534,
   "metadata": {
    "ExecuteTime": {
     "end_time": "2020-09-18T13:44:00.144694Z",
     "start_time": "2020-09-18T13:44:00.130744Z"
    }
   },
   "outputs": [],
   "source": [
    "import re\n",
    "\n",
    "data['Date'] = data['Date'].map(lambda x: re.sub('\\t','',x))\n",
    "\n",
    "data['Date'] = pd.to_datetime(data['Date'])\n",
    "\n",
    "data['Content'] = data['Content'].fillna(' ')\n",
    "data['Content'] = data['Content'].map(lambda x : re.sub(r'\\d+', ' ', x))\n",
    "data['Content'] = data['Content'].map(lambda x : re.sub(r'[-=+,#/\\?:^$.@*\\\"~&%!;\\\\|\\(\\)\\[\\]\\<\\>\\']',' ', x))"
   ]
  },
  {
   "cell_type": "code",
   "execution_count": 535,
   "metadata": {
    "ExecuteTime": {
     "end_time": "2020-09-18T13:44:00.807923Z",
     "start_time": "2020-09-18T13:44:00.793956Z"
    }
   },
   "outputs": [
    {
     "data": {
      "text/html": [
       "<div>\n",
       "<style scoped>\n",
       "    .dataframe tbody tr th:only-of-type {\n",
       "        vertical-align: middle;\n",
       "    }\n",
       "\n",
       "    .dataframe tbody tr th {\n",
       "        vertical-align: top;\n",
       "    }\n",
       "\n",
       "    .dataframe thead th {\n",
       "        text-align: right;\n",
       "    }\n",
       "</style>\n",
       "<table border=\"1\" class=\"dataframe\">\n",
       "  <thead>\n",
       "    <tr style=\"text-align: right;\">\n",
       "      <th></th>\n",
       "      <th>Date</th>\n",
       "      <th>Good</th>\n",
       "      <th>Hate</th>\n",
       "      <th>Content</th>\n",
       "    </tr>\n",
       "  </thead>\n",
       "  <tbody>\n",
       "    <tr>\n",
       "      <th>0</th>\n",
       "      <td>2014-02-14</td>\n",
       "      <td>71</td>\n",
       "      <td>0</td>\n",
       "      <td>두두월드님 담번엔 실리콘스티머공구도부탁요</td>\n",
       "    </tr>\n",
       "    <tr>\n",
       "      <th>1</th>\n",
       "      <td>2014-02-14</td>\n",
       "      <td>118</td>\n",
       "      <td>0</td>\n",
       "      <td>김다미돈까스 공구 일정 궁금해요</td>\n",
       "    </tr>\n",
       "    <tr>\n",
       "      <th>2</th>\n",
       "      <td>2014-02-14</td>\n",
       "      <td>42</td>\n",
       "      <td>0</td>\n",
       "      <td>빌보나 헹켈 커트러리요</td>\n",
       "    </tr>\n",
       "    <tr>\n",
       "      <th>3</th>\n",
       "      <td>2014-02-14</td>\n",
       "      <td>84</td>\n",
       "      <td>0</td>\n",
       "      <td>드롱기 아이코다 빈티지 공구 부탁드려요  ㅠㅠ</td>\n",
       "    </tr>\n",
       "    <tr>\n",
       "      <th>4</th>\n",
       "      <td>2014-02-14</td>\n",
       "      <td>145</td>\n",
       "      <td>0</td>\n",
       "      <td>폴란드그릇 다른패턴으로공구희망유</td>\n",
       "    </tr>\n",
       "    <tr>\n",
       "      <th>...</th>\n",
       "      <td>...</td>\n",
       "      <td>...</td>\n",
       "      <td>...</td>\n",
       "      <td>...</td>\n",
       "    </tr>\n",
       "    <tr>\n",
       "      <th>220</th>\n",
       "      <td>2014-01-15</td>\n",
       "      <td>123</td>\n",
       "      <td>0</td>\n",
       "      <td>앵무새 유기농 설탕욤</td>\n",
       "    </tr>\n",
       "    <tr>\n",
       "      <th>221</th>\n",
       "      <td>2014-01-15</td>\n",
       "      <td>53</td>\n",
       "      <td>0</td>\n",
       "      <td>오일은 공구 안하시나요</td>\n",
       "    </tr>\n",
       "    <tr>\n",
       "      <th>222</th>\n",
       "      <td>2014-01-15</td>\n",
       "      <td>27</td>\n",
       "      <td>0</td>\n",
       "      <td>넬리 공구 안해용</td>\n",
       "    </tr>\n",
       "    <tr>\n",
       "      <th>223</th>\n",
       "      <td>2014-01-15</td>\n",
       "      <td>87</td>\n",
       "      <td>0</td>\n",
       "      <td>혹시 떡은</td>\n",
       "    </tr>\n",
       "    <tr>\n",
       "      <th>224</th>\n",
       "      <td>2014-01-15</td>\n",
       "      <td>0</td>\n",
       "      <td>0</td>\n",
       "      <td>궁물맛이 찌게맛이 끈내주는건 스타우브던디</td>\n",
       "    </tr>\n",
       "  </tbody>\n",
       "</table>\n",
       "<p>225 rows × 4 columns</p>\n",
       "</div>"
      ],
      "text/plain": [
       "          Date  Good  Hate                    Content\n",
       "0   2014-02-14    71     0    두두월드님 담번엔 실리콘스티머공구도부탁요 \n",
       "1   2014-02-14   118     0          김다미돈까스 공구 일정 궁금해요\n",
       "2   2014-02-14    42     0              빌보나 헹켈 커트러리요 \n",
       "3   2014-02-14    84     0  드롱기 아이코다 빈티지 공구 부탁드려요  ㅠㅠ\n",
       "4   2014-02-14   145     0          폴란드그릇 다른패턴으로공구희망유\n",
       "..         ...   ...   ...                        ...\n",
       "220 2014-01-15   123     0              앵무새 유기농 설탕욤  \n",
       "221 2014-01-15    53     0              오일은 공구 안하시나요 \n",
       "222 2014-01-15    27     0              넬리 공구 안해용    \n",
       "223 2014-01-15    87     0                    혹시 떡은  \n",
       "224 2014-01-15     0     0   궁물맛이 찌게맛이 끈내주는건 스타우브던디  \n",
       "\n",
       "[225 rows x 4 columns]"
      ]
     },
     "execution_count": 535,
     "metadata": {},
     "output_type": "execute_result"
    }
   ],
   "source": [
    "data"
   ]
  },
  {
   "cell_type": "code",
   "execution_count": null,
   "metadata": {},
   "outputs": [],
   "source": []
  },
  {
   "cell_type": "markdown",
   "metadata": {},
   "source": [
    "## '사전.txt'를 사전에 추가하고 문서에서 형용사를 추출하여라."
   ]
  },
  {
   "cell_type": "code",
   "execution_count": 536,
   "metadata": {
    "ExecuteTime": {
     "end_time": "2020-09-18T13:44:02.740749Z",
     "start_time": "2020-09-18T13:44:02.728782Z"
    }
   },
   "outputs": [],
   "source": [
    "dictionary = pd.read_csv('data/사전.txt', encoding='cp949', names=['word'])"
   ]
  },
  {
   "cell_type": "code",
   "execution_count": 537,
   "metadata": {
    "ExecuteTime": {
     "end_time": "2020-09-18T13:44:03.340146Z",
     "start_time": "2020-09-18T13:44:03.330174Z"
    }
   },
   "outputs": [
    {
     "data": {
      "text/html": [
       "<div>\n",
       "<style scoped>\n",
       "    .dataframe tbody tr th:only-of-type {\n",
       "        vertical-align: middle;\n",
       "    }\n",
       "\n",
       "    .dataframe tbody tr th {\n",
       "        vertical-align: top;\n",
       "    }\n",
       "\n",
       "    .dataframe thead th {\n",
       "        text-align: right;\n",
       "    }\n",
       "</style>\n",
       "<table border=\"1\" class=\"dataframe\">\n",
       "  <thead>\n",
       "    <tr style=\"text-align: right;\">\n",
       "      <th></th>\n",
       "      <th>word</th>\n",
       "    </tr>\n",
       "  </thead>\n",
       "  <tbody>\n",
       "    <tr>\n",
       "      <th>0</th>\n",
       "      <td>공구</td>\n",
       "    </tr>\n",
       "    <tr>\n",
       "      <th>1</th>\n",
       "      <td>실리콘스티머</td>\n",
       "    </tr>\n",
       "    <tr>\n",
       "      <th>2</th>\n",
       "      <td>김다미돈까스</td>\n",
       "    </tr>\n",
       "    <tr>\n",
       "      <th>3</th>\n",
       "      <td>빌보</td>\n",
       "    </tr>\n",
       "    <tr>\n",
       "      <th>4</th>\n",
       "      <td>헹켈</td>\n",
       "    </tr>\n",
       "  </tbody>\n",
       "</table>\n",
       "</div>"
      ],
      "text/plain": [
       "     word\n",
       "0      공구\n",
       "1  실리콘스티머\n",
       "2  김다미돈까스\n",
       "3      빌보\n",
       "4      헹켈"
      ]
     },
     "execution_count": 537,
     "metadata": {},
     "output_type": "execute_result"
    }
   ],
   "source": [
    "dictionary.head()"
   ]
  },
  {
   "cell_type": "code",
   "execution_count": 538,
   "metadata": {
    "ExecuteTime": {
     "end_time": "2020-09-18T13:44:04.143000Z",
     "start_time": "2020-09-18T13:44:04.138039Z"
    }
   },
   "outputs": [],
   "source": [
    "dictionary['pos'] = 'NNP'"
   ]
  },
  {
   "cell_type": "code",
   "execution_count": 539,
   "metadata": {
    "ExecuteTime": {
     "end_time": "2020-09-18T13:44:04.677569Z",
     "start_time": "2020-09-18T13:44:04.669592Z"
    }
   },
   "outputs": [],
   "source": [
    "dictionary.to_csv('data/new_사전.txt',  sep='\\t',index=False, header=False)"
   ]
  },
  {
   "cell_type": "code",
   "execution_count": 540,
   "metadata": {
    "ExecuteTime": {
     "end_time": "2020-09-18T13:44:11.403581Z",
     "start_time": "2020-09-18T13:44:09.457786Z"
    }
   },
   "outputs": [],
   "source": [
    "from konlpy.tag import Komoran\n",
    "komoran = Komoran(userdic='data/new_사전.txt')"
   ]
  },
  {
   "cell_type": "code",
   "execution_count": 541,
   "metadata": {
    "ExecuteTime": {
     "end_time": "2020-09-18T13:44:11.684829Z",
     "start_time": "2020-09-18T13:44:11.577117Z"
    },
    "scrolled": true
   },
   "outputs": [
    {
     "data": {
      "text/plain": [
       "[('두두', 'NNP'),\n",
       " ('월드', 'NNP'),\n",
       " ('님', 'XSN'),\n",
       " ('담', 'NNG'),\n",
       " ('번', 'NNB'),\n",
       " ('에', 'JKB'),\n",
       " ('ㄴ', 'JX'),\n",
       " ('실리콘스티머', 'NNP'),\n",
       " ('공구', 'NNP'),\n",
       " ('도', 'NNG')]"
      ]
     },
     "execution_count": 541,
     "metadata": {},
     "output_type": "execute_result"
    }
   ],
   "source": [
    "pos = komoran.pos(' '.join(data['Content']))\n",
    "pos[:10]"
   ]
  },
  {
   "cell_type": "code",
   "execution_count": 542,
   "metadata": {
    "ExecuteTime": {
     "end_time": "2020-09-18T13:44:12.687150Z",
     "start_time": "2020-09-18T13:44:12.682162Z"
    }
   },
   "outputs": [],
   "source": [
    "adj = []\n",
    "for i in pos:\n",
    "    if i[1] == 'VA':\n",
    "        adj.append(i[0])"
   ]
  },
  {
   "cell_type": "code",
   "execution_count": 543,
   "metadata": {
    "ExecuteTime": {
     "end_time": "2020-09-18T13:44:14.256966Z",
     "start_time": "2020-09-18T13:44:14.250968Z"
    }
   },
   "outputs": [
    {
     "data": {
      "text/plain": [
       "['같', '없', '시', '편하', '없', '없', '맛있', '크', '시', '어렵', '없', '어떻']"
      ]
     },
     "execution_count": 543,
     "metadata": {},
     "output_type": "execute_result"
    }
   ],
   "source": [
    "adj"
   ]
  },
  {
   "cell_type": "markdown",
   "metadata": {},
   "source": [
    "## 2월에 게시된 댓글의 명사를 추출하고 빈도수를 시각화하시오."
   ]
  },
  {
   "cell_type": "code",
   "execution_count": 544,
   "metadata": {
    "ExecuteTime": {
     "end_time": "2020-09-18T13:44:25.312387Z",
     "start_time": "2020-09-18T13:44:25.299420Z"
    }
   },
   "outputs": [
    {
     "data": {
      "text/html": [
       "<div>\n",
       "<style scoped>\n",
       "    .dataframe tbody tr th:only-of-type {\n",
       "        vertical-align: middle;\n",
       "    }\n",
       "\n",
       "    .dataframe tbody tr th {\n",
       "        vertical-align: top;\n",
       "    }\n",
       "\n",
       "    .dataframe thead th {\n",
       "        text-align: right;\n",
       "    }\n",
       "</style>\n",
       "<table border=\"1\" class=\"dataframe\">\n",
       "  <thead>\n",
       "    <tr style=\"text-align: right;\">\n",
       "      <th></th>\n",
       "      <th>Good</th>\n",
       "      <th>Hate</th>\n",
       "      <th>Content</th>\n",
       "    </tr>\n",
       "    <tr>\n",
       "      <th>Date</th>\n",
       "      <th></th>\n",
       "      <th></th>\n",
       "      <th></th>\n",
       "    </tr>\n",
       "  </thead>\n",
       "  <tbody>\n",
       "    <tr>\n",
       "      <th>2014-01-15</th>\n",
       "      <td>0</td>\n",
       "      <td>0</td>\n",
       "      <td>궁물맛이 찌게맛이 끈내주는건 스타우브던디</td>\n",
       "    </tr>\n",
       "    <tr>\n",
       "      <th>2014-01-15</th>\n",
       "      <td>392</td>\n",
       "      <td>1</td>\n",
       "      <td>주름 좀 없애볼까</td>\n",
       "    </tr>\n",
       "    <tr>\n",
       "      <th>2014-01-15</th>\n",
       "      <td>76</td>\n",
       "      <td>0</td>\n",
       "      <td>조마루감자탕   간장뼈찜에 요거요거  딱  한잔 어때</td>\n",
       "    </tr>\n",
       "    <tr>\n",
       "      <th>2014-01-15</th>\n",
       "      <td>87</td>\n",
       "      <td>0</td>\n",
       "      <td>혹시 떡은</td>\n",
       "    </tr>\n",
       "    <tr>\n",
       "      <th>2014-01-15</th>\n",
       "      <td>53</td>\n",
       "      <td>0</td>\n",
       "      <td>오일은 공구 안하시나요</td>\n",
       "    </tr>\n",
       "  </tbody>\n",
       "</table>\n",
       "</div>"
      ],
      "text/plain": [
       "            Good  Hate                         Content\n",
       "Date                                                  \n",
       "2014-01-15     0     0        궁물맛이 찌게맛이 끈내주는건 스타우브던디  \n",
       "2014-01-15   392     1                      주름 좀 없애볼까 \n",
       "2014-01-15    76     0  조마루감자탕   간장뼈찜에 요거요거  딱  한잔 어때 \n",
       "2014-01-15    87     0                         혹시 떡은  \n",
       "2014-01-15    53     0                   오일은 공구 안하시나요 "
      ]
     },
     "execution_count": 544,
     "metadata": {},
     "output_type": "execute_result"
    }
   ],
   "source": [
    "data = data.set_index('Date')\n",
    "data = data.sort_index()\n",
    "data.head()"
   ]
  },
  {
   "cell_type": "code",
   "execution_count": 545,
   "metadata": {
    "ExecuteTime": {
     "end_time": "2020-09-18T13:44:27.499536Z",
     "start_time": "2020-09-18T13:44:27.490599Z"
    }
   },
   "outputs": [
    {
     "data": {
      "text/html": [
       "<div>\n",
       "<style scoped>\n",
       "    .dataframe tbody tr th:only-of-type {\n",
       "        vertical-align: middle;\n",
       "    }\n",
       "\n",
       "    .dataframe tbody tr th {\n",
       "        vertical-align: top;\n",
       "    }\n",
       "\n",
       "    .dataframe thead th {\n",
       "        text-align: right;\n",
       "    }\n",
       "</style>\n",
       "<table border=\"1\" class=\"dataframe\">\n",
       "  <thead>\n",
       "    <tr style=\"text-align: right;\">\n",
       "      <th></th>\n",
       "      <th>Good</th>\n",
       "      <th>Hate</th>\n",
       "      <th>Content</th>\n",
       "    </tr>\n",
       "    <tr>\n",
       "      <th>Date</th>\n",
       "      <th></th>\n",
       "      <th></th>\n",
       "      <th></th>\n",
       "    </tr>\n",
       "  </thead>\n",
       "  <tbody>\n",
       "    <tr>\n",
       "      <th>2014-02-14</th>\n",
       "      <td>145</td>\n",
       "      <td>0</td>\n",
       "      <td>폴란드그릇 다른패턴으로공구희망유</td>\n",
       "    </tr>\n",
       "    <tr>\n",
       "      <th>2014-02-14</th>\n",
       "      <td>84</td>\n",
       "      <td>0</td>\n",
       "      <td>드롱기 아이코다 빈티지 공구 부탁드려요  ㅠㅠ</td>\n",
       "    </tr>\n",
       "    <tr>\n",
       "      <th>2014-02-14</th>\n",
       "      <td>42</td>\n",
       "      <td>0</td>\n",
       "      <td>빌보나 헹켈 커트러리요</td>\n",
       "    </tr>\n",
       "    <tr>\n",
       "      <th>2014-02-14</th>\n",
       "      <td>118</td>\n",
       "      <td>0</td>\n",
       "      <td>김다미돈까스 공구 일정 궁금해요</td>\n",
       "    </tr>\n",
       "    <tr>\n",
       "      <th>2014-02-14</th>\n",
       "      <td>71</td>\n",
       "      <td>0</td>\n",
       "      <td>두두월드님 담번엔 실리콘스티머공구도부탁요</td>\n",
       "    </tr>\n",
       "  </tbody>\n",
       "</table>\n",
       "</div>"
      ],
      "text/plain": [
       "            Good  Hate                    Content\n",
       "Date                                             \n",
       "2014-02-14   145     0          폴란드그릇 다른패턴으로공구희망유\n",
       "2014-02-14    84     0  드롱기 아이코다 빈티지 공구 부탁드려요  ㅠㅠ\n",
       "2014-02-14    42     0              빌보나 헹켈 커트러리요 \n",
       "2014-02-14   118     0          김다미돈까스 공구 일정 궁금해요\n",
       "2014-02-14    71     0    두두월드님 담번엔 실리콘스티머공구도부탁요 "
      ]
     },
     "execution_count": 545,
     "metadata": {},
     "output_type": "execute_result"
    }
   ],
   "source": [
    "data.tail()"
   ]
  },
  {
   "cell_type": "code",
   "execution_count": 546,
   "metadata": {
    "ExecuteTime": {
     "end_time": "2020-09-18T13:44:28.359236Z",
     "start_time": "2020-09-18T13:44:28.353280Z"
    }
   },
   "outputs": [],
   "source": [
    "data2 = data.loc['2014-02-01':]"
   ]
  },
  {
   "cell_type": "code",
   "execution_count": 547,
   "metadata": {
    "ExecuteTime": {
     "end_time": "2020-09-18T13:44:29.105270Z",
     "start_time": "2020-09-18T13:44:29.065376Z"
    }
   },
   "outputs": [],
   "source": [
    "nouns = komoran.nouns(' '.join(data2['Content']))"
   ]
  },
  {
   "cell_type": "code",
   "execution_count": 548,
   "metadata": {
    "ExecuteTime": {
     "end_time": "2020-09-18T13:44:31.622509Z",
     "start_time": "2020-09-18T13:44:31.617523Z"
    }
   },
   "outputs": [],
   "source": [
    "import collections\n",
    "\n",
    "freq = collections.Counter(nouns)"
   ]
  },
  {
   "cell_type": "code",
   "execution_count": 550,
   "metadata": {
    "ExecuteTime": {
     "end_time": "2020-09-18T13:44:47.925909Z",
     "start_time": "2020-09-18T13:44:47.913941Z"
    }
   },
   "outputs": [
    {
     "data": {
      "text/html": [
       "<div>\n",
       "<style scoped>\n",
       "    .dataframe tbody tr th:only-of-type {\n",
       "        vertical-align: middle;\n",
       "    }\n",
       "\n",
       "    .dataframe tbody tr th {\n",
       "        vertical-align: top;\n",
       "    }\n",
       "\n",
       "    .dataframe thead th {\n",
       "        text-align: right;\n",
       "    }\n",
       "</style>\n",
       "<table border=\"1\" class=\"dataframe\">\n",
       "  <thead>\n",
       "    <tr style=\"text-align: right;\">\n",
       "      <th></th>\n",
       "      <th>name</th>\n",
       "      <th>cnt</th>\n",
       "    </tr>\n",
       "  </thead>\n",
       "  <tbody>\n",
       "    <tr>\n",
       "      <th>1</th>\n",
       "      <td>공구</td>\n",
       "      <td>58</td>\n",
       "    </tr>\n",
       "    <tr>\n",
       "      <th>5</th>\n",
       "      <td>해주</td>\n",
       "      <td>27</td>\n",
       "    </tr>\n",
       "    <tr>\n",
       "      <th>6</th>\n",
       "      <td>세</td>\n",
       "      <td>26</td>\n",
       "    </tr>\n",
       "    <tr>\n",
       "      <th>24</th>\n",
       "      <td>부탁</td>\n",
       "      <td>10</td>\n",
       "    </tr>\n",
       "    <tr>\n",
       "      <th>32</th>\n",
       "      <td>빌보</td>\n",
       "      <td>9</td>\n",
       "    </tr>\n",
       "  </tbody>\n",
       "</table>\n",
       "</div>"
      ],
      "text/plain": [
       "   name  cnt\n",
       "1    공구   58\n",
       "5    해주   27\n",
       "6     세   26\n",
       "24   부탁   10\n",
       "32   빌보    9"
      ]
     },
     "execution_count": 550,
     "metadata": {},
     "output_type": "execute_result"
    }
   ],
   "source": [
    "name = dict(freq).keys()\n",
    "cnt = dict(freq).values()\n",
    "freq = pd.DataFrame(dict(name = name, cnt=cnt)).sort_values('cnt', ascending=False)\n",
    "freq.head()"
   ]
  },
  {
   "cell_type": "code",
   "execution_count": 551,
   "metadata": {
    "ExecuteTime": {
     "end_time": "2020-09-18T13:44:48.985077Z",
     "start_time": "2020-09-18T13:44:48.979093Z"
    }
   },
   "outputs": [],
   "source": [
    "freq2 = freq[freq['name'].map(lambda x : len(x) >=2)]"
   ]
  },
  {
   "cell_type": "code",
   "execution_count": 552,
   "metadata": {
    "ExecuteTime": {
     "end_time": "2020-09-18T13:44:49.351097Z",
     "start_time": "2020-09-18T13:44:49.346111Z"
    }
   },
   "outputs": [],
   "source": [
    "freq2 = freq2.head(5)"
   ]
  },
  {
   "cell_type": "code",
   "execution_count": 553,
   "metadata": {
    "ExecuteTime": {
     "end_time": "2020-09-18T13:44:49.857743Z",
     "start_time": "2020-09-18T13:44:49.752026Z"
    }
   },
   "outputs": [
    {
     "data": {
      "image/png": "[encoded data removed]",
      "text/plain": [
       "<Figure size 432x288 with 1 Axes>"
      ]
     },
     "metadata": {},
     "output_type": "display_data"
    }
   ],
   "source": [
    "plt.pie(freq2['cnt'], labels = freq2['name'])\n",
    "plt.show()"
   ]
  },
  {
   "cell_type": "markdown",
   "metadata": {},
   "source": [
    "# 모의고사 4"
   ]
  },
  {
   "cell_type": "markdown",
   "metadata": {},
   "source": [
    "## 'instagram_태교여행.txt' 데이터를 읽어온 뒤 숫자, 특수 문자 등을 제거하는 전처리 작업을 시행 하시오."
   ]
  },
  {
   "cell_type": "code",
   "execution_count": 462,
   "metadata": {
    "ExecuteTime": {
     "end_time": "2020-09-18T13:27:28.855946Z",
     "start_time": "2020-09-18T13:27:28.843972Z"
    }
   },
   "outputs": [],
   "source": [
    "data = pd.read_csv('data/instagram_태교여행.txt', sep='\\t', encoding='cp949', names=['Content'])"
   ]
  },
  {
   "cell_type": "code",
   "execution_count": 465,
   "metadata": {
    "ExecuteTime": {
     "end_time": "2020-09-18T13:27:58.619316Z",
     "start_time": "2020-09-18T13:27:58.610366Z"
    }
   },
   "outputs": [],
   "source": [
    "import re\n",
    "\n",
    "data['Content'] = data['Content'].fillna(' ')\n",
    "data['Content'] = data['Content'].map(lambda x : re.sub(r'\\d+', ' ', x))\n",
    "data['Content'] = data['Content'].map(lambda x : re.sub(r'[-=+,#/\\?:^$.@*\\\"~&%!\\\\|\\(\\)\\[\\]\\<\\>\\';]', ' ', x))"
   ]
  },
  {
   "cell_type": "markdown",
   "metadata": {},
   "source": [
    "## 전처리된 데이터에서 '태교여행'이란 단어를 사전에 추가하고 명사를 추출해 출현빈도 10위까지 막대그래프로 시각화하시오."
   ]
  },
  {
   "cell_type": "code",
   "execution_count": 466,
   "metadata": {
    "ExecuteTime": {
     "end_time": "2020-09-18T13:28:04.819733Z",
     "start_time": "2020-09-18T13:28:04.810758Z"
    }
   },
   "outputs": [],
   "source": [
    "dictionary = pd.DataFrame({'word':['태교여행'], 'cnt':['NNP']})\n",
    "dictionary.to_csv('data/태교여행사전.txt', sep='\\t', index=False, header=False)"
   ]
  },
  {
   "cell_type": "code",
   "execution_count": 467,
   "metadata": {
    "ExecuteTime": {
     "end_time": "2020-09-18T13:28:06.188073Z",
     "start_time": "2020-09-18T13:28:06.179099Z"
    }
   },
   "outputs": [
    {
     "data": {
      "text/html": [
       "<div>\n",
       "<style scoped>\n",
       "    .dataframe tbody tr th:only-of-type {\n",
       "        vertical-align: middle;\n",
       "    }\n",
       "\n",
       "    .dataframe tbody tr th {\n",
       "        vertical-align: top;\n",
       "    }\n",
       "\n",
       "    .dataframe thead th {\n",
       "        text-align: right;\n",
       "    }\n",
       "</style>\n",
       "<table border=\"1\" class=\"dataframe\">\n",
       "  <thead>\n",
       "    <tr style=\"text-align: right;\">\n",
       "      <th></th>\n",
       "      <th>word</th>\n",
       "      <th>cnt</th>\n",
       "    </tr>\n",
       "  </thead>\n",
       "  <tbody>\n",
       "    <tr>\n",
       "      <th>0</th>\n",
       "      <td>태교여행</td>\n",
       "      <td>NNP</td>\n",
       "    </tr>\n",
       "  </tbody>\n",
       "</table>\n",
       "</div>"
      ],
      "text/plain": [
       "   word  cnt\n",
       "0  태교여행  NNP"
      ]
     },
     "execution_count": 467,
     "metadata": {},
     "output_type": "execute_result"
    }
   ],
   "source": [
    "dictionary"
   ]
  },
  {
   "cell_type": "code",
   "execution_count": 468,
   "metadata": {
    "ExecuteTime": {
     "end_time": "2020-09-18T13:28:09.033466Z",
     "start_time": "2020-09-18T13:28:07.186406Z"
    }
   },
   "outputs": [],
   "source": [
    "from konlpy.tag import Komoran\n",
    "komoran = Komoran(userdic='data/태교여행사전.txt')"
   ]
  },
  {
   "cell_type": "code",
   "execution_count": 469,
   "metadata": {
    "ExecuteTime": {
     "end_time": "2020-09-18T13:28:10.531501Z",
     "start_time": "2020-09-18T13:28:09.443381Z"
    }
   },
   "outputs": [],
   "source": [
    "nouns = komoran.nouns(' '.join(data['Content']))"
   ]
  },
  {
   "cell_type": "code",
   "execution_count": 470,
   "metadata": {
    "ExecuteTime": {
     "end_time": "2020-09-18T13:28:12.606908Z",
     "start_time": "2020-09-18T13:28:12.601949Z"
    }
   },
   "outputs": [],
   "source": [
    "import collections\n",
    "\n",
    "freq = collections.Counter(nouns)"
   ]
  },
  {
   "cell_type": "code",
   "execution_count": 471,
   "metadata": {
    "ExecuteTime": {
     "end_time": "2020-09-18T13:28:13.460625Z",
     "start_time": "2020-09-18T13:28:13.449659Z"
    }
   },
   "outputs": [],
   "source": [
    "freq2 = dict(freq)\n",
    "name = freq2.keys()\n",
    "cnt = freq2.values()\n",
    "freq3 = pd.DataFrame(dict(name=name, cnt=cnt))\n",
    "freq4 = freq3[freq3['name'].map(lambda x: len(x)>=2)]\n",
    "freq4 = freq4.sort_values('cnt', ascending=False)\n",
    "freq5 = freq4.head(10)"
   ]
  },
  {
   "cell_type": "code",
   "execution_count": 472,
   "metadata": {
    "ExecuteTime": {
     "end_time": "2020-09-18T13:28:14.307362Z",
     "start_time": "2020-09-18T13:28:14.297389Z"
    }
   },
   "outputs": [
    {
     "data": {
      "text/html": [
       "<div>\n",
       "<style scoped>\n",
       "    .dataframe tbody tr th:only-of-type {\n",
       "        vertical-align: middle;\n",
       "    }\n",
       "\n",
       "    .dataframe tbody tr th {\n",
       "        vertical-align: top;\n",
       "    }\n",
       "\n",
       "    .dataframe thead th {\n",
       "        text-align: right;\n",
       "    }\n",
       "</style>\n",
       "<table border=\"1\" class=\"dataframe\">\n",
       "  <thead>\n",
       "    <tr style=\"text-align: right;\">\n",
       "      <th></th>\n",
       "      <th>name</th>\n",
       "      <th>cnt</th>\n",
       "    </tr>\n",
       "  </thead>\n",
       "  <tbody>\n",
       "    <tr>\n",
       "      <th>4</th>\n",
       "      <td>태교여행</td>\n",
       "      <td>216</td>\n",
       "    </tr>\n",
       "    <tr>\n",
       "      <th>29</th>\n",
       "      <td>여행</td>\n",
       "      <td>202</td>\n",
       "    </tr>\n",
       "    <tr>\n",
       "      <th>57</th>\n",
       "      <td>그램</td>\n",
       "      <td>113</td>\n",
       "    </tr>\n",
       "    <tr>\n",
       "      <th>56</th>\n",
       "      <td>스타</td>\n",
       "      <td>89</td>\n",
       "    </tr>\n",
       "    <tr>\n",
       "      <th>19</th>\n",
       "      <td>임산부</td>\n",
       "      <td>64</td>\n",
       "    </tr>\n",
       "    <tr>\n",
       "      <th>44</th>\n",
       "      <td>제주</td>\n",
       "      <td>39</td>\n",
       "    </tr>\n",
       "    <tr>\n",
       "      <th>2</th>\n",
       "      <td>예비</td>\n",
       "      <td>36</td>\n",
       "    </tr>\n",
       "    <tr>\n",
       "      <th>106</th>\n",
       "      <td>만삭</td>\n",
       "      <td>32</td>\n",
       "    </tr>\n",
       "    <tr>\n",
       "      <th>39</th>\n",
       "      <td>부부</td>\n",
       "      <td>31</td>\n",
       "    </tr>\n",
       "    <tr>\n",
       "      <th>52</th>\n",
       "      <td>제주도</td>\n",
       "      <td>30</td>\n",
       "    </tr>\n",
       "  </tbody>\n",
       "</table>\n",
       "</div>"
      ],
      "text/plain": [
       "     name  cnt\n",
       "4    태교여행  216\n",
       "29     여행  202\n",
       "57     그램  113\n",
       "56     스타   89\n",
       "19    임산부   64\n",
       "44     제주   39\n",
       "2      예비   36\n",
       "106    만삭   32\n",
       "39     부부   31\n",
       "52    제주도   30"
      ]
     },
     "execution_count": 472,
     "metadata": {},
     "output_type": "execute_result"
    }
   ],
   "source": [
    "freq5"
   ]
  },
  {
   "cell_type": "code",
   "execution_count": 477,
   "metadata": {
    "ExecuteTime": {
     "end_time": "2020-09-18T13:28:48.469001Z",
     "start_time": "2020-09-18T13:28:48.267540Z"
    }
   },
   "outputs": [
    {
     "data": {
      "text/plain": [
       "<BarContainer object of 10 artists>"
      ]
     },
     "execution_count": 477,
     "metadata": {},
     "output_type": "execute_result"
    },
    {
     "data": {
      "image/png": "[encoded data removed]",
      "text/plain": [
       "<Figure size 720x360 with 1 Axes>"
      ]
     },
     "metadata": {
      "needs_background": "light"
     },
     "output_type": "display_data"
    }
   ],
   "source": [
    "plt.figure(figsize=(10,5))\n",
    "plt.bar(freq5['name'], freq5['cnt'])\n"
   ]
  },
  {
   "cell_type": "markdown",
   "metadata": {},
   "source": [
    "## 전처리된 데이터를 이용해 워드클라우드를 작성하고 인사이트를 추출하시오."
   ]
  },
  {
   "cell_type": "code",
   "execution_count": 480,
   "metadata": {
    "ExecuteTime": {
     "end_time": "2020-09-18T13:29:50.245675Z",
     "start_time": "2020-09-18T13:29:50.179850Z"
    }
   },
   "outputs": [],
   "source": [
    "from wordcloud import WordCloud\n",
    "import matplotlib.pyplot as plt\n",
    "%matplotlib inline"
   ]
  },
  {
   "cell_type": "code",
   "execution_count": 505,
   "metadata": {
    "ExecuteTime": {
     "end_time": "2020-09-18T13:41:29.095650Z",
     "start_time": "2020-09-18T13:41:29.028829Z"
    }
   },
   "outputs": [],
   "source": [
    "freq4 = freq4.reset_index(drop=True)\n",
    "freq4 = freq4[freq4['cnt']>=20]"
   ]
  },
  {
   "cell_type": "code",
   "execution_count": 506,
   "metadata": {
    "ExecuteTime": {
     "end_time": "2020-09-18T13:41:29.959339Z",
     "start_time": "2020-09-18T13:41:29.953355Z"
    }
   },
   "outputs": [],
   "source": [
    "text = {}\n",
    "for i in range(len(freq4)):\n",
    "    text[freq4['name'][i]] = freq4['cnt'][i]"
   ]
  },
  {
   "cell_type": "code",
   "execution_count": 507,
   "metadata": {
    "ExecuteTime": {
     "end_time": "2020-09-18T13:41:30.608603Z",
     "start_time": "2020-09-18T13:41:30.523830Z"
    }
   },
   "outputs": [],
   "source": [
    "# Generate a word cloud image\n",
    "font_path = 'c:/Windows/Fonts/malgun.ttf'\n",
    "wordcloud = WordCloud(max_font_size=100, \n",
    "                     font_path=font_path).generate_from_frequencies(text)"
   ]
  },
  {
   "cell_type": "code",
   "execution_count": 508,
   "metadata": {
    "ExecuteTime": {
     "end_time": "2020-09-18T13:41:31.132211Z",
     "start_time": "2020-09-18T13:41:30.969638Z"
    }
   },
   "outputs": [
    {
     "data": {
      "text/plain": [
       "(-0.5, 399.5, 199.5, -0.5)"
      ]
     },
     "execution_count": 508,
     "metadata": {},
     "output_type": "execute_result"
    },
    {
     "data": {
      "image/png": "[encoded data removed]",
      "text/plain": [
       "<Figure size 720x720 with 1 Axes>"
      ]
     },
     "metadata": {
      "needs_background": "light"
     },
     "output_type": "display_data"
    }
   ],
   "source": [
    "fig = plt.figure(figsize=(10,10))\n",
    "plt.imshow(wordcloud, interpolation='bilinear')\n",
    "plt.axis('off')"
   ]
  },
  {
   "cell_type": "code",
   "execution_count": null,
   "metadata": {},
   "outputs": [],
   "source": []
  }
 ],
 "metadata": {
  "kernelspec": {
   "display_name": "Python 3",
   "language": "python",
   "name": "python3"
  },
  "language_info": {
   "codemirror_mode": {
    "name": "ipython",
    "version": 3
   },
   "file_extension": ".py",
   "mimetype": "text/x-python",
   "name": "python",
   "nbconvert_exporter": "python",
   "pygments_lexer": "ipython3",
   "version": "3.7.4"
  },
  "toc": {
   "base_numbering": 1,
   "nav_menu": {},
   "number_sections": true,
   "sideBar": true,
   "skip_h1_title": false,
   "title_cell": "Table of Contents",
   "title_sidebar": "Contents",
   "toc_cell": false,
   "toc_position": {
    "height": "calc(100% - 180px)",
    "left": "10px",
    "top": "150px",
    "width": "1058px"
   },
   "toc_section_display": true,
   "toc_window_display": true
  },
  "varInspector": {
   "cols": {
    "lenName": 16,
    "lenType": 16,
    "lenVar": 40
   },
   "kernels_config": {
    "python": {
     "delete_cmd_postfix": "",
     "delete_cmd_prefix": "del ",
     "library": "var_list.py",
     "varRefreshCmd": "print(var_dic_list())"
    },
    "r": {
     "delete_cmd_postfix": ") ",
     "delete_cmd_prefix": "rm(",
     "library": "var_list.r",
     "varRefreshCmd": "cat(var_dic_list()) "
    }
   },
   "types_to_exclude": [
    "module",
    "function",
    "builtin_function_or_method",
    "instance",
    "_Feature"
   ],
   "window_display": false
  }
 },
 "nbformat": 4,
 "nbformat_minor": 2
}
