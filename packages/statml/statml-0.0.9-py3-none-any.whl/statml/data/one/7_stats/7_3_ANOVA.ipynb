{
 "cells": [
  {
   "cell_type": "markdown",
   "id": "49b02135",
   "metadata": {
    "toc": true
   },
   "source": [
    "<h1>Table of Contents<span class=\"tocSkip\"></span></h1>\n",
    "<div class=\"toc\"><ul class=\"toc-item\"><li><span><a href=\"#일원배치-분산분석\" data-toc-modified-id=\"일원배치-분산분석-1\"><span class=\"toc-item-num\">1&nbsp;&nbsp;</span>일원배치 분산분석</a></span></li><li><span><a href=\"#이원배치-분산분석\" data-toc-modified-id=\"이원배치-분산분석-2\"><span class=\"toc-item-num\">2&nbsp;&nbsp;</span>이원배치 분산분석</a></span></li></ul></div>"
   ]
  },
  {
   "cell_type": "markdown",
   "id": "ab6e25e6",
   "metadata": {},
   "source": [
    "# 일원배치 분산분석"
   ]
  },
  {
   "cell_type": "code",
   "execution_count": null,
   "id": "d61f77e0",
   "metadata": {},
   "outputs": [],
   "source": [
    "import scipy.stats as stats  \n",
    "import pandas as pd\n",
    "Iris_data = pd.read_csv(\"../data/iris.csv\")\n",
    "Iris_data.head(100)\n"
   ]
  },
  {
   "cell_type": "code",
   "execution_count": null,
   "id": "c1929fda",
   "metadata": {},
   "outputs": [],
   "source": [
    "Iris_data[\"target\"].unique()"
   ]
  },
  {
   "cell_type": "code",
   "execution_count": null,
   "id": "6b3e5326",
   "metadata": {},
   "outputs": [],
   "source": [
    "Iris_data.target.value_counts()"
   ]
  },
  {
   "cell_type": "code",
   "execution_count": null,
   "id": "4240fe86",
   "metadata": {},
   "outputs": [],
   "source": [
    "target_list = Iris_data[\"target\"].unique()\n",
    "setosa = Iris_data[Iris_data[\"target\"]==target_list[0]][\"sepal width\"]\n",
    "versicolor = Iris_data[Iris_data[\"target\"]==target_list[1]][\"sepal width\"]\n",
    "virginica = Iris_data[Iris_data[\"target\"]==target_list[2]][\"sepal width\"]\n",
    "print(target_list)\n"
   ]
  },
  {
   "cell_type": "code",
   "execution_count": null,
   "id": "b9a9a577",
   "metadata": {
    "scrolled": true
   },
   "outputs": [],
   "source": [
    "import seaborn as sns\n",
    "import matplotlib.pyplot as plt\n",
    "# Scatter plot by Groups\n",
    "sns.scatterplot(x='target', \n",
    "                y='sepal width', \n",
    "                hue='target', # different colors by group\n",
    "                style='target', # different shapes by group\n",
    "                s=100, # marker size\n",
    "                data=Iris_data)\n",
    "plt.show()\n"
   ]
  },
  {
   "cell_type": "code",
   "execution_count": null,
   "id": "e0e31505",
   "metadata": {},
   "outputs": [],
   "source": [
    "print(stats.shapiro(setosa))\n",
    "print(stats.shapiro(versicolor))\n",
    "print(stats.shapiro(virginica))\n"
   ]
  },
  {
   "cell_type": "code",
   "execution_count": null,
   "id": "da45ccce",
   "metadata": {},
   "outputs": [],
   "source": [
    "stats.levene(setosa,versicolor,virginica)"
   ]
  },
  {
   "cell_type": "code",
   "execution_count": null,
   "id": "646f2ecf",
   "metadata": {},
   "outputs": [],
   "source": [
    "stats.f_oneway(setosa,versicolor,virginica)"
   ]
  },
  {
   "cell_type": "code",
   "execution_count": null,
   "id": "9b5d70ef",
   "metadata": {},
   "outputs": [],
   "source": [
    "from statsmodels.stats.multicomp import pairwise_tukeyhsd\n",
    "from statsmodels.stats.multicomp import MultiComparison\n",
    "mc = MultiComparison(data= Iris_data[\"sepal width\"], groups=Iris_data[\"target\"] )\n",
    "tuekeyhsd = mc.tukeyhsd(alpha=0.05)\n",
    "fig = tuekeyhsd.plot_simultaneous()\n"
   ]
  },
  {
   "cell_type": "code",
   "execution_count": null,
   "id": "e84977be",
   "metadata": {},
   "outputs": [],
   "source": [
    "tuekeyhsd.summary()"
   ]
  },
  {
   "cell_type": "code",
   "execution_count": null,
   "id": "f79238cf",
   "metadata": {},
   "outputs": [],
   "source": [
    "stats.kruskal(setosa,versicolor,virginica)"
   ]
  },
  {
   "cell_type": "code",
   "execution_count": null,
   "id": "aec01ad4",
   "metadata": {},
   "outputs": [],
   "source": [
    "# pip install pingouin \n",
    "# conda install pingouin\n",
    "import pingouin as pg\n",
    "pg.welch_anova(data = Iris_data, dv ='sepal width', between='target')\n"
   ]
  },
  {
   "cell_type": "markdown",
   "id": "329add92",
   "metadata": {},
   "source": [
    "# 이원배치 분산분석"
   ]
  },
  {
   "cell_type": "code",
   "execution_count": null,
   "id": "15a828e8",
   "metadata": {},
   "outputs": [],
   "source": [
    "# 데이터 불러오기\n",
    "import pandas as pd\n",
    "mtcars = pd.read_csv('../data/mtcars.csv')\n",
    "mtcars.head()\n"
   ]
  },
  {
   "cell_type": "code",
   "execution_count": null,
   "id": "1243d74f",
   "metadata": {},
   "outputs": [],
   "source": [
    "## cyl, am, mpg 변수들로만 구성된 분석용 데이터셋 생성 \n",
    "mtcars = mtcars[[\"mpg\",\"am\",\"cyl\"]]\n",
    "mtcars.info()\n"
   ]
  },
  {
   "cell_type": "code",
   "execution_count": null,
   "id": "3a0f5d84",
   "metadata": {},
   "outputs": [],
   "source": [
    "## 분산분석 수행 \n",
    "from statsmodels.formula.api import ols\n",
    "from statsmodels.stats.anova import anova_lm\n",
    "\n",
    "formula = 'mpg ~ C(cyl) + C(am) + C(cyl):C(am)'\n",
    "model = ols(formula, mtcars).fit()\n",
    "aov_table = anova_lm(model, typ=2)\n",
    "aov_table\n"
   ]
  },
  {
   "cell_type": "code",
   "execution_count": null,
   "id": "1aa44f20",
   "metadata": {},
   "outputs": [],
   "source": [
    "from statsmodels.graphics.factorplots import interaction_plot\n",
    "import matplotlib.pyplot as plt\n",
    "\n",
    "## 독립변수 cyl,am와 종속변수 mpg을 Series로 변경 \n",
    "cyl = mtcars[\"cyl\"]\n",
    "am = mtcars[\"am\"]\n",
    "mpg = mtcars[\"mpg\"]\n",
    "\n",
    "fig, ax = plt.subplots(figsize=(6, 6))\n",
    "fig = interaction_plot(cyl,am, mpg,\n",
    "                       colors=['red', 'blue'], markers=['D', '^'], ms=10, ax=ax)\n"
   ]
  },
  {
   "cell_type": "code",
   "execution_count": null,
   "id": "59976d79",
   "metadata": {},
   "outputs": [],
   "source": []
  }
 ],
 "metadata": {
  "kernelspec": {
   "display_name": "Python 3 (ipykernel)",
   "language": "python",
   "name": "python3"
  },
  "language_info": {
   "codemirror_mode": {
    "name": "ipython",
    "version": 3
   },
   "file_extension": ".py",
   "mimetype": "text/x-python",
   "name": "python",
   "nbconvert_exporter": "python",
   "pygments_lexer": "ipython3",
   "version": "3.7.16"
  },
  "toc": {
   "base_numbering": 1,
   "nav_menu": {},
   "number_sections": true,
   "sideBar": true,
   "skip_h1_title": false,
   "title_cell": "Table of Contents",
   "title_sidebar": "Contents",
   "toc_cell": true,
   "toc_position": {},
   "toc_section_display": true,
   "toc_window_display": true
  }
 },
 "nbformat": 4,
 "nbformat_minor": 5
}
