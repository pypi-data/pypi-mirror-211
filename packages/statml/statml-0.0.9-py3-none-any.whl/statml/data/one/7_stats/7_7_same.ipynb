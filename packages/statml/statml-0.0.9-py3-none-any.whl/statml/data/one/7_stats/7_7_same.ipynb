{
 "cells": [
  {
   "cell_type": "markdown",
   "id": "e119cbed",
   "metadata": {
    "toc": true
   },
   "source": [
    "<h1>Table of Contents<span class=\"tocSkip\"></span></h1>\n",
    "<div class=\"toc\"><ul class=\"toc-item\"></ul></div>"
   ]
  },
  {
   "cell_type": "code",
   "execution_count": null,
   "id": "1ad4bbbe",
   "metadata": {},
   "outputs": [],
   "source": [
    "import pandas as pd \n",
    "data = ['a','a','b','b','a','a','a','a','b','b','b','b','b','a','a','b','b','a','b','b']\n",
    "test_df = pd.DataFrame(data,columns=[\"product\"])\n",
    "test_df.head()\n"
   ]
  },
  {
   "cell_type": "code",
   "execution_count": null,
   "id": "b4a03cf7",
   "metadata": {},
   "outputs": [],
   "source": [
    "\n",
    "from statsmodels.sandbox.stats.runs import runstest_1samp\n",
    "\n",
    "#Run-test를 위한 데이터 변환 \n",
    "test_df.loc[test_df['product']=='a','product'] =1\n",
    "test_df.loc[test_df['product']=='b','product'] =0\n",
    "\n",
    "#Perform Runs test\n",
    "# - run-test의 귀무가설 : 연속적인 관측값이 임의적이다. \n",
    "# - run-test의 대립가설 : 연속적인 관측값이 임의적이 아니다\n",
    "runstest_1samp(test_df['product'],cutoff =0.5 , correction=True)\n"
   ]
  },
  {
   "cell_type": "code",
   "execution_count": null,
   "id": "a4c3e6bd",
   "metadata": {},
   "outputs": [],
   "source": [
    "import pandas as pd\n",
    "from mlxtend.preprocessing import TransactionEncoder\n",
    "dataset = [['Apple', 'Beer', 'Rice', 'Chicken'],\n",
    "           ['Apple', 'Beer', 'Rice'],\n",
    "           ['Apple', 'Beer'],\n",
    "           ['Apple', 'Bananas'],\n",
    "           ['Milk', 'Beer', 'Rice', 'Chicken'],\n",
    "           ['Milk', 'Beer', 'Rice'],\n",
    "           ['Milk', 'Beer'],\n",
    "           ['Apple', 'Bananas']]\n",
    "te = TransactionEncoder()\n",
    "te_ary = te.fit_transform(dataset)\n",
    "print(te.columns_)\n",
    "te_ary\n"
   ]
  },
  {
   "cell_type": "code",
   "execution_count": null,
   "id": "20d26223",
   "metadata": {},
   "outputs": [],
   "source": [
    "df = pd.DataFrame(te_ary,columns = te.columns_)\n",
    "df\n"
   ]
  },
  {
   "cell_type": "code",
   "execution_count": null,
   "id": "36b13293",
   "metadata": {},
   "outputs": [],
   "source": [
    "## 지지도 60 % 이상인 품목만 추출 \n",
    "from mlxtend.frequent_patterns import apriori\n",
    "apriori(df, min_support=0.6, use_colnames=True)\n"
   ]
  },
  {
   "cell_type": "code",
   "execution_count": null,
   "id": "95087960",
   "metadata": {},
   "outputs": [],
   "source": [
    "## 규칙의 길이를 추출하는 방법 \n",
    "frequent_itemsets = apriori(df, min_support=0.3, use_colnames=True)\n",
    "frequent_itemsets['length'] = frequent_itemsets['itemsets'].apply(lambda x: len(x))\n",
    "frequent_itemsets\n"
   ]
  },
  {
   "cell_type": "code",
   "execution_count": null,
   "id": "6ffeb99b",
   "metadata": {},
   "outputs": [],
   "source": []
  },
  {
   "cell_type": "code",
   "execution_count": null,
   "id": "d2c3ea53",
   "metadata": {},
   "outputs": [],
   "source": []
  },
  {
   "cell_type": "code",
   "execution_count": null,
   "id": "96063c4d",
   "metadata": {},
   "outputs": [],
   "source": []
  },
  {
   "cell_type": "code",
   "execution_count": null,
   "id": "eb24ad82",
   "metadata": {},
   "outputs": [],
   "source": [
    "df= pd.read_csv('../data/groceries.csv',)\n",
    "df\n"
   ]
  },
  {
   "cell_type": "code",
   "execution_count": null,
   "id": "ed4e5c03",
   "metadata": {},
   "outputs": [],
   "source": [
    "df_split = df.iloc[:,0].str.split(',',expand=True)\n",
    "df_split.values\n"
   ]
  },
  {
   "cell_type": "code",
   "execution_count": null,
   "id": "eb0b1e87",
   "metadata": {},
   "outputs": [],
   "source": [
    "df_split_ary = df_split.values\n",
    "groceries = []\n",
    "for i in range(len(df_split_ary)) : \n",
    "    temp = list(filter(None,df_split_ary[i]))\n",
    "    groceries.append(temp)\n",
    "    \n",
    "groceries\n"
   ]
  },
  {
   "cell_type": "code",
   "execution_count": null,
   "id": "7d04ce26",
   "metadata": {},
   "outputs": [],
   "source": [
    "from mlxtend.preprocessing import TransactionEncoder\n",
    "import pandas as pd\n",
    "te = TransactionEncoder()\n",
    "groceries_tr = te.fit(groceries).transform(groceries)\n",
    "groceries_tr = pd.DataFrame(groceries_tr, columns=te.columns_)\n",
    "groceries_tr\n"
   ]
  },
  {
   "cell_type": "code",
   "execution_count": null,
   "id": "13c76c3f",
   "metadata": {},
   "outputs": [],
   "source": [
    "from mlxtend.frequent_patterns import apriori\n",
    "# 지지도가 5% 이상인 빈번 항목 집합 탐색\n",
    "\n",
    "groceries_ap = apriori(groceries_tr, min_support=0.01, use_colnames=True)\n",
    "groceries_ap\n"
   ]
  },
  {
   "cell_type": "code",
   "execution_count": null,
   "id": "004296be",
   "metadata": {},
   "outputs": [],
   "source": [
    "from mlxtend.frequent_patterns import association_rules\n",
    "# 신뢰도가 0.3 이상인 빈번 항목 집합 탐색\n",
    "association_rules(groceries_ap, metric=\"confidence\", min_threshold=0.3)\n"
   ]
  },
  {
   "cell_type": "code",
   "execution_count": null,
   "id": "9e7839a2",
   "metadata": {},
   "outputs": [],
   "source": [
    "rules = association_rules(groceries_ap, metric=\"lift\", min_threshold=1)\n",
    "# 규칙의 길이 컬럼 생성 \n",
    "rules[\"antecedent_len\"] = rules[\"antecedents\"].apply(lambda x: len(x))\n",
    "rules[ (rules['antecedent_len'] >=2) &\n",
    "       (rules['confidence'] >=0.4) &\n",
    "       (rules['lift'] >=3) ]\n"
   ]
  },
  {
   "cell_type": "code",
   "execution_count": null,
   "id": "1306d282",
   "metadata": {},
   "outputs": [],
   "source": []
  }
 ],
 "metadata": {
  "kernelspec": {
   "display_name": "Python 3 (ipykernel)",
   "language": "python",
   "name": "python3"
  },
  "language_info": {
   "codemirror_mode": {
    "name": "ipython",
    "version": 3
   },
   "file_extension": ".py",
   "mimetype": "text/x-python",
   "name": "python",
   "nbconvert_exporter": "python",
   "pygments_lexer": "ipython3",
   "version": "3.7.16"
  },
  "toc": {
   "base_numbering": 1,
   "nav_menu": {},
   "number_sections": true,
   "sideBar": true,
   "skip_h1_title": false,
   "title_cell": "Table of Contents",
   "title_sidebar": "Contents",
   "toc_cell": true,
   "toc_position": {},
   "toc_section_display": true,
   "toc_window_display": true
  }
 },
 "nbformat": 4,
 "nbformat_minor": 5
}
