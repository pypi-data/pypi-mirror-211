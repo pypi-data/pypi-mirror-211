{
 "cells": [
  {
   "cell_type": "code",
   "execution_count": null,
   "id": "785ea279",
   "metadata": {
    "colab": {
     "base_uri": "https://localhost:8080/",
     "height": 237
    },
    "executionInfo": {
     "elapsed": 552,
     "status": "ok",
     "timestamp": 1651059870871,
     "user": {
      "displayName": "양여진",
      "userId": "00702759979750743808"
     },
     "user_tz": -540
    },
    "id": "01f6561e",
    "outputId": "99ca4579-4fb4-4d9b-a984-b380352d0707"
   },
   "outputs": [],
   "source": [
    "import pandas as pd\n",
    "students = pd.DataFrame({'이름':['장화','홍련','콩쥐','팥쥐','해님','달님'], \n",
    "                         '국어': [70, 85, None, 100, None, 85], \n",
    "                         '수학':[65, 100, 80, 95, None, 70]})\n",
    "students"
   ]
  },
  {
   "cell_type": "code",
   "execution_count": null,
   "id": "1455352b",
   "metadata": {
    "colab": {
     "base_uri": "https://localhost:8080/",
     "height": 81
    },
    "executionInfo": {
     "elapsed": 156,
     "status": "ok",
     "timestamp": 1651059870874,
     "user": {
      "displayName": "양여진",
      "userId": "00702759979750743808"
     },
     "user_tz": -540
    },
    "id": "ccf5fa33",
    "outputId": "10fe4114-2edd-4de1-fdb5-e135f91f9be9"
   },
   "outputs": [],
   "source": [
    "students[students['이름'] == '장화']"
   ]
  },
  {
   "cell_type": "code",
   "execution_count": null,
   "id": "b4016a7f",
   "metadata": {
    "colab": {
     "base_uri": "https://localhost:8080/",
     "height": 112
    },
    "executionInfo": {
     "elapsed": 151,
     "status": "ok",
     "timestamp": 1651059870875,
     "user": {
      "displayName": "양여진",
      "userId": "00702759979750743808"
     },
     "user_tz": -540
    },
    "id": "b04263b1",
    "outputId": "ac4fe523-f3f9-4b0b-cd72-3b3022d37e83"
   },
   "outputs": [],
   "source": [
    "students[(students['국어'] >=80) & (students['수학'] >=80)]"
   ]
  },
  {
   "cell_type": "code",
   "execution_count": null,
   "id": "cbcb0c5b",
   "metadata": {
    "colab": {
     "base_uri": "https://localhost:8080/",
     "height": 269
    },
    "executionInfo": {
     "elapsed": 148,
     "status": "ok",
     "timestamp": 1651059870876,
     "user": {
      "displayName": "양여진",
      "userId": "00702759979750743808"
     },
     "user_tz": -540
    },
    "id": "ebfe5e3c",
    "outputId": "17e242bd-42e0-4b3d-8139-b0275f239dfa"
   },
   "outputs": [],
   "source": [
    "students.loc[6, '이름':'수학'] = ['별님', 50, 60] \n",
    "students.loc[(students['국어']>=80)&(students['수학']>=70), '합격'] = 'Pass'\n",
    "students.loc[students['합격']!='Pass', '합격'] = 'Fail'\n",
    "students"
   ]
  },
  {
   "cell_type": "code",
   "execution_count": null,
   "id": "0ee51caa",
   "metadata": {
    "colab": {
     "base_uri": "https://localhost:8080/",
     "height": 269
    },
    "executionInfo": {
     "elapsed": 144,
     "status": "ok",
     "timestamp": 1651059870878,
     "user": {
      "displayName": "양여진",
      "userId": "00702759979750743808"
     },
     "user_tz": -540
    },
    "id": "29fbf30b",
    "outputId": "bb1d3c27-5e9a-43b2-d1d7-55286c079536"
   },
   "outputs": [],
   "source": [
    "import numpy as np\n",
    "condition_list = [(students['국어'] >= 90),\n",
    "                 (students['국어'] >= 80) & (students['국어'] < 90),\n",
    "                 (students['국어'] >= 70) & (students['국어'] < 80)]\n",
    "choice_list = ['A', 'B', 'C']\n",
    "\n",
    "students['점수'] = np.select(condition_list, choice_list, default='F')\n",
    "students"
   ]
  },
  {
   "cell_type": "code",
   "execution_count": null,
   "id": "75201cb8",
   "metadata": {
    "colab": {
     "base_uri": "https://localhost:8080/",
     "height": 269
    },
    "executionInfo": {
     "elapsed": 139,
     "status": "ok",
     "timestamp": 1651059870880,
     "user": {
      "displayName": "양여진",
      "userId": "00702759979750743808"
     },
     "user_tz": -540
    },
    "id": "29481eed",
    "outputId": "18ac8c9e-38b8-4440-e2f6-26fa3c38dc12"
   },
   "outputs": [],
   "source": [
    "students.isna()"
   ]
  },
  {
   "cell_type": "code",
   "execution_count": null,
   "id": "226633b9",
   "metadata": {
    "colab": {
     "base_uri": "https://localhost:8080/",
     "height": 269
    },
    "executionInfo": {
     "elapsed": 137,
     "status": "ok",
     "timestamp": 1651059870881,
     "user": {
      "displayName": "양여진",
      "userId": "00702759979750743808"
     },
     "user_tz": -540
    },
    "id": "8e2cccff",
    "outputId": "d9a14e8d-e77b-497f-e60c-2acfef555df7"
   },
   "outputs": [],
   "source": [
    "students.notna()"
   ]
  },
  {
   "cell_type": "code",
   "execution_count": null,
   "id": "4cc5b38d",
   "metadata": {
    "colab": {
     "base_uri": "https://localhost:8080/"
    },
    "executionInfo": {
     "elapsed": 134,
     "status": "ok",
     "timestamp": 1651059870882,
     "user": {
      "displayName": "양여진",
      "userId": "00702759979750743808"
     },
     "user_tz": -540
    },
    "id": "8c821da9",
    "outputId": "a6339bf4-85f7-48e7-fec5-6d11f350fce9"
   },
   "outputs": [],
   "source": [
    "students.isna().sum()"
   ]
  },
  {
   "cell_type": "code",
   "execution_count": null,
   "id": "17633228",
   "metadata": {
    "colab": {
     "base_uri": "https://localhost:8080/"
    },
    "executionInfo": {
     "elapsed": 119,
     "status": "ok",
     "timestamp": 1651059870883,
     "user": {
      "displayName": "양여진",
      "userId": "00702759979750743808"
     },
     "user_tz": -540
    },
    "id": "d2642d05",
    "outputId": "e58507a7-ce9e-43d4-e617-dedc17a79ea4"
   },
   "outputs": [],
   "source": [
    "students.isna().sum(1)"
   ]
  },
  {
   "cell_type": "code",
   "execution_count": null,
   "id": "eff3d3d5",
   "metadata": {
    "colab": {
     "base_uri": "https://localhost:8080/",
     "height": 206
    },
    "executionInfo": {
     "elapsed": 116,
     "status": "ok",
     "timestamp": 1651059870884,
     "user": {
      "displayName": "양여진",
      "userId": "00702759979750743808"
     },
     "user_tz": -540
    },
    "id": "c53db541",
    "outputId": "b194c26d-b976-45cf-9038-6ec6ba6edbc9"
   },
   "outputs": [],
   "source": [
    "students.dropna()"
   ]
  },
  {
   "cell_type": "code",
   "execution_count": null,
   "id": "ad01e047",
   "metadata": {
    "colab": {
     "base_uri": "https://localhost:8080/",
     "height": 237
    },
    "executionInfo": {
     "elapsed": 98,
     "status": "ok",
     "timestamp": 1651059871312,
     "user": {
      "displayName": "양여진",
      "userId": "00702759979750743808"
     },
     "user_tz": -540
    },
    "id": "4efba030",
    "outputId": "d5aa70c1-e09d-4180-c1b5-a13303af9768"
   },
   "outputs": [],
   "source": [
    "students.dropna(thresh=4)"
   ]
  },
  {
   "cell_type": "code",
   "execution_count": null,
   "id": "070c244e",
   "metadata": {
    "colab": {
     "base_uri": "https://localhost:8080/",
     "height": 269
    },
    "executionInfo": {
     "elapsed": 96,
     "status": "ok",
     "timestamp": 1651059871313,
     "user": {
      "displayName": "양여진",
      "userId": "00702759979750743808"
     },
     "user_tz": -540
    },
    "id": "52f3029d",
    "outputId": "5f59bc0c-6298-40ed-ae60-1fc71bc2f49c"
   },
   "outputs": [],
   "source": [
    "students.fillna(value=0)"
   ]
  },
  {
   "cell_type": "code",
   "execution_count": null,
   "id": "fb79ac63",
   "metadata": {
    "colab": {
     "base_uri": "https://localhost:8080/",
     "height": 237
    },
    "executionInfo": {
     "elapsed": 95,
     "status": "ok",
     "timestamp": 1651059871314,
     "user": {
      "displayName": "양여진",
      "userId": "00702759979750743808"
     },
     "user_tz": -540
    },
    "id": "dccc3baa",
    "outputId": "06ed70ee-0347-475e-ce24-e5f689bc3c5d"
   },
   "outputs": [],
   "source": [
    "health = pd.DataFrame({'연도':[2017, 2018, 2019, 2020, 2021, 2022], \n",
    "                       '키': [160, 162, 165, None, None, 166],\n",
    "                       '몸무게': [53, 52, None, 50, 51, 54],\n",
    "                       '시력': [1.2, None, 1.2, 1.2, 1.1, 0.8],\n",
    "                       '병결': [None, None, None, 2, None, 1]})\n",
    "health"
   ]
  },
  {
   "cell_type": "code",
   "execution_count": null,
   "id": "d5f928fc",
   "metadata": {
    "colab": {
     "base_uri": "https://localhost:8080/",
     "height": 237
    },
    "executionInfo": {
     "elapsed": 92,
     "status": "ok",
     "timestamp": 1651059871315,
     "user": {
      "displayName": "양여진",
      "userId": "00702759979750743808"
     },
     "user_tz": -540
    },
    "id": "a5530006",
    "outputId": "aa9f2a85-e462-4d66-f180-092f97a80f21"
   },
   "outputs": [],
   "source": [
    "health.fillna(0)"
   ]
  },
  {
   "cell_type": "code",
   "execution_count": null,
   "id": "32d1ffd3",
   "metadata": {
    "colab": {
     "base_uri": "https://localhost:8080/",
     "height": 237
    },
    "executionInfo": {
     "elapsed": 90,
     "status": "ok",
     "timestamp": 1651059871317,
     "user": {
      "displayName": "양여진",
      "userId": "00702759979750743808"
     },
     "user_tz": -540
    },
    "id": "9fab1f50",
    "outputId": "3fd1375f-5f3d-4cbf-9ac6-e53c6d1118e6"
   },
   "outputs": [],
   "source": [
    "health.fillna(health.mean())"
   ]
  },
  {
   "cell_type": "code",
   "execution_count": null,
   "id": "ff7cd127",
   "metadata": {
    "colab": {
     "base_uri": "https://localhost:8080/",
     "height": 237
    },
    "executionInfo": {
     "elapsed": 88,
     "status": "ok",
     "timestamp": 1651059871318,
     "user": {
      "displayName": "양여진",
      "userId": "00702759979750743808"
     },
     "user_tz": -540
    },
    "id": "28560db1",
    "outputId": "ee9d8f8b-134d-4ce3-a2a5-342cf8b5da7d"
   },
   "outputs": [],
   "source": [
    "health['병결'] = health['병결'].fillna(0)\n",
    "health['몸무게'] = health['몸무게'].fillna(health['몸무게'].mean())\n",
    "health"
   ]
  },
  {
   "cell_type": "code",
   "execution_count": null,
   "id": "7be69079",
   "metadata": {
    "colab": {
     "base_uri": "https://localhost:8080/",
     "height": 237
    },
    "executionInfo": {
     "elapsed": 87,
     "status": "ok",
     "timestamp": 1651059871319,
     "user": {
      "displayName": "양여진",
      "userId": "00702759979750743808"
     },
     "user_tz": -540
    },
    "id": "499ebe6f",
    "outputId": "0ab77833-86e4-4cb0-ef80-418677157e8e"
   },
   "outputs": [],
   "source": [
    "health.fillna(method='pad', inplace=True)\n",
    "health"
   ]
  },
  {
   "cell_type": "code",
   "execution_count": null,
   "id": "c8784bd7",
   "metadata": {
    "colab": {
     "base_uri": "https://localhost:8080/"
    },
    "executionInfo": {
     "elapsed": 380,
     "status": "ok",
     "timestamp": 1651060987668,
     "user": {
      "displayName": "양여진",
      "userId": "00702759979750743808"
     },
     "user_tz": -540
    },
    "id": "67b04b34",
    "outputId": "173fd317-9ea0-4018-eb5d-5359845c50b8"
   },
   "outputs": [],
   "source": [
    "health['키'].drop_duplicates().tolist()"
   ]
  },
  {
   "cell_type": "code",
   "execution_count": null,
   "id": "5c001b17",
   "metadata": {
    "colab": {
     "base_uri": "https://localhost:8080/"
    },
    "executionInfo": {
     "elapsed": 346,
     "status": "ok",
     "timestamp": 1651060554517,
     "user": {
      "displayName": "양여진",
      "userId": "00702759979750743808"
     },
     "user_tz": -540
    },
    "id": "SQefk8qA4HtK",
    "outputId": "21114090-c60b-4ecd-f3f1-abe4cac0c056"
   },
   "outputs": [],
   "source": [
    "set(health['키'])"
   ]
  },
  {
   "cell_type": "code",
   "execution_count": null,
   "id": "e66da335",
   "metadata": {
    "colab": {
     "base_uri": "https://localhost:8080/",
     "height": 175
    },
    "executionInfo": {
     "elapsed": 542,
     "status": "ok",
     "timestamp": 1651059977074,
     "user": {
      "displayName": "양여진",
      "userId": "00702759979750743808"
     },
     "user_tz": -540
    },
    "id": "BghjL53M136I",
    "outputId": "da181827-0cdd-4b1c-d4aa-a18618e7b054"
   },
   "outputs": [],
   "source": [
    "health[['시력','병결']].drop_duplicates()"
   ]
  }
 ],
 "metadata": {
  "colab": {
   "name": "Ch2-4.ipynb",
   "provenance": []
  },
  "kernelspec": {
   "display_name": "Python 3 (ipykernel)",
   "language": "python",
   "name": "python3"
  },
  "language_info": {
   "codemirror_mode": {
    "name": "ipython",
    "version": 3
   },
   "file_extension": ".py",
   "mimetype": "text/x-python",
   "name": "python",
   "nbconvert_exporter": "python",
   "pygments_lexer": "ipython3",
   "version": "3.7.16"
  }
 },
 "nbformat": 4,
 "nbformat_minor": 5
}
