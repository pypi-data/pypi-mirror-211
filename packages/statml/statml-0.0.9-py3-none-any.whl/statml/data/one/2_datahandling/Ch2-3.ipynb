{
 "cells": [
  {
   "cell_type": "markdown",
   "id": "0bcfbba4",
   "metadata": {
    "toc": true
   },
   "source": [
    "<h1>Table of Contents<span class=\"tocSkip\"></span></h1>\n",
    "<div class=\"toc\"><ul class=\"toc-item\"><li><span><a href=\"#1.-row/column-선택\" data-toc-modified-id=\"1.-row/column-선택-1\"><span class=\"toc-item-num\">1&nbsp;&nbsp;</span>1. row/column 선택</a></span></li><li><span><a href=\"#2.-row/column-추가\" data-toc-modified-id=\"2.-row/column-추가-2\"><span class=\"toc-item-num\">2&nbsp;&nbsp;</span>2. row/column 추가</a></span></li></ul></div>"
   ]
  },
  {
   "cell_type": "markdown",
   "id": "09e4567e",
   "metadata": {
    "id": "b833cf09"
   },
   "source": [
    "### 1. row/column 선택"
   ]
  },
  {
   "cell_type": "code",
   "execution_count": null,
   "id": "9adb665e",
   "metadata": {
    "id": "cef158fe",
    "outputId": "02865d78-3a2a-4a68-d89a-fbec162edc6a"
   },
   "outputs": [],
   "source": [
    "from sklearn.datasets import load_iris\n",
    "import pandas as pd\n",
    "\n",
    "iris = load_iris()\n",
    "iris = pd.DataFrame(iris.data, columns=iris.feature_names)\n",
    "iris[1:4]"
   ]
  },
  {
   "cell_type": "code",
   "execution_count": null,
   "id": "c4f337af",
   "metadata": {
    "id": "26d7a49e",
    "outputId": "14a68edf-fd17-46b6-a736-067e990651ef"
   },
   "outputs": [],
   "source": [
    "iris['sepal length (cm)'].head(4)"
   ]
  },
  {
   "cell_type": "code",
   "execution_count": null,
   "id": "8544e12f",
   "metadata": {
    "id": "4334e881",
    "outputId": "e9760ed3-2c5f-4999-8f29-6751effae9c5"
   },
   "outputs": [],
   "source": [
    "iris[['sepal length (cm)', 'sepal width (cm)']].head(4)"
   ]
  },
  {
   "cell_type": "code",
   "execution_count": null,
   "id": "5fe042bc",
   "metadata": {
    "id": "9fa007ce",
    "outputId": "82bab8fe-b751-460d-d562-b50a9e7b6ed6"
   },
   "outputs": [],
   "source": [
    "iris.iloc[1:4]"
   ]
  },
  {
   "cell_type": "code",
   "execution_count": null,
   "id": "5034d407",
   "metadata": {
    "id": "13c8a4ff",
    "outputId": "aec92faa-255a-452b-b066-6836221084f5"
   },
   "outputs": [],
   "source": [
    "iris.iloc[[1,3,5], 2:4]"
   ]
  },
  {
   "cell_type": "code",
   "execution_count": null,
   "id": "4996f457",
   "metadata": {
    "id": "0c822b76",
    "outputId": "aedd301d-6a1d-4094-d8a7-7e795056c6e3"
   },
   "outputs": [],
   "source": [
    "iris.iloc[:, [True, True, False, True]]"
   ]
  },
  {
   "cell_type": "code",
   "execution_count": null,
   "id": "93655601",
   "metadata": {
    "id": "33322a32",
    "outputId": "660e8dab-348d-4e3e-caa7-b91fc787531b"
   },
   "outputs": [],
   "source": [
    "iris.loc[1:3]"
   ]
  },
  {
   "cell_type": "code",
   "execution_count": null,
   "id": "0536e713",
   "metadata": {
    "id": "2834a6b6",
    "outputId": "d951980f-0a78-4301-bb35-92c53bd33288"
   },
   "outputs": [],
   "source": [
    "iris.loc[[1,2], 'sepal length (cm)':'petal length (cm)']"
   ]
  },
  {
   "cell_type": "code",
   "execution_count": null,
   "id": "0c795df8",
   "metadata": {
    "id": "ab43231c",
    "outputId": "9130e15d-9a80-4f3f-8f3c-fa3c24da4b1f"
   },
   "outputs": [],
   "source": [
    "score = pd.DataFrame({'국어': [100, 80], '수학':[75, 90], \n",
    "                      '영어':[90, 95]}, index=['장화', '홍련'])\n",
    "score"
   ]
  },
  {
   "cell_type": "code",
   "execution_count": null,
   "id": "8cf09d7f",
   "metadata": {
    "id": "cbab5959",
    "outputId": "7a190625-be6c-47ac-c087-1a03ca51dd05"
   },
   "outputs": [],
   "source": [
    "score.loc['홍련', '영어'] = 100\n",
    "score"
   ]
  },
  {
   "cell_type": "code",
   "execution_count": null,
   "id": "afde90e4",
   "metadata": {
    "id": "e0a50f8f",
    "outputId": "a0b9ce91-439a-49c4-8597-197676dd037c"
   },
   "outputs": [],
   "source": [
    "score['국어'] = score['국어'] - 5\n",
    "score"
   ]
  },
  {
   "cell_type": "markdown",
   "id": "30ac9f10",
   "metadata": {
    "id": "6ca17e95"
   },
   "source": [
    "### 2. row/column 추가"
   ]
  },
  {
   "cell_type": "code",
   "execution_count": null,
   "id": "0248c422",
   "metadata": {
    "id": "fa7d7f41",
    "outputId": "0cdb9361-2e59-44bf-ee32-e37a5441d408"
   },
   "outputs": [],
   "source": [
    "new_students = pd.DataFrame({'국어': [70, 85], '수학':[65, 100], \n",
    "                             '영어':[95, 65]}, index=['콩쥐', '팥쥐'])\n",
    "score = score.append(new_students)\n",
    "score"
   ]
  },
  {
   "cell_type": "code",
   "execution_count": null,
   "id": "219fa06a",
   "metadata": {
    "id": "b2faccf7",
    "outputId": "a555b7ba-7b6a-4e5b-88d1-b5cacd73e64e"
   },
   "outputs": [],
   "source": [
    "new_student1 = pd.Series({'국어':85, '수학':55, '영어':95}, name='해님')\n",
    "score = score.append(new_student1)\n",
    "score"
   ]
  },
  {
   "cell_type": "code",
   "execution_count": null,
   "id": "4c5076d7",
   "metadata": {
    "id": "1368e18e",
    "outputId": "b870980e-1b4f-4801-c1f5-32a03713d971"
   },
   "outputs": [],
   "source": [
    "new_student2 = {'국어':75, '수학':80, '영어':80}\n",
    "score.append(new_student2, ignore_index=True)"
   ]
  },
  {
   "cell_type": "code",
   "execution_count": null,
   "id": "b9f1efb4",
   "metadata": {
    "id": "bc7fb604",
    "outputId": "b5ba3164-d59e-4787-a380-7627694ce2bd"
   },
   "outputs": [],
   "source": [
    "science = [80, 70, 90, 85, 75]\n",
    "score['과학'] = science\n",
    "score['학년'] = 1\n",
    "score"
   ]
  },
  {
   "cell_type": "code",
   "execution_count": null,
   "id": "177a05c0",
   "metadata": {
    "id": "4ba3ed14",
    "outputId": "3675d7b9-86a3-422d-9c93-8bc5656b31a5"
   },
   "outputs": [],
   "source": [
    "score['과학'] =  score['과학'] + 5\n",
    "score['총점'] = score['국어']+score['수학']+score['영어']+score['과학']\n",
    "\n",
    "score"
   ]
  },
  {
   "cell_type": "code",
   "execution_count": null,
   "id": "00d285a0",
   "metadata": {
    "id": "76a3f1b3",
    "outputId": "8943e712-ae1f-4c35-cf4f-ba3db41f31c3"
   },
   "outputs": [],
   "source": [
    "score.drop('장화', inplace=True)\n",
    "score.drop(columns = ['과학', '학년', '총점'], inplace=True)\n",
    "score"
   ]
  }
 ],
 "metadata": {
  "colab": {
   "name": "Ch2-3.ipynb",
   "provenance": []
  },
  "kernelspec": {
   "display_name": "Python 3 (ipykernel)",
   "language": "python",
   "name": "python3"
  },
  "language_info": {
   "codemirror_mode": {
    "name": "ipython",
    "version": 3
   },
   "file_extension": ".py",
   "mimetype": "text/x-python",
   "name": "python",
   "nbconvert_exporter": "python",
   "pygments_lexer": "ipython3",
   "version": "3.7.16"
  },
  "toc": {
   "base_numbering": 1,
   "nav_menu": {},
   "number_sections": true,
   "sideBar": true,
   "skip_h1_title": false,
   "title_cell": "Table of Contents",
   "title_sidebar": "Contents",
   "toc_cell": true,
   "toc_position": {},
   "toc_section_display": true,
   "toc_window_display": true
  }
 },
 "nbformat": 4,
 "nbformat_minor": 5
}
