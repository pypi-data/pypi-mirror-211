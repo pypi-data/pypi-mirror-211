{
 "cells": [
  {
   "cell_type": "markdown",
   "id": "8a828d50",
   "metadata": {},
   "source": [
    "# 8번\n",
    "user_counts를 종속변수로 하는 데이터이다\n",
    "\n",
    "1. 분위수 회귀분석 (Quantile Regression) 을 사용하여 회귀 계수를 구하시오. (반올림하여 소수점 아래 둘째자리까지 표기하시오.)\n",
    "\n",
    "2.  1의 모델의 회귀계수를 활용하여 \n",
    "temperature : 10.5 , wind : 8.2 ,precipitation : 3.5 일때 user_counts를 예측하시오\n"
   ]
  },
  {
   "cell_type": "code",
   "execution_count": null,
   "id": "dc7b60f7",
   "metadata": {
    "scrolled": false
   },
   "outputs": [],
   "source": [
    "import pandas as pd\n",
    "import numpy as np\n",
    "\n",
    "df_user= pd.read_csv(\"https://raw.githubusercontent.com/ADPclass/ADP_book_ver01/main/data/27_problem8.csv\")\n",
    "df_user"
   ]
  },
  {
   "cell_type": "code",
   "execution_count": null,
   "id": "6e5201fc",
   "metadata": {},
   "outputs": [],
   "source": [
    "from  sklearn.linear_model import QuantileRegressor\n",
    "from sklearn.model_selection import train_test_split\n",
    "X = df_user[['temperature','wind','precipitation']]\n",
    "y = df_user['user_counts']\n",
    "\n",
    "X_train, X_test, y_train, y_test = train_test_split(X,y, test_size=0.3)\n",
    "\n",
    "model = QuantileRegressor()\n",
    "model.fit(X_train, y_train)\n",
    "\n",
    "y_pred = model.predict(X_test)\n",
    "\n"
   ]
  },
  {
   "cell_type": "code",
   "execution_count": null,
   "id": "9ac0991f",
   "metadata": {},
   "outputs": [],
   "source": [
    "model.coef_"
   ]
  },
  {
   "cell_type": "code",
   "execution_count": null,
   "id": "a3dc2853",
   "metadata": {},
   "outputs": [],
   "source": [
    "print(round(model.coef_[0],2), round(model.coef_[1],2),round(model.coef_[2],2))"
   ]
  },
  {
   "cell_type": "markdown",
   "id": "72c761ef",
   "metadata": {},
   "source": [
    "### 1.분위수 회귀분석 (Quantile Regression) 을 사용하여 회귀 계수를 구하시오. (반올림하여 소수점 아래 둘째자리까지 표기하시오.)\n",
    "\n",
    "## 정답 : [ 1.45307722e+02, -1.25938469e-08,  1.37377253e-07]\n",
    "\n",
    "\n"
   ]
  },
  {
   "cell_type": "markdown",
   "id": "77328070",
   "metadata": {},
   "source": [
    "### 2. 1의 모델의 회귀계수를 활용하여 temperature : 10.5 , wind : 8.2 ,precipitation : 3.5 일때 user_counts를 예측하시오"
   ]
  },
  {
   "cell_type": "code",
   "execution_count": null,
   "id": "3f3d560c",
   "metadata": {},
   "outputs": [],
   "source": [
    "10.5 * model.coef_[0] + 8.2*model.coef_[1] + 3.5* model.coef_[2]"
   ]
  },
  {
   "cell_type": "code",
   "execution_count": null,
   "id": "6c46bad4",
   "metadata": {},
   "outputs": [],
   "source": []
  }
 ],
 "metadata": {
  "kernelspec": {
   "display_name": "Python 3 (ipykernel)",
   "language": "python",
   "name": "python3"
  },
  "language_info": {
   "codemirror_mode": {
    "name": "ipython",
    "version": 3
   },
   "file_extension": ".py",
   "mimetype": "text/x-python",
   "name": "python",
   "nbconvert_exporter": "python",
   "pygments_lexer": "ipython3",
   "version": "3.7.16"
  },
  "toc": {
   "base_numbering": 1,
   "nav_menu": {},
   "number_sections": false,
   "sideBar": true,
   "skip_h1_title": false,
   "title_cell": "Table of Contents",
   "title_sidebar": "Contents",
   "toc_cell": false,
   "toc_position": {
    "height": "calc(100% - 180px)",
    "left": "10px",
    "top": "150px",
    "width": "220.17px"
   },
   "toc_section_display": true,
   "toc_window_display": false
  }
 },
 "nbformat": 4,
 "nbformat_minor": 5
}
