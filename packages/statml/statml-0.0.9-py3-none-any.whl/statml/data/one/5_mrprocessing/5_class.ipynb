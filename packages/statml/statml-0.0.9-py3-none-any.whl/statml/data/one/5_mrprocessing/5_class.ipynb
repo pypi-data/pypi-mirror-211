{
 "cells": [
  {
   "cell_type": "markdown",
   "metadata": {},
   "source": [
    "## 제5장. 머신러닝 프로세스\n",
    "## 제5절. 머신러닝 분석과정 빠르게 맛보기 - 분류분석"
   ]
  },
  {
   "cell_type": "code",
   "execution_count": null,
   "metadata": {},
   "outputs": [],
   "source": [
    "from sklearn.datasets import load_iris\n",
    "import pandas as pd\n",
    "\n",
    "iris = load_iris() # iris 로드하기\n",
    "iris_dt = iris.data # iris/data는 독립변수(feature)만으로 된 numpy 형태\n",
    "iris_label = iris.target # isis.target은 종속변수(label) 값을 numpy 형태로 가짐\n",
    "\n",
    "df = pd.DataFrame(data=iris_dt, columns=iris.feature_names)\n",
    "df['Species'] = iris_label"
   ]
  },
  {
   "cell_type": "code",
   "execution_count": null,
   "metadata": {},
   "outputs": [],
   "source": [
    "df.head()"
   ]
  },
  {
   "cell_type": "code",
   "execution_count": null,
   "metadata": {},
   "outputs": [],
   "source": [
    " df['Species'].unique()"
   ]
  },
  {
   "cell_type": "code",
   "execution_count": null,
   "metadata": {},
   "outputs": [],
   "source": [
    "df.shape"
   ]
  },
  {
   "cell_type": "code",
   "execution_count": null,
   "metadata": {},
   "outputs": [],
   "source": [
    "from sklearn.model_selection import train_test_split\n",
    "x_train, x_test, y_train, y_test = train_test_split(iris_dt, iris_label, test_size=0.2, random_state=0, stratify=iris_label)"
   ]
  },
  {
   "cell_type": "code",
   "execution_count": null,
   "metadata": {},
   "outputs": [],
   "source": [
    "df.isna().sum()"
   ]
  },
  {
   "cell_type": "code",
   "execution_count": null,
   "metadata": {},
   "outputs": [],
   "source": [
    "from sklearn.tree import DecisionTreeClassifier\n",
    "dtree_clf_5 = DecisionTreeClassifier(max_depth=5, random_state=100)\n",
    "dtree_clf_3 = DecisionTreeClassifier(max_depth=3, random_state=100)\n",
    "dtree_clf_1 = DecisionTreeClassifier(max_depth=1, random_state=100) "
   ]
  },
  {
   "cell_type": "code",
   "execution_count": null,
   "metadata": {},
   "outputs": [],
   "source": [
    "from sklearn.model_selection import cross_val_score\n",
    "import numpy as np\n",
    "scores = cross_val_score(dtree_clf_5, x_train, y_train, scoring='accuracy', cv=10)\n",
    "print('교차검증 정확도: ', np.round(scores, 3))\n",
    "print('평균 검증 정확도: ', np.round(np.mean(scores), 4))"
   ]
  },
  {
   "cell_type": "code",
   "execution_count": null,
   "metadata": {},
   "outputs": [],
   "source": [
    "scores = cross_val_score(dtree_clf_3, x_train, y_train, scoring='accuracy', cv=10)\n",
    "print('교차검증 정확도: ', np.round(scores, 3))\n",
    "print('평균 검증 정확도: ', np.round(np.mean(scores), 4))"
   ]
  },
  {
   "cell_type": "code",
   "execution_count": null,
   "metadata": {},
   "outputs": [],
   "source": [
    "scores = cross_val_score(dtree_clf_1, x_train, y_train, scoring='accuracy', cv=10)\n",
    "print('교차검증 정확도: ', np.round(scores, 3))\n",
    "print('평균 검증 정확도: ', np.round(np.mean(scores), 4))"
   ]
  },
  {
   "cell_type": "code",
   "execution_count": null,
   "metadata": {},
   "outputs": [],
   "source": [
    "dtree_clf_5.fit(x_train, y_train)\n",
    "pred = dtree_clf_5.predict(x_test)\n",
    "from sklearn.metrics import accuracy_score\n",
    "print('의사결정나무(교차검증 후) 예측 정확도: {0:.5f}'.format(accuracy_score(y_test, pred)))"
   ]
  },
  {
   "cell_type": "code",
   "execution_count": null,
   "metadata": {},
   "outputs": [],
   "source": [
    "pred = pd.DataFrame(pred, columns=['pred Species'])\n",
    "pred.head()"
   ]
  },
  {
   "cell_type": "code",
   "execution_count": null,
   "metadata": {},
   "outputs": [],
   "source": [
    "actual = pd.DataFrame(y_test, columns=['actual Species'])\n",
    "actual.head()"
   ]
  },
  {
   "cell_type": "code",
   "execution_count": null,
   "metadata": {},
   "outputs": [],
   "source": [
    "classify_result = pd.concat([actual, pred], axis=1)\n",
    "classify_result.to_csv('clf_result.csv', index=False, encoding='utf-8-sig')\n",
    "classify_result.head()"
   ]
  }
 ],
 "metadata": {
  "kernelspec": {
   "display_name": "Python 3 (ipykernel)",
   "language": "python",
   "name": "python3"
  },
  "language_info": {
   "codemirror_mode": {
    "name": "ipython",
    "version": 3
   },
   "file_extension": ".py",
   "mimetype": "text/x-python",
   "name": "python",
   "nbconvert_exporter": "python",
   "pygments_lexer": "ipython3",
   "version": "3.7.16"
  }
 },
 "nbformat": 4,
 "nbformat_minor": 4
}
