{
 "cells": [
  {
   "cell_type": "markdown",
   "metadata": {},
   "source": [
    "# File Open Practice"
   ]
  },
  {
   "cell_type": "code",
   "execution_count": 1,
   "metadata": {
    "ExecuteTime": {
     "end_time": "2020-09-12T14:56:49.939100Z",
     "start_time": "2020-09-12T14:56:49.928160Z"
    }
   },
   "outputs": [
    {
     "data": {
      "text/plain": [
       "'/home/spa/miniconda3/envs/adp/lib/python3.7/site-packages/statml/data/two'"
      ]
     },
     "execution_count": 1,
     "metadata": {},
     "output_type": "execute_result"
    }
   ],
   "source": [
    "import os \n",
    "os.getcwd()"
   ]
  },
  {
   "cell_type": "markdown",
   "metadata": {},
   "source": [
    "# 콤마와 줄바꿈으로 구성된 텍스트 자료"
   ]
  },
  {
   "cell_type": "code",
   "execution_count": 13,
   "metadata": {
    "ExecuteTime": {
     "end_time": "2020-09-12T16:24:59.955383Z",
     "start_time": "2020-09-12T16:24:59.950387Z"
    }
   },
   "outputs": [],
   "source": [
    "data = open('data/1_newline.txt','r',encoding='cp949')\n",
    "line = data.read()"
   ]
  },
  {
   "cell_type": "code",
   "execution_count": 24,
   "metadata": {},
   "outputs": [],
   "source": [
    "import pandas as pd\n",
    "data_ = pd.read_csv('data/1_newline.txt',encoding='cp949',header=None)\n",
    "columns = ['번호', '이름', '나이', '키']\n",
    "data_.columns = columns"
   ]
  },
  {
   "cell_type": "code",
   "execution_count": 25,
   "metadata": {},
   "outputs": [
    {
     "data": {
      "text/html": [
       "<div>\n",
       "<style scoped>\n",
       "    .dataframe tbody tr th:only-of-type {\n",
       "        vertical-align: middle;\n",
       "    }\n",
       "\n",
       "    .dataframe tbody tr th {\n",
       "        vertical-align: top;\n",
       "    }\n",
       "\n",
       "    .dataframe thead th {\n",
       "        text-align: right;\n",
       "    }\n",
       "</style>\n",
       "<table border=\"1\" class=\"dataframe\">\n",
       "  <thead>\n",
       "    <tr style=\"text-align: right;\">\n",
       "      <th></th>\n",
       "      <th>번호</th>\n",
       "      <th>이름</th>\n",
       "      <th>나이</th>\n",
       "      <th>키</th>\n",
       "    </tr>\n",
       "  </thead>\n",
       "  <tbody>\n",
       "    <tr>\n",
       "      <th>0</th>\n",
       "      <td>1</td>\n",
       "      <td>김윤석</td>\n",
       "      <td>24</td>\n",
       "      <td>174</td>\n",
       "    </tr>\n",
       "    <tr>\n",
       "      <th>1</th>\n",
       "      <td>2</td>\n",
       "      <td>나문희</td>\n",
       "      <td>43</td>\n",
       "      <td>162</td>\n",
       "    </tr>\n",
       "    <tr>\n",
       "      <th>2</th>\n",
       "      <td>3</td>\n",
       "      <td>정준하</td>\n",
       "      <td>36</td>\n",
       "      <td>186</td>\n",
       "    </tr>\n",
       "    <tr>\n",
       "      <th>3</th>\n",
       "      <td>4</td>\n",
       "      <td>장동건</td>\n",
       "      <td>31</td>\n",
       "      <td>177</td>\n",
       "    </tr>\n",
       "    <tr>\n",
       "      <th>4</th>\n",
       "      <td>5</td>\n",
       "      <td>김혜수</td>\n",
       "      <td>27</td>\n",
       "      <td>169</td>\n",
       "    </tr>\n",
       "  </tbody>\n",
       "</table>\n",
       "</div>"
      ],
      "text/plain": [
       "   번호   이름  나이    키\n",
       "0   1  김윤석  24  174\n",
       "1   2  나문희  43  162\n",
       "2   3  정준하  36  186\n",
       "3   4  장동건  31  177\n",
       "4   5  김혜수  27  169"
      ]
     },
     "execution_count": 25,
     "metadata": {},
     "output_type": "execute_result"
    }
   ],
   "source": [
    "data_"
   ]
  },
  {
   "cell_type": "code",
   "execution_count": 16,
   "metadata": {
    "ExecuteTime": {
     "end_time": "2020-09-12T15:20:39.881502Z",
     "start_time": "2020-09-12T15:20:39.875500Z"
    }
   },
   "outputs": [
    {
     "data": {
      "text/plain": [
       "'1,김윤석,24,174\\n2,나문희,43,162\\n3,정준하,36,186\\n4,장동건,31,177\\n5,김혜수,27,169'"
      ]
     },
     "execution_count": 16,
     "metadata": {},
     "output_type": "execute_result"
    }
   ],
   "source": [
    "line"
   ]
  },
  {
   "cell_type": "code",
   "execution_count": 17,
   "metadata": {
    "ExecuteTime": {
     "end_time": "2020-09-12T15:20:40.169717Z",
     "start_time": "2020-09-12T15:20:40.165728Z"
    }
   },
   "outputs": [],
   "source": [
    "line = line.split('\\n')"
   ]
  },
  {
   "cell_type": "code",
   "execution_count": 18,
   "metadata": {
    "ExecuteTime": {
     "end_time": "2020-09-12T15:20:40.528761Z",
     "start_time": "2020-09-12T15:20:40.522776Z"
    }
   },
   "outputs": [
    {
     "data": {
      "text/plain": [
       "['1,김윤석,24,174',\n",
       " '2,나문희,43,162',\n",
       " '3,정준하,36,186',\n",
       " '4,장동건,31,177',\n",
       " '5,김혜수,27,169']"
      ]
     },
     "execution_count": 18,
     "metadata": {},
     "output_type": "execute_result"
    }
   ],
   "source": [
    "line"
   ]
  },
  {
   "cell_type": "code",
   "execution_count": 19,
   "metadata": {
    "ExecuteTime": {
     "end_time": "2020-09-12T15:21:21.396888Z",
     "start_time": "2020-09-12T15:21:21.391900Z"
    }
   },
   "outputs": [
    {
     "name": "stdout",
     "output_type": "stream",
     "text": [
      "[['1', '김윤석', '24', '174'], ['2', '나문희', '43', '162'], ['3', '정준하', '36', '186'], ['4', '장동건', '31', '177'], ['5', '김혜수', '27', '169']]\n"
     ]
    }
   ],
   "source": [
    "row = []\n",
    "for i in line:\n",
    "    row.append(i.split(','))\n",
    "print(row)"
   ]
  },
  {
   "cell_type": "code",
   "execution_count": 20,
   "metadata": {
    "ExecuteTime": {
     "end_time": "2020-09-12T15:21:28.543847Z",
     "start_time": "2020-09-12T15:21:28.537865Z"
    }
   },
   "outputs": [],
   "source": [
    "import pandas as pd\n",
    "col_nm = ['번호','이름','나이','키']\n",
    "df = pd.DataFrame(row, columns = col_nm)"
   ]
  },
  {
   "cell_type": "code",
   "execution_count": 21,
   "metadata": {
    "ExecuteTime": {
     "end_time": "2020-09-12T15:21:29.607018Z",
     "start_time": "2020-09-12T15:21:29.600060Z"
    }
   },
   "outputs": [],
   "source": [
    "col_num = ['번호', '나이', '키']\n",
    "for i in col_num:\n",
    "    df[i] = df[i].astype('int')"
   ]
  },
  {
   "cell_type": "code",
   "execution_count": 22,
   "metadata": {
    "ExecuteTime": {
     "end_time": "2020-09-12T15:21:31.609690Z",
     "start_time": "2020-09-12T15:21:31.601702Z"
    }
   },
   "outputs": [
    {
     "data": {
      "text/html": [
       "<div>\n",
       "<style scoped>\n",
       "    .dataframe tbody tr th:only-of-type {\n",
       "        vertical-align: middle;\n",
       "    }\n",
       "\n",
       "    .dataframe tbody tr th {\n",
       "        vertical-align: top;\n",
       "    }\n",
       "\n",
       "    .dataframe thead th {\n",
       "        text-align: right;\n",
       "    }\n",
       "</style>\n",
       "<table border=\"1\" class=\"dataframe\">\n",
       "  <thead>\n",
       "    <tr style=\"text-align: right;\">\n",
       "      <th></th>\n",
       "      <th>번호</th>\n",
       "      <th>이름</th>\n",
       "      <th>나이</th>\n",
       "      <th>키</th>\n",
       "    </tr>\n",
       "  </thead>\n",
       "  <tbody>\n",
       "    <tr>\n",
       "      <th>0</th>\n",
       "      <td>1</td>\n",
       "      <td>김윤석</td>\n",
       "      <td>24</td>\n",
       "      <td>174</td>\n",
       "    </tr>\n",
       "    <tr>\n",
       "      <th>1</th>\n",
       "      <td>2</td>\n",
       "      <td>나문희</td>\n",
       "      <td>43</td>\n",
       "      <td>162</td>\n",
       "    </tr>\n",
       "    <tr>\n",
       "      <th>2</th>\n",
       "      <td>3</td>\n",
       "      <td>정준하</td>\n",
       "      <td>36</td>\n",
       "      <td>186</td>\n",
       "    </tr>\n",
       "    <tr>\n",
       "      <th>3</th>\n",
       "      <td>4</td>\n",
       "      <td>장동건</td>\n",
       "      <td>31</td>\n",
       "      <td>177</td>\n",
       "    </tr>\n",
       "    <tr>\n",
       "      <th>4</th>\n",
       "      <td>5</td>\n",
       "      <td>김혜수</td>\n",
       "      <td>27</td>\n",
       "      <td>169</td>\n",
       "    </tr>\n",
       "  </tbody>\n",
       "</table>\n",
       "</div>"
      ],
      "text/plain": [
       "   번호   이름  나이    키\n",
       "0   1  김윤석  24  174\n",
       "1   2  나문희  43  162\n",
       "2   3  정준하  36  186\n",
       "3   4  장동건  31  177\n",
       "4   5  김혜수  27  169"
      ]
     },
     "execution_count": 22,
     "metadata": {},
     "output_type": "execute_result"
    }
   ],
   "source": [
    "df"
   ]
  },
  {
   "cell_type": "code",
   "execution_count": 23,
   "metadata": {
    "ExecuteTime": {
     "end_time": "2020-09-12T15:21:33.869659Z",
     "start_time": "2020-09-12T15:21:33.862678Z"
    }
   },
   "outputs": [
    {
     "data": {
      "text/plain": [
       "번호     int64\n",
       "이름    object\n",
       "나이     int64\n",
       "키      int64\n",
       "dtype: object"
      ]
     },
     "execution_count": 23,
     "metadata": {},
     "output_type": "execute_result"
    }
   ],
   "source": [
    "df.dtypes"
   ]
  },
  {
   "cell_type": "markdown",
   "metadata": {},
   "source": [
    "# 컬럼명이 있는 콤마와 줄바꿈으로 구성된 텍스트 자료"
   ]
  },
  {
   "cell_type": "code",
   "execution_count": 84,
   "metadata": {
    "ExecuteTime": {
     "end_time": "2020-09-12T15:23:15.265549Z",
     "start_time": "2020-09-12T15:23:15.260555Z"
    }
   },
   "outputs": [],
   "source": [
    "data2 = open('data/2_newline_with_label.txt','r',encoding='cp949')\n",
    "line2 = data2.read()"
   ]
  },
  {
   "cell_type": "code",
   "execution_count": 30,
   "metadata": {},
   "outputs": [],
   "source": [
    "data2_ = pd.read_csv('data/2_newline_with_label.txt',encoding='cp949')"
   ]
  },
  {
   "cell_type": "code",
   "execution_count": 31,
   "metadata": {},
   "outputs": [
    {
     "data": {
      "text/html": [
       "<div>\n",
       "<style scoped>\n",
       "    .dataframe tbody tr th:only-of-type {\n",
       "        vertical-align: middle;\n",
       "    }\n",
       "\n",
       "    .dataframe tbody tr th {\n",
       "        vertical-align: top;\n",
       "    }\n",
       "\n",
       "    .dataframe thead th {\n",
       "        text-align: right;\n",
       "    }\n",
       "</style>\n",
       "<table border=\"1\" class=\"dataframe\">\n",
       "  <thead>\n",
       "    <tr style=\"text-align: right;\">\n",
       "      <th></th>\n",
       "      <th>번호</th>\n",
       "      <th>이름</th>\n",
       "      <th>나이</th>\n",
       "      <th>키</th>\n",
       "    </tr>\n",
       "  </thead>\n",
       "  <tbody>\n",
       "    <tr>\n",
       "      <th>0</th>\n",
       "      <td>1</td>\n",
       "      <td>김윤석</td>\n",
       "      <td>24</td>\n",
       "      <td>174</td>\n",
       "    </tr>\n",
       "    <tr>\n",
       "      <th>1</th>\n",
       "      <td>2</td>\n",
       "      <td>나문희</td>\n",
       "      <td>43</td>\n",
       "      <td>162</td>\n",
       "    </tr>\n",
       "    <tr>\n",
       "      <th>2</th>\n",
       "      <td>3</td>\n",
       "      <td>정준하</td>\n",
       "      <td>36</td>\n",
       "      <td>186</td>\n",
       "    </tr>\n",
       "    <tr>\n",
       "      <th>3</th>\n",
       "      <td>4</td>\n",
       "      <td>장동건</td>\n",
       "      <td>31</td>\n",
       "      <td>177</td>\n",
       "    </tr>\n",
       "    <tr>\n",
       "      <th>4</th>\n",
       "      <td>5</td>\n",
       "      <td>김혜수</td>\n",
       "      <td>27</td>\n",
       "      <td>169</td>\n",
       "    </tr>\n",
       "  </tbody>\n",
       "</table>\n",
       "</div>"
      ],
      "text/plain": [
       "   번호   이름  나이    키\n",
       "0   1  김윤석  24  174\n",
       "1   2  나문희  43  162\n",
       "2   3  정준하  36  186\n",
       "3   4  장동건  31  177\n",
       "4   5  김혜수  27  169"
      ]
     },
     "execution_count": 31,
     "metadata": {},
     "output_type": "execute_result"
    }
   ],
   "source": [
    "data2_"
   ]
  },
  {
   "cell_type": "code",
   "execution_count": 85,
   "metadata": {
    "ExecuteTime": {
     "end_time": "2020-09-12T15:23:15.413157Z",
     "start_time": "2020-09-12T15:23:15.409167Z"
    }
   },
   "outputs": [],
   "source": [
    "line2 = line2.split('\\n')"
   ]
  },
  {
   "cell_type": "code",
   "execution_count": 86,
   "metadata": {
    "ExecuteTime": {
     "end_time": "2020-09-12T15:23:15.607630Z",
     "start_time": "2020-09-12T15:23:15.601647Z"
    }
   },
   "outputs": [
    {
     "data": {
      "text/plain": [
       "['번호,이름,나이,키',\n",
       " '1,김윤석,24,174',\n",
       " '2,나문희,43,162',\n",
       " '3,정준하,36,186',\n",
       " '4,장동건,31,177',\n",
       " '5,김혜수,27,169']"
      ]
     },
     "execution_count": 86,
     "metadata": {},
     "output_type": "execute_result"
    }
   ],
   "source": [
    "line2"
   ]
  },
  {
   "cell_type": "code",
   "execution_count": 87,
   "metadata": {
    "ExecuteTime": {
     "end_time": "2020-09-12T15:23:15.842008Z",
     "start_time": "2020-09-12T15:23:15.836023Z"
    }
   },
   "outputs": [
    {
     "data": {
      "text/plain": [
       "['번호', '이름', '나이', '키']"
      ]
     },
     "execution_count": 87,
     "metadata": {},
     "output_type": "execute_result"
    }
   ],
   "source": [
    "col_nm = line2[0].split(',')\n",
    "col_nm"
   ]
  },
  {
   "cell_type": "code",
   "execution_count": 88,
   "metadata": {
    "ExecuteTime": {
     "end_time": "2020-09-12T15:23:20.059782Z",
     "start_time": "2020-09-12T15:23:20.055781Z"
    }
   },
   "outputs": [],
   "source": [
    "line2 = line2[1:]"
   ]
  },
  {
   "cell_type": "code",
   "execution_count": 92,
   "metadata": {
    "ExecuteTime": {
     "end_time": "2020-09-12T15:24:15.990765Z",
     "start_time": "2020-09-12T15:24:15.983811Z"
    }
   },
   "outputs": [
    {
     "data": {
      "text/plain": [
       "[['1', '김윤석', '24', '174'],\n",
       " ['2', '나문희', '43', '162'],\n",
       " ['3', '정준하', '36', '186'],\n",
       " ['4', '장동건', '31', '177'],\n",
       " ['5', '김혜수', '27', '169']]"
      ]
     },
     "execution_count": 92,
     "metadata": {},
     "output_type": "execute_result"
    }
   ],
   "source": [
    "row = []\n",
    "for i in line2:\n",
    "    row.append(i.split(','))\n",
    "row"
   ]
  },
  {
   "cell_type": "code",
   "execution_count": 93,
   "metadata": {
    "ExecuteTime": {
     "end_time": "2020-09-12T15:24:18.010381Z",
     "start_time": "2020-09-12T15:24:18.004454Z"
    }
   },
   "outputs": [],
   "source": [
    "df = pd.DataFrame(row, columns = col_nm)"
   ]
  },
  {
   "cell_type": "code",
   "execution_count": 94,
   "metadata": {
    "ExecuteTime": {
     "end_time": "2020-09-12T15:24:19.659003Z",
     "start_time": "2020-09-12T15:24:19.653029Z"
    }
   },
   "outputs": [],
   "source": [
    "col_num = ['번호', '나이', '키']\n",
    "for i in col_num:\n",
    "    df[i] = df[i].astype('int')"
   ]
  },
  {
   "cell_type": "code",
   "execution_count": 95,
   "metadata": {
    "ExecuteTime": {
     "end_time": "2020-09-12T15:24:20.505731Z",
     "start_time": "2020-09-12T15:24:20.495758Z"
    }
   },
   "outputs": [
    {
     "data": {
      "text/html": [
       "<div>\n",
       "<style scoped>\n",
       "    .dataframe tbody tr th:only-of-type {\n",
       "        vertical-align: middle;\n",
       "    }\n",
       "\n",
       "    .dataframe tbody tr th {\n",
       "        vertical-align: top;\n",
       "    }\n",
       "\n",
       "    .dataframe thead th {\n",
       "        text-align: right;\n",
       "    }\n",
       "</style>\n",
       "<table border=\"1\" class=\"dataframe\">\n",
       "  <thead>\n",
       "    <tr style=\"text-align: right;\">\n",
       "      <th></th>\n",
       "      <th>번호</th>\n",
       "      <th>이름</th>\n",
       "      <th>나이</th>\n",
       "      <th>키</th>\n",
       "    </tr>\n",
       "  </thead>\n",
       "  <tbody>\n",
       "    <tr>\n",
       "      <td>0</td>\n",
       "      <td>1</td>\n",
       "      <td>김윤석</td>\n",
       "      <td>24</td>\n",
       "      <td>174</td>\n",
       "    </tr>\n",
       "    <tr>\n",
       "      <td>1</td>\n",
       "      <td>2</td>\n",
       "      <td>나문희</td>\n",
       "      <td>43</td>\n",
       "      <td>162</td>\n",
       "    </tr>\n",
       "    <tr>\n",
       "      <td>2</td>\n",
       "      <td>3</td>\n",
       "      <td>정준하</td>\n",
       "      <td>36</td>\n",
       "      <td>186</td>\n",
       "    </tr>\n",
       "    <tr>\n",
       "      <td>3</td>\n",
       "      <td>4</td>\n",
       "      <td>장동건</td>\n",
       "      <td>31</td>\n",
       "      <td>177</td>\n",
       "    </tr>\n",
       "    <tr>\n",
       "      <td>4</td>\n",
       "      <td>5</td>\n",
       "      <td>김혜수</td>\n",
       "      <td>27</td>\n",
       "      <td>169</td>\n",
       "    </tr>\n",
       "  </tbody>\n",
       "</table>\n",
       "</div>"
      ],
      "text/plain": [
       "   번호   이름  나이    키\n",
       "0   1  김윤석  24  174\n",
       "1   2  나문희  43  162\n",
       "2   3  정준하  36  186\n",
       "3   4  장동건  31  177\n",
       "4   5  김혜수  27  169"
      ]
     },
     "execution_count": 95,
     "metadata": {},
     "output_type": "execute_result"
    }
   ],
   "source": [
    "df"
   ]
  },
  {
   "cell_type": "code",
   "execution_count": 96,
   "metadata": {
    "ExecuteTime": {
     "end_time": "2020-09-12T15:24:23.427941Z",
     "start_time": "2020-09-12T15:24:23.420961Z"
    }
   },
   "outputs": [
    {
     "data": {
      "text/plain": [
       "번호     int32\n",
       "이름    object\n",
       "나이     int32\n",
       "키      int32\n",
       "dtype: object"
      ]
     },
     "execution_count": 96,
     "metadata": {},
     "output_type": "execute_result"
    }
   ],
   "source": [
    "df.dtypes"
   ]
  },
  {
   "cell_type": "markdown",
   "metadata": {},
   "source": [
    "# tsv ; 탭으로 분리된 텍스트 자료"
   ]
  },
  {
   "cell_type": "code",
   "execution_count": 117,
   "metadata": {
    "ExecuteTime": {
     "end_time": "2020-09-12T15:30:11.661648Z",
     "start_time": "2020-09-12T15:30:11.654694Z"
    }
   },
   "outputs": [
    {
     "data": {
      "text/plain": [
       "'번호\\t이름\\t나이\\t키\\n1\\t김윤석\\t24\\t174\\n2\\t나문희\\t43\\t162\\n3\\t정준하\\t36\\t186\\n4\\t장동건\\t31\\t177\\n5\\t김혜수\\t27\\t169'"
      ]
     },
     "execution_count": 117,
     "metadata": {},
     "output_type": "execute_result"
    }
   ],
   "source": [
    "data3 = open('data/3_tsv.txt', 'r', encoding = 'cp949')\n",
    "line3 = data3.read()\n",
    "\n",
    "line3"
   ]
  },
  {
   "cell_type": "code",
   "execution_count": 35,
   "metadata": {},
   "outputs": [
    {
     "data": {
      "text/html": [
       "<div>\n",
       "<style scoped>\n",
       "    .dataframe tbody tr th:only-of-type {\n",
       "        vertical-align: middle;\n",
       "    }\n",
       "\n",
       "    .dataframe tbody tr th {\n",
       "        vertical-align: top;\n",
       "    }\n",
       "\n",
       "    .dataframe thead th {\n",
       "        text-align: right;\n",
       "    }\n",
       "</style>\n",
       "<table border=\"1\" class=\"dataframe\">\n",
       "  <thead>\n",
       "    <tr style=\"text-align: right;\">\n",
       "      <th></th>\n",
       "      <th>번호</th>\n",
       "      <th>이름</th>\n",
       "      <th>나이</th>\n",
       "      <th>키</th>\n",
       "    </tr>\n",
       "  </thead>\n",
       "  <tbody>\n",
       "    <tr>\n",
       "      <th>0</th>\n",
       "      <td>1</td>\n",
       "      <td>김윤석</td>\n",
       "      <td>24</td>\n",
       "      <td>174</td>\n",
       "    </tr>\n",
       "    <tr>\n",
       "      <th>1</th>\n",
       "      <td>2</td>\n",
       "      <td>나문희</td>\n",
       "      <td>43</td>\n",
       "      <td>162</td>\n",
       "    </tr>\n",
       "    <tr>\n",
       "      <th>2</th>\n",
       "      <td>3</td>\n",
       "      <td>정준하</td>\n",
       "      <td>36</td>\n",
       "      <td>186</td>\n",
       "    </tr>\n",
       "    <tr>\n",
       "      <th>3</th>\n",
       "      <td>4</td>\n",
       "      <td>장동건</td>\n",
       "      <td>31</td>\n",
       "      <td>177</td>\n",
       "    </tr>\n",
       "    <tr>\n",
       "      <th>4</th>\n",
       "      <td>5</td>\n",
       "      <td>김혜수</td>\n",
       "      <td>27</td>\n",
       "      <td>169</td>\n",
       "    </tr>\n",
       "  </tbody>\n",
       "</table>\n",
       "</div>"
      ],
      "text/plain": [
       "   번호   이름  나이    키\n",
       "0   1  김윤석  24  174\n",
       "1   2  나문희  43  162\n",
       "2   3  정준하  36  186\n",
       "3   4  장동건  31  177\n",
       "4   5  김혜수  27  169"
      ]
     },
     "execution_count": 35,
     "metadata": {},
     "output_type": "execute_result"
    }
   ],
   "source": [
    "data3_ = pd.read_csv('data/3_tsv.txt', sep='\\t', encoding='cp949')\n",
    "data3_"
   ]
  },
  {
   "cell_type": "code",
   "execution_count": 118,
   "metadata": {
    "ExecuteTime": {
     "end_time": "2020-09-12T15:30:11.670631Z",
     "start_time": "2020-09-12T15:30:11.664640Z"
    }
   },
   "outputs": [
    {
     "data": {
      "text/plain": [
       "['번호\\t이름\\t나이\\t키',\n",
       " '1\\t김윤석\\t24\\t174',\n",
       " '2\\t나문희\\t43\\t162',\n",
       " '3\\t정준하\\t36\\t186',\n",
       " '4\\t장동건\\t31\\t177',\n",
       " '5\\t김혜수\\t27\\t169']"
      ]
     },
     "execution_count": 118,
     "metadata": {},
     "output_type": "execute_result"
    }
   ],
   "source": [
    "line3 = line3.split('\\n')\n",
    "line3"
   ]
  },
  {
   "cell_type": "code",
   "execution_count": 119,
   "metadata": {
    "ExecuteTime": {
     "end_time": "2020-09-12T15:30:11.678603Z",
     "start_time": "2020-09-12T15:30:11.673616Z"
    }
   },
   "outputs": [
    {
     "name": "stdout",
     "output_type": "stream",
     "text": [
      "[['번호', '이름', '나이', '키'], ['1', '김윤석', '24', '174'], ['2', '나문희', '43', '162'], ['3', '정준하', '36', '186'], ['4', '장동건', '31', '177'], ['5', '김혜수', '27', '169']]\n"
     ]
    }
   ],
   "source": [
    "row = []\n",
    "for i in line3:\n",
    "    row.append(i.split('\\t'))\n",
    "print(row)"
   ]
  },
  {
   "cell_type": "code",
   "execution_count": 120,
   "metadata": {
    "ExecuteTime": {
     "end_time": "2020-09-12T15:30:11.690570Z",
     "start_time": "2020-09-12T15:30:11.680597Z"
    }
   },
   "outputs": [
    {
     "name": "stdout",
     "output_type": "stream",
     "text": [
      "['번호', '이름', '나이', '키']\n"
     ]
    }
   ],
   "source": [
    "col_nm = row[0]\n",
    "print(col_nm)"
   ]
  },
  {
   "cell_type": "code",
   "execution_count": 121,
   "metadata": {
    "ExecuteTime": {
     "end_time": "2020-09-12T15:30:11.697551Z",
     "start_time": "2020-09-12T15:30:11.693562Z"
    }
   },
   "outputs": [
    {
     "name": "stdout",
     "output_type": "stream",
     "text": [
      "[['1', '김윤석', '24', '174'], ['2', '나문희', '43', '162'], ['3', '정준하', '36', '186'], ['4', '장동건', '31', '177'], ['5', '김혜수', '27', '169']]\n"
     ]
    }
   ],
   "source": [
    "row = row[1:]\n",
    "print(row)"
   ]
  },
  {
   "cell_type": "code",
   "execution_count": 122,
   "metadata": {
    "ExecuteTime": {
     "end_time": "2020-09-12T15:30:11.713509Z",
     "start_time": "2020-09-12T15:30:11.699546Z"
    }
   },
   "outputs": [
    {
     "data": {
      "text/html": [
       "<div>\n",
       "<style scoped>\n",
       "    .dataframe tbody tr th:only-of-type {\n",
       "        vertical-align: middle;\n",
       "    }\n",
       "\n",
       "    .dataframe tbody tr th {\n",
       "        vertical-align: top;\n",
       "    }\n",
       "\n",
       "    .dataframe thead th {\n",
       "        text-align: right;\n",
       "    }\n",
       "</style>\n",
       "<table border=\"1\" class=\"dataframe\">\n",
       "  <thead>\n",
       "    <tr style=\"text-align: right;\">\n",
       "      <th></th>\n",
       "      <th>번호</th>\n",
       "      <th>이름</th>\n",
       "      <th>나이</th>\n",
       "      <th>키</th>\n",
       "    </tr>\n",
       "  </thead>\n",
       "  <tbody>\n",
       "    <tr>\n",
       "      <td>0</td>\n",
       "      <td>1</td>\n",
       "      <td>김윤석</td>\n",
       "      <td>24</td>\n",
       "      <td>174</td>\n",
       "    </tr>\n",
       "    <tr>\n",
       "      <td>1</td>\n",
       "      <td>2</td>\n",
       "      <td>나문희</td>\n",
       "      <td>43</td>\n",
       "      <td>162</td>\n",
       "    </tr>\n",
       "    <tr>\n",
       "      <td>2</td>\n",
       "      <td>3</td>\n",
       "      <td>정준하</td>\n",
       "      <td>36</td>\n",
       "      <td>186</td>\n",
       "    </tr>\n",
       "    <tr>\n",
       "      <td>3</td>\n",
       "      <td>4</td>\n",
       "      <td>장동건</td>\n",
       "      <td>31</td>\n",
       "      <td>177</td>\n",
       "    </tr>\n",
       "    <tr>\n",
       "      <td>4</td>\n",
       "      <td>5</td>\n",
       "      <td>김혜수</td>\n",
       "      <td>27</td>\n",
       "      <td>169</td>\n",
       "    </tr>\n",
       "  </tbody>\n",
       "</table>\n",
       "</div>"
      ],
      "text/plain": [
       "  번호   이름  나이    키\n",
       "0  1  김윤석  24  174\n",
       "1  2  나문희  43  162\n",
       "2  3  정준하  36  186\n",
       "3  4  장동건  31  177\n",
       "4  5  김혜수  27  169"
      ]
     },
     "execution_count": 122,
     "metadata": {},
     "output_type": "execute_result"
    }
   ],
   "source": [
    "df = pd.DataFrame(row, columns = col_nm)\n",
    "\n",
    "# 숫자형 자료는 변환\n",
    "col_num = ['번호', '나이', '키']\n",
    "for i in col_num:\n",
    "    df[i] = df[i].astype('int')\n",
    "df"
   ]
  },
  {
   "cell_type": "markdown",
   "metadata": {},
   "source": [
    "# 이상한 구분자"
   ]
  },
  {
   "cell_type": "code",
   "execution_count": 42,
   "metadata": {
    "ExecuteTime": {
     "end_time": "2020-09-12T15:31:21.138367Z",
     "start_time": "2020-09-12T15:31:21.131419Z"
    }
   },
   "outputs": [
    {
     "data": {
      "text/plain": [
       "'1,김윤석,24,174!@#2,나문희,43,162!@#3,정준하,36,186!@#4,장동건,31,177!@#5,김혜수,27,169'"
      ]
     },
     "execution_count": 42,
     "metadata": {},
     "output_type": "execute_result"
    }
   ],
   "source": [
    "data4 = open('data/4_wierd_separator.txt','r',encoding='cp949')\n",
    "line4 = data4.read()\n",
    "line4"
   ]
  },
  {
   "cell_type": "code",
   "execution_count": 43,
   "metadata": {
    "ExecuteTime": {
     "end_time": "2020-09-12T15:33:08.354443Z",
     "start_time": "2020-09-12T15:33:08.348461Z"
    },
    "scrolled": true
   },
   "outputs": [
    {
     "data": {
      "text/plain": [
       "['1,김윤석,24,174',\n",
       " '2,나문희,43,162',\n",
       " '3,정준하,36,186',\n",
       " '4,장동건,31,177',\n",
       " '5,김혜수,27,169']"
      ]
     },
     "execution_count": 43,
     "metadata": {},
     "output_type": "execute_result"
    }
   ],
   "source": [
    "line4 = line4.split('!@#')\n",
    "line4"
   ]
  },
  {
   "cell_type": "code",
   "execution_count": 129,
   "metadata": {
    "ExecuteTime": {
     "end_time": "2020-09-12T15:33:29.609764Z",
     "start_time": "2020-09-12T15:33:29.603776Z"
    }
   },
   "outputs": [
    {
     "data": {
      "text/plain": [
       "[['1', '김윤석', '24', '174'],\n",
       " ['2', '나문희', '43', '162'],\n",
       " ['3', '정준하', '36', '186'],\n",
       " ['4', '장동건', '31', '177'],\n",
       " ['5', '김혜수', '27', '169']]"
      ]
     },
     "execution_count": 129,
     "metadata": {},
     "output_type": "execute_result"
    }
   ],
   "source": [
    "row = []\n",
    "for i in line4:\n",
    "    row.append(i.split(','))\n",
    "row"
   ]
  },
  {
   "cell_type": "code",
   "execution_count": 130,
   "metadata": {
    "ExecuteTime": {
     "end_time": "2020-09-12T15:34:16.332164Z",
     "start_time": "2020-09-12T15:34:16.319191Z"
    }
   },
   "outputs": [
    {
     "data": {
      "text/html": [
       "<div>\n",
       "<style scoped>\n",
       "    .dataframe tbody tr th:only-of-type {\n",
       "        vertical-align: middle;\n",
       "    }\n",
       "\n",
       "    .dataframe tbody tr th {\n",
       "        vertical-align: top;\n",
       "    }\n",
       "\n",
       "    .dataframe thead th {\n",
       "        text-align: right;\n",
       "    }\n",
       "</style>\n",
       "<table border=\"1\" class=\"dataframe\">\n",
       "  <thead>\n",
       "    <tr style=\"text-align: right;\">\n",
       "      <th></th>\n",
       "      <th>번호</th>\n",
       "      <th>이름</th>\n",
       "      <th>나이</th>\n",
       "      <th>키</th>\n",
       "    </tr>\n",
       "  </thead>\n",
       "  <tbody>\n",
       "    <tr>\n",
       "      <td>0</td>\n",
       "      <td>1</td>\n",
       "      <td>김윤석</td>\n",
       "      <td>24</td>\n",
       "      <td>174</td>\n",
       "    </tr>\n",
       "    <tr>\n",
       "      <td>1</td>\n",
       "      <td>2</td>\n",
       "      <td>나문희</td>\n",
       "      <td>43</td>\n",
       "      <td>162</td>\n",
       "    </tr>\n",
       "    <tr>\n",
       "      <td>2</td>\n",
       "      <td>3</td>\n",
       "      <td>정준하</td>\n",
       "      <td>36</td>\n",
       "      <td>186</td>\n",
       "    </tr>\n",
       "    <tr>\n",
       "      <td>3</td>\n",
       "      <td>4</td>\n",
       "      <td>장동건</td>\n",
       "      <td>31</td>\n",
       "      <td>177</td>\n",
       "    </tr>\n",
       "    <tr>\n",
       "      <td>4</td>\n",
       "      <td>5</td>\n",
       "      <td>김혜수</td>\n",
       "      <td>27</td>\n",
       "      <td>169</td>\n",
       "    </tr>\n",
       "  </tbody>\n",
       "</table>\n",
       "</div>"
      ],
      "text/plain": [
       "  번호   이름  나이    키\n",
       "0  1  김윤석  24  174\n",
       "1  2  나문희  43  162\n",
       "2  3  정준하  36  186\n",
       "3  4  장동건  31  177\n",
       "4  5  김혜수  27  169"
      ]
     },
     "execution_count": 130,
     "metadata": {},
     "output_type": "execute_result"
    }
   ],
   "source": [
    "col_nm = ['번호','이름','나이','키']\n",
    "df = pd.DataFrame(row, columns = col_nm)\n",
    "\n",
    "# 숫자형 자료는 변환\n",
    "col_num = ['번호', '나이', '키']\n",
    "for i in col_num:\n",
    "    df[i] = df[i].astype('int')\n",
    "\n",
    "df"
   ]
  },
  {
   "cell_type": "markdown",
   "metadata": {},
   "source": [
    "# 콤마로만 구분된 텍스트 자료"
   ]
  },
  {
   "cell_type": "code",
   "execution_count": 179,
   "metadata": {
    "ExecuteTime": {
     "end_time": "2020-09-12T16:25:14.867476Z",
     "start_time": "2020-09-12T16:25:14.860494Z"
    }
   },
   "outputs": [
    {
     "data": {
      "text/plain": [
       "'1,김윤석,24,174,2,나문희,43,162,3,정준하,36,186,4,장동건,31,177,5,김혜수,27,169'"
      ]
     },
     "execution_count": 179,
     "metadata": {},
     "output_type": "execute_result"
    }
   ],
   "source": [
    "data5 = open('data/5_only_commas.txt', 'r', encoding='cp949')\n",
    "line5 = data5.read()\n",
    "line5"
   ]
  },
  {
   "cell_type": "code",
   "execution_count": 132,
   "metadata": {
    "ExecuteTime": {
     "end_time": "2020-09-12T15:41:30.979388Z",
     "start_time": "2020-09-12T15:41:30.974400Z"
    }
   },
   "outputs": [
    {
     "data": {
      "text/plain": [
       "['1',\n",
       " '김윤석',\n",
       " '24',\n",
       " '174',\n",
       " '2',\n",
       " '나문희',\n",
       " '43',\n",
       " '162',\n",
       " '3',\n",
       " '정준하',\n",
       " '36',\n",
       " '186',\n",
       " '4',\n",
       " '장동건',\n",
       " '31',\n",
       " '177',\n",
       " '5',\n",
       " '김혜수',\n",
       " '27',\n",
       " '169']"
      ]
     },
     "execution_count": 132,
     "metadata": {},
     "output_type": "execute_result"
    }
   ],
   "source": [
    "line5 = line5.split(',')\n",
    "line5"
   ]
  },
  {
   "cell_type": "code",
   "execution_count": 136,
   "metadata": {
    "ExecuteTime": {
     "end_time": "2020-09-12T15:43:55.975420Z",
     "start_time": "2020-09-12T15:43:55.968454Z"
    }
   },
   "outputs": [
    {
     "data": {
      "text/plain": [
       "[['1', '김윤석', '24', '174'],\n",
       " ['2', '나문희', '43', '162'],\n",
       " ['3', '정준하', '36', '186'],\n",
       " ['4', '장동건', '31', '177'],\n",
       " ['5', '김혜수', '27', '169']]"
      ]
     },
     "execution_count": 136,
     "metadata": {},
     "output_type": "execute_result"
    }
   ],
   "source": [
    "row = []\n",
    "for i in range(0, len(line5), 4):\n",
    "    row.append(line5[i : i+4])\n",
    "row"
   ]
  },
  {
   "cell_type": "code",
   "execution_count": 139,
   "metadata": {
    "ExecuteTime": {
     "end_time": "2020-09-12T15:46:02.974415Z",
     "start_time": "2020-09-12T15:46:02.958459Z"
    }
   },
   "outputs": [
    {
     "data": {
      "text/html": [
       "<div>\n",
       "<style scoped>\n",
       "    .dataframe tbody tr th:only-of-type {\n",
       "        vertical-align: middle;\n",
       "    }\n",
       "\n",
       "    .dataframe tbody tr th {\n",
       "        vertical-align: top;\n",
       "    }\n",
       "\n",
       "    .dataframe thead th {\n",
       "        text-align: right;\n",
       "    }\n",
       "</style>\n",
       "<table border=\"1\" class=\"dataframe\">\n",
       "  <thead>\n",
       "    <tr style=\"text-align: right;\">\n",
       "      <th></th>\n",
       "      <th>번호</th>\n",
       "      <th>이름</th>\n",
       "      <th>나이</th>\n",
       "      <th>키</th>\n",
       "    </tr>\n",
       "  </thead>\n",
       "  <tbody>\n",
       "    <tr>\n",
       "      <td>0</td>\n",
       "      <td>1</td>\n",
       "      <td>김윤석</td>\n",
       "      <td>24</td>\n",
       "      <td>174</td>\n",
       "    </tr>\n",
       "    <tr>\n",
       "      <td>1</td>\n",
       "      <td>2</td>\n",
       "      <td>나문희</td>\n",
       "      <td>43</td>\n",
       "      <td>162</td>\n",
       "    </tr>\n",
       "    <tr>\n",
       "      <td>2</td>\n",
       "      <td>3</td>\n",
       "      <td>정준하</td>\n",
       "      <td>36</td>\n",
       "      <td>186</td>\n",
       "    </tr>\n",
       "    <tr>\n",
       "      <td>3</td>\n",
       "      <td>4</td>\n",
       "      <td>장동건</td>\n",
       "      <td>31</td>\n",
       "      <td>177</td>\n",
       "    </tr>\n",
       "    <tr>\n",
       "      <td>4</td>\n",
       "      <td>5</td>\n",
       "      <td>김혜수</td>\n",
       "      <td>27</td>\n",
       "      <td>169</td>\n",
       "    </tr>\n",
       "  </tbody>\n",
       "</table>\n",
       "</div>"
      ],
      "text/plain": [
       "   번호   이름  나이    키\n",
       "0   1  김윤석  24  174\n",
       "1   2  나문희  43  162\n",
       "2   3  정준하  36  186\n",
       "3   4  장동건  31  177\n",
       "4   5  김혜수  27  169"
      ]
     },
     "execution_count": 139,
     "metadata": {},
     "output_type": "execute_result"
    }
   ],
   "source": [
    "df = pd.DataFrame(row, columns=['번호','이름','나이','키'])\n",
    "\n",
    "# 숫자형 자료는 변환\n",
    "col_num = ['번호', '나이', '키']\n",
    "for i in col_num:\n",
    "    df[i] = df[i].astype('int')\n",
    "    \n",
    "df"
   ]
  },
  {
   "cell_type": "markdown",
   "metadata": {},
   "source": [
    "# 15개 데이터 행열로 바꿔보기"
   ]
  },
  {
   "cell_type": "code",
   "execution_count": 152,
   "metadata": {
    "ExecuteTime": {
     "end_time": "2020-09-12T15:49:55.051821Z",
     "start_time": "2020-09-12T15:49:55.045825Z"
    }
   },
   "outputs": [
    {
     "data": {
      "text/plain": [
       "'a,b,c,d,e,f,g,h,i,j,k,l,m,n,o'"
      ]
     },
     "execution_count": 152,
     "metadata": {},
     "output_type": "execute_result"
    }
   ],
   "source": [
    "data6 = open('data/6_15data.txt','r',encoding = 'cp949')\n",
    "line6 = data6.read()\n",
    "line6"
   ]
  },
  {
   "cell_type": "code",
   "execution_count": 153,
   "metadata": {
    "ExecuteTime": {
     "end_time": "2020-09-12T15:49:55.335053Z",
     "start_time": "2020-09-12T15:49:55.328072Z"
    }
   },
   "outputs": [
    {
     "data": {
      "text/plain": [
       "['a', 'b', 'c', 'd', 'e', 'f', 'g', 'h', 'i', 'j', 'k', 'l', 'm', 'n', 'o']"
      ]
     },
     "execution_count": 153,
     "metadata": {},
     "output_type": "execute_result"
    }
   ],
   "source": [
    "line6 = line6.split(',')\n",
    "line6"
   ]
  },
  {
   "cell_type": "code",
   "execution_count": 154,
   "metadata": {
    "ExecuteTime": {
     "end_time": "2020-09-12T15:49:56.872947Z",
     "start_time": "2020-09-12T15:49:56.865967Z"
    }
   },
   "outputs": [
    {
     "data": {
      "text/plain": [
       "[['a', 'b', 'c'],\n",
       " ['d', 'e', 'f'],\n",
       " ['g', 'h', 'i'],\n",
       " ['j', 'k', 'l'],\n",
       " ['m', 'n', 'o']]"
      ]
     },
     "execution_count": 154,
     "metadata": {},
     "output_type": "execute_result"
    }
   ],
   "source": [
    "# 3열로 만들기\n",
    "row = []\n",
    "for i in range(0, len(line6), 3):\n",
    "    row.append(line6[i:i+3])\n",
    "row"
   ]
  },
  {
   "cell_type": "code",
   "execution_count": 155,
   "metadata": {
    "ExecuteTime": {
     "end_time": "2020-09-12T15:51:00.265668Z",
     "start_time": "2020-09-12T15:51:00.259685Z"
    }
   },
   "outputs": [
    {
     "data": {
      "text/plain": [
       "[['a', 'b', 'c', 'd', 'e'],\n",
       " ['f', 'g', 'h', 'i', 'j'],\n",
       " ['k', 'l', 'm', 'n', 'o']]"
      ]
     },
     "execution_count": 155,
     "metadata": {},
     "output_type": "execute_result"
    }
   ],
   "source": [
    "# 5열로 만들기\n",
    "row = []\n",
    "for i in range(0, len(line6), 5):\n",
    "    row.append(line6[i:i+5])\n",
    "row"
   ]
  },
  {
   "cell_type": "markdown",
   "metadata": {},
   "source": [
    "# rb : 바이트단위로 읽는 것"
   ]
  },
  {
   "cell_type": "code",
   "execution_count": 203,
   "metadata": {
    "ExecuteTime": {
     "end_time": "2020-09-12T16:30:13.277848Z",
     "start_time": "2020-09-12T16:30:13.271887Z"
    },
    "scrolled": true
   },
   "outputs": [
    {
     "data": {
      "text/plain": [
       "b'\\x00\\x00\\x00\\x00\\x00\\x00\\x00\\x00\\x00\\x00\\x00\\x00\\x00\\x00\\x00\\x00\\x00\\x00\\x00\\x00\\x00\\x00\\x00\\x00\\x00\\x00\\x00\\x00\\x00\\x00\\x00\\x00\\x00\\x00\\x00\\x00\\x00\\x00\\x00\\x00\\x00\\x00\\x00\\x00\\x00\\x00\\x00\\x00\\x00\\x00\\x00\\x00\\x00\\x00\\x00\\x00\\x00\\x00\\x00\\x00\\x00\\x00\\x00\\x00\\x00\\x00\\x00\\x00\\x00\\x00\\x00\\x00\\x00\\x00\\x00\\x00\\x00\\x00\\x00\\x00\\x00\\x00\\x00\\x00\\x00\\x00\\x00\\x00\\x00\\x00\\x00\\x00\\x00\\x00\\x00\\x00\\x00\\x00\\x00\\x00'"
      ]
     },
     "execution_count": 203,
     "metadata": {},
     "output_type": "execute_result"
    }
   ],
   "source": [
    "data7 = open('data/7_zero.txt','rb')\n",
    "line7 = data7.read()\n",
    "line7[:100]"
   ]
  },
  {
   "cell_type": "code",
   "execution_count": 188,
   "metadata": {
    "ExecuteTime": {
     "end_time": "2020-09-12T16:27:09.397038Z",
     "start_time": "2020-09-12T16:27:09.392077Z"
    }
   },
   "outputs": [
    {
     "data": {
      "text/plain": [
       "b'\\xec\\x86\\xa1\\xec\\x88\\x98\\xed\\x98\\x95'"
      ]
     },
     "execution_count": 188,
     "metadata": {},
     "output_type": "execute_result"
    }
   ],
   "source": [
    "word = '송수형'.encode('utf-8')\n",
    "word"
   ]
  },
  {
   "cell_type": "code",
   "execution_count": 189,
   "metadata": {
    "ExecuteTime": {
     "end_time": "2020-09-12T16:27:16.656612Z",
     "start_time": "2020-09-12T16:27:16.650629Z"
    },
    "scrolled": true
   },
   "outputs": [
    {
     "data": {
      "text/plain": [
       "'송수형'"
      ]
     },
     "execution_count": 189,
     "metadata": {},
     "output_type": "execute_result"
    }
   ],
   "source": [
    "word.decode('utf-8')\n",
    "# utf-8\n",
    "# utf-16\n",
    "# cp949"
   ]
  },
  {
   "cell_type": "markdown",
   "metadata": {},
   "source": [
    "# rb : 바이트단위 w/ garbage"
   ]
  },
  {
   "cell_type": "markdown",
   "metadata": {},
   "source": [
    "# csv파일을 open으로 불러오기"
   ]
  },
  {
   "cell_type": "code",
   "execution_count": 235,
   "metadata": {
    "ExecuteTime": {
     "end_time": "2020-09-12T16:40:47.711912Z",
     "start_time": "2020-09-12T16:40:47.704948Z"
    },
    "scrolled": true
   },
   "outputs": [
    {
     "data": {
      "text/plain": [
       "'Date,Date_days,요일,주말y/n,Location,Lemon(판매잔 수),Lemon_Ratio,,Orange(판매잔 수),Orange_Ratio,,L+O(판매잔 수),정가판매량,Temperature,섭씨,Leaflets,Price,원가,정가,할인가,마진,매출이익\\n7/1/2016,2016-07-01 Friday,금,0,Park,97,0.59,0.99'"
      ]
     },
     "execution_count": 235,
     "metadata": {},
     "output_type": "execute_result"
    }
   ],
   "source": [
    "data9 = open('data/9_ade_sales.csv')\n",
    "line9 = data9.read()\n",
    "line9[:200]"
   ]
  },
  {
   "cell_type": "code",
   "execution_count": 236,
   "metadata": {
    "ExecuteTime": {
     "end_time": "2020-09-12T16:40:48.431977Z",
     "start_time": "2020-09-12T16:40:48.426020Z"
    },
    "scrolled": true
   },
   "outputs": [
    {
     "data": {
      "text/plain": [
       "['Date,Date_days,요일,주말y/n,Location,Lemon(판매잔 수),Lemon_Ratio,,Orange(판매잔 수),Orange_Ratio,,L+O(판매잔 수),정가판매량,Temperature,섭씨,Leaflets,Price,원가,정가,할인가,마진,매출이익',\n",
       " '7/1/2016,2016-07-01 Friday,금,0,Park,97,0.59,0.99,67,0.41,1.01,164,74,70,21.1,90,0.25,1450,5800,1450,0,559700',\n",
       " '7/2/2016,2016-07-02 Saturday,토,1,Park,98,0.59,1,67,0.41,1,165,75,72,22.2,90,0.25,1450,5800,1450,0,565500',\n",
       " '7/3/2016,2016-07-03 Sunday,일,1,Park,110,0.59,0.99,77,0.41,1.02,187,83,71,21.7,104,0.25,1450,5800,1450,0,632200',\n",
       " '7/4/2016,2016-07-04 Monday,월,0,Beach,134,0.58,0.97,99,0.42,1.05,233,135,76,24.4,98,0.25,1450,5800,1450,0,925100']"
      ]
     },
     "execution_count": 236,
     "metadata": {},
     "output_type": "execute_result"
    }
   ],
   "source": [
    "line9 = line9.split('\\n')\n",
    "line9[:5]"
   ]
  },
  {
   "cell_type": "code",
   "execution_count": null,
   "metadata": {
    "ExecuteTime": {
     "end_time": "2020-09-18T07:06:28.081818Z",
     "start_time": "2020-09-18T07:06:27.929226Z"
    }
   },
   "outputs": [],
   "source": [
    "row = []\n",
    "for i in line9:\n",
    "    row.append(i.split(','))\n",
    "row"
   ]
  },
  {
   "cell_type": "code",
   "execution_count": 238,
   "metadata": {
    "ExecuteTime": {
     "end_time": "2020-09-12T16:40:52.878093Z",
     "start_time": "2020-09-12T16:40:52.850196Z"
    }
   },
   "outputs": [
    {
     "data": {
      "text/html": [
       "<div>\n",
       "<style scoped>\n",
       "    .dataframe tbody tr th:only-of-type {\n",
       "        vertical-align: middle;\n",
       "    }\n",
       "\n",
       "    .dataframe tbody tr th {\n",
       "        vertical-align: top;\n",
       "    }\n",
       "\n",
       "    .dataframe thead th {\n",
       "        text-align: right;\n",
       "    }\n",
       "</style>\n",
       "<table border=\"1\" class=\"dataframe\">\n",
       "  <thead>\n",
       "    <tr style=\"text-align: right;\">\n",
       "      <th></th>\n",
       "      <th>Date</th>\n",
       "      <th>Date_days</th>\n",
       "      <th>요일</th>\n",
       "      <th>주말y/n</th>\n",
       "      <th>Location</th>\n",
       "      <th>Lemon(판매잔 수)</th>\n",
       "      <th>Lemon_Ratio</th>\n",
       "      <th></th>\n",
       "      <th>Orange(판매잔 수)</th>\n",
       "      <th>Orange_Ratio</th>\n",
       "      <th>...</th>\n",
       "      <th>정가판매량</th>\n",
       "      <th>Temperature</th>\n",
       "      <th>섭씨</th>\n",
       "      <th>Leaflets</th>\n",
       "      <th>Price</th>\n",
       "      <th>원가</th>\n",
       "      <th>정가</th>\n",
       "      <th>할인가</th>\n",
       "      <th>마진</th>\n",
       "      <th>매출이익</th>\n",
       "    </tr>\n",
       "  </thead>\n",
       "  <tbody>\n",
       "    <tr>\n",
       "      <td>0</td>\n",
       "      <td>7/1/2016</td>\n",
       "      <td>2016-07-01 Friday</td>\n",
       "      <td>금</td>\n",
       "      <td>0</td>\n",
       "      <td>Park</td>\n",
       "      <td>97</td>\n",
       "      <td>0.59</td>\n",
       "      <td>0.99</td>\n",
       "      <td>67</td>\n",
       "      <td>0.41</td>\n",
       "      <td>...</td>\n",
       "      <td>74</td>\n",
       "      <td>70</td>\n",
       "      <td>21.1</td>\n",
       "      <td>90</td>\n",
       "      <td>0.25</td>\n",
       "      <td>1450</td>\n",
       "      <td>5800</td>\n",
       "      <td>1450</td>\n",
       "      <td>0</td>\n",
       "      <td>559700</td>\n",
       "    </tr>\n",
       "    <tr>\n",
       "      <td>1</td>\n",
       "      <td>7/2/2016</td>\n",
       "      <td>2016-07-02 Saturday</td>\n",
       "      <td>토</td>\n",
       "      <td>1</td>\n",
       "      <td>Park</td>\n",
       "      <td>98</td>\n",
       "      <td>0.59</td>\n",
       "      <td>1</td>\n",
       "      <td>67</td>\n",
       "      <td>0.41</td>\n",
       "      <td>...</td>\n",
       "      <td>75</td>\n",
       "      <td>72</td>\n",
       "      <td>22.2</td>\n",
       "      <td>90</td>\n",
       "      <td>0.25</td>\n",
       "      <td>1450</td>\n",
       "      <td>5800</td>\n",
       "      <td>1450</td>\n",
       "      <td>0</td>\n",
       "      <td>565500</td>\n",
       "    </tr>\n",
       "    <tr>\n",
       "      <td>2</td>\n",
       "      <td>7/3/2016</td>\n",
       "      <td>2016-07-03 Sunday</td>\n",
       "      <td>일</td>\n",
       "      <td>1</td>\n",
       "      <td>Park</td>\n",
       "      <td>110</td>\n",
       "      <td>0.59</td>\n",
       "      <td>0.99</td>\n",
       "      <td>77</td>\n",
       "      <td>0.41</td>\n",
       "      <td>...</td>\n",
       "      <td>83</td>\n",
       "      <td>71</td>\n",
       "      <td>21.7</td>\n",
       "      <td>104</td>\n",
       "      <td>0.25</td>\n",
       "      <td>1450</td>\n",
       "      <td>5800</td>\n",
       "      <td>1450</td>\n",
       "      <td>0</td>\n",
       "      <td>632200</td>\n",
       "    </tr>\n",
       "    <tr>\n",
       "      <td>3</td>\n",
       "      <td>7/4/2016</td>\n",
       "      <td>2016-07-04 Monday</td>\n",
       "      <td>월</td>\n",
       "      <td>0</td>\n",
       "      <td>Beach</td>\n",
       "      <td>134</td>\n",
       "      <td>0.58</td>\n",
       "      <td>0.97</td>\n",
       "      <td>99</td>\n",
       "      <td>0.42</td>\n",
       "      <td>...</td>\n",
       "      <td>135</td>\n",
       "      <td>76</td>\n",
       "      <td>24.4</td>\n",
       "      <td>98</td>\n",
       "      <td>0.25</td>\n",
       "      <td>1450</td>\n",
       "      <td>5800</td>\n",
       "      <td>1450</td>\n",
       "      <td>0</td>\n",
       "      <td>925100</td>\n",
       "    </tr>\n",
       "    <tr>\n",
       "      <td>4</td>\n",
       "      <td>7/5/2016</td>\n",
       "      <td>2016-07-05 Tuesday</td>\n",
       "      <td>화</td>\n",
       "      <td>0</td>\n",
       "      <td>Beach</td>\n",
       "      <td>159</td>\n",
       "      <td>0.57</td>\n",
       "      <td>0.96</td>\n",
       "      <td>118</td>\n",
       "      <td>0.43</td>\n",
       "      <td>...</td>\n",
       "      <td>142</td>\n",
       "      <td>78</td>\n",
       "      <td>25.6</td>\n",
       "      <td>135</td>\n",
       "      <td>0.25</td>\n",
       "      <td>1450</td>\n",
       "      <td>5800</td>\n",
       "      <td>1450</td>\n",
       "      <td>0</td>\n",
       "      <td>1019350</td>\n",
       "    </tr>\n",
       "  </tbody>\n",
       "</table>\n",
       "<p>5 rows × 22 columns</p>\n",
       "</div>"
      ],
      "text/plain": [
       "       Date            Date_days 요일 주말y/n Location Lemon(판매잔 수) Lemon_Ratio  \\\n",
       "0  7/1/2016    2016-07-01 Friday  금     0     Park           97        0.59   \n",
       "1  7/2/2016  2016-07-02 Saturday  토     1     Park           98        0.59   \n",
       "2  7/3/2016    2016-07-03 Sunday  일     1     Park          110        0.59   \n",
       "3  7/4/2016    2016-07-04 Monday  월     0    Beach          134        0.58   \n",
       "4  7/5/2016   2016-07-05 Tuesday  화     0    Beach          159        0.57   \n",
       "\n",
       "        Orange(판매잔 수) Orange_Ratio  ... 정가판매량 Temperature    섭씨 Leaflets  \\\n",
       "0  0.99            67         0.41  ...    74          70  21.1       90   \n",
       "1     1            67         0.41  ...    75          72  22.2       90   \n",
       "2  0.99            77         0.41  ...    83          71  21.7      104   \n",
       "3  0.97            99         0.42  ...   135          76  24.4       98   \n",
       "4  0.96           118         0.43  ...   142          78  25.6      135   \n",
       "\n",
       "  Price    원가    정가   할인가 마진     매출이익  \n",
       "0  0.25  1450  5800  1450  0   559700  \n",
       "1  0.25  1450  5800  1450  0   565500  \n",
       "2  0.25  1450  5800  1450  0   632200  \n",
       "3  0.25  1450  5800  1450  0   925100  \n",
       "4  0.25  1450  5800  1450  0  1019350  \n",
       "\n",
       "[5 rows x 22 columns]"
      ]
     },
     "execution_count": 238,
     "metadata": {},
     "output_type": "execute_result"
    }
   ],
   "source": [
    "col_nm = row[0]\n",
    "row = row[1:]\n",
    "df = pd.DataFrame(row, columns = col_nm)\n",
    "df.head()"
   ]
  }
 ],
 "metadata": {
  "kernelspec": {
   "display_name": "Python 3 (ipykernel)",
   "language": "python",
   "name": "python3"
  },
  "language_info": {
   "codemirror_mode": {
    "name": "ipython",
    "version": 3
   },
   "file_extension": ".py",
   "mimetype": "text/x-python",
   "name": "python",
   "nbconvert_exporter": "python",
   "pygments_lexer": "ipython3",
   "version": "3.7.16"
  },
  "toc": {
   "base_numbering": 1,
   "nav_menu": {},
   "number_sections": true,
   "sideBar": true,
   "skip_h1_title": false,
   "title_cell": "Table of Contents",
   "title_sidebar": "Contents",
   "toc_cell": false,
   "toc_position": {
    "height": "calc(100% - 180px)",
    "left": "10px",
    "top": "150px",
    "width": "603px"
   },
   "toc_section_display": true,
   "toc_window_display": true
  },
  "varInspector": {
   "cols": {
    "lenName": 16,
    "lenType": 16,
    "lenVar": 40
   },
   "kernels_config": {
    "python": {
     "delete_cmd_postfix": "",
     "delete_cmd_prefix": "del ",
     "library": "var_list.py",
     "varRefreshCmd": "print(var_dic_list())"
    },
    "r": {
     "delete_cmd_postfix": ") ",
     "delete_cmd_prefix": "rm(",
     "library": "var_list.r",
     "varRefreshCmd": "cat(var_dic_list()) "
    }
   },
   "types_to_exclude": [
    "module",
    "function",
    "builtin_function_or_method",
    "instance",
    "_Feature"
   ],
   "window_display": false
  }
 },
 "nbformat": 4,
 "nbformat_minor": 2
}
