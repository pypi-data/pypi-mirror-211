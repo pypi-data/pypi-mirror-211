{
 "cells": [
  {
   "cell_type": "markdown",
   "metadata": {},
   "source": [
    "# 통계분석_1"
   ]
  },
  {
   "cell_type": "code",
   "execution_count": 1,
   "metadata": {
    "ExecuteTime": {
     "end_time": "2020-09-14T13:35:47.023830Z",
     "start_time": "2020-09-14T13:35:43.083199Z"
    }
   },
   "outputs": [],
   "source": [
    "import pandas as pd\n",
    "import numpy as np"
   ]
  },
  {
   "cell_type": "markdown",
   "metadata": {},
   "source": [
    "# 빈도분석, 분포분석 (기초통계량 Set)"
   ]
  },
  {
   "cell_type": "code",
   "execution_count": 88,
   "metadata": {
    "ExecuteTime": {
     "end_time": "2020-09-14T14:10:49.653360Z",
     "start_time": "2020-09-14T14:10:49.644313Z"
    }
   },
   "outputs": [],
   "source": [
    "df = pd.read_csv('data/titanic_simple.csv')"
   ]
  },
  {
   "cell_type": "code",
   "execution_count": 89,
   "metadata": {
    "ExecuteTime": {
     "end_time": "2020-09-14T14:10:49.662340Z",
     "start_time": "2020-09-14T14:10:49.656355Z"
    }
   },
   "outputs": [
    {
     "data": {
      "text/plain": [
       "(891, 8)"
      ]
     },
     "execution_count": 89,
     "metadata": {},
     "output_type": "execute_result"
    }
   ],
   "source": [
    "df.shape"
   ]
  },
  {
   "cell_type": "code",
   "execution_count": 90,
   "metadata": {
    "ExecuteTime": {
     "end_time": "2020-09-14T14:10:49.670319Z",
     "start_time": "2020-09-14T14:10:49.665331Z"
    }
   },
   "outputs": [],
   "source": [
    "# type별로 컬럼 분류\n",
    "col_id = ['PassengerId', 'Name']\n",
    "col_cat = ['Survived', 'Pclass', 'Sex', 'Embarked']\n",
    "col_num = ['Age', 'Fare']"
   ]
  },
  {
   "cell_type": "code",
   "execution_count": 91,
   "metadata": {
    "ExecuteTime": {
     "end_time": "2020-09-14T14:10:49.692260Z",
     "start_time": "2020-09-14T14:10:49.673325Z"
    },
    "hide_input": false
   },
   "outputs": [],
   "source": [
    "# dtypes 맞춰주는 중\n",
    "\n",
    "#연속형\n",
    "df[col_num] = df[col_num].astype('int', errors = 'ignore')\n",
    "\n",
    "# 고윳값\n",
    "df[col_id] = df[col_id].astype('str')\n",
    "\n",
    "#범주형\n",
    "for i in col_cat:\n",
    "    df[i] = pd.Categorical(df[i])"
   ]
  },
  {
   "cell_type": "code",
   "execution_count": 92,
   "metadata": {
    "ExecuteTime": {
     "end_time": "2020-09-14T14:10:49.706283Z",
     "start_time": "2020-09-14T14:10:49.695257Z"
    }
   },
   "outputs": [
    {
     "data": {
      "text/plain": [
       "PassengerId      object\n",
       "Survived       category\n",
       "Pclass         category\n",
       "Name             object\n",
       "Sex            category\n",
       "Age             float64\n",
       "Fare            float64\n",
       "Embarked       category\n",
       "dtype: object"
      ]
     },
     "execution_count": 92,
     "metadata": {},
     "output_type": "execute_result"
    }
   ],
   "source": [
    "df.dtypes"
   ]
  },
  {
   "cell_type": "code",
   "execution_count": 93,
   "metadata": {
    "ExecuteTime": {
     "end_time": "2020-09-14T14:10:49.760418Z",
     "start_time": "2020-09-14T14:10:49.710196Z"
    }
   },
   "outputs": [
    {
     "data": {
      "text/html": [
       "<div>\n",
       "<style scoped>\n",
       "    .dataframe tbody tr th:only-of-type {\n",
       "        vertical-align: middle;\n",
       "    }\n",
       "\n",
       "    .dataframe tbody tr th {\n",
       "        vertical-align: top;\n",
       "    }\n",
       "\n",
       "    .dataframe thead th {\n",
       "        text-align: right;\n",
       "    }\n",
       "</style>\n",
       "<table border=\"1\" class=\"dataframe\">\n",
       "  <thead>\n",
       "    <tr style=\"text-align: right;\">\n",
       "      <th></th>\n",
       "      <th>PassengerId</th>\n",
       "      <th>Survived</th>\n",
       "      <th>Pclass</th>\n",
       "      <th>Name</th>\n",
       "      <th>Sex</th>\n",
       "      <th>Age</th>\n",
       "      <th>Fare</th>\n",
       "      <th>Embarked</th>\n",
       "    </tr>\n",
       "  </thead>\n",
       "  <tbody>\n",
       "    <tr>\n",
       "      <td>0</td>\n",
       "      <td>1</td>\n",
       "      <td>0</td>\n",
       "      <td>3</td>\n",
       "      <td>Braund, Mr. Owen Harris</td>\n",
       "      <td>male</td>\n",
       "      <td>22.0</td>\n",
       "      <td>7.2500</td>\n",
       "      <td>Southhampton</td>\n",
       "    </tr>\n",
       "    <tr>\n",
       "      <td>1</td>\n",
       "      <td>2</td>\n",
       "      <td>1</td>\n",
       "      <td>1</td>\n",
       "      <td>Cumings, Mrs. John Bradley (Florence Briggs Th...</td>\n",
       "      <td>female</td>\n",
       "      <td>38.0</td>\n",
       "      <td>71.2833</td>\n",
       "      <td>Cherbourg</td>\n",
       "    </tr>\n",
       "    <tr>\n",
       "      <td>2</td>\n",
       "      <td>3</td>\n",
       "      <td>1</td>\n",
       "      <td>3</td>\n",
       "      <td>Heikkinen, Miss. Laina</td>\n",
       "      <td>female</td>\n",
       "      <td>26.0</td>\n",
       "      <td>7.9250</td>\n",
       "      <td>Southhampton</td>\n",
       "    </tr>\n",
       "    <tr>\n",
       "      <td>3</td>\n",
       "      <td>4</td>\n",
       "      <td>1</td>\n",
       "      <td>1</td>\n",
       "      <td>Futrelle, Mrs. Jacques Heath (Lily May Peel)</td>\n",
       "      <td>female</td>\n",
       "      <td>35.0</td>\n",
       "      <td>53.1000</td>\n",
       "      <td>Southhampton</td>\n",
       "    </tr>\n",
       "    <tr>\n",
       "      <td>4</td>\n",
       "      <td>5</td>\n",
       "      <td>0</td>\n",
       "      <td>3</td>\n",
       "      <td>Allen, Mr. William Henry</td>\n",
       "      <td>male</td>\n",
       "      <td>35.0</td>\n",
       "      <td>8.0500</td>\n",
       "      <td>Southhampton</td>\n",
       "    </tr>\n",
       "  </tbody>\n",
       "</table>\n",
       "</div>"
      ],
      "text/plain": [
       "  PassengerId Survived Pclass  \\\n",
       "0           1        0      3   \n",
       "1           2        1      1   \n",
       "2           3        1      3   \n",
       "3           4        1      1   \n",
       "4           5        0      3   \n",
       "\n",
       "                                                Name     Sex   Age     Fare  \\\n",
       "0                            Braund, Mr. Owen Harris    male  22.0   7.2500   \n",
       "1  Cumings, Mrs. John Bradley (Florence Briggs Th...  female  38.0  71.2833   \n",
       "2                             Heikkinen, Miss. Laina  female  26.0   7.9250   \n",
       "3       Futrelle, Mrs. Jacques Heath (Lily May Peel)  female  35.0  53.1000   \n",
       "4                           Allen, Mr. William Henry    male  35.0   8.0500   \n",
       "\n",
       "       Embarked  \n",
       "0  Southhampton  \n",
       "1     Cherbourg  \n",
       "2  Southhampton  \n",
       "3  Southhampton  \n",
       "4  Southhampton  "
      ]
     },
     "execution_count": 93,
     "metadata": {},
     "output_type": "execute_result"
    }
   ],
   "source": [
    "df.head()"
   ]
  },
  {
   "cell_type": "markdown",
   "metadata": {},
   "source": [
    "## 기초통계량 Set"
   ]
  },
  {
   "cell_type": "code",
   "execution_count": 120,
   "metadata": {
    "ExecuteTime": {
     "end_time": "2020-09-14T14:19:42.413857Z",
     "start_time": "2020-09-14T14:19:42.403913Z"
    }
   },
   "outputs": [],
   "source": [
    "# data에는 df[col_num]으로 연속형 변수만 선택된 데이터프레임이 들어가야 함\n",
    "def DA(data):\n",
    "    da = data.describe(percentiles=[0.01, 0.05, 0.1, 0.25, 0.5, 0.75, 0.9, 0.95, 0.99])\n",
    "    da = da.T\n",
    "    df1 = data.isna().sum() # 결측값\n",
    "    df1.name = 'missing'\n",
    "\n",
    "    df2 = data.median() # 중앙값\n",
    "    df2.name = 'median'\n",
    "\n",
    "    df3 = np.var(data) # 분산\n",
    "    df3.name = 'variance'\n",
    "\n",
    "    df4 = data.skew() # 왜도 : 양수면 왼쪽으로 치우침\n",
    "    df4.name = 'skewness'\n",
    "\n",
    "    df5 = data.kurtosis() # 첨도 : 0보다 클수록 뾰족함\n",
    "    df5.name = 'kurtosis'\n",
    "\n",
    "    da = pd.concat([da,df1,df2,df3,df4,df5], axis=1) # 모두 합침\n",
    "\n",
    "    da['total'] = da['count'] + da['missing'] # 전체 데이터 수\n",
    "\n",
    "    # 컬럼 순서 보기 좋게 정렬\n",
    "    col_nm = da.columns.tolist()\n",
    "    order = [0, 14, 19, 1, 15, 2, 16, 17, 18]\n",
    "    col_nm_new=[]\n",
    "    for i in order:\n",
    "        col_nm_new.append(col_nm[i])\n",
    "    col_nm_new.extend(col_nm[3:14])\n",
    "    da = da[col_nm_new]\n",
    "    \n",
    "    # 소수점 둘째자리 반올림\n",
    "    da = da.round(2) \n",
    "    return da"
   ]
  },
  {
   "cell_type": "markdown",
   "metadata": {},
   "source": [
    "# 분할표의 검정"
   ]
  },
  {
   "cell_type": "markdown",
   "metadata": {},
   "source": [
    "## Fisher의 직접확률 검정\n",
    "- 2 x 2 교차표에서 전체 데이터 숫자의 20%를 초과하는 Cell에서의 빈도가 5 미만이면 카이제곱테스트보다는 피셔의 정확성 검정을 하는 것이 좋다\n",
    "- 5이상이어도 계산 가능하다"
   ]
  },
  {
   "cell_type": "markdown",
   "metadata": {},
   "source": [
    "**예시**\n",
    "- 대서양과 인도양에서 고래와 상어를 세는 데 며칠을 보낸다고 가정 해 보겠습니다. 대서양에서는 고래 8 마리와 상어 1 마리, 인도양에서는 고래 2 마리와 상어 5 마리가 있습니다. 그러면 우리의 분할 표는 다음과 같습니다."
   ]
  },
  {
   "cell_type": "code",
   "execution_count": 145,
   "metadata": {
    "ExecuteTime": {
     "end_time": "2020-09-14T14:52:36.695784Z",
     "start_time": "2020-09-14T14:52:36.685164Z"
    }
   },
   "outputs": [
    {
     "data": {
      "text/html": [
       "<div>\n",
       "<style scoped>\n",
       "    .dataframe tbody tr th:only-of-type {\n",
       "        vertical-align: middle;\n",
       "    }\n",
       "\n",
       "    .dataframe tbody tr th {\n",
       "        vertical-align: top;\n",
       "    }\n",
       "\n",
       "    .dataframe thead th {\n",
       "        text-align: right;\n",
       "    }\n",
       "</style>\n",
       "<table border=\"1\" class=\"dataframe\">\n",
       "  <thead>\n",
       "    <tr style=\"text-align: right;\">\n",
       "      <th></th>\n",
       "      <th>Atlantic</th>\n",
       "      <th>Indian</th>\n",
       "    </tr>\n",
       "  </thead>\n",
       "  <tbody>\n",
       "    <tr>\n",
       "      <td>whales</td>\n",
       "      <td>8</td>\n",
       "      <td>2</td>\n",
       "    </tr>\n",
       "    <tr>\n",
       "      <td>sharks</td>\n",
       "      <td>1</td>\n",
       "      <td>5</td>\n",
       "    </tr>\n",
       "  </tbody>\n",
       "</table>\n",
       "</div>"
      ],
      "text/plain": [
       "        Atlantic  Indian\n",
       "whales         8       2\n",
       "sharks         1       5"
      ]
     },
     "execution_count": 145,
     "metadata": {},
     "output_type": "execute_result"
    }
   ],
   "source": [
    "data = np.array([[8,2],[1,5]])\n",
    "data = pd.DataFrame(data, columns=['Atlantic', 'Indian'])\n",
    "data.index = ['whales','sharks']\n",
    "data"
   ]
  },
  {
   "cell_type": "code",
   "execution_count": 141,
   "metadata": {
    "ExecuteTime": {
     "end_time": "2020-09-14T14:50:54.468624Z",
     "start_time": "2020-09-14T14:50:54.459353Z"
    }
   },
   "outputs": [
    {
     "data": {
      "text/plain": [
       "0.03496503496503495"
      ]
     },
     "execution_count": 141,
     "metadata": {},
     "output_type": "execute_result"
    }
   ],
   "source": [
    "import scipy.stats as stats\n",
    "oddsratio, pvalue = stats.fisher_exact(data) # 교차표는 리스트, 배열, 데이터프레임 형식 모두 됨\n",
    "pvalue"
   ]
  },
  {
   "cell_type": "markdown",
   "metadata": {},
   "source": [
    "**해석**\n",
    "- 우연히 이것을 관찰하거나 훨씬 더 불균형 한 비율을 관찰 할 확률은 약 3.5 %입니다. 일반적으로 사용되는 유의 수준은 5 %입니다.이를 채택하면 관측 된 불균형이 통계적으로 유의하다는 결론을 내릴 수 있습니다. 고래는 대서양을 선호하고 상어는 인도양을 선호합니다."
   ]
  },
  {
   "cell_type": "markdown",
   "metadata": {},
   "source": [
    "## 맥네마의 검정\n",
    "- **같은 샘플(paired)** 의 전후 상태를 교차표로 만들어 검정하는 것\n",
    "- 상태는 1, 0 또는 good, bad처럼 명목형임"
   ]
  },
  {
   "cell_type": "code",
   "execution_count": 185,
   "metadata": {
    "ExecuteTime": {
     "end_time": "2020-09-14T15:55:00.793467Z",
     "start_time": "2020-09-14T15:55:00.782442Z"
    }
   },
   "outputs": [
    {
     "name": "stdout",
     "output_type": "stream",
     "text": [
      "이런 데이터인데 실제 사용할 때는 데이터프레임은 사용 불가. 배열로 입력해야함\n"
     ]
    },
    {
     "data": {
      "text/html": [
       "<div>\n",
       "<style scoped>\n",
       "    .dataframe tbody tr th:only-of-type {\n",
       "        vertical-align: middle;\n",
       "    }\n",
       "\n",
       "    .dataframe tbody tr th {\n",
       "        vertical-align: top;\n",
       "    }\n",
       "\n",
       "    .dataframe thead th {\n",
       "        text-align: right;\n",
       "    }\n",
       "</style>\n",
       "<table border=\"1\" class=\"dataframe\">\n",
       "  <thead>\n",
       "    <tr style=\"text-align: right;\">\n",
       "      <th></th>\n",
       "      <th>After:Good</th>\n",
       "      <th>After:Bad</th>\n",
       "    </tr>\n",
       "  </thead>\n",
       "  <tbody>\n",
       "    <tr>\n",
       "      <td>Before:Good</td>\n",
       "      <td>40</td>\n",
       "      <td>6</td>\n",
       "    </tr>\n",
       "    <tr>\n",
       "      <td>Before:Bad</td>\n",
       "      <td>2</td>\n",
       "      <td>11</td>\n",
       "    </tr>\n",
       "  </tbody>\n",
       "</table>\n",
       "</div>"
      ],
      "text/plain": [
       "             After:Good  After:Bad\n",
       "Before:Good          40          6\n",
       "Before:Bad            2         11"
      ]
     },
     "execution_count": 185,
     "metadata": {},
     "output_type": "execute_result"
    }
   ],
   "source": [
    "data = pd.DataFrame([[40, 6],[2, 11]], columns=['After:Good', 'After:Bad'])\n",
    "data.index = ['Before:Good','Before:Bad']\n",
    "print('이런 데이터인데 실제 사용할 때는 데이터프레임은 사용 불가. 배열로 입력해야함')\n",
    "data"
   ]
  },
  {
   "cell_type": "code",
   "execution_count": 186,
   "metadata": {
    "ExecuteTime": {
     "end_time": "2020-09-14T15:56:00.206380Z",
     "start_time": "2020-09-14T15:56:00.201501Z"
    }
   },
   "outputs": [],
   "source": [
    "data = np.array(data)\n",
    "from statsmodels.stats.contingency_tables import mcnemar\n",
    "# Cell 2 + Cell 3 샘플 사이즈가 25개 미만일 때\n",
    "result = mcnemar(data, exact=True)\n",
    "\n",
    "# Cell 2 + Cell 3 샘플 사이즈가 25개 이상일 때\n",
    "# result = mcnemar([[8, 10],[17, 3]], exact=False, correction=True)"
   ]
  },
  {
   "cell_type": "code",
   "execution_count": 187,
   "metadata": {
    "ExecuteTime": {
     "end_time": "2020-09-14T15:56:01.309404Z",
     "start_time": "2020-09-14T15:56:01.305413Z"
    }
   },
   "outputs": [
    {
     "name": "stdout",
     "output_type": "stream",
     "text": [
      "pvalue      0.2890624999999999\n",
      "statistic   2.0\n"
     ]
    }
   ],
   "source": [
    "print(result)"
   ]
  },
  {
   "cell_type": "markdown",
   "metadata": {},
   "source": [
    "**해석**\n",
    "- p-value가 0.05보다 크므로 귀무가설을 기각하지 않아, 전후 차이가 있다고 보기 어렵다."
   ]
  },
  {
   "cell_type": "markdown",
   "metadata": {},
   "source": [
    "# 상관분석\n",
    "- 상관분석(Correlation Analysis)은 확률론과 통계학에서 두 변수간에 어떤 선형적 관계를 갖고 있는 지를 분석하는 방법입니다. 두변수는 서로 독립적인 관계로부터 서로 상관된 관계일 수 있으며 이때 두 변수간의 관계의 강도를 상관관계(Correlation, Correlation coefficient)라 합니다. 상관분석에서는 상관관계의 정도를 나타내는 단위로 모상관계수 ρ를 사용합니다.\n",
    "- r 값은 x 와 y 가 완전히 동일하면 +1, 전혀 다르면 0, 반대방향으로 완전히 동일하면 -1 의 값을 갖습니다. 일반적으로 다음과 같이 해석합니다.\n",
    "- 0.1 ~ 0.3:약한 상관관계 / 0.3 ~ 0.7: 뚜렷한 상관관계 / 0.7 ~ 1.0: 강한 상관관계"
   ]
  },
  {
   "cell_type": "code",
   "execution_count": 188,
   "metadata": {
    "ExecuteTime": {
     "end_time": "2020-09-14T16:08:54.420879Z",
     "start_time": "2020-09-14T16:08:54.398911Z"
    }
   },
   "outputs": [],
   "source": [
    "data = pd.read_csv('data/kobe.csv')"
   ]
  },
  {
   "cell_type": "markdown",
   "metadata": {},
   "source": [
    "## 상관계수"
   ]
  },
  {
   "cell_type": "code",
   "execution_count": 190,
   "metadata": {
    "ExecuteTime": {
     "end_time": "2020-09-14T16:09:07.892818Z",
     "start_time": "2020-09-14T16:09:07.866039Z"
    }
   },
   "outputs": [
    {
     "data": {
      "text/html": [
       "<div>\n",
       "<style scoped>\n",
       "    .dataframe tbody tr th:only-of-type {\n",
       "        vertical-align: middle;\n",
       "    }\n",
       "\n",
       "    .dataframe tbody tr th {\n",
       "        vertical-align: top;\n",
       "    }\n",
       "\n",
       "    .dataframe thead th {\n",
       "        text-align: right;\n",
       "    }\n",
       "</style>\n",
       "<table border=\"1\" class=\"dataframe\">\n",
       "  <thead>\n",
       "    <tr style=\"text-align: right;\">\n",
       "      <th></th>\n",
       "      <th>game_event_id</th>\n",
       "      <th>game_id</th>\n",
       "      <th>lat</th>\n",
       "      <th>loc_x</th>\n",
       "      <th>loc_y</th>\n",
       "      <th>lon</th>\n",
       "      <th>minutes_remaining</th>\n",
       "      <th>period</th>\n",
       "      <th>playoffs</th>\n",
       "      <th>seconds_remaining</th>\n",
       "      <th>shot_distance</th>\n",
       "      <th>shot_made_flag</th>\n",
       "      <th>team_id</th>\n",
       "      <th>shot_id</th>\n",
       "    </tr>\n",
       "  </thead>\n",
       "  <tbody>\n",
       "    <tr>\n",
       "      <td>game_event_id</td>\n",
       "      <td>1.000000</td>\n",
       "      <td>0.009158</td>\n",
       "      <td>-0.010046</td>\n",
       "      <td>-0.036144</td>\n",
       "      <td>0.010046</td>\n",
       "      <td>-0.036144</td>\n",
       "      <td>-0.256954</td>\n",
       "      <td>0.960449</td>\n",
       "      <td>NaN</td>\n",
       "      <td>-0.038402</td>\n",
       "      <td>0.017654</td>\n",
       "      <td>-0.036044</td>\n",
       "      <td>NaN</td>\n",
       "      <td>0.033857</td>\n",
       "    </tr>\n",
       "    <tr>\n",
       "      <td>game_id</td>\n",
       "      <td>0.009158</td>\n",
       "      <td>1.000000</td>\n",
       "      <td>0.027316</td>\n",
       "      <td>0.013283</td>\n",
       "      <td>-0.027316</td>\n",
       "      <td>0.013283</td>\n",
       "      <td>-0.012726</td>\n",
       "      <td>-0.010312</td>\n",
       "      <td>NaN</td>\n",
       "      <td>0.013478</td>\n",
       "      <td>-0.037993</td>\n",
       "      <td>0.010778</td>\n",
       "      <td>NaN</td>\n",
       "      <td>0.850040</td>\n",
       "    </tr>\n",
       "    <tr>\n",
       "      <td>lat</td>\n",
       "      <td>-0.010046</td>\n",
       "      <td>0.027316</td>\n",
       "      <td>1.000000</td>\n",
       "      <td>-0.027813</td>\n",
       "      <td>-1.000000</td>\n",
       "      <td>-0.027813</td>\n",
       "      <td>0.056295</td>\n",
       "      <td>0.008438</td>\n",
       "      <td>NaN</td>\n",
       "      <td>0.068704</td>\n",
       "      <td>-0.805006</td>\n",
       "      <td>0.149569</td>\n",
       "      <td>NaN</td>\n",
       "      <td>0.059099</td>\n",
       "    </tr>\n",
       "    <tr>\n",
       "      <td>loc_x</td>\n",
       "      <td>-0.036144</td>\n",
       "      <td>0.013283</td>\n",
       "      <td>-0.027813</td>\n",
       "      <td>1.000000</td>\n",
       "      <td>0.027813</td>\n",
       "      <td>1.000000</td>\n",
       "      <td>0.032197</td>\n",
       "      <td>-0.028128</td>\n",
       "      <td>NaN</td>\n",
       "      <td>-0.038191</td>\n",
       "      <td>0.073700</td>\n",
       "      <td>0.019830</td>\n",
       "      <td>NaN</td>\n",
       "      <td>0.024730</td>\n",
       "    </tr>\n",
       "    <tr>\n",
       "      <td>loc_y</td>\n",
       "      <td>0.010046</td>\n",
       "      <td>-0.027316</td>\n",
       "      <td>-1.000000</td>\n",
       "      <td>0.027813</td>\n",
       "      <td>1.000000</td>\n",
       "      <td>0.027813</td>\n",
       "      <td>-0.056295</td>\n",
       "      <td>-0.008438</td>\n",
       "      <td>NaN</td>\n",
       "      <td>-0.068704</td>\n",
       "      <td>0.805006</td>\n",
       "      <td>-0.149569</td>\n",
       "      <td>NaN</td>\n",
       "      <td>-0.059099</td>\n",
       "    </tr>\n",
       "    <tr>\n",
       "      <td>lon</td>\n",
       "      <td>-0.036144</td>\n",
       "      <td>0.013283</td>\n",
       "      <td>-0.027813</td>\n",
       "      <td>1.000000</td>\n",
       "      <td>0.027813</td>\n",
       "      <td>1.000000</td>\n",
       "      <td>0.032197</td>\n",
       "      <td>-0.028128</td>\n",
       "      <td>NaN</td>\n",
       "      <td>-0.038191</td>\n",
       "      <td>0.073700</td>\n",
       "      <td>0.019830</td>\n",
       "      <td>NaN</td>\n",
       "      <td>0.024730</td>\n",
       "    </tr>\n",
       "    <tr>\n",
       "      <td>minutes_remaining</td>\n",
       "      <td>-0.256954</td>\n",
       "      <td>-0.012726</td>\n",
       "      <td>0.056295</td>\n",
       "      <td>0.032197</td>\n",
       "      <td>-0.056295</td>\n",
       "      <td>0.032197</td>\n",
       "      <td>1.000000</td>\n",
       "      <td>-0.019160</td>\n",
       "      <td>NaN</td>\n",
       "      <td>0.030857</td>\n",
       "      <td>-0.049937</td>\n",
       "      <td>0.025117</td>\n",
       "      <td>NaN</td>\n",
       "      <td>-0.028193</td>\n",
       "    </tr>\n",
       "    <tr>\n",
       "      <td>period</td>\n",
       "      <td>0.960449</td>\n",
       "      <td>-0.010312</td>\n",
       "      <td>0.008438</td>\n",
       "      <td>-0.028128</td>\n",
       "      <td>-0.008438</td>\n",
       "      <td>-0.028128</td>\n",
       "      <td>-0.019160</td>\n",
       "      <td>1.000000</td>\n",
       "      <td>NaN</td>\n",
       "      <td>-0.012597</td>\n",
       "      <td>0.004314</td>\n",
       "      <td>-0.029318</td>\n",
       "      <td>NaN</td>\n",
       "      <td>0.015836</td>\n",
       "    </tr>\n",
       "    <tr>\n",
       "      <td>playoffs</td>\n",
       "      <td>NaN</td>\n",
       "      <td>NaN</td>\n",
       "      <td>NaN</td>\n",
       "      <td>NaN</td>\n",
       "      <td>NaN</td>\n",
       "      <td>NaN</td>\n",
       "      <td>NaN</td>\n",
       "      <td>NaN</td>\n",
       "      <td>NaN</td>\n",
       "      <td>NaN</td>\n",
       "      <td>NaN</td>\n",
       "      <td>NaN</td>\n",
       "      <td>NaN</td>\n",
       "      <td>NaN</td>\n",
       "    </tr>\n",
       "    <tr>\n",
       "      <td>seconds_remaining</td>\n",
       "      <td>-0.038402</td>\n",
       "      <td>0.013478</td>\n",
       "      <td>0.068704</td>\n",
       "      <td>-0.038191</td>\n",
       "      <td>-0.068704</td>\n",
       "      <td>-0.038191</td>\n",
       "      <td>0.030857</td>\n",
       "      <td>-0.012597</td>\n",
       "      <td>NaN</td>\n",
       "      <td>1.000000</td>\n",
       "      <td>-0.050019</td>\n",
       "      <td>0.045542</td>\n",
       "      <td>NaN</td>\n",
       "      <td>0.003988</td>\n",
       "    </tr>\n",
       "    <tr>\n",
       "      <td>shot_distance</td>\n",
       "      <td>0.017654</td>\n",
       "      <td>-0.037993</td>\n",
       "      <td>-0.805006</td>\n",
       "      <td>0.073700</td>\n",
       "      <td>0.805006</td>\n",
       "      <td>0.073700</td>\n",
       "      <td>-0.049937</td>\n",
       "      <td>0.004314</td>\n",
       "      <td>NaN</td>\n",
       "      <td>-0.050019</td>\n",
       "      <td>1.000000</td>\n",
       "      <td>-0.195982</td>\n",
       "      <td>NaN</td>\n",
       "      <td>-0.056344</td>\n",
       "    </tr>\n",
       "    <tr>\n",
       "      <td>shot_made_flag</td>\n",
       "      <td>-0.036044</td>\n",
       "      <td>0.010778</td>\n",
       "      <td>0.149569</td>\n",
       "      <td>0.019830</td>\n",
       "      <td>-0.149569</td>\n",
       "      <td>0.019830</td>\n",
       "      <td>0.025117</td>\n",
       "      <td>-0.029318</td>\n",
       "      <td>NaN</td>\n",
       "      <td>0.045542</td>\n",
       "      <td>-0.195982</td>\n",
       "      <td>1.000000</td>\n",
       "      <td>NaN</td>\n",
       "      <td>-0.013651</td>\n",
       "    </tr>\n",
       "    <tr>\n",
       "      <td>team_id</td>\n",
       "      <td>NaN</td>\n",
       "      <td>NaN</td>\n",
       "      <td>NaN</td>\n",
       "      <td>NaN</td>\n",
       "      <td>NaN</td>\n",
       "      <td>NaN</td>\n",
       "      <td>NaN</td>\n",
       "      <td>NaN</td>\n",
       "      <td>NaN</td>\n",
       "      <td>NaN</td>\n",
       "      <td>NaN</td>\n",
       "      <td>NaN</td>\n",
       "      <td>NaN</td>\n",
       "      <td>NaN</td>\n",
       "    </tr>\n",
       "    <tr>\n",
       "      <td>shot_id</td>\n",
       "      <td>0.033857</td>\n",
       "      <td>0.850040</td>\n",
       "      <td>0.059099</td>\n",
       "      <td>0.024730</td>\n",
       "      <td>-0.059099</td>\n",
       "      <td>0.024730</td>\n",
       "      <td>-0.028193</td>\n",
       "      <td>0.015836</td>\n",
       "      <td>NaN</td>\n",
       "      <td>0.003988</td>\n",
       "      <td>-0.056344</td>\n",
       "      <td>-0.013651</td>\n",
       "      <td>NaN</td>\n",
       "      <td>1.000000</td>\n",
       "    </tr>\n",
       "  </tbody>\n",
       "</table>\n",
       "</div>"
      ],
      "text/plain": [
       "                   game_event_id   game_id       lat     loc_x     loc_y  \\\n",
       "game_event_id           1.000000  0.009158 -0.010046 -0.036144  0.010046   \n",
       "game_id                 0.009158  1.000000  0.027316  0.013283 -0.027316   \n",
       "lat                    -0.010046  0.027316  1.000000 -0.027813 -1.000000   \n",
       "loc_x                  -0.036144  0.013283 -0.027813  1.000000  0.027813   \n",
       "loc_y                   0.010046 -0.027316 -1.000000  0.027813  1.000000   \n",
       "lon                    -0.036144  0.013283 -0.027813  1.000000  0.027813   \n",
       "minutes_remaining      -0.256954 -0.012726  0.056295  0.032197 -0.056295   \n",
       "period                  0.960449 -0.010312  0.008438 -0.028128 -0.008438   \n",
       "playoffs                     NaN       NaN       NaN       NaN       NaN   \n",
       "seconds_remaining      -0.038402  0.013478  0.068704 -0.038191 -0.068704   \n",
       "shot_distance           0.017654 -0.037993 -0.805006  0.073700  0.805006   \n",
       "shot_made_flag         -0.036044  0.010778  0.149569  0.019830 -0.149569   \n",
       "team_id                      NaN       NaN       NaN       NaN       NaN   \n",
       "shot_id                 0.033857  0.850040  0.059099  0.024730 -0.059099   \n",
       "\n",
       "                        lon  minutes_remaining    period  playoffs  \\\n",
       "game_event_id     -0.036144          -0.256954  0.960449       NaN   \n",
       "game_id            0.013283          -0.012726 -0.010312       NaN   \n",
       "lat               -0.027813           0.056295  0.008438       NaN   \n",
       "loc_x              1.000000           0.032197 -0.028128       NaN   \n",
       "loc_y              0.027813          -0.056295 -0.008438       NaN   \n",
       "lon                1.000000           0.032197 -0.028128       NaN   \n",
       "minutes_remaining  0.032197           1.000000 -0.019160       NaN   \n",
       "period            -0.028128          -0.019160  1.000000       NaN   \n",
       "playoffs                NaN                NaN       NaN       NaN   \n",
       "seconds_remaining -0.038191           0.030857 -0.012597       NaN   \n",
       "shot_distance      0.073700          -0.049937  0.004314       NaN   \n",
       "shot_made_flag     0.019830           0.025117 -0.029318       NaN   \n",
       "team_id                 NaN                NaN       NaN       NaN   \n",
       "shot_id            0.024730          -0.028193  0.015836       NaN   \n",
       "\n",
       "                   seconds_remaining  shot_distance  shot_made_flag  team_id  \\\n",
       "game_event_id              -0.038402       0.017654       -0.036044      NaN   \n",
       "game_id                     0.013478      -0.037993        0.010778      NaN   \n",
       "lat                         0.068704      -0.805006        0.149569      NaN   \n",
       "loc_x                      -0.038191       0.073700        0.019830      NaN   \n",
       "loc_y                      -0.068704       0.805006       -0.149569      NaN   \n",
       "lon                        -0.038191       0.073700        0.019830      NaN   \n",
       "minutes_remaining           0.030857      -0.049937        0.025117      NaN   \n",
       "period                     -0.012597       0.004314       -0.029318      NaN   \n",
       "playoffs                         NaN            NaN             NaN      NaN   \n",
       "seconds_remaining           1.000000      -0.050019        0.045542      NaN   \n",
       "shot_distance              -0.050019       1.000000       -0.195982      NaN   \n",
       "shot_made_flag              0.045542      -0.195982        1.000000      NaN   \n",
       "team_id                          NaN            NaN             NaN      NaN   \n",
       "shot_id                     0.003988      -0.056344       -0.013651      NaN   \n",
       "\n",
       "                    shot_id  \n",
       "game_event_id      0.033857  \n",
       "game_id            0.850040  \n",
       "lat                0.059099  \n",
       "loc_x              0.024730  \n",
       "loc_y             -0.059099  \n",
       "lon                0.024730  \n",
       "minutes_remaining -0.028193  \n",
       "period             0.015836  \n",
       "playoffs                NaN  \n",
       "seconds_remaining  0.003988  \n",
       "shot_distance     -0.056344  \n",
       "shot_made_flag    -0.013651  \n",
       "team_id                 NaN  \n",
       "shot_id            1.000000  "
      ]
     },
     "execution_count": 190,
     "metadata": {},
     "output_type": "execute_result"
    }
   ],
   "source": [
    "data.corr()"
   ]
  },
  {
   "cell_type": "markdown",
   "metadata": {},
   "source": [
    "## 시각화 Heatmap"
   ]
  },
  {
   "cell_type": "code",
   "execution_count": 199,
   "metadata": {
    "ExecuteTime": {
     "end_time": "2020-09-14T16:18:55.111536Z",
     "start_time": "2020-09-14T16:18:54.247514Z"
    }
   },
   "outputs": [
    {
     "name": "stdout",
     "output_type": "stream",
     "text": [
      "13.5 0.5\n"
     ]
    },
    {
     "data": {
      "image/png": "[encoded data removed]",
      "text/plain": [
       "<Figure size 576x576 with 2 Axes>"
      ]
     },
     "metadata": {
      "needs_background": "light"
     },
     "output_type": "display_data"
    }
   ],
   "source": [
    "%matplotlib inline\n",
    "import matplotlib.pyplot as plt \n",
    "import seaborn as sns\n",
    "\n",
    "fig, ax = plt.subplots(figsize=(8,8))\n",
    "sns.heatmap(data = data.corr(), annot=True, fmt = '.2f', linewidths=.5, cmap='Blues')\n",
    "\n",
    "# heatmap이 잘릴 대 아래 작성\n",
    "buttom, top = ax.get_ylim()\n",
    "print(buttom,top)\n",
    "ax.set_ylim(buttom+0.5,top-0.5)\n",
    "\n",
    "plt.show()"
   ]
  },
  {
   "cell_type": "markdown",
   "metadata": {},
   "source": [
    "# 회귀분석"
   ]
  },
  {
   "cell_type": "markdown",
   "metadata": {},
   "source": [
    "## 단순회귀분석\n",
    "- 종속변수를 하나의 독립변수로 설명하는 것\n",
    "- y ~ X1"
   ]
  },
  {
   "cell_type": "code",
   "execution_count": 205,
   "metadata": {
    "ExecuteTime": {
     "end_time": "2020-09-14T16:24:08.337956Z",
     "start_time": "2020-09-14T16:24:08.325895Z"
    }
   },
   "outputs": [
    {
     "data": {
      "text/html": [
       "<div>\n",
       "<style scoped>\n",
       "    .dataframe tbody tr th:only-of-type {\n",
       "        vertical-align: middle;\n",
       "    }\n",
       "\n",
       "    .dataframe tbody tr th {\n",
       "        vertical-align: top;\n",
       "    }\n",
       "\n",
       "    .dataframe thead th {\n",
       "        text-align: right;\n",
       "    }\n",
       "</style>\n",
       "<table border=\"1\" class=\"dataframe\">\n",
       "  <thead>\n",
       "    <tr style=\"text-align: right;\">\n",
       "      <th></th>\n",
       "      <th>height</th>\n",
       "      <th>weight</th>\n",
       "    </tr>\n",
       "  </thead>\n",
       "  <tbody>\n",
       "    <tr>\n",
       "      <td>0</td>\n",
       "      <td>170</td>\n",
       "      <td>70</td>\n",
       "    </tr>\n",
       "    <tr>\n",
       "      <td>1</td>\n",
       "      <td>168</td>\n",
       "      <td>66</td>\n",
       "    </tr>\n",
       "    <tr>\n",
       "      <td>2</td>\n",
       "      <td>177</td>\n",
       "      <td>73</td>\n",
       "    </tr>\n",
       "  </tbody>\n",
       "</table>\n",
       "</div>"
      ],
      "text/plain": [
       "   height  weight\n",
       "0     170      70\n",
       "1     168      66\n",
       "2     177      73"
      ]
     },
     "execution_count": 205,
     "metadata": {},
     "output_type": "execute_result"
    }
   ],
   "source": [
    "height = [170, 168, 177, 181 ,172, 171, 169, 175, 174, 178, 170, 167, 177, 182 ,173, 171, 170, 179, 175, 177, 186, 166, 183, 168]\n",
    "weight = [70, 66, 73, 77, 74, 73, 69, 79, 77, 80, 74, 68, 71, 76, 78, 72, 68, 79, 77, 81, 84, 73, 78, 69]\n",
    "\n",
    "body = pd.DataFrame(\n",
    "    {'height': height,\n",
    "    'weight': weight\n",
    "    }\n",
    ")\n",
    "body.head(3)"
   ]
  },
  {
   "cell_type": "code",
   "execution_count": 227,
   "metadata": {
    "ExecuteTime": {
     "end_time": "2020-09-14T16:45:16.850022Z",
     "start_time": "2020-09-14T16:45:16.840036Z"
    }
   },
   "outputs": [
    {
     "name": "stdout",
     "output_type": "stream",
     "text": [
      "R2 :  0.5893075473608536\n",
      "회귀계수 : [0.89042657]\n",
      "절편 :  107.86242266362746\n"
     ]
    }
   ],
   "source": [
    "import numpy as np\n",
    "from sklearn.linear_model import LinearRegression\n",
    "\n",
    "X = body['weight'].values.reshape(-1,1) #단순회귀일 때는 reshape 필수\n",
    "y = body['height']\n",
    "model = LinearRegression()\n",
    "model.fit(X, y)\n",
    "print('R2 : ', model.score(X, y))\n",
    "\n",
    "print('회귀계수 :',model.coef_)\n",
    "\n",
    "print('절편 : ', model.intercept_)"
   ]
  },
  {
   "cell_type": "code",
   "execution_count": 224,
   "metadata": {
    "ExecuteTime": {
     "end_time": "2020-09-14T16:43:26.502265Z",
     "start_time": "2020-09-14T16:43:26.496268Z"
    }
   },
   "outputs": [
    {
     "data": {
      "text/plain": [
       "array([179.09654836, 170.19228264, 196.90507978])"
      ]
     },
     "execution_count": 224,
     "metadata": {},
     "output_type": "execute_result"
    }
   ],
   "source": [
    "new = np.array([80, 70, 100]).reshape(-1,1) # predict할 때도 reshape 필수\n",
    "model.predict(new)"
   ]
  },
  {
   "cell_type": "markdown",
   "metadata": {},
   "source": [
    "## 다중회귀분석\n",
    "- X가 두 개 이상"
   ]
  },
  {
   "cell_type": "code",
   "execution_count": 236,
   "metadata": {
    "ExecuteTime": {
     "end_time": "2020-09-14T16:50:32.159771Z",
     "start_time": "2020-09-14T16:50:32.154767Z"
    }
   },
   "outputs": [],
   "source": [
    "import numpy as np\n",
    "from sklearn.linear_model import LinearRegression\n",
    "X = np.array([[1, 1], [1, 2], [2, 2], [2, 3]])\n",
    "# y = 1 * x_0 + 2 * x_1 + 3\n",
    "y = np.dot(X, np.array([1, 2])) + 3"
   ]
  },
  {
   "cell_type": "code",
   "execution_count": 233,
   "metadata": {
    "ExecuteTime": {
     "end_time": "2020-09-14T16:50:06.958678Z",
     "start_time": "2020-09-14T16:50:06.952795Z"
    }
   },
   "outputs": [
    {
     "data": {
      "text/plain": [
       "array([[1, 1],\n",
       "       [1, 2],\n",
       "       [2, 2],\n",
       "       [2, 3]])"
      ]
     },
     "execution_count": 233,
     "metadata": {},
     "output_type": "execute_result"
    }
   ],
   "source": [
    "X"
   ]
  },
  {
   "cell_type": "code",
   "execution_count": 234,
   "metadata": {
    "ExecuteTime": {
     "end_time": "2020-09-14T16:50:07.175532Z",
     "start_time": "2020-09-14T16:50:07.170961Z"
    }
   },
   "outputs": [
    {
     "data": {
      "text/plain": [
       "array([ 6,  8,  9, 11])"
      ]
     },
     "execution_count": 234,
     "metadata": {},
     "output_type": "execute_result"
    }
   ],
   "source": [
    "y"
   ]
  },
  {
   "cell_type": "code",
   "execution_count": 237,
   "metadata": {
    "ExecuteTime": {
     "end_time": "2020-09-14T16:50:40.881727Z",
     "start_time": "2020-09-14T16:50:40.872724Z"
    }
   },
   "outputs": [
    {
     "name": "stdout",
     "output_type": "stream",
     "text": [
      "R2 :  1.0\n",
      "회귀계수 : [1. 2.]\n",
      "절편 :  3.0000000000000018\n",
      "[16.]\n"
     ]
    }
   ],
   "source": [
    "model = LinearRegression().fit(X, y)\n",
    "print('R2 : ', model.score(X, y))\n",
    "\n",
    "print('회귀계수 :',model.coef_)\n",
    "\n",
    "print('절편 : ', model.intercept_)\n",
    "\n",
    "print(model.predict(np.array([[3, 5]])))"
   ]
  },
  {
   "cell_type": "markdown",
   "metadata": {},
   "source": [
    "## 다항회귀\n",
    "- 종속변수와 독립변수의 관계가 선형이 아닐 때"
   ]
  },
  {
   "cell_type": "code",
   "execution_count": 258,
   "metadata": {
    "ExecuteTime": {
     "end_time": "2020-09-14T17:20:22.789020Z",
     "start_time": "2020-09-14T17:20:22.784125Z"
    }
   },
   "outputs": [],
   "source": [
    "x = np.arange(5)\n",
    "y = 3 - 2 * x + x ** 2 - x ** 3"
   ]
  },
  {
   "cell_type": "code",
   "execution_count": 259,
   "metadata": {
    "ExecuteTime": {
     "end_time": "2020-09-14T17:20:23.327746Z",
     "start_time": "2020-09-14T17:20:23.321823Z"
    }
   },
   "outputs": [
    {
     "data": {
      "text/plain": [
       "array([0, 1, 2, 3, 4])"
      ]
     },
     "execution_count": 259,
     "metadata": {},
     "output_type": "execute_result"
    }
   ],
   "source": [
    "x"
   ]
  },
  {
   "cell_type": "code",
   "execution_count": 260,
   "metadata": {
    "ExecuteTime": {
     "end_time": "2020-09-14T17:20:24.693394Z",
     "start_time": "2020-09-14T17:20:24.687365Z"
    }
   },
   "outputs": [
    {
     "data": {
      "text/plain": [
       "array([  3,   1,  -5, -21, -53])"
      ]
     },
     "execution_count": 260,
     "metadata": {},
     "output_type": "execute_result"
    }
   ],
   "source": [
    "y"
   ]
  },
  {
   "cell_type": "code",
   "execution_count": 267,
   "metadata": {
    "ExecuteTime": {
     "end_time": "2020-09-14T17:25:02.900896Z",
     "start_time": "2020-09-14T17:25:02.893907Z"
    }
   },
   "outputs": [
    {
     "name": "stdout",
     "output_type": "stream",
     "text": [
      "회귀계수 : [ 3. -2.  1. -1.]  저차항부터 시작, 오른쪽 끝이 X^3\n"
     ]
    }
   ],
   "source": [
    "from sklearn.preprocessing import PolynomialFeatures\n",
    "from sklearn.linear_model import LinearRegression\n",
    "from sklearn.pipeline import Pipeline\n",
    "import numpy as np\n",
    "poly = PolynomialFeatures(degree=3) # degree는 몇 제곱까지할지 정하는 것\n",
    "x = x.reshape(-1,1) # reshape 필수\n",
    "x_poly = poly.fit_transform(x)\n",
    "model = LinearRegression(fit_intercept=False)\n",
    "model.fit(x_poly,y)\n",
    "print('회귀계수 :', model.coef_, ' 저차항부터 시작, 오른쪽 끝이 X^3')\n",
    "\n",
    "print('R2 : ', model.score(x_poly, y))\n",
    "\n"
   ]
  },
  {
   "cell_type": "code",
   "execution_count": 273,
   "metadata": {
    "ExecuteTime": {
     "end_time": "2020-09-14T17:28:17.190151Z",
     "start_time": "2020-09-14T17:28:17.182279Z"
    }
   },
   "outputs": [
    {
     "name": "stdout",
     "output_type": "stream",
     "text": [
      "[-107. -189.]\n"
     ]
    }
   ],
   "source": [
    "new = np.array([5, 6]) # 새 데이터는 array 형태여야하고\n",
    "new = new.reshape(-1,1) # reshap 필수\n",
    "new_poly = poly.fit_transform(new)\n",
    "\n",
    "print(model.predict(new_poly))"
   ]
  }
 ],
 "metadata": {
  "kernelspec": {
   "display_name": "Python 3",
   "language": "python",
   "name": "python3"
  },
  "language_info": {
   "codemirror_mode": {
    "name": "ipython",
    "version": 3
   },
   "file_extension": ".py",
   "mimetype": "text/x-python",
   "name": "python",
   "nbconvert_exporter": "python",
   "pygments_lexer": "ipython3",
   "version": "3.7.4"
  },
  "toc": {
   "base_numbering": 1,
   "nav_menu": {},
   "number_sections": true,
   "sideBar": true,
   "skip_h1_title": false,
   "title_cell": "Table of Contents",
   "title_sidebar": "Contents",
   "toc_cell": false,
   "toc_position": {},
   "toc_section_display": true,
   "toc_window_display": false
  },
  "varInspector": {
   "cols": {
    "lenName": 16,
    "lenType": 16,
    "lenVar": 40
   },
   "kernels_config": {
    "python": {
     "delete_cmd_postfix": "",
     "delete_cmd_prefix": "del ",
     "library": "var_list.py",
     "varRefreshCmd": "print(var_dic_list())"
    },
    "r": {
     "delete_cmd_postfix": ") ",
     "delete_cmd_prefix": "rm(",
     "library": "var_list.r",
     "varRefreshCmd": "cat(var_dic_list()) "
    }
   },
   "types_to_exclude": [
    "module",
    "function",
    "builtin_function_or_method",
    "instance",
    "_Feature"
   ],
   "window_display": false
  }
 },
 "nbformat": 4,
 "nbformat_minor": 2
}
