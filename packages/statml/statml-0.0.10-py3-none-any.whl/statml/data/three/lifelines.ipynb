{
 "cells": [
  {
   "cell_type": "code",
   "execution_count": 3,
   "id": "110f1219",
   "metadata": {},
   "outputs": [
    {
     "name": "stdout",
     "output_type": "stream",
     "text": [
      "25개월 후 불량률: 0.80\n",
      "30개월 후 불량률: 0.53\n",
      "35개월 후 불량률: 0.53\n"
     ]
    }
   ],
   "source": [
    "import pandas as pd\n",
    "from lifelines import KaplanMeierFitter\n",
    "\n",
    "# 예제 데이터\n",
    "data = {'시간': [10, 20, 30, 40, 50], '제조사': ['A', 'A', 'B', 'B', 'C'], '불량': [1, 0, 1, 0, 1]}\n",
    "df = pd.DataFrame(data)\n",
    "\n",
    "# Kaplan-Meier 모델 적합\n",
    "kmf = KaplanMeierFitter()\n",
    "kmf.fit(durations=df['시간'], event_observed=df['불량'])\n",
    "\n",
    "# 25, 30, 35개월 후 불량률 계산\n",
    "defect_rate_25 = kmf.predict(25)\n",
    "defect_rate_30 = kmf.predict(30)\n",
    "defect_rate_35 = kmf.predict(35)\n",
    "\n",
    "# 결과 출력\n",
    "print(f'25개월 후 불량률: {defect_rate_25:.2f}')\n",
    "print(f'30개월 후 불량률: {defect_rate_30:.2f}')\n",
    "print(f'35개월 후 불량률: {defect_rate_35:.2f}')"
   ]
  },
  {
   "cell_type": "code",
   "execution_count": null,
   "id": "0087c063",
   "metadata": {},
   "outputs": [],
   "source": []
  }
 ],
 "metadata": {
  "kernelspec": {
   "display_name": "Python 3 (ipykernel)",
   "language": "python",
   "name": "python3"
  },
  "language_info": {
   "codemirror_mode": {
    "name": "ipython",
    "version": 3
   },
   "file_extension": ".py",
   "mimetype": "text/x-python",
   "name": "python",
   "nbconvert_exporter": "python",
   "pygments_lexer": "ipython3",
   "version": "3.7.16"
  }
 },
 "nbformat": 4,
 "nbformat_minor": 5
}
