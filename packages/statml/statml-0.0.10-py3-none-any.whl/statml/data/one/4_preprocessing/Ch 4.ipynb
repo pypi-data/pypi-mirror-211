{
 "cells": [
  {
   "cell_type": "markdown",
   "metadata": {
    "id": "337kONoBqY2U"
   },
   "source": [
    "## 2. 이상치 처리"
   ]
  },
  {
   "cell_type": "markdown",
   "metadata": {
    "id": "fqgA04PnqgCo"
   },
   "source": [
    "### 이상치 확인"
   ]
  },
  {
   "cell_type": "code",
   "execution_count": null,
   "metadata": {
    "executionInfo": {
     "elapsed": 674,
     "status": "ok",
     "timestamp": 1648665710513,
     "user": {
      "displayName": "양여진",
      "userId": "00702759979750743808"
     },
     "user_tz": -540
    },
    "id": "cHu4icrbqfZZ"
   },
   "outputs": [],
   "source": [
    "import pandas as pd\n",
    "import matplotlib.pyplot as plt\n",
    "from sklearn.datasets import load_wine\n",
    "\n",
    "wine_load = load_wine()\n",
    "wine = pd.DataFrame(wine_load.data, columns=wine_load.feature_names)\n",
    "wine['Class'] = wine_load.target\n",
    "wine['Class'] = wine['Class'].map({0:'class_0', 1:'class_1', 2:'class_2'})"
   ]
  },
  {
   "cell_type": "code",
   "execution_count": null,
   "metadata": {
    "colab": {
     "base_uri": "https://localhost:8080/",
     "height": 281
    },
    "executionInfo": {
     "elapsed": 113,
     "status": "ok",
     "timestamp": 1648665710520,
     "user": {
      "displayName": "양여진",
      "userId": "00702759979750743808"
     },
     "user_tz": -540
    },
    "id": "W7m9J6_Aqwwu",
    "outputId": "d30b9754-56e4-4976-e772-f728875e260c"
   },
   "outputs": [],
   "source": [
    "import matplotlib.pyplot as plt\n",
    "\n",
    "plt.boxplot(wine['color_intensity'], whis=1.5)\n",
    "plt.title('color_intensity')\n",
    "plt.show()"
   ]
  },
  {
   "cell_type": "code",
   "execution_count": null,
   "metadata": {
    "executionInfo": {
     "elapsed": 113,
     "status": "ok",
     "timestamp": 1648665710524,
     "user": {
      "displayName": "양여진",
      "userId": "00702759979750743808"
     },
     "user_tz": -540
    },
    "id": "ODr6CYDb9KAb"
   },
   "outputs": [],
   "source": [
    "import numpy as np\n",
    "\n",
    "def outliers_iqr(dt, col):\n",
    "    quartile_1, quartile_3 = np.percentile(dt[col], [25, 75])\n",
    "    iqr = quartile_3 - quartile_1\n",
    "    lower_whis = quartile_1 - (iqr * 1.5)\n",
    "    upper_whis = quartile_3 + (iqr * 1.5)\n",
    "    outliers = dt[(dt[col] > upper_whis) | (dt[col] < lower_whis)]\n",
    "    return outliers[[col]]"
   ]
  },
  {
   "cell_type": "code",
   "execution_count": null,
   "metadata": {
    "colab": {
     "base_uri": "https://localhost:8080/",
     "height": 174
    },
    "executionInfo": {
     "elapsed": 113,
     "status": "ok",
     "timestamp": 1648665710525,
     "user": {
      "displayName": "양여진",
      "userId": "00702759979750743808"
     },
     "user_tz": -540
    },
    "id": "Db3o6e-bOaO_",
    "outputId": "9bf3bbed-3bd0-4e23-e41d-ce43cd4e2457"
   },
   "outputs": [],
   "source": [
    "outliers = outliers_iqr(wine,'color_intensity')\n",
    "outliers"
   ]
  },
  {
   "cell_type": "code",
   "execution_count": null,
   "metadata": {
    "colab": {
     "base_uri": "https://localhost:8080/"
    },
    "executionInfo": {
     "elapsed": 111,
     "status": "ok",
     "timestamp": 1648665710526,
     "user": {
      "displayName": "양여진",
      "userId": "00702759979750743808"
     },
     "user_tz": -540
    },
    "id": "MJYBJy41O6Ft",
    "outputId": "31842407-2d0d-46d1-b725-42079b78dd5e"
   },
   "outputs": [],
   "source": [
    "drop_outliers = wine.drop(index=outliers.index)\n",
    "\n",
    "print('Original :', wine.shape)\n",
    "print('Drop outliers :', drop_outliers.shape)"
   ]
  },
  {
   "cell_type": "code",
   "execution_count": null,
   "metadata": {
    "colab": {
     "base_uri": "https://localhost:8080/"
    },
    "executionInfo": {
     "elapsed": 102,
     "status": "ok",
     "timestamp": 1648665710527,
     "user": {
      "displayName": "양여진",
      "userId": "00702759979750743808"
     },
     "user_tz": -540
    },
    "id": "6f76iSIaapf5",
    "outputId": "3575babe-c6c7-4468-94d9-3c9449876ddb"
   },
   "outputs": [],
   "source": [
    "wine.loc[outliers.index, 'color_intensity'] = np.NaN\n",
    "wine['color_intensity'] = wine['color_intensity'].fillna(wine['color_intensity'].mean())\n",
    "wine.loc[outliers.index, 'color_intensity']"
   ]
  },
  {
   "cell_type": "markdown",
   "metadata": {
    "id": "py7xT55JdX1C"
   },
   "source": [
    "## 3. 범주형 변수 처리"
   ]
  },
  {
   "cell_type": "code",
   "execution_count": null,
   "metadata": {
    "executionInfo": {
     "elapsed": 98,
     "status": "ok",
     "timestamp": 1648665710528,
     "user": {
      "displayName": "양여진",
      "userId": "00702759979750743808"
     },
     "user_tz": -540
    },
    "id": "OD5LWCRNZAsb"
   },
   "outputs": [],
   "source": [
    "import pandas as pd\n",
    "from sklearn.datasets import load_iris\n",
    "\n",
    "iris = load_iris()\n",
    "iris = pd.DataFrame(iris.data, columns=iris.feature_names)\n",
    "iris['Class'] = load_iris().target\n",
    "iris['Class'] = iris['Class'].map({0:'Setosa', 1:'Versicolour', 2:'Virginica'})"
   ]
  },
  {
   "cell_type": "code",
   "execution_count": null,
   "metadata": {
    "colab": {
     "base_uri": "https://localhost:8080/",
     "height": 423
    },
    "executionInfo": {
     "elapsed": 99,
     "status": "ok",
     "timestamp": 1648665710530,
     "user": {
      "displayName": "양여진",
      "userId": "00702759979750743808"
     },
     "user_tz": -540
    },
    "id": "GxkiC1YddfP5",
    "outputId": "c92c29f8-31d7-4d24-b97e-51cdfce267f8"
   },
   "outputs": [],
   "source": [
    "iris_dummy = pd.get_dummies(iris, columns = ['Class'])\n",
    "iris_dummy"
   ]
  },
  {
   "cell_type": "markdown",
   "metadata": {
    "id": "4zZZKScOs7QV"
   },
   "source": [
    "## 4. 데이터 분할"
   ]
  },
  {
   "cell_type": "code",
   "execution_count": null,
   "metadata": {
    "executionInfo": {
     "elapsed": 98,
     "status": "ok",
     "timestamp": 1648665710531,
     "user": {
      "displayName": "양여진",
      "userId": "00702759979750743808"
     },
     "user_tz": -540
    },
    "id": "ZD9kkD8rdpTA"
   },
   "outputs": [],
   "source": [
    "import pandas as pd\n",
    "from sklearn.datasets import load_iris\n",
    "\n",
    "iris = load_iris()\n",
    "iris = pd.DataFrame(iris.data, columns=iris.feature_names)\n",
    "iris['Class'] = load_iris().target\n",
    "iris['Class'] = iris['Class'].map({0:'Setosa', 1:'Versicolour', 2:'Virginica'})"
   ]
  },
  {
   "cell_type": "code",
   "execution_count": null,
   "metadata": {
    "colab": {
     "base_uri": "https://localhost:8080/"
    },
    "executionInfo": {
     "elapsed": 98,
     "status": "ok",
     "timestamp": 1648665710532,
     "user": {
      "displayName": "양여진",
      "userId": "00702759979750743808"
     },
     "user_tz": -540
    },
    "id": "w_Jfw8CWtWGs",
    "outputId": "c7d312a9-4902-425d-9cdd-a39750cd3429"
   },
   "outputs": [],
   "source": [
    "from sklearn.model_selection import train_test_split\n",
    "\n",
    "X_train, X_test, y_train, y_test = train_test_split(iris.drop(columns='Class'), iris['Class'], test_size = 0.2)\n",
    "print('X_train :', X_train.shape, '\\tX_test :', X_test.shape)\n",
    "print('y_train :', y_train.shape, '\\ty_test :', y_test.shape)"
   ]
  },
  {
   "cell_type": "code",
   "execution_count": null,
   "metadata": {
    "colab": {
     "base_uri": "https://localhost:8080/",
     "height": 143
    },
    "executionInfo": {
     "elapsed": 95,
     "status": "ok",
     "timestamp": 1648665710533,
     "user": {
      "displayName": "양여진",
      "userId": "00702759979750743808"
     },
     "user_tz": -540
    },
    "id": "g2S6C55Xt3ni",
    "outputId": "e74e2b9e-691e-4823-8a03-de64dc019a97"
   },
   "outputs": [],
   "source": [
    "X_train.head(3)"
   ]
  },
  {
   "cell_type": "code",
   "execution_count": null,
   "metadata": {
    "colab": {
     "base_uri": "https://localhost:8080/"
    },
    "executionInfo": {
     "elapsed": 95,
     "status": "ok",
     "timestamp": 1648665710534,
     "user": {
      "displayName": "양여진",
      "userId": "00702759979750743808"
     },
     "user_tz": -540
    },
    "id": "7KXCTr40uHMt",
    "outputId": "5ceb8623-1a16-4aca-d421-c47ea0240186"
   },
   "outputs": [],
   "source": [
    "y_train.head(3)"
   ]
  },
  {
   "cell_type": "code",
   "execution_count": null,
   "metadata": {
    "colab": {
     "base_uri": "https://localhost:8080/"
    },
    "executionInfo": {
     "elapsed": 94,
     "status": "ok",
     "timestamp": 1648665710536,
     "user": {
      "displayName": "양여진",
      "userId": "00702759979750743808"
     },
     "user_tz": -540
    },
    "id": "eiQ6jW91KbME",
    "outputId": "08a44d41-0b96-4e54-b3b8-30ebb30c6a93"
   },
   "outputs": [],
   "source": [
    "iris['Class'].value_counts()"
   ]
  },
  {
   "cell_type": "code",
   "execution_count": null,
   "metadata": {
    "colab": {
     "base_uri": "https://localhost:8080/"
    },
    "executionInfo": {
     "elapsed": 94,
     "status": "ok",
     "timestamp": 1648665710538,
     "user": {
      "displayName": "양여진",
      "userId": "00702759979750743808"
     },
     "user_tz": -540
    },
    "id": "qMviX6azE5Cs",
    "outputId": "1929c244-bc34-4d53-a4d6-2cb1cc852ffe"
   },
   "outputs": [],
   "source": [
    "y_train.value_counts()"
   ]
  },
  {
   "cell_type": "code",
   "execution_count": null,
   "metadata": {
    "colab": {
     "base_uri": "https://localhost:8080/"
    },
    "executionInfo": {
     "elapsed": 93,
     "status": "ok",
     "timestamp": 1648665710540,
     "user": {
      "displayName": "양여진",
      "userId": "00702759979750743808"
     },
     "user_tz": -540
    },
    "id": "1bzJb0gCuqD3",
    "outputId": "c612babe-908f-4bec-8646-4b00a0ed67ba"
   },
   "outputs": [],
   "source": [
    "X_train, X_test, y_train, y_test = train_test_split(iris.drop(columns='Class'), iris['Class'], test_size = 0.2, stratify =iris['Class'])\n",
    "print('X_train :', X_train.shape, '\\tX_test :', X_test.shape)\n",
    "print('y_train :', y_train.shape, '\\ty_test :', y_test.shape)"
   ]
  },
  {
   "cell_type": "code",
   "execution_count": null,
   "metadata": {
    "colab": {
     "base_uri": "https://localhost:8080/"
    },
    "executionInfo": {
     "elapsed": 93,
     "status": "ok",
     "timestamp": 1648665710542,
     "user": {
      "displayName": "양여진",
      "userId": "00702759979750743808"
     },
     "user_tz": -540
    },
    "id": "CAaTsu26EHJz",
    "outputId": "10d7b40d-e2ff-4545-af80-6f360840bf1d"
   },
   "outputs": [],
   "source": [
    "y_train.value_counts()"
   ]
  },
  {
   "cell_type": "markdown",
   "metadata": {
    "id": "nP9z4e2sbGYL"
   },
   "source": [
    "## 5. 데이터 스케일링"
   ]
  },
  {
   "cell_type": "markdown",
   "metadata": {
    "id": "REMwyIX5bNlc"
   },
   "source": [
    "### Standard Scaling"
   ]
  },
  {
   "cell_type": "code",
   "execution_count": null,
   "metadata": {
    "colab": {
     "base_uri": "https://localhost:8080/"
    },
    "executionInfo": {
     "elapsed": 91,
     "status": "ok",
     "timestamp": 1648665710543,
     "user": {
      "displayName": "양여진",
      "userId": "00702759979750743808"
     },
     "user_tz": -540
    },
    "id": "PkQ8w0n6FCc1",
    "outputId": "fc4392bd-2fa2-416a-c7a3-b80aa5b6f787"
   },
   "outputs": [],
   "source": [
    "from sklearn.preprocessing import StandardScaler\n",
    "\n",
    "StdScaler = StandardScaler()\n",
    "\n",
    "# Train 데이터의 fitting과 스케일링\n",
    "StdScaler.fit(X_train)\n",
    "X_train_sc = StdScaler.transform(X_train)\n",
    "\n",
    "# Test 데이터의 스케일링\n",
    "X_test_sc = StdScaler.transform(X_test)\n",
    "\n",
    "\n",
    "print(\"\\t\\t(min, max) (mean, std)\")\n",
    "print(\"Train_scaled (%.2f, %.2f) (%.2f, %.2f)\"%(X_train_sc.min(), X_train_sc.max(),  X_train_sc.mean(),  X_train_sc.std()))\n",
    "print(\"Test_scaled (%.2f, %.2f) (%.2f, %.2f)\"%(X_test_sc.min(), X_test_sc.max(),  X_test_sc.mean(),  X_test_sc.std()))"
   ]
  },
  {
   "cell_type": "markdown",
   "metadata": {
    "id": "HciAXJY7ep7j"
   },
   "source": [
    "### Min-Max Scaler"
   ]
  },
  {
   "cell_type": "code",
   "execution_count": null,
   "metadata": {
    "colab": {
     "base_uri": "https://localhost:8080/"
    },
    "executionInfo": {
     "elapsed": 90,
     "status": "ok",
     "timestamp": 1648665710545,
     "user": {
      "displayName": "양여진",
      "userId": "00702759979750743808"
     },
     "user_tz": -540
    },
    "id": "Cq0URDgYbWVb",
    "outputId": "b3d1feaa-d394-40c1-ec20-5dd6fe6bd057"
   },
   "outputs": [],
   "source": [
    "from sklearn.preprocessing import MinMaxScaler\n",
    "\n",
    "MmScaler = MinMaxScaler()\n",
    "\n",
    "# Train 데이터의 fitting과 스케일링\n",
    "MmScaler.fit(X_train)\n",
    "X_train_sc = MmScaler.transform(X_train)\n",
    "\n",
    "# Test 데이터의 스케일링\n",
    "X_test_sc = MmScaler.transform(X_test)\n",
    "\n",
    "\n",
    "print(\"\\t\\t(min, max) (mean, std)\")\n",
    "print(\"Train_scaled (%.2f, %.2f) (%.2f, %.2f)\"%(X_train_sc.min(), X_train_sc.max(),  X_train_sc.mean(),  X_train_sc.std()))\n",
    "print(\"Test_scaled (%.2f, %.2f) (%.2f, %.2f)\"%(X_test_sc.min(), X_test_sc.max(),  X_test_sc.mean(),  X_test_sc.std()))"
   ]
  },
  {
   "cell_type": "markdown",
   "metadata": {
    "id": "u3rIWHssfqRu"
   },
   "source": [
    "### Max Abs Scaler"
   ]
  },
  {
   "cell_type": "code",
   "execution_count": null,
   "metadata": {
    "colab": {
     "base_uri": "https://localhost:8080/"
    },
    "executionInfo": {
     "elapsed": 89,
     "status": "ok",
     "timestamp": 1648665710546,
     "user": {
      "displayName": "양여진",
      "userId": "00702759979750743808"
     },
     "user_tz": -540
    },
    "id": "LT97kQUwfqRv",
    "outputId": "1d6edcbe-a4cf-4ff7-a63b-264acc82b7e6"
   },
   "outputs": [],
   "source": [
    "from sklearn.preprocessing import MaxAbsScaler\n",
    "\n",
    "MaScaler = MaxAbsScaler()\n",
    "\n",
    "# Train 데이터의 fitting과 스케일링\n",
    "MaScaler.fit(X_train)\n",
    "X_train_sc = MaScaler.transform(X_train)\n",
    "\n",
    "# Test 데이터의 스케일링\n",
    "X_test_sc = MaScaler.transform(X_test)\n",
    "\n",
    "\n",
    "print(\"\\t\\t(min, max) (mean, std)\")\n",
    "print(\"Train_scaled (%.2f, %.2f) (%.2f, %.2f)\"%(X_train_sc.min(), X_train_sc.max(),  X_train_sc.mean(),  X_train_sc.std()))\n",
    "print(\"Test_scaled (%.2f, %.2f) (%.2f, %.2f)\"%(X_test_sc.min(), X_test_sc.max(),  X_test_sc.mean(),  X_test_sc.std()))"
   ]
  },
  {
   "cell_type": "markdown",
   "metadata": {
    "id": "8zcV1KViijC4"
   },
   "source": [
    "### Robust Scaler"
   ]
  },
  {
   "cell_type": "code",
   "execution_count": null,
   "metadata": {
    "colab": {
     "base_uri": "https://localhost:8080/"
    },
    "executionInfo": {
     "elapsed": 87,
     "status": "ok",
     "timestamp": 1648665710547,
     "user": {
      "displayName": "양여진",
      "userId": "00702759979750743808"
     },
     "user_tz": -540
    },
    "id": "ptNx3BUyijC7",
    "outputId": "99354e4c-9d8d-4f10-ee46-f8bda2d0ca1d"
   },
   "outputs": [],
   "source": [
    "from sklearn.preprocessing import RobustScaler\n",
    "\n",
    "RuScaler = RobustScaler()\n",
    "\n",
    "# Train 데이터의 fitting과 스케일링\n",
    "RuScaler.fit(X_train)\n",
    "X_train_sc = RuScaler.transform(X_train)\n",
    "\n",
    "# Test 데이터의 스케일링\n",
    "X_test_sc = RuScaler.transform(X_test)\n",
    "\n",
    "\n",
    "print(\"\\t\\t(min, max) (mean, std)\")\n",
    "print(\"Train_scaled (%.2f, %.2f) (%.2f, %.2f)\"%(X_train_sc.min(), X_train_sc.max(),  X_train_sc.mean(),  X_train_sc.std()))\n",
    "print(\"Test_scaled (%.2f, %.2f) (%.2f, %.2f)\"%(X_test_sc.min(), X_test_sc.max(),  X_test_sc.mean(),  X_test_sc.std()))"
   ]
  },
  {
   "cell_type": "markdown",
   "metadata": {
    "id": "ISBQfutej6_S"
   },
   "source": [
    "### 원본 스케일로 변경"
   ]
  },
  {
   "cell_type": "code",
   "execution_count": null,
   "metadata": {
    "colab": {
     "base_uri": "https://localhost:8080/",
     "height": 143
    },
    "executionInfo": {
     "elapsed": 87,
     "status": "ok",
     "timestamp": 1648665710549,
     "user": {
      "displayName": "양여진",
      "userId": "00702759979750743808"
     },
     "user_tz": -540
    },
    "id": "F5slo7jnkbsP",
    "outputId": "3a6d2dd2-5ae5-4e4d-d31c-4c0c19e6c834"
   },
   "outputs": [],
   "source": [
    "pd.DataFrame(X_train_sc).head(3)"
   ]
  },
  {
   "cell_type": "code",
   "execution_count": null,
   "metadata": {
    "colab": {
     "base_uri": "https://localhost:8080/",
     "height": 143
    },
    "executionInfo": {
     "elapsed": 87,
     "status": "ok",
     "timestamp": 1648665710550,
     "user": {
      "displayName": "양여진",
      "userId": "00702759979750743808"
     },
     "user_tz": -540
    },
    "id": "SKq6r7FJiu0P",
    "outputId": "3409af83-ec5d-4796-d1eb-47ddf62b296a"
   },
   "outputs": [],
   "source": [
    "X_Original = RuScaler.inverse_transform(X_train_sc)\n",
    "pd.DataFrame(X_Original).head(3)"
   ]
  },
  {
   "cell_type": "markdown",
   "metadata": {
    "id": "UvWNqi3aUR1I"
   },
   "source": [
    "## 주성분 분석"
   ]
  },
  {
   "cell_type": "code",
   "execution_count": null,
   "metadata": {
    "executionInfo": {
     "elapsed": 86,
     "status": "ok",
     "timestamp": 1648665710551,
     "user": {
      "displayName": "양여진",
      "userId": "00702759979750743808"
     },
     "user_tz": -540
    },
    "id": "2pHfzEVaUVTS"
   },
   "outputs": [],
   "source": [
    "import pandas as pd\n",
    "from sklearn.datasets import load_iris\n",
    "\n",
    "iris = load_iris()\n",
    "iris = pd.DataFrame(iris.data, columns=iris.feature_names)\n",
    "iris['Class'] = load_iris().target\n",
    "iris['Class'] = iris['Class'].map({0:'Setosa', 1:'Versicolour', 2:'Virginica'})"
   ]
  },
  {
   "cell_type": "code",
   "execution_count": null,
   "metadata": {
    "colab": {
     "base_uri": "https://localhost:8080/",
     "height": 206
    },
    "executionInfo": {
     "elapsed": 87,
     "status": "ok",
     "timestamp": 1648665710552,
     "user": {
      "displayName": "양여진",
      "userId": "00702759979750743808"
     },
     "user_tz": -540
    },
    "id": "WF7be6ngklVF",
    "outputId": "91ee4b1f-6a45-4639-f6c9-55b03d7ee2cb"
   },
   "outputs": [],
   "source": [
    "# 수치형 데이터만 추출\n",
    "features = ['수치형변수1', '수치형변수2']\n",
    "x = iris.drop(columns = 'Class')\n",
    "\n",
    "# 수치형 변수 정규화\n",
    "from sklearn.preprocessing import StandardScaler\n",
    "x = StandardScaler().fit_transform(x)\n",
    "\n",
    "pd.DataFrame(x).head()"
   ]
  },
  {
   "cell_type": "code",
   "execution_count": null,
   "metadata": {
    "colab": {
     "base_uri": "https://localhost:8080/"
    },
    "executionInfo": {
     "elapsed": 777,
     "status": "ok",
     "timestamp": 1648665711243,
     "user": {
      "displayName": "양여진",
      "userId": "00702759979750743808"
     },
     "user_tz": -540
    },
    "id": "wAr5GMPvUfpP",
    "outputId": "726d578b-eeb5-45fc-9ac3-42f978cb820e"
   },
   "outputs": [],
   "source": [
    "from sklearn.decomposition import PCA\n",
    "pca = PCA( n_components = 4) \n",
    "pca_fit = pca.fit(x)\n",
    "\n",
    "print(\"고유 값 : \", pca.singular_values_)\n",
    "print(\"분산 설명력: \", pca.explained_variance_ratio_)"
   ]
  },
  {
   "cell_type": "code",
   "execution_count": null,
   "metadata": {
    "colab": {
     "base_uri": "https://localhost:8080/",
     "height": 295
    },
    "executionInfo": {
     "elapsed": 139,
     "status": "ok",
     "timestamp": 1648665711258,
     "user": {
      "displayName": "양여진",
      "userId": "00702759979750743808"
     },
     "user_tz": -540
    },
    "id": "AtAL-eiCUtB5",
    "outputId": "9a1cdd81-fa9f-49c9-b8cb-af8c7c8c91d7"
   },
   "outputs": [],
   "source": [
    "import matplotlib.pyplot as plt\n",
    "\n",
    "plt.title('Scree Plot')\n",
    "plt.xlabel('Number of Components')\n",
    "plt.ylabel('Cumulative Explained Variance')\n",
    "plt.plot(pca.explained_variance_ratio_ , 'o-')\n",
    "plt.show()"
   ]
  },
  {
   "cell_type": "code",
   "execution_count": null,
   "metadata": {
    "colab": {
     "base_uri": "https://localhost:8080/",
     "height": 206
    },
    "executionInfo": {
     "elapsed": 129,
     "status": "ok",
     "timestamp": 1648665711260,
     "user": {
      "displayName": "양여진",
      "userId": "00702759979750743808"
     },
     "user_tz": -540
    },
    "id": "8ukvDCvoUv6y",
    "outputId": "918a2414-781f-475a-c20e-dc5d97ebb07b"
   },
   "outputs": [],
   "source": [
    "pca = PCA(n_components = 2)                        # PCA 객체 생성 (주성분 갯수 2개 생성)\n",
    "principalComponents = pca.fit_transform(x)     # 2개의 주성분을 가진 데이터로 변환\n",
    "principal_iris = pd.DataFrame(data = principalComponents, columns =['pc1', 'pc2']) \n",
    "principal_iris.head()"
   ]
  },
  {
   "cell_type": "code",
   "execution_count": null,
   "metadata": {
    "colab": {
     "base_uri": "https://localhost:8080/",
     "height": 295
    },
    "executionInfo": {
     "elapsed": 128,
     "status": "ok",
     "timestamp": 1648665711261,
     "user": {
      "displayName": "양여진",
      "userId": "00702759979750743808"
     },
     "user_tz": -540
    },
    "id": "fLPqVpwSU_96",
    "outputId": "e34d4431-59cf-4f89-cf5b-7dbb601c73e8"
   },
   "outputs": [],
   "source": [
    "import matplotlib.pyplot as plt\n",
    "import seaborn as sns\n",
    "\n",
    "plt.title('2 component PCA' )\n",
    "sns.scatterplot(x = 'pc1', y = 'pc2', hue = iris.Class,  data = principal_iris)\n",
    "plt.show()"
   ]
  },
  {
   "cell_type": "markdown",
   "metadata": {
    "id": "OuwBy6u096La"
   },
   "source": [
    "## 불균형 처리"
   ]
  },
  {
   "cell_type": "code",
   "execution_count": null,
   "metadata": {
    "colab": {
     "base_uri": "https://localhost:8080/"
    },
    "executionInfo": {
     "elapsed": 378,
     "status": "ok",
     "timestamp": 1648665783295,
     "user": {
      "displayName": "양여진",
      "userId": "00702759979750743808"
     },
     "user_tz": -540
    },
    "id": "uSN2oqwB_358",
    "outputId": "61ebb262-3038-4a80-d93a-d5387c6bfeb9"
   },
   "outputs": [],
   "source": [
    "import numpy as np\n",
    "import pandas as pd\n",
    "\n",
    "from sklearn.datasets import make_classification\n",
    "from collections import Counter\n",
    "from imblearn.under_sampling import RandomUnderSampler\n",
    "\n",
    "x, y = make_classification(n_samples=2000, n_features=6, weights=[0.95], flip_y=0)\n",
    "print(Counter(y))"
   ]
  },
  {
   "cell_type": "markdown",
   "metadata": {
    "id": "w6wHJM9q-EUu"
   },
   "source": [
    "### 언더 샘플링"
   ]
  },
  {
   "cell_type": "code",
   "execution_count": null,
   "metadata": {
    "colab": {
     "base_uri": "https://localhost:8080/"
    },
    "executionInfo": {
     "elapsed": 513,
     "status": "ok",
     "timestamp": 1648665785346,
     "user": {
      "displayName": "양여진",
      "userId": "00702759979750743808"
     },
     "user_tz": -540
    },
    "id": "919QtKQwDB3g",
    "outputId": "85e260fb-9381-4e7e-f1ea-fcf731a14cd5"
   },
   "outputs": [],
   "source": [
    "undersample = RandomUnderSampler(sampling_strategy='majority')\n",
    "x_under, y_under = undersample.fit_resample(x, y)\n",
    "print(Counter(y_under))"
   ]
  },
  {
   "cell_type": "code",
   "execution_count": null,
   "metadata": {
    "colab": {
     "base_uri": "https://localhost:8080/"
    },
    "executionInfo": {
     "elapsed": 67,
     "status": "ok",
     "timestamp": 1648665788913,
     "user": {
      "displayName": "양여진",
      "userId": "00702759979750743808"
     },
     "user_tz": -540
    },
    "id": "-DdVskeBDUAh",
    "outputId": "00acccc6-e3c9-459f-cdb0-c2c1d0e97b7a"
   },
   "outputs": [],
   "source": [
    "undersample = RandomUnderSampler(sampling_strategy=0.5) \n",
    "x_under2, y_under2 = undersample.fit_resample(x, y)\n",
    "print(Counter(y_under2))"
   ]
  },
  {
   "cell_type": "markdown",
   "metadata": {
    "id": "Qb-laAnrGoi6"
   },
   "source": [
    "### 오버 샘플링\n",
    "RandomOverSampler"
   ]
  },
  {
   "cell_type": "code",
   "execution_count": null,
   "metadata": {
    "colab": {
     "base_uri": "https://localhost:8080/"
    },
    "executionInfo": {
     "elapsed": 15,
     "status": "ok",
     "timestamp": 1648665789982,
     "user": {
      "displayName": "양여진",
      "userId": "00702759979750743808"
     },
     "user_tz": -540
    },
    "id": "C-KVqO3RG2Mv",
    "outputId": "a3e97d55-bd69-4b5a-bf9a-2e9044df2e23"
   },
   "outputs": [],
   "source": [
    "from imblearn.over_sampling import RandomOverSampler\n",
    "oversample = RandomOverSampler(sampling_strategy=0.5) \n",
    "x_over, y_over = oversample.fit_resample(x, y)\n",
    "print(Counter(y_over))"
   ]
  },
  {
   "cell_type": "code",
   "execution_count": null,
   "metadata": {
    "colab": {
     "base_uri": "https://localhost:8080/"
    },
    "executionInfo": {
     "elapsed": 5,
     "status": "ok",
     "timestamp": 1648666696151,
     "user": {
      "displayName": "양여진",
      "userId": "00702759979750743808"
     },
     "user_tz": -540
    },
    "id": "osGLq6GPVMU-",
    "outputId": "0b198caf-3201-4d15-87a5-cf409e44d6e2"
   },
   "outputs": [],
   "source": [
    "oversample = RandomOverSampler(sampling_strategy='minority')\n",
    "x_over, y_over = oversample.fit_resample(x, y)\n",
    "print(Counter(y_over))"
   ]
  },
  {
   "cell_type": "markdown",
   "metadata": {
    "id": "VIWRmDJrHBNq"
   },
   "source": [
    "SMOTE"
   ]
  },
  {
   "cell_type": "code",
   "execution_count": null,
   "metadata": {
    "colab": {
     "base_uri": "https://localhost:8080/"
    },
    "executionInfo": {
     "elapsed": 315,
     "status": "ok",
     "timestamp": 1648666713548,
     "user": {
      "displayName": "양여진",
      "userId": "00702759979750743808"
     },
     "user_tz": -540
    },
    "id": "m1sDlnLMG2QM",
    "outputId": "e305a510-c66b-40a0-e61a-b02c00010e27"
   },
   "outputs": [],
   "source": [
    "from imblearn.over_sampling import SMOTE\n",
    "smote_sample = SMOTE(sampling_strategy='minority') \n",
    "x_sm, y_sm = smote_sample.fit_resample(x, y)\n",
    "print(Counter(y_sm))"
   ]
  },
  {
   "cell_type": "code",
   "execution_count": null,
   "metadata": {
    "colab": {
     "base_uri": "https://localhost:8080/",
     "height": 772
    },
    "executionInfo": {
     "elapsed": 1849,
     "status": "ok",
     "timestamp": 1648666717875,
     "user": {
      "displayName": "양여진",
      "userId": "00702759979750743808"
     },
     "user_tz": -540
    },
    "id": "8Nfph2POG2S_",
    "outputId": "00ccf527-abdc-4849-845e-779e0a2896e0"
   },
   "outputs": [],
   "source": [
    "from matplotlib import pyplot as plt\n",
    "import seaborn as sns\n",
    "\n",
    "fig, axes = plt.subplots(nrows=2, ncols=2, figsize=(10, 10))\n",
    "\n",
    "sns.scatterplot(x[:, 1], x[:, 2], hue=y, ax=axes[0][0], alpha=0.5)\n",
    "sns.scatterplot(x_under[:, 1], x_under[:,2], hue=y_under, ax=axes[0][1], alpha=0.5)\n",
    "sns.scatterplot(x_over[:, 1], x_over[:, 2], hue=y_over, ax=axes[1][0], alpha=0.5)\n",
    "sns.scatterplot(x_sm[:, 1], x_sm[:, 2], hue=y_sm, ax=axes[1][1], alpha=0.5)\n",
    "\n",
    "axes[0][0].set_title('Original Data')\n",
    "axes[0][1].set_title('Random Under Sampling')\n",
    "axes[1][0].set_title('Random Over Sampling')\n",
    "axes[1][1].set_title('SMOTE')\n",
    "\n",
    "plt.show()"
   ]
  },
  {
   "cell_type": "code",
   "execution_count": null,
   "metadata": {
    "executionInfo": {
     "elapsed": 23,
     "status": "ok",
     "timestamp": 1648665712817,
     "user": {
      "displayName": "양여진",
      "userId": "00702759979750743808"
     },
     "user_tz": -540
    },
    "id": "KMvqwVhnG2Va"
   },
   "outputs": [],
   "source": []
  }
 ],
 "metadata": {
  "colab": {
   "authorship_tag": "ABX9TyNp+BVa2eKfvoMh4l2WW+/F",
   "collapsed_sections": [],
   "name": "Ch 4.ipynb",
   "provenance": []
  },
  "kernelspec": {
   "display_name": "Python 3 (ipykernel)",
   "language": "python",
   "name": "python3"
  },
  "language_info": {
   "codemirror_mode": {
    "name": "ipython",
    "version": 3
   },
   "file_extension": ".py",
   "mimetype": "text/x-python",
   "name": "python",
   "nbconvert_exporter": "python",
   "pygments_lexer": "ipython3",
   "version": "3.7.16"
  }
 },
 "nbformat": 4,
 "nbformat_minor": 2
}
