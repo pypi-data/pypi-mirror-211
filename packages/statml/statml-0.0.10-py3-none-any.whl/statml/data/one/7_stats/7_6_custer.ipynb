{
 "cells": [
  {
   "cell_type": "markdown",
   "id": "2daff63a",
   "metadata": {
    "toc": true
   },
   "source": [
    "<h1>Table of Contents<span class=\"tocSkip\"></span></h1>\n",
    "<div class=\"toc\"><ul class=\"toc-item\"></ul></div>"
   ]
  },
  {
   "cell_type": "code",
   "execution_count": null,
   "id": "11a49a33",
   "metadata": {},
   "outputs": [],
   "source": [
    "import pandas as pd\n",
    "import numpy as np\n",
    "from scipy.cluster.hierarchy import dendrogram, linkage, fcluster\n",
    "from matplotlib import pyplot as plt\n",
    "\n",
    "US = pd.read_csv('../data/USArrests.csv')\n",
    "\n",
    "US.columns = ['State', 'Murder', 'Assault', 'UrbanPop', 'Rape']\n",
    "labelList=US.State.tolist()\n",
    "US.head()\n"
   ]
  },
  {
   "cell_type": "code",
   "execution_count": null,
   "id": "47627266",
   "metadata": {},
   "outputs": [],
   "source": [
    "# 최단연결법\n",
    "single = linkage(US.iloc[:, 1::], metric ='euclidean', method='single')\n",
    "\n",
    "# 덴드로그램 그리기\n",
    "plt.figure(figsize=(10, 7))\n",
    "dendrogram(single,\n",
    "            orientation='top',\n",
    "            labels=labelList,\n",
    "            distance_sort='descending',\n",
    "            color_threshold=25,   #군집의 수를 설정하는 Height 값 설정\n",
    "            show_leaf_counts=True)\n",
    "\n",
    "plt.axhline(y=25, color='r', linewidth=1)  #Height 값에 따라 선을 그어 적절한 군집 수 설정\n",
    "plt.show()\n"
   ]
  },
  {
   "cell_type": "code",
   "execution_count": null,
   "id": "dd8803ca",
   "metadata": {},
   "outputs": [],
   "source": [
    "# 와드연결법\n",
    "ward = linkage(US.iloc[:, 1::], metric ='euclidean', method='ward')\n",
    "# 덴드로그램 그리기\n",
    "plt.figure(figsize=(10, 7))\n",
    "dendrogram(ward,\n",
    "            orientation='top',\n",
    "            labels=labelList,\n",
    "            distance_sort='descending',\n",
    "            color_threshold=250,\n",
    "            show_leaf_counts=True)\n",
    "plt.axhline(y=250, color='r', linewidth=1)  #Height 값에 따라 선을 그어 적절한 군집 수 설정\n",
    "plt.show()\n"
   ]
  },
  {
   "cell_type": "code",
   "execution_count": null,
   "id": "b6f11e62",
   "metadata": {},
   "outputs": [],
   "source": [
    "# state마다 어떤 군집에 설정되었는지 확인\n",
    "assignments = fcluster(ward, 250, 'distance')\n",
    "assignments\n"
   ]
  },
  {
   "cell_type": "code",
   "execution_count": null,
   "id": "51473758",
   "metadata": {
    "scrolled": true
   },
   "outputs": [],
   "source": [
    "US['cluster'] = assignments\n",
    "US.groupby('cluster').mean()\n"
   ]
  },
  {
   "cell_type": "code",
   "execution_count": null,
   "id": "284a59a0",
   "metadata": {},
   "outputs": [],
   "source": []
  },
  {
   "cell_type": "code",
   "execution_count": null,
   "id": "b462ddce",
   "metadata": {},
   "outputs": [],
   "source": []
  },
  {
   "cell_type": "code",
   "execution_count": null,
   "id": "ec426b89",
   "metadata": {},
   "outputs": [],
   "source": [
    "# 필요한 모듈\n",
    "import pandas as pd \n",
    "from sklearn.cluster import KMeans\n",
    "# 데이터 로드\n",
    "iris = pd.read_csv('../data/iris.csv')\n",
    "X = iris.drop('target',axis=1)\n",
    "X\n"
   ]
  },
  {
   "cell_type": "code",
   "execution_count": null,
   "id": "108abc86",
   "metadata": {},
   "outputs": [],
   "source": [
    "# 클러스터별 콜린스키 하라바츠 결과 비교\n",
    "from sklearn.metrics import calinski_harabasz_score\n",
    "\n",
    "for k in range(2, 10):\n",
    "    kmeans_model = KMeans(n_clusters=k, random_state=1).fit(X)\n",
    "    labels = kmeans_model.labels_\n",
    "    print(calinski_harabasz_score(X, labels))\n"
   ]
  },
  {
   "cell_type": "code",
   "execution_count": null,
   "id": "28c03b32",
   "metadata": {},
   "outputs": [],
   "source": [
    "import matplotlib.pyplot as plt\n",
    "def elbow(X):\n",
    "    sse=[]\n",
    "    for i in range(1, 11):\n",
    "        km=KMeans(n_clusters=i, random_state=1)\n",
    "        km.fit(X)\n",
    "        sse.append(km.inertia_)\n",
    "    \n",
    "    plt.plot(range(1,11), sse, marker='o')\n",
    "    plt.xlabel('The Number of Clusters')\n",
    "    plt.ylabel('SSE')\n",
    "    plt.show()\n",
    "    print(sse)\n",
    "elbow(X)"
   ]
  },
  {
   "cell_type": "code",
   "execution_count": null,
   "id": "e7a879be",
   "metadata": {},
   "outputs": [],
   "source": [
    "#최적의 k로  K-Means 군집화 실행\n",
    "km = KMeans(n_clusters =3, random_state=1)\n",
    "km.fit(X)\n",
    "# 할당된 군집을 iris 데이터에 추가\n",
    "new_labels = km.labels_\n",
    "iris['cluster'] = new_labels\n",
    "\n",
    "iris.groupby(['cluster']).mean()\n",
    "\n"
   ]
  },
  {
   "cell_type": "code",
   "execution_count": null,
   "id": "0697a73d",
   "metadata": {},
   "outputs": [],
   "source": [
    "# k-means 시각화 \n",
    "# 군집결과 시각화\n",
    "import seaborn as sns\n",
    "import matplotlib.pyplot as plt\n",
    "sns.pairplot(iris,\n",
    "             diag_kind='kde',\n",
    "             hue=\"cluster\", \n",
    "             corner =True,  \n",
    "             palette='bright')\n",
    "plt.show()\n"
   ]
  },
  {
   "cell_type": "code",
   "execution_count": null,
   "id": "400a6bc0",
   "metadata": {},
   "outputs": [],
   "source": [
    "# 혼합분포 군진분석\n",
    "\n",
    "import pandas as pd\n",
    "import numpy as np\n",
    "import sklearn\n",
    "from sklearn.preprocessing import StandardScaler\n",
    "from sklearn.mixture import GaussianMixture\n",
    "\n",
    "iris = pd.read_csv('../data/iris.csv')\n",
    "df = iris.drop('target', axis=1)\n",
    "\n",
    "scaler = StandardScaler()\n",
    "df_scaled = scaler.fit_transform(df)\n",
    "\n",
    "gmm = GaussianMixture(n_components = 3)\n",
    "gmm.fit(df_scaled)\n",
    "gmm_labels=gmm.predict(df_scaled)\n",
    "gmm_labels"
   ]
  },
  {
   "cell_type": "code",
   "execution_count": null,
   "id": "393cc484",
   "metadata": {},
   "outputs": [],
   "source": [
    "df['gmm_cluster'] = gmm_labels\n",
    "clusters = [0, 1, 2]\n",
    "df.groupby('gmm_cluster').mean()"
   ]
  },
  {
   "cell_type": "code",
   "execution_count": null,
   "id": "da1c4c09",
   "metadata": {},
   "outputs": [],
   "source": [
    "import seaborn as sns\n",
    "import matplotlib.pyplot as plt\n",
    "sns.pairplot(df,\n",
    "             diag_kind='kde',\n",
    "             hue='gmm_cluster',\n",
    "             corner =True,  \n",
    "             palette='bright')\n",
    "plt.show()"
   ]
  },
  {
   "cell_type": "code",
   "execution_count": null,
   "id": "4c125fb6",
   "metadata": {},
   "outputs": [],
   "source": [
    "df"
   ]
  },
  {
   "cell_type": "code",
   "execution_count": null,
   "id": "1658d27e",
   "metadata": {},
   "outputs": [],
   "source": []
  }
 ],
 "metadata": {
  "kernelspec": {
   "display_name": "Python 3 (ipykernel)",
   "language": "python",
   "name": "python3"
  },
  "language_info": {
   "codemirror_mode": {
    "name": "ipython",
    "version": 3
   },
   "file_extension": ".py",
   "mimetype": "text/x-python",
   "name": "python",
   "nbconvert_exporter": "python",
   "pygments_lexer": "ipython3",
   "version": "3.7.16"
  },
  "toc": {
   "base_numbering": 1,
   "nav_menu": {},
   "number_sections": true,
   "sideBar": true,
   "skip_h1_title": false,
   "title_cell": "Table of Contents",
   "title_sidebar": "Contents",
   "toc_cell": true,
   "toc_position": {},
   "toc_section_display": true,
   "toc_window_display": true
  }
 },
 "nbformat": 4,
 "nbformat_minor": 5
}
