{
 "cells": [
  {
   "cell_type": "markdown",
   "id": "99697655",
   "metadata": {
    "toc": true
   },
   "source": [
    "<h1>Table of Contents<span class=\"tocSkip\"></span></h1>\n",
    "<div class=\"toc\"><ul class=\"toc-item\"></ul></div>"
   ]
  },
  {
   "cell_type": "code",
   "execution_count": null,
   "id": "bbffe125",
   "metadata": {},
   "outputs": [],
   "source": [
    "import pandas as pd\n",
    "import warnings\n",
    "\n",
    "data = pd.read_csv('../data/arima_data.csv', names = ['day', 'price'])\n",
    "data.head()\n"
   ]
  },
  {
   "cell_type": "code",
   "execution_count": null,
   "id": "831cbc50",
   "metadata": {},
   "outputs": [],
   "source": [
    "data.info()"
   ]
  },
  {
   "cell_type": "code",
   "execution_count": null,
   "id": "ba4a56c0",
   "metadata": {},
   "outputs": [],
   "source": [
    "data['day'] = pd.to_datetime(data['day'],format=\"%Y-%m-%d\")\n",
    "data.set_index('day', inplace=True)\n",
    "data.head(3)\n"
   ]
  },
  {
   "cell_type": "code",
   "execution_count": null,
   "id": "1ca75c08",
   "metadata": {},
   "outputs": [],
   "source": [
    "import matplotlib.pyplot as plt\n",
    "plt.plot(data.index,data['price'])\n"
   ]
  },
  {
   "cell_type": "code",
   "execution_count": null,
   "id": "eff50309",
   "metadata": {},
   "outputs": [],
   "source": [
    "from statsmodels.tsa.seasonal import seasonal_decompose\n",
    "\n",
    "ts = data\n",
    "result = seasonal_decompose(ts, model='multiplicative')\n",
    "plt.rcParams['figure.figsize'] = [12, 8]\n",
    "result.plot()\n",
    "plt.show()\n"
   ]
  },
  {
   "cell_type": "code",
   "execution_count": null,
   "id": "d92d6457",
   "metadata": {},
   "outputs": [],
   "source": [
    "from statsmodels.tsa.stattools import adfuller\n",
    "\n",
    "#Train, Test 데이터 구분\n",
    "training = data[:\"2016-12-01\"]\n",
    "test = data.drop(training.index)\n",
    "\n",
    "\n",
    "adf = adfuller(training, regression='ct')\n",
    "print('ADF Statistic: {}'.format(adf[0]))\n",
    "print('p-value : {}'.format(adf[1]))\n"
   ]
  },
  {
   "cell_type": "code",
   "execution_count": null,
   "id": "52934de6",
   "metadata": {},
   "outputs": [],
   "source": [
    "from statsmodels.graphics.tsaplots import plot_acf, plot_pacf\n",
    "\n",
    "diff_data = training.diff(1)\n",
    "diff_data = diff_data.dropna()\n",
    "diff_data.plot()\n"
   ]
  },
  {
   "cell_type": "code",
   "execution_count": null,
   "id": "363d95cc",
   "metadata": {},
   "outputs": [],
   "source": [
    "adf = adfuller(diff_data)\n",
    "print('ADF Statistic: {}'.format(adf[0]))\n",
    "print('p-value : {}'.format(adf[1]))\n"
   ]
  },
  {
   "cell_type": "code",
   "execution_count": null,
   "id": "654937e2",
   "metadata": {},
   "outputs": [],
   "source": [
    "from statsmodels.graphics.tsaplots import plot_acf, plot_pacf\n",
    "import matplotlib.pyplot as plt\n",
    "\n",
    "plot_acf(diff_data) #AR(p)의 값 확인 가능\n"
   ]
  },
  {
   "cell_type": "code",
   "execution_count": null,
   "id": "4eaef928",
   "metadata": {},
   "outputs": [],
   "source": [
    "plot_pacf(diff_data) #MA(q)의 값 확인 가능\n",
    "\n",
    "plt.show()\n"
   ]
  },
  {
   "cell_type": "code",
   "execution_count": null,
   "id": "de9e89a2",
   "metadata": {},
   "outputs": [],
   "source": [
    "from statsmodels.tsa.arima.model import ARIMA\n",
    "\n",
    "model = ARIMA(training, order=(2,1,2))\n",
    "res = model.fit()\n",
    "res.summary()\n"
   ]
  },
  {
   "cell_type": "code",
   "execution_count": null,
   "id": "9b68dc2f",
   "metadata": {},
   "outputs": [],
   "source": [
    "plt.plot(res.predict())\n",
    "plt.plot(training)\n"
   ]
  },
  {
   "cell_type": "code",
   "execution_count": null,
   "id": "5b67a19e",
   "metadata": {},
   "outputs": [],
   "source": [
    "forecast_data = res.forecast(steps=len(test), alpha=0.05) \n",
    "# 학습 데이터셋으로부터 test 데이터 길이만큼 예측합니다.\n",
    "\n",
    "pred_y= forecast_data\n",
    "pred_y\n"
   ]
  },
  {
   "cell_type": "code",
   "execution_count": null,
   "id": "8857c7b7",
   "metadata": {},
   "outputs": [],
   "source": [
    "test_y = test # 실제 데이터\n",
    "test_y\n"
   ]
  },
  {
   "cell_type": "code",
   "execution_count": null,
   "id": "b90ff5c3",
   "metadata": {},
   "outputs": [],
   "source": [
    "plt.plot(pred_y, color=\"gold\", label='Predict') # 모델이 예상한 가격 그래프\n",
    "plt.plot(test_y, color=\"green\" , label='test') # 실제 가격 그래프\n",
    "plt.legend()\n",
    "plt.show()\n"
   ]
  },
  {
   "cell_type": "code",
   "execution_count": null,
   "id": "7983c9a2",
   "metadata": {},
   "outputs": [],
   "source": [
    "from sklearn.metrics import mean_squared_error\n",
    "from sklearn.metrics import r2_score\n",
    "\n",
    "print(\"r2_score : \", r2_score(test_y, pred_y))\n",
    "RMSE = mean_squared_error(test_y, pred_y)**0.5\n",
    "print(\"RMSE : \" , RMSE)\n"
   ]
  },
  {
   "cell_type": "code",
   "execution_count": null,
   "id": "712e03d4",
   "metadata": {},
   "outputs": [],
   "source": [
    "from pmdarima import auto_arima\n",
    "\n",
    "auto_model = auto_arima(training, start_p=0, d=1, start_q=0,\n",
    "                        max_p=3, max_q=3, \n",
    "                        start_P=0, start_Q=0,\n",
    "                        max_P=3, max_Q=3, m=12,\n",
    "                        seasonal=True, information_criterion='aic',\n",
    "                        trace=True)\n"
   ]
  },
  {
   "cell_type": "code",
   "execution_count": null,
   "id": "cf13d50f",
   "metadata": {},
   "outputs": [],
   "source": [
    "auto_model.summary()"
   ]
  },
  {
   "cell_type": "code",
   "execution_count": null,
   "id": "9134aa43",
   "metadata": {},
   "outputs": [],
   "source": [
    "# 학습 데이터셋으로부터 test 데이터 길이만큼 예측\n",
    "auto_pred_y= pd.DataFrame(auto_model.predict(n_periods=len(test)), \n",
    "                          index=test.index) \n",
    "auto_pred_y.columns = ['predicted_price']\n",
    "auto_pred_y\n"
   ]
  },
  {
   "cell_type": "code",
   "execution_count": null,
   "id": "6721d7c3",
   "metadata": {},
   "outputs": [],
   "source": [
    "plt.figure(figsize=(10,6))\n",
    "plt.plot(training, label=\"Train\") # Train 데이터 \n",
    "plt.plot(auto_pred_y, label=\"Prediction\") # 모델이 예상한 그래프 \n",
    "plt.plot(test, label=\"Test\") # 실제 가격 그래프 \n",
    "plt.legend(loc='upper left')\n",
    "plt.show()\n"
   ]
  },
  {
   "cell_type": "code",
   "execution_count": null,
   "id": "5848ef2d",
   "metadata": {},
   "outputs": [],
   "source": [
    "from sklearn.metrics import mean_squared_error\n",
    "from sklearn.metrics import r2_score\n",
    "\n",
    "print(\"r2_score : \", r2_score(test_y, auto_pred_y))\n",
    "RMSE = mean_squared_error(test_y, auto_pred_y)**0.5\n",
    "print(\"RMSE : \" , RMSE)\n"
   ]
  },
  {
   "cell_type": "code",
   "execution_count": null,
   "id": "d302f83e",
   "metadata": {},
   "outputs": [],
   "source": []
  },
  {
   "cell_type": "code",
   "execution_count": null,
   "id": "88f46a8c",
   "metadata": {},
   "outputs": [],
   "source": []
  },
  {
   "cell_type": "code",
   "execution_count": null,
   "id": "8e98d4ff",
   "metadata": {},
   "outputs": [],
   "source": []
  },
  {
   "cell_type": "code",
   "execution_count": null,
   "id": "726b670a",
   "metadata": {},
   "outputs": [],
   "source": []
  }
 ],
 "metadata": {
  "kernelspec": {
   "display_name": "Python 3 (ipykernel)",
   "language": "python",
   "name": "python3"
  },
  "language_info": {
   "codemirror_mode": {
    "name": "ipython",
    "version": 3
   },
   "file_extension": ".py",
   "mimetype": "text/x-python",
   "name": "python",
   "nbconvert_exporter": "python",
   "pygments_lexer": "ipython3",
   "version": "3.7.16"
  },
  "toc": {
   "base_numbering": 1,
   "nav_menu": {},
   "number_sections": true,
   "sideBar": true,
   "skip_h1_title": false,
   "title_cell": "Table of Contents",
   "title_sidebar": "Contents",
   "toc_cell": true,
   "toc_position": {},
   "toc_section_display": true,
   "toc_window_display": true
  }
 },
 "nbformat": 4,
 "nbformat_minor": 5
}
