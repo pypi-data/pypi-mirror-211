{
 "cells": [
  {
   "cell_type": "markdown",
   "id": "31375f1d",
   "metadata": {
    "toc": true
   },
   "source": [
    "<h1>Table of Contents<span class=\"tocSkip\"></span></h1>\n",
    "<div class=\"toc\"><ul class=\"toc-item\"><li><span><a href=\"#일원배치-분산분석\" data-toc-modified-id=\"일원배치-분산분석-1\"><span class=\"toc-item-num\">1&nbsp;&nbsp;</span>일원배치 분산분석</a></span></li><li><span><a href=\"#이원배치-분산분석\" data-toc-modified-id=\"이원배치-분산분석-2\"><span class=\"toc-item-num\">2&nbsp;&nbsp;</span>이원배치 분산분석</a></span></li></ul></div>"
   ]
  },
  {
   "cell_type": "markdown",
   "id": "3e7fd1b0",
   "metadata": {},
   "source": [
    "# 일원배치 분산분석"
   ]
  },
  {
   "cell_type": "code",
   "execution_count": null,
   "id": "96d0dd7f",
   "metadata": {},
   "outputs": [],
   "source": [
    "import scipy.stats as stats  \n",
    "import pandas as pd\n",
    "Iris_data = pd.read_csv(\"../data/iris.csv\")\n",
    "Iris_data.head(100)\n"
   ]
  },
  {
   "cell_type": "code",
   "execution_count": null,
   "id": "d9ab5258",
   "metadata": {},
   "outputs": [],
   "source": [
    "Iris_data[\"target\"].unique()"
   ]
  },
  {
   "cell_type": "code",
   "execution_count": null,
   "id": "8402c21a",
   "metadata": {},
   "outputs": [],
   "source": [
    "Iris_data.target.value_counts()"
   ]
  },
  {
   "cell_type": "code",
   "execution_count": null,
   "id": "b58e6fdd",
   "metadata": {},
   "outputs": [],
   "source": [
    "target_list = Iris_data[\"target\"].unique()\n",
    "setosa = Iris_data[Iris_data[\"target\"]==target_list[0]][\"sepal width\"]\n",
    "versicolor = Iris_data[Iris_data[\"target\"]==target_list[1]][\"sepal width\"]\n",
    "virginica = Iris_data[Iris_data[\"target\"]==target_list[2]][\"sepal width\"]\n",
    "print(target_list)\n"
   ]
  },
  {
   "cell_type": "code",
   "execution_count": null,
   "id": "75c2171e",
   "metadata": {
    "scrolled": true
   },
   "outputs": [],
   "source": [
    "import seaborn as sns\n",
    "import matplotlib.pyplot as plt\n",
    "# Scatter plot by Groups\n",
    "sns.scatterplot(x='target', \n",
    "                y='sepal width', \n",
    "                hue='target', # different colors by group\n",
    "                style='target', # different shapes by group\n",
    "                s=100, # marker size\n",
    "                data=Iris_data)\n",
    "plt.show()\n"
   ]
  },
  {
   "cell_type": "code",
   "execution_count": null,
   "id": "de2b4034",
   "metadata": {},
   "outputs": [],
   "source": [
    "print(stats.shapiro(setosa))\n",
    "print(stats.shapiro(versicolor))\n",
    "print(stats.shapiro(virginica))\n"
   ]
  },
  {
   "cell_type": "code",
   "execution_count": null,
   "id": "577251fe",
   "metadata": {},
   "outputs": [],
   "source": [
    "stats.levene(setosa,versicolor,virginica)"
   ]
  },
  {
   "cell_type": "code",
   "execution_count": null,
   "id": "e9cb8249",
   "metadata": {},
   "outputs": [],
   "source": [
    "stats.f_oneway(setosa,versicolor,virginica)"
   ]
  },
  {
   "cell_type": "code",
   "execution_count": null,
   "id": "d034193b",
   "metadata": {},
   "outputs": [],
   "source": [
    "from statsmodels.stats.multicomp import pairwise_tukeyhsd\n",
    "from statsmodels.stats.multicomp import MultiComparison\n",
    "mc = MultiComparison(data= Iris_data[\"sepal width\"], groups=Iris_data[\"target\"] )\n",
    "tuekeyhsd = mc.tukeyhsd(alpha=0.05)\n",
    "fig = tuekeyhsd.plot_simultaneous()\n"
   ]
  },
  {
   "cell_type": "code",
   "execution_count": null,
   "id": "0af558ca",
   "metadata": {},
   "outputs": [],
   "source": [
    "tuekeyhsd.summary()"
   ]
  },
  {
   "cell_type": "code",
   "execution_count": null,
   "id": "50003486",
   "metadata": {},
   "outputs": [],
   "source": [
    "stats.kruskal(setosa,versicolor,virginica)"
   ]
  },
  {
   "cell_type": "code",
   "execution_count": null,
   "id": "b8f4d204",
   "metadata": {},
   "outputs": [],
   "source": [
    "# pip install pingouin \n",
    "# conda install pingouin\n",
    "import pingouin as pg\n",
    "pg.welch_anova(data = Iris_data, dv ='sepal width', between='target')\n"
   ]
  },
  {
   "cell_type": "markdown",
   "id": "7963fc41",
   "metadata": {},
   "source": [
    "# 이원배치 분산분석"
   ]
  },
  {
   "cell_type": "code",
   "execution_count": 1,
   "id": "b2d74957",
   "metadata": {},
   "outputs": [
    {
     "data": {
      "text/html": [
       "<div>\n",
       "<style scoped>\n",
       "    .dataframe tbody tr th:only-of-type {\n",
       "        vertical-align: middle;\n",
       "    }\n",
       "\n",
       "    .dataframe tbody tr th {\n",
       "        vertical-align: top;\n",
       "    }\n",
       "\n",
       "    .dataframe thead th {\n",
       "        text-align: right;\n",
       "    }\n",
       "</style>\n",
       "<table border=\"1\" class=\"dataframe\">\n",
       "  <thead>\n",
       "    <tr style=\"text-align: right;\">\n",
       "      <th></th>\n",
       "      <th>Unnamed: 0</th>\n",
       "      <th>mpg</th>\n",
       "      <th>cyl</th>\n",
       "      <th>disp</th>\n",
       "      <th>hp</th>\n",
       "      <th>drat</th>\n",
       "      <th>wt</th>\n",
       "      <th>qsec</th>\n",
       "      <th>vs</th>\n",
       "      <th>am</th>\n",
       "      <th>gear</th>\n",
       "      <th>carb</th>\n",
       "    </tr>\n",
       "  </thead>\n",
       "  <tbody>\n",
       "    <tr>\n",
       "      <th>0</th>\n",
       "      <td>Mazda RX4</td>\n",
       "      <td>21.0</td>\n",
       "      <td>6</td>\n",
       "      <td>160.0</td>\n",
       "      <td>110</td>\n",
       "      <td>3.90</td>\n",
       "      <td>2.620</td>\n",
       "      <td>16.46</td>\n",
       "      <td>0</td>\n",
       "      <td>1</td>\n",
       "      <td>4</td>\n",
       "      <td>4</td>\n",
       "    </tr>\n",
       "    <tr>\n",
       "      <th>1</th>\n",
       "      <td>Mazda RX4 Wag</td>\n",
       "      <td>21.0</td>\n",
       "      <td>6</td>\n",
       "      <td>160.0</td>\n",
       "      <td>110</td>\n",
       "      <td>3.90</td>\n",
       "      <td>2.875</td>\n",
       "      <td>17.02</td>\n",
       "      <td>0</td>\n",
       "      <td>1</td>\n",
       "      <td>4</td>\n",
       "      <td>4</td>\n",
       "    </tr>\n",
       "    <tr>\n",
       "      <th>2</th>\n",
       "      <td>Datsun 710</td>\n",
       "      <td>22.8</td>\n",
       "      <td>4</td>\n",
       "      <td>108.0</td>\n",
       "      <td>93</td>\n",
       "      <td>3.85</td>\n",
       "      <td>2.320</td>\n",
       "      <td>18.61</td>\n",
       "      <td>1</td>\n",
       "      <td>1</td>\n",
       "      <td>4</td>\n",
       "      <td>1</td>\n",
       "    </tr>\n",
       "    <tr>\n",
       "      <th>3</th>\n",
       "      <td>Hornet 4 Drive</td>\n",
       "      <td>21.4</td>\n",
       "      <td>6</td>\n",
       "      <td>258.0</td>\n",
       "      <td>110</td>\n",
       "      <td>3.08</td>\n",
       "      <td>3.215</td>\n",
       "      <td>19.44</td>\n",
       "      <td>1</td>\n",
       "      <td>0</td>\n",
       "      <td>3</td>\n",
       "      <td>1</td>\n",
       "    </tr>\n",
       "    <tr>\n",
       "      <th>4</th>\n",
       "      <td>Hornet Sportabout</td>\n",
       "      <td>18.7</td>\n",
       "      <td>8</td>\n",
       "      <td>360.0</td>\n",
       "      <td>175</td>\n",
       "      <td>3.15</td>\n",
       "      <td>3.440</td>\n",
       "      <td>17.02</td>\n",
       "      <td>0</td>\n",
       "      <td>0</td>\n",
       "      <td>3</td>\n",
       "      <td>2</td>\n",
       "    </tr>\n",
       "  </tbody>\n",
       "</table>\n",
       "</div>"
      ],
      "text/plain": [
       "          Unnamed: 0   mpg  cyl   disp   hp  drat     wt   qsec  vs  am  gear  \\\n",
       "0          Mazda RX4  21.0    6  160.0  110  3.90  2.620  16.46   0   1     4   \n",
       "1      Mazda RX4 Wag  21.0    6  160.0  110  3.90  2.875  17.02   0   1     4   \n",
       "2         Datsun 710  22.8    4  108.0   93  3.85  2.320  18.61   1   1     4   \n",
       "3     Hornet 4 Drive  21.4    6  258.0  110  3.08  3.215  19.44   1   0     3   \n",
       "4  Hornet Sportabout  18.7    8  360.0  175  3.15  3.440  17.02   0   0     3   \n",
       "\n",
       "   carb  \n",
       "0     4  \n",
       "1     4  \n",
       "2     1  \n",
       "3     1  \n",
       "4     2  "
      ]
     },
     "execution_count": 1,
     "metadata": {},
     "output_type": "execute_result"
    }
   ],
   "source": [
    "# 데이터 불러오기\n",
    "import pandas as pd\n",
    "mtcars = pd.read_csv('../data/mtcars.csv')\n",
    "mtcars.head()\n"
   ]
  },
  {
   "cell_type": "code",
   "execution_count": 2,
   "id": "c2a8cc11",
   "metadata": {},
   "outputs": [
    {
     "name": "stdout",
     "output_type": "stream",
     "text": [
      "<class 'pandas.core.frame.DataFrame'>\n",
      "RangeIndex: 32 entries, 0 to 31\n",
      "Data columns (total 3 columns):\n",
      " #   Column  Non-Null Count  Dtype  \n",
      "---  ------  --------------  -----  \n",
      " 0   mpg     32 non-null     float64\n",
      " 1   am      32 non-null     int64  \n",
      " 2   cyl     32 non-null     int64  \n",
      "dtypes: float64(1), int64(2)\n",
      "memory usage: 896.0 bytes\n"
     ]
    }
   ],
   "source": [
    "## cyl, am, mpg 변수들로만 구성된 분석용 데이터셋 생성 \n",
    "mtcars = mtcars[[\"mpg\",\"am\",\"cyl\"]]\n",
    "mtcars.info()\n"
   ]
  },
  {
   "cell_type": "code",
   "execution_count": 3,
   "id": "af9b6b22",
   "metadata": {},
   "outputs": [
    {
     "data": {
      "text/html": [
       "<div>\n",
       "<style scoped>\n",
       "    .dataframe tbody tr th:only-of-type {\n",
       "        vertical-align: middle;\n",
       "    }\n",
       "\n",
       "    .dataframe tbody tr th {\n",
       "        vertical-align: top;\n",
       "    }\n",
       "\n",
       "    .dataframe thead th {\n",
       "        text-align: right;\n",
       "    }\n",
       "</style>\n",
       "<table border=\"1\" class=\"dataframe\">\n",
       "  <thead>\n",
       "    <tr style=\"text-align: right;\">\n",
       "      <th></th>\n",
       "      <th>sum_sq</th>\n",
       "      <th>df</th>\n",
       "      <th>F</th>\n",
       "      <th>PR(&gt;F)</th>\n",
       "    </tr>\n",
       "  </thead>\n",
       "  <tbody>\n",
       "    <tr>\n",
       "      <th>C(cyl)</th>\n",
       "      <td>456.400921</td>\n",
       "      <td>2.0</td>\n",
       "      <td>24.819011</td>\n",
       "      <td>9.354735e-07</td>\n",
       "    </tr>\n",
       "    <tr>\n",
       "      <th>C(am)</th>\n",
       "      <td>36.766919</td>\n",
       "      <td>1.0</td>\n",
       "      <td>3.998759</td>\n",
       "      <td>5.608373e-02</td>\n",
       "    </tr>\n",
       "    <tr>\n",
       "      <th>C(cyl):C(am)</th>\n",
       "      <td>25.436511</td>\n",
       "      <td>2.0</td>\n",
       "      <td>1.383233</td>\n",
       "      <td>2.686140e-01</td>\n",
       "    </tr>\n",
       "    <tr>\n",
       "      <th>Residual</th>\n",
       "      <td>239.059167</td>\n",
       "      <td>26.0</td>\n",
       "      <td>NaN</td>\n",
       "      <td>NaN</td>\n",
       "    </tr>\n",
       "  </tbody>\n",
       "</table>\n",
       "</div>"
      ],
      "text/plain": [
       "                  sum_sq    df          F        PR(>F)\n",
       "C(cyl)        456.400921   2.0  24.819011  9.354735e-07\n",
       "C(am)          36.766919   1.0   3.998759  5.608373e-02\n",
       "C(cyl):C(am)   25.436511   2.0   1.383233  2.686140e-01\n",
       "Residual      239.059167  26.0        NaN           NaN"
      ]
     },
     "execution_count": 3,
     "metadata": {},
     "output_type": "execute_result"
    }
   ],
   "source": [
    "## 분산분석 수행 \n",
    "from statsmodels.formula.api import ols\n",
    "from statsmodels.stats.anova import anova_lm\n",
    "\n",
    "formula = 'mpg ~ C(cyl) + C(am) + C(cyl):C(am)'\n",
    "model = ols(formula, mtcars).fit()\n",
    "aov_table = anova_lm(model, typ=2)\n",
    "aov_table\n"
   ]
  },
  {
   "cell_type": "code",
   "execution_count": 5,
   "id": "9f9d157a",
   "metadata": {},
   "outputs": [
    {
     "data": {
      "text/html": [
       "<table class=\"simpletable\">\n",
       "<caption>OLS Regression Results</caption>\n",
       "<tr>\n",
       "  <th>Dep. Variable:</th>           <td>mpg</td>       <th>  R-squared:         </th> <td>   0.788</td>\n",
       "</tr>\n",
       "<tr>\n",
       "  <th>Model:</th>                   <td>OLS</td>       <th>  Adj. R-squared:    </th> <td>   0.747</td>\n",
       "</tr>\n",
       "<tr>\n",
       "  <th>Method:</th>             <td>Least Squares</td>  <th>  F-statistic:       </th> <td>   19.29</td>\n",
       "</tr>\n",
       "<tr>\n",
       "  <th>Date:</th>             <td>Fri, 02 Jun 2023</td> <th>  Prob (F-statistic):</th> <td>5.18e-08</td>\n",
       "</tr>\n",
       "<tr>\n",
       "  <th>Time:</th>                 <td>19:50:12</td>     <th>  Log-Likelihood:    </th> <td> -77.582</td>\n",
       "</tr>\n",
       "<tr>\n",
       "  <th>No. Observations:</th>      <td>    32</td>      <th>  AIC:               </th> <td>   167.2</td>\n",
       "</tr>\n",
       "<tr>\n",
       "  <th>Df Residuals:</th>          <td>    26</td>      <th>  BIC:               </th> <td>   176.0</td>\n",
       "</tr>\n",
       "<tr>\n",
       "  <th>Df Model:</th>              <td>     5</td>      <th>                     </th>     <td> </td>   \n",
       "</tr>\n",
       "<tr>\n",
       "  <th>Covariance Type:</th>      <td>nonrobust</td>    <th>                     </th>     <td> </td>   \n",
       "</tr>\n",
       "</table>\n",
       "<table class=\"simpletable\">\n",
       "<tr>\n",
       "             <td></td>               <th>coef</th>     <th>std err</th>      <th>t</th>      <th>P>|t|</th>  <th>[0.025</th>    <th>0.975]</th>  \n",
       "</tr>\n",
       "<tr>\n",
       "  <th>Intercept</th>              <td>   22.9000</td> <td>    1.751</td> <td>   13.081</td> <td> 0.000</td> <td>   19.301</td> <td>   26.499</td>\n",
       "</tr>\n",
       "<tr>\n",
       "  <th>C(cyl)[T.6]</th>            <td>   -3.7750</td> <td>    2.316</td> <td>   -1.630</td> <td> 0.115</td> <td>   -8.535</td> <td>    0.985</td>\n",
       "</tr>\n",
       "<tr>\n",
       "  <th>C(cyl)[T.8]</th>            <td>   -7.8500</td> <td>    1.957</td> <td>   -4.011</td> <td> 0.000</td> <td>  -11.873</td> <td>   -3.827</td>\n",
       "</tr>\n",
       "<tr>\n",
       "  <th>C(am)[T.1]</th>             <td>    5.1750</td> <td>    2.053</td> <td>    2.521</td> <td> 0.018</td> <td>    0.955</td> <td>    9.395</td>\n",
       "</tr>\n",
       "<tr>\n",
       "  <th>C(cyl)[T.6]:C(am)[T.1]</th> <td>   -3.7333</td> <td>    3.095</td> <td>   -1.206</td> <td> 0.239</td> <td>  -10.095</td> <td>    2.628</td>\n",
       "</tr>\n",
       "<tr>\n",
       "  <th>C(cyl)[T.8]:C(am)[T.1]</th> <td>   -4.8250</td> <td>    3.095</td> <td>   -1.559</td> <td> 0.131</td> <td>  -11.186</td> <td>    1.536</td>\n",
       "</tr>\n",
       "</table>\n",
       "<table class=\"simpletable\">\n",
       "<tr>\n",
       "  <th>Omnibus:</th>       <td> 1.456</td> <th>  Durbin-Watson:     </th> <td>   1.671</td>\n",
       "</tr>\n",
       "<tr>\n",
       "  <th>Prob(Omnibus):</th> <td> 0.483</td> <th>  Jarque-Bera (JB):  </th> <td>   0.665</td>\n",
       "</tr>\n",
       "<tr>\n",
       "  <th>Skew:</th>          <td>-0.328</td> <th>  Prob(JB):          </th> <td>   0.717</td>\n",
       "</tr>\n",
       "<tr>\n",
       "  <th>Kurtosis:</th>      <td> 3.262</td> <th>  Cond. No.          </th> <td>    11.1</td>\n",
       "</tr>\n",
       "</table><br/><br/>Notes:<br/>[1] Standard Errors assume that the covariance matrix of the errors is correctly specified."
      ],
      "text/plain": [
       "<class 'statsmodels.iolib.summary.Summary'>\n",
       "\"\"\"\n",
       "                            OLS Regression Results                            \n",
       "==============================================================================\n",
       "Dep. Variable:                    mpg   R-squared:                       0.788\n",
       "Model:                            OLS   Adj. R-squared:                  0.747\n",
       "Method:                 Least Squares   F-statistic:                     19.29\n",
       "Date:                Fri, 02 Jun 2023   Prob (F-statistic):           5.18e-08\n",
       "Time:                        19:50:12   Log-Likelihood:                -77.582\n",
       "No. Observations:                  32   AIC:                             167.2\n",
       "Df Residuals:                      26   BIC:                             176.0\n",
       "Df Model:                           5                                         \n",
       "Covariance Type:            nonrobust                                         \n",
       "==========================================================================================\n",
       "                             coef    std err          t      P>|t|      [0.025      0.975]\n",
       "------------------------------------------------------------------------------------------\n",
       "Intercept                 22.9000      1.751     13.081      0.000      19.301      26.499\n",
       "C(cyl)[T.6]               -3.7750      2.316     -1.630      0.115      -8.535       0.985\n",
       "C(cyl)[T.8]               -7.8500      1.957     -4.011      0.000     -11.873      -3.827\n",
       "C(am)[T.1]                 5.1750      2.053      2.521      0.018       0.955       9.395\n",
       "C(cyl)[T.6]:C(am)[T.1]    -3.7333      3.095     -1.206      0.239     -10.095       2.628\n",
       "C(cyl)[T.8]:C(am)[T.1]    -4.8250      3.095     -1.559      0.131     -11.186       1.536\n",
       "==============================================================================\n",
       "Omnibus:                        1.456   Durbin-Watson:                   1.671\n",
       "Prob(Omnibus):                  0.483   Jarque-Bera (JB):                0.665\n",
       "Skew:                          -0.328   Prob(JB):                        0.717\n",
       "Kurtosis:                       3.262   Cond. No.                         11.1\n",
       "==============================================================================\n",
       "\n",
       "Notes:\n",
       "[1] Standard Errors assume that the covariance matrix of the errors is correctly specified.\n",
       "\"\"\""
      ]
     },
     "execution_count": 5,
     "metadata": {},
     "output_type": "execute_result"
    }
   ],
   "source": [
    "model.summary()"
   ]
  },
  {
   "cell_type": "code",
   "execution_count": 4,
   "id": "8f8440fc",
   "metadata": {},
   "outputs": [
    {
     "data": {
      "image/png": "[encoded data removed]",
      "text/plain": [
       "<Figure size 600x600 with 1 Axes>"
      ]
     },
     "metadata": {},
     "output_type": "display_data"
    }
   ],
   "source": [
    "from statsmodels.graphics.factorplots import interaction_plot\n",
    "import matplotlib.pyplot as plt\n",
    "\n",
    "## 독립변수 cyl,am와 종속변수 mpg을 Series로 변경 \n",
    "cyl = mtcars[\"cyl\"]\n",
    "am = mtcars[\"am\"]\n",
    "mpg = mtcars[\"mpg\"]\n",
    "\n",
    "fig, ax = plt.subplots(figsize=(6, 6))\n",
    "fig = interaction_plot(cyl,am, mpg,\n",
    "                       colors=['red', 'blue'], markers=['D', '^'], ms=10, ax=ax)\n"
   ]
  },
  {
   "cell_type": "code",
   "execution_count": null,
   "id": "c9f76bb5",
   "metadata": {},
   "outputs": [],
   "source": []
  }
 ],
 "metadata": {
  "kernelspec": {
   "display_name": "Python 3 (ipykernel)",
   "language": "python",
   "name": "python3"
  },
  "language_info": {
   "codemirror_mode": {
    "name": "ipython",
    "version": 3
   },
   "file_extension": ".py",
   "mimetype": "text/x-python",
   "name": "python",
   "nbconvert_exporter": "python",
   "pygments_lexer": "ipython3",
   "version": "3.7.16"
  },
  "toc": {
   "base_numbering": 1,
   "nav_menu": {},
   "number_sections": true,
   "sideBar": true,
   "skip_h1_title": false,
   "title_cell": "Table of Contents",
   "title_sidebar": "Contents",
   "toc_cell": true,
   "toc_position": {},
   "toc_section_display": true,
   "toc_window_display": true
  }
 },
 "nbformat": 4,
 "nbformat_minor": 5
}
