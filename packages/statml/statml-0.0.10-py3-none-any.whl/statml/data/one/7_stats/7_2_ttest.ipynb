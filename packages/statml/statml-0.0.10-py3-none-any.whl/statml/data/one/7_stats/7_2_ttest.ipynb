{
 "cells": [
  {
   "cell_type": "markdown",
   "id": "0f088afc",
   "metadata": {
    "toc": true
   },
   "source": [
    "<h1>Table of Contents<span class=\"tocSkip\"></span></h1>\n",
    "<div class=\"toc\"><ul class=\"toc-item\"><li><span><a href=\"#일표본-t-test\" data-toc-modified-id=\"일표본-t-test-1\"><span class=\"toc-item-num\">1&nbsp;&nbsp;</span>일표본 t-test</a></span></li><li><span><a href=\"#대응표본-t-test\" data-toc-modified-id=\"대응표본-t-test-2\"><span class=\"toc-item-num\">2&nbsp;&nbsp;</span>대응표본 t-test</a></span></li><li><span><a href=\"#독립표본-t-test\" data-toc-modified-id=\"독립표본-t-test-3\"><span class=\"toc-item-num\">3&nbsp;&nbsp;</span>독립표본 t-test</a></span></li></ul></div>"
   ]
  },
  {
   "cell_type": "markdown",
   "id": "b91c239b",
   "metadata": {},
   "source": [
    "# 일표본 t-test"
   ]
  },
  {
   "cell_type": "markdown",
   "id": "2f320840",
   "metadata": {},
   "source": [
    " cats 데이터에서 고양이들의 평균몸무게가 2.6kg인지 아닌지 통계적 검정을 수행하고, 결과를 해석해보자(양측검정, 유의수준 : 0.05)."
   ]
  },
  {
   "cell_type": "code",
   "execution_count": null,
   "id": "b14d3992",
   "metadata": {
    "scrolled": true
   },
   "outputs": [],
   "source": [
    "import pandas as pd\n",
    "cats=pd.read_csv('../data/cats.csv')\n",
    "cats\n"
   ]
  },
  {
   "cell_type": "markdown",
   "id": "a6033bf4",
   "metadata": {},
   "source": [
    "Bwt 컬럼은 고양이의 몸무게를 의미하고, Hwt는 고양이의 길이를 의미한다. \n",
    "cats의 데이터의 정보를 info로 확인해준다. "
   ]
  },
  {
   "cell_type": "code",
   "execution_count": null,
   "id": "933a77e9",
   "metadata": {},
   "outputs": [],
   "source": [
    "cats.info()"
   ]
  },
  {
   "cell_type": "markdown",
   "id": "134fa155",
   "metadata": {},
   "source": [
    "shapiro test를 통해 데이터의 정규성을 검정한다. 고양이의 몸무게를 검정하므로 고양이의 몸무게만 추출하여 shapiro test를 진행해야 한다. "
   ]
  },
  {
   "cell_type": "code",
   "execution_count": null,
   "id": "49e83a22",
   "metadata": {},
   "outputs": [],
   "source": [
    "import scipy.stats as stats\n",
    "from scipy.stats import shapiro\n",
    "mu =2.6\n",
    "shapiro(cats['Bwt'])\n"
   ]
  },
  {
   "cell_type": "markdown",
   "id": "376fe019",
   "metadata": {},
   "source": [
    "[결과해석]\n",
    "첫번째 값 (검정통계치) : 0.95187\n",
    "두번째 값 (p-value) : 6.730e-05\n",
    "유의수준보다 작으므로 '데이터가 정규분포를 따른다'는 귀무가설을 기각한다. 즉, cats 데이이터의 Bwt 변수는 정규분포를 따르지 않는다. 데이터가 정규분포를 따르지 않으므로 wilcox test 로 t-test를 진행한다. 만약, 정규분포를 따른다면 stats.ttest_1samp(cats.Bwt, popmean=mu)를 사용하면 된다. "
   ]
  },
  {
   "cell_type": "code",
   "execution_count": null,
   "id": "c7cb42e2",
   "metadata": {},
   "outputs": [],
   "source": [
    "stats.wilcoxon(cats.Bwt - mu , alternative='two-sided')"
   ]
  },
  {
   "cell_type": "code",
   "execution_count": null,
   "id": "93045a5d",
   "metadata": {},
   "outputs": [],
   "source": [
    "import matplotlib.pyplot as plt\n",
    "cats_Bwt_cnt = pd.value_counts(cats['Bwt'].values, sort=False)\n",
    "width =0.4\n",
    "plt.bar(cats_Bwt_cnt.index, cats_Bwt_cnt.values,width)\n",
    "plt.title('Bwt')\n",
    "plt.ylabel('Count')\n"
   ]
  },
  {
   "cell_type": "markdown",
   "id": "ca755f79",
   "metadata": {},
   "source": [
    "# 대응표본 t-test\n",
    "\n",
    "10명의 환자 대상 수면영양제 복용 전과 후의 수면시간을 측정하였다.  \n",
    "영양제의 효과가 있는지를 판단해보자. "
   ]
  },
  {
   "cell_type": "code",
   "execution_count": null,
   "id": "c340b989",
   "metadata": {},
   "outputs": [],
   "source": [
    "# 데이터 불러오기 및 확인 \n",
    "import pandas as pd \n",
    "data = {'before':[7,3,4,5,2,1,6,6,5,4],\n",
    "       'after':[8,4,5,6,2,3,6,8,6,5]}\n",
    "data = pd.DataFrame(data)\n",
    "data\n"
   ]
  },
  {
   "cell_type": "markdown",
   "id": "5f567ef1",
   "metadata": {},
   "source": [
    "해당 데이터를 검정하기 위한 가설 수립한다.  <br> <br>\n",
    "귀무가설(H0) <br>\n",
    "수면제 복용 전과 후의 수면시간 차이는 없다. <br>\n",
    "대립가설(H1)<br>\n",
    "수면제 복용 전과 후의 수면시간 차이는 있다. <br>\n"
   ]
  },
  {
   "cell_type": "code",
   "execution_count": null,
   "id": "14be6be1",
   "metadata": {},
   "outputs": [],
   "source": [
    "stats.ttest_rel(data['after'],data['before'],alternative='greater')"
   ]
  },
  {
   "cell_type": "code",
   "execution_count": null,
   "id": "a0d1427a",
   "metadata": {},
   "outputs": [],
   "source": [
    "data.mean()"
   ]
  },
  {
   "cell_type": "markdown",
   "id": "88b7302a",
   "metadata": {},
   "source": [
    "[결과해석]\n",
    "p-value가 유의수준보다 작으므로 '수면영양제를 복용하기 전과 후의 평균 수면시간의 차이는 통계적으로 유의하며, 영양제를 복용한 후 수면시간이 늘었다'는 결론을 낼 수 있다. "
   ]
  },
  {
   "cell_type": "markdown",
   "id": "40e79360",
   "metadata": {},
   "source": [
    "# 독립표본 t-test"
   ]
  },
  {
   "cell_type": "code",
   "execution_count": null,
   "id": "64622804",
   "metadata": {},
   "outputs": [],
   "source": [
    "import pandas as pd\n",
    "cats=pd.read_csv('../data/cats.csv')\n",
    "\n",
    "female = cats.loc[cats.Sex =='F', 'Bwt']\n",
    "male = cats.loc[cats.Sex =='M', 'Bwt']\n",
    "stats.levene(female, male)\n"
   ]
  },
  {
   "cell_type": "code",
   "execution_count": null,
   "id": "2fd554e9",
   "metadata": {},
   "outputs": [],
   "source": [
    "stats.ttest_ind(female, male, equal_var=False)"
   ]
  },
  {
   "cell_type": "code",
   "execution_count": null,
   "id": "a32252e7",
   "metadata": {},
   "outputs": [],
   "source": [
    "print(female.mean())\n",
    "print(male.mean())\n"
   ]
  },
  {
   "cell_type": "code",
   "execution_count": null,
   "id": "4dc32401",
   "metadata": {
    "scrolled": true
   },
   "outputs": [],
   "source": [
    "female_Bwt_cnt = pd.value_counts(female.values, sort=False)\n",
    "male_Bwt_cnt = pd.value_counts(male.values, sort=False)\n",
    "fig, axs = plt.subplots(1, 2,figsize=(20,5))\n",
    "fig.suptitle('Bar plot')\n",
    "width =0.4\n",
    "axs[0].bar(female_Bwt_cnt.index, female_Bwt_cnt.values)\n",
    "axs[0].set_title('female_Bwt')\n",
    "axs[0].set_ylabel('Count')\n",
    "axs[1].bar(male_Bwt_cnt.index, male_Bwt_cnt.values)\n",
    "axs[1].set_title('male_Bwt')\n",
    "axs[1].set_ylabel('Count')\n",
    "plt.show()\n"
   ]
  },
  {
   "cell_type": "code",
   "execution_count": null,
   "id": "911af4e3",
   "metadata": {},
   "outputs": [],
   "source": []
  }
 ],
 "metadata": {
  "kernelspec": {
   "display_name": "Python 3 (ipykernel)",
   "language": "python",
   "name": "python3"
  },
  "language_info": {
   "codemirror_mode": {
    "name": "ipython",
    "version": 3
   },
   "file_extension": ".py",
   "mimetype": "text/x-python",
   "name": "python",
   "nbconvert_exporter": "python",
   "pygments_lexer": "ipython3",
   "version": "3.7.16"
  },
  "toc": {
   "base_numbering": 1,
   "nav_menu": {},
   "number_sections": true,
   "sideBar": true,
   "skip_h1_title": false,
   "title_cell": "Table of Contents",
   "title_sidebar": "Contents",
   "toc_cell": true,
   "toc_position": {},
   "toc_section_display": true,
   "toc_window_display": true
  }
 },
 "nbformat": 4,
 "nbformat_minor": 5
}
