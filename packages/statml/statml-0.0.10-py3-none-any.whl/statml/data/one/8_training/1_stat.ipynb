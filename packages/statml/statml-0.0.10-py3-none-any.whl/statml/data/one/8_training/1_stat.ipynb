{
 "cells": [
  {
   "cell_type": "markdown",
   "metadata": {},
   "source": [
    "# 21회 모의고사 \n",
    "<br>\n",
    "\n",
    "##  2. 통계분석 (50점) \n",
    "\n",
    "\n",
    "<br>\n",
    "2. 회귀분석 문제. DATA = boston data (연속형 독립변수 1개, 종속변수 1개로 구성된 보스턴 집값 데이터셋)  (총 29점 ) <br>\n",
    "2-1. 데이터 8:2로 분할하고 선형회귀 적용하시오. 결정계수와 rmse 구하시오<br> <br>\n",
    "2-2. 데이터 8:2로 분할하고 릿지 회귀 적용하시오. <br>\n",
    "\n",
    "alpha 값을 0부터 1까지 0.1단위로 모두 탐색해서 결정계수가 가장 높을때의 알파를 찾고, 해당 알파로 다시 모델을 학습해서 결정계수와 rmse를 계산<br> <br>\n",
    "2-3. 데이터 8:2로 분할하고 라쏘 회귀 적용하시오.<br>\n",
    "alpha 값을 0부터 1까지 0.1단위로 모두 탐색해서 결정계수가 가장 높을때의 알파를 찾고, 해당 알파로 다시 모델을 학습해서 결정계수와 rmse를 계산<br>\n"
   ]
  },
  {
   "cell_type": "code",
   "execution_count": null,
   "metadata": {},
   "outputs": [],
   "source": [
    "import pandas as pd \n",
    "import numpy as np \n",
    "import mglearn\n",
    "X,y = mglearn.datasets.load_extended_boston()\n",
    "# 훈련, 테스트 셋 분리 \n",
    "from sklearn.model_selection import train_test_split\n",
    "X_train, X_test, y_train, y_test = train_test_split(X,y,test_size=0.2,random_state=0)"
   ]
  },
  {
   "cell_type": "markdown",
   "metadata": {},
   "source": [
    "## 2-1. 데이터 8:2로 분할하고 선형회귀 적용하시오. 결정계수와 rmse 구하시오<br>"
   ]
  },
  {
   "cell_type": "code",
   "execution_count": null,
   "metadata": {
    "scrolled": true
   },
   "outputs": [],
   "source": [
    "from sklearn.model_selection import GridSearchCV\n",
    "from sklearn.metrics import mean_squared_error\n",
    "from sklearn.linear_model import LinearRegression\n",
    "from sklearn.linear_model import Ridge \n",
    "from sklearn.linear_model import Lasso\n",
    "\n",
    "lr = LinearRegression() \n",
    "lr.fit(X_train,y_train)\n",
    "\n",
    "## R2 \n",
    "print(\"선형회귀 결정계수 : \", lr.score(X_test,y_test))\n",
    "print(\"선형회귀 RMSE : \", np.sqrt(mean_squared_error(y_test, lr.predict(X_test))))"
   ]
  },
  {
   "cell_type": "markdown",
   "metadata": {},
   "source": [
    "sklearn의 LinearRegression을 통해 선형회귀모델을 만들고 20% test데이터셋으로 모델을 검증하였다.\n",
    "\n",
    "모델의 정확도는 약 61.5%이며, RMSE 값은 약 5.6 이었다. 이는 모델이 예측할 때 실제 값과의 차이가 약 5.6정도 난다는 의미이다. "
   ]
  },
  {
   "cell_type": "markdown",
   "metadata": {},
   "source": [
    "## 2-2. 데이터 8:2로 분할하고 릿지 회귀 적용하시오. <br>\n",
    "alpha 값을 0부터 1까지 0.1단위로 모두 탐색해서 결정계수가 가장 높을때의 알파를 찾고, 해당 알파로 다시 모델을 학습해서 결정계수와 rmse를 계산<br>"
   ]
  },
  {
   "cell_type": "code",
   "execution_count": null,
   "metadata": {},
   "outputs": [],
   "source": [
    "alpha = np.arange(0,1.1,0.1)\n",
    "\n",
    "ridge = Ridge(normalize=True) \n",
    "param_grid = {'alpha':alpha}\n",
    "ridge_model = GridSearchCV(ridge, param_grid)\n",
    "ridge_model.fit(X_train,y_train)\n",
    "\n",
    "print(ridge_model.best_params_)\n",
    "print(\"릿지회귀 결정계수 : \", ridge_model.score(X_test,y_test))\n",
    "print(\"릿지회귀 RMSE : \", np.sqrt(mean_squared_error(y_test, ridge_model.predict(X_test))))"
   ]
  },
  {
   "cell_type": "markdown",
   "metadata": {},
   "source": [
    "우선, GridSearchCV 함수를 활용하여 alpha를 0.1부터 1까지 적용시켜 최적의 모델을 찾아냈다. \n",
    "\n",
    "최적의 모델을 갖는 alpha 값은 0.1이었다. \n",
    "\n",
    "alpha값을 조정하여 모델의 학습 정도를 조절할 수 있으며 평가지표로는 R2와 RMSE가 사용된다. \n",
    "\n",
    "alpha=1의 모델로 test 데이터를 예측하여 검증해본 결과 R2는 약 0.735, RMSE는 약 4.6으로 나타났다. "
   ]
  },
  {
   "cell_type": "markdown",
   "metadata": {},
   "source": [
    "## 2-3. 데이터 8:2로 분할하고 라쏘 회귀 적용하시오.<br>\n",
    "alpha 값을 0부터 1까지 0.1단위로 모두 탐색해서 결정계수가 가장 높을때의 알파를 찾고, 해당 알파로 다시 모델을 학습해서 결정계수와 rmse를 계산<br>"
   ]
  },
  {
   "cell_type": "code",
   "execution_count": null,
   "metadata": {
    "scrolled": true
   },
   "outputs": [],
   "source": [
    "lasso = Lasso(normalize=True) \n",
    "param_grid = {'alpha':alpha}\n",
    "lasso_model = GridSearchCV(lasso, param_grid)\n",
    "lasso_model.fit(X_train,y_train)\n",
    "\n",
    "print(lasso_model.best_params_)\n",
    "print(\"라쏘회귀 결정계수 : \", lasso_model.best_estimator_.score(X_test,y_test))\n",
    "print(\"라쏘회귀 RMSE : \", np.sqrt(mean_squared_error(y_test, lasso_model.best_estimator_.predict(X_test))))"
   ]
  },
  {
   "cell_type": "markdown",
   "metadata": {},
   "source": [
    "# 21회 기출분석 (4) \n",
    "\n",
    "2. 독립변수 하나 종속변수 하나 소규모 데이터 다항회귀(12점)<br>\n",
    "다항 회귀를 3차까지 적용시켜 계수를 구하고 각 차수별 데이터포인트 스캐터 플롯과 기울기 선을 그리세요. <br>\n",
    "<br><br>\n",
    "3. ANOVA분석 (9점)<br>\n",
    "변수 3개(하나는 범주형 변수/ 나머지 두 개는 수치형 연속변수)<br>\n",
    "이원분산분석을 수행하고 통계표를 작성하시오.<br>\n"
   ]
  },
  {
   "cell_type": "code",
   "execution_count": null,
   "metadata": {},
   "outputs": [],
   "source": [
    "import pandas as pd\n",
    "import numpy as np\n",
    "\n",
    "## 데이터 불러오기 \n",
    "m = 100\n",
    "X = 6 * np.random.rand(m,1) - 3\n",
    "y = 3 * X**3  + X**2 + 2*X + 2 + np.random.randn(m,1)  #노이즈 포함\n",
    "\n",
    "line = np.linspace(-3,3,100, endpoint=False).reshape(-1,1)\n"
   ]
  },
  {
   "cell_type": "code",
   "execution_count": null,
   "metadata": {},
   "outputs": [],
   "source": [
    "import pandas as pd\n",
    "import numpy as np\n",
    "from sklearn.linear_model import LinearRegression\n",
    "import matplotlib.pyplot as plt\n",
    "reg = LinearRegression().fit(X, y)\n",
    "plt.plot(line, reg.predict(line))\n",
    "plt.plot(X[:,0], y, 'o')\n"
   ]
  },
  {
   "cell_type": "code",
   "execution_count": null,
   "metadata": {},
   "outputs": [],
   "source": [
    "from sklearn.preprocessing import PolynomialFeatures\n",
    "## x**3 까지 3차항을 적용시켜야 함 \n",
    "poly = PolynomialFeatures(degree=3, include_bias=False)\n",
    "poly.fit(X)\n",
    "X_poly = poly.transform(X)\n",
    "line_poly = poly.transform(line)\n",
    "reg = LinearRegression().fit(X_poly, y)\n",
    "plt.plot(line, reg.predict(line_poly), c='r',linewidth=3)\n",
    "plt.plot(X,y,'o',c = 'g', alpha=0.5)"
   ]
  },
  {
   "cell_type": "code",
   "execution_count": null,
   "metadata": {},
   "outputs": [],
   "source": [
    "reg.coef_"
   ]
  },
  {
   "cell_type": "markdown",
   "metadata": {},
   "source": [
    "## 3. ANOVA분석 (9점)<br>\n",
    "변수 3개(하나는 수치형 변수/ 나머지 두 개는 범주형 변수)<br>\n",
    "이원분산분석을 수행하고 통계표를 작성하시오.<br>\n",
    "\n",
    "분산분석은 종속변수(반응변수)에 대해 두 개의 범주형 변수 A,B의 영향을 알아보기 위해 사용되는 검증 방법이다.\n",
    "\n",
    "- <b>가. 상호작용효과 검정에 대한 가설</b><br>\n",
    "1) 귀무가설 H0: region과 avocado type 간에는 상호작용 효과가 없다. <br>\n",
    "2) 대립가설 H1: region과 avocado type 간에는 상호작용 효과가 있다. <br>\n",
    "\n",
    "\n",
    "- <b>나. 주효과 검정에 대한 가설</b> <br>\n",
    "1) 귀무가설 H0: region 종류에 따른 AveragePrice 차이는 존재하지 않는다. <br>\n",
    "2) 대립가설 H1: region 종류에 따른 AveragePrice 차이는 존재한다. <br> \n",
    "3) 귀무가설 H0: type 종류에 따른 AveragePrice 차이는 존재하지 않는다. <br>\n",
    "4) 대립가설 H1: type 종류에 따른 AveragePrice 차이는 존재한다. <br> \n",
    "<br> \n"
   ]
  },
  {
   "cell_type": "code",
   "execution_count": 1,
   "metadata": {},
   "outputs": [
    {
     "data": {
      "text/html": [
       "<div>\n",
       "<style scoped>\n",
       "    .dataframe tbody tr th:only-of-type {\n",
       "        vertical-align: middle;\n",
       "    }\n",
       "\n",
       "    .dataframe tbody tr th {\n",
       "        vertical-align: top;\n",
       "    }\n",
       "\n",
       "    .dataframe thead th {\n",
       "        text-align: right;\n",
       "    }\n",
       "</style>\n",
       "<table border=\"1\" class=\"dataframe\">\n",
       "  <thead>\n",
       "    <tr style=\"text-align: right;\">\n",
       "      <th></th>\n",
       "      <th>AveragePrice</th>\n",
       "      <th>type</th>\n",
       "      <th>region</th>\n",
       "    </tr>\n",
       "  </thead>\n",
       "  <tbody>\n",
       "    <tr>\n",
       "      <th>0</th>\n",
       "      <td>1.13</td>\n",
       "      <td>conventional</td>\n",
       "      <td>Boston</td>\n",
       "    </tr>\n",
       "    <tr>\n",
       "      <th>1</th>\n",
       "      <td>1.07</td>\n",
       "      <td>conventional</td>\n",
       "      <td>Boston</td>\n",
       "    </tr>\n",
       "    <tr>\n",
       "      <th>2</th>\n",
       "      <td>1.01</td>\n",
       "      <td>conventional</td>\n",
       "      <td>Boston</td>\n",
       "    </tr>\n",
       "    <tr>\n",
       "      <th>3</th>\n",
       "      <td>1.02</td>\n",
       "      <td>conventional</td>\n",
       "      <td>Boston</td>\n",
       "    </tr>\n",
       "    <tr>\n",
       "      <th>4</th>\n",
       "      <td>1.19</td>\n",
       "      <td>conventional</td>\n",
       "      <td>Boston</td>\n",
       "    </tr>\n",
       "    <tr>\n",
       "      <th>...</th>\n",
       "      <td>...</td>\n",
       "      <td>...</td>\n",
       "      <td>...</td>\n",
       "    </tr>\n",
       "    <tr>\n",
       "      <th>1009</th>\n",
       "      <td>1.36</td>\n",
       "      <td>organic</td>\n",
       "      <td>Orlando</td>\n",
       "    </tr>\n",
       "    <tr>\n",
       "      <th>1010</th>\n",
       "      <td>1.67</td>\n",
       "      <td>organic</td>\n",
       "      <td>Orlando</td>\n",
       "    </tr>\n",
       "    <tr>\n",
       "      <th>1011</th>\n",
       "      <td>1.53</td>\n",
       "      <td>organic</td>\n",
       "      <td>Orlando</td>\n",
       "    </tr>\n",
       "    <tr>\n",
       "      <th>1012</th>\n",
       "      <td>1.55</td>\n",
       "      <td>organic</td>\n",
       "      <td>Orlando</td>\n",
       "    </tr>\n",
       "    <tr>\n",
       "      <th>1013</th>\n",
       "      <td>1.56</td>\n",
       "      <td>organic</td>\n",
       "      <td>Orlando</td>\n",
       "    </tr>\n",
       "  </tbody>\n",
       "</table>\n",
       "<p>1014 rows × 3 columns</p>\n",
       "</div>"
      ],
      "text/plain": [
       "      AveragePrice          type   region\n",
       "0             1.13  conventional   Boston\n",
       "1             1.07  conventional   Boston\n",
       "2             1.01  conventional   Boston\n",
       "3             1.02  conventional   Boston\n",
       "4             1.19  conventional   Boston\n",
       "...            ...           ...      ...\n",
       "1009          1.36       organic  Orlando\n",
       "1010          1.67       organic  Orlando\n",
       "1011          1.53       organic  Orlando\n",
       "1012          1.55       organic  Orlando\n",
       "1013          1.56       organic  Orlando\n",
       "\n",
       "[1014 rows x 3 columns]"
      ]
     },
     "execution_count": 1,
     "metadata": {},
     "output_type": "execute_result"
    }
   ],
   "source": [
    "import pandas as pd\n",
    "import numpy as np\n",
    "avocado = pd.read_csv('../data/avocado.csv')\n",
    "avocado = avocado[[\"AveragePrice\",\"type\",\"region\"]]\n",
    "avocado = avocado[(avocado['region']=='Orlando') | (avocado['region']=='Boston' )| (avocado['region']=='Chicago')].reset_index(drop=True)\n",
    "avocado\n"
   ]
  },
  {
   "cell_type": "code",
   "execution_count": 4,
   "metadata": {},
   "outputs": [
    {
     "data": {
      "text/html": [
       "<table class=\"simpletable\">\n",
       "<caption>OLS Regression Results</caption>\n",
       "<tr>\n",
       "  <th>Dep. Variable:</th>      <td>AveragePrice</td>   <th>  R-squared:         </th> <td>   0.461</td> \n",
       "</tr>\n",
       "<tr>\n",
       "  <th>Model:</th>                   <td>OLS</td>       <th>  Adj. R-squared:    </th> <td>   0.458</td> \n",
       "</tr>\n",
       "<tr>\n",
       "  <th>Method:</th>             <td>Least Squares</td>  <th>  F-statistic:       </th> <td>   172.5</td> \n",
       "</tr>\n",
       "<tr>\n",
       "  <th>Date:</th>             <td>Fri, 02 Jun 2023</td> <th>  Prob (F-statistic):</th> <td>1.34e-132</td>\n",
       "</tr>\n",
       "<tr>\n",
       "  <th>Time:</th>                 <td>19:52:44</td>     <th>  Log-Likelihood:    </th> <td> -70.979</td> \n",
       "</tr>\n",
       "<tr>\n",
       "  <th>No. Observations:</th>      <td>  1014</td>      <th>  AIC:               </th> <td>   154.0</td> \n",
       "</tr>\n",
       "<tr>\n",
       "  <th>Df Residuals:</th>          <td>  1008</td>      <th>  BIC:               </th> <td>   183.5</td> \n",
       "</tr>\n",
       "<tr>\n",
       "  <th>Df Model:</th>              <td>     5</td>      <th>                     </th>     <td> </td>    \n",
       "</tr>\n",
       "<tr>\n",
       "  <th>Covariance Type:</th>      <td>nonrobust</td>    <th>                     </th>     <td> </td>    \n",
       "</tr>\n",
       "</table>\n",
       "<table class=\"simpletable\">\n",
       "<tr>\n",
       "                         <td></td>                            <th>coef</th>     <th>std err</th>      <th>t</th>      <th>P>|t|</th>  <th>[0.025</th>    <th>0.975]</th>  \n",
       "</tr>\n",
       "<tr>\n",
       "  <th>Intercept</th>                                       <td>    1.3044</td> <td>    0.020</td> <td>   65.147</td> <td> 0.000</td> <td>    1.265</td> <td>    1.344</td>\n",
       "</tr>\n",
       "<tr>\n",
       "  <th>C(avocado_type)[T.organic]</th>                      <td>    0.4530</td> <td>    0.028</td> <td>   15.999</td> <td> 0.000</td> <td>    0.397</td> <td>    0.509</td>\n",
       "</tr>\n",
       "<tr>\n",
       "  <th>C(region)[T.Chicago]</th>                            <td>    0.0650</td> <td>    0.028</td> <td>    2.295</td> <td> 0.022</td> <td>    0.009</td> <td>    0.121</td>\n",
       "</tr>\n",
       "<tr>\n",
       "  <th>C(region)[T.Orlando]</th>                            <td>   -0.0899</td> <td>    0.028</td> <td>   -3.176</td> <td> 0.002</td> <td>   -0.146</td> <td>   -0.034</td>\n",
       "</tr>\n",
       "<tr>\n",
       "  <th>C(avocado_type)[T.organic]:C(region)[T.Chicago]</th> <td>   -0.0782</td> <td>    0.040</td> <td>   -1.952</td> <td> 0.051</td> <td>   -0.157</td> <td>    0.000</td>\n",
       "</tr>\n",
       "<tr>\n",
       "  <th>C(avocado_type)[T.organic]:C(region)[T.Orlando]</th> <td>    0.1305</td> <td>    0.040</td> <td>    3.260</td> <td> 0.001</td> <td>    0.052</td> <td>    0.209</td>\n",
       "</tr>\n",
       "</table>\n",
       "<table class=\"simpletable\">\n",
       "<tr>\n",
       "  <th>Omnibus:</th>       <td>27.847</td> <th>  Durbin-Watson:     </th> <td>   0.414</td>\n",
       "</tr>\n",
       "<tr>\n",
       "  <th>Prob(Omnibus):</th> <td> 0.000</td> <th>  Jarque-Bera (JB):  </th> <td>  29.644</td>\n",
       "</tr>\n",
       "<tr>\n",
       "  <th>Skew:</th>          <td> 0.392</td> <th>  Prob(JB):          </th> <td>3.66e-07</td>\n",
       "</tr>\n",
       "<tr>\n",
       "  <th>Kurtosis:</th>      <td> 3.297</td> <th>  Cond. No.          </th> <td>    9.77</td>\n",
       "</tr>\n",
       "</table><br/><br/>Notes:<br/>[1] Standard Errors assume that the covariance matrix of the errors is correctly specified."
      ],
      "text/plain": [
       "<class 'statsmodels.iolib.summary.Summary'>\n",
       "\"\"\"\n",
       "                            OLS Regression Results                            \n",
       "==============================================================================\n",
       "Dep. Variable:           AveragePrice   R-squared:                       0.461\n",
       "Model:                            OLS   Adj. R-squared:                  0.458\n",
       "Method:                 Least Squares   F-statistic:                     172.5\n",
       "Date:                Fri, 02 Jun 2023   Prob (F-statistic):          1.34e-132\n",
       "Time:                        19:52:44   Log-Likelihood:                -70.979\n",
       "No. Observations:                1014   AIC:                             154.0\n",
       "Df Residuals:                    1008   BIC:                             183.5\n",
       "Df Model:                           5                                         \n",
       "Covariance Type:            nonrobust                                         \n",
       "===================================================================================================================\n",
       "                                                      coef    std err          t      P>|t|      [0.025      0.975]\n",
       "-------------------------------------------------------------------------------------------------------------------\n",
       "Intercept                                           1.3044      0.020     65.147      0.000       1.265       1.344\n",
       "C(avocado_type)[T.organic]                          0.4530      0.028     15.999      0.000       0.397       0.509\n",
       "C(region)[T.Chicago]                                0.0650      0.028      2.295      0.022       0.009       0.121\n",
       "C(region)[T.Orlando]                               -0.0899      0.028     -3.176      0.002      -0.146      -0.034\n",
       "C(avocado_type)[T.organic]:C(region)[T.Chicago]    -0.0782      0.040     -1.952      0.051      -0.157       0.000\n",
       "C(avocado_type)[T.organic]:C(region)[T.Orlando]     0.1305      0.040      3.260      0.001       0.052       0.209\n",
       "==============================================================================\n",
       "Omnibus:                       27.847   Durbin-Watson:                   0.414\n",
       "Prob(Omnibus):                  0.000   Jarque-Bera (JB):               29.644\n",
       "Skew:                           0.392   Prob(JB):                     3.66e-07\n",
       "Kurtosis:                       3.297   Cond. No.                         9.77\n",
       "==============================================================================\n",
       "\n",
       "Notes:\n",
       "[1] Standard Errors assume that the covariance matrix of the errors is correctly specified.\n",
       "\"\"\""
      ]
     },
     "execution_count": 4,
     "metadata": {},
     "output_type": "execute_result"
    }
   ],
   "source": [
    "## 독립변수 type,region 종속변수 AveragePrice 을 Series로 변경 \n",
    "\n",
    "AveragePrice = avocado[\"AveragePrice\"]\n",
    "avocado_type = avocado[\"type\"]\n",
    "region = avocado[\"region\"]\n",
    "\n",
    "## 분산분석 수행 \n",
    "\n",
    "from statsmodels.formula.api import ols\n",
    "from statsmodels.stats.anova import anova_lm\n",
    "\n",
    "formula = 'AveragePrice ~C(avocado_type)*C(region)' \n",
    "model = ols(formula, avocado).fit()\n",
    "model.summary()"
   ]
  },
  {
   "cell_type": "code",
   "execution_count": 5,
   "metadata": {},
   "outputs": [
    {
     "data": {
      "text/html": [
       "<div>\n",
       "<style scoped>\n",
       "    .dataframe tbody tr th:only-of-type {\n",
       "        vertical-align: middle;\n",
       "    }\n",
       "\n",
       "    .dataframe tbody tr th {\n",
       "        vertical-align: top;\n",
       "    }\n",
       "\n",
       "    .dataframe thead th {\n",
       "        text-align: right;\n",
       "    }\n",
       "</style>\n",
       "<table border=\"1\" class=\"dataframe\">\n",
       "  <thead>\n",
       "    <tr style=\"text-align: right;\">\n",
       "      <th></th>\n",
       "      <th>sum_sq</th>\n",
       "      <th>df</th>\n",
       "      <th>F</th>\n",
       "      <th>PR(&gt;F)</th>\n",
       "    </tr>\n",
       "  </thead>\n",
       "  <tbody>\n",
       "    <tr>\n",
       "      <th>C(avocado_type)</th>\n",
       "      <td>56.111007</td>\n",
       "      <td>1.0</td>\n",
       "      <td>828.218296</td>\n",
       "      <td>1.989417e-133</td>\n",
       "    </tr>\n",
       "    <tr>\n",
       "      <th>C(region)</th>\n",
       "      <td>0.432136</td>\n",
       "      <td>2.0</td>\n",
       "      <td>3.189242</td>\n",
       "      <td>4.161918e-02</td>\n",
       "    </tr>\n",
       "    <tr>\n",
       "      <th>C(avocado_type):C(region)</th>\n",
       "      <td>1.878817</td>\n",
       "      <td>2.0</td>\n",
       "      <td>13.866003</td>\n",
       "      <td>1.146622e-06</td>\n",
       "    </tr>\n",
       "    <tr>\n",
       "      <th>Residual</th>\n",
       "      <td>68.291047</td>\n",
       "      <td>1008.0</td>\n",
       "      <td>NaN</td>\n",
       "      <td>NaN</td>\n",
       "    </tr>\n",
       "  </tbody>\n",
       "</table>\n",
       "</div>"
      ],
      "text/plain": [
       "                              sum_sq      df           F         PR(>F)\n",
       "C(avocado_type)            56.111007     1.0  828.218296  1.989417e-133\n",
       "C(region)                   0.432136     2.0    3.189242   4.161918e-02\n",
       "C(avocado_type):C(region)   1.878817     2.0   13.866003   1.146622e-06\n",
       "Residual                   68.291047  1008.0         NaN            NaN"
      ]
     },
     "execution_count": 5,
     "metadata": {},
     "output_type": "execute_result"
    }
   ],
   "source": [
    "aov_table = anova_lm(model, typ=2)\n",
    "aov_table"
   ]
  },
  {
   "cell_type": "code",
   "execution_count": 3,
   "metadata": {},
   "outputs": [
    {
     "data": {
      "image/png": "[encoded data removed]",
      "text/plain": [
       "<Figure size 600x600 with 1 Axes>"
      ]
     },
     "metadata": {},
     "output_type": "display_data"
    }
   ],
   "source": [
    "from statsmodels.graphics.factorplots import interaction_plot\n",
    "import matplotlib.pyplot as plt\n",
    "\n",
    "fig, ax = plt.subplots(figsize=(6, 6))\n",
    "fig = interaction_plot(avocado_type, region , AveragePrice,colors=['red', 'blue', 'black'], markers=['D', '^','o'], ms=10, ax=ax)"
   ]
  },
  {
   "cell_type": "code",
   "execution_count": null,
   "metadata": {},
   "outputs": [],
   "source": []
  }
 ],
 "metadata": {
  "kernelspec": {
   "display_name": "Python 3 (ipykernel)",
   "language": "python",
   "name": "python3"
  },
  "language_info": {
   "codemirror_mode": {
    "name": "ipython",
    "version": 3
   },
   "file_extension": ".py",
   "mimetype": "text/x-python",
   "name": "python",
   "nbconvert_exporter": "python",
   "pygments_lexer": "ipython3",
   "version": "3.7.16"
  },
  "toc": {
   "base_numbering": "",
   "nav_menu": {},
   "number_sections": false,
   "sideBar": true,
   "skip_h1_title": true,
   "title_cell": "Table of Contents",
   "title_sidebar": "Contents",
   "toc_cell": false,
   "toc_position": {
    "height": "779px",
    "left": "120px",
    "top": "80px",
    "width": "165px"
   },
   "toc_section_display": true,
   "toc_window_display": true
  }
 },
 "nbformat": 4,
 "nbformat_minor": 4
}
