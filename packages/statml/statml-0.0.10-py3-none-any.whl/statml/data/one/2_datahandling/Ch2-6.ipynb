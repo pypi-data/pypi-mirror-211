{
 "cells": [
  {
   "cell_type": "code",
   "execution_count": null,
   "id": "2d0f6465",
   "metadata": {
    "colab": {
     "base_uri": "https://localhost:8080/",
     "height": 174
    },
    "executionInfo": {
     "elapsed": 993,
     "status": "ok",
     "timestamp": 1650720570740,
     "user": {
      "displayName": "양여진",
      "userId": "00702759979750743808"
     },
     "user_tz": -540
    },
    "id": "ceaef46b",
    "outputId": "1b4e330b-0233-4a58-8a25-9284a710c4b6"
   },
   "outputs": [],
   "source": [
    "import pandas as pd\n",
    "\n",
    "HR1 = pd.DataFrame({'이름':['장화','홍련'], \n",
    "                    '부서':['영업', '회계'], \n",
    "                    '직급':['팀장', '사원']})\n",
    "\n",
    "HR2 = pd.DataFrame({'이름':['콩쥐','팥쥐'], \n",
    "                    '직급':['사원', '팀장'], \n",
    "                    '부서':['영업', '인사']})\n",
    "\n",
    "pd.concat([HR1, HR2], axis=0)"
   ]
  },
  {
   "cell_type": "code",
   "execution_count": null,
   "id": "be0544d0",
   "metadata": {
    "colab": {
     "base_uri": "https://localhost:8080/",
     "height": 174
    },
    "executionInfo": {
     "elapsed": 82,
     "status": "ok",
     "timestamp": 1650720570741,
     "user": {
      "displayName": "양여진",
      "userId": "00702759979750743808"
     },
     "user_tz": -540
    },
    "id": "c5193b41",
    "outputId": "e167b9aa-865f-4312-f0de-19497294f607"
   },
   "outputs": [],
   "source": [
    "pd.concat([HR1, HR2], axis=0, ignore_index=True)"
   ]
  },
  {
   "cell_type": "code",
   "execution_count": null,
   "id": "30bb1875",
   "metadata": {
    "colab": {
     "base_uri": "https://localhost:8080/",
     "height": 174
    },
    "executionInfo": {
     "elapsed": 80,
     "status": "ok",
     "timestamp": 1650720570743,
     "user": {
      "displayName": "양여진",
      "userId": "00702759979750743808"
     },
     "user_tz": -540
    },
    "id": "cbf0b39d",
    "outputId": "5b8fa18b-819b-4457-89cf-088c31c832b5"
   },
   "outputs": [],
   "source": [
    "HR3 = pd.DataFrame({'이름':['콩쥐','팥쥐'], \n",
    "                    '부서':['영업', '인사'], \n",
    "                    '급여':[3500, 2800]})\n",
    "pd.concat([HR1, HR3], axis=0, ignore_index=True)"
   ]
  },
  {
   "cell_type": "code",
   "execution_count": null,
   "id": "e70660c0",
   "metadata": {
    "colab": {
     "base_uri": "https://localhost:8080/",
     "height": 112
    },
    "executionInfo": {
     "elapsed": 80,
     "status": "ok",
     "timestamp": 1650720570745,
     "user": {
      "displayName": "양여진",
      "userId": "00702759979750743808"
     },
     "user_tz": -540
    },
    "id": "408b998f",
    "outputId": "6495835a-0928-429b-e960-2936bac448dd"
   },
   "outputs": [],
   "source": [
    "HR4 = pd.Series({1: 2500}, name='급여')\n",
    "pd.concat([HR1, HR4], axis=1)"
   ]
  },
  {
   "cell_type": "code",
   "execution_count": null,
   "id": "203264d3",
   "metadata": {
    "colab": {
     "base_uri": "https://localhost:8080/",
     "height": 143
    },
    "executionInfo": {
     "elapsed": 82,
     "status": "ok",
     "timestamp": 1650720570748,
     "user": {
      "displayName": "양여진",
      "userId": "00702759979750743808"
     },
     "user_tz": -540
    },
    "id": "06049dc8",
    "outputId": "4d90e6fe-3645-499d-ac60-98d83129020b"
   },
   "outputs": [],
   "source": [
    "HR5 = pd.DataFrame({'급여': [4500, 3000, 3500]})\n",
    "pd.concat([HR1, HR5], axis=1)"
   ]
  },
  {
   "cell_type": "code",
   "execution_count": null,
   "id": "d7492176",
   "metadata": {
    "colab": {
     "base_uri": "https://localhost:8080/",
     "height": 174
    },
    "executionInfo": {
     "elapsed": 82,
     "status": "ok",
     "timestamp": 1650720570751,
     "user": {
      "displayName": "양여진",
      "userId": "00702759979750743808"
     },
     "user_tz": -540
    },
    "id": "26a62af8",
    "outputId": "8796251e-86cc-4f0b-9f73-405b1d692e4c"
   },
   "outputs": [],
   "source": [
    "product = pd.DataFrame({'상품코드':['G1', 'G2', 'G3', 'G4'], \n",
    "                        '상품명':['우유', '감자', '빵', '치킨']})\n",
    "product"
   ]
  },
  {
   "cell_type": "code",
   "execution_count": null,
   "id": "5a3e6a70",
   "metadata": {
    "colab": {
     "base_uri": "https://localhost:8080/",
     "height": 206
    },
    "executionInfo": {
     "elapsed": 82,
     "status": "ok",
     "timestamp": 1650720570753,
     "user": {
      "displayName": "양여진",
      "userId": "00702759979750743808"
     },
     "user_tz": -540
    },
    "id": "b9712c1f",
    "outputId": "55bb45da-cd19-4253-e290-2bffa8044947"
   },
   "outputs": [],
   "source": [
    "sale = pd.DataFrame({'주문번호':[1001, 1002, 1002, 1003, 1004], \n",
    "                    '상품코드':['G4', 'G3', 'G1', 'G3', 'G5'], \n",
    "                    '주문수량':[1, 4, 2, 2, 3]})\n",
    "sale"
   ]
  },
  {
   "cell_type": "code",
   "execution_count": null,
   "id": "e6dd4b27",
   "metadata": {
    "colab": {
     "base_uri": "https://localhost:8080/",
     "height": 174
    },
    "executionInfo": {
     "elapsed": 82,
     "status": "ok",
     "timestamp": 1650720570756,
     "user": {
      "displayName": "양여진",
      "userId": "00702759979750743808"
     },
     "user_tz": -540
    },
    "id": "e8f52786",
    "outputId": "76af7739-74ca-4512-ff35-7f5de601ba83"
   },
   "outputs": [],
   "source": [
    "sale.merge(product, on = '상품코드', how='inner')"
   ]
  },
  {
   "cell_type": "code",
   "execution_count": null,
   "id": "ed47826a",
   "metadata": {
    "colab": {
     "base_uri": "https://localhost:8080/"
    },
    "executionInfo": {
     "elapsed": 79,
     "status": "ok",
     "timestamp": 1650720570757,
     "user": {
      "displayName": "양여진",
      "userId": "00702759979750743808"
     },
     "user_tz": -540
    },
    "id": "78ecd0e1",
    "outputId": "f96f9747-9be9-4ef6-ff4f-499b21d7558b"
   },
   "outputs": [],
   "source": [
    "sale.info()"
   ]
  },
  {
   "cell_type": "code",
   "execution_count": null,
   "id": "8bc6a18f",
   "metadata": {
    "colab": {
     "base_uri": "https://localhost:8080/",
     "height": 237
    },
    "executionInfo": {
     "elapsed": 74,
     "status": "ok",
     "timestamp": 1650720570758,
     "user": {
      "displayName": "양여진",
      "userId": "00702759979750743808"
     },
     "user_tz": -540
    },
    "id": "1ea7bee1",
    "outputId": "7171eaa2-81c1-4195-d5af-11cfdc071f4b"
   },
   "outputs": [],
   "source": [
    "sale.merge(product, on = '상품코드', how='outer', sort=True)"
   ]
  },
  {
   "cell_type": "code",
   "execution_count": null,
   "id": "44e99529",
   "metadata": {
    "colab": {
     "base_uri": "https://localhost:8080/",
     "height": 206
    },
    "executionInfo": {
     "elapsed": 74,
     "status": "ok",
     "timestamp": 1650720570760,
     "user": {
      "displayName": "양여진",
      "userId": "00702759979750743808"
     },
     "user_tz": -540
    },
    "id": "5d928b92",
    "outputId": "77ab2d44-fed6-4e66-83db-22b396dd4dcb"
   },
   "outputs": [],
   "source": [
    "sale.merge(product, left_on = '상품코드', right_on = '상품코드', how='left')"
   ]
  },
  {
   "cell_type": "code",
   "execution_count": null,
   "id": "125ada57",
   "metadata": {
    "executionInfo": {
     "elapsed": 73,
     "status": "ok",
     "timestamp": 1650720570761,
     "user": {
      "displayName": "양여진",
      "userId": "00702759979750743808"
     },
     "user_tz": -540
    },
    "id": "4e247bf1"
   },
   "outputs": [],
   "source": []
  }
 ],
 "metadata": {
  "colab": {
   "name": "Ch2-6.ipynb",
   "provenance": []
  },
  "kernelspec": {
   "display_name": "Python 3 (ipykernel)",
   "language": "python",
   "name": "python3"
  },
  "language_info": {
   "codemirror_mode": {
    "name": "ipython",
    "version": 3
   },
   "file_extension": ".py",
   "mimetype": "text/x-python",
   "name": "python",
   "nbconvert_exporter": "python",
   "pygments_lexer": "ipython3",
   "version": "3.7.16"
  }
 },
 "nbformat": 4,
 "nbformat_minor": 5
}
