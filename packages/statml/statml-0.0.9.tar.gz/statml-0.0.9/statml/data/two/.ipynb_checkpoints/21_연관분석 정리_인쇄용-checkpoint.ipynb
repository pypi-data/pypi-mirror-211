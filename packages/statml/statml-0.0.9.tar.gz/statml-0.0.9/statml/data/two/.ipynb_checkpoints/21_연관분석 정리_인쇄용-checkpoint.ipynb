{
 "cells": [
  {
   "cell_type": "markdown",
   "metadata": {},
   "source": [
    "# 0. 기본 라이브러리"
   ]
  },
  {
   "cell_type": "code",
   "execution_count": 2,
   "metadata": {
    "ExecuteTime": {
     "end_time": "2020-12-10T08:16:16.900449Z",
     "start_time": "2020-12-10T08:16:16.875485Z"
    }
   },
   "outputs": [],
   "source": [
    "# 기본 라이브러리 호출\n",
    "import warnings\n",
    "warnings.filterwarnings('ignore')\n",
    "warnings.warn(\"once\")\n",
    "import pandas as pd\n",
    "import numpy as np\n",
    "import scipy as sp\n",
    "import seaborn as sns\n",
    "import matplotlib.pyplot as plt\n",
    "%matplotlib inline\n",
    "from scipy import stats\n",
    "from scipy.stats import norm, skew\n",
    "# 선형모델을 추정하는 라이브러리\n",
    "import statsmodels.formula.api as smf\n",
    "import statsmodels.api as sm\n",
    "import statsmodels.stats.api as sms\n",
    "from patsy import dmatrices\n",
    "color = sns.color_palette()\n",
    "\n",
    "pd.set_option('display.float_format','{:,.2f}'.format) # 소수점 2번째 자리까지 표현\n",
    "pd.set_option('display.max_columns', None) # 모든 컬럼 표시\n",
    "pd.set_option('display.max_colwidth', None) # 컬럼내용 전체 표시\n",
    "\n",
    "#Graph에 한글을 표시하기 위한 코드\n",
    "import matplotlib\n",
    "from matplotlib import font_manager, rc\n",
    "import platform\n",
    "# font_name = font_manager.FontProperties(fname=\"c:/Windows/Fonts/malgun.ttf\").get_name()\n",
    "font_name = font_manager.FontProperties(fname=\"malgun.ttf\").get_name()\n",
    "rc('font', family=font_name)\\\n",
    "    \n",
    "matplotlib.rcParams['axes.unicode_minus'] = False"
   ]
  },
  {
   "cell_type": "markdown",
   "metadata": {},
   "source": [
    "# 1. 연관규칙 (사용 데이터 : lotto)"
   ]
  },
  {
   "cell_type": "markdown",
   "metadata": {},
   "source": [
    "## Q1) 연관규칙분석을 수행하기 위해 lotto 데이터셋을 transaction 데이터로 변환하시오. \n",
    "* 단, 본 분석에서 로또번호가 추첨된 순서는 고려하지 않고 분석을 수행하도록 한다. \n",
    "* 변환된 데이터에서 가장 많이 등장한 상위 10개의 로또번호를 막대그래프로 출력하고 이에 대해 설명하시오."
   ]
  },
  {
   "cell_type": "code",
   "execution_count": 24,
   "metadata": {
    "ExecuteTime": {
     "end_time": "2020-12-10T08:59:06.345131Z",
     "start_time": "2020-12-10T08:59:06.328177Z"
    }
   },
   "outputs": [
    {
     "name": "stdout",
     "output_type": "stream",
     "text": [
      "(859, 7)\n"
     ]
    },
    {
     "data": {
      "text/html": [
       "<div>\n",
       "<style scoped>\n",
       "    .dataframe tbody tr th:only-of-type {\n",
       "        vertical-align: middle;\n",
       "    }\n",
       "\n",
       "    .dataframe tbody tr th {\n",
       "        vertical-align: top;\n",
       "    }\n",
       "\n",
       "    .dataframe thead th {\n",
       "        text-align: right;\n",
       "    }\n",
       "</style>\n",
       "<table border=\"1\" class=\"dataframe\">\n",
       "  <thead>\n",
       "    <tr style=\"text-align: right;\">\n",
       "      <th></th>\n",
       "      <th>time_id</th>\n",
       "      <th>num1</th>\n",
       "      <th>num2</th>\n",
       "      <th>num3</th>\n",
       "      <th>num4</th>\n",
       "      <th>num5</th>\n",
       "      <th>num6</th>\n",
       "    </tr>\n",
       "  </thead>\n",
       "  <tbody>\n",
       "    <tr>\n",
       "      <th>0</th>\n",
       "      <td>859</td>\n",
       "      <td>8</td>\n",
       "      <td>22</td>\n",
       "      <td>35</td>\n",
       "      <td>38</td>\n",
       "      <td>39</td>\n",
       "      <td>41</td>\n",
       "    </tr>\n",
       "    <tr>\n",
       "      <th>1</th>\n",
       "      <td>858</td>\n",
       "      <td>9</td>\n",
       "      <td>13</td>\n",
       "      <td>32</td>\n",
       "      <td>38</td>\n",
       "      <td>39</td>\n",
       "      <td>43</td>\n",
       "    </tr>\n",
       "    <tr>\n",
       "      <th>2</th>\n",
       "      <td>857</td>\n",
       "      <td>6</td>\n",
       "      <td>10</td>\n",
       "      <td>16</td>\n",
       "      <td>28</td>\n",
       "      <td>34</td>\n",
       "      <td>38</td>\n",
       "    </tr>\n",
       "    <tr>\n",
       "      <th>3</th>\n",
       "      <td>856</td>\n",
       "      <td>10</td>\n",
       "      <td>24</td>\n",
       "      <td>40</td>\n",
       "      <td>41</td>\n",
       "      <td>43</td>\n",
       "      <td>44</td>\n",
       "    </tr>\n",
       "    <tr>\n",
       "      <th>4</th>\n",
       "      <td>855</td>\n",
       "      <td>8</td>\n",
       "      <td>15</td>\n",
       "      <td>17</td>\n",
       "      <td>19</td>\n",
       "      <td>43</td>\n",
       "      <td>44</td>\n",
       "    </tr>\n",
       "  </tbody>\n",
       "</table>\n",
       "</div>"
      ],
      "text/plain": [
       "   time_id  num1  num2  num3  num4  num5  num6\n",
       "0      859     8    22    35    38    39    41\n",
       "1      858     9    13    32    38    39    43\n",
       "2      857     6    10    16    28    34    38\n",
       "3      856    10    24    40    41    43    44\n",
       "4      855     8    15    17    19    43    44"
      ]
     },
     "execution_count": 24,
     "metadata": {},
     "output_type": "execute_result"
    }
   ],
   "source": [
    "df = pd.read_csv('./data/lotto.csv')\n",
    "print(df.shape)\n",
    "df.head()"
   ]
  },
  {
   "cell_type": "markdown",
   "metadata": {},
   "source": [
    "### 1) melt를 사용하는 방법"
   ]
  },
  {
   "cell_type": "code",
   "execution_count": 4,
   "metadata": {
    "ExecuteTime": {
     "end_time": "2020-12-10T08:18:42.331117Z",
     "start_time": "2020-12-10T08:18:42.323137Z"
    }
   },
   "outputs": [],
   "source": [
    "melt = pd.melt(df, id_vars = ['time_id']) # time_id 기준, 컬럼을 variable로하여 값을 분해함"
   ]
  },
  {
   "cell_type": "code",
   "execution_count": 25,
   "metadata": {
    "ExecuteTime": {
     "end_time": "2020-12-10T08:59:22.188498Z",
     "start_time": "2020-12-10T08:59:22.179514Z"
    }
   },
   "outputs": [],
   "source": [
    "# value(실제 나온 숫자)를 기준으로 그루핑하여 variable을 count 내림차순으로 정렬 후 상위 10개만 뽑아냄\n",
    "pivot = melt.groupby('value')[['variable']].count().sort_values(by = 'variable', ascending = False)[:10].reset_index()"
   ]
  },
  {
   "cell_type": "code",
   "execution_count": null,
   "metadata": {
    "ExecuteTime": {
     "end_time": "2020-12-10T08:59:22.719589Z",
     "start_time": "2020-12-10T08:59:22.416402Z"
    }
   },
   "outputs": [],
   "source": [
    "sns.barplot(x = 'value', y = 'variable', data = pivot, order = pivot['value'])my"
   ]
  },
  {
   "cell_type": "markdown",
   "metadata": {},
   "source": [
    "### 2) mlxtend를 사용하는 방법"
   ]
  },
  {
   "cell_type": "code",
   "execution_count": 46,
   "metadata": {
    "ExecuteTime": {
     "end_time": "2020-12-10T09:21:35.041950Z",
     "start_time": "2020-12-10T09:21:34.779615Z"
    }
   },
   "outputs": [
    {
     "data": {
      "text/plain": [
       "<AxesSubplot:xlabel='num', ylabel='freq'>"
      ]
     },
     "execution_count": 46,
     "metadata": {},
     "output_type": "execute_result"
    },
    {
     "data": {
      "image/png": "[encoded data removed]",
      "text/plain": [
       "<Figure size 432x288 with 1 Axes>"
      ]
     },
     "metadata": {
      "needs_background": "light"
     },
     "output_type": "display_data"
    }
   ],
   "source": [
    "from mlxtend.preprocessing import TransactionEncoder\n",
    "dataset = df[df.columns[1:]].values.tolist() # df의 num 컬럼들의 값을 list형태로 dataset에 저장\n",
    "te = TransactionEncoder()\n",
    "te_ary = te.fit(dataset).transform(dataset) # dataset을 np.array 형태로 변환 후 fitting\n",
    "te_df = pd.DataFrame(te_ary, columns = te.columns_) # te_ary를 dataframe 형태로 변환\n",
    "\n",
    "# top 10 시각화\n",
    "best10 = pd.DataFrame(columns = ['num', 'freq']) # 상위 10개 숫자를 저장하기 위한 dataframe 생성\n",
    "best10['num'] = te_df.sum(axis = 0).index # te_df의 세로 합을 구한 후 해당 번호를 num컬럼에 저장\n",
    "best10['freq'] = te_df.sum(axis = 0).values # te_df의 세로 합을 구한 후 합계를 freq컬럼에 저장\n",
    "best10 = best10.sort_values(by = 'freq', ascending = False).head(10).reset_index(drop = True) #freq를 기준으로 내림차순 정렬 후 상위 10개만 저장\n",
    "sns.barplot(data = best10, x = 'num', y = 'freq', order = best10['num'])"
   ]
  },
  {
   "cell_type": "markdown",
   "metadata": {},
   "source": [
    "## Q2) 변환한 데이터에 대해 apriori함수를 사용하여 다음 괄호 안의 조건을 반영하여 연관규칙을 생성하고, 이를 ‘rules_1’이라는 변수에 저장하여 결과를 해석하시오.\n",
    "* (최소 지지도 : 0.002, 최소 신뢰도 : 0.8, 최소조합 항목 수 : 2개, 최대조합 항목 수 : 6개)\n",
    "* 그리고 도출된 연관규칙들을 향상도를 기준으로 내림차순 정렬하여 상위 30개의 규칙을 확인하고, 이를 데이터프레임으로 변환하여 csv파일로 출력하시오."
   ]
  },
  {
   "cell_type": "markdown",
   "metadata": {},
   "source": [
    "### 최소 지지도, 최대 조합 항목 설정"
   ]
  },
  {
   "cell_type": "code",
   "execution_count": 47,
   "metadata": {
    "ExecuteTime": {
     "end_time": "2020-12-10T09:21:35.672292Z",
     "start_time": "2020-12-10T09:21:35.043947Z"
    }
   },
   "outputs": [],
   "source": [
    "# 파이썬 Apriori에서는 최소 신뢰도 및 조합항목 수 조절 불가\n",
    "from mlxtend.frequent_patterns import association_rules, apriori\n",
    "frequent_itemsets = apriori(te_df,\n",
    "                           min_support = 0.002, # 최소 지지도\n",
    "                           max_len = 6,\n",
    "                           use_colnames = True) # 컬럼명 사용"
   ]
  },
  {
   "cell_type": "markdown",
   "metadata": {},
   "source": [
    "### 최소 조합 항목 설정"
   ]
  },
  {
   "cell_type": "code",
   "execution_count": 48,
   "metadata": {
    "ExecuteTime": {
     "end_time": "2020-12-10T09:21:35.685256Z",
     "start_time": "2020-12-10T09:21:35.675283Z"
    },
    "scrolled": false
   },
   "outputs": [],
   "source": [
    "frequent_itemsets['length'] = frequent_itemsets['itemsets'].apply(lambda x: len(x)) # itemsets 컬럼내 값의 길이 계산"
   ]
  },
  {
   "cell_type": "code",
   "execution_count": 49,
   "metadata": {
    "ExecuteTime": {
     "end_time": "2020-12-10T09:21:35.717170Z",
     "start_time": "2020-12-10T09:21:35.694233Z"
    }
   },
   "outputs": [
    {
     "data": {
      "text/html": [
       "<div>\n",
       "<style scoped>\n",
       "    .dataframe tbody tr th:only-of-type {\n",
       "        vertical-align: middle;\n",
       "    }\n",
       "\n",
       "    .dataframe tbody tr th {\n",
       "        vertical-align: top;\n",
       "    }\n",
       "\n",
       "    .dataframe thead th {\n",
       "        text-align: right;\n",
       "    }\n",
       "</style>\n",
       "<table border=\"1\" class=\"dataframe\">\n",
       "  <thead>\n",
       "    <tr style=\"text-align: right;\">\n",
       "      <th></th>\n",
       "      <th>support</th>\n",
       "      <th>itemsets</th>\n",
       "      <th>length</th>\n",
       "    </tr>\n",
       "  </thead>\n",
       "  <tbody>\n",
       "    <tr>\n",
       "      <th>45</th>\n",
       "      <td>0.02</td>\n",
       "      <td>(1, 2)</td>\n",
       "      <td>2</td>\n",
       "    </tr>\n",
       "    <tr>\n",
       "      <th>46</th>\n",
       "      <td>0.02</td>\n",
       "      <td>(1, 3)</td>\n",
       "      <td>2</td>\n",
       "    </tr>\n",
       "    <tr>\n",
       "      <th>47</th>\n",
       "      <td>0.01</td>\n",
       "      <td>(1, 4)</td>\n",
       "      <td>2</td>\n",
       "    </tr>\n",
       "    <tr>\n",
       "      <th>48</th>\n",
       "      <td>0.02</td>\n",
       "      <td>(1, 5)</td>\n",
       "      <td>2</td>\n",
       "    </tr>\n",
       "    <tr>\n",
       "      <th>49</th>\n",
       "      <td>0.01</td>\n",
       "      <td>(1, 6)</td>\n",
       "      <td>2</td>\n",
       "    </tr>\n",
       "    <tr>\n",
       "      <th>...</th>\n",
       "      <td>...</td>\n",
       "      <td>...</td>\n",
       "      <td>...</td>\n",
       "    </tr>\n",
       "    <tr>\n",
       "      <th>6358</th>\n",
       "      <td>0.00</td>\n",
       "      <td>(40, 43, 13, 14, 26)</td>\n",
       "      <td>5</td>\n",
       "    </tr>\n",
       "    <tr>\n",
       "      <th>6359</th>\n",
       "      <td>0.00</td>\n",
       "      <td>(14, 15, 18, 21, 26)</td>\n",
       "      <td>5</td>\n",
       "    </tr>\n",
       "    <tr>\n",
       "      <th>6360</th>\n",
       "      <td>0.00</td>\n",
       "      <td>(40, 14, 27, 30, 31)</td>\n",
       "      <td>5</td>\n",
       "    </tr>\n",
       "    <tr>\n",
       "      <th>6361</th>\n",
       "      <td>0.00</td>\n",
       "      <td>(34, 44, 15, 19, 21)</td>\n",
       "      <td>5</td>\n",
       "    </tr>\n",
       "    <tr>\n",
       "      <th>6362</th>\n",
       "      <td>0.00</td>\n",
       "      <td>(36, 43, 16, 26, 31)</td>\n",
       "      <td>5</td>\n",
       "    </tr>\n",
       "  </tbody>\n",
       "</table>\n",
       "<p>6318 rows × 3 columns</p>\n",
       "</div>"
      ],
      "text/plain": [
       "      support              itemsets  length\n",
       "45       0.02                (1, 2)       2\n",
       "46       0.02                (1, 3)       2\n",
       "47       0.01                (1, 4)       2\n",
       "48       0.02                (1, 5)       2\n",
       "49       0.01                (1, 6)       2\n",
       "...       ...                   ...     ...\n",
       "6358     0.00  (40, 43, 13, 14, 26)       5\n",
       "6359     0.00  (14, 15, 18, 21, 26)       5\n",
       "6360     0.00  (40, 14, 27, 30, 31)       5\n",
       "6361     0.00  (34, 44, 15, 19, 21)       5\n",
       "6362     0.00  (36, 43, 16, 26, 31)       5\n",
       "\n",
       "[6318 rows x 3 columns]"
      ]
     },
     "execution_count": 49,
     "metadata": {},
     "output_type": "execute_result"
    }
   ],
   "source": [
    "# 최소 조합항목수가 2 이상 & 최소 지지도가 0.002 이상\n",
    "frequent_itemsets[(frequent_itemsets['length'] >= 2) & (frequent_itemsets['support'] >= 0.002)]\n",
    "# 지지도 : A,B가 동시에 일어난 횟수 / 전체 횟수"
   ]
  },
  {
   "cell_type": "markdown",
   "metadata": {},
   "source": [
    "### 규칙을 생성하며 최소 신뢰도 설정"
   ]
  },
  {
   "cell_type": "code",
   "execution_count": 50,
   "metadata": {
    "ExecuteTime": {
     "end_time": "2020-12-10T09:21:35.802940Z",
     "start_time": "2020-12-10T09:21:35.720174Z"
    }
   },
   "outputs": [],
   "source": [
    "rule_1 = association_rules(frequent_itemsets, metric=\"confidence\", # 조건절 {confidence : 신뢰도, lift : 향상도}\n",
    "                  min_threshold=0.8 # 최소값\n",
    "                 )\n",
    "# 신뢰도(confidence) : A,B가 동시에 일어난 횟수 / A가 일어난 횟수\n",
    "# 향상도(lift) : A가 주어지지 않았을 때의 B의 확률 대비 A가 주어졌을 때의 B의 확률\n",
    "# 향상도가 1보다 크거나(+관계) 작다면(-관계) 우연적 기회보다 우수함\n",
    "# 서로 독립이면 향상도는 1"
   ]
  },
  {
   "cell_type": "markdown",
   "metadata": {},
   "source": [
    "### 결과 해석"
   ]
  },
  {
   "cell_type": "code",
   "execution_count": 51,
   "metadata": {
    "ExecuteTime": {
     "end_time": "2020-12-10T09:21:35.811916Z",
     "start_time": "2020-12-10T09:21:35.804935Z"
    }
   },
   "outputs": [
    {
     "data": {
      "text/plain": [
       "(704, 9)"
      ]
     },
     "execution_count": 51,
     "metadata": {},
     "output_type": "execute_result"
    }
   ],
   "source": [
    "rule_1.shape \n",
    "\n",
    "### 704개의 규칙이 생성되었음"
   ]
  },
  {
   "cell_type": "code",
   "execution_count": 52,
   "metadata": {
    "ExecuteTime": {
     "end_time": "2020-12-10T09:21:35.826876Z",
     "start_time": "2020-12-10T09:21:35.815906Z"
    }
   },
   "outputs": [],
   "source": [
    "# 규칙의 조합항목 개수 컬럼 생성\n",
    "rule_1['antecedents_length'] = rule_1['antecedents'].apply(lambda x: len(x))\n",
    "rule_1['consequents_length'] = rule_1['consequents'].apply(lambda x: len(x))\n",
    "rule_1['total_length'] = rule_1['antecedents_length'] + rule_1['consequents_length']\n",
    "rule_1 = rule_1.sort_values(by = 'lift', ascending = False)"
   ]
  },
  {
   "cell_type": "code",
   "execution_count": 53,
   "metadata": {
    "ExecuteTime": {
     "end_time": "2020-12-10T09:21:35.840839Z",
     "start_time": "2020-12-10T09:21:35.831863Z"
    }
   },
   "outputs": [
    {
     "data": {
      "text/plain": [
       "3    657\n",
       "4     47\n",
       "Name: antecedents_length, dtype: int64"
      ]
     },
     "execution_count": 53,
     "metadata": {},
     "output_type": "execute_result"
    }
   ],
   "source": [
    "rule_1['antecedents_length'].value_counts()\n",
    "\n",
    "### 좌측항이 3개 항목으로 조합된 규칙은 657건, 4개 항목으로 조합된 규칙은 47건임."
   ]
  },
  {
   "cell_type": "code",
   "execution_count": 54,
   "metadata": {
    "ExecuteTime": {
     "end_time": "2020-12-10T09:21:35.851810Z",
     "start_time": "2020-12-10T09:21:35.843830Z"
    }
   },
   "outputs": [
    {
     "data": {
      "text/plain": [
       "1    679\n",
       "2     25\n",
       "Name: consequents_length, dtype: int64"
      ]
     },
     "execution_count": 54,
     "metadata": {},
     "output_type": "execute_result"
    }
   ],
   "source": [
    "rule_1['consequents_length'].value_counts()\n",
    "### 우측항이 1개 항목으로 조합된 규칙은 679건, 2개 항목으로 조합된 규칙은 25건임."
   ]
  },
  {
   "cell_type": "code",
   "execution_count": 55,
   "metadata": {
    "ExecuteTime": {
     "end_time": "2020-12-10T09:21:35.861785Z",
     "start_time": "2020-12-10T09:21:35.854802Z"
    }
   },
   "outputs": [
    {
     "data": {
      "text/plain": [
       "4    632\n",
       "5     72\n",
       "Name: total_length, dtype: int64"
      ]
     },
     "execution_count": 55,
     "metadata": {},
     "output_type": "execute_result"
    }
   ],
   "source": [
    "rule_1['total_length'].value_counts()\n",
    "### 전체 규칙 중 632개의 규칙은 4개 항목의 조합으로 이루어져 있으며, 72개의 규칙은 5개의 항목 조합으로 이루어져 있음"
   ]
  },
  {
   "cell_type": "code",
   "execution_count": 56,
   "metadata": {
    "ExecuteTime": {
     "end_time": "2020-12-10T09:21:35.920627Z",
     "start_time": "2020-12-10T09:21:35.863777Z"
    }
   },
   "outputs": [
    {
     "data": {
      "text/html": [
       "<div>\n",
       "<style scoped>\n",
       "    .dataframe tbody tr th:only-of-type {\n",
       "        vertical-align: middle;\n",
       "    }\n",
       "\n",
       "    .dataframe tbody tr th {\n",
       "        vertical-align: top;\n",
       "    }\n",
       "\n",
       "    .dataframe thead th {\n",
       "        text-align: right;\n",
       "    }\n",
       "</style>\n",
       "<table border=\"1\" class=\"dataframe\">\n",
       "  <thead>\n",
       "    <tr style=\"text-align: right;\">\n",
       "      <th></th>\n",
       "      <th>antecedents</th>\n",
       "      <th>consequents</th>\n",
       "      <th>antecedent support</th>\n",
       "      <th>consequent support</th>\n",
       "      <th>support</th>\n",
       "      <th>confidence</th>\n",
       "      <th>lift</th>\n",
       "      <th>leverage</th>\n",
       "      <th>conviction</th>\n",
       "      <th>antecedents_length</th>\n",
       "      <th>consequents_length</th>\n",
       "      <th>total_length</th>\n",
       "    </tr>\n",
       "  </thead>\n",
       "  <tbody>\n",
       "    <tr>\n",
       "      <th>count</th>\n",
       "      <td>704</td>\n",
       "      <td>704</td>\n",
       "      <td>704.00</td>\n",
       "      <td>704.00</td>\n",
       "      <td>704.00</td>\n",
       "      <td>704.00</td>\n",
       "      <td>704.00</td>\n",
       "      <td>704.00</td>\n",
       "      <td>704.00</td>\n",
       "      <td>704.00</td>\n",
       "      <td>704.00</td>\n",
       "      <td>704.00</td>\n",
       "    </tr>\n",
       "    <tr>\n",
       "      <th>unique</th>\n",
       "      <td>654</td>\n",
       "      <td>70</td>\n",
       "      <td>nan</td>\n",
       "      <td>nan</td>\n",
       "      <td>nan</td>\n",
       "      <td>nan</td>\n",
       "      <td>nan</td>\n",
       "      <td>nan</td>\n",
       "      <td>nan</td>\n",
       "      <td>nan</td>\n",
       "      <td>nan</td>\n",
       "      <td>nan</td>\n",
       "    </tr>\n",
       "    <tr>\n",
       "      <th>top</th>\n",
       "      <td>(26, 21, 14)</td>\n",
       "      <td>(43)</td>\n",
       "      <td>nan</td>\n",
       "      <td>nan</td>\n",
       "      <td>nan</td>\n",
       "      <td>nan</td>\n",
       "      <td>nan</td>\n",
       "      <td>nan</td>\n",
       "      <td>nan</td>\n",
       "      <td>nan</td>\n",
       "      <td>nan</td>\n",
       "      <td>nan</td>\n",
       "    </tr>\n",
       "    <tr>\n",
       "      <th>freq</th>\n",
       "      <td>3</td>\n",
       "      <td>28</td>\n",
       "      <td>nan</td>\n",
       "      <td>nan</td>\n",
       "      <td>nan</td>\n",
       "      <td>nan</td>\n",
       "      <td>nan</td>\n",
       "      <td>nan</td>\n",
       "      <td>nan</td>\n",
       "      <td>nan</td>\n",
       "      <td>nan</td>\n",
       "      <td>nan</td>\n",
       "    </tr>\n",
       "    <tr>\n",
       "      <th>mean</th>\n",
       "      <td>NaN</td>\n",
       "      <td>NaN</td>\n",
       "      <td>0.00</td>\n",
       "      <td>0.13</td>\n",
       "      <td>0.00</td>\n",
       "      <td>1.00</td>\n",
       "      <td>9.30</td>\n",
       "      <td>0.00</td>\n",
       "      <td>inf</td>\n",
       "      <td>3.07</td>\n",
       "      <td>1.04</td>\n",
       "      <td>4.10</td>\n",
       "    </tr>\n",
       "    <tr>\n",
       "      <th>std</th>\n",
       "      <td>NaN</td>\n",
       "      <td>NaN</td>\n",
       "      <td>0.00</td>\n",
       "      <td>0.02</td>\n",
       "      <td>0.00</td>\n",
       "      <td>0.00</td>\n",
       "      <td>9.99</td>\n",
       "      <td>0.00</td>\n",
       "      <td>nan</td>\n",
       "      <td>0.25</td>\n",
       "      <td>0.19</td>\n",
       "      <td>0.30</td>\n",
       "    </tr>\n",
       "    <tr>\n",
       "      <th>min</th>\n",
       "      <td>NaN</td>\n",
       "      <td>NaN</td>\n",
       "      <td>0.00</td>\n",
       "      <td>0.01</td>\n",
       "      <td>0.00</td>\n",
       "      <td>1.00</td>\n",
       "      <td>6.41</td>\n",
       "      <td>0.00</td>\n",
       "      <td>inf</td>\n",
       "      <td>3.00</td>\n",
       "      <td>1.00</td>\n",
       "      <td>4.00</td>\n",
       "    </tr>\n",
       "    <tr>\n",
       "      <th>25%</th>\n",
       "      <td>NaN</td>\n",
       "      <td>NaN</td>\n",
       "      <td>0.00</td>\n",
       "      <td>0.13</td>\n",
       "      <td>0.00</td>\n",
       "      <td>1.00</td>\n",
       "      <td>7.04</td>\n",
       "      <td>0.00</td>\n",
       "      <td>inf</td>\n",
       "      <td>3.00</td>\n",
       "      <td>1.00</td>\n",
       "      <td>4.00</td>\n",
       "    </tr>\n",
       "    <tr>\n",
       "      <th>50%</th>\n",
       "      <td>NaN</td>\n",
       "      <td>NaN</td>\n",
       "      <td>0.00</td>\n",
       "      <td>0.14</td>\n",
       "      <td>0.00</td>\n",
       "      <td>1.00</td>\n",
       "      <td>7.34</td>\n",
       "      <td>0.00</td>\n",
       "      <td>inf</td>\n",
       "      <td>3.00</td>\n",
       "      <td>1.00</td>\n",
       "      <td>4.00</td>\n",
       "    </tr>\n",
       "    <tr>\n",
       "      <th>75%</th>\n",
       "      <td>NaN</td>\n",
       "      <td>NaN</td>\n",
       "      <td>0.00</td>\n",
       "      <td>0.14</td>\n",
       "      <td>0.00</td>\n",
       "      <td>1.00</td>\n",
       "      <td>7.74</td>\n",
       "      <td>0.00</td>\n",
       "      <td>inf</td>\n",
       "      <td>3.00</td>\n",
       "      <td>1.00</td>\n",
       "      <td>4.00</td>\n",
       "    </tr>\n",
       "    <tr>\n",
       "      <th>max</th>\n",
       "      <td>NaN</td>\n",
       "      <td>NaN</td>\n",
       "      <td>0.00</td>\n",
       "      <td>0.16</td>\n",
       "      <td>0.00</td>\n",
       "      <td>1.00</td>\n",
       "      <td>78.09</td>\n",
       "      <td>0.00</td>\n",
       "      <td>inf</td>\n",
       "      <td>4.00</td>\n",
       "      <td>2.00</td>\n",
       "      <td>5.00</td>\n",
       "    </tr>\n",
       "  </tbody>\n",
       "</table>\n",
       "</div>"
      ],
      "text/plain": [
       "         antecedents consequents  antecedent support  consequent support  \\\n",
       "count            704         704              704.00              704.00   \n",
       "unique           654          70                 nan                 nan   \n",
       "top     (26, 21, 14)        (43)                 nan                 nan   \n",
       "freq               3          28                 nan                 nan   \n",
       "mean             NaN         NaN                0.00                0.13   \n",
       "std              NaN         NaN                0.00                0.02   \n",
       "min              NaN         NaN                0.00                0.01   \n",
       "25%              NaN         NaN                0.00                0.13   \n",
       "50%              NaN         NaN                0.00                0.14   \n",
       "75%              NaN         NaN                0.00                0.14   \n",
       "max              NaN         NaN                0.00                0.16   \n",
       "\n",
       "        support  confidence   lift  leverage  conviction  antecedents_length  \\\n",
       "count    704.00      704.00 704.00    704.00      704.00              704.00   \n",
       "unique      nan         nan    nan       nan         nan                 nan   \n",
       "top         nan         nan    nan       nan         nan                 nan   \n",
       "freq        nan         nan    nan       nan         nan                 nan   \n",
       "mean       0.00        1.00   9.30      0.00         inf                3.07   \n",
       "std        0.00        0.00   9.99      0.00         nan                0.25   \n",
       "min        0.00        1.00   6.41      0.00         inf                3.00   \n",
       "25%        0.00        1.00   7.04      0.00         inf                3.00   \n",
       "50%        0.00        1.00   7.34      0.00         inf                3.00   \n",
       "75%        0.00        1.00   7.74      0.00         inf                3.00   \n",
       "max        0.00        1.00  78.09      0.00         inf                4.00   \n",
       "\n",
       "        consequents_length  total_length  \n",
       "count               704.00        704.00  \n",
       "unique                 nan           nan  \n",
       "top                    nan           nan  \n",
       "freq                   nan           nan  \n",
       "mean                  1.04          4.10  \n",
       "std                   0.19          0.30  \n",
       "min                   1.00          4.00  \n",
       "25%                   1.00          4.00  \n",
       "50%                   1.00          4.00  \n",
       "75%                   1.00          4.00  \n",
       "max                   2.00          5.00  "
      ]
     },
     "execution_count": 56,
     "metadata": {},
     "output_type": "execute_result"
    }
   ],
   "source": [
    "a = rule_1.describe(include = 'all')\n",
    "a "
   ]
  },
  {
   "cell_type": "code",
   "execution_count": 58,
   "metadata": {
    "ExecuteTime": {
     "end_time": "2020-12-10T09:22:24.265174Z",
     "start_time": "2020-12-10T09:22:24.259197Z"
    }
   },
   "outputs": [
    {
     "name": "stdout",
     "output_type": "stream",
     "text": [
      "6.41044776119403\n",
      "0.002363014604720083\n"
     ]
    }
   ],
   "source": [
    "print(a.loc['min','lift'])  ### 규칙들에 대한 향상도의 최소값은 6.41로 꽤 높게 나타났음\n",
    "print(a.loc['mean','support']) ### 항목들의 교집합 확률을 의미하는 지지도의 평균은 0.002363으로 나타났다."
   ]
  },
  {
   "cell_type": "markdown",
   "metadata": {},
   "source": [
    "### 특정 항목에 대한 연관성규칙 결과 확인"
   ]
  },
  {
   "cell_type": "code",
   "execution_count": 59,
   "metadata": {
    "ExecuteTime": {
     "end_time": "2020-12-10T09:24:43.744966Z",
     "start_time": "2020-12-10T09:24:43.712089Z"
    }
   },
   "outputs": [
    {
     "data": {
      "text/html": [
       "<div>\n",
       "<style scoped>\n",
       "    .dataframe tbody tr th:only-of-type {\n",
       "        vertical-align: middle;\n",
       "    }\n",
       "\n",
       "    .dataframe tbody tr th {\n",
       "        vertical-align: top;\n",
       "    }\n",
       "\n",
       "    .dataframe thead th {\n",
       "        text-align: right;\n",
       "    }\n",
       "</style>\n",
       "<table border=\"1\" class=\"dataframe\">\n",
       "  <thead>\n",
       "    <tr style=\"text-align: right;\">\n",
       "      <th></th>\n",
       "      <th>antecedents</th>\n",
       "      <th>consequents</th>\n",
       "      <th>antecedent support</th>\n",
       "      <th>consequent support</th>\n",
       "      <th>support</th>\n",
       "      <th>confidence</th>\n",
       "      <th>lift</th>\n",
       "      <th>leverage</th>\n",
       "      <th>conviction</th>\n",
       "      <th>antecedents_length</th>\n",
       "      <th>consequents_length</th>\n",
       "      <th>total_length</th>\n",
       "    </tr>\n",
       "  </thead>\n",
       "  <tbody>\n",
       "    <tr>\n",
       "      <th>542</th>\n",
       "      <td>(17, 42, 45)</td>\n",
       "      <td>(34)</td>\n",
       "      <td>0.00</td>\n",
       "      <td>0.16</td>\n",
       "      <td>0.00</td>\n",
       "      <td>1.00</td>\n",
       "      <td>6.41</td>\n",
       "      <td>0.00</td>\n",
       "      <td>inf</td>\n",
       "      <td>3</td>\n",
       "      <td>1</td>\n",
       "      <td>4</td>\n",
       "    </tr>\n",
       "    <tr>\n",
       "      <th>693</th>\n",
       "      <td>(19, 44, 21, 15)</td>\n",
       "      <td>(34)</td>\n",
       "      <td>0.00</td>\n",
       "      <td>0.16</td>\n",
       "      <td>0.00</td>\n",
       "      <td>1.00</td>\n",
       "      <td>6.41</td>\n",
       "      <td>0.00</td>\n",
       "      <td>inf</td>\n",
       "      <td>4</td>\n",
       "      <td>1</td>\n",
       "      <td>5</td>\n",
       "    </tr>\n",
       "    <tr>\n",
       "      <th>50</th>\n",
       "      <td>(2, 4, 31)</td>\n",
       "      <td>(34)</td>\n",
       "      <td>0.00</td>\n",
       "      <td>0.16</td>\n",
       "      <td>0.00</td>\n",
       "      <td>1.00</td>\n",
       "      <td>6.41</td>\n",
       "      <td>0.00</td>\n",
       "      <td>inf</td>\n",
       "      <td>3</td>\n",
       "      <td>1</td>\n",
       "      <td>4</td>\n",
       "    </tr>\n",
       "    <tr>\n",
       "      <th>471</th>\n",
       "      <td>(25, 44, 14)</td>\n",
       "      <td>(34)</td>\n",
       "      <td>0.00</td>\n",
       "      <td>0.16</td>\n",
       "      <td>0.00</td>\n",
       "      <td>1.00</td>\n",
       "      <td>6.41</td>\n",
       "      <td>0.00</td>\n",
       "      <td>inf</td>\n",
       "      <td>3</td>\n",
       "      <td>1</td>\n",
       "      <td>4</td>\n",
       "    </tr>\n",
       "    <tr>\n",
       "      <th>486</th>\n",
       "      <td>(41, 19, 15)</td>\n",
       "      <td>(34)</td>\n",
       "      <td>0.00</td>\n",
       "      <td>0.16</td>\n",
       "      <td>0.00</td>\n",
       "      <td>1.00</td>\n",
       "      <td>6.41</td>\n",
       "      <td>0.00</td>\n",
       "      <td>inf</td>\n",
       "      <td>3</td>\n",
       "      <td>1</td>\n",
       "      <td>4</td>\n",
       "    </tr>\n",
       "    <tr>\n",
       "      <th>579</th>\n",
       "      <td>(24, 22, 31)</td>\n",
       "      <td>(34)</td>\n",
       "      <td>0.00</td>\n",
       "      <td>0.16</td>\n",
       "      <td>0.00</td>\n",
       "      <td>1.00</td>\n",
       "      <td>6.41</td>\n",
       "      <td>0.00</td>\n",
       "      <td>inf</td>\n",
       "      <td>3</td>\n",
       "      <td>1</td>\n",
       "      <td>4</td>\n",
       "    </tr>\n",
       "    <tr>\n",
       "      <th>8</th>\n",
       "      <td>(1, 5, 13)</td>\n",
       "      <td>(34)</td>\n",
       "      <td>0.00</td>\n",
       "      <td>0.16</td>\n",
       "      <td>0.00</td>\n",
       "      <td>1.00</td>\n",
       "      <td>6.41</td>\n",
       "      <td>0.00</td>\n",
       "      <td>inf</td>\n",
       "      <td>3</td>\n",
       "      <td>1</td>\n",
       "      <td>4</td>\n",
       "    </tr>\n",
       "    <tr>\n",
       "      <th>68</th>\n",
       "      <td>(2, 21, 15)</td>\n",
       "      <td>(34)</td>\n",
       "      <td>0.00</td>\n",
       "      <td>0.16</td>\n",
       "      <td>0.00</td>\n",
       "      <td>1.00</td>\n",
       "      <td>6.41</td>\n",
       "      <td>0.00</td>\n",
       "      <td>inf</td>\n",
       "      <td>3</td>\n",
       "      <td>1</td>\n",
       "      <td>4</td>\n",
       "    </tr>\n",
       "    <tr>\n",
       "      <th>72</th>\n",
       "      <td>(2, 28, 15)</td>\n",
       "      <td>(34)</td>\n",
       "      <td>0.00</td>\n",
       "      <td>0.16</td>\n",
       "      <td>0.00</td>\n",
       "      <td>1.00</td>\n",
       "      <td>6.41</td>\n",
       "      <td>0.00</td>\n",
       "      <td>inf</td>\n",
       "      <td>3</td>\n",
       "      <td>1</td>\n",
       "      <td>4</td>\n",
       "    </tr>\n",
       "    <tr>\n",
       "      <th>539</th>\n",
       "      <td>(32, 17, 33)</td>\n",
       "      <td>(34)</td>\n",
       "      <td>0.00</td>\n",
       "      <td>0.16</td>\n",
       "      <td>0.00</td>\n",
       "      <td>1.00</td>\n",
       "      <td>6.41</td>\n",
       "      <td>0.00</td>\n",
       "      <td>inf</td>\n",
       "      <td>3</td>\n",
       "      <td>1</td>\n",
       "      <td>4</td>\n",
       "    </tr>\n",
       "    <tr>\n",
       "      <th>561</th>\n",
       "      <td>(19, 44, 21)</td>\n",
       "      <td>(34)</td>\n",
       "      <td>0.00</td>\n",
       "      <td>0.16</td>\n",
       "      <td>0.00</td>\n",
       "      <td>1.00</td>\n",
       "      <td>6.41</td>\n",
       "      <td>0.00</td>\n",
       "      <td>inf</td>\n",
       "      <td>3</td>\n",
       "      <td>1</td>\n",
       "      <td>4</td>\n",
       "    </tr>\n",
       "    <tr>\n",
       "      <th>419</th>\n",
       "      <td>(12, 37, 36)</td>\n",
       "      <td>(34)</td>\n",
       "      <td>0.00</td>\n",
       "      <td>0.16</td>\n",
       "      <td>0.00</td>\n",
       "      <td>1.00</td>\n",
       "      <td>6.41</td>\n",
       "      <td>0.00</td>\n",
       "      <td>inf</td>\n",
       "      <td>3</td>\n",
       "      <td>1</td>\n",
       "      <td>4</td>\n",
       "    </tr>\n",
       "    <tr>\n",
       "      <th>641</th>\n",
       "      <td>(24, 31, 22, 7)</td>\n",
       "      <td>(34)</td>\n",
       "      <td>0.00</td>\n",
       "      <td>0.16</td>\n",
       "      <td>0.00</td>\n",
       "      <td>1.00</td>\n",
       "      <td>6.41</td>\n",
       "      <td>0.00</td>\n",
       "      <td>inf</td>\n",
       "      <td>4</td>\n",
       "      <td>1</td>\n",
       "      <td>5</td>\n",
       "    </tr>\n",
       "    <tr>\n",
       "      <th>203</th>\n",
       "      <td>(17, 5, 29)</td>\n",
       "      <td>(34)</td>\n",
       "      <td>0.00</td>\n",
       "      <td>0.16</td>\n",
       "      <td>0.00</td>\n",
       "      <td>1.00</td>\n",
       "      <td>6.41</td>\n",
       "      <td>0.00</td>\n",
       "      <td>inf</td>\n",
       "      <td>3</td>\n",
       "      <td>1</td>\n",
       "      <td>4</td>\n",
       "    </tr>\n",
       "    <tr>\n",
       "      <th>651</th>\n",
       "      <td>(10, 36, 44, 22)</td>\n",
       "      <td>(34)</td>\n",
       "      <td>0.00</td>\n",
       "      <td>0.16</td>\n",
       "      <td>0.00</td>\n",
       "      <td>1.00</td>\n",
       "      <td>6.41</td>\n",
       "      <td>0.00</td>\n",
       "      <td>inf</td>\n",
       "      <td>4</td>\n",
       "      <td>1</td>\n",
       "      <td>5</td>\n",
       "    </tr>\n",
       "    <tr>\n",
       "      <th>282</th>\n",
       "      <td>(24, 31, 7)</td>\n",
       "      <td>(34)</td>\n",
       "      <td>0.00</td>\n",
       "      <td>0.16</td>\n",
       "      <td>0.00</td>\n",
       "      <td>1.00</td>\n",
       "      <td>6.41</td>\n",
       "      <td>0.00</td>\n",
       "      <td>inf</td>\n",
       "      <td>3</td>\n",
       "      <td>1</td>\n",
       "      <td>4</td>\n",
       "    </tr>\n",
       "    <tr>\n",
       "      <th>192</th>\n",
       "      <td>(5, 29, 13)</td>\n",
       "      <td>(34)</td>\n",
       "      <td>0.00</td>\n",
       "      <td>0.16</td>\n",
       "      <td>0.00</td>\n",
       "      <td>1.00</td>\n",
       "      <td>6.41</td>\n",
       "      <td>0.00</td>\n",
       "      <td>inf</td>\n",
       "      <td>3</td>\n",
       "      <td>1</td>\n",
       "      <td>4</td>\n",
       "    </tr>\n",
       "    <tr>\n",
       "      <th>603</th>\n",
       "      <td>(42, 45, 23)</td>\n",
       "      <td>(34)</td>\n",
       "      <td>0.00</td>\n",
       "      <td>0.16</td>\n",
       "      <td>0.00</td>\n",
       "      <td>1.00</td>\n",
       "      <td>6.41</td>\n",
       "      <td>0.00</td>\n",
       "      <td>inf</td>\n",
       "      <td>3</td>\n",
       "      <td>1</td>\n",
       "      <td>4</td>\n",
       "    </tr>\n",
       "    <tr>\n",
       "      <th>281</th>\n",
       "      <td>(7, 22, 31)</td>\n",
       "      <td>(34)</td>\n",
       "      <td>0.00</td>\n",
       "      <td>0.16</td>\n",
       "      <td>0.00</td>\n",
       "      <td>1.00</td>\n",
       "      <td>6.41</td>\n",
       "      <td>0.00</td>\n",
       "      <td>inf</td>\n",
       "      <td>3</td>\n",
       "      <td>1</td>\n",
       "      <td>4</td>\n",
       "    </tr>\n",
       "  </tbody>\n",
       "</table>\n",
       "</div>"
      ],
      "text/plain": [
       "          antecedents consequents  antecedent support  consequent support  \\\n",
       "542      (17, 42, 45)        (34)                0.00                0.16   \n",
       "693  (19, 44, 21, 15)        (34)                0.00                0.16   \n",
       "50         (2, 4, 31)        (34)                0.00                0.16   \n",
       "471      (25, 44, 14)        (34)                0.00                0.16   \n",
       "486      (41, 19, 15)        (34)                0.00                0.16   \n",
       "579      (24, 22, 31)        (34)                0.00                0.16   \n",
       "8          (1, 5, 13)        (34)                0.00                0.16   \n",
       "68        (2, 21, 15)        (34)                0.00                0.16   \n",
       "72        (2, 28, 15)        (34)                0.00                0.16   \n",
       "539      (32, 17, 33)        (34)                0.00                0.16   \n",
       "561      (19, 44, 21)        (34)                0.00                0.16   \n",
       "419      (12, 37, 36)        (34)                0.00                0.16   \n",
       "641   (24, 31, 22, 7)        (34)                0.00                0.16   \n",
       "203       (17, 5, 29)        (34)                0.00                0.16   \n",
       "651  (10, 36, 44, 22)        (34)                0.00                0.16   \n",
       "282       (24, 31, 7)        (34)                0.00                0.16   \n",
       "192       (5, 29, 13)        (34)                0.00                0.16   \n",
       "603      (42, 45, 23)        (34)                0.00                0.16   \n",
       "281       (7, 22, 31)        (34)                0.00                0.16   \n",
       "\n",
       "     support  confidence  lift  leverage  conviction  antecedents_length  \\\n",
       "542     0.00        1.00  6.41      0.00         inf                   3   \n",
       "693     0.00        1.00  6.41      0.00         inf                   4   \n",
       "50      0.00        1.00  6.41      0.00         inf                   3   \n",
       "471     0.00        1.00  6.41      0.00         inf                   3   \n",
       "486     0.00        1.00  6.41      0.00         inf                   3   \n",
       "579     0.00        1.00  6.41      0.00         inf                   3   \n",
       "8       0.00        1.00  6.41      0.00         inf                   3   \n",
       "68      0.00        1.00  6.41      0.00         inf                   3   \n",
       "72      0.00        1.00  6.41      0.00         inf                   3   \n",
       "539     0.00        1.00  6.41      0.00         inf                   3   \n",
       "561     0.00        1.00  6.41      0.00         inf                   3   \n",
       "419     0.00        1.00  6.41      0.00         inf                   3   \n",
       "641     0.00        1.00  6.41      0.00         inf                   4   \n",
       "203     0.00        1.00  6.41      0.00         inf                   3   \n",
       "651     0.00        1.00  6.41      0.00         inf                   4   \n",
       "282     0.00        1.00  6.41      0.00         inf                   3   \n",
       "192     0.00        1.00  6.41      0.00         inf                   3   \n",
       "603     0.00        1.00  6.41      0.00         inf                   3   \n",
       "281     0.00        1.00  6.41      0.00         inf                   3   \n",
       "\n",
       "     consequents_length  total_length  \n",
       "542                   1             4  \n",
       "693                   1             5  \n",
       "50                    1             4  \n",
       "471                   1             4  \n",
       "486                   1             4  \n",
       "579                   1             4  \n",
       "8                     1             4  \n",
       "68                    1             4  \n",
       "72                    1             4  \n",
       "539                   1             4  \n",
       "561                   1             4  \n",
       "419                   1             4  \n",
       "641                   1             5  \n",
       "203                   1             4  \n",
       "651                   1             5  \n",
       "282                   1             4  \n",
       "192                   1             4  \n",
       "603                   1             4  \n",
       "281                   1             4  "
      ]
     },
     "execution_count": 59,
     "metadata": {},
     "output_type": "execute_result"
    }
   ],
   "source": [
    "rule_1[rule_1['consequents'] == frozenset([34])]"
   ]
  },
  {
   "cell_type": "code",
   "execution_count": 60,
   "metadata": {
    "ExecuteTime": {
     "end_time": "2020-12-10T09:24:54.186632Z",
     "start_time": "2020-12-10T09:24:54.177655Z"
    }
   },
   "outputs": [
    {
     "data": {
      "text/plain": [
       "542   0.23\n",
       "693   0.23\n",
       "50    0.35\n",
       "471   0.23\n",
       "486   0.23\n",
       "579   0.23\n",
       "8     0.23\n",
       "68    0.23\n",
       "72    0.23\n",
       "539   0.35\n",
       "561   0.23\n",
       "419   0.23\n",
       "641   0.23\n",
       "203   0.23\n",
       "651   0.23\n",
       "282   0.23\n",
       "192   0.23\n",
       "603   0.23\n",
       "281   0.23\n",
       "Name: support, dtype: float64"
      ]
     },
     "execution_count": 60,
     "metadata": {},
     "output_type": "execute_result"
    }
   ],
   "source": [
    "rule_1[rule_1['consequents'] == frozenset([34])]['support'] * 100"
   ]
  },
  {
   "cell_type": "markdown",
   "metadata": {},
   "source": [
    "* 총 19개의 규칙이 도출되었으며 (1,5,13)번과 (34)번이 함께 추첨될 확률은 지지도(support) 확인 결과 0.23%이다. 이 규칙의 향상도(lift)는 6.41로 (34)만 추첨되었을 때보다 (1,5,13)번이 뽑히고 (34)번이 뽑힐 확률이 약 6.41배 높다는 걸 의미한다."
   ]
  },
  {
   "cell_type": "markdown",
   "metadata": {},
   "source": [
    "## 연관분석 추가 코드"
   ]
  },
  {
   "cell_type": "code",
   "execution_count": 13,
   "metadata": {},
   "outputs": [],
   "source": [
    "# Association 을 위한 전처리\n",
    "import pandas as pd\n",
    "from mlxtend.frequent_patterns import apriori\n",
    "\n",
    "# 데이터 프레임 물건 리스트 변환\n",
    "df = pd.DataFrame([[1, 'banana'],[2, 'banana'],[2, 'apple'],[3, 'banana']], columns=['a','b'])\n",
    "def toList(x):\n",
    "  return list(set(x))\n",
    "df1 = df.groupby('a').b.apply(lambda x: toList(x)).reset_index()\n",
    "# 2개 이상만 추출\n",
    "df1['leng'] = df1.b.apply(lambda x: len(x) >= 2)\n",
    "\n",
    "# 원하는 연관분석 형태로 변환\n",
    "dataset = list(df1.b)\n",
    "\n",
    "# 조금더 확실하게 볼수 있는 더 많은 데이터셋으로 전환\n",
    "dataset = [['Milk', 'Onion', 'Nutmeg', 'Kidney Beans', 'Eggs', 'Yogurt'],\n",
    "           ['Dill', 'Onion', 'Nutmeg', 'Kidney Beans', 'Eggs', 'Yogurt'],\n",
    "           ['Milk', 'Apple', 'Kidney Beans', 'Eggs'],\n",
    "           ['Milk', 'Unicorn', 'Corn', 'Kidney Beans', 'Yogurt'],\n",
    "           ['Corn', 'Onion', 'Onion', 'Kidney Beans', 'Ice cream', 'Eggs']]\n",
    "\n",
    "# 원하는 변수들을 인덱스/컬럼 으로 재정렬\n",
    "# 각 제품의 포함 여부를 one-hot encoding하여 array 로 변환 \n",
    "from mlxtend.preprocessing import TransactionEncoder\n",
    "te = TransactionEncoder()\n",
    "te_ary = te.fit(dataset).transform(dataset)\n",
    "\n",
    "# 변환된 array를 dataframe으로 변환 후 확인\n",
    "df = pd.DataFrame(te_ary, columns=te.columns_)\n",
    "\n",
    "# 컬럼 이름\n",
    "print(te.columns_)\n",
    "\n",
    "# 혹시 1 또는 0으로 변경하고 싶다면\n",
    "pd.DataFrame(te_ary.astype('int'), columns=te.columns_)\n",
    "\n",
    "# 원래 이중 리스트로 변환\n",
    "te.inverse_transform(te_ary)\n",
    "\n",
    "# 연관규칙 분석을 위한 apriori 알고리즘 사용\n",
    "from mlxtend.frequent_patterns import apriori\n",
    "\n",
    "# 지지도 도출 -> 수가 많을 수 있으므로 min_support 로 일정 이상의 지지도만 도출 (default=0.5)\n",
    "frequent_itemsets = apriori(df, min_support=0.5, use_colnames=True)\n",
    "\n",
    "# 특정 개수 이상의 itemset만 추출\n",
    "frequent_itemsets['length'] = frequent_itemsets['itemsets'].apply(lambda x: len(x))\n",
    "frequent_itemsets[frequent_itemsets['length'] >=2]\n",
    "\n",
    "# 특정 아이템(Eggs) 이 포함된 것만 추출\n",
    "frequent_itemsets[frequent_itemsets['itemsets'].apply(lambda x: 'Eggs' in list(x))]\n",
    "\n",
    "# 연관 규칙 도출\n",
    "from mlxtend.frequent_patterns import association_rules\n",
    "\n",
    "# 최소 신뢰도 0.7이상인것만 추출\n",
    "association_rules(frequent_itemsets, metric=\"confidence\", min_threshold=0.7)\n",
    "\n",
    "# 최소 향상도 0.7이상인것만 추출\n",
    "association_rules(frequent_itemsets, metric=\"lift\", min_threshold=0.7)\n",
    "\n",
    "# antecedents 1개인거만 추출\n",
    "rules[rules.apply(lambda x: True if len(x.antecedents) else false, axis=1)]\n",
    "\n",
    "# lift 제일 큰것찾기 = 상호 정보량이 가장 큰것 찾기(lift max)\n",
    "df[df.antecedents == frozenset({'Eggs'})].sort_values(by='lift', ascending=False)\n",
    "\n",
    "# antecedents가 Eggs 이고, consequents 가 하나일때 lift 젤 작은것 찾기 = 가장 멀리있어도 되는 물품\n",
    "rules[(rules.antecedents == frozenset({'Eggs'})) & (rules.consequents.apply(lambda x: len(x) ==1))].sort_values(by='lift')\n",
    "\n",
    "# antecedents에 특정 단어 'Eggs' 있는거 찾기\n",
    "rules[rules.antecedents.apply(lambda x: 'Eggs' in x)]\n",
    "\n",
    "# 특정 antecedents 만 찾기\n",
    "rules[rules.antecedents == frozenset({'Eggs'})]\n",
    "\n",
    "# fronzenset 에서 값 추출하기\n",
    "[i for i in frozenset({'Apple', 'Banana'})]"
   ]
  }
 ],
 "metadata": {
  "kernelspec": {
   "display_name": "Python 3",
   "language": "python",
   "name": "python3"
  },
  "language_info": {
   "codemirror_mode": {
    "name": "ipython",
    "version": 3
   },
   "file_extension": ".py",
   "mimetype": "text/x-python",
   "name": "python",
   "nbconvert_exporter": "python",
   "pygments_lexer": "ipython3",
   "version": "3.7.4"
  },
  "toc": {
   "base_numbering": 1,
   "nav_menu": {},
   "number_sections": true,
   "sideBar": true,
   "skip_h1_title": false,
   "title_cell": "Table of Contents",
   "title_sidebar": "Contents",
   "toc_cell": false,
   "toc_position": {},
   "toc_section_display": true,
   "toc_window_display": false
  },
  "varInspector": {
   "cols": {
    "lenName": 16,
    "lenType": 16,
    "lenVar": 40
   },
   "kernels_config": {
    "python": {
     "delete_cmd_postfix": "",
     "delete_cmd_prefix": "del ",
     "library": "var_list.py",
     "varRefreshCmd": "print(var_dic_list())"
    },
    "r": {
     "delete_cmd_postfix": ") ",
     "delete_cmd_prefix": "rm(",
     "library": "var_list.r",
     "varRefreshCmd": "cat(var_dic_list()) "
    }
   },
   "types_to_exclude": [
    "module",
    "function",
    "builtin_function_or_method",
    "instance",
    "_Feature"
   ],
   "window_display": false
  }
 },
 "nbformat": 4,
 "nbformat_minor": 4
}
