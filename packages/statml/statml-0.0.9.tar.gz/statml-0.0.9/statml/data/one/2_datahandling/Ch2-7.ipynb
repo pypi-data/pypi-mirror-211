{
 "cells": [
  {
   "cell_type": "code",
   "execution_count": null,
   "id": "8608332c",
   "metadata": {},
   "outputs": [],
   "source": [
    "from sklearn.datasets import load_iris\n",
    "import pandas as pd\n",
    "\n",
    "IRIS = load_iris()\n",
    "iris = pd.DataFrame(data=IRIS.data, columns=IRIS.feature_names)\n",
    "iris['class'] = IRIS.target\n",
    "iris['class'] = iris['class'].map({0:'setosa', 1:'versicolor', 2:'virginica'})\n",
    "iris"
   ]
  },
  {
   "cell_type": "code",
   "execution_count": null,
   "id": "97819835",
   "metadata": {},
   "outputs": [],
   "source": [
    "iris.groupby(by='class').mean()"
   ]
  },
  {
   "cell_type": "code",
   "execution_count": null,
   "id": "86dd39f1",
   "metadata": {},
   "outputs": [],
   "source": [
    "iris.groupby(by='class').median()"
   ]
  },
  {
   "cell_type": "code",
   "execution_count": null,
   "id": "3267872e",
   "metadata": {},
   "outputs": [],
   "source": [
    "import numpy as np\n",
    "np.unique(iris['petal width (cm)'], return_counts = True)"
   ]
  },
  {
   "cell_type": "code",
   "execution_count": null,
   "id": "acfa4ad8",
   "metadata": {},
   "outputs": [],
   "source": [
    "pd.Series(iris['class']).value_counts()"
   ]
  },
  {
   "cell_type": "code",
   "execution_count": null,
   "id": "d590f93f",
   "metadata": {},
   "outputs": [],
   "source": [
    "iris['petal width level'] = pd.qcut(iris['petal width (cm)'], q=3, labels=['short', 'middle', 'long'])\n",
    "pd.Series(iris['petal width level']).value_counts().to_frame()"
   ]
  },
  {
   "cell_type": "code",
   "execution_count": null,
   "id": "eb059983",
   "metadata": {},
   "outputs": [],
   "source": [
    "pd.crosstab(iris['petal width level'], iris['class'])"
   ]
  },
  {
   "cell_type": "code",
   "execution_count": null,
   "id": "bab49173",
   "metadata": {},
   "outputs": [],
   "source": []
  }
 ],
 "metadata": {
  "kernelspec": {
   "display_name": "Python 3 (ipykernel)",
   "language": "python",
   "name": "python3"
  },
  "language_info": {
   "codemirror_mode": {
    "name": "ipython",
    "version": 3
   },
   "file_extension": ".py",
   "mimetype": "text/x-python",
   "name": "python",
   "nbconvert_exporter": "python",
   "pygments_lexer": "ipython3",
   "version": "3.7.16"
  }
 },
 "nbformat": 4,
 "nbformat_minor": 5
}
