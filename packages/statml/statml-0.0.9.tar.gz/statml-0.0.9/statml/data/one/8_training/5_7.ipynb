{
 "cells": [
  {
   "cell_type": "markdown",
   "id": "9abbdf43",
   "metadata": {},
   "source": [
    "# 7번 문제 "
   ]
  },
  {
   "cell_type": "markdown",
   "id": "1468b7b7",
   "metadata": {},
   "source": [
    "7번\n",
    "강의 상류와 하류의 생물 다양성 점수에 차이가 있는지 검정하시오. (단, 같은 강에서 상류와 하류는 서로 독립적이지 않으며, 종속적인 관계에 있다.)\n",
    "* a = 0.1\n",
    "\n",
    "7.1 귀무가설과 대립가설을 세우시오\n",
    "\n",
    "7.2 검정 통계량과 유의 확률을 구하고, 연구가설 채택여부를 검정하시오.\n"
   ]
  },
  {
   "cell_type": "code",
   "execution_count": null,
   "id": "8b170643",
   "metadata": {
    "scrolled": true
   },
   "outputs": [],
   "source": [
    "import pandas as pd\n",
    "import numpy as np \n",
    "\n",
    "df = pd.read_csv(\"https://raw.githubusercontent.com/ADPclass/ADP_book_ver01/main/data/27_problem7.csv\")\n",
    "df"
   ]
  },
  {
   "cell_type": "markdown",
   "id": "b8bd0c33",
   "metadata": {},
   "source": [
    "# 7.1 귀무가설과 대립가설을 세우시오\n",
    "\n"
   ]
  },
  {
   "cell_type": "markdown",
   "id": "2c8cacf4",
   "metadata": {},
   "source": [
    "1. 귀무가설 : 상/하류간의 생물 다양성에는 차이가 없다 . \n",
    "2. 대립가설 : 상/하류간의 생물 다양성에는 차이가 있다.  "
   ]
  },
  {
   "cell_type": "markdown",
   "id": "0c6480c6",
   "metadata": {},
   "source": [
    "# 7.2 검정 통계량과 유의 확률을 구하고, 연구가설 채택여부를 검정하시오."
   ]
  },
  {
   "cell_type": "code",
   "execution_count": null,
   "id": "cf8382e9",
   "metadata": {
    "scrolled": true
   },
   "outputs": [],
   "source": [
    "# 강은 동일하나 처리만 바뀐 경우 (상류, 하류)\n",
    "\n",
    "#대응표본 검정 \n",
    "\n",
    "import scipy.stats as stats\n",
    "\n",
    "\n",
    "stats.ttest_rel(df['up'],df['down']) ## default two-sided\n",
    "\n",
    "## 유의 수준 0.1 \n",
    "## 정규성이 만족한다고 가정한다. "
   ]
  },
  {
   "cell_type": "markdown",
   "id": "16f5bdec",
   "metadata": {},
   "source": [
    "## p-value가 0.1보다 작으므로, 유의수준 0.1 하에서 귀무가설 기각한다.  \n",
    "\n",
    "### 즉, 상 - 하류간 다양성에는 유의미한 차이가 있다고 할 수 있다. \n"
   ]
  },
  {
   "cell_type": "code",
   "execution_count": null,
   "id": "ea1d9a1b",
   "metadata": {},
   "outputs": [],
   "source": [
    "stats.wilcoxon(df['up'],df['down'])"
   ]
  },
  {
   "cell_type": "code",
   "execution_count": null,
   "id": "a86fdb7e",
   "metadata": {},
   "outputs": [],
   "source": []
  }
 ],
 "metadata": {
  "kernelspec": {
   "display_name": "Python 3 (ipykernel)",
   "language": "python",
   "name": "python3"
  },
  "language_info": {
   "codemirror_mode": {
    "name": "ipython",
    "version": 3
   },
   "file_extension": ".py",
   "mimetype": "text/x-python",
   "name": "python",
   "nbconvert_exporter": "python",
   "pygments_lexer": "ipython3",
   "version": "3.7.16"
  },
  "toc": {
   "base_numbering": 1,
   "nav_menu": {},
   "number_sections": false,
   "sideBar": true,
   "skip_h1_title": false,
   "title_cell": "Table of Contents",
   "title_sidebar": "Contents",
   "toc_cell": false,
   "toc_position": {},
   "toc_section_display": true,
   "toc_window_display": false
  }
 },
 "nbformat": 4,
 "nbformat_minor": 5
}
