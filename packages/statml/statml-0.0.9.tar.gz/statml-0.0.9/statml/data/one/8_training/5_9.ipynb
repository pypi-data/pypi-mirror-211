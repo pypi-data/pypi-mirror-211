{
 "cells": [
  {
   "cell_type": "markdown",
   "id": "97c0738b",
   "metadata": {},
   "source": [
    "# 9번 문제"
   ]
  },
  {
   "cell_type": "markdown",
   "id": "28e2a85a",
   "metadata": {},
   "source": [
    "### 지하철 호선과 월별, 승객 수 간 상관관계가 있는지 확인(Type III Anova 사용)\n",
    "\n",
    "1.귀무가설과 대립가설 설정하라\n",
    "\n",
    "\n",
    "가. 상호작용효과 검정에 대한 가설\n",
    "\n",
    "- 귀무가설 H0: 지하철 호선과 월별, 승객 수 간 상관관계가 없다.\n",
    "- 대립가설 H1: 지하철 호선과 월별, 승객 수 간 상관관계가 있다.\n",
    "\n",
    "\n",
    "\n",
    "나. 주효과 검정에 대한 가설\n",
    "\n",
    "- 귀무가설 H0: 지하철 호선 승객 수 차이는 존재하지 않는다.\n",
    "- 대립가설 H1: 지하철 호선 승객 수 차이는 존재한다.\n",
    "\n",
    "- 귀무가설 H0: 월별 승객 수 차이는 존재하지 않는다.\n",
    "- 대립가설 H1: 월별승객 수 차이는  차이는 존재한다.\n",
    "\n",
    "\n"
   ]
  },
  {
   "cell_type": "code",
   "execution_count": null,
   "id": "c6db8c06",
   "metadata": {
    "scrolled": true
   },
   "outputs": [],
   "source": [
    "import pandas as pd \n",
    "df = pd.read_csv(\"https://raw.githubusercontent.com/ADPclass/ADP_book_ver01/main/data/27_problem9.csv\")\n",
    "df"
   ]
  },
  {
   "cell_type": "code",
   "execution_count": null,
   "id": "2cd4172f",
   "metadata": {},
   "outputs": [],
   "source": [
    "## 분산분석 수행 \n",
    "\n",
    "from statsmodels.formula.api import ols\n",
    "from statsmodels.stats.anova import anova_lm\n",
    "\n",
    "formula = 'total ~C(line)*C(month)' \n",
    "model = ols(formula, df).fit()\n",
    "aov_table = anova_lm(model, typ=3)\n",
    "aov_table"
   ]
  },
  {
   "cell_type": "code",
   "execution_count": null,
   "id": "e88804cd",
   "metadata": {},
   "outputs": [],
   "source": []
  },
  {
   "cell_type": "code",
   "execution_count": null,
   "id": "e88535a7",
   "metadata": {},
   "outputs": [],
   "source": [
    "from statsmodels.graphics.factorplots import interaction_plot\n",
    "import matplotlib.pyplot as plt\n",
    "\n",
    "## Series로 변경 \n",
    "total = df[\"total\"]\n",
    "line = df[\"line\"]\n",
    "month = df[\"month\"]\n",
    "\n",
    "fig, ax = plt.subplots(figsize=(6, 6))\n",
    "fig = interaction_plot(month,line, total,ms=10, ax=ax)"
   ]
  },
  {
   "cell_type": "markdown",
   "id": "8b9bdca1",
   "metadata": {},
   "source": [
    "### 결론 : 교호작용이 존재한다. \n",
    "\n",
    "1. 결과 테이블의 C(line):C(month)를보면 서로의 차이를 총분산으로 설명하는 F- value에 대한 P-value가 0.05보다 작다. 즉, 둘의 상관관계는 존재한다. \n",
    "\n",
    "* 일반적으로 상호작용 그래프에서 두 선이 서로 교차하고 있을 시에는 x축에 있는 독립변수와 그래프에서 시각화된 독립변수 간에는 상호작용이 존재한다고 해석할 수 있다."
   ]
  },
  {
   "cell_type": "code",
   "execution_count": null,
   "id": "eecbeaf1",
   "metadata": {},
   "outputs": [],
   "source": []
  }
 ],
 "metadata": {
  "kernelspec": {
   "display_name": "Python 3 (ipykernel)",
   "language": "python",
   "name": "python3"
  },
  "language_info": {
   "codemirror_mode": {
    "name": "ipython",
    "version": 3
   },
   "file_extension": ".py",
   "mimetype": "text/x-python",
   "name": "python",
   "nbconvert_exporter": "python",
   "pygments_lexer": "ipython3",
   "version": "3.7.16"
  },
  "toc": {
   "base_numbering": 1,
   "nav_menu": {},
   "number_sections": false,
   "sideBar": false,
   "skip_h1_title": false,
   "title_cell": "Table of Contents",
   "title_sidebar": "Contents",
   "toc_cell": false,
   "toc_position": {},
   "toc_section_display": false,
   "toc_window_display": false
  }
 },
 "nbformat": 4,
 "nbformat_minor": 5
}
