{
 "cells": [
  {
   "cell_type": "markdown",
   "id": "0724c60c",
   "metadata": {
    "toc": true
   },
   "source": [
    "<h1>Table of Contents<span class=\"tocSkip\"></span></h1>\n",
    "<div class=\"toc\"><ul class=\"toc-item\"><li><span><a href=\"#22회-통계분석\" data-toc-modified-id=\"22회-통계분석-1\">22회 통계분석</a></span><ul class=\"toc-item\"><li><span><a href=\"#회사는-제품에-금속-재질-함유량의-분산이-1.3을-넘으면-불량이라고-판단한다.-회사에서는-품질경영팀으로부터-제조사별로-금속함유량이-차이가-난다고-제보를-받았다.-해당-금속함유량-데이터에-대한-검정을-수행하시오.-(유의확률:0.05)-\" data-toc-modified-id=\"회사는-제품에-금속-재질-함유량의-분산이-1.3을-넘으면-불량이라고-판단한다.-회사에서는-품질경영팀으로부터-제조사별로-금속함유량이-차이가-난다고-제보를-받았다.-해당-금속함유량-데이터에-대한-검정을-수행하시오.-(유의확률:0.05)--1.1\">회사는 제품에 금속 재질 함유량의 분산이 1.3을 넘으면 불량이라고 판단한다. 회사에서는 품질경영팀으로부터 제조사별로 금속함유량이 차이가 난다고 제보를 받았다. 해당 금속함유량 데이터에 대한 검정을 수행하시오. (유의확률:0.05) <br></a></span><ul class=\"toc-item\"><li><span><a href=\"#연구가설과-귀무가설을-작성시오\" data-toc-modified-id=\"연구가설과-귀무가설을-작성시오-1.1.1\">연구가설과 귀무가설을 작성시오<br></a></span></li><li><span><a href=\"#가설을-양측-검정-\" data-toc-modified-id=\"가설을-양측-검정--1.1.2\">가설을 양측 검정 <br></a></span></li><li><span><a href=\"#검정통계량,-가설-채택\" data-toc-modified-id=\"검정통계량,-가설-채택-1.1.3\">검정통계량, 가설 채택<br></a></span></li></ul></li><li><span><a href=\"#200개의-Lot별-불량-제품-수량-데이터에-따라-아래의-값을-구하시오.-\" data-toc-modified-id=\"200개의-Lot별-불량-제품-수량-데이터에-따라-아래의-값을-구하시오.--1.2\">200개의 Lot별 불량 제품 수량 데이터에 따라 아래의 값을 구하시오. <br></a></span></li></ul></li></ul></div>"
   ]
  },
  {
   "cell_type": "markdown",
   "id": "a7716199",
   "metadata": {},
   "source": [
    "# 22회 통계분석 \n",
    "\n",
    "## 회사는 제품에 금속 재질 함유량의 분산이 1.3을 넘으면 불량이라고 판단한다. 회사에서는 품질경영팀으로부터 제조사별로 금속함유량이 차이가 난다고 제보를 받았다. 해당 금속함유량 데이터에 대한 검정을 수행하시오. (유의확률:0.05) <br>\n",
    "### 연구가설과 귀무가설을 작성시오<br>\n",
    "### 가설을 양측 검정 <br>\n",
    "### 검정통계량, 가설 채택<br>\n"
   ]
  },
  {
   "cell_type": "code",
   "execution_count": null,
   "id": "ec541c50",
   "metadata": {},
   "outputs": [],
   "source": [
    "import pandas as pd \n",
    "import numpy as np \n",
    "## 데이터 불러오기 \n",
    "df = pd.read_csv('../data/metalicity')\n",
    "df"
   ]
  },
  {
   "cell_type": "code",
   "execution_count": null,
   "id": "6d4f90f3",
   "metadata": {},
   "outputs": [],
   "source": [
    "## 해당 분포가 정규분포인지부터 판단 \n",
    "import scipy.stats as stats  \n",
    "print(stats.shapiro(df['metalicity']))\n"
   ]
  },
  {
   "cell_type": "markdown",
   "id": "a15025cd",
   "metadata": {},
   "source": [
    "귀무가설 : 정규성을 가진다.  <br>\n",
    "대립가설 : 정규성을 가지지 않는다. <br>\n",
    "\n",
    "p-value > 0.05 이므로 귀무가설을 기각하지 못함 <br>\n",
    "즉, 정규성을 띈다. "
   ]
  },
  {
   "cell_type": "code",
   "execution_count": null,
   "id": "bfa364a3",
   "metadata": {
    "scrolled": true
   },
   "outputs": [],
   "source": [
    "## 정규분포이며, 해당 데이터의 평균을 갖고 분산이 1.3인 150행의 데이터를 만들고 등분산 검정을 진행한다. \n",
    "test = np.random.normal(45.32, 1.3**0.5, 150)\n",
    "test"
   ]
  },
  {
   "cell_type": "code",
   "execution_count": null,
   "id": "1436cdc3",
   "metadata": {},
   "outputs": [],
   "source": [
    "stats.levene(df['metalicity'],test)"
   ]
  },
  {
   "cell_type": "code",
   "execution_count": null,
   "id": "54aff7eb",
   "metadata": {},
   "outputs": [],
   "source": []
  },
  {
   "cell_type": "markdown",
   "id": "5baee7c2",
   "metadata": {},
   "source": [
    "\n",
    "## 200개의 Lot별 불량 제품 수량 데이터에 따라 아래의 값을 구하시오. <br>\n",
    "- p관리도 : 전체품목의 표본에서 부적합 부품의 수의 비율 \n",
    "2.1 p관리도에 따라 관리중심선(center line), 관리 상한선, 하한선 구하시오<br>\n",
    "2.2 관리도 시각화 하시오<br>\n",
    "\n"
   ]
  },
  {
   "cell_type": "code",
   "execution_count": null,
   "id": "87357126",
   "metadata": {},
   "outputs": [],
   "source": [
    "df2 = pd.read_csv('../data/lot_quality.csv')\n",
    "df2 = df2.set_index('lot')\n",
    "df2"
   ]
  },
  {
   "cell_type": "code",
   "execution_count": null,
   "id": "0f5878c0",
   "metadata": {},
   "outputs": [],
   "source": [
    "df2[\"p\"] = df2[\"불량수량\"]/df2[\"생산수량\"]\n",
    "df2[\"UCL\"] = df2[\"p\"] + (3 * (df2[\"p\"]* (1-df2[\"p\"]) / df2[\"생산수량\"])**0.5)\n",
    "df2[\"LCL\"] = df2[\"p\"] - (3 * (df2[\"p\"]* (1-df2[\"p\"]) / df2[\"생산수량\"])**0.5)\n",
    "\n",
    "\n",
    "## 관리 중심선 : 전체 불량 비율 \n",
    "CL = df2[\"불량수량\"].sum() / df2[\"생산수량\"].sum()\n",
    "print(\"관리중심선 : \" , CL )\n",
    "df2"
   ]
  },
  {
   "cell_type": "code",
   "execution_count": null,
   "id": "4fd31e5c",
   "metadata": {},
   "outputs": [],
   "source": [
    "import matplotlib.pyplot as plt\n",
    "plt.figure(figsize =(14, 10))\n",
    "plt.plot(df2[\"UCL\"])\n",
    "plt.plot(df2[\"LCL\"])\n",
    "plt.plot(df2[\"p\"],marker='o')\n",
    "plt.hlines(CL,1, 200)\n",
    "plt.legend(['UCL','p','CL','LCL'])\n"
   ]
  },
  {
   "cell_type": "markdown",
   "id": "66bf1309",
   "metadata": {},
   "source": [
    "\n",
    "3.표에 제품 1, 2를 만드는데 재료 a, b, c가 일부 사용되며, 제품 1과 2를 만들 때 12만원과 18만원을 벌 수 있다. 재료는 한정적으로 주어지는데, 이때 최대 수익을 낼 수 있을 때의 제품 1과 제품2의 개수를 구하라.\n",
    "재료 공급량 { a: 1300, b: 1000, c:1200 }(10점)\n"
   ]
  },
  {
   "cell_type": "code",
   "execution_count": null,
   "id": "d8898fca",
   "metadata": {},
   "outputs": [],
   "source": [
    "## 제품1 : x, 제품2 :y \n",
    "## y가 최대였을때(32개)부터 하나씩 줄여가며 최대값 갱신 \n",
    "\n",
    "x=0 \n",
    "y= 32\n",
    "\n",
    "max_profit = 32*18 \n",
    "material_a = 20\n",
    "material_b = 40\n",
    "material_c = 240\n",
    "\n",
    "while((material_a > 0) or (material_b > 0) or( material_c > 0) ) :\n",
    "    y-=1\n",
    "    material_a += 40 \n",
    "    material_b += 30\n",
    "    material_c += 30 \n",
    "    \n",
    "    while ((material_a >= 20) and (material_b >= 20) and (material_c >= 20)) : \n",
    "        x+=1    \n",
    "        material_a -= 20\n",
    "        material_b -= 20\n",
    "        material_c -= 20\n",
    "        \n",
    "        if (y*18 + x*12)>max_profit : \n",
    "            max_profit = (y*18 + x*12)\n",
    "            result_x = x \n",
    "            result_y = y \n",
    "    \n",
    "    if y==0: \n",
    "        break\n",
    "\n",
    "print(\"최대 수익은 \" , max_profit ,  \" 만원 이다. \")\n",
    "print(\"제품 1 수량 :  \", result_x)\n",
    "print(\"제품 2 수량 :  \", result_y)"
   ]
  },
  {
   "cell_type": "markdown",
   "id": "839501b6",
   "metadata": {},
   "source": [
    "\n",
    "4.상품 a와 b가 있을 때 다음과 같은 구매 패턴이 있다고 함. ['a','a','b','b','a','a','a','a','b','b','b','b','b','a','a','b','b','a','b','b']<br>\n",
    "4.1 구매하는 패턴으로 봐서 두 상품이 연관이 있는지 가설 세우고 검정하시오<br>\n",
    "4.2 연구가설 귀무가설 세우시오<br>\n",
    "4.3 가설 채택하시오"
   ]
  },
  {
   "cell_type": "code",
   "execution_count": null,
   "id": "6f7f7518",
   "metadata": {
    "scrolled": true
   },
   "outputs": [],
   "source": [
    "import pandas as pd \n",
    "\n",
    "data = ['a','a','b','b','a','a','a','a','b','b','b','b','b','a','a','b','b','a','b','b']\n",
    "test_df = pd.DataFrame(data,columns=[\"product\"])\n",
    "test_df.loc[test_df['product']=='a','product'] = 1\n",
    "test_df.loc[test_df['product']=='b','product'] = 0\n",
    "test_df['product']"
   ]
  },
  {
   "cell_type": "code",
   "execution_count": null,
   "id": "fd6a714b",
   "metadata": {},
   "outputs": [],
   "source": [
    "from statsmodels.sandbox.stats.runs import runstest_1samp\n",
    "\n",
    "runstest_1samp(test_df['product'])\n"
   ]
  },
  {
   "cell_type": "markdown",
   "id": "18189ee1",
   "metadata": {},
   "source": [
    "* 분석결과 : 유의수준 5% 하에서 p-value값이 0.05보다 크므로, 상품 a와 b의 구매에는 연관이 없다. "
   ]
  }
 ],
 "metadata": {
  "kernelspec": {
   "display_name": "Python 3 (ipykernel)",
   "language": "python",
   "name": "python3"
  },
  "language_info": {
   "codemirror_mode": {
    "name": "ipython",
    "version": 3
   },
   "file_extension": ".py",
   "mimetype": "text/x-python",
   "name": "python",
   "nbconvert_exporter": "python",
   "pygments_lexer": "ipython3",
   "version": "3.7.16"
  },
  "toc": {
   "base_numbering": 1,
   "nav_menu": {},
   "number_sections": false,
   "sideBar": true,
   "skip_h1_title": false,
   "title_cell": "Table of Contents",
   "title_sidebar": "Contents",
   "toc_cell": true,
   "toc_position": {},
   "toc_section_display": true,
   "toc_window_display": true
  }
 },
 "nbformat": 4,
 "nbformat_minor": 5
}
