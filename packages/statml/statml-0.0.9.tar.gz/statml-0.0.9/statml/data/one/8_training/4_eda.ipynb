{
 "cells": [
  {
   "cell_type": "markdown",
   "id": "f00f5625",
   "metadata": {},
   "source": [
    "# 1번 문제 EDA \n",
    "\n",
    "1. 결측치를 확인하고, 결측치 제거하세요. \n",
    "2. 이상치 제거하는 방법을 설명하고, 이상치 제거하고 난 결과를 통계적으로 나타내세요. \n",
    "3. 전처리한 데이터로 Kmeans, DBSCAN 등 방법으로 군집을 생성하세요. \n"
   ]
  },
  {
   "cell_type": "markdown",
   "id": "42b66e9f",
   "metadata": {},
   "source": [
    "###  예제 데이터 설명 \n",
    "\n",
    "## 고객 정보 데이터 \n",
    "* ID: 고객의 고유 식별자\n",
    "* Year_Birth: 고객의 출생 연도\n",
    "* Marital_Status: 고객의 결혼 여부\n",
    "* Income: 고객의 연간 가계 소득\n",
    "* Kidhome: 고객 가구의 어린이 수\n",
    "* Teenhome: 고객 가구의 청소년 수\n",
    "\n",
    "## Products \n",
    "* MntWines: 지난 2년 동안 와인에 소비한 금액\n",
    "* MntFruits: 지난 2년 동안 과일에 소비한 금액\n",
    "* MntMeatProducts: 지난 2년 동안 육류에 소비된 금액\n",
    "* MntFishProducts: 지난 2년 동안 생선에 소비한 금액\n",
    "* MntSweetProducts: 지난 2년간 사탕에 소비한 금액\n",
    "\n",
    "## Place \n",
    "* NumWebPurchases: 회사 웹사이트를 통해 이루어진 구매 수\n",
    "* NumCatalogPurchases: 카탈로그를 사용하여 이루어진 구매 수\n",
    "* NumStorePurchases: 매장에서 직접 구매한 횟수\n",
    "* NumWebVisitsMonth: 지난 달 회사 웹 사이트 방문 횟수\n",
    "\n"
   ]
  },
  {
   "cell_type": "code",
   "execution_count": null,
   "id": "868e06bd",
   "metadata": {},
   "outputs": [],
   "source": [
    "#1번 답안 작성 시작! \n",
    "import pandas as pd \n",
    "import numpy as np \n",
    "data = pd.read_csv(\"https://raw.githubusercontent.com/ADPclass/ADP_book_ver01/main/data/26_problem1.csv\")\n",
    "data"
   ]
  },
  {
   "cell_type": "code",
   "execution_count": null,
   "id": "efc0654d",
   "metadata": {
    "scrolled": false
   },
   "outputs": [],
   "source": [
    "## 결측치 확인 가능\n",
    "data.info()  "
   ]
  },
  {
   "cell_type": "markdown",
   "id": "bbe001b2",
   "metadata": {},
   "source": [
    "## 1. 결측치가 있느나 결측치가 전체적으로 많이 있는 것이 아닌, Income 에만 소수(24개)만 존재하여 평균으로 보간 하겠습니다. "
   ]
  },
  {
   "cell_type": "code",
   "execution_count": null,
   "id": "4ec8b9f1",
   "metadata": {
    "scrolled": true
   },
   "outputs": [],
   "source": [
    "Income_mean = data[\"Income\"].mean()\n",
    "data.loc[data[\"Income\"].isna()==True,\"Income\"] = Income_mean\n",
    "data.isna().sum()"
   ]
  },
  {
   "cell_type": "code",
   "execution_count": null,
   "id": "4c11a199",
   "metadata": {},
   "outputs": [],
   "source": [
    "box_col = data.columns.drop(['ID','Marital_Status'])\n",
    "box_col"
   ]
  },
  {
   "cell_type": "markdown",
   "id": "b9e0e885",
   "metadata": {},
   "source": [
    "## 1-2. 이상치 제거하는 방법을 설명하고, 이상치 제거하고 난 결과를 통계적으로 나타내세요."
   ]
  },
  {
   "cell_type": "code",
   "execution_count": null,
   "id": "175003a8",
   "metadata": {
    "scrolled": false
   },
   "outputs": [],
   "source": [
    "import matplotlib.pyplot as plt\n",
    "import seaborn as sns\n",
    "\n",
    "## boxplot을 그리기 위해 범주형 변수 제거한 columns 활용 \n",
    "X = data[box_col]\n",
    "df_v1 = pd.melt(X ,var_name='col', value_name='value')\n",
    "df_v1\n",
    "\n",
    "plt.figure(figsize = (15, 7))\n",
    "sns.boxplot(x = 'col', y = 'value', data = df_v1)\n",
    "plt.xticks(range(len(X.columns)), X.columns, rotation=45)\n",
    "plt.show()"
   ]
  },
  {
   "cell_type": "code",
   "execution_count": null,
   "id": "018b6cf3",
   "metadata": {},
   "outputs": [],
   "source": [
    "## Income에 이상치가 존재하므로 제거필요 \n",
    "## IQR 개념 사용 - 강의 참조 ADP실기 클래스 Part1_4.3 결측치, 이상치 처리 \n",
    "\n",
    "# IQR 을 이용한 이상치 탐색 함수\n",
    "\n",
    "def detect_outliers(df=None, column=None, weight=1.5):\n",
    "    Q1 = df[column].quantile(0.25)\n",
    "    Q3 = df[column].quantile(0.75)\n",
    "    \n",
    "    IQR = Q3 - Q1\n",
    "    IQR_weight = IQR*weight\n",
    "    \n",
    "    outlier_idx = df[(df[column] < Q1 - IQR_weight) | (df[column] > Q3 + IQR_weight)].index\n",
    "    \n",
    "    return outlier_idx"
   ]
  },
  {
   "cell_type": "code",
   "execution_count": null,
   "id": "a8ef001d",
   "metadata": {
    "scrolled": true
   },
   "outputs": [],
   "source": [
    "# IQR로 이상치를 찾아 인덱스 저장되어 있음 \n",
    "\n",
    "out_index = detect_outliers(df=data, column='Income')\n",
    "data.loc[out_index]"
   ]
  },
  {
   "cell_type": "markdown",
   "id": "a87c619e",
   "metadata": {},
   "source": [
    "## 6666666 값만 이상치로 판단, Income의 경우 높은 소수의 집단 있을 수 있다고 판단"
   ]
  },
  {
   "cell_type": "code",
   "execution_count": null,
   "id": "8ea54e53",
   "metadata": {},
   "outputs": [],
   "source": [
    "data.loc[out_index[-1],\"Income\"] = Income_mean\n",
    "data.loc[out_index]"
   ]
  },
  {
   "cell_type": "markdown",
   "id": "9640066c",
   "metadata": {},
   "source": [
    "# 1-3. 전처리한 데이터로 Kmeans, DBSCAN 등 방법으로 군집을 생성하세요."
   ]
  },
  {
   "cell_type": "markdown",
   "id": "0a591898",
   "metadata": {},
   "source": [
    "### 추가 전처리 군집분석을 하기 위해서는 범주형 변수 Marital_Status 인코딩 필요 "
   ]
  },
  {
   "cell_type": "code",
   "execution_count": null,
   "id": "02b77abb",
   "metadata": {
    "scrolled": true
   },
   "outputs": [],
   "source": [
    "df_dum= pd.get_dummies(data,columns=['Marital_Status'])\n",
    "df_dum"
   ]
  },
  {
   "cell_type": "code",
   "execution_count": null,
   "id": "0e62e7ba",
   "metadata": {
    "scrolled": false
   },
   "outputs": [],
   "source": [
    "df_dum.info()"
   ]
  },
  {
   "cell_type": "markdown",
   "id": "10e30796",
   "metadata": {},
   "source": [
    "최적의 클러스터 개수를 결정하는데 사용되는 방법 (2)   \n",
    "* 엘보우 기법\n",
    "    - 클러스터 내 오차제곱합(SSE)을 클러스터 개수마다 비교\n",
    "    - 클러스터 개수를 늘려나가면서 계산한 SSE를 비교\n",
    "    - 어느 순간 줄어드는 비율이 급격하게 작아지는 부분이 생김 (=팔꿈치, eblow)\n",
    "    - 그 부분이 최적의 클러스터 개수임\n"
   ]
  },
  {
   "cell_type": "code",
   "execution_count": null,
   "id": "fc579f0e",
   "metadata": {},
   "outputs": [],
   "source": [
    "# 필요한 모듈\n",
    "from sklearn.cluster import KMeans\n",
    "\n",
    "def elbow(X):\n",
    "    sse=[]\n",
    "    for i in range(1, 11):\n",
    "        km=KMeans(n_clusters=i, random_state=1)\n",
    "        km.fit(X)\n",
    "        sse.append(km.inertia_)\n",
    "    \n",
    "    plt.plot(range(1,11), sse, marker='o')\n",
    "    plt.xlabel('The Number of Clusters')\n",
    "    plt.ylabel('SSE')\n",
    "    plt.show()\n",
    "    print(sse)"
   ]
  },
  {
   "cell_type": "code",
   "execution_count": null,
   "id": "5fafe9e2",
   "metadata": {
    "scrolled": false
   },
   "outputs": [],
   "source": [
    "elbow(df_dum)"
   ]
  },
  {
   "cell_type": "code",
   "execution_count": null,
   "id": "f7873192",
   "metadata": {},
   "outputs": [],
   "source": [
    "# K-Means 군집화 실행\n",
    "km = KMeans(n_clusters = 3, random_state=1)\n",
    "km.fit(df_dum)"
   ]
  },
  {
   "cell_type": "code",
   "execution_count": null,
   "id": "d3b4ff76",
   "metadata": {},
   "outputs": [],
   "source": [
    "# 할당된 군집을 credit 데이터에 추가\n",
    "new_labels = km.labels_\n",
    "data['cluster'] = new_labels\n",
    "data"
   ]
  },
  {
   "cell_type": "markdown",
   "id": "873d9182",
   "metadata": {},
   "source": [
    "\n",
    "# 2. 군집분석\n",
    "\n",
    "1. 위에서 생성한 군집들의 특성을 분석하세요. \n",
    "2. 각 군집 별 상품을 추천하세요.  \n",
    "3. ID가 10870인 고객을 대상으로 상품을 추천하세요.\n"
   ]
  },
  {
   "cell_type": "code",
   "execution_count": null,
   "id": "4e4b586e",
   "metadata": {},
   "outputs": [],
   "source": [
    "data.cluster.value_counts()"
   ]
  },
  {
   "cell_type": "code",
   "execution_count": null,
   "id": "2fd8d105",
   "metadata": {
    "scrolled": true
   },
   "outputs": [],
   "source": [
    "group_mean = data.groupby(\"cluster\").mean()\n",
    "group_mean.reset_index(inplace=True)\n",
    "group_mean"
   ]
  },
  {
   "cell_type": "code",
   "execution_count": null,
   "id": "5cad0a5f",
   "metadata": {},
   "outputs": [],
   "source": [
    "## 고객 정보 데이터 \n",
    "group_mean[[\"Year_Birth\",\"Income\",\"Kidhome\",\"Teenhome\"]]"
   ]
  },
  {
   "cell_type": "code",
   "execution_count": null,
   "id": "ef99938d",
   "metadata": {},
   "outputs": [],
   "source": [
    "## 소비 제품 데이터 \n",
    "Mnt_group = group_mean[[\"cluster\",'MntWines','MntFruits','MntMeatProducts','MntFishProducts','MntSweetProducts']]\n",
    "Mnt_group.set_index(\"cluster\",inplace=True)\n",
    "Mnt_group"
   ]
  },
  {
   "cell_type": "code",
   "execution_count": null,
   "id": "f7d76f27",
   "metadata": {},
   "outputs": [],
   "source": [
    "sum_group_Mnt = np.array(Mnt_group.sum(1))\n",
    "sum_group_Mnt.reshape(3,1)"
   ]
  },
  {
   "cell_type": "code",
   "execution_count": null,
   "id": "912011b5",
   "metadata": {
    "scrolled": true
   },
   "outputs": [],
   "source": [
    "Mnt_group/sum_group_Mnt.reshape(3,1)"
   ]
  },
  {
   "cell_type": "markdown",
   "id": "749e2b32",
   "metadata": {},
   "source": [
    "### 2-2. 위에서 생성한 군집들의 특성을 분석하세요.\n",
    "\n",
    "## A. 소비특징 \n",
    "1. 0번 그룹 : 평균연령 1967년생, 소득이 가장 많은 집단으로 전체 구매 수 1214로 가장 높고 그 중 와인의 구매가 가장 많고,  타 그룹과 비율로 보았을 때 Wine 의 비율이 높다. \n",
    "<br><br>\n",
    "2. 1번 그룹 : 가장 어린 집단(평균 1973년생) 소득의 평균도 낮고, 소비가 가장 적은 집단이다. 전체 구매 수가 77로 가 현저히 낮으며 소비의 타 그룹가 비교하였을 때, 비율에서는 고기와 과자, 과일의 비율이 가장 높다. / 전체적인 소비보다는 특정 상품의 소비의 비율이 높다 \n",
    "<br><br>\n",
    "3. 2번 그룹 : 소득과 소비가 중간이다. 타 그룹과 비교하였을 때, 와인의 구매비율이 0.638로 가장 높다. "
   ]
  },
  {
   "cell_type": "markdown",
   "id": "d2c1461e",
   "metadata": {},
   "source": [
    "# 2번 정답\n",
    "## 0번 그룹 : 와인 \n",
    "## 1번 그룹 : 고기 \n",
    "## 2번 그룹 : 와인 "
   ]
  },
  {
   "cell_type": "code",
   "execution_count": null,
   "id": "1ab5503f",
   "metadata": {
    "scrolled": true
   },
   "outputs": [],
   "source": [
    "## 구매채널데이터 \n",
    "Num_group = group_mean[[\"cluster\",'NumDealsPurchases','NumWebPurchases','NumCatalogPurchases','NumStorePurchases','NumWebVisitsMonth']]\n",
    "Num_group.set_index(\"cluster\",inplace=True)\n",
    "Num_group"
   ]
  },
  {
   "cell_type": "code",
   "execution_count": null,
   "id": "3bc434c8",
   "metadata": {
    "scrolled": false
   },
   "outputs": [],
   "source": [
    "sum_group_Num = np.array(Num_group.sum(1))\n",
    "sum_group_Num.reshape(3,1)\n",
    "Num_group/sum_group_Num.reshape(3,1)"
   ]
  },
  {
   "cell_type": "markdown",
   "id": "406ae574",
   "metadata": {},
   "source": [
    "## B. 마케팅 특징 \n",
    "1. 0번 그룹 : Store에서 직접 구매하는 비율이 가장 높다 , 다른 그룹보다 카탈로그를 많이 이용하는 편이다, 할인은 신경 안쓰는편 \n",
    "\n",
    "2. 1번 그룹 : 지난 달에는 웹사이트에서 구매하는 비율이 가장 높았으나, 이번달에는 홈페이지 구매가 낮아졌다. 원인 파악이 필요. <br> \n",
    "              이번 달에는 오히려 웹사이트보다는 직접 매장에서 구매하였다. \n",
    "\n",
    "3. 2번 그룹 : 웹, 매장의 비중이 비슷하다. 하지만 카탈로그로 구매하는 비율이 가장 적으므로 해당 그룹에는 카탈로그보다는 웹, 매장 홍보가 필요하다. "
   ]
  },
  {
   "cell_type": "markdown",
   "id": "6b7a6030",
   "metadata": {},
   "source": [
    "* NumDealsPurchases : 할인된 상품  구매 횟수 \n",
    "* NumWebPurchases: 회사 웹사이트를 통해 이루어진 구매 수\n",
    "* NumCatalogPurchases: 카탈로그를 사용하여 이루어진 구매 수\n",
    "* NumStorePurchases: 매장에서 직접 구매한 횟수\n",
    "* NumWebVisitsMonth: 지난 달 회사 웹 사이트 방문 횟수"
   ]
  },
  {
   "cell_type": "code",
   "execution_count": null,
   "id": "3d042df1",
   "metadata": {},
   "outputs": [],
   "source": [
    "## 고객 특성만을 가지고 시각화 , 뚜렷하게 나눠지는 것은 Income 변수로 그룹이 나눠짐을 알 수 있음 \n",
    "import seaborn as sns \n",
    "\n",
    "sns.pairplot(data[pair_col1], hue=\"cluster\")\n",
    "plt.show()"
   ]
  },
  {
   "cell_type": "code",
   "execution_count": null,
   "id": "b250dd4a",
   "metadata": {},
   "outputs": [],
   "source": [
    "## 고객 구매이력을 가지고 시각화 , 뚜렷하게 나눠지는 것은 Income 변수로 그룹이 나눠짐을 알 수 있음 \n",
    "import seaborn as sns \n",
    "\n",
    "sns.pairplot(data[pair_col2], hue=\"cluster\")\n",
    "plt.show()"
   ]
  },
  {
   "cell_type": "markdown",
   "id": "b7541e4e",
   "metadata": {},
   "source": [
    "## 2-3. ID가 10870인 고객을 대상으로 상품을 추천하세요."
   ]
  },
  {
   "cell_type": "code",
   "execution_count": null,
   "id": "ff677a70",
   "metadata": {},
   "outputs": [],
   "source": [
    "data.loc[data[\"ID\"]==10870]"
   ]
  },
  {
   "cell_type": "markdown",
   "id": "0ce5316d",
   "metadata": {},
   "source": [
    "1. 10870 고객은 2번집단이다. 와인의 구매비율이 높은 집단으로 와인 상품을 추천하는 것이 소비비율의 특징을 보았을 때 적절하다고 판단된다. \n",
    "2. 2번 집단의 특성상, 웹, 매장에서 구매하는 비율이 높았다. 해당 고객은 지난달 구매수와 이번달 구매 수를 보니 웹사이트를 많이 이용하는 고객으로 보이므로 웹사이트 추천을 하는 것이 좋아보인다. "
   ]
  },
  {
   "cell_type": "code",
   "execution_count": null,
   "id": "6589937a",
   "metadata": {},
   "outputs": [],
   "source": []
  }
 ],
 "metadata": {
  "kernelspec": {
   "display_name": "Python 3 (ipykernel)",
   "language": "python",
   "name": "python3"
  },
  "language_info": {
   "codemirror_mode": {
    "name": "ipython",
    "version": 3
   },
   "file_extension": ".py",
   "mimetype": "text/x-python",
   "name": "python",
   "nbconvert_exporter": "python",
   "pygments_lexer": "ipython3",
   "version": "3.7.16"
  },
  "toc": {
   "base_numbering": 1,
   "nav_menu": {},
   "number_sections": false,
   "sideBar": true,
   "skip_h1_title": false,
   "title_cell": "Table of Contents",
   "title_sidebar": "Contents",
   "toc_cell": false,
   "toc_position": {
    "height": "calc(100% - 180px)",
    "left": "10px",
    "top": "150px",
    "width": "165px"
   },
   "toc_section_display": true,
   "toc_window_display": false
  }
 },
 "nbformat": 4,
 "nbformat_minor": 5
}
