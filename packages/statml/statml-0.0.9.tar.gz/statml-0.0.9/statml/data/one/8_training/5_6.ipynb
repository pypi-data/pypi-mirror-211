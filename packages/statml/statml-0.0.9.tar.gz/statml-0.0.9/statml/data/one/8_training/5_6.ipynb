{
 "cells": [
  {
   "cell_type": "markdown",
   "id": "c6970460",
   "metadata": {},
   "source": [
    "# 6번\n",
    "12건의 광고시간 측정. 평균 15.5초, 분산 3.2초 일때 90% 신뢰구간은?\n",
    "* 단, 정규분포를 따른다고 가정한다. "
   ]
  },
  {
   "cell_type": "code",
   "execution_count": null,
   "id": "c9831fa6",
   "metadata": {},
   "outputs": [],
   "source": [
    "#정규분포를 가정하며, 집계한 광고수가 30개 미만이므로\n",
    "\n",
    "# t검정을 사용한다.\n",
    "# n이 30 이하이다. \n",
    "\n",
    "from scipy import stats\n",
    "\n",
    "mu = 15.5\n",
    "std = 3.2**1/2\n",
    "dof = 12-1\n",
    "\n",
    "print('신뢰구간:', stats.t.interval(alpha=0.9, loc=15.5, scale=std, df=11))"
   ]
  },
  {
   "cell_type": "code",
   "execution_count": null,
   "id": "d094f57d",
   "metadata": {},
   "outputs": [],
   "source": []
  },
  {
   "cell_type": "code",
   "execution_count": null,
   "id": "438aae67",
   "metadata": {},
   "outputs": [],
   "source": []
  }
 ],
 "metadata": {
  "kernelspec": {
   "display_name": "Python 3 (ipykernel)",
   "language": "python",
   "name": "python3"
  },
  "language_info": {
   "codemirror_mode": {
    "name": "ipython",
    "version": 3
   },
   "file_extension": ".py",
   "mimetype": "text/x-python",
   "name": "python",
   "nbconvert_exporter": "python",
   "pygments_lexer": "ipython3",
   "version": "3.7.16"
  },
  "toc": {
   "base_numbering": 1,
   "nav_menu": {},
   "number_sections": false,
   "sideBar": true,
   "skip_h1_title": false,
   "title_cell": "Table of Contents",
   "title_sidebar": "Contents",
   "toc_cell": false,
   "toc_position": {},
   "toc_section_display": true,
   "toc_window_display": false
  }
 },
 "nbformat": 4,
 "nbformat_minor": 5
}
