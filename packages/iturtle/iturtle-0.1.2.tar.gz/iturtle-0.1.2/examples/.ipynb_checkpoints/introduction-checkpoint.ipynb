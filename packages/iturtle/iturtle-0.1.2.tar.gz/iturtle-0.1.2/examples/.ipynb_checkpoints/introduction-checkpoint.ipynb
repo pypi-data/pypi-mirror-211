{
 "cells": [
  {
   "cell_type": "markdown",
   "metadata": {},
   "source": [
    "# Introduction"
   ]
  },
  {
   "cell_type": "markdown",
   "metadata": {},
   "source": [
    "The React Jupyter Widget keeps your JavaScript and Python state in sync."
   ]
  },
  {
   "cell_type": "code",
   "execution_count": 16,
   "metadata": {},
   "outputs": [
    {
     "data": {
      "application/vnd.jupyter.widget-view+json": {
       "model_id": "bebbc22a0a8c41d388d2a766dd16e96d",
       "version_major": 2,
       "version_minor": 0
      },
      "text/plain": [
       "Turtle()"
      ]
     },
     "metadata": {},
     "output_type": "display_data"
    }
   ],
   "source": [
    "from iturtle import Turtle\n",
    "\n",
    "t = Turtle()\n",
    "\n",
    "colors=[\"red\", \"blue\", \"yellow\", \"brown\", \"black\", \"purple\", \"green\"]\n",
    "\n",
    "t.speed(1)\n",
    "t.penup()\n",
    "t.left(90)\n",
    "t.forward(200)\n",
    "t.right(90)\n",
    "t.pendown()\n",
    "\n",
    "t.bgcolor('black')\n",
    "\n",
    "for i in range (0,18):\n",
    "    t.pencolor(colors[i%7])\n",
    "    t.right(20)\n",
    "    t.forward(50)\n",
    "\n",
    "t.right(180)\n",
    "t.home()"
   ]
  },
  {
   "cell_type": "code",
   "execution_count": null,
   "metadata": {},
   "outputs": [],
   "source": []
  },
  {
   "cell_type": "code",
   "execution_count": null,
   "metadata": {},
   "outputs": [],
   "source": []
  },
  {
   "cell_type": "code",
   "execution_count": null,
   "metadata": {
    "tags": []
   },
   "outputs": [],
   "source": []
  },
  {
   "cell_type": "code",
   "execution_count": null,
   "metadata": {},
   "outputs": [],
   "source": []
  },
  {
   "cell_type": "code",
   "execution_count": null,
   "metadata": {},
   "outputs": [],
   "source": [
    "colors=[\"red\", \"blue\", \"yellow\", \"brown\", \"black\", \"purple\", \"green\"]\n",
    "\n",
    "t.speed(1)\n",
    "t.penup()\n",
    "t.left(90)\n",
    "t.forward(200)\n",
    "t.right(90)\n",
    "t.pendown()\n",
    "\n",
    "t.bgcolor('black')\n",
    "\n",
    "for i in range (0,18):\n",
    "    t.pencolor(colors[i%7])\n",
    "    t.right(20)\n",
    "    t.forward(50)\n",
    "\n",
    "t.right(180)\n",
    "t.home()"
   ]
  },
  {
   "cell_type": "markdown",
   "metadata": {},
   "source": [
    "Run the cell below and type something new into the text input. "
   ]
  },
  {
   "cell_type": "code",
   "execution_count": null,
   "metadata": {},
   "outputs": [],
   "source": [
    "t.forward(200)"
   ]
  },
  {
   "cell_type": "markdown",
   "metadata": {},
   "source": [
    "# Spiral\n",
    "\n",
    "A simple and beautiful spiral with turtle module in Python"
   ]
  },
  {
   "cell_type": "code",
   "execution_count": 3,
   "metadata": {},
   "outputs": [
    {
     "data": {
      "application/vnd.jupyter.widget-view+json": {
       "model_id": "37ce4ef02942464190ac95e5998e71a0",
       "version_major": 2,
       "version_minor": 0
      },
      "text/plain": [
       "Turtle(actions=[{'type': <ActionType.MOVE_ABSOLUTE: 'M'>, 'pen': True, 'color': 'black', 'distance': 0, 'posit…"
      ]
     },
     "metadata": {},
     "output_type": "display_data"
    }
   ],
   "source": [
    "from iturtle import Turtle\n",
    "\n",
    "t = Turtle()\n",
    "\n",
    "display(t)"
   ]
  },
  {
   "cell_type": "code",
   "execution_count": 4,
   "metadata": {},
   "outputs": [],
   "source": [
    "t.speed(10)\n",
    "t.bgcolor('black')\n",
    "\n",
    "r, g, b = 255, 0, 0\n",
    "\n",
    "for i in range(255):\n",
    "    if i < 255//3:\n",
    "        g += 3\n",
    "    elif i < (255*2)//3:\n",
    "        r -= 3\n",
    "    elif i < 255:\n",
    "        b += 3\n",
    "    elif i < (255*4)//3:\n",
    "        g -= 3\n",
    "    elif i < (255*5)//3:\n",
    "        r += 3\n",
    "    else:\n",
    "        b -= 3\n",
    "        \n",
    "    t.forward(50+i)\n",
    "    t.right(91)\n",
    "    t.pencolor(r, g, b)"
   ]
  },
  {
   "cell_type": "code",
   "execution_count": null,
   "metadata": {},
   "outputs": [],
   "source": []
  }
 ],
 "metadata": {
  "kernelspec": {
   "display_name": "Python 3 (ipykernel)",
   "language": "python",
   "name": "python3"
  },
  "language_info": {
   "codemirror_mode": {
    "name": "ipython",
    "version": 3
   },
   "file_extension": ".py",
   "mimetype": "text/x-python",
   "name": "python",
   "nbconvert_exporter": "python",
   "pygments_lexer": "ipython3",
   "version": "3.11.0"
  },
  "widgets": {
   "application/vnd.jupyter.widget-state+json": {
    "state": {
     "02fc56378c2243e2aba6c8bd6669e975": {
      "model_module": "@jupyter-widgets/base",
      "model_module_version": "2.0.0",
      "model_name": "LayoutModel",
      "state": {}
     },
     "08376303869b4a23b869ea9fd6bdd8dc": {
      "model_module": "@jupyter-widgets/base",
      "model_module_version": "2.0.0",
      "model_name": "LayoutModel",
      "state": {}
     },
     "091a9f0eb3bb4618b6b6f8b83be1c193": {
      "model_module": "@jupyter-widgets/base",
      "model_module_version": "2.0.0",
      "model_name": "LayoutModel",
      "state": {}
     },
     "0f43fe4d45454022a199c70427b0254c": {
      "model_module": "iturtle",
      "model_module_version": "^0.1.0",
      "model_name": "TurtleModel",
      "state": {
       "_model_module_version": "^0.1.0",
       "_view_module_version": "^0.1.0",
       "actions": [
        {
         "color": "black",
         "distance": 0,
         "pen": true,
         "position": [
          400,
          300
         ],
         "type": "M",
         "velocity": 6
        },
        {
         "color": "black",
         "distance": 200,
         "pen": false,
         "position": [
          400,
          100
         ],
         "type": "M",
         "velocity": 1
        }
       ],
       "background": "black",
       "bearing": 0,
       "distance": 200,
       "height": 600,
       "layout": "IPY_MODEL_1795e0e80b594e0e96c0bd32036ace37",
       "velocity": 1,
       "width": 800,
       "x": 400,
       "y": 100
      }
     },
     "10cfbf445d754181ba5e779cd5e161ee": {
      "model_module": "iturtle",
      "model_module_version": "^0.1.0",
      "model_name": "TurtleModel",
      "state": {
       "_model_module_version": "^0.1.0",
       "_view_module_version": "^0.1.0",
       "actions": [
        {
         "color": "black",
         "distance": 0,
         "pen": true,
         "position": [
          400,
          300
         ],
         "type": "M",
         "velocity": 6
        },
        {
         "color": "black",
         "distance": 200,
         "pen": false,
         "position": [
          400,
          100
         ],
         "type": "M",
         "velocity": 1
        }
       ],
       "background": "black",
       "bearing": 0,
       "distance": 200,
       "height": 600,
       "layout": "IPY_MODEL_7da504665bf84b37bf93e764a54a97e0",
       "velocity": 1,
       "width": 800,
       "x": 400,
       "y": 100
      }
     },
     "16e0ab64327647f1b6d0caf8b653c70d": {
      "model_module": "@jupyter-widgets/base",
      "model_module_version": "2.0.0",
      "model_name": "LayoutModel",
      "state": {}
     },
     "1795e0e80b594e0e96c0bd32036ace37": {
      "model_module": "@jupyter-widgets/base",
      "model_module_version": "2.0.0",
      "model_name": "LayoutModel",
      "state": {}
     },
     "19f78bc6024e4ca0ab987b3b6a4f7e9b": {
      "model_module": "iturtle",
      "model_module_version": "^0.1.0",
      "model_name": "TurtleModel",
      "state": {
       "_model_module_version": "^0.1.0",
       "_view_module_version": "^0.1.0",
       "actions": [
        {
         "color": "black",
         "distance": 0,
         "pen": true,
         "position": [
          400,
          300
         ],
         "type": "M",
         "velocity": 6
        },
        {
         "color": "black",
         "distance": 200,
         "pen": false,
         "position": [
          400,
          100
         ],
         "type": "M",
         "velocity": 1
        }
       ],
       "background": "black",
       "bearing": 0,
       "distance": 200,
       "height": 600,
       "layout": "IPY_MODEL_16e0ab64327647f1b6d0caf8b653c70d",
       "velocity": 1,
       "width": 800,
       "x": 400,
       "y": 100
      }
     },
     "1fb8a03c4faa4fe78d2be9b1cd56eec9": {
      "model_module": "iturtle",
      "model_module_version": "^0.1.0",
      "model_name": "TurtleModel",
      "state": {
       "_model_module_version": "^0.1.0",
       "_view_module_version": "^0.1.0",
       "actions": [
        {
         "color": "black",
         "distance": 0,
         "pen": true,
         "position": [
          400,
          300
         ],
         "type": "M",
         "velocity": 6
        },
        {
         "color": "black",
         "distance": 200,
         "pen": false,
         "position": [
          400,
          100
         ],
         "type": "M",
         "velocity": 1
        }
       ],
       "background": "black",
       "bearing": 0,
       "distance": 200,
       "height": 600,
       "layout": "IPY_MODEL_08376303869b4a23b869ea9fd6bdd8dc",
       "velocity": 1,
       "width": 800,
       "x": 400,
       "y": 100
      }
     },
     "2530bfd518124b56a429c7fdff30803b": {
      "model_module": "@jupyter-widgets/base",
      "model_module_version": "2.0.0",
      "model_name": "LayoutModel",
      "state": {}
     },
     "33a922e72d6649b7b6774a2595133ebf": {
      "model_module": "@jupyter-widgets/base",
      "model_module_version": "2.0.0",
      "model_name": "LayoutModel",
      "state": {}
     },
     "3c85140668b9423c97ac13db6126bb61": {
      "model_module": "iturtle",
      "model_module_version": "^0.1.0",
      "model_name": "TurtleModel",
      "state": {
       "_model_module_version": "^0.1.0",
       "_view_module_version": "^0.1.0",
       "actions": [
        {
         "color": "black",
         "distance": 0,
         "pen": true,
         "position": [
          400,
          300
         ],
         "type": "M",
         "velocity": 6
        },
        {
         "color": "black",
         "distance": 200,
         "pen": false,
         "position": [
          400,
          100
         ],
         "type": "M",
         "velocity": 1
        }
       ],
       "background": "black",
       "bearing": 0,
       "distance": 200,
       "height": 600,
       "layout": "IPY_MODEL_706469ba6bb04f37a07be1bd9e200424",
       "velocity": 1,
       "width": 800,
       "x": 400,
       "y": 100
      }
     },
     "6750613d60f041f9bd45541ce2a7640f": {
      "model_module": "iturtle",
      "model_module_version": "^0.1.0",
      "model_name": "TurtleModel",
      "state": {
       "_model_module_version": "^0.1.0",
       "_view_module_version": "^0.1.0",
       "actions": [
        {
         "color": "black",
         "distance": 0,
         "pen": true,
         "position": [
          400,
          300
         ],
         "type": "M",
         "velocity": 6
        },
        {
         "color": "black",
         "distance": 200,
         "pen": false,
         "position": [
          400,
          100
         ],
         "type": "M",
         "velocity": 1
        }
       ],
       "background": "black",
       "bearing": 0,
       "distance": 200,
       "height": 600,
       "layout": "IPY_MODEL_eaec6fea09174f8e8d29bb8841b9d3cd",
       "velocity": 1,
       "width": 800,
       "x": 400,
       "y": 100
      }
     },
     "706469ba6bb04f37a07be1bd9e200424": {
      "model_module": "@jupyter-widgets/base",
      "model_module_version": "2.0.0",
      "model_name": "LayoutModel",
      "state": {}
     },
     "7da504665bf84b37bf93e764a54a97e0": {
      "model_module": "@jupyter-widgets/base",
      "model_module_version": "2.0.0",
      "model_name": "LayoutModel",
      "state": {}
     },
     "7deae8967fe54b48a16f60420ed5a2b0": {
      "model_module": "@jupyter-widgets/base",
      "model_module_version": "2.0.0",
      "model_name": "LayoutModel",
      "state": {}
     },
     "8335cc5ab69244c396ed6cfb0a501a02": {
      "model_module": "iturtle",
      "model_module_version": "^0.1.0",
      "model_name": "TurtleModel",
      "state": {
       "_model_module_version": "^0.1.0",
       "_view_module_version": "^0.1.0",
       "actions": [
        {
         "color": "black",
         "distance": 0,
         "pen": true,
         "position": [
          400,
          300
         ],
         "type": "M",
         "velocity": 6
        },
        {
         "color": "black",
         "distance": 200,
         "pen": false,
         "position": [
          400,
          100
         ],
         "type": "M",
         "velocity": 1
        }
       ],
       "background": "black",
       "bearing": 0,
       "distance": 200,
       "height": 600,
       "layout": "IPY_MODEL_7deae8967fe54b48a16f60420ed5a2b0",
       "velocity": 1,
       "width": 800,
       "x": 400,
       "y": 100
      }
     },
     "8d825ef0cce0407b81b9bb751d1f29ba": {
      "model_module": "@jupyter-widgets/base",
      "model_module_version": "2.0.0",
      "model_name": "LayoutModel",
      "state": {}
     },
     "8f397f137b7b497a884beb4d9935f82b": {
      "model_module": "iturtle",
      "model_module_version": "^0.1.0",
      "model_name": "TurtleModel",
      "state": {
       "_model_module_version": "^0.1.0",
       "_view_module_version": "^0.1.0",
       "actions": [
        {
         "color": "black",
         "distance": 0,
         "pen": true,
         "position": [
          400,
          300
         ],
         "type": "M",
         "velocity": 6
        },
        {
         "color": "black",
         "distance": 200,
         "pen": false,
         "position": [
          400,
          100
         ],
         "type": "M",
         "velocity": 1
        }
       ],
       "background": "black",
       "bearing": 0,
       "distance": 200,
       "height": 600,
       "layout": "IPY_MODEL_e9cf89e9a8844b239244415c875084fc",
       "velocity": 1,
       "width": 800,
       "x": 400,
       "y": 100
      }
     },
     "933d00c7d3064a12a579951fb9ee2151": {
      "model_module": "iturtle",
      "model_module_version": "^0.1.0",
      "model_name": "TurtleModel",
      "state": {
       "_model_module_version": "^0.1.0",
       "_view_module_version": "^0.1.0",
       "actions": [
        {
         "color": "black",
         "distance": 0,
         "pen": true,
         "position": [
          400,
          300
         ],
         "type": "M",
         "velocity": 6
        },
        {
         "color": "black",
         "distance": 200,
         "pen": false,
         "position": [
          400,
          100
         ],
         "type": "M",
         "velocity": 1
        }
       ],
       "background": "black",
       "bearing": 0,
       "distance": 200,
       "height": 600,
       "layout": "IPY_MODEL_b45e99bfbfd7422782299e35bf9385a9",
       "velocity": 1,
       "width": 800,
       "x": 400,
       "y": 100
      }
     },
     "b45e99bfbfd7422782299e35bf9385a9": {
      "model_module": "@jupyter-widgets/base",
      "model_module_version": "2.0.0",
      "model_name": "LayoutModel",
      "state": {}
     },
     "be80f19d665e41a69c9dd79222430ba0": {
      "model_module": "iturtle",
      "model_module_version": "^0.1.0",
      "model_name": "TurtleModel",
      "state": {
       "_model_module_version": "^0.1.0",
       "_view_module_version": "^0.1.0",
       "actions": [
        {
         "color": "black",
         "distance": 0,
         "pen": true,
         "position": [
          400,
          300
         ],
         "type": "M",
         "velocity": 6
        },
        {
         "color": "black",
         "distance": 200,
         "pen": false,
         "position": [
          400,
          100
         ],
         "type": "M",
         "velocity": 1
        }
       ],
       "background": "black",
       "bearing": 0,
       "distance": 200,
       "height": 600,
       "layout": "IPY_MODEL_8d825ef0cce0407b81b9bb751d1f29ba",
       "velocity": 1,
       "width": 800,
       "x": 400,
       "y": 100
      }
     },
     "bebbc22a0a8c41d388d2a766dd16e96d": {
      "model_module": "iturtle",
      "model_module_version": "^0.1.0",
      "model_name": "TurtleModel",
      "state": {
       "_model_module_version": "^0.1.0",
       "_view_module_version": "^0.1.0",
       "actions": [
        {
         "color": "black",
         "distance": 0,
         "pen": true,
         "position": [
          400,
          300
         ],
         "type": "M",
         "velocity": 6
        },
        {
         "color": "black",
         "distance": 200,
         "pen": false,
         "position": [
          400,
          100
         ],
         "type": "M",
         "velocity": 1
        }
       ],
       "background": "black",
       "bearing": 0,
       "distance": 200,
       "height": 600,
       "layout": "IPY_MODEL_fa99142c84b74e98b556bb3a78f5696e",
       "velocity": 1,
       "width": 800,
       "x": 400,
       "y": 100
      }
     },
     "c22ade2800674b4d9fd6abd4d7f72210": {
      "model_module": "iturtle",
      "model_module_version": "^0.1.0",
      "model_name": "TurtleModel",
      "state": {
       "_model_module_version": "^0.1.0",
       "_view_module_version": "^0.1.0",
       "actions": [
        {
         "color": "black",
         "distance": 0,
         "pen": true,
         "position": [
          400,
          300
         ],
         "type": "M",
         "velocity": 6
        },
        {
         "color": "black",
         "distance": 200,
         "pen": false,
         "position": [
          400,
          100
         ],
         "type": "M",
         "velocity": 1
        }
       ],
       "background": "black",
       "bearing": 0,
       "distance": 200,
       "height": 600,
       "layout": "IPY_MODEL_091a9f0eb3bb4618b6b6f8b83be1c193",
       "velocity": 1,
       "width": 800,
       "x": 400,
       "y": 100
      }
     },
     "c4cd74d6d6fe401eba3a792722f8ada2": {
      "model_module": "@jupyter-widgets/base",
      "model_module_version": "2.0.0",
      "model_name": "LayoutModel",
      "state": {}
     },
     "d1f68d656c16404c9e114997b0a5f44a": {
      "model_module": "iturtle",
      "model_module_version": "^0.1.0",
      "model_name": "TurtleModel",
      "state": {
       "_model_module_version": "^0.1.0",
       "_view_module_version": "^0.1.0",
       "actions": [
        {
         "color": "black",
         "distance": 0,
         "pen": true,
         "position": [
          400,
          300
         ],
         "type": "M",
         "velocity": 6
        },
        {
         "color": "black",
         "distance": 200,
         "pen": false,
         "position": [
          400,
          100
         ],
         "type": "M",
         "velocity": 1
        }
       ],
       "background": "black",
       "bearing": 0,
       "distance": 200,
       "height": 600,
       "layout": "IPY_MODEL_2530bfd518124b56a429c7fdff30803b",
       "velocity": 1,
       "width": 800,
       "x": 400,
       "y": 100
      }
     },
     "e25573542c294506b10c604cc8518060": {
      "model_module": "iturtle",
      "model_module_version": "^0.1.0",
      "model_name": "TurtleModel",
      "state": {
       "_model_module_version": "^0.1.0",
       "_view_module_version": "^0.1.0",
       "actions": [
        {
         "color": "black",
         "distance": 0,
         "pen": true,
         "position": [
          400,
          300
         ],
         "type": "M",
         "velocity": 6
        },
        {
         "color": "black",
         "distance": 200,
         "pen": false,
         "position": [
          400,
          100
         ],
         "type": "M",
         "velocity": 1
        }
       ],
       "background": "black",
       "bearing": 0,
       "distance": 200,
       "height": 600,
       "layout": "IPY_MODEL_33a922e72d6649b7b6774a2595133ebf",
       "velocity": 1,
       "width": 800,
       "x": 400,
       "y": 100
      }
     },
     "e364907407b24ff9b395245207c9abf2": {
      "model_module": "iturtle",
      "model_module_version": "^0.1.0",
      "model_name": "TurtleModel",
      "state": {
       "_model_module_version": "^0.1.0",
       "_view_module_version": "^0.1.0",
       "actions": [
        {
         "color": "black",
         "distance": 0,
         "pen": true,
         "position": [
          400,
          300
         ],
         "type": "M",
         "velocity": 6
        },
        {
         "color": "black",
         "distance": 200,
         "pen": false,
         "position": [
          400,
          100
         ],
         "type": "M",
         "velocity": 1
        }
       ],
       "background": "black",
       "bearing": 0,
       "distance": 200,
       "height": 600,
       "layout": "IPY_MODEL_c4cd74d6d6fe401eba3a792722f8ada2",
       "velocity": 1,
       "width": 800,
       "x": 400,
       "y": 100
      }
     },
     "e9cf89e9a8844b239244415c875084fc": {
      "model_module": "@jupyter-widgets/base",
      "model_module_version": "2.0.0",
      "model_name": "LayoutModel",
      "state": {}
     },
     "eaec6fea09174f8e8d29bb8841b9d3cd": {
      "model_module": "@jupyter-widgets/base",
      "model_module_version": "2.0.0",
      "model_name": "LayoutModel",
      "state": {}
     },
     "eda392047af340ae985331a7f7a936fa": {
      "model_module": "iturtle",
      "model_module_version": "^0.1.0",
      "model_name": "TurtleModel",
      "state": {
       "_model_module_version": "^0.1.0",
       "_view_module_version": "^0.1.0",
       "actions": [
        {
         "color": "black",
         "distance": 0,
         "pen": true,
         "position": [
          400,
          300
         ],
         "type": "M",
         "velocity": 6
        },
        {
         "color": "black",
         "distance": 200,
         "pen": false,
         "position": [
          400,
          100
         ],
         "type": "M",
         "velocity": 1
        }
       ],
       "background": "black",
       "bearing": 0,
       "distance": 200,
       "height": 600,
       "layout": "IPY_MODEL_02fc56378c2243e2aba6c8bd6669e975",
       "velocity": 1,
       "width": 800,
       "x": 400,
       "y": 100
      }
     },
     "fa99142c84b74e98b556bb3a78f5696e": {
      "model_module": "@jupyter-widgets/base",
      "model_module_version": "2.0.0",
      "model_name": "LayoutModel",
      "state": {}
     }
    },
    "version_major": 2,
    "version_minor": 0
   }
  }
 },
 "nbformat": 4,
 "nbformat_minor": 4
}
