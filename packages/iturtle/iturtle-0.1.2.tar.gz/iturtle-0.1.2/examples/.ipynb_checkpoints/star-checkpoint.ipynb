{
 "cells": [
  {
   "cell_type": "markdown",
   "id": "b2ad4acf-eac9-4276-a486-6f0b00fb39b4",
   "metadata": {
    "tags": []
   },
   "source": [
    "Turtle can draw intricate shapes using programs that repeat simple moves:"
   ]
  },
  {
   "cell_type": "code",
   "execution_count": 1,
   "id": "ff2efcc9-ef24-4e32-8ad6-286d9f8b5bce",
   "metadata": {},
   "outputs": [
    {
     "data": {
      "application/vnd.jupyter.widget-view+json": {
       "model_id": "cb824bf605804d71b8ad4cdeb6178d4e",
       "version_major": 2,
       "version_minor": 0
      },
      "text/plain": [
       "Turtle()"
      ]
     },
     "metadata": {},
     "output_type": "display_data"
    }
   ],
   "source": [
    "from iturtle import Turtle\n",
    "\n",
    "turtle = Turtle()\n",
    "turtle.pencolor(\"gold\")\n",
    "\n",
    "for i in range(36):\n",
    "    turtle.forward(300)\n",
    "    turtle.left(170)"
   ]
  },
  {
   "cell_type": "code",
   "execution_count": null,
   "id": "5d15820d-1564-43ab-b05d-3b7cdf6b4360",
   "metadata": {},
   "outputs": [],
   "source": []
  },
  {
   "cell_type": "code",
   "execution_count": null,
   "id": "05fc1348-7d84-4561-a889-d6e930f91ba0",
   "metadata": {},
   "outputs": [],
   "source": [
    "%pip install --upgrade iturtle"
   ]
  },
  {
   "cell_type": "code",
   "execution_count": null,
   "id": "714f0a6d-1408-4d9e-84a8-ad24b7b400cf",
   "metadata": {},
   "outputs": [],
   "source": []
  }
 ],
 "metadata": {
  "kernelspec": {
   "display_name": "Python 3 (ipykernel)",
   "language": "python",
   "name": "python3"
  },
  "language_info": {
   "codemirror_mode": {
    "name": "ipython",
    "version": 3
   },
   "file_extension": ".py",
   "mimetype": "text/x-python",
   "name": "python",
   "nbconvert_exporter": "python",
   "pygments_lexer": "ipython3",
   "version": "3.11.0"
  },
  "widgets": {
   "application/vnd.jupyter.widget-state+json": {
    "state": {
     "cb824bf605804d71b8ad4cdeb6178d4e": {
      "model_module": "iturtle",
      "model_module_version": "^0.1.0",
      "model_name": "TurtleModel",
      "state": {
       "_model_module_version": "^0.1.0",
       "_view_module_version": "^0.1.0",
       "actions": [
        {
         "color": "black",
         "distance": 0,
         "pen": true,
         "position": [
          400,
          250
         ],
         "type": "M",
         "velocity": 6
        },
        {
         "color": "gold",
         "distance": 300,
         "pen": true,
         "position": [
          700,
          250
         ],
         "type": "L",
         "velocity": 6
        },
        {
         "color": "gold",
         "distance": 300,
         "pen": true,
         "position": [
          405,
          198
         ],
         "type": "L",
         "velocity": 6
        },
        {
         "color": "gold",
         "distance": 300,
         "pen": true,
         "position": [
          687,
          301
         ],
         "type": "L",
         "velocity": 6
        },
        {
         "color": "gold",
         "distance": 300,
         "pen": true,
         "position": [
          427,
          151
         ],
         "type": "L",
         "velocity": 6
        },
        {
         "color": "gold",
         "distance": 300,
         "pen": true,
         "position": [
          657,
          344
         ],
         "type": "L",
         "velocity": 6
        },
        {
         "color": "gold",
         "distance": 300,
         "pen": true,
         "position": [
          464,
          114
         ],
         "type": "L",
         "velocity": 6
        },
        {
         "color": "gold",
         "distance": 300,
         "pen": true,
         "position": [
          614,
          374
         ],
         "type": "L",
         "velocity": 6
        },
        {
         "color": "gold",
         "distance": 300,
         "pen": true,
         "position": [
          511,
          92
         ],
         "type": "L",
         "velocity": 6
        },
        {
         "color": "gold",
         "distance": 300,
         "pen": true,
         "position": [
          563,
          387
         ],
         "type": "L",
         "velocity": 6
        },
        {
         "color": "gold",
         "distance": 300,
         "pen": true,
         "position": [
          563,
          87
         ],
         "type": "L",
         "velocity": 6
        },
        {
         "color": "gold",
         "distance": 300,
         "pen": true,
         "position": [
          511,
          382
         ],
         "type": "L",
         "velocity": 6
        },
        {
         "color": "gold",
         "distance": 300,
         "pen": true,
         "position": [
          614,
          100
         ],
         "type": "L",
         "velocity": 6
        },
        {
         "color": "gold",
         "distance": 300,
         "pen": true,
         "position": [
          464,
          360
         ],
         "type": "L",
         "velocity": 6
        },
        {
         "color": "gold",
         "distance": 300,
         "pen": true,
         "position": [
          657,
          130
         ],
         "type": "L",
         "velocity": 6
        },
        {
         "color": "gold",
         "distance": 300,
         "pen": true,
         "position": [
          427,
          323
         ],
         "type": "L",
         "velocity": 6
        },
        {
         "color": "gold",
         "distance": 300,
         "pen": true,
         "position": [
          687,
          173
         ],
         "type": "L",
         "velocity": 6
        },
        {
         "color": "gold",
         "distance": 300,
         "pen": true,
         "position": [
          405,
          276
         ],
         "type": "L",
         "velocity": 6
        },
        {
         "color": "gold",
         "distance": 300,
         "pen": true,
         "position": [
          700,
          224
         ],
         "type": "L",
         "velocity": 6
        },
        {
         "color": "gold",
         "distance": 300,
         "pen": true,
         "position": [
          400,
          224
         ],
         "type": "L",
         "velocity": 6
        },
        {
         "color": "gold",
         "distance": 300,
         "pen": true,
         "position": [
          695,
          276
         ],
         "type": "L",
         "velocity": 6
        },
        {
         "color": "gold",
         "distance": 300,
         "pen": true,
         "position": [
          413,
          173
         ],
         "type": "L",
         "velocity": 6
        },
        {
         "color": "gold",
         "distance": 300,
         "pen": true,
         "position": [
          673,
          323
         ],
         "type": "L",
         "velocity": 6
        },
        {
         "color": "gold",
         "distance": 300,
         "pen": true,
         "position": [
          443,
          130
         ],
         "type": "L",
         "velocity": 6
        },
        {
         "color": "gold",
         "distance": 300,
         "pen": true,
         "position": [
          636,
          360
         ],
         "type": "L",
         "velocity": 6
        },
        {
         "color": "gold",
         "distance": 300,
         "pen": true,
         "position": [
          486,
          100
         ],
         "type": "L",
         "velocity": 6
        },
        {
         "color": "gold",
         "distance": 300,
         "pen": true,
         "position": [
          589,
          382
         ],
         "type": "L",
         "velocity": 6
        },
        {
         "color": "gold",
         "distance": 300,
         "pen": true,
         "position": [
          537,
          87
         ],
         "type": "L",
         "velocity": 6
        },
        {
         "color": "gold",
         "distance": 300,
         "pen": true,
         "position": [
          537,
          387
         ],
         "type": "L",
         "velocity": 6
        },
        {
         "color": "gold",
         "distance": 300,
         "pen": true,
         "position": [
          589,
          92
         ],
         "type": "L",
         "velocity": 6
        },
        {
         "color": "gold",
         "distance": 300,
         "pen": true,
         "position": [
          486,
          374
         ],
         "type": "L",
         "velocity": 6
        },
        {
         "color": "gold",
         "distance": 300,
         "pen": true,
         "position": [
          636,
          114
         ],
         "type": "L",
         "velocity": 6
        },
        {
         "color": "gold",
         "distance": 300,
         "pen": true,
         "position": [
          443,
          344
         ],
         "type": "L",
         "velocity": 6
        },
        {
         "color": "gold",
         "distance": 300,
         "pen": true,
         "position": [
          673,
          151
         ],
         "type": "L",
         "velocity": 6
        },
        {
         "color": "gold",
         "distance": 300,
         "pen": true,
         "position": [
          413,
          301
         ],
         "type": "L",
         "velocity": 6
        },
        {
         "color": "gold",
         "distance": 300,
         "pen": true,
         "position": [
          695,
          198
         ],
         "type": "L",
         "velocity": 6
        },
        {
         "color": "gold",
         "distance": 300,
         "pen": true,
         "position": [
          400,
          250
         ],
         "type": "L",
         "velocity": 6
        }
       ],
       "background": "white",
       "bearing": 0,
       "distance": 300,
       "height": 500,
       "layout": "IPY_MODEL_ec874a2007fb47f099991a8b6a676bc0",
       "velocity": 6,
       "width": 800,
       "x": 400,
       "y": 250
      }
     },
     "ec874a2007fb47f099991a8b6a676bc0": {
      "model_module": "@jupyter-widgets/base",
      "model_module_version": "2.0.0",
      "model_name": "LayoutModel",
      "state": {}
     }
    },
    "version_major": 2,
    "version_minor": 0
   }
  }
 },
 "nbformat": 4,
 "nbformat_minor": 5
}
