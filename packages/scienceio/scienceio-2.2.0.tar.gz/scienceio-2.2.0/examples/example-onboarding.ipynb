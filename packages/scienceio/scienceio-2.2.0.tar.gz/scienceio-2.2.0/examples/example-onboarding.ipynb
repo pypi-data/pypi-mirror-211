{
 "cells": [
  {
   "cell_type": "markdown",
   "id": "6b6cc479",
   "metadata": {},
   "source": [
    "# ScienceIO API Setup\n",
    "\n",
    "In this demo, we'll:\n",
    "- Set up a user account\n",
    "- Make our first request\n",
    "- Put the request in a pandas dataframe"
   ]
  },
  {
   "cell_type": "code",
   "execution_count": 1,
   "id": "0e2efac9",
   "metadata": {},
   "outputs": [],
   "source": [
    "from scienceio import ScienceIO\n",
    "import pandas as pd\n",
    "from IPython.display import display, JSON"
   ]
  },
  {
   "cell_type": "markdown",
   "id": "1f73bd8d",
   "metadata": {},
   "source": [
    "## Set up an account"
   ]
  },
  {
   "cell_type": "code",
   "execution_count": 2,
   "id": "c35cbf25",
   "metadata": {},
   "outputs": [
    {
     "data": {
      "application/json": {
       "error": "user already exists"
      },
      "text/plain": [
       "<IPython.core.display.JSON object>"
      ]
     },
     "execution_count": 2,
     "metadata": {
      "application/json": {
       "expanded": true,
       "root": "root"
      }
     },
     "output_type": "execute_result"
    }
   ],
   "source": [
    "# Register an account\n",
    "ScienceIO.register(\n",
    "     first_name=\"Demo\",\n",
    "     last_name=\"User\",\n",
    "     email='gaurav+apidemo@science.io'\n",
    ")"
   ]
  },
  {
   "cell_type": "markdown",
   "id": "b8d4ee3d",
   "metadata": {},
   "source": [
    "You will be sent an email asking to verify your email.\n",
    "\n",
    "If the account already exists (based on the email), you will be notified and can proceed to logging in.\n",
    "\n",
    "Create a config file\n",
    "Create ~/.scio/config with the following content\n",
    "\n",
    "```\n",
    "[SETTINGS]\n",
    "email=gaurav+apidemo@science.io\n",
    "```"
   ]
  },
  {
   "cell_type": "markdown",
   "id": "f99019f8",
   "metadata": {},
   "source": [
    "## Make a request to the API"
   ]
  },
  {
   "cell_type": "code",
   "execution_count": 2,
   "id": "48c71a7b",
   "metadata": {
    "scrolled": true
   },
   "outputs": [],
   "source": [
    "# instantiate the API with your credentials\n",
    "scio = ScienceIO()"
   ]
  },
  {
   "cell_type": "code",
   "execution_count": 4,
   "id": "2940ae82",
   "metadata": {},
   "outputs": [
    {
     "name": "stdout",
     "output_type": "stream",
     "text": [
      "<class 'str'>\n"
     ]
    }
   ],
   "source": [
    "# Now we'll submit a query\n",
    "query_text = (\n",
    "        'The COVID-19 pandemic has shown a markedly low proportion of '\n",
    "        'cases among children 1–4. Age disparities in observed cases could be '\n",
    "        'explained by children having lower susceptibility to infection, lower '\n",
    "        'propensity to show clinical symptoms or both.'\n",
    "    )\n",
    "\n",
    "response_query = scio.annotate(text=query_text)"
   ]
  },
  {
   "cell_type": "code",
   "execution_count": 5,
   "id": "130f9ca5",
   "metadata": {},
   "outputs": [
    {
     "data": {
      "text/plain": [
       "['aggregations',\n",
       " 'annotations',\n",
       " 'billed_characters',\n",
       " 'characters',\n",
       " 'request_id',\n",
       " 'text']"
      ]
     },
     "execution_count": 5,
     "metadata": {},
     "output_type": "execute_result"
    }
   ],
   "source": [
    "# Let's check the keys\n",
    "list(response_query.keys())"
   ]
  },
  {
   "cell_type": "markdown",
   "id": "96665ce8",
   "metadata": {},
   "source": [
    "`text` is the original text submitted\n",
    "\n",
    "`request_id` is the unique ID for this request\n",
    "\n",
    "`characters` is the number of characters in text\n",
    "\n",
    "`billed_characters` is the number of characters billed (min: 300)\n",
    "\n",
    "`spans` is a list where each item is a biomedical concept identified by the model"
   ]
  },
  {
   "cell_type": "markdown",
   "id": "5b77228c",
   "metadata": {},
   "source": [
    "## Viewing the results"
   ]
  },
  {
   "cell_type": "code",
   "execution_count": 7,
   "id": "725befa0",
   "metadata": {
    "scrolled": true
   },
   "outputs": [
    {
     "data": {
      "text/html": [
       "<div>\n",
       "<style scoped>\n",
       "    .dataframe tbody tr th:only-of-type {\n",
       "        vertical-align: middle;\n",
       "    }\n",
       "\n",
       "    .dataframe tbody tr th {\n",
       "        vertical-align: top;\n",
       "    }\n",
       "\n",
       "    .dataframe thead th {\n",
       "        text-align: right;\n",
       "    }\n",
       "</style>\n",
       "<table border=\"1\" class=\"dataframe\">\n",
       "  <thead>\n",
       "    <tr style=\"text-align: right;\">\n",
       "      <th></th>\n",
       "      <th>annotation_id</th>\n",
       "      <th>concept_id</th>\n",
       "      <th>concept_name</th>\n",
       "      <th>concept_type</th>\n",
       "      <th>pos_end</th>\n",
       "      <th>pos_start</th>\n",
       "      <th>score_id</th>\n",
       "      <th>score_type</th>\n",
       "      <th>text</th>\n",
       "    </tr>\n",
       "  </thead>\n",
       "  <tbody>\n",
       "    <tr>\n",
       "      <th>0</th>\n",
       "      <td>1</td>\n",
       "      <td>UMLS:C5203670</td>\n",
       "      <td>COVID-19</td>\n",
       "      <td>medical_conditions</td>\n",
       "      <td>12</td>\n",
       "      <td>4</td>\n",
       "      <td>0.999740</td>\n",
       "      <td>0.999945</td>\n",
       "      <td>COVID-19</td>\n",
       "    </tr>\n",
       "    <tr>\n",
       "      <th>1</th>\n",
       "      <td>2</td>\n",
       "      <td>UMLS:C1615608</td>\n",
       "      <td>Pandemics</td>\n",
       "      <td>anatomy_&amp;_physiology</td>\n",
       "      <td>21</td>\n",
       "      <td>13</td>\n",
       "      <td>0.999759</td>\n",
       "      <td>0.999267</td>\n",
       "      <td>pandemic</td>\n",
       "    </tr>\n",
       "    <tr>\n",
       "      <th>2</th>\n",
       "      <td>3</td>\n",
       "      <td>UMLS:C0008059</td>\n",
       "      <td>Child</td>\n",
       "      <td>context</td>\n",
       "      <td>81</td>\n",
       "      <td>73</td>\n",
       "      <td>0.748147</td>\n",
       "      <td>0.739732</td>\n",
       "      <td>children</td>\n",
       "    </tr>\n",
       "    <tr>\n",
       "      <th>3</th>\n",
       "      <td>4</td>\n",
       "      <td>UMLS:C0001779</td>\n",
       "      <td>Age</td>\n",
       "      <td>anatomy_&amp;_physiology</td>\n",
       "      <td>90</td>\n",
       "      <td>87</td>\n",
       "      <td>0.999864</td>\n",
       "      <td>0.999896</td>\n",
       "      <td>Age</td>\n",
       "    </tr>\n",
       "    <tr>\n",
       "      <th>4</th>\n",
       "      <td>5</td>\n",
       "      <td>UMLS:C0008059</td>\n",
       "      <td>Child</td>\n",
       "      <td>context</td>\n",
       "      <td>151</td>\n",
       "      <td>143</td>\n",
       "      <td>0.741628</td>\n",
       "      <td>0.738316</td>\n",
       "      <td>children</td>\n",
       "    </tr>\n",
       "    <tr>\n",
       "      <th>5</th>\n",
       "      <td>6</td>\n",
       "      <td>UMLS:C0009450</td>\n",
       "      <td>Communicable Diseases</td>\n",
       "      <td>medical_conditions</td>\n",
       "      <td>192</td>\n",
       "      <td>183</td>\n",
       "      <td>0.676875</td>\n",
       "      <td>0.999863</td>\n",
       "      <td>infection</td>\n",
       "    </tr>\n",
       "  </tbody>\n",
       "</table>\n",
       "</div>"
      ],
      "text/plain": [
       "   annotation_id     concept_id           concept_name          concept_type  \\\n",
       "0              1  UMLS:C5203670               COVID-19    medical_conditions   \n",
       "1              2  UMLS:C1615608              Pandemics  anatomy_&_physiology   \n",
       "2              3  UMLS:C0008059                  Child               context   \n",
       "3              4  UMLS:C0001779                    Age  anatomy_&_physiology   \n",
       "4              5  UMLS:C0008059                  Child               context   \n",
       "5              6  UMLS:C0009450  Communicable Diseases    medical_conditions   \n",
       "\n",
       "   pos_end  pos_start  score_id  score_type       text  \n",
       "0       12          4  0.999740    0.999945   COVID-19  \n",
       "1       21         13  0.999759    0.999267   pandemic  \n",
       "2       81         73  0.748147    0.739732   children  \n",
       "3       90         87  0.999864    0.999896        Age  \n",
       "4      151        143  0.741628    0.738316   children  \n",
       "5      192        183  0.676875    0.999863  infection  "
      ]
     },
     "metadata": {},
     "output_type": "display_data"
    }
   ],
   "source": [
    "try:\n",
    "    import pandas as pd\n",
    "except:\n",
    "    !pip install pandas\n",
    "    import pandas as pd\n",
    "\n",
    "# We can pass `spans` directly to a dataframe\n",
    "df = pd.DataFrame(response_query['annotations'])\n",
    "display(df)"
   ]
  },
  {
   "cell_type": "code",
   "execution_count": null,
   "id": "ad18057d",
   "metadata": {},
   "outputs": [],
   "source": []
  }
 ],
 "metadata": {
  "kernelspec": {
   "display_name": "Python 3",
   "language": "python",
   "name": "python3"
  },
  "language_info": {
   "codemirror_mode": {
    "name": "ipython",
    "version": 3
   },
   "file_extension": ".py",
   "mimetype": "text/x-python",
   "name": "python",
   "nbconvert_exporter": "python",
   "pygments_lexer": "ipython3",
   "version": "3.7.10"
  }
 },
 "nbformat": 4,
 "nbformat_minor": 5
}