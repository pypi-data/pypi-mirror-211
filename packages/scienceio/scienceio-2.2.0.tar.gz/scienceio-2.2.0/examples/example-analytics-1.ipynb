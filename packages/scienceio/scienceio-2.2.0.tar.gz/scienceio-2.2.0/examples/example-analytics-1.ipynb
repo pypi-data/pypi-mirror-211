{
 "cells": [
  {
   "cell_type": "markdown",
   "id": "71721ea5",
   "metadata": {},
   "source": [
    "# ScienceIO API Analytics\n",
    "\n",
    "In this demo, we'll:\n",
    "- Log in with our user account\n",
    "- Make our first request\n",
    "- Put the request in a pandas dataframe and analyze"
   ]
  },
  {
   "cell_type": "code",
   "execution_count": 4,
   "id": "ef0e0120",
   "metadata": {},
   "outputs": [],
   "source": [
    "import pandas as pd\n",
    "import yaml\n",
    "from IPython.display import display, JSON\n",
    "\n",
    "from analytics import *\n",
    "from scienceio import ScienceIO"
   ]
  },
  {
   "cell_type": "markdown",
   "id": "94cc5460",
   "metadata": {},
   "source": [
    "## Initialize client"
   ]
  },
  {
   "cell_type": "code",
   "execution_count": 5,
   "id": "5f4b1da8",
   "metadata": {},
   "outputs": [],
   "source": [
    "scio = ScienceIO()"
   ]
  },
  {
   "cell_type": "markdown",
   "id": "0162577b",
   "metadata": {},
   "source": [
    "If the account already exists (based on the login), you will be notified and can proceed to logging in."
   ]
  },
  {
   "cell_type": "markdown",
   "id": "e3e971a2",
   "metadata": {},
   "source": [
    "## Make a request to the API"
   ]
  },
  {
   "cell_type": "code",
   "execution_count": 18,
   "id": "9c9ef413",
   "metadata": {},
   "outputs": [
    {
     "name": "stdout",
     "output_type": "stream",
     "text": [
      "<class 'str'>\n"
     ]
    }
   ],
   "source": [
    "# This is the text we'll send to the API\n",
    "query_text = (\n",
    "    \"\"\"\n",
    "    The COVID-19 pandemic has shown a markedly low proportion of \n",
    "    cases among children. Age disparities in observed COVID-19 cases could be \n",
    "    explained by children having lower susceptibility to infection, lower \n",
    "    propensity to show clinical symptoms or both. COVID-19 has shown to induce\n",
    "    Kawasaki syndrome in some children. Kawasaki (KD), or Mucocutaneous Lymph Node Syndrome\n",
    "    as it is often called, is an acute illness that affects mostly children 6 months to 5 years \n",
    "    old—median age in the KD cohort was 25 months—and features inflammation of small and medium \n",
    "    blood vessels. Although the cause of KD is unknown, it is believed to occur in genetically \n",
    "    predisposed children after exposure to an environmental trigger such as an infection.\n",
    "    \"\"\"\n",
    ")\n",
    "\n",
    "# Make a request\n",
    "response_query = scio.annotate(text=query_text)\n"
   ]
  },
  {
   "cell_type": "code",
   "execution_count": 19,
   "id": "42729b3c",
   "metadata": {},
   "outputs": [
    {
     "data": {
      "text/html": [
       "<div>\n",
       "<style scoped>\n",
       "    .dataframe tbody tr th:only-of-type {\n",
       "        vertical-align: middle;\n",
       "    }\n",
       "\n",
       "    .dataframe tbody tr th {\n",
       "        vertical-align: top;\n",
       "    }\n",
       "\n",
       "    .dataframe thead th {\n",
       "        text-align: right;\n",
       "    }\n",
       "</style>\n",
       "<table border=\"1\" class=\"dataframe\">\n",
       "  <thead>\n",
       "    <tr style=\"text-align: right;\">\n",
       "      <th></th>\n",
       "      <th>annotation_id</th>\n",
       "      <th>concept_id</th>\n",
       "      <th>concept_name</th>\n",
       "      <th>concept_type</th>\n",
       "      <th>pos_end</th>\n",
       "      <th>pos_start</th>\n",
       "      <th>score_id</th>\n",
       "      <th>score_type</th>\n",
       "      <th>text</th>\n",
       "    </tr>\n",
       "  </thead>\n",
       "  <tbody>\n",
       "    <tr>\n",
       "      <th>0</th>\n",
       "      <td>1</td>\n",
       "      <td>UMLS:C5203670</td>\n",
       "      <td>COVID-19</td>\n",
       "      <td>medical_conditions</td>\n",
       "      <td>14</td>\n",
       "      <td>6</td>\n",
       "      <td>Very High</td>\n",
       "      <td>Very High</td>\n",
       "      <td>COVID-19</td>\n",
       "    </tr>\n",
       "    <tr>\n",
       "      <th>1</th>\n",
       "      <td>2</td>\n",
       "      <td>UMLS:C1615608</td>\n",
       "      <td>Pandemics</td>\n",
       "      <td>anatomy_&amp;_physiology</td>\n",
       "      <td>23</td>\n",
       "      <td>15</td>\n",
       "      <td>Very High</td>\n",
       "      <td>Very High</td>\n",
       "      <td>pandemic</td>\n",
       "    </tr>\n",
       "    <tr>\n",
       "      <th>2</th>\n",
       "      <td>3</td>\n",
       "      <td>UMLS:C0008059</td>\n",
       "      <td>Child</td>\n",
       "      <td>context</td>\n",
       "      <td>85</td>\n",
       "      <td>77</td>\n",
       "      <td>Low</td>\n",
       "      <td>Low</td>\n",
       "      <td>children</td>\n",
       "    </tr>\n",
       "    <tr>\n",
       "      <th>3</th>\n",
       "      <td>4</td>\n",
       "      <td>UMLS:C0001779</td>\n",
       "      <td>Age</td>\n",
       "      <td>anatomy_&amp;_physiology</td>\n",
       "      <td>90</td>\n",
       "      <td>87</td>\n",
       "      <td>Very High</td>\n",
       "      <td>Very High</td>\n",
       "      <td>Age</td>\n",
       "    </tr>\n",
       "    <tr>\n",
       "      <th>4</th>\n",
       "      <td>5</td>\n",
       "      <td>UMLS:C5203670</td>\n",
       "      <td>COVID-19</td>\n",
       "      <td>medical_conditions</td>\n",
       "      <td>123</td>\n",
       "      <td>115</td>\n",
       "      <td>Very High</td>\n",
       "      <td>Very High</td>\n",
       "      <td>COVID-19</td>\n",
       "    </tr>\n",
       "  </tbody>\n",
       "</table>\n",
       "</div>"
      ],
      "text/plain": [
       "   annotation_id     concept_id concept_name          concept_type  pos_end  \\\n",
       "0              1  UMLS:C5203670     COVID-19    medical_conditions       14   \n",
       "1              2  UMLS:C1615608    Pandemics  anatomy_&_physiology       23   \n",
       "2              3  UMLS:C0008059        Child               context       85   \n",
       "3              4  UMLS:C0001779          Age  anatomy_&_physiology       90   \n",
       "4              5  UMLS:C5203670     COVID-19    medical_conditions      123   \n",
       "\n",
       "   pos_start   score_id score_type      text  \n",
       "0          6  Very High  Very High  COVID-19  \n",
       "1         15  Very High  Very High  pandemic  \n",
       "2         77        Low        Low  children  \n",
       "3         87  Very High  Very High       Age  \n",
       "4        115  Very High  Very High  COVID-19  "
      ]
     },
     "metadata": {},
     "output_type": "display_data"
    }
   ],
   "source": [
    "# We can pass `annotations` directly to a dataframe\n",
    "df = pd.DataFrame(response_query['annotations'])\n",
    "df = quantize_scores(df)\n",
    "display(df.head())"
   ]
  },
  {
   "cell_type": "markdown",
   "id": "0ccf79fd",
   "metadata": {},
   "source": [
    "## Viewing the results"
   ]
  },
  {
   "cell_type": "code",
   "execution_count": null,
   "id": "1898d2b1",
   "metadata": {},
   "outputs": [],
   "source": [
    "report(df)"
   ]
  },
  {
   "cell_type": "code",
   "execution_count": 5,
   "id": "4f1ecbfd",
   "metadata": {},
   "outputs": [
    {
     "data": {
      "text/plain": [
       "{'text': ['children',\n",
       "  'KD',\n",
       "  'COVID-19',\n",
       "  'infection',\n",
       "  'environmental',\n",
       "  'pandemic',\n",
       "  'inflammation',\n",
       "  'illness',\n",
       "  'features',\n",
       "  'Age'],\n",
       " 'mentions': [5, 3, 3, 2, 1, 1, 1, 1, 1, 1]}"
      ]
     },
     "execution_count": 5,
     "metadata": {},
     "output_type": "execute_result"
    }
   ],
   "source": [
    "# top mentions\n",
    "get_top_dict(df, \"text\")"
   ]
  },
  {
   "cell_type": "code",
   "execution_count": 6,
   "id": "477f7024",
   "metadata": {
    "scrolled": true
   },
   "outputs": [
    {
     "data": {
      "text/plain": [
       "{'concept_name': ['Mucocutaneous Lymph Node Syndrome',\n",
       "  'Child',\n",
       "  'COVID-19',\n",
       "  'Age',\n",
       "  'Communicable Diseases',\n",
       "  'Blood Vessel',\n",
       "  'Characteristics',\n",
       "  'Chronic disease',\n",
       "  'Cohort Studies',\n",
       "  'Environment'],\n",
       " 'mentions': [5, 4, 3, 2, 2, 1, 1, 1, 1, 1]}"
      ]
     },
     "execution_count": 6,
     "metadata": {},
     "output_type": "execute_result"
    }
   ],
   "source": [
    "# top concepts\n",
    "get_top_dict(df, \"concept_name\")"
   ]
  },
  {
   "cell_type": "code",
   "execution_count": 7,
   "id": "5af82530",
   "metadata": {},
   "outputs": [
    {
     "data": {
      "text/plain": [
       "{'concept_type': ['Medical Conditions',\n",
       "  'Context',\n",
       "  'Anatomy & Physiology',\n",
       "  'Species & Viruses'],\n",
       " 'mentions': [12, 7, 4, 3]}"
      ]
     },
     "execution_count": 7,
     "metadata": {},
     "output_type": "execute_result"
    }
   ],
   "source": [
    "# top concept types\n",
    "get_top_dict(df, \"concept_type\")"
   ]
  },
  {
   "cell_type": "code",
   "execution_count": 8,
   "id": "47e5b65a",
   "metadata": {},
   "outputs": [
    {
     "data": {
      "text/plain": [
       "{'Very High': 18, 'Low': 6, 'High': 1, 'Moderate': 1, 'Very Low': 0}"
      ]
     },
     "execution_count": 8,
     "metadata": {},
     "output_type": "execute_result"
    }
   ],
   "source": [
    "# count for score_id\n",
    "get_score_dict(df)"
   ]
  }
 ],
 "metadata": {
  "kernelspec": {
   "display_name": "Python 3",
   "language": "python",
   "name": "python3"
  },
  "language_info": {
   "codemirror_mode": {
    "name": "ipython",
    "version": 3
   },
   "file_extension": ".py",
   "mimetype": "text/x-python",
   "name": "python",
   "nbconvert_exporter": "python",
   "pygments_lexer": "ipython3",
   "version": "3.7.10"
  }
 },
 "nbformat": 4,
 "nbformat_minor": 5
}
