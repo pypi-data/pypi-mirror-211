{
 "cells": [
  {
   "cell_type": "code",
   "execution_count": 1,
   "metadata": {},
   "outputs": [],
   "source": [
    "import oyaml as yaml"
   ]
  },
  {
   "cell_type": "code",
   "execution_count": 2,
   "metadata": {},
   "outputs": [],
   "source": [
    "import json"
   ]
  },
  {
   "cell_type": "code",
   "execution_count": 3,
   "metadata": {},
   "outputs": [],
   "source": [
    "import io"
   ]
  },
  {
   "cell_type": "code",
   "execution_count": 4,
   "metadata": {},
   "outputs": [],
   "source": [
    "import boto3"
   ]
  },
  {
   "cell_type": "code",
   "execution_count": 5,
   "metadata": {},
   "outputs": [],
   "source": [
    "session = boto3.session.Session(profile_name=\"bijietech-dev\")"
   ]
  },
  {
   "cell_type": "code",
   "execution_count": 6,
   "metadata": {},
   "outputs": [],
   "source": [
    "iam = session.client(\"iam\")"
   ]
  },
  {
   "cell_type": "code",
   "execution_count": 7,
   "metadata": {
    "scrolled": false
   },
   "outputs": [
    {
     "data": {
      "text/plain": [
       "{'Role': {'Path': '/',\n",
       "  'RoleName': 'desmond.cao',\n",
       "  'RoleId': 'AROASQS2UI6PGZDCZNU75',\n",
       "  'Arn': 'arn:aws:iam::173062506398:role/desmond.cao',\n",
       "  'CreateDate': datetime.datetime(2020, 4, 2, 12, 57, 19, tzinfo=tzutc()),\n",
       "  'AssumeRolePolicyDocument': {'Version': '2012-10-17',\n",
       "   'Statement': [{'Effect': 'Allow',\n",
       "     'Principal': {'AWS': 'arn:aws:iam::982501509737:role/desmond.cao'},\n",
       "     'Action': 'sts:AssumeRole',\n",
       "     'Condition': {'StringLike': {'sts:RoleSessionName': 'desmond.cao@binance.com'}}}]},\n",
       "  'MaxSessionDuration': 14400,\n",
       "  'Tags': [{'Key': 'terraform', 'Value': 'y'},\n",
       "   {'Key': 'userrole', 'Value': 'y'}],\n",
       "  'RoleLastUsed': {'LastUsedDate': datetime.datetime(2023, 4, 26, 7, 34, 32, tzinfo=tzutc()),\n",
       "   'Region': 'us-east-1'}},\n",
       " 'ResponseMetadata': {'RequestId': 'cf820303-2abd-4958-92cd-a490af35ae1b',\n",
       "  'HTTPStatusCode': 200,\n",
       "  'HTTPHeaders': {'x-amzn-requestid': 'cf820303-2abd-4958-92cd-a490af35ae1b',\n",
       "   'content-type': 'text/xml',\n",
       "   'content-length': '1281',\n",
       "   'date': 'Wed, 26 Apr 2023 08:09:56 GMT'},\n",
       "  'RetryAttempts': 0}}"
      ]
     },
     "execution_count": 7,
     "metadata": {},
     "output_type": "execute_result"
    }
   ],
   "source": [
    "iam.get_role(RoleName=\"desmond.cao\")"
   ]
  },
  {
   "cell_type": "code",
   "execution_count": null,
   "metadata": {},
   "outputs": [],
   "source": []
  }
 ],
 "metadata": {
  "kernelspec": {
   "display_name": "Python 3 (ipykernel)",
   "language": "python",
   "name": "python3"
  },
  "language_info": {
   "codemirror_mode": {
    "name": "ipython",
    "version": 3
   },
   "file_extension": ".py",
   "mimetype": "text/x-python",
   "name": "python",
   "nbconvert_exporter": "python",
   "pygments_lexer": "ipython3",
   "version": "3.11.3"
  }
 },
 "nbformat": 4,
 "nbformat_minor": 4
}
