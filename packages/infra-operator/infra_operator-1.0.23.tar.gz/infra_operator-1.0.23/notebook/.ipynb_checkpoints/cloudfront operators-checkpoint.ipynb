{
 "cells": [
  {
   "cell_type": "code",
   "execution_count": 2,
   "metadata": {},
   "outputs": [],
   "source": [
    "import json"
   ]
  },
  {
   "cell_type": "code",
   "execution_count": 22,
   "metadata": {},
   "outputs": [],
   "source": [
    "sg = json.loads(\n",
    "\"\"\"\n",
    "{\n",
    "    \"Description\": \"managed by https://git.toolsfdg.net/devops/devops-infra\",\n",
    "    \"GroupId\": \"sg-08be772b5f4ace2ca\",\n",
    "    \"GroupName\": \"bin_dev_api_mapper_test_alb_sg\",\n",
    "    \"IpPermissions\": [\n",
    "        {\n",
    "            \"FromPort\": 80,\n",
    "            \"IpProtocol\": \"tcp\",\n",
    "            \"IpRanges\": [\n",
    "                {\n",
    "                    \"CidrIp\": \"172.21.0.0/16\",\n",
    "                    \"Description\": \"all vpc\"\n",
    "                }\n",
    "            ],\n",
    "            \"Ipv6Ranges\": [],\n",
    "            \"PrefixListIds\": [],\n",
    "            \"ToPort\": 80,\n",
    "            \"UserIdGroupPairs\": []\n",
    "        },\n",
    "        {\n",
    "            \"FromPort\": 443,\n",
    "            \"IpProtocol\": \"tcp\",\n",
    "            \"IpRanges\": [\n",
    "                {\n",
    "                    \"CidrIp\": \"172.21.0.0/16\",\n",
    "                    \"Description\": \"all vpc\"\n",
    "                }\n",
    "            ],\n",
    "            \"Ipv6Ranges\": [],\n",
    "            \"PrefixListIds\": [],\n",
    "            \"ToPort\": 443,\n",
    "            \"UserIdGroupPairs\": []\n",
    "        }\n",
    "    ],\n",
    "    \"IpPermissionsEgress\": [\n",
    "        {\n",
    "            \"IpProtocol\": \"-1\",\n",
    "            \"IpRanges\": [\n",
    "                {\n",
    "                    \"CidrIp\": \"0.0.0.0/0\"\n",
    "                }\n",
    "            ],\n",
    "            \"Ipv6Ranges\": [],\n",
    "            \"PrefixListIds\": [],\n",
    "            \"UserIdGroupPairs\": []\n",
    "        }\n",
    "    ],\n",
    "    \"OwnerId\": \"173062506398\",\n",
    "    \"Rules\": [\n",
    "        {\n",
    "            \"CidrIpv4\": \"0.0.0.0/0\",\n",
    "            \"FromPort\": -1,\n",
    "            \"GroupId\": \"sg-08be772b5f4ace2ca\",\n",
    "            \"GroupOwnerId\": \"173062506398\",\n",
    "            \"IpProtocol\": \"-1\",\n",
    "            \"IsEgress\": true,\n",
    "            \"SecurityGroupRuleId\": \"sgr-077f695704994f052\",\n",
    "            \"Tags\": [],\n",
    "            \"ToPort\": -1\n",
    "        },\n",
    "        {\n",
    "            \"CidrIpv4\": \"172.21.0.0/16\",\n",
    "            \"Description\": \"all vpc\",\n",
    "            \"FromPort\": 80,\n",
    "            \"GroupId\": \"sg-08be772b5f4ace2ca\",\n",
    "            \"GroupOwnerId\": \"173062506398\",\n",
    "            \"IpProtocol\": \"tcp\",\n",
    "            \"IsEgress\": false,\n",
    "            \"SecurityGroupRuleId\": \"sgr-05e2f1508738ea3b5\",\n",
    "            \"Tags\": [\n",
    "                {\n",
    "                    \"Key\": \"prow-pipeline\",\n",
    "                    \"Value\": \"y\"\n",
    "                },\n",
    "                {\n",
    "                    \"Key\": \"engine\",\n",
    "                    \"Value\": \"devops-infra\"\n",
    "                },\n",
    "                {\n",
    "                    \"Key\": \"terraform\",\n",
    "                    \"Value\": \"y\"\n",
    "                }\n",
    "            ],\n",
    "            \"ToPort\": 80\n",
    "        },\n",
    "        {\n",
    "            \"CidrIpv4\": \"172.21.0.0/16\",\n",
    "            \"Description\": \"all vpc\",\n",
    "            \"FromPort\": 443,\n",
    "            \"GroupId\": \"sg-08be772b5f4ace2ca\",\n",
    "            \"GroupOwnerId\": \"173062506398\",\n",
    "            \"IpProtocol\": \"tcp\",\n",
    "            \"IsEgress\": false,\n",
    "            \"SecurityGroupRuleId\": \"sgr-0b9b9b356722e2ecf\",\n",
    "            \"Tags\": [\n",
    "                {\n",
    "                    \"Key\": \"prow-pipeline\",\n",
    "                    \"Value\": \"y\"\n",
    "                },\n",
    "                {\n",
    "                    \"Key\": \"engine\",\n",
    "                    \"Value\": \"devops-infra\"\n",
    "                },\n",
    "                {\n",
    "                    \"Key\": \"terraform\",\n",
    "                    \"Value\": \"y\"\n",
    "                }\n",
    "            ],\n",
    "            \"ToPort\": 443\n",
    "        }\n",
    "    ],\n",
    "    \"Tags\": [\n",
    "        {\n",
    "            \"Key\": \"prow-pipeline\",\n",
    "            \"Value\": \"y\"\n",
    "        },\n",
    "        {\n",
    "            \"Key\": \"env\",\n",
    "            \"Value\": \"dev\"\n",
    "        },\n",
    "        {\n",
    "            \"Key\": \"terraform\",\n",
    "            \"Value\": \"y\"\n",
    "        },\n",
    "        {\n",
    "            \"Key\": \"engine\",\n",
    "            \"Value\": \"devops-infra\"\n",
    "        },\n",
    "        {\n",
    "            \"Key\": \"devops-infra-service\",\n",
    "            \"Value\": \"api-mapper-test\"\n",
    "        }\n",
    "    ],\n",
    "    \"VpcId\": \"vpc-06e7bab377f9cb4e9\"\n",
    "}\n",
    "\"\"\")"
   ]
  },
  {
   "cell_type": "code",
   "execution_count": 12,
   "metadata": {
    "scrolled": true
   },
   "outputs": [
    {
     "data": {
      "text/plain": [
       "{'Description': 'managed by https://git.toolsfdg.net/devops/devops-infra',\n",
       " 'GroupId': 'sg-08be772b5f4ace2ca',\n",
       " 'GroupName': 'bin_dev_api_mapper_test_alb_sg',\n",
       " 'IpPermissions': [{'FromPort': 80,\n",
       "   'IpProtocol': 'tcp',\n",
       "   'IpRanges': [{'CidrIp': '172.21.0.0/16', 'Description': 'all vpc'}],\n",
       "   'Ipv6Ranges': [],\n",
       "   'PrefixListIds': [],\n",
       "   'ToPort': 80,\n",
       "   'UserIdGroupPairs': []},\n",
       "  {'FromPort': 443,\n",
       "   'IpProtocol': 'tcp',\n",
       "   'IpRanges': [{'CidrIp': '172.21.0.0/16', 'Description': 'all vpc'}],\n",
       "   'Ipv6Ranges': [],\n",
       "   'PrefixListIds': [],\n",
       "   'ToPort': 443,\n",
       "   'UserIdGroupPairs': []}],\n",
       " 'IpPermissionsEgress': [{'IpProtocol': '-1',\n",
       "   'IpRanges': [{'CidrIp': '0.0.0.0/0'}],\n",
       "   'Ipv6Ranges': [],\n",
       "   'PrefixListIds': [],\n",
       "   'UserIdGroupPairs': []}],\n",
       " 'OwnerId': '173062506398',\n",
       " 'Rules': [{'CidrIpv4': '0.0.0.0/0',\n",
       "   'FromPort': -1,\n",
       "   'GroupId': 'sg-08be772b5f4ace2ca',\n",
       "   'GroupOwnerId': '173062506398',\n",
       "   'IpProtocol': '-1',\n",
       "   'IsEgress': True,\n",
       "   'SecurityGroupRuleId': 'sgr-077f695704994f052',\n",
       "   'Tags': [],\n",
       "   'ToPort': -1},\n",
       "  {'CidrIpv4': '172.21.0.0/16',\n",
       "   'Description': 'all vpc',\n",
       "   'FromPort': 80,\n",
       "   'GroupId': 'sg-08be772b5f4ace2ca',\n",
       "   'GroupOwnerId': '173062506398',\n",
       "   'IpProtocol': 'tcp',\n",
       "   'IsEgress': False,\n",
       "   'SecurityGroupRuleId': 'sgr-05e2f1508738ea3b5',\n",
       "   'Tags': [{'Key': 'prow-pipeline', 'Value': 'y'},\n",
       "    {'Key': 'engine', 'Value': 'devops-infra'},\n",
       "    {'Key': 'terraform', 'Value': 'y'}],\n",
       "   'ToPort': 80},\n",
       "  {'CidrIpv4': '172.21.0.0/16',\n",
       "   'Description': 'all vpc',\n",
       "   'FromPort': 443,\n",
       "   'GroupId': 'sg-08be772b5f4ace2ca',\n",
       "   'GroupOwnerId': '173062506398',\n",
       "   'IpProtocol': 'tcp',\n",
       "   'IsEgress': False,\n",
       "   'SecurityGroupRuleId': 'sgr-0b9b9b356722e2ecf',\n",
       "   'Tags': [{'Key': 'prow-pipeline', 'Value': 'y'},\n",
       "    {'Key': 'engine', 'Value': 'devops-infra'},\n",
       "    {'Key': 'terraform', 'Value': 'y'}],\n",
       "   'ToPort': 443}],\n",
       " 'Tags': [{'Key': 'prow-pipeline', 'Value': 'y'},\n",
       "  {'Key': 'env', 'Value': 'dev'},\n",
       "  {'Key': 'terraform', 'Value': 'y'},\n",
       "  {'Key': 'engine', 'Value': 'devops-infra'},\n",
       "  {'Key': 'devops-infra-service', 'Value': 'api-mapper-test'}],\n",
       " 'VpcId': 'vpc-06e7bab377f9cb4e9'}"
      ]
     },
     "execution_count": 12,
     "metadata": {},
     "output_type": "execute_result"
    }
   ],
   "source": [
    "sg"
   ]
  },
  {
   "cell_type": "code",
   "execution_count": 14,
   "metadata": {},
   "outputs": [
    {
     "data": {
      "text/plain": [
       "[{'CidrIpv4': '172.21.0.0/16',\n",
       "  'Description': 'all vpc',\n",
       "  'FromPort': 80,\n",
       "  'GroupId': 'sg-08be772b5f4ace2ca',\n",
       "  'GroupOwnerId': '173062506398',\n",
       "  'IpProtocol': 'tcp',\n",
       "  'IsEgress': False,\n",
       "  'SecurityGroupRuleId': 'sgr-05e2f1508738ea3b5',\n",
       "  'Tags': [{'Key': 'prow-pipeline', 'Value': 'y'},\n",
       "   {'Key': 'engine', 'Value': 'devops-infra'},\n",
       "   {'Key': 'terraform', 'Value': 'y'}],\n",
       "  'ToPort': 80},\n",
       " {'CidrIpv4': '0.0.0.0/0',\n",
       "  'FromPort': -1,\n",
       "  'GroupId': 'sg-08be772b5f4ace2ca',\n",
       "  'GroupOwnerId': '173062506398',\n",
       "  'IpProtocol': '-1',\n",
       "  'IsEgress': True,\n",
       "  'SecurityGroupRuleId': 'sgr-077f695704994f052',\n",
       "  'Tags': [],\n",
       "  'ToPort': -1},\n",
       " {'CidrIpv4': '172.21.0.0/16',\n",
       "  'Description': 'all vpc',\n",
       "  'FromPort': 443,\n",
       "  'GroupId': 'sg-08be772b5f4ace2ca',\n",
       "  'GroupOwnerId': '173062506398',\n",
       "  'IpProtocol': 'tcp',\n",
       "  'IsEgress': False,\n",
       "  'SecurityGroupRuleId': 'sgr-0b9b9b356722e2ecf',\n",
       "  'Tags': [{'Key': 'prow-pipeline', 'Value': 'y'},\n",
       "   {'Key': 'engine', 'Value': 'devops-infra'},\n",
       "   {'Key': 'terraform', 'Value': 'y'}],\n",
       "  'ToPort': 443}]"
      ]
     },
     "execution_count": 14,
     "metadata": {},
     "output_type": "execute_result"
    }
   ],
   "source": [
    "sorted(sg[\"Rules\"], key=lambda rule: rule[\"GroupId\"])"
   ]
  },
  {
   "cell_type": "code",
   "execution_count": 16,
   "metadata": {},
   "outputs": [
    {
     "data": {
      "text/plain": [
       "list"
      ]
     },
     "execution_count": 16,
     "metadata": {},
     "output_type": "execute_result"
    }
   ],
   "source": [
    "type(sg[\"Rules\"])"
   ]
  },
  {
   "cell_type": "code",
   "execution_count": 23,
   "metadata": {},
   "outputs": [],
   "source": [
    "sg[\"Rules\"].sort(key=lambda rule: rule[\"SecurityGroupRuleId\"])"
   ]
  },
  {
   "cell_type": "code",
   "execution_count": 24,
   "metadata": {},
   "outputs": [
    {
     "data": {
      "text/plain": [
       "[{'CidrIpv4': '172.21.0.0/16',\n",
       "  'Description': 'all vpc',\n",
       "  'FromPort': 80,\n",
       "  'GroupId': 'sg-08be772b5f4ace2ca',\n",
       "  'GroupOwnerId': '173062506398',\n",
       "  'IpProtocol': 'tcp',\n",
       "  'IsEgress': False,\n",
       "  'SecurityGroupRuleId': 'sgr-05e2f1508738ea3b5',\n",
       "  'Tags': [{'Key': 'prow-pipeline', 'Value': 'y'},\n",
       "   {'Key': 'engine', 'Value': 'devops-infra'},\n",
       "   {'Key': 'terraform', 'Value': 'y'}],\n",
       "  'ToPort': 80},\n",
       " {'CidrIpv4': '0.0.0.0/0',\n",
       "  'FromPort': -1,\n",
       "  'GroupId': 'sg-08be772b5f4ace2ca',\n",
       "  'GroupOwnerId': '173062506398',\n",
       "  'IpProtocol': '-1',\n",
       "  'IsEgress': True,\n",
       "  'SecurityGroupRuleId': 'sgr-077f695704994f052',\n",
       "  'Tags': [],\n",
       "  'ToPort': -1},\n",
       " {'CidrIpv4': '172.21.0.0/16',\n",
       "  'Description': 'all vpc',\n",
       "  'FromPort': 443,\n",
       "  'GroupId': 'sg-08be772b5f4ace2ca',\n",
       "  'GroupOwnerId': '173062506398',\n",
       "  'IpProtocol': 'tcp',\n",
       "  'IsEgress': False,\n",
       "  'SecurityGroupRuleId': 'sgr-0b9b9b356722e2ecf',\n",
       "  'Tags': [{'Key': 'prow-pipeline', 'Value': 'y'},\n",
       "   {'Key': 'engine', 'Value': 'devops-infra'},\n",
       "   {'Key': 'terraform', 'Value': 'y'}],\n",
       "  'ToPort': 443}]"
      ]
     },
     "execution_count": 24,
     "metadata": {},
     "output_type": "execute_result"
    }
   ],
   "source": [
    "sg[\"Rules\"]"
   ]
  },
  {
   "cell_type": "code",
   "execution_count": 26,
   "metadata": {},
   "outputs": [],
   "source": [
    "sg = json.loads(\"\"\"\n",
    "{\"Description\": \"managed by https://git.toolsfdg.net/devops/devops-infra\", \"GroupName\": \"bin_dev_api_mapper_test_alb_sg\", \"IpPermissions\": [{\"FromPort\": 80, \"IpProtocol\": \"tcp\", \"IpRanges\": [{\"CidrIp\": \"172.21.0.0/16\", \"Description\": \"all vpc\"}], \"Ipv6Ranges\": [], \"PrefixListIds\": [], \"ToPort\": 80, \"UserIdGroupPairs\": []}, {\"FromPort\": 443, \"IpProtocol\": \"tcp\", \"IpRanges\": [{\"CidrIp\": \"172.21.0.0/16\", \"Description\": \"all vpc\"}], \"Ipv6Ranges\": [], \"PrefixListIds\": [], \"ToPort\": 443, \"UserIdGroupPairs\": []}], \"IpPermissionsEgress\": [{\"IpProtocol\": \"-1\", \"IpRanges\": [{\"CidrIp\": \"0.0.0.0/0\"}], \"Ipv6Ranges\": [], \"PrefixListIds\": [], \"UserIdGroupPairs\": []}], \"Tags\": [{\"Key\": \"prow-pipeline\", \"Value\": \"y\"}, {\"Key\": \"env\", \"Value\": \"dev\"}, {\"Key\": \"terraform\", \"Value\": \"y\"}, {\"Key\": \"engine\", \"Value\": \"devops-infra\"}, {\"Key\": \"devops-infra-service\", \"Value\": \"api-mapper-test\"}], \"VpcId\": \"vpc-06e7bab377f9cb4e9\", \"Rules\": [{\"IsEgress\": false, \"IpProtocol\": \"tcp\", \"FromPort\": 443, \"ToPort\": 443, \"CidrIpv4\": \"172.21.0.0/16\", \"Description\": \"all vpc\", \"Tags\": [{\"Key\": \"prow-pipeline\", \"Value\": \"y\"}, {\"Key\": \"engine\", \"Value\": \"devops-infra\"}, {\"Key\": \"terraform\", \"Value\": \"y\"}]}, {\"IsEgress\": true, \"IpProtocol\": \"-1\", \"FromPort\": -1, \"ToPort\": -1, \"CidrIpv4\": \"0.0.0.0/0\", \"Tags\": []}, {\"IsEgress\": false, \"IpProtocol\": \"tcp\", \"FromPort\": 80, \"ToPort\": 80, \"CidrIpv4\": \"172.21.0.0/16\", \"Description\": \"all vpc\", \"Tags\": [{\"Key\": \"prow-pipeline\", \"Value\": \"y\"}, {\"Key\": \"engine\", \"Value\": \"devops-infra\"}, {\"Key\": \"terraform\", \"Value\": \"y\"}]}]}\n",
    "\"\"\")"
   ]
  },
  {
   "cell_type": "code",
   "execution_count": 27,
   "metadata": {},
   "outputs": [],
   "source": [
    "sg[\"Rules\"].sort(key=lambda rule: (rule[\"IsEgress\"], rule[\"IpProtocol\"],\n",
    "               rule[\"FromPort\"], rule[\"ToPort\"], rule.get(\"CidrIpv4\")))"
   ]
  },
  {
   "cell_type": "code",
   "execution_count": 30,
   "metadata": {},
   "outputs": [
    {
     "data": {
      "text/plain": [
       "{'Description': 'managed by https://git.toolsfdg.net/devops/devops-infra',\n",
       " 'GroupName': 'bin_dev_api_mapper_test_alb_sg',\n",
       " 'IpPermissions': [{'FromPort': 80,\n",
       "   'IpProtocol': 'tcp',\n",
       "   'IpRanges': [{'CidrIp': '172.21.0.0/16', 'Description': 'all vpc'}],\n",
       "   'Ipv6Ranges': [],\n",
       "   'PrefixListIds': [],\n",
       "   'ToPort': 80,\n",
       "   'UserIdGroupPairs': []},\n",
       "  {'FromPort': 443,\n",
       "   'IpProtocol': 'tcp',\n",
       "   'IpRanges': [{'CidrIp': '172.21.0.0/16', 'Description': 'all vpc'}],\n",
       "   'Ipv6Ranges': [],\n",
       "   'PrefixListIds': [],\n",
       "   'ToPort': 443,\n",
       "   'UserIdGroupPairs': []}],\n",
       " 'IpPermissionsEgress': [{'IpProtocol': '-1',\n",
       "   'IpRanges': [{'CidrIp': '0.0.0.0/0'}],\n",
       "   'Ipv6Ranges': [],\n",
       "   'PrefixListIds': [],\n",
       "   'UserIdGroupPairs': []}],\n",
       " 'Tags': [{'Key': 'prow-pipeline', 'Value': 'y'},\n",
       "  {'Key': 'env', 'Value': 'dev'},\n",
       "  {'Key': 'terraform', 'Value': 'y'},\n",
       "  {'Key': 'engine', 'Value': 'devops-infra'},\n",
       "  {'Key': 'devops-infra-service', 'Value': 'api-mapper-test'}],\n",
       " 'VpcId': 'vpc-06e7bab377f9cb4e9',\n",
       " 'Rules': [{'IsEgress': False,\n",
       "   'IpProtocol': 'tcp',\n",
       "   'FromPort': 80,\n",
       "   'ToPort': 80,\n",
       "   'CidrIpv4': '172.21.0.0/16',\n",
       "   'Description': 'all vpc',\n",
       "   'Tags': [{'Key': 'prow-pipeline', 'Value': 'y'},\n",
       "    {'Key': 'engine', 'Value': 'devops-infra'},\n",
       "    {'Key': 'terraform', 'Value': 'y'}]},\n",
       "  {'IsEgress': False,\n",
       "   'IpProtocol': 'tcp',\n",
       "   'FromPort': 443,\n",
       "   'ToPort': 443,\n",
       "   'CidrIpv4': '172.21.0.0/16',\n",
       "   'Description': 'all vpc',\n",
       "   'Tags': [{'Key': 'prow-pipeline', 'Value': 'y'},\n",
       "    {'Key': 'engine', 'Value': 'devops-infra'},\n",
       "    {'Key': 'terraform', 'Value': 'y'}]},\n",
       "  {'IsEgress': True,\n",
       "   'IpProtocol': '-1',\n",
       "   'FromPort': -1,\n",
       "   'ToPort': -1,\n",
       "   'CidrIpv4': '0.0.0.0/0',\n",
       "   'Tags': []}]}"
      ]
     },
     "execution_count": 30,
     "metadata": {},
     "output_type": "execute_result"
    }
   ],
   "source": [
    "sg"
   ]
  },
  {
   "cell_type": "code",
   "execution_count": 29,
   "metadata": {},
   "outputs": [],
   "source": [
    "def sort_keys_all(keys, content, key=None):\n",
    "    if type(content) == dict:\n",
    "        return {k: sorted(v, key=key) if k in keys else sort_keys_all(keys, v) for k, v in content.items()}\n",
    "    elif type(content) == list:\n",
    "        return [sort_keys_all(keys, one) for one in content]\n",
    "    else:\n",
    "        return content"
   ]
  },
  {
   "cell_type": "code",
   "execution_count": 32,
   "metadata": {},
   "outputs": [
    {
     "data": {
      "text/plain": [
       "[1, 2, 3, 4]"
      ]
     },
     "execution_count": 32,
     "metadata": {},
     "output_type": "execute_result"
    }
   ],
   "source": [
    "sorted([1,2,3,4])"
   ]
  },
  {
   "cell_type": "code",
   "execution_count": 31,
   "metadata": {},
   "outputs": [
    {
     "ename": "TypeError",
     "evalue": "'<' not supported between instances of 'dict' and 'dict'",
     "output_type": "error",
     "traceback": [
      "\u001b[0;31m---------------------------------------------------------------------------\u001b[0m",
      "\u001b[0;31mTypeError\u001b[0m                                 Traceback (most recent call last)",
      "\u001b[0;32m<ipython-input-31-a3b5842c9b3a>\u001b[0m in \u001b[0;36m<module>\u001b[0;34m\u001b[0m\n\u001b[0;32m----> 1\u001b[0;31m \u001b[0msort_keys_all\u001b[0m\u001b[0;34m(\u001b[0m\u001b[0;34m[\u001b[0m\u001b[0;34m\"Tags\"\u001b[0m\u001b[0;34m]\u001b[0m\u001b[0;34m,\u001b[0m \u001b[0msg\u001b[0m\u001b[0;34m,\u001b[0m \u001b[0mkey\u001b[0m\u001b[0;34m=\u001b[0m\u001b[0;32mlambda\u001b[0m \u001b[0mone\u001b[0m\u001b[0;34m:\u001b[0m \u001b[0mone\u001b[0m\u001b[0;34m[\u001b[0m\u001b[0;34m\"Key\"\u001b[0m\u001b[0;34m]\u001b[0m\u001b[0;34m)\u001b[0m\u001b[0;34m\u001b[0m\u001b[0;34m\u001b[0m\u001b[0m\n\u001b[0m",
      "\u001b[0;32m<ipython-input-29-f871ec9e0bb0>\u001b[0m in \u001b[0;36msort_keys_all\u001b[0;34m(keys, content, key)\u001b[0m\n\u001b[1;32m      1\u001b[0m \u001b[0;32mdef\u001b[0m \u001b[0msort_keys_all\u001b[0m\u001b[0;34m(\u001b[0m\u001b[0mkeys\u001b[0m\u001b[0;34m,\u001b[0m \u001b[0mcontent\u001b[0m\u001b[0;34m,\u001b[0m \u001b[0mkey\u001b[0m\u001b[0;34m=\u001b[0m\u001b[0;32mNone\u001b[0m\u001b[0;34m)\u001b[0m\u001b[0;34m:\u001b[0m\u001b[0;34m\u001b[0m\u001b[0;34m\u001b[0m\u001b[0m\n\u001b[1;32m      2\u001b[0m     \u001b[0;32mif\u001b[0m \u001b[0mtype\u001b[0m\u001b[0;34m(\u001b[0m\u001b[0mcontent\u001b[0m\u001b[0;34m)\u001b[0m \u001b[0;34m==\u001b[0m \u001b[0mdict\u001b[0m\u001b[0;34m:\u001b[0m\u001b[0;34m\u001b[0m\u001b[0;34m\u001b[0m\u001b[0m\n\u001b[0;32m----> 3\u001b[0;31m         \u001b[0;32mreturn\u001b[0m \u001b[0;34m{\u001b[0m\u001b[0mk\u001b[0m\u001b[0;34m:\u001b[0m \u001b[0msort_keys_all\u001b[0m\u001b[0;34m(\u001b[0m\u001b[0mkeys\u001b[0m\u001b[0;34m,\u001b[0m \u001b[0msorted\u001b[0m\u001b[0;34m(\u001b[0m\u001b[0mv\u001b[0m\u001b[0;34m,\u001b[0m \u001b[0mkey\u001b[0m\u001b[0;34m=\u001b[0m\u001b[0mkey\u001b[0m\u001b[0;34m)\u001b[0m \u001b[0;32mif\u001b[0m \u001b[0mk\u001b[0m \u001b[0;32min\u001b[0m \u001b[0mkeys\u001b[0m \u001b[0;32melse\u001b[0m \u001b[0mv\u001b[0m\u001b[0;34m)\u001b[0m \u001b[0;32mfor\u001b[0m \u001b[0mk\u001b[0m\u001b[0;34m,\u001b[0m \u001b[0mv\u001b[0m \u001b[0;32min\u001b[0m \u001b[0mcontent\u001b[0m\u001b[0;34m.\u001b[0m\u001b[0mitems\u001b[0m\u001b[0;34m(\u001b[0m\u001b[0;34m)\u001b[0m\u001b[0;34m}\u001b[0m\u001b[0;34m\u001b[0m\u001b[0;34m\u001b[0m\u001b[0m\n\u001b[0m\u001b[1;32m      4\u001b[0m     \u001b[0;32melif\u001b[0m \u001b[0mtype\u001b[0m\u001b[0;34m(\u001b[0m\u001b[0mcontent\u001b[0m\u001b[0;34m)\u001b[0m \u001b[0;34m==\u001b[0m \u001b[0mlist\u001b[0m\u001b[0;34m:\u001b[0m\u001b[0;34m\u001b[0m\u001b[0;34m\u001b[0m\u001b[0m\n\u001b[1;32m      5\u001b[0m         \u001b[0;32mreturn\u001b[0m \u001b[0;34m[\u001b[0m\u001b[0msort_keys_all\u001b[0m\u001b[0;34m(\u001b[0m\u001b[0mkeys\u001b[0m\u001b[0;34m,\u001b[0m \u001b[0mone\u001b[0m\u001b[0;34m)\u001b[0m \u001b[0;32mfor\u001b[0m \u001b[0mone\u001b[0m \u001b[0;32min\u001b[0m \u001b[0mcontent\u001b[0m\u001b[0;34m]\u001b[0m\u001b[0;34m\u001b[0m\u001b[0;34m\u001b[0m\u001b[0m\n",
      "\u001b[0;32m<ipython-input-29-f871ec9e0bb0>\u001b[0m in \u001b[0;36m<dictcomp>\u001b[0;34m(.0)\u001b[0m\n\u001b[1;32m      1\u001b[0m \u001b[0;32mdef\u001b[0m \u001b[0msort_keys_all\u001b[0m\u001b[0;34m(\u001b[0m\u001b[0mkeys\u001b[0m\u001b[0;34m,\u001b[0m \u001b[0mcontent\u001b[0m\u001b[0;34m,\u001b[0m \u001b[0mkey\u001b[0m\u001b[0;34m=\u001b[0m\u001b[0;32mNone\u001b[0m\u001b[0;34m)\u001b[0m\u001b[0;34m:\u001b[0m\u001b[0;34m\u001b[0m\u001b[0;34m\u001b[0m\u001b[0m\n\u001b[1;32m      2\u001b[0m     \u001b[0;32mif\u001b[0m \u001b[0mtype\u001b[0m\u001b[0;34m(\u001b[0m\u001b[0mcontent\u001b[0m\u001b[0;34m)\u001b[0m \u001b[0;34m==\u001b[0m \u001b[0mdict\u001b[0m\u001b[0;34m:\u001b[0m\u001b[0;34m\u001b[0m\u001b[0;34m\u001b[0m\u001b[0m\n\u001b[0;32m----> 3\u001b[0;31m         \u001b[0;32mreturn\u001b[0m \u001b[0;34m{\u001b[0m\u001b[0mk\u001b[0m\u001b[0;34m:\u001b[0m \u001b[0msort_keys_all\u001b[0m\u001b[0;34m(\u001b[0m\u001b[0mkeys\u001b[0m\u001b[0;34m,\u001b[0m \u001b[0msorted\u001b[0m\u001b[0;34m(\u001b[0m\u001b[0mv\u001b[0m\u001b[0;34m,\u001b[0m \u001b[0mkey\u001b[0m\u001b[0;34m=\u001b[0m\u001b[0mkey\u001b[0m\u001b[0;34m)\u001b[0m \u001b[0;32mif\u001b[0m \u001b[0mk\u001b[0m \u001b[0;32min\u001b[0m \u001b[0mkeys\u001b[0m \u001b[0;32melse\u001b[0m \u001b[0mv\u001b[0m\u001b[0;34m)\u001b[0m \u001b[0;32mfor\u001b[0m \u001b[0mk\u001b[0m\u001b[0;34m,\u001b[0m \u001b[0mv\u001b[0m \u001b[0;32min\u001b[0m \u001b[0mcontent\u001b[0m\u001b[0;34m.\u001b[0m\u001b[0mitems\u001b[0m\u001b[0;34m(\u001b[0m\u001b[0;34m)\u001b[0m\u001b[0;34m}\u001b[0m\u001b[0;34m\u001b[0m\u001b[0;34m\u001b[0m\u001b[0m\n\u001b[0m\u001b[1;32m      4\u001b[0m     \u001b[0;32melif\u001b[0m \u001b[0mtype\u001b[0m\u001b[0;34m(\u001b[0m\u001b[0mcontent\u001b[0m\u001b[0;34m)\u001b[0m \u001b[0;34m==\u001b[0m \u001b[0mlist\u001b[0m\u001b[0;34m:\u001b[0m\u001b[0;34m\u001b[0m\u001b[0;34m\u001b[0m\u001b[0m\n\u001b[1;32m      5\u001b[0m         \u001b[0;32mreturn\u001b[0m \u001b[0;34m[\u001b[0m\u001b[0msort_keys_all\u001b[0m\u001b[0;34m(\u001b[0m\u001b[0mkeys\u001b[0m\u001b[0;34m,\u001b[0m \u001b[0mone\u001b[0m\u001b[0;34m)\u001b[0m \u001b[0;32mfor\u001b[0m \u001b[0mone\u001b[0m \u001b[0;32min\u001b[0m \u001b[0mcontent\u001b[0m\u001b[0;34m]\u001b[0m\u001b[0;34m\u001b[0m\u001b[0;34m\u001b[0m\u001b[0m\n",
      "\u001b[0;32m<ipython-input-29-f871ec9e0bb0>\u001b[0m in \u001b[0;36msort_keys_all\u001b[0;34m(keys, content, key)\u001b[0m\n\u001b[1;32m      3\u001b[0m         \u001b[0;32mreturn\u001b[0m \u001b[0;34m{\u001b[0m\u001b[0mk\u001b[0m\u001b[0;34m:\u001b[0m \u001b[0msort_keys_all\u001b[0m\u001b[0;34m(\u001b[0m\u001b[0mkeys\u001b[0m\u001b[0;34m,\u001b[0m \u001b[0msorted\u001b[0m\u001b[0;34m(\u001b[0m\u001b[0mv\u001b[0m\u001b[0;34m,\u001b[0m \u001b[0mkey\u001b[0m\u001b[0;34m=\u001b[0m\u001b[0mkey\u001b[0m\u001b[0;34m)\u001b[0m \u001b[0;32mif\u001b[0m \u001b[0mk\u001b[0m \u001b[0;32min\u001b[0m \u001b[0mkeys\u001b[0m \u001b[0;32melse\u001b[0m \u001b[0mv\u001b[0m\u001b[0;34m)\u001b[0m \u001b[0;32mfor\u001b[0m \u001b[0mk\u001b[0m\u001b[0;34m,\u001b[0m \u001b[0mv\u001b[0m \u001b[0;32min\u001b[0m \u001b[0mcontent\u001b[0m\u001b[0;34m.\u001b[0m\u001b[0mitems\u001b[0m\u001b[0;34m(\u001b[0m\u001b[0;34m)\u001b[0m\u001b[0;34m}\u001b[0m\u001b[0;34m\u001b[0m\u001b[0;34m\u001b[0m\u001b[0m\n\u001b[1;32m      4\u001b[0m     \u001b[0;32melif\u001b[0m \u001b[0mtype\u001b[0m\u001b[0;34m(\u001b[0m\u001b[0mcontent\u001b[0m\u001b[0;34m)\u001b[0m \u001b[0;34m==\u001b[0m \u001b[0mlist\u001b[0m\u001b[0;34m:\u001b[0m\u001b[0;34m\u001b[0m\u001b[0;34m\u001b[0m\u001b[0m\n\u001b[0;32m----> 5\u001b[0;31m         \u001b[0;32mreturn\u001b[0m \u001b[0;34m[\u001b[0m\u001b[0msort_keys_all\u001b[0m\u001b[0;34m(\u001b[0m\u001b[0mkeys\u001b[0m\u001b[0;34m,\u001b[0m \u001b[0mone\u001b[0m\u001b[0;34m)\u001b[0m \u001b[0;32mfor\u001b[0m \u001b[0mone\u001b[0m \u001b[0;32min\u001b[0m \u001b[0mcontent\u001b[0m\u001b[0;34m]\u001b[0m\u001b[0;34m\u001b[0m\u001b[0;34m\u001b[0m\u001b[0m\n\u001b[0m\u001b[1;32m      6\u001b[0m     \u001b[0;32melse\u001b[0m\u001b[0;34m:\u001b[0m\u001b[0;34m\u001b[0m\u001b[0;34m\u001b[0m\u001b[0m\n\u001b[1;32m      7\u001b[0m         \u001b[0;32mreturn\u001b[0m \u001b[0mcontent\u001b[0m\u001b[0;34m\u001b[0m\u001b[0;34m\u001b[0m\u001b[0m\n",
      "\u001b[0;32m<ipython-input-29-f871ec9e0bb0>\u001b[0m in \u001b[0;36m<listcomp>\u001b[0;34m(.0)\u001b[0m\n\u001b[1;32m      3\u001b[0m         \u001b[0;32mreturn\u001b[0m \u001b[0;34m{\u001b[0m\u001b[0mk\u001b[0m\u001b[0;34m:\u001b[0m \u001b[0msort_keys_all\u001b[0m\u001b[0;34m(\u001b[0m\u001b[0mkeys\u001b[0m\u001b[0;34m,\u001b[0m \u001b[0msorted\u001b[0m\u001b[0;34m(\u001b[0m\u001b[0mv\u001b[0m\u001b[0;34m,\u001b[0m \u001b[0mkey\u001b[0m\u001b[0;34m=\u001b[0m\u001b[0mkey\u001b[0m\u001b[0;34m)\u001b[0m \u001b[0;32mif\u001b[0m \u001b[0mk\u001b[0m \u001b[0;32min\u001b[0m \u001b[0mkeys\u001b[0m \u001b[0;32melse\u001b[0m \u001b[0mv\u001b[0m\u001b[0;34m)\u001b[0m \u001b[0;32mfor\u001b[0m \u001b[0mk\u001b[0m\u001b[0;34m,\u001b[0m \u001b[0mv\u001b[0m \u001b[0;32min\u001b[0m \u001b[0mcontent\u001b[0m\u001b[0;34m.\u001b[0m\u001b[0mitems\u001b[0m\u001b[0;34m(\u001b[0m\u001b[0;34m)\u001b[0m\u001b[0;34m}\u001b[0m\u001b[0;34m\u001b[0m\u001b[0;34m\u001b[0m\u001b[0m\n\u001b[1;32m      4\u001b[0m     \u001b[0;32melif\u001b[0m \u001b[0mtype\u001b[0m\u001b[0;34m(\u001b[0m\u001b[0mcontent\u001b[0m\u001b[0;34m)\u001b[0m \u001b[0;34m==\u001b[0m \u001b[0mlist\u001b[0m\u001b[0;34m:\u001b[0m\u001b[0;34m\u001b[0m\u001b[0;34m\u001b[0m\u001b[0m\n\u001b[0;32m----> 5\u001b[0;31m         \u001b[0;32mreturn\u001b[0m \u001b[0;34m[\u001b[0m\u001b[0msort_keys_all\u001b[0m\u001b[0;34m(\u001b[0m\u001b[0mkeys\u001b[0m\u001b[0;34m,\u001b[0m \u001b[0mone\u001b[0m\u001b[0;34m)\u001b[0m \u001b[0;32mfor\u001b[0m \u001b[0mone\u001b[0m \u001b[0;32min\u001b[0m \u001b[0mcontent\u001b[0m\u001b[0;34m]\u001b[0m\u001b[0;34m\u001b[0m\u001b[0;34m\u001b[0m\u001b[0m\n\u001b[0m\u001b[1;32m      6\u001b[0m     \u001b[0;32melse\u001b[0m\u001b[0;34m:\u001b[0m\u001b[0;34m\u001b[0m\u001b[0;34m\u001b[0m\u001b[0m\n\u001b[1;32m      7\u001b[0m         \u001b[0;32mreturn\u001b[0m \u001b[0mcontent\u001b[0m\u001b[0;34m\u001b[0m\u001b[0;34m\u001b[0m\u001b[0m\n",
      "\u001b[0;32m<ipython-input-29-f871ec9e0bb0>\u001b[0m in \u001b[0;36msort_keys_all\u001b[0;34m(keys, content, key)\u001b[0m\n\u001b[1;32m      1\u001b[0m \u001b[0;32mdef\u001b[0m \u001b[0msort_keys_all\u001b[0m\u001b[0;34m(\u001b[0m\u001b[0mkeys\u001b[0m\u001b[0;34m,\u001b[0m \u001b[0mcontent\u001b[0m\u001b[0;34m,\u001b[0m \u001b[0mkey\u001b[0m\u001b[0;34m=\u001b[0m\u001b[0;32mNone\u001b[0m\u001b[0;34m)\u001b[0m\u001b[0;34m:\u001b[0m\u001b[0;34m\u001b[0m\u001b[0;34m\u001b[0m\u001b[0m\n\u001b[1;32m      2\u001b[0m     \u001b[0;32mif\u001b[0m \u001b[0mtype\u001b[0m\u001b[0;34m(\u001b[0m\u001b[0mcontent\u001b[0m\u001b[0;34m)\u001b[0m \u001b[0;34m==\u001b[0m \u001b[0mdict\u001b[0m\u001b[0;34m:\u001b[0m\u001b[0;34m\u001b[0m\u001b[0;34m\u001b[0m\u001b[0m\n\u001b[0;32m----> 3\u001b[0;31m         \u001b[0;32mreturn\u001b[0m \u001b[0;34m{\u001b[0m\u001b[0mk\u001b[0m\u001b[0;34m:\u001b[0m \u001b[0msort_keys_all\u001b[0m\u001b[0;34m(\u001b[0m\u001b[0mkeys\u001b[0m\u001b[0;34m,\u001b[0m \u001b[0msorted\u001b[0m\u001b[0;34m(\u001b[0m\u001b[0mv\u001b[0m\u001b[0;34m,\u001b[0m \u001b[0mkey\u001b[0m\u001b[0;34m=\u001b[0m\u001b[0mkey\u001b[0m\u001b[0;34m)\u001b[0m \u001b[0;32mif\u001b[0m \u001b[0mk\u001b[0m \u001b[0;32min\u001b[0m \u001b[0mkeys\u001b[0m \u001b[0;32melse\u001b[0m \u001b[0mv\u001b[0m\u001b[0;34m)\u001b[0m \u001b[0;32mfor\u001b[0m \u001b[0mk\u001b[0m\u001b[0;34m,\u001b[0m \u001b[0mv\u001b[0m \u001b[0;32min\u001b[0m \u001b[0mcontent\u001b[0m\u001b[0;34m.\u001b[0m\u001b[0mitems\u001b[0m\u001b[0;34m(\u001b[0m\u001b[0;34m)\u001b[0m\u001b[0;34m}\u001b[0m\u001b[0;34m\u001b[0m\u001b[0;34m\u001b[0m\u001b[0m\n\u001b[0m\u001b[1;32m      4\u001b[0m     \u001b[0;32melif\u001b[0m \u001b[0mtype\u001b[0m\u001b[0;34m(\u001b[0m\u001b[0mcontent\u001b[0m\u001b[0;34m)\u001b[0m \u001b[0;34m==\u001b[0m \u001b[0mlist\u001b[0m\u001b[0;34m:\u001b[0m\u001b[0;34m\u001b[0m\u001b[0;34m\u001b[0m\u001b[0m\n\u001b[1;32m      5\u001b[0m         \u001b[0;32mreturn\u001b[0m \u001b[0;34m[\u001b[0m\u001b[0msort_keys_all\u001b[0m\u001b[0;34m(\u001b[0m\u001b[0mkeys\u001b[0m\u001b[0;34m,\u001b[0m \u001b[0mone\u001b[0m\u001b[0;34m)\u001b[0m \u001b[0;32mfor\u001b[0m \u001b[0mone\u001b[0m \u001b[0;32min\u001b[0m \u001b[0mcontent\u001b[0m\u001b[0;34m]\u001b[0m\u001b[0;34m\u001b[0m\u001b[0;34m\u001b[0m\u001b[0m\n",
      "\u001b[0;32m<ipython-input-29-f871ec9e0bb0>\u001b[0m in \u001b[0;36m<dictcomp>\u001b[0;34m(.0)\u001b[0m\n\u001b[1;32m      1\u001b[0m \u001b[0;32mdef\u001b[0m \u001b[0msort_keys_all\u001b[0m\u001b[0;34m(\u001b[0m\u001b[0mkeys\u001b[0m\u001b[0;34m,\u001b[0m \u001b[0mcontent\u001b[0m\u001b[0;34m,\u001b[0m \u001b[0mkey\u001b[0m\u001b[0;34m=\u001b[0m\u001b[0;32mNone\u001b[0m\u001b[0;34m)\u001b[0m\u001b[0;34m:\u001b[0m\u001b[0;34m\u001b[0m\u001b[0;34m\u001b[0m\u001b[0m\n\u001b[1;32m      2\u001b[0m     \u001b[0;32mif\u001b[0m \u001b[0mtype\u001b[0m\u001b[0;34m(\u001b[0m\u001b[0mcontent\u001b[0m\u001b[0;34m)\u001b[0m \u001b[0;34m==\u001b[0m \u001b[0mdict\u001b[0m\u001b[0;34m:\u001b[0m\u001b[0;34m\u001b[0m\u001b[0;34m\u001b[0m\u001b[0m\n\u001b[0;32m----> 3\u001b[0;31m         \u001b[0;32mreturn\u001b[0m \u001b[0;34m{\u001b[0m\u001b[0mk\u001b[0m\u001b[0;34m:\u001b[0m \u001b[0msort_keys_all\u001b[0m\u001b[0;34m(\u001b[0m\u001b[0mkeys\u001b[0m\u001b[0;34m,\u001b[0m \u001b[0msorted\u001b[0m\u001b[0;34m(\u001b[0m\u001b[0mv\u001b[0m\u001b[0;34m,\u001b[0m \u001b[0mkey\u001b[0m\u001b[0;34m=\u001b[0m\u001b[0mkey\u001b[0m\u001b[0;34m)\u001b[0m \u001b[0;32mif\u001b[0m \u001b[0mk\u001b[0m \u001b[0;32min\u001b[0m \u001b[0mkeys\u001b[0m \u001b[0;32melse\u001b[0m \u001b[0mv\u001b[0m\u001b[0;34m)\u001b[0m \u001b[0;32mfor\u001b[0m \u001b[0mk\u001b[0m\u001b[0;34m,\u001b[0m \u001b[0mv\u001b[0m \u001b[0;32min\u001b[0m \u001b[0mcontent\u001b[0m\u001b[0;34m.\u001b[0m\u001b[0mitems\u001b[0m\u001b[0;34m(\u001b[0m\u001b[0;34m)\u001b[0m\u001b[0;34m}\u001b[0m\u001b[0;34m\u001b[0m\u001b[0;34m\u001b[0m\u001b[0m\n\u001b[0m\u001b[1;32m      4\u001b[0m     \u001b[0;32melif\u001b[0m \u001b[0mtype\u001b[0m\u001b[0;34m(\u001b[0m\u001b[0mcontent\u001b[0m\u001b[0;34m)\u001b[0m \u001b[0;34m==\u001b[0m \u001b[0mlist\u001b[0m\u001b[0;34m:\u001b[0m\u001b[0;34m\u001b[0m\u001b[0;34m\u001b[0m\u001b[0m\n\u001b[1;32m      5\u001b[0m         \u001b[0;32mreturn\u001b[0m \u001b[0;34m[\u001b[0m\u001b[0msort_keys_all\u001b[0m\u001b[0;34m(\u001b[0m\u001b[0mkeys\u001b[0m\u001b[0;34m,\u001b[0m \u001b[0mone\u001b[0m\u001b[0;34m)\u001b[0m \u001b[0;32mfor\u001b[0m \u001b[0mone\u001b[0m \u001b[0;32min\u001b[0m \u001b[0mcontent\u001b[0m\u001b[0;34m]\u001b[0m\u001b[0;34m\u001b[0m\u001b[0;34m\u001b[0m\u001b[0m\n",
      "\u001b[0;31mTypeError\u001b[0m: '<' not supported between instances of 'dict' and 'dict'"
     ]
    }
   ],
   "source": [
    "sort_keys_all([\"Tags\"], sg, key=lambda one: one[\"Key\"])"
   ]
  },
  {
   "cell_type": "code",
   "execution_count": null,
   "metadata": {},
   "outputs": [],
   "source": []
  }
 ],
 "metadata": {
  "kernelspec": {
   "display_name": "Python 3",
   "language": "python",
   "name": "python3"
  },
  "language_info": {
   "codemirror_mode": {
    "name": "ipython",
    "version": 3
   },
   "file_extension": ".py",
   "mimetype": "text/x-python",
   "name": "python",
   "nbconvert_exporter": "python",
   "pygments_lexer": "ipython3",
   "version": "3.8.13"
  }
 },
 "nbformat": 4,
 "nbformat_minor": 4
}
