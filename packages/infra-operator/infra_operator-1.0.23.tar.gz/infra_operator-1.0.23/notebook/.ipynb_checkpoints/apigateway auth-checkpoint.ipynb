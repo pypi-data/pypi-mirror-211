{
 "cells": [
  {
   "cell_type": "code",
   "execution_count": 1,
   "metadata": {},
   "outputs": [],
   "source": [
    "import boto3\n",
    "import requests\n",
    "from aws_requests_auth.aws_auth import AWSRequestsAuth"
   ]
  },
  {
   "cell_type": "code",
   "execution_count": 38,
   "metadata": {},
   "outputs": [],
   "source": [
    "session = boto3.Session(profile_name=\"bijietech-dev\")\n",
    "credentials = session.get_credentials()"
   ]
  },
  {
   "cell_type": "code",
   "execution_count": 39,
   "metadata": {},
   "outputs": [],
   "source": [
    "sts = session.client(\"sts\")"
   ]
  },
  {
   "cell_type": "code",
   "execution_count": 40,
   "metadata": {},
   "outputs": [
    {
     "data": {
      "text/plain": [
       "{'UserId': 'AROASQS2UI6PGZDCZNU75:desmond.cao@binance.com',\n",
       " 'Account': '173062506398',\n",
       " 'Arn': 'arn:aws:sts::173062506398:assumed-role/desmond.cao/desmond.cao@binance.com',\n",
       " 'ResponseMetadata': {'RequestId': 'a5215e75-4091-4de4-800e-4103d80650d9',\n",
       "  'HTTPStatusCode': 200,\n",
       "  'HTTPHeaders': {'x-amzn-requestid': 'a5215e75-4091-4de4-800e-4103d80650d9',\n",
       "   'content-type': 'text/xml',\n",
       "   'content-length': '464',\n",
       "   'date': 'Tue, 18 Apr 2023 07:43:42 GMT'},\n",
       "  'RetryAttempts': 0}}"
      ]
     },
     "execution_count": 40,
     "metadata": {},
     "output_type": "execute_result"
    }
   ],
   "source": [
    "sts.get_caller_identity()"
   ]
  },
  {
   "cell_type": "code",
   "execution_count": 45,
   "metadata": {},
   "outputs": [
    {
     "name": "stdout",
     "output_type": "stream",
     "text": [
      "<Response [200]>\n"
     ]
    }
   ],
   "source": [
    "auth = AWSRequestsAuth(aws_access_key=credentials.access_key,\n",
    "                       aws_secret_access_key=credentials.secret_key,\n",
    "                       aws_token=credentials.token,\n",
    "                       aws_host='jg2bmp6z63.execute-api.ap-northeast-1.amazonaws.com',\n",
    "                       aws_region='ap-northeast-1',\n",
    "                       aws_service='execute-api')\n",
    "\n",
    "\n",
    "response = requests.post('https://jg2bmp6z63.execute-api.ap-northeast-1.amazonaws.com/dev/aws/apply', data=\"hello\", auth=auth)\n",
    "\n",
    "print(response)"
   ]
  },
  {
   "cell_type": "code",
   "execution_count": 22,
   "metadata": {},
   "outputs": [
    {
     "data": {
      "text/plain": [
       "{'Server': 'Server', 'Date': 'Tue, 18 Apr 2023 07:32:23 GMT', 'Content-Type': 'application/json', 'Content-Length': '0', 'Connection': 'keep-alive', 'x-amzn-RequestId': '24149924-be93-486d-a1cb-dec92d6960c5', 'x-amz-apigw-id': 'DkAdKFg2NjMF9FQ='}"
      ]
     },
     "execution_count": 22,
     "metadata": {},
     "output_type": "execute_result"
    }
   ],
   "source": [
    "response.headers"
   ]
  },
  {
   "cell_type": "code",
   "execution_count": null,
   "metadata": {},
   "outputs": [],
   "source": []
  }
 ],
 "metadata": {
  "kernelspec": {
   "display_name": "Python 3",
   "language": "python",
   "name": "python3"
  },
  "language_info": {
   "codemirror_mode": {
    "name": "ipython",
    "version": 3
   },
   "file_extension": ".py",
   "mimetype": "text/x-python",
   "name": "python",
   "nbconvert_exporter": "python",
   "pygments_lexer": "ipython3",
   "version": "3.8.13"
  }
 },
 "nbformat": 4,
 "nbformat_minor": 4
}
