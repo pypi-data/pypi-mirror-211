{
 "cells": [
  {
   "cell_type": "code",
   "execution_count": 4,
   "id": "35c03dbe",
   "metadata": {},
   "outputs": [],
   "source": [
    "import boto3\n",
    "import os\n",
    "import json"
   ]
  },
  {
   "cell_type": "code",
   "execution_count": 5,
   "id": "3264a0cc",
   "metadata": {},
   "outputs": [],
   "source": [
    "session = boto3.session.Session(profile_name=\"bijietech-dev\")"
   ]
  },
  {
   "cell_type": "code",
   "execution_count": 6,
   "id": "535bcffc",
   "metadata": {},
   "outputs": [],
   "source": [
    "sm = session.client(\"secretsmanager\")"
   ]
  },
  {
   "cell_type": "code",
   "execution_count": null,
   "id": "ebef08c5",
   "metadata": {},
   "outputs": [],
   "source": [
    "response = sm.describe_secret(\n",
    "    SecretId=\"bin_dev_cross_proxy\"\n",
    ")"
   ]
  }
 ],
 "metadata": {
  "kernelspec": {
   "display_name": "Python 3 (ipykernel)",
   "language": "python",
   "name": "python3"
  },
  "language_info": {
   "codemirror_mode": {
    "name": "ipython",
    "version": 3
   },
   "file_extension": ".py",
   "mimetype": "text/x-python",
   "name": "python",
   "nbconvert_exporter": "python",
   "pygments_lexer": "ipython3",
   "version": "3.11.3"
  }
 },
 "nbformat": 4,
 "nbformat_minor": 5
}
