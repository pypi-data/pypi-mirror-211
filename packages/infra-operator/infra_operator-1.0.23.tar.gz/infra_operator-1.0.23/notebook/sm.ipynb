{
 "cells": [
  {
   "cell_type": "code",
   "execution_count": 4,
   "id": "229c9b6b",
   "metadata": {},
   "outputs": [],
   "source": [
    "import boto3\n",
    "import os\n",
    "import json"
   ]
  },
  {
   "cell_type": "code",
   "execution_count": 5,
   "id": "55d5664f",
   "metadata": {},
   "outputs": [],
   "source": [
    "session = boto3.session.Session(profile_name=\"bijietech-dev\")"
   ]
  },
  {
   "cell_type": "code",
   "execution_count": 6,
   "id": "74bcecaa",
   "metadata": {},
   "outputs": [],
   "source": [
    "sm = session.client(\"secretsmanager\")"
   ]
  },
  {
   "cell_type": "code",
   "execution_count": 7,
   "id": "9ca46375",
   "metadata": {},
   "outputs": [],
   "source": [
    "response = sm.describe_secret(\n",
    "    SecretId=\"bin_dev_cross_proxy\"\n",
    ")"
   ]
  },
  {
   "cell_type": "code",
   "execution_count": 9,
   "id": "2d9189f5",
   "metadata": {},
   "outputs": [
    {
     "name": "stdout",
     "output_type": "stream",
     "text": [
      "{'ARN': 'arn:aws:secretsmanager:ap-northeast-1:173062506398:secret:bin_dev_cross_proxy-J2csGw', 'Name': 'bin_dev_cross_proxy', 'KmsKeyId': 'arn:aws:kms:ap-northeast-1:173062506398:key/a73839a6-2c75-4290-8a32-431af8807142', 'LastChangedDate': datetime.datetime(2022, 12, 20, 18, 48, 10, 67000, tzinfo=tzlocal()), 'Tags': [{'Key': 'app', 'Value': 'cross-proxy'}, {'Key': 'biz', 'Value': 'arch'}, {'Key': 'team', 'Value': 'backend'}, {'Key': 'env', 'Value': 'dev'}], 'CreatedDate': datetime.datetime(2022, 8, 29, 19, 40, 32, 953000, tzinfo=tzlocal()), 'ResponseMetadata': {'RequestId': '283a8f82-4547-436c-b48c-885f1dd4c1b3', 'HTTPStatusCode': 200, 'HTTPHeaders': {'x-amzn-requestid': '283a8f82-4547-436c-b48c-885f1dd4c1b3', 'content-type': 'application/x-amz-json-1.1', 'content-length': '418', 'date': 'Wed, 24 May 2023 12:36:50 GMT'}, 'RetryAttempts': 0}}\n"
     ]
    }
   ],
   "source": [
    "print(response)"
   ]
  },
  {
   "cell_type": "code",
   "execution_count": null,
   "id": "72c024bc",
   "metadata": {},
   "outputs": [],
   "source": []
  }
 ],
 "metadata": {
  "kernelspec": {
   "display_name": "Python 3 (ipykernel)",
   "language": "python",
   "name": "python3"
  },
  "language_info": {
   "codemirror_mode": {
    "name": "ipython",
    "version": 3
   },
   "file_extension": ".py",
   "mimetype": "text/x-python",
   "name": "python",
   "nbconvert_exporter": "python",
   "pygments_lexer": "ipython3",
   "version": "3.11.3"
  }
 },
 "nbformat": 4,
 "nbformat_minor": 5
}
