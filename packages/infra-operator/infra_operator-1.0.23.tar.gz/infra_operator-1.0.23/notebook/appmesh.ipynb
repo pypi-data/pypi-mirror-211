{
 "cells": [
  {
   "cell_type": "code",
   "execution_count": 1,
   "metadata": {},
   "outputs": [],
   "source": [
    "import oyaml as yaml"
   ]
  },
  {
   "cell_type": "code",
   "execution_count": 2,
   "metadata": {},
   "outputs": [],
   "source": [
    "import json"
   ]
  },
  {
   "cell_type": "code",
   "execution_count": 3,
   "metadata": {},
   "outputs": [],
   "source": [
    "import io"
   ]
  },
  {
   "cell_type": "code",
   "execution_count": 4,
   "metadata": {},
   "outputs": [],
   "source": [
    "import boto3"
   ]
  },
  {
   "cell_type": "code",
   "execution_count": 9,
   "metadata": {},
   "outputs": [],
   "source": [
    "session = boto3.session.Session(profile_name=\"bijietech-dev\")"
   ]
  },
  {
   "cell_type": "code",
   "execution_count": 10,
   "metadata": {},
   "outputs": [],
   "source": [
    "appmesh = session.client(\"appmesh\")"
   ]
  },
  {
   "cell_type": "code",
   "execution_count": 11,
   "metadata": {},
   "outputs": [
    {
     "data": {
      "text/plain": [
       "{'ResponseMetadata': {'RequestId': '4a95178d-a3b2-4fad-8bb0-63963d2f1c2d',\n",
       "  'HTTPStatusCode': 200,\n",
       "  'HTTPHeaders': {'date': 'Wed, 03 May 2023 07:09:29 GMT',\n",
       "   'content-type': 'application/json',\n",
       "   'content-length': '412',\n",
       "   'connection': 'keep-alive',\n",
       "   'x-amzn-requestid': '4a95178d-a3b2-4fad-8bb0-63963d2f1c2d'},\n",
       "  'RetryAttempts': 0},\n",
       " 'mesh': {'meshName': 'bin-dev-demo-appmesh',\n",
       "  'metadata': {'arn': 'arn:aws:appmesh:ap-northeast-1:173062506398:mesh/bin-dev-demo-appmesh',\n",
       "   'createdAt': datetime.datetime(2022, 12, 1, 17, 43, 32, 307000, tzinfo=tzlocal()),\n",
       "   'lastUpdatedAt': datetime.datetime(2022, 12, 1, 17, 43, 32, 307000, tzinfo=tzlocal()),\n",
       "   'meshOwner': '173062506398',\n",
       "   'resourceOwner': '173062506398',\n",
       "   'uid': '6898fda4-5b98-4db8-8ea5-b384c03a46bd',\n",
       "   'version': 1},\n",
       "  'spec': {'egressFilter': {'type': 'ALLOW_ALL'}},\n",
       "  'status': {'status': 'ACTIVE'}}}"
      ]
     },
     "execution_count": 11,
     "metadata": {},
     "output_type": "execute_result"
    }
   ],
   "source": [
    "appmesh.describe_mesh(meshName=\"bin-dev-demo-appmesh\")"
   ]
  },
  {
   "cell_type": "code",
   "execution_count": 18,
   "metadata": {},
   "outputs": [
    {
     "data": {
      "text/plain": [
       "{'ResponseMetadata': {'RequestId': '0553f32d-4931-49a4-a5ee-1e715911fafe',\n",
       "  'HTTPStatusCode': 200,\n",
       "  'HTTPHeaders': {'date': 'Wed, 03 May 2023 07:43:21 GMT',\n",
       "   'content-type': 'application/json',\n",
       "   'content-length': '370',\n",
       "   'connection': 'keep-alive',\n",
       "   'x-amzn-requestid': '0553f32d-4931-49a4-a5ee-1e715911fafe'},\n",
       "  'RetryAttempts': 0},\n",
       " 'virtualGateways': [{'arn': 'arn:aws:appmesh:ap-northeast-1:173062506398:mesh/bin-dev-demo-appmesh/virtualGateway/bin-dev-demo-appmesh-vg',\n",
       "   'createdAt': datetime.datetime(2022, 12, 1, 17, 51, 16, 963000, tzinfo=tzlocal()),\n",
       "   'lastUpdatedAt': datetime.datetime(2022, 12, 1, 17, 51, 16, 963000, tzinfo=tzlocal()),\n",
       "   'meshName': 'bin-dev-demo-appmesh',\n",
       "   'meshOwner': '173062506398',\n",
       "   'resourceOwner': '173062506398',\n",
       "   'version': 1,\n",
       "   'virtualGatewayName': 'bin-dev-demo-appmesh-vg'}]}"
      ]
     },
     "execution_count": 18,
     "metadata": {},
     "output_type": "execute_result"
    }
   ],
   "source": [
    "appmesh.list_virtual_gateways(meshName=\"bin-dev-demo-appmesh\")"
   ]
  },
  {
   "cell_type": "code",
   "execution_count": 13,
   "metadata": {
    "scrolled": false
   },
   "outputs": [
    {
     "data": {
      "text/plain": [
       "{'ResponseMetadata': {'RequestId': 'eca6da72-e33e-44e6-a267-ea5bc01f0062',\n",
       "  'HTTPStatusCode': 200,\n",
       "  'HTTPHeaders': {'date': 'Wed, 03 May 2023 07:15:55 GMT',\n",
       "   'content-type': 'application/json',\n",
       "   'content-length': '719',\n",
       "   'connection': 'keep-alive',\n",
       "   'x-amzn-requestid': 'eca6da72-e33e-44e6-a267-ea5bc01f0062'},\n",
       "  'RetryAttempts': 0},\n",
       " 'virtualRouters': [{'arn': 'arn:aws:appmesh:ap-northeast-1:173062506398:mesh/bin-dev-demo-appmesh/virtualRouter/bin-dev-demo-appmesh-green-vr',\n",
       "   'createdAt': datetime.datetime(2022, 12, 1, 18, 16, 3, 427000, tzinfo=tzlocal()),\n",
       "   'lastUpdatedAt': datetime.datetime(2022, 12, 1, 18, 16, 3, 427000, tzinfo=tzlocal()),\n",
       "   'meshName': 'bin-dev-demo-appmesh',\n",
       "   'meshOwner': '173062506398',\n",
       "   'resourceOwner': '173062506398',\n",
       "   'version': 1,\n",
       "   'virtualRouterName': 'bin-dev-demo-appmesh-green-vr'},\n",
       "  {'arn': 'arn:aws:appmesh:ap-northeast-1:173062506398:mesh/bin-dev-demo-appmesh/virtualRouter/bin-dev-demo-appmesh-blue-vr',\n",
       "   'createdAt': datetime.datetime(2022, 12, 1, 18, 41, 50, 738000, tzinfo=tzlocal()),\n",
       "   'lastUpdatedAt': datetime.datetime(2022, 12, 1, 18, 41, 50, 738000, tzinfo=tzlocal()),\n",
       "   'meshName': 'bin-dev-demo-appmesh',\n",
       "   'meshOwner': '173062506398',\n",
       "   'resourceOwner': '173062506398',\n",
       "   'version': 1,\n",
       "   'virtualRouterName': 'bin-dev-demo-appmesh-blue-vr'}]}"
      ]
     },
     "execution_count": 13,
     "metadata": {},
     "output_type": "execute_result"
    }
   ],
   "source": [
    "appmesh.list_virtual_routers(meshName=\"bin-dev-demo-appmesh\")"
   ]
  },
  {
   "cell_type": "code",
   "execution_count": 12,
   "metadata": {},
   "outputs": [
    {
     "data": {
      "text/plain": [
       "{'ResponseMetadata': {'RequestId': 'ba70792f-98ec-4c0e-8433-178661dac42c',\n",
       "  'HTTPStatusCode': 200,\n",
       "  'HTTPHeaders': {'date': 'Wed, 03 May 2023 07:12:54 GMT',\n",
       "   'content-type': 'application/json',\n",
       "   'content-length': '906',\n",
       "   'connection': 'keep-alive',\n",
       "   'x-amzn-requestid': 'ba70792f-98ec-4c0e-8433-178661dac42c'},\n",
       "  'RetryAttempts': 0},\n",
       " 'gatewayRoutes': [{'arn': 'arn:aws:appmesh:ap-northeast-1:173062506398:mesh/bin-dev-demo-appmesh/virtualGateway/bin-dev-demo-appmesh-vg/gatewayRoute/bin-dev-demo-appmesh-blue-vg-route',\n",
       "   'createdAt': datetime.datetime(2022, 12, 1, 19, 43, 16, 700000, tzinfo=tzlocal()),\n",
       "   'gatewayRouteName': 'bin-dev-demo-appmesh-blue-vg-route',\n",
       "   'lastUpdatedAt': datetime.datetime(2022, 12, 1, 19, 43, 16, 700000, tzinfo=tzlocal()),\n",
       "   'meshName': 'bin-dev-demo-appmesh',\n",
       "   'meshOwner': '173062506398',\n",
       "   'resourceOwner': '173062506398',\n",
       "   'version': 1,\n",
       "   'virtualGatewayName': 'bin-dev-demo-appmesh-vg'},\n",
       "  {'arn': 'arn:aws:appmesh:ap-northeast-1:173062506398:mesh/bin-dev-demo-appmesh/virtualGateway/bin-dev-demo-appmesh-vg/gatewayRoute/bin-dev-demo-appmesh-green-vg-route',\n",
       "   'createdAt': datetime.datetime(2022, 12, 1, 18, 16, 16, 456000, tzinfo=tzlocal()),\n",
       "   'gatewayRouteName': 'bin-dev-demo-appmesh-green-vg-route',\n",
       "   'lastUpdatedAt': datetime.datetime(2022, 12, 1, 18, 16, 16, 456000, tzinfo=tzlocal()),\n",
       "   'meshName': 'bin-dev-demo-appmesh',\n",
       "   'meshOwner': '173062506398',\n",
       "   'resourceOwner': '173062506398',\n",
       "   'version': 1,\n",
       "   'virtualGatewayName': 'bin-dev-demo-appmesh-vg'}]}"
      ]
     },
     "execution_count": 12,
     "metadata": {},
     "output_type": "execute_result"
    }
   ],
   "source": [
    "appmesh.list_gateway_routes(meshName=\"bin-dev-demo-appmesh\", virtualGatewayName=\"bin-dev-demo-appmesh-vg\")"
   ]
  },
  {
   "cell_type": "code",
   "execution_count": 17,
   "metadata": {},
   "outputs": [
    {
     "data": {
      "text/plain": [
       "{'ResponseMetadata': {'RequestId': '4498d9d8-254e-40d7-862a-3be1f99330e8',\n",
       "  'HTTPStatusCode': 200,\n",
       "  'HTTPHeaders': {'date': 'Wed, 03 May 2023 07:22:05 GMT',\n",
       "   'content-type': 'application/json',\n",
       "   'content-length': '833',\n",
       "   'connection': 'keep-alive',\n",
       "   'x-amzn-requestid': '4498d9d8-254e-40d7-862a-3be1f99330e8'},\n",
       "  'RetryAttempts': 0},\n",
       " 'gatewayRoute': {'gatewayRouteName': 'bin-dev-demo-appmesh-blue-vg-route',\n",
       "  'meshName': 'bin-dev-demo-appmesh',\n",
       "  'metadata': {'arn': 'arn:aws:appmesh:ap-northeast-1:173062506398:mesh/bin-dev-demo-appmesh/virtualGateway/bin-dev-demo-appmesh-vg/gatewayRoute/bin-dev-demo-appmesh-blue-vg-route',\n",
       "   'createdAt': datetime.datetime(2022, 12, 1, 19, 43, 16, 700000, tzinfo=tzlocal()),\n",
       "   'lastUpdatedAt': datetime.datetime(2022, 12, 1, 19, 43, 16, 700000, tzinfo=tzlocal()),\n",
       "   'meshOwner': '173062506398',\n",
       "   'resourceOwner': '173062506398',\n",
       "   'uid': 'a2b14f85-c52e-423a-8a64-8cc0ce12cdb9',\n",
       "   'version': 1},\n",
       "  'spec': {'httpRoute': {'action': {'target': {'virtualService': {'virtualServiceName': 'bin-dev-demo-appmesh-blue.local'}}},\n",
       "    'match': {'prefix': '/blue'}},\n",
       "   'priority': 900},\n",
       "  'status': {'status': 'ACTIVE'},\n",
       "  'virtualGatewayName': 'bin-dev-demo-appmesh-vg'}}"
      ]
     },
     "execution_count": 17,
     "metadata": {},
     "output_type": "execute_result"
    }
   ],
   "source": [
    "appmesh.describe_gateway_route(meshName=\"bin-dev-demo-appmesh\", gatewayRouteName=\"bin-dev-demo-appmesh-blue-vg-route\", virtualGatewayName=\"bin-dev-demo-appmesh-vg\")\n"
   ]
  },
  {
   "cell_type": "code",
   "execution_count": null,
   "metadata": {},
   "outputs": [],
   "source": []
  }
 ],
 "metadata": {
  "kernelspec": {
   "display_name": "Python 3 (ipykernel)",
   "language": "python",
   "name": "python3"
  },
  "language_info": {
   "codemirror_mode": {
    "name": "ipython",
    "version": 3
   },
   "file_extension": ".py",
   "mimetype": "text/x-python",
   "name": "python",
   "nbconvert_exporter": "python",
   "pygments_lexer": "ipython3",
   "version": "3.8.13"
  }
 },
 "nbformat": 4,
 "nbformat_minor": 4
}
