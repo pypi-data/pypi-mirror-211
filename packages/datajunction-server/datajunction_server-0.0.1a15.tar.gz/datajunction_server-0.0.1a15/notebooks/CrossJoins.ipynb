{
 "cells": [
  {
   "cell_type": "code",
   "execution_count": 1,
   "id": "00f7b3a3-0071-4120-9a54-38f432118da5",
   "metadata": {},
   "outputs": [
    {
     "name": "stderr",
     "output_type": "stream",
     "text": [
      "WARNING:root:no boto3 module found\n"
     ]
    },
    {
     "name": "stdout",
     "output_type": "stream",
     "text": [
      "[{'Query': {'with': None, 'body': {'Select': {'distinct': False, 'top': None, 'projection': [{'ExprWithAlias': {'expr': {'Cast': {'expr': {'Identifier': {'value': 'cell_id', 'quote_style': None}}, 'data_type': {'Int': None}}}, 'alias': {'value': 'cell_id', 'quote_style': None}}}, {'ExprWithAlias': {'expr': {'Identifier': {'value': 'cell_name', 'quote_style': None}}, 'alias': {'value': 'test_cell_name', 'quote_style': None}}}], 'from': [{'relation': {'Derived': {'lateral': False, 'subquery': {'with': None, 'body': {'Select': {'distinct': False, 'top': None, 'projection': [{'UnnamedExpr': {'Identifier': {'value': 'test_id', 'quote_style': None}}}, {'UnnamedExpr': {'Identifier': {'value': 'cells', 'quote_style': None}}}], 'from': [{'relation': {'Table': {'name': [{'value': 'ab_test_detail_d_v2', 'quote_style': None}], 'alias': None, 'args': [], 'with_hints': []}}, 'joins': []}], 'lateral_views': [], 'selection': None, 'group_by': [], 'cluster_by': [], 'distribute_by': [], 'sort_by': [], 'having': None}}, 'order_by': [], 'limit': None, 'offset': None, 'fetch': None, 'lock': None}, 'alias': {'name': {'value': 'tests', 'quote_style': None}, 'columns': []}}}, 'joins': [{'relation': {'Table': {'name': [{'value': 'UNNEST', 'quote_style': None}], 'alias': {'name': {'value': 't', 'quote_style': None}, 'columns': [{'value': 'cell_id', 'quote_style': None}, {'value': 'cell_name', 'quote_style': None}]}, 'args': [{'Unnamed': {'Expr': {'Identifier': {'value': 'cells', 'quote_style': None}}}}], 'with_hints': []}}, 'join_operator': 'CrossJoin'}]}], 'lateral_views': [], 'selection': None, 'group_by': [], 'cluster_by': [], 'distribute_by': [], 'sort_by': [], 'having': None}}, 'order_by': [], 'limit': None, 'offset': None, 'fetch': None, 'lock': None}}]\n",
      "tablewithfunction  UNNEST\n",
      "parse alias cols [{'value': 'cell_id', 'quote_style': None}, {'value': 'cell_name', 'quote_style': None}] UNNEST(cells)\n",
      "aliased.columns [Column(name=Name(name='cell_id', quote_style=''), namespace=None, _api_column=False), Column(name=Name(name='cell_name', quote_style=''), namespace=None, _api_column=False)]\n",
      "SELECT  CAST(cell_id AS INT) AS cell_id,\n",
      "\tcell_name AS test_cell_name \n",
      " FROM (SELECT  test_id,\n",
      "\tcells \n",
      " FROM ab_test_detail_d_v2\n",
      " \n",
      ") AS tests\n",
      "CROSS JOIN UNNEST(cells) AS t(cell_id,cell_name)\n"
     ]
    }
   ],
   "source": [
    "from dj.sql.parsing.backends.sqloxide import parse, parse_sql, parse_name\n",
    "from dj.sql.parsing import ast\n",
    "from dj.construction.inference import get_type_of_expression\n",
    "\n",
    "SQL = \"\"\"\n",
    "SELECT cast(cell_id as int) cell_id,\n",
    "              cell_name test_cell_name \n",
    "            FROM\n",
    "             (\n",
    "                 select test_id,\n",
    "                        cells \n",
    "                  from ab_test_detail_d_v2\n",
    "             ) tests\n",
    "             CROSS JOIN UNNEST(cells) AS t(cell_id, cell_name)\n",
    "\"\"\"\n",
    "print(parse_sql(SQL, dialect='ansi'))\n",
    "parsed = parse(\n",
    "    SQL,\n",
    "    dialect=\"ansi\"\n",
    ")\n",
    "\n",
    "# Drill down to the UNNEST:\n",
    "print(parsed)#['Query']['body']['Select']['from'][0]['joins'][0]['relation'])\n"
   ]
  },
  {
   "cell_type": "code",
   "execution_count": 7,
   "id": "a4c24a9b-169f-4dc1-8bd3-effee6d33744",
   "metadata": {
    "tags": []
   },
   "outputs": [
    {
     "data": {
      "text/plain": [
       "[None,\n",
       " None,\n",
       " None,\n",
       " Function(name=Name(name='UNNEST', quote_style=''), namespace=Namespace(names=[]), args=[Column(name=Name(name='cells', quote_style=''), namespace=None, _api_column=False)], distinct=False, over=None, is_tvf=True),\n",
       " Function(name=Name(name='UNNEST', quote_style=''), namespace=Namespace(names=[]), args=[Column(name=Name(name='cells', quote_style=''), namespace=None, _api_column=False)], distinct=False, over=None, is_tvf=True),\n",
       " None,\n",
       " None]"
      ]
     },
     "execution_count": 7,
     "metadata": {},
     "output_type": "execute_result"
    }
   ],
   "source": [
    "[t.table for t in parsed.find_all(ast.Column)]"
   ]
  },
  {
   "cell_type": "code",
   "execution_count": 8,
   "id": "d088abfb-fe34-4953-8b8d-4f9fca9f7a93",
   "metadata": {
    "tags": []
   },
   "outputs": [
    {
     "name": "stdout",
     "output_type": "stream",
     "text": [
      "SELECT  CAST(cell_id AS INT) AS cell_id,\n",
      "\tcell_name AS test_cell_name \n",
      " FROM (SELECT  test_id,\n",
      "\tcells \n",
      " FROM ab_test_detail_d_v2\n",
      " \n",
      ") AS tests\n",
      "CROSS JOIN UNNEST(cells) AS t(cell_id,cell_name)\n"
     ]
    }
   ],
   "source": [
    "print(parsed)"
   ]
  },
  {
   "cell_type": "code",
   "execution_count": 2,
   "id": "cb170e24-991c-485a-8757-dc91b5539b93",
   "metadata": {
    "tags": []
   },
   "outputs": [
    {
     "name": "stdout",
     "output_type": "stream",
     "text": [
      "GOT HERE <class 'dj.sql.functions.Unnest'> UNNEST(cells)\n",
      "expression.table None cells\n"
     ]
    },
    {
     "ename": "DJParseException",
     "evalue": "Cannot resolve type of column cells.",
     "output_type": "error",
     "traceback": [
      "\u001B[0;31m---------------------------------------------------------------------------\u001B[0m",
      "\u001B[0;31mDJParseException\u001B[0m                          Traceback (most recent call last)",
      "Cell \u001B[0;32mIn[2], line 1\u001B[0m\n\u001B[0;32m----> 1\u001B[0m \u001B[43mget_type_of_expression\u001B[49m\u001B[43m(\u001B[49m\u001B[43mparsed\u001B[49m\u001B[38;5;241;43m.\u001B[39;49m\u001B[43mselect\u001B[49m\u001B[38;5;241;43m.\u001B[39;49m\u001B[43mfrom_\u001B[49m\u001B[38;5;241;43m.\u001B[39;49m\u001B[43mjoins\u001B[49m\u001B[43m[\u001B[49m\u001B[38;5;241;43m0\u001B[39;49m\u001B[43m]\u001B[49m\u001B[38;5;241;43m.\u001B[39;49m\u001B[43mtable\u001B[49m\u001B[38;5;241;43m.\u001B[39;49m\u001B[43mchild\u001B[49m\u001B[43m)\u001B[49m\n",
      "File \u001B[0;32m~/.pyenv/versions/3.10.10/lib/python3.10/functools.py:889\u001B[0m, in \u001B[0;36msingledispatch.<locals>.wrapper\u001B[0;34m(*args, **kw)\u001B[0m\n\u001B[1;32m    885\u001B[0m \u001B[38;5;28;01mif\u001B[39;00m \u001B[38;5;129;01mnot\u001B[39;00m args:\n\u001B[1;32m    886\u001B[0m     \u001B[38;5;28;01mraise\u001B[39;00m \u001B[38;5;167;01mTypeError\u001B[39;00m(\u001B[38;5;124mf\u001B[39m\u001B[38;5;124m'\u001B[39m\u001B[38;5;132;01m{\u001B[39;00mfuncname\u001B[38;5;132;01m}\u001B[39;00m\u001B[38;5;124m requires at least \u001B[39m\u001B[38;5;124m'\u001B[39m\n\u001B[1;32m    887\u001B[0m                     \u001B[38;5;124m'\u001B[39m\u001B[38;5;124m1 positional argument\u001B[39m\u001B[38;5;124m'\u001B[39m)\n\u001B[0;32m--> 889\u001B[0m \u001B[38;5;28;01mreturn\u001B[39;00m \u001B[43mdispatch\u001B[49m\u001B[43m(\u001B[49m\u001B[43margs\u001B[49m\u001B[43m[\u001B[49m\u001B[38;5;241;43m0\u001B[39;49m\u001B[43m]\u001B[49m\u001B[38;5;241;43m.\u001B[39;49m\u001B[38;5;18;43m__class__\u001B[39;49m\u001B[43m)\u001B[49m\u001B[43m(\u001B[49m\u001B[38;5;241;43m*\u001B[39;49m\u001B[43margs\u001B[49m\u001B[43m,\u001B[49m\u001B[43m \u001B[49m\u001B[38;5;241;43m*\u001B[39;49m\u001B[38;5;241;43m*\u001B[39;49m\u001B[43mkw\u001B[49m\u001B[43m)\u001B[49m\n",
      "File \u001B[0;32m~/code/dj/dj/construction/inference.py:103\u001B[0m, in \u001B[0;36m_\u001B[0;34m(expression)\u001B[0m\n\u001B[1;32m    101\u001B[0m dj_func \u001B[38;5;241m=\u001B[39m function_registry[name]\n\u001B[1;32m    102\u001B[0m \u001B[38;5;28mprint\u001B[39m(\u001B[38;5;124m\"\u001B[39m\u001B[38;5;124mGOT HERE\u001B[39m\u001B[38;5;124m\"\u001B[39m, dj_func, expression)\n\u001B[0;32m--> 103\u001B[0m \u001B[38;5;28;01mreturn\u001B[39;00m \u001B[43mdj_func\u001B[49m\u001B[38;5;241;43m.\u001B[39;49m\u001B[43minfer_type_from_types\u001B[49m\u001B[43m(\u001B[49m\n\u001B[1;32m    104\u001B[0m \u001B[43m    \u001B[49m\u001B[38;5;241;43m*\u001B[39;49m\u001B[43m(\u001B[49m\u001B[43mget_type_of_expression\u001B[49m\u001B[43m(\u001B[49m\u001B[43mexp\u001B[49m\u001B[43m)\u001B[49m\u001B[43m \u001B[49m\u001B[38;5;28;43;01mfor\u001B[39;49;00m\u001B[43m \u001B[49m\u001B[43mexp\u001B[49m\u001B[43m \u001B[49m\u001B[38;5;129;43;01min\u001B[39;49;00m\u001B[43m \u001B[49m\u001B[43mexpression\u001B[49m\u001B[38;5;241;43m.\u001B[39;49m\u001B[43margs\u001B[49m\u001B[43m)\u001B[49m\n\u001B[1;32m    105\u001B[0m \u001B[43m\u001B[49m\u001B[43m)\u001B[49m\n",
      "File \u001B[0;32m~/code/dj/dj/construction/inference.py:104\u001B[0m, in \u001B[0;36m<genexpr>\u001B[0;34m(.0)\u001B[0m\n\u001B[1;32m    101\u001B[0m dj_func \u001B[38;5;241m=\u001B[39m function_registry[name]\n\u001B[1;32m    102\u001B[0m \u001B[38;5;28mprint\u001B[39m(\u001B[38;5;124m\"\u001B[39m\u001B[38;5;124mGOT HERE\u001B[39m\u001B[38;5;124m\"\u001B[39m, dj_func, expression)\n\u001B[1;32m    103\u001B[0m \u001B[38;5;28;01mreturn\u001B[39;00m dj_func\u001B[38;5;241m.\u001B[39minfer_type_from_types(\n\u001B[0;32m--> 104\u001B[0m     \u001B[38;5;241m*\u001B[39m(\u001B[43mget_type_of_expression\u001B[49m\u001B[43m(\u001B[49m\u001B[43mexp\u001B[49m\u001B[43m)\u001B[49m \u001B[38;5;28;01mfor\u001B[39;00m exp \u001B[38;5;129;01min\u001B[39;00m expression\u001B[38;5;241m.\u001B[39margs)\n\u001B[1;32m    105\u001B[0m )\n",
      "File \u001B[0;32m~/.pyenv/versions/3.10.10/lib/python3.10/functools.py:889\u001B[0m, in \u001B[0;36msingledispatch.<locals>.wrapper\u001B[0;34m(*args, **kw)\u001B[0m\n\u001B[1;32m    885\u001B[0m \u001B[38;5;28;01mif\u001B[39;00m \u001B[38;5;129;01mnot\u001B[39;00m args:\n\u001B[1;32m    886\u001B[0m     \u001B[38;5;28;01mraise\u001B[39;00m \u001B[38;5;167;01mTypeError\u001B[39;00m(\u001B[38;5;124mf\u001B[39m\u001B[38;5;124m'\u001B[39m\u001B[38;5;132;01m{\u001B[39;00mfuncname\u001B[38;5;132;01m}\u001B[39;00m\u001B[38;5;124m requires at least \u001B[39m\u001B[38;5;124m'\u001B[39m\n\u001B[1;32m    887\u001B[0m                     \u001B[38;5;124m'\u001B[39m\u001B[38;5;124m1 positional argument\u001B[39m\u001B[38;5;124m'\u001B[39m)\n\u001B[0;32m--> 889\u001B[0m \u001B[38;5;28;01mreturn\u001B[39;00m \u001B[43mdispatch\u001B[49m\u001B[43m(\u001B[49m\u001B[43margs\u001B[49m\u001B[43m[\u001B[49m\u001B[38;5;241;43m0\u001B[39;49m\u001B[43m]\u001B[49m\u001B[38;5;241;43m.\u001B[39;49m\u001B[38;5;18;43m__class__\u001B[39;49m\u001B[43m)\u001B[49m\u001B[43m(\u001B[49m\u001B[38;5;241;43m*\u001B[39;49m\u001B[43margs\u001B[49m\u001B[43m,\u001B[49m\u001B[43m \u001B[49m\u001B[38;5;241;43m*\u001B[39;49m\u001B[38;5;241;43m*\u001B[39;49m\u001B[43mkw\u001B[49m\u001B[43m)\u001B[49m\n",
      "File \u001B[0;32m~/code/dj/dj/construction/inference.py:68\u001B[0m, in \u001B[0;36m_\u001B[0;34m(expression)\u001B[0m\n\u001B[1;32m     60\u001B[0m         \u001B[38;5;28;01mraise\u001B[39;00m DJParseException(\n\u001B[1;32m     61\u001B[0m             \u001B[38;5;124mf\u001B[39m\u001B[38;5;124m\"\u001B[39m\u001B[38;5;124mCannot resolve type of column \u001B[39m\u001B[38;5;132;01m{\u001B[39;00mexpression\u001B[38;5;132;01m}\u001B[39;00m\u001B[38;5;124m. \u001B[39m\u001B[38;5;124m\"\u001B[39m\n\u001B[1;32m     62\u001B[0m             \u001B[38;5;124m\"\u001B[39m\u001B[38;5;124mDJ does not currently traverse subqueries for type information. \u001B[39m\u001B[38;5;124m\"\u001B[39m\n\u001B[1;32m     63\u001B[0m             \u001B[38;5;124m\"\u001B[39m\u001B[38;5;124mConsider extraction first.\u001B[39m\u001B[38;5;124m\"\u001B[39m,\n\u001B[1;32m     64\u001B[0m         )\n\u001B[1;32m     65\u001B[0m     \u001B[38;5;66;03m# else:#if subquery\u001B[39;00m\n\u001B[1;32m     66\u001B[0m     \u001B[38;5;66;03m# currently don't even bother checking subqueries.\u001B[39;00m\n\u001B[1;32m     67\u001B[0m     \u001B[38;5;66;03m# the extract will have built it for us in crucial cases\u001B[39;00m\n\u001B[0;32m---> 68\u001B[0m \u001B[38;5;28;01mraise\u001B[39;00m DJParseException(\u001B[38;5;124mf\u001B[39m\u001B[38;5;124m\"\u001B[39m\u001B[38;5;124mCannot resolve type of column \u001B[39m\u001B[38;5;132;01m{\u001B[39;00mexpression\u001B[38;5;132;01m}\u001B[39;00m\u001B[38;5;124m.\u001B[39m\u001B[38;5;124m\"\u001B[39m)\n",
      "\u001B[0;31mDJParseException\u001B[0m: Cannot resolve type of column cells."
     ]
    }
   ],
   "source": [
    "get_type_of_expression(parsed.select.from_.joins[0].table.child)"
   ]
  },
  {
   "cell_type": "code",
   "execution_count": 2,
   "id": "bb9cb547-7f11-4111-b805-d781d2246d1f",
   "metadata": {
    "tags": []
   },
   "outputs": [],
   "source": [
    "from dj.typing import ColumnType"
   ]
  },
  {
   "cell_type": "code",
   "execution_count": 7,
   "id": "466c5abb-9d5a-4125-a5fb-10c17867607c",
   "metadata": {
    "tags": []
   },
   "outputs": [],
   "source": [
    "column_type = ColumnType.Array[ColumnType.Int]\n",
    "column_type = ColumnType.Map[ColumnType.Str, ColumnType.Int]"
   ]
  },
  {
   "cell_type": "code",
   "execution_count": 8,
   "id": "38bf8da7-141c-4aea-bc13-d2b66efae1e0",
   "metadata": {
    "tags": []
   },
   "outputs": [
    {
     "data": {
      "text/plain": [
       "('STR', 'INT')"
      ]
     },
     "execution_count": 8,
     "metadata": {},
     "output_type": "execute_result"
    }
   ],
   "source": [
    "column_type.args"
   ]
  },
  {
   "cell_type": "code",
   "execution_count": 12,
   "id": "ffe240e6-409b-4b29-baa9-3c70858740eb",
   "metadata": {
    "tags": []
   },
   "outputs": [
    {
     "data": {
      "text/plain": [
       "'ROW[INT, STR]'"
      ]
     },
     "execution_count": 12,
     "metadata": {},
     "output_type": "execute_result"
    }
   ],
   "source": [
    "unnested_types = [ColumnType.Int, ColumnType.Str]\n",
    "ColumnType.Row[unnested_types]\n"
   ]
  },
  {
   "cell_type": "code",
   "execution_count": null,
   "id": "d1d48722-cb3b-46e9-9f5c-33c6609bbf6a",
   "metadata": {},
   "outputs": [],
   "source": []
  }
 ],
 "metadata": {
  "kernelspec": {
   "display_name": "Python 3 (ipykernel)",
   "language": "python",
   "name": "python3"
  },
  "language_info": {
   "codemirror_mode": {
    "name": "ipython",
    "version": 3
   },
   "file_extension": ".py",
   "mimetype": "text/x-python",
   "name": "python",
   "nbconvert_exporter": "python",
   "pygments_lexer": "ipython3",
   "version": "3.10.10"
  }
 },
 "nbformat": 4,
 "nbformat_minor": 5
}
