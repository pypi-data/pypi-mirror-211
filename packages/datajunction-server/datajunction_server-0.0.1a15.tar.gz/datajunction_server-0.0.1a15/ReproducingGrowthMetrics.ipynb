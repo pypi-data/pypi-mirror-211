{
 "cells": [
  {
   "cell_type": "markdown",
   "metadata": {},
   "source": [
    "# Reproducing Growth Metrics"
   ]
  },
  {
   "cell_type": "code",
   "execution_count": 8,
   "metadata": {
    "tags": []
   },
   "outputs": [
    {
     "name": "stdout",
     "output_type": "stream",
     "text": [
      "http://localhost:8000\n"
     ]
    }
   ],
   "source": [
    "import requests\n",
    "\n",
    "DJ_PROTOCOL = \"http\"\n",
    "DJ_HOST = \"localhost\"\n",
    "DJ_PORT = 8000\n",
    "DJ_URL = f\"{DJ_PROTOCOL}://{DJ_HOST}:{DJ_PORT}\"\n",
    "print(DJ_URL)"
   ]
  },
  {
   "cell_type": "code",
   "execution_count": 9,
   "metadata": {
    "tags": []
   },
   "outputs": [
    {
     "data": {
      "text/plain": [
       "{'detail': 'Engine already exists: `SPARK_SQL` version ``'}"
      ]
     },
     "execution_count": 9,
     "metadata": {},
     "output_type": "execute_result"
    }
   ],
   "source": [
    "response = requests.post(\n",
    "    f\"{DJ_URL}/engines/\",\n",
    "    json={\n",
    "        \"name\": \"TRINO_DIRECT\",\n",
    "        \"version\": \"\",\n",
    "        \"uri\": \"http://prestostatsbackend.master.dataeng.netflix.net:8080\",\n",
    "    }\n",
    ")\n",
    "response.json()\n",
    "\n",
    "response = requests.post(\n",
    "    f\"{DJ_URL}/engines/\",\n",
    "    json={\n",
    "        \"name\": \"SPARK_SQL\",\n",
    "        \"version\": \"\",\n",
    "        \"uri\": \"\",\n",
    "    }\n",
    ")\n",
    "response.json()\n"
   ]
  },
  {
   "cell_type": "code",
   "execution_count": 10,
   "metadata": {
    "tags": []
   },
   "outputs": [
    {
     "data": {
      "text/plain": [
       "{'detail': 'Catalog already exists: `prodhive`'}"
      ]
     },
     "execution_count": 10,
     "metadata": {},
     "output_type": "execute_result"
    }
   ],
   "source": [
    "response = requests.post(\n",
    "    f\"{DJ_URL}/catalogs/\",\n",
    "    json={\n",
    "        \"name\": \"prodhive\",\n",
    "        \"engines\": [{\"name\": \"TRINO_DIRECT\", \"version\": \"\", \"uri\": \"http://prestostatsbackend.master.dataeng.netflix.net:8080\"}],\n",
    "    }\n",
    ")\n",
    "response.json()"
   ]
  },
  {
   "cell_type": "code",
   "execution_count": 11,
   "metadata": {
    "tags": []
   },
   "outputs": [
    {
     "data": {
      "text/plain": [
       "{'message': 'A node with name `ab_nm_alloc_f` already exists.',\n",
       " 'errors': [],\n",
       " 'warnings': []}"
      ]
     },
     "execution_count": 11,
     "metadata": {},
     "output_type": "execute_result"
    }
   ],
   "source": [
    "response = requests.post(\n",
    "    f\"{DJ_URL}/nodes/source/\",\n",
    "    json={\n",
    "        \"description\": \"This is the table that connects allocations for AB tests to all of the core metrics.\",\n",
    "        \"mode\": \"published\",\n",
    "        \"name\": \"ab_nm_alloc_f\",\n",
    "        \"display_name\": \"Non-Member Core Metrics with Allocations\",\n",
    "        \"catalog\": \"prodhive\",\n",
    "        \"schema_\": \"dse\",\n",
    "        \"table\": \"ab_nm_alloc_f\",\n",
    "        \"columns\": [],\n",
    "    },\n",
    ")\n",
    "response.json()\n"
   ]
  },
  {
   "cell_type": "code",
   "execution_count": 12,
   "metadata": {
    "tags": []
   },
   "outputs": [
    {
     "data": {
      "text/plain": [
       "{'node_revision_id': 2,\n",
       " 'node_id': 2,\n",
       " 'type': 'source',\n",
       " 'name': 'ab_test_detail_d_v2',\n",
       " 'display_name': 'AB Tests',\n",
       " 'version': 'v1.0',\n",
       " 'status': 'valid',\n",
       " 'mode': 'published',\n",
       " 'catalog': {'id': 1,\n",
       "  'uuid': 'f0954bec-c172-42a0-bbe8-0e79b92b5eb6',\n",
       "  'created_at': '2023-03-16T18:54:35.654457+00:00',\n",
       "  'updated_at': '2023-03-16T18:54:35.654473+00:00',\n",
       "  'extra_params': {},\n",
       "  'name': 'prodhive'},\n",
       " 'schema_': 'dse',\n",
       " 'table': 'ab_test_detail_d_v2',\n",
       " 'description': '',\n",
       " 'query': None,\n",
       " 'availability': None,\n",
       " 'columns': [{'name': 'test_id', 'type': 'LONG', 'attributes': []},\n",
       "  {'name': 'name', 'type': 'STR', 'attributes': []},\n",
       "  {'name': 'description', 'type': 'STR', 'attributes': []},\n",
       "  {'name': 'test_type', 'type': 'STR', 'attributes': []},\n",
       "  {'name': 'alloc_id_type', 'type': 'STR', 'attributes': []},\n",
       "  {'name': 'default_cell', 'type': 'INT', 'attributes': []},\n",
       "  {'name': 'is_enabled', 'type': 'BOOL', 'attributes': []},\n",
       "  {'name': 'cells', 'type': 'MAP[STR, STR]', 'attributes': []},\n",
       "  {'name': 'test_exclusions', 'type': 'ARRAY[LONG]', 'attributes': []},\n",
       "  {'name': 'impact_areas', 'type': 'ARRAY[STR]', 'attributes': []},\n",
       "  {'name': 'platforms', 'type': 'ARRAY[STR]', 'attributes': []},\n",
       "  {'name': 'properties', 'type': 'ARRAY[STR]', 'attributes': []},\n",
       "  {'name': 'product_managers', 'type': 'ARRAY[STR]', 'attributes': []},\n",
       "  {'name': 'analysts', 'type': 'ARRAY[STR]', 'attributes': []},\n",
       "  {'name': 'engineers', 'type': 'ARRAY[STR]', 'attributes': []},\n",
       "  {'name': 'created_utc_date', 'type': 'INT', 'attributes': []},\n",
       "  {'name': 'disabled_utc_date', 'type': 'INT', 'attributes': []},\n",
       "  {'name': 'decided_utc_date', 'type': 'INT', 'attributes': []},\n",
       "  {'name': 'cleaned_utc_date', 'type': 'INT', 'attributes': []},\n",
       "  {'name': 'created_utc_ms', 'type': 'LONG', 'attributes': []},\n",
       "  {'name': 'disabled_utc_ms', 'type': 'LONG', 'attributes': []},\n",
       "  {'name': 'decided_utc_ms', 'type': 'LONG', 'attributes': []},\n",
       "  {'name': 'cleaned_utc_ms', 'type': 'LONG', 'attributes': []},\n",
       "  {'name': 'results_summary', 'type': 'STR', 'attributes': []},\n",
       "  {'name': 'previous_tests', 'type': 'ARRAY[LONG]', 'attributes': []},\n",
       "  {'name': 'metric_impacts', 'type': 'MAP[STR, STR]', 'attributes': []},\n",
       "  {'name': 'is_inconclusive', 'type': 'BOOL', 'attributes': []},\n",
       "  {'name': 'is_blown', 'type': 'BOOL', 'attributes': []},\n",
       "  {'name': 'is_will_launch', 'type': 'BOOL', 'attributes': []},\n",
       "  {'name': 'launch_cells', 'type': 'ARRAY[INT]', 'attributes': []},\n",
       "  {'name': 'launch_notes', 'type': 'STR', 'attributes': []},\n",
       "  {'name': 'launch_reasons', 'type': 'ARRAY[STR]', 'attributes': []},\n",
       "  {'name': 'other_launch_reason', 'type': 'STR', 'attributes': []},\n",
       "  {'name': 'test_links', 'type': 'MAP[STR, STR]', 'attributes': []},\n",
       "  {'name': 'rule_set', 'type': 'STR', 'attributes': []},\n",
       "  {'name': 'experience_config_type', 'type': 'STR', 'attributes': []},\n",
       "  {'name': 'feature_mappings',\n",
       "   'type': 'MAP[STR, ROW[STR feature, STR value]]',\n",
       "   'attributes': []}],\n",
       " 'updated_at': '2023-03-16T18:56:10.397578+00:00',\n",
       " 'materialization_configs': [],\n",
       " 'created_at': '2023-03-16T18:56:04.778997+00:00',\n",
       " 'tags': []}"
      ]
     },
     "execution_count": 12,
     "metadata": {},
     "output_type": "execute_result"
    }
   ],
   "source": [
    "response = requests.post(\n",
    "    f\"{DJ_URL}/nodes/source/\",\n",
    "    json={\n",
    "        \"description\": \"\",\n",
    "        \"mode\": \"published\",\n",
    "        \"name\": \"ab_test_detail_d_v2\",\n",
    "        \"display_name\": \"AB Tests\",\n",
    "        \"catalog\": \"prodhive\",\n",
    "        \"schema_\": \"dse\",\n",
    "        \"table\": \"ab_test_detail_d_v2\",\n",
    "    },\n",
    ")\n",
    "response.json()\n"
   ]
  },
  {
   "cell_type": "code",
   "execution_count": 13,
   "metadata": {
    "tags": []
   },
   "outputs": [
    {
     "data": {
      "text/plain": [
       "{'node_revision_id': 3,\n",
       " 'node_id': 3,\n",
       " 'type': 'transform',\n",
       " 'name': 'non_member_base',\n",
       " 'display_name': 'Non-Member Base',\n",
       " 'version': 'v1.0',\n",
       " 'status': 'valid',\n",
       " 'mode': 'published',\n",
       " 'catalog': {'id': 1,\n",
       "  'uuid': 'f0954bec-c172-42a0-bbe8-0e79b92b5eb6',\n",
       "  'created_at': '2023-03-16T18:54:35.654457+00:00',\n",
       "  'updated_at': '2023-03-16T18:54:35.654473+00:00',\n",
       "  'extra_params': {},\n",
       "  'name': 'prodhive'},\n",
       " 'schema_': None,\n",
       " 'table': None,\n",
       " 'description': 'Non-Member Base Table',\n",
       " 'query': \"\\nselect\\n    test_id, \\n    cell_id,\\n    visitor_device_id,\\n    account_id,\\n    alloc_group_id,\\n    allocation_region_date,\\n    country_iso_code,\\n    registration_utc_ts_ms,\\n    mop_utc_ts_ms,\\n    signup_utc_ts_ms,\\n    case\\n      when alloc_membership_status = 0 then 'cookied never members'\\n      when alloc_membership_status = 1 then 'cookied former members'\\n      when membership_status = 1\\n           and alloc_membership_status = 5 then 'un-cookied former members'\\n      when membership_status = 0\\n           and alloc_membership_status = 5\\n           and registration_utc_ts_ms is null then 'un-cookied never members'\\n      when membership_status = 2 then 'current members'\\n      else 'non registered members'\\n    end AS alloc_mem_status,\\n    coalesce(\\n    case \\n      when (other_properties['isMDS'] = 'true') then 'TV MDS' \\n      when (other_properties['netflixClientPlatform'] = 'browser' and other_properties['uaDeviceCategory'] = 'Desktop') then 'Desktop Web'\\n      when (other_properties['netflixClientPlatform'] = 'browser' and other_properties['uaDeviceCategory'] != 'Desktop') then 'Mobile Web'\\n      else other_properties['netflixClientPlatform']\\n    end,\\n    'NA') AS platform,\\n    is_bot,\\n    is_fraud,\\n    other_properties,\\n    retention_35d,\\n    retention_63d,\\n    retention_98d\\nfrom ab_nm_alloc_f f\\nwhere membership_status != 2\\n    and is_bot != 1\\n    and suspend_resume_flag != 1\\n\",\n",
       " 'availability': None,\n",
       " 'columns': [{'name': 'test_id', 'type': 'INT', 'attributes': []},\n",
       "  {'name': 'cell_id', 'type': 'INT', 'attributes': []},\n",
       "  {'name': 'visitor_device_id', 'type': 'STR', 'attributes': []},\n",
       "  {'name': 'account_id', 'type': 'LONG', 'attributes': []},\n",
       "  {'name': 'alloc_group_id', 'type': 'STR', 'attributes': []},\n",
       "  {'name': 'allocation_region_date', 'type': 'INT', 'attributes': []},\n",
       "  {'name': 'country_iso_code', 'type': 'STR', 'attributes': []},\n",
       "  {'name': 'registration_utc_ts_ms', 'type': 'LONG', 'attributes': []},\n",
       "  {'name': 'mop_utc_ts_ms', 'type': 'LONG', 'attributes': []},\n",
       "  {'name': 'signup_utc_ts_ms', 'type': 'LONG', 'attributes': []},\n",
       "  {'name': 'alloc_mem_status', 'type': 'STR', 'attributes': []},\n",
       "  {'name': 'platform', 'type': 'STR', 'attributes': []},\n",
       "  {'name': 'is_bot', 'type': 'INT', 'attributes': []},\n",
       "  {'name': 'is_fraud', 'type': 'INT', 'attributes': []},\n",
       "  {'name': 'other_properties', 'type': 'MAP[STR, STR]', 'attributes': []},\n",
       "  {'name': 'retention_35d',\n",
       "   'type': 'ROW[INT subscrn_end_date, INT activity_window, INT activity_window_end_date, INT signup_plan_rollup_id, STR signup_price_tier_code, STR current_country_iso_code, INT current_plan_rollup_id, STR current_price_tier_code, DECIMAL signup_plan_usd_price, DECIMAL actual_signup_plan_usd_price, DECIMAL current_plan_usd_price, DECIMAL actual_current_plan_usd_price, DECIMAL all_gross_realized_revenue, DECIMAL all_net_realized_revenue, DECIMAL gross_realized_revenue, DECIMAL net_realized_revenue, INT days_since_signup, INT days_paid, INT days_with_service, INT is_vol_cancel, INT is_invol_cancel, INT billing_event_cnt, INT max_period_paid, STR cumulative_streaming_secs, INT earliest_plan_change_date, INT signup_to_plan_change_days, INT is_plan_migrated, INT signup_date, INT snapshot_date, INT is_fraud, STR fraud_reason, INT fraud_eval_asof_date, MAP[STR, LONG] device_view_secs_map]',\n",
       "   'attributes': []},\n",
       "  {'name': 'retention_63d',\n",
       "   'type': 'ROW[INT subscrn_end_date, INT activity_window, INT activity_window_end_date, INT signup_plan_rollup_id, STR signup_price_tier_code, STR current_country_iso_code, INT current_plan_rollup_id, STR current_price_tier_code, DECIMAL signup_plan_usd_price, DECIMAL actual_signup_plan_usd_price, DECIMAL current_plan_usd_price, DECIMAL actual_current_plan_usd_price, DECIMAL all_gross_realized_revenue, DECIMAL all_net_realized_revenue, DECIMAL gross_realized_revenue, DECIMAL net_realized_revenue, INT days_since_signup, INT days_paid, INT days_with_service, INT is_vol_cancel, INT is_invol_cancel, INT billing_event_cnt, INT max_period_paid, STR cumulative_streaming_secs, INT earliest_plan_change_date, INT signup_to_plan_change_days, INT is_plan_migrated, INT signup_date, INT snapshot_date, INT is_fraud, STR fraud_reason, INT fraud_eval_asof_date, MAP[STR, LONG] device_view_secs_map]',\n",
       "   'attributes': []},\n",
       "  {'name': 'retention_98d',\n",
       "   'type': 'ROW[INT subscrn_end_date, INT activity_window, INT activity_window_end_date, INT signup_plan_rollup_id, STR signup_price_tier_code, STR current_country_iso_code, INT current_plan_rollup_id, STR current_price_tier_code, DECIMAL signup_plan_usd_price, DECIMAL actual_signup_plan_usd_price, DECIMAL current_plan_usd_price, DECIMAL actual_current_plan_usd_price, DECIMAL all_gross_realized_revenue, DECIMAL all_net_realized_revenue, DECIMAL gross_realized_revenue, DECIMAL net_realized_revenue, INT days_since_signup, INT days_paid, INT days_with_service, INT is_vol_cancel, INT is_invol_cancel, INT billing_event_cnt, INT max_period_paid, STR cumulative_streaming_secs, INT earliest_plan_change_date, INT signup_to_plan_change_days, INT is_plan_migrated, INT signup_date, INT snapshot_date, INT is_fraud, STR fraud_reason, INT fraud_eval_asof_date, MAP[STR, LONG] device_view_secs_map]',\n",
       "   'attributes': []}],\n",
       " 'updated_at': '2023-03-16T18:56:10.582132+00:00',\n",
       " 'materialization_configs': [],\n",
       " 'created_at': '2023-03-16T18:56:10.581672+00:00',\n",
       " 'tags': []}"
      ]
     },
     "execution_count": 13,
     "metadata": {},
     "output_type": "execute_result"
    }
   ],
   "source": [
    "response = requests.post(\n",
    "    f\"{DJ_URL}/nodes/transform/\",\n",
    "    json={\n",
    "        \"description\": \"Non-Member Base Table\",\n",
    "        \"mode\": \"published\",\n",
    "        \"name\": \"non_member_base\",\n",
    "        \"display_name\": \"Non-Member Base\",\n",
    "        \"columns\": [],\n",
    "        \"query\": \"\"\"\n",
    "select\n",
    "    test_id, \n",
    "    cell_id,\n",
    "    visitor_device_id,\n",
    "    account_id,\n",
    "    alloc_group_id,\n",
    "    allocation_region_date,\n",
    "    country_iso_code,\n",
    "    registration_utc_ts_ms,\n",
    "    mop_utc_ts_ms,\n",
    "    signup_utc_ts_ms,\n",
    "    case\n",
    "      when alloc_membership_status = 0 then 'cookied never members'\n",
    "      when alloc_membership_status = 1 then 'cookied former members'\n",
    "      when membership_status = 1\n",
    "           and alloc_membership_status = 5 then 'un-cookied former members'\n",
    "      when membership_status = 0\n",
    "           and alloc_membership_status = 5\n",
    "           and registration_utc_ts_ms is null then 'un-cookied never members'\n",
    "      when membership_status = 2 then 'current members'\n",
    "      else 'non registered members'\n",
    "    end AS alloc_mem_status,\n",
    "    coalesce(\n",
    "    case \n",
    "      when (other_properties['isMDS'] = 'true') then 'TV MDS' \n",
    "      when (other_properties['netflixClientPlatform'] = 'browser' and other_properties['uaDeviceCategory'] = 'Desktop') then 'Desktop Web'\n",
    "      when (other_properties['netflixClientPlatform'] = 'browser' and other_properties['uaDeviceCategory'] != 'Desktop') then 'Mobile Web'\n",
    "      else other_properties['netflixClientPlatform']\n",
    "    end,\n",
    "    'NA') AS platform,\n",
    "    is_bot,\n",
    "    is_fraud,\n",
    "    other_properties,\n",
    "    retention_35d,\n",
    "    retention_63d,\n",
    "    retention_98d\n",
    "from ab_nm_alloc_f f\n",
    "where membership_status != 2\n",
    "    and is_bot != 1\n",
    "    and suspend_resume_flag != 1\n",
    "\"\"\",\n",
    "    },\n",
    ")\n",
    "response.json()\n",
    "\n"
   ]
  },
  {
   "cell_type": "code",
   "execution_count": 14,
   "metadata": {
    "tags": []
   },
   "outputs": [
    {
     "data": {
      "text/plain": [
       "{'node_revision_id': 4,\n",
       " 'node_id': 4,\n",
       " 'type': 'source',\n",
       " 'name': 'geo_country_d',\n",
       " 'display_name': 'Country Dim Source',\n",
       " 'version': 'v1.0',\n",
       " 'status': 'valid',\n",
       " 'mode': 'published',\n",
       " 'catalog': {'id': 1,\n",
       "  'uuid': 'f0954bec-c172-42a0-bbe8-0e79b92b5eb6',\n",
       "  'created_at': '2023-03-16T18:54:35.654457+00:00',\n",
       "  'updated_at': '2023-03-16T18:54:35.654473+00:00',\n",
       "  'extra_params': {},\n",
       "  'name': 'prodhive'},\n",
       " 'schema_': 'dse',\n",
       " 'table': 'geo_country_d',\n",
       " 'description': '',\n",
       " 'query': None,\n",
       " 'availability': None,\n",
       " 'columns': [{'name': 'country_iso_code', 'type': 'STR', 'attributes': []},\n",
       "  {'name': 'country_sk', 'type': 'INT', 'attributes': []},\n",
       "  {'name': 'country_desc', 'type': 'STR', 'attributes': []},\n",
       "  {'name': 'country_full_desc', 'type': 'STR', 'attributes': []},\n",
       "  {'name': 'company_code', 'type': 'STR', 'attributes': []},\n",
       "  {'name': 'subregion_sk', 'type': 'INT', 'attributes': []},\n",
       "  {'name': 'subregion_pd_sk', 'type': 'INT', 'attributes': []},\n",
       "  {'name': 'content_subregion_sk', 'type': 'INT', 'attributes': []},\n",
       "  {'name': 'content_subregion_desc', 'type': 'STR', 'attributes': []},\n",
       "  {'name': 'is_csrgn_trigger_country', 'type': 'INT', 'attributes': []},\n",
       "  {'name': 'marketing_country_rollup_sk', 'type': 'INT', 'attributes': []},\n",
       "  {'name': 'marketing_country_rollup_desc', 'type': 'STR', 'attributes': []},\n",
       "  {'name': 'marketing_subregion_sk', 'type': 'INT', 'attributes': []},\n",
       "  {'name': 'marketing_subregion_desc', 'type': 'STR', 'attributes': []},\n",
       "  {'name': 'marketing_region_sk', 'type': 'INT', 'attributes': []},\n",
       "  {'name': 'marketing_region_desc', 'type': 'STR', 'attributes': []},\n",
       "  {'name': 'estaff_subregion_sk', 'type': 'INT', 'attributes': []},\n",
       "  {'name': 'estaff_subregion_desc', 'type': 'STR', 'attributes': []},\n",
       "  {'name': 'finance_subregion_sk', 'type': 'INT', 'attributes': []},\n",
       "  {'name': 'finance_subregion_desc', 'type': 'STR', 'attributes': []},\n",
       "  {'name': 'forecast_subregion_sk', 'type': 'INT', 'attributes': []},\n",
       "  {'name': 'forecast_subregion_desc', 'type': 'STR', 'attributes': []},\n",
       "  {'name': 'forecast_subregion_code', 'type': 'STR', 'attributes': []},\n",
       "  {'name': 'launch_wave', 'type': 'INT', 'attributes': []},\n",
       "  {'name': 'rnk', 'type': 'INT', 'attributes': []},\n",
       "  {'name': 'country_rnk', 'type': 'INT', 'attributes': []},\n",
       "  {'name': 'launch_date', 'type': 'INT', 'attributes': []},\n",
       "  {'name': 'family_friends_date', 'type': 'INT', 'attributes': []},\n",
       "  {'name': 'default_time_zone_code', 'type': 'STR', 'attributes': []},\n",
       "  {'name': 'region_time_zone_code', 'type': 'STR', 'attributes': []},\n",
       "  {'name': 'region_iana_time_zone_code', 'type': 'STR', 'attributes': []},\n",
       "  {'name': 'primary_language_id', 'type': 'INT', 'attributes': []},\n",
       "  {'name': 'primary_language_code', 'type': 'STR', 'attributes': []},\n",
       "  {'name': 'subregion_desc', 'type': 'STR', 'attributes': []},\n",
       "  {'name': 'subregion_pd_name', 'type': 'STR', 'attributes': []},\n",
       "  {'name': 'subregion_rnk', 'type': 'INT', 'attributes': []},\n",
       "  {'name': 'region_sk', 'type': 'INT', 'attributes': []},\n",
       "  {'name': 'region_desc', 'type': 'STR', 'attributes': []},\n",
       "  {'name': 'region_rnk', 'type': 'INT', 'attributes': []},\n",
       "  {'name': 'region_rollup_sk', 'type': 'INT', 'attributes': []},\n",
       "  {'name': 'region_rollup_desc', 'type': 'STR', 'attributes': []},\n",
       "  {'name': 'region_rollup_rnk', 'type': 'INT', 'attributes': []},\n",
       "  {'name': 'world_sk', 'type': 'INT', 'attributes': []},\n",
       "  {'name': 'world_desc', 'type': 'STR', 'attributes': []},\n",
       "  {'name': 'country_rnk_by_memberships', 'type': 'INT', 'attributes': []},\n",
       "  {'name': 'country_time_zone_code', 'type': 'STR', 'attributes': []},\n",
       "  {'name': 'oc_subregion_rnk', 'type': 'INT', 'attributes': []},\n",
       "  {'name': 'oc_subregion_desc', 'type': 'STR', 'attributes': []},\n",
       "  {'name': 'workday_region_id', 'type': 'STR', 'attributes': []},\n",
       "  {'name': 'country_iso3_code', 'type': 'STR', 'attributes': []},\n",
       "  {'name': 'is_active', 'type': 'BOOL', 'attributes': []},\n",
       "  {'name': 'is_geo_blocked', 'type': 'BOOL', 'attributes': []}],\n",
       " 'updated_at': '2023-03-16T18:56:16.398691+00:00',\n",
       " 'materialization_configs': [],\n",
       " 'created_at': '2023-03-16T18:56:10.850786+00:00',\n",
       " 'tags': []}"
      ]
     },
     "execution_count": 14,
     "metadata": {},
     "output_type": "execute_result"
    }
   ],
   "source": [
    "response = requests.post(\n",
    "    f\"{DJ_URL}/nodes/source/\",\n",
    "    json={\n",
    "        \"description\": \"\",\n",
    "        \"mode\": \"published\",\n",
    "        \"name\": \"geo_country_d\",\n",
    "        \"display_name\": \"Country Dim Source\",\n",
    "        \"catalog\": \"prodhive\",\n",
    "        \"schema_\": \"dse\",\n",
    "        \"table\": \"geo_country_d\",\n",
    "    },\n",
    ")\n",
    "response.json()\n"
   ]
  },
  {
   "cell_type": "code",
   "execution_count": 15,
   "metadata": {
    "tags": []
   },
   "outputs": [
    {
     "data": {
      "text/plain": [
       "{'node_revision_id': 5,\n",
       " 'node_id': 5,\n",
       " 'type': 'dimension',\n",
       " 'name': 'geo_d',\n",
       " 'display_name': 'Geo Country Dim',\n",
       " 'version': 'v1.0',\n",
       " 'status': 'valid',\n",
       " 'mode': 'published',\n",
       " 'catalog': {'id': 1,\n",
       "  'uuid': 'f0954bec-c172-42a0-bbe8-0e79b92b5eb6',\n",
       "  'created_at': '2023-03-16T18:54:35.654457+00:00',\n",
       "  'updated_at': '2023-03-16T18:54:35.654473+00:00',\n",
       "  'extra_params': {},\n",
       "  'name': 'prodhive'},\n",
       " 'schema_': None,\n",
       " 'table': None,\n",
       " 'description': 'Country dim',\n",
       " 'query': 'select country_iso_code, subregion_desc, country_desc from geo_country_d',\n",
       " 'availability': None,\n",
       " 'columns': [{'name': 'country_iso_code', 'type': 'STR', 'attributes': []},\n",
       "  {'name': 'subregion_desc', 'type': 'STR', 'attributes': []},\n",
       "  {'name': 'country_desc', 'type': 'STR', 'attributes': []}],\n",
       " 'updated_at': '2023-03-16T18:56:16.586133+00:00',\n",
       " 'materialization_configs': [],\n",
       " 'created_at': '2023-03-16T18:56:16.585680+00:00',\n",
       " 'tags': []}"
      ]
     },
     "execution_count": 15,
     "metadata": {},
     "output_type": "execute_result"
    }
   ],
   "source": [
    "response = requests.post(\n",
    "    f\"{DJ_URL}/nodes/dimension/\",\n",
    "    json={\n",
    "        \"description\": \"Country dim\",\n",
    "        \"mode\": \"published\",\n",
    "        \"name\": \"geo_d\",\n",
    "        \"display_name\": \"Geo Country Dim\",\n",
    "        \"query\": \"select country_iso_code, subregion_desc, country_desc from geo_country_d\",\n",
    "    },\n",
    ")\n",
    "response.json()\n"
   ]
  },
  {
   "cell_type": "code",
   "execution_count": 16,
   "metadata": {
    "tags": []
   },
   "outputs": [
    {
     "data": {
      "text/plain": [
       "{'node_revision_id': 6,\n",
       " 'node_id': 6,\n",
       " 'type': 'source',\n",
       " 'name': 'ab_test_plan_d_v2',\n",
       " 'display_name': 'AB Test Plans',\n",
       " 'version': 'v1.0',\n",
       " 'status': 'valid',\n",
       " 'mode': 'published',\n",
       " 'catalog': {'id': 1,\n",
       "  'uuid': 'f0954bec-c172-42a0-bbe8-0e79b92b5eb6',\n",
       "  'created_at': '2023-03-16T18:54:35.654457+00:00',\n",
       "  'updated_at': '2023-03-16T18:54:35.654473+00:00',\n",
       "  'extra_params': {},\n",
       "  'name': 'prodhive'},\n",
       " 'schema_': 'dse',\n",
       " 'table': 'ab_test_plan_d_v2',\n",
       " 'description': 'AB test plans',\n",
       " 'query': None,\n",
       " 'availability': None,\n",
       " 'columns': [{'name': 'test_id', 'type': 'LONG', 'attributes': []},\n",
       "  {'name': 'group_id', 'type': 'STR', 'attributes': []},\n",
       "  {'name': 'name', 'type': 'STR', 'attributes': []},\n",
       "  {'name': 'plan_type', 'type': 'STR', 'attributes': []},\n",
       "  {'name': 'plan_action', 'type': 'STR', 'attributes': []},\n",
       "  {'name': 'plan_status', 'type': 'STR', 'attributes': []},\n",
       "  {'name': 'plan_reason', 'type': 'STR', 'attributes': []},\n",
       "  {'name': 'is_compromised', 'type': 'BOOL', 'attributes': []},\n",
       "  {'name': 'cell_ratios', 'type': 'MAP[STR, INT]', 'attributes': []},\n",
       "  {'name': 'rules', 'type': 'STR', 'attributes': []},\n",
       "  {'name': 'countries', 'type': 'ARRAY[STR]', 'attributes': []},\n",
       "  {'name': 'max_allocs', 'type': 'INT', 'attributes': []},\n",
       "  {'name': 'created_utc_date', 'type': 'INT', 'attributes': []},\n",
       "  {'name': 'start_utc_date', 'type': 'INT', 'attributes': []},\n",
       "  {'name': 'end_utc_date', 'type': 'INT', 'attributes': []},\n",
       "  {'name': 'created_utc_ms', 'type': 'LONG', 'attributes': []},\n",
       "  {'name': 'start_utc_ms', 'type': 'LONG', 'attributes': []},\n",
       "  {'name': 'end_utc_ms', 'type': 'LONG', 'attributes': []},\n",
       "  {'name': 'batch_info_id', 'type': 'STR', 'attributes': []},\n",
       "  {'name': 'batch_error', 'type': 'STR', 'attributes': []},\n",
       "  {'name': 'batch_counts', 'type': 'MAP[STR, INT]', 'attributes': []}],\n",
       " 'updated_at': '2023-03-16T18:56:22.286095+00:00',\n",
       " 'materialization_configs': [],\n",
       " 'created_at': '2023-03-16T18:56:16.766023+00:00',\n",
       " 'tags': []}"
      ]
     },
     "execution_count": 16,
     "metadata": {},
     "output_type": "execute_result"
    }
   ],
   "source": [
    "response = requests.post(\n",
    "    f\"{DJ_URL}/nodes/source/\",\n",
    "    json={\n",
    "        \"description\": \"AB test plans\",\n",
    "        \"mode\": \"published\",\n",
    "        \"name\": \"ab_test_plan_d_v2\",\n",
    "        \"display_name\": \"AB Test Plans\",\n",
    "        \"catalog\": \"prodhive\",\n",
    "        \"schema_\": \"dse\",\n",
    "        \"table\": \"ab_test_plan_d_v2\",\n",
    "    },\n",
    ")\n",
    "response.json()\n"
   ]
  },
  {
   "cell_type": "code",
   "execution_count": 17,
   "metadata": {
    "tags": []
   },
   "outputs": [
    {
     "data": {
      "text/plain": [
       "{'node_revision_id': 7,\n",
       " 'node_id': 7,\n",
       " 'type': 'dimension',\n",
       " 'name': 'group_d',\n",
       " 'display_name': 'AB Test Allocation Groups',\n",
       " 'version': 'v1.0',\n",
       " 'status': 'valid',\n",
       " 'mode': 'published',\n",
       " 'catalog': {'id': 1,\n",
       "  'uuid': 'f0954bec-c172-42a0-bbe8-0e79b92b5eb6',\n",
       "  'created_at': '2023-03-16T18:54:35.654457+00:00',\n",
       "  'updated_at': '2023-03-16T18:54:35.654473+00:00',\n",
       "  'extra_params': {},\n",
       "  'name': 'prodhive'},\n",
       " 'schema_': None,\n",
       " 'table': None,\n",
       " 'description': 'Allocation Groups',\n",
       " 'query': 'select test_id, group_id alloc_group_id, MAX(name) alloc_group_name from ab_test_plan_d_v2 group by 1, 2',\n",
       " 'availability': None,\n",
       " 'columns': [{'name': 'test_id', 'type': 'LONG', 'attributes': []},\n",
       "  {'name': 'alloc_group_id', 'type': 'STR', 'attributes': []},\n",
       "  {'name': 'alloc_group_name', 'type': 'STR', 'attributes': []}],\n",
       " 'updated_at': '2023-03-16T18:56:22.461966+00:00',\n",
       " 'materialization_configs': [],\n",
       " 'created_at': '2023-03-16T18:56:22.461549+00:00',\n",
       " 'tags': []}"
      ]
     },
     "execution_count": 17,
     "metadata": {},
     "output_type": "execute_result"
    }
   ],
   "source": [
    "response = requests.post(\n",
    "    f\"{DJ_URL}/nodes/dimension/\",\n",
    "    json={\n",
    "        \"description\": \"Allocation Groups\",\n",
    "        \"mode\": \"published\",\n",
    "        \"name\": \"group_d\",\n",
    "        \"display_name\": \"AB Test Allocation Groups\",\n",
    "        \"query\": \"select test_id, group_id alloc_group_id, MAX(name) alloc_group_name from ab_test_plan_d_v2 group by 1, 2\",\n",
    "    },\n",
    ")\n",
    "response.json()\n"
   ]
  },
  {
   "cell_type": "code",
   "execution_count": 18,
   "metadata": {
    "tags": []
   },
   "outputs": [
    {
     "data": {
      "text/plain": [
       "{'node_revision_id': 8,\n",
       " 'node_id': 8,\n",
       " 'type': 'dimension',\n",
       " 'name': 'test_d',\n",
       " 'display_name': 'AB Tests',\n",
       " 'version': 'v1.0',\n",
       " 'status': 'valid',\n",
       " 'mode': 'published',\n",
       " 'catalog': {'id': 1,\n",
       "  'uuid': 'f0954bec-c172-42a0-bbe8-0e79b92b5eb6',\n",
       "  'created_at': '2023-03-16T18:54:35.654457+00:00',\n",
       "  'updated_at': '2023-03-16T18:54:35.654473+00:00',\n",
       "  'extra_params': {},\n",
       "  'name': 'prodhive'},\n",
       " 'schema_': None,\n",
       " 'table': None,\n",
       " 'description': '',\n",
       " 'query': 'select test_id, MAX(name) test_name from ab_test_detail_d_v2 group by 1',\n",
       " 'availability': None,\n",
       " 'columns': [{'name': 'test_id', 'type': 'LONG', 'attributes': []},\n",
       "  {'name': 'test_name', 'type': 'STR', 'attributes': []}],\n",
       " 'updated_at': '2023-03-16T18:56:22.632090+00:00',\n",
       " 'materialization_configs': [],\n",
       " 'created_at': '2023-03-16T18:56:22.631715+00:00',\n",
       " 'tags': []}"
      ]
     },
     "execution_count": 18,
     "metadata": {},
     "output_type": "execute_result"
    }
   ],
   "source": [
    "response = requests.post(\n",
    "    f\"{DJ_URL}/nodes/dimension/\",\n",
    "    json={\n",
    "        \"description\": \"\",\n",
    "        \"mode\": \"published\",\n",
    "        \"name\": \"test_d\",\n",
    "        \"display_name\": \"AB Tests\",\n",
    "        \"query\": \"select test_id, MAX(name) test_name from ab_test_detail_d_v2 group by 1\",\n",
    "    },\n",
    ")\n",
    "response.json()\n"
   ]
  },
  {
   "cell_type": "code",
   "execution_count": 19,
   "metadata": {
    "tags": []
   },
   "outputs": [
    {
     "data": {
      "text/plain": [
       "{'message': 'Dimension node test_d has been successfully linked to column test_id on node non_member_base'}"
      ]
     },
     "execution_count": 19,
     "metadata": {},
     "output_type": "execute_result"
    }
   ],
   "source": [
    "response = requests.post(\n",
    "    f\"{DJ_URL}/nodes/non_member_base/columns/test_id/?dimension=test_d&dimension_column=test_id\",\n",
    ")\n",
    "response.json()\n",
    "\n"
   ]
  },
  {
   "cell_type": "code",
   "execution_count": 20,
   "metadata": {
    "tags": []
   },
   "outputs": [
    {
     "data": {
      "text/plain": [
       "{'message': 'Dimension node geo_d has been successfully linked to column country_iso_code on node non_member_base'}"
      ]
     },
     "execution_count": 20,
     "metadata": {},
     "output_type": "execute_result"
    }
   ],
   "source": [
    "response = requests.post(\n",
    "    f\"{DJ_URL}/nodes/non_member_base/columns/country_iso_code/?dimension=geo_d&dimension_column=country_iso_code\",\n",
    ")\n",
    "response.json()\n"
   ]
  },
  {
   "cell_type": "code",
   "execution_count": 21,
   "metadata": {
    "tags": []
   },
   "outputs": [
    {
     "data": {
      "text/plain": [
       "{'message': 'Dimension node group_d has been successfully linked to column alloc_group_id on node non_member_base'}"
      ]
     },
     "execution_count": 21,
     "metadata": {},
     "output_type": "execute_result"
    }
   ],
   "source": [
    "response = requests.post(\n",
    "    f\"{DJ_URL}/nodes/non_member_base/columns/alloc_group_id/?dimension=group_d&dimension_column=alloc_group_id\",\n",
    ")\n",
    "response.json()\n"
   ]
  },
  {
   "cell_type": "code",
   "execution_count": 22,
   "metadata": {},
   "outputs": [
    {
     "ename": "JSONDecodeError",
     "evalue": "Expecting value: line 1 column 1 (char 0)",
     "output_type": "error",
     "traceback": [
      "\u001B[0;31m---------------------------------------------------------------------------\u001B[0m",
      "\u001B[0;31mJSONDecodeError\u001B[0m                           Traceback (most recent call last)",
      "File \u001B[0;32m~/internal/xp-env/conda/envs/xp-env/lib/python3.9/site-packages/requests/models.py:971\u001B[0m, in \u001B[0;36mResponse.json\u001B[0;34m(self, **kwargs)\u001B[0m\n\u001B[1;32m    970\u001B[0m \u001B[38;5;28;01mtry\u001B[39;00m:\n\u001B[0;32m--> 971\u001B[0m     \u001B[38;5;28;01mreturn\u001B[39;00m \u001B[43mcomplexjson\u001B[49m\u001B[38;5;241;43m.\u001B[39;49m\u001B[43mloads\u001B[49m\u001B[43m(\u001B[49m\u001B[38;5;28;43mself\u001B[39;49m\u001B[38;5;241;43m.\u001B[39;49m\u001B[43mtext\u001B[49m\u001B[43m,\u001B[49m\u001B[43m \u001B[49m\u001B[38;5;241;43m*\u001B[39;49m\u001B[38;5;241;43m*\u001B[39;49m\u001B[43mkwargs\u001B[49m\u001B[43m)\u001B[49m\n\u001B[1;32m    972\u001B[0m \u001B[38;5;28;01mexcept\u001B[39;00m JSONDecodeError \u001B[38;5;28;01mas\u001B[39;00m e:\n\u001B[1;32m    973\u001B[0m     \u001B[38;5;66;03m# Catch JSON-related errors and raise as requests.JSONDecodeError\u001B[39;00m\n\u001B[1;32m    974\u001B[0m     \u001B[38;5;66;03m# This aliases json.JSONDecodeError and simplejson.JSONDecodeError\u001B[39;00m\n",
      "File \u001B[0;32m~/internal/xp-env/conda/envs/xp-env/lib/python3.9/site-packages/simplejson/__init__.py:525\u001B[0m, in \u001B[0;36mloads\u001B[0;34m(s, encoding, cls, object_hook, parse_float, parse_int, parse_constant, object_pairs_hook, use_decimal, **kw)\u001B[0m\n\u001B[1;32m    521\u001B[0m \u001B[38;5;28;01mif\u001B[39;00m (\u001B[38;5;28mcls\u001B[39m \u001B[38;5;129;01mis\u001B[39;00m \u001B[38;5;28;01mNone\u001B[39;00m \u001B[38;5;129;01mand\u001B[39;00m encoding \u001B[38;5;129;01mis\u001B[39;00m \u001B[38;5;28;01mNone\u001B[39;00m \u001B[38;5;129;01mand\u001B[39;00m object_hook \u001B[38;5;129;01mis\u001B[39;00m \u001B[38;5;28;01mNone\u001B[39;00m \u001B[38;5;129;01mand\u001B[39;00m\n\u001B[1;32m    522\u001B[0m         parse_int \u001B[38;5;129;01mis\u001B[39;00m \u001B[38;5;28;01mNone\u001B[39;00m \u001B[38;5;129;01mand\u001B[39;00m parse_float \u001B[38;5;129;01mis\u001B[39;00m \u001B[38;5;28;01mNone\u001B[39;00m \u001B[38;5;129;01mand\u001B[39;00m\n\u001B[1;32m    523\u001B[0m         parse_constant \u001B[38;5;129;01mis\u001B[39;00m \u001B[38;5;28;01mNone\u001B[39;00m \u001B[38;5;129;01mand\u001B[39;00m object_pairs_hook \u001B[38;5;129;01mis\u001B[39;00m \u001B[38;5;28;01mNone\u001B[39;00m\n\u001B[1;32m    524\u001B[0m         \u001B[38;5;129;01mand\u001B[39;00m \u001B[38;5;129;01mnot\u001B[39;00m use_decimal \u001B[38;5;129;01mand\u001B[39;00m \u001B[38;5;129;01mnot\u001B[39;00m kw):\n\u001B[0;32m--> 525\u001B[0m     \u001B[38;5;28;01mreturn\u001B[39;00m \u001B[43m_default_decoder\u001B[49m\u001B[38;5;241;43m.\u001B[39;49m\u001B[43mdecode\u001B[49m\u001B[43m(\u001B[49m\u001B[43ms\u001B[49m\u001B[43m)\u001B[49m\n\u001B[1;32m    526\u001B[0m \u001B[38;5;28;01mif\u001B[39;00m \u001B[38;5;28mcls\u001B[39m \u001B[38;5;129;01mis\u001B[39;00m \u001B[38;5;28;01mNone\u001B[39;00m:\n",
      "File \u001B[0;32m~/internal/xp-env/conda/envs/xp-env/lib/python3.9/site-packages/simplejson/decoder.py:370\u001B[0m, in \u001B[0;36mJSONDecoder.decode\u001B[0;34m(self, s, _w, _PY3)\u001B[0m\n\u001B[1;32m    369\u001B[0m     s \u001B[38;5;241m=\u001B[39m \u001B[38;5;28mstr\u001B[39m(s, \u001B[38;5;28mself\u001B[39m\u001B[38;5;241m.\u001B[39mencoding)\n\u001B[0;32m--> 370\u001B[0m obj, end \u001B[38;5;241m=\u001B[39m \u001B[38;5;28;43mself\u001B[39;49m\u001B[38;5;241;43m.\u001B[39;49m\u001B[43mraw_decode\u001B[49m\u001B[43m(\u001B[49m\u001B[43ms\u001B[49m\u001B[43m)\u001B[49m\n\u001B[1;32m    371\u001B[0m end \u001B[38;5;241m=\u001B[39m _w(s, end)\u001B[38;5;241m.\u001B[39mend()\n",
      "File \u001B[0;32m~/internal/xp-env/conda/envs/xp-env/lib/python3.9/site-packages/simplejson/decoder.py:400\u001B[0m, in \u001B[0;36mJSONDecoder.raw_decode\u001B[0;34m(self, s, idx, _w, _PY3)\u001B[0m\n\u001B[1;32m    399\u001B[0m         idx \u001B[38;5;241m+\u001B[39m\u001B[38;5;241m=\u001B[39m \u001B[38;5;241m3\u001B[39m\n\u001B[0;32m--> 400\u001B[0m \u001B[38;5;28;01mreturn\u001B[39;00m \u001B[38;5;28;43mself\u001B[39;49m\u001B[38;5;241;43m.\u001B[39;49m\u001B[43mscan_once\u001B[49m\u001B[43m(\u001B[49m\u001B[43ms\u001B[49m\u001B[43m,\u001B[49m\u001B[43m \u001B[49m\u001B[43midx\u001B[49m\u001B[38;5;241;43m=\u001B[39;49m\u001B[43m_w\u001B[49m\u001B[43m(\u001B[49m\u001B[43ms\u001B[49m\u001B[43m,\u001B[49m\u001B[43m \u001B[49m\u001B[43midx\u001B[49m\u001B[43m)\u001B[49m\u001B[38;5;241;43m.\u001B[39;49m\u001B[43mend\u001B[49m\u001B[43m(\u001B[49m\u001B[43m)\u001B[49m\u001B[43m)\u001B[49m\n",
      "\u001B[0;31mJSONDecodeError\u001B[0m: Expecting value: line 1 column 1 (char 0)",
      "\nDuring handling of the above exception, another exception occurred:\n",
      "\u001B[0;31mJSONDecodeError\u001B[0m                           Traceback (most recent call last)",
      "Cell \u001B[0;32mIn [22], line 19\u001B[0m\n\u001B[1;32m      1\u001B[0m response \u001B[38;5;241m=\u001B[39m requests\u001B[38;5;241m.\u001B[39mpost(\n\u001B[1;32m      2\u001B[0m     \u001B[38;5;124mf\u001B[39m\u001B[38;5;124m\"\u001B[39m\u001B[38;5;132;01m{\u001B[39;00mDJ_URL\u001B[38;5;132;01m}\u001B[39;00m\u001B[38;5;124m/nodes/dimension/\u001B[39m\u001B[38;5;124m\"\u001B[39m,\n\u001B[1;32m      3\u001B[0m     json\u001B[38;5;241m=\u001B[39m{\n\u001B[0;32m   (...)\u001B[0m\n\u001B[1;32m     17\u001B[0m     },\n\u001B[1;32m     18\u001B[0m )\n\u001B[0;32m---> 19\u001B[0m \u001B[43mresponse\u001B[49m\u001B[38;5;241;43m.\u001B[39;49m\u001B[43mjson\u001B[49m\u001B[43m(\u001B[49m\u001B[43m)\u001B[49m\n",
      "File \u001B[0;32m~/internal/xp-env/conda/envs/xp-env/lib/python3.9/site-packages/requests/models.py:975\u001B[0m, in \u001B[0;36mResponse.json\u001B[0;34m(self, **kwargs)\u001B[0m\n\u001B[1;32m    971\u001B[0m     \u001B[38;5;28;01mreturn\u001B[39;00m complexjson\u001B[38;5;241m.\u001B[39mloads(\u001B[38;5;28mself\u001B[39m\u001B[38;5;241m.\u001B[39mtext, \u001B[38;5;241m*\u001B[39m\u001B[38;5;241m*\u001B[39mkwargs)\n\u001B[1;32m    972\u001B[0m \u001B[38;5;28;01mexcept\u001B[39;00m JSONDecodeError \u001B[38;5;28;01mas\u001B[39;00m e:\n\u001B[1;32m    973\u001B[0m     \u001B[38;5;66;03m# Catch JSON-related errors and raise as requests.JSONDecodeError\u001B[39;00m\n\u001B[1;32m    974\u001B[0m     \u001B[38;5;66;03m# This aliases json.JSONDecodeError and simplejson.JSONDecodeError\u001B[39;00m\n\u001B[0;32m--> 975\u001B[0m     \u001B[38;5;28;01mraise\u001B[39;00m RequestsJSONDecodeError(e\u001B[38;5;241m.\u001B[39mmsg, e\u001B[38;5;241m.\u001B[39mdoc, e\u001B[38;5;241m.\u001B[39mpos)\n",
      "\u001B[0;31mJSONDecodeError\u001B[0m: Expecting value: line 1 column 1 (char 0)"
     ]
    }
   ],
   "source": [
    "response = requests.post(\n",
    "    f\"{DJ_URL}/nodes/dimension/\",\n",
    "    json={\n",
    "        \"description\": \"AB test cells\",\n",
    "        \"mode\": \"published\",\n",
    "        \"name\": \"cell_d39\",\n",
    "        \"display_name\": \"Test Cells\",\n",
    "        \"query\": \"\"\"SELECT cast(cell_id as int) cell_id,\n",
    "              cell_name test_cell_name \n",
    "            FROM\n",
    "             (\n",
    "                 select test_id,\n",
    "                        cells \n",
    "                  from ab_test_detail_d_v2\n",
    "             ) tests\n",
    "             CROSS JOIN UNNEST(cells) AS t (cell_id, cell_name)\"\"\",\n",
    "    },\n",
    ")\n",
    "response.json()\n"
   ]
  },
  {
   "cell_type": "code",
   "execution_count": null,
   "metadata": {
    "tags": []
   },
   "outputs": [],
   "source": [
    "# TODO: Missing cell_d\n",
    "response = requests.post(\n",
    "    f\"{DJ_URL}/nodes/non_member_base/columns/cell_id/?dimension=cell_d&dimension_column=cell_id\",\n",
    ")\n",
    "response.json()\n"
   ]
  },
  {
   "cell_type": "code",
   "execution_count": null,
   "metadata": {
    "tags": []
   },
   "outputs": [],
   "source": [
    "response = requests.post(\n",
    "    f\"{DJ_URL}/nodes/metric/\",\n",
    "    json={\n",
    "        \"description\": \"allocations count\",\n",
    "        \"mode\": \"published\",\n",
    "        \"name\": \"allocations\",\n",
    "        \"display_name\": \"Allocations Count\",\n",
    "        \"query\": \"select SUM(1) AS allocations_cnt from non_member_base\",\n",
    "    },\n",
    ")\n",
    "response.json()\n"
   ]
  },
  {
   "cell_type": "code",
   "execution_count": null,
   "metadata": {
    "tags": []
   },
   "outputs": [],
   "source": [
    "\n",
    "response = requests.post(\n",
    "    f\"{DJ_URL}/nodes/metric/\",\n",
    "    json={\n",
    "        \"description\": \"\",\n",
    "        \"mode\": \"published\",\n",
    "        \"name\": \"signup_cnt\",\n",
    "        \"display_name\": \"Total Signups\",\n",
    "        \"query\": \"select SUM(CASE WHEN is_fraud != 1 and signup_utc_ts_ms is not null THEN 1 ELSE 0 END) AS signup_cnt from non_member_base\",\n",
    "    },\n",
    ")\n",
    "response.json()\n"
   ]
  },
  {
   "cell_type": "code",
   "execution_count": null,
   "metadata": {
    "tags": []
   },
   "outputs": [],
   "source": [
    "\n",
    "response = requests.post(\n",
    "    f\"{DJ_URL}/nodes/metric/\",\n",
    "    json={\n",
    "        \"description\": \"\",\n",
    "        \"mode\": \"published\",\n",
    "        \"name\": \"signup_rate\",\n",
    "        \"display_name\": \"Signup Rate\",\n",
    "        \"query\": \"select SUM(CASE WHEN is_fraud != 1 and signup_utc_ts_ms is not null THEN 1 ELSE 0 END) AS signup_rate_num from non_member_base\",\n",
    "    },\n",
    ")\n",
    "response.json()\n"
   ]
  },
  {
   "cell_type": "code",
   "execution_count": null,
   "metadata": {
    "tags": []
   },
   "outputs": [],
   "source": [
    "response = requests.get(\n",
    "    f\"{DJ_URL}/metrics/allocations/sql/?dimensions=test_d.test_id&dimensions=cell_id&dimensions=test_d.test_name&dimensions=group_d.alloc_group_name&dimensions=geo_d.country_desc&dimensions=geo_d.subregion_desc&dimensions=alloc_mem_status&dimensions=platform&filters=test_id%3D45996\"\n",
    ")\n",
    "print(response.json()['sql'])\n"
   ]
  },
  {
   "cell_type": "code",
   "execution_count": null,
   "metadata": {
    "tags": []
   },
   "outputs": [],
   "source": [
    "response = requests.get(\n",
    "    f\"{DJ_URL}/data/allocations/?dimensions=test_d.test_id&dimensions=cell_id&dimensions=test_d.test_name&dimensions=group_d.alloc_group_name&dimensions=geo_d.country_desc&dimensions=geo_d.subregion_desc&dimensions=alloc_mem_status&dimensions=platform&filters=test_id%3D45996\"\n",
    ")\n",
    "response.json()\n"
   ]
  },
  {
   "cell_type": "code",
   "execution_count": null,
   "metadata": {
    "tags": []
   },
   "outputs": [],
   "source": [
    "response = requests.get(\n",
    "    f\"{DJ_URL}/data/test_d/\",\n",
    "    params={},\n",
    ")\n",
    "response.json()\n"
   ]
  },
  {
   "cell_type": "code",
   "execution_count": null,
   "metadata": {},
   "outputs": [],
   "source": []
  },
  {
   "cell_type": "code",
   "execution_count": null,
   "metadata": {},
   "outputs": [],
   "source": []
  }
 ],
 "metadata": {
  "kernelspec": {
   "display_name": "Python 3 (XP Env)",
   "language": "python",
   "name": "xp-env-python"
  },
  "language_info": {
   "codemirror_mode": {
    "name": "ipython",
    "version": 3
   },
   "file_extension": ".py",
   "mimetype": "text/x-python",
   "name": "python",
   "nbconvert_exporter": "python",
   "pygments_lexer": "ipython3",
   "version": "3.9.16"
  }
 },
 "nbformat": 4,
 "nbformat_minor": 4
}
