{
 "cells": [
  {
   "cell_type": "markdown",
   "metadata": {},
   "source": [
    "## Learn Hurst exponent for fractional Brownian Motion\n"
   ]
  },
  {
   "cell_type": "code",
   "execution_count": 1,
   "metadata": {},
   "outputs": [],
   "source": [
    "import equinox as eqx\n",
    "import fbm\n",
    "import jax\n",
    "import jax.numpy as jnp\n",
    "import jax.random as jrandom\n",
    "import matplotlib.pyplot as plt\n",
    "import nets\n",
    "import optax  # https://github.com/deepmind/optax\n",
    "\n",
    "\n",
    "jax.config.update(\"jax_platform_name\", \"cpu\")"
   ]
  },
  {
   "cell_type": "code",
   "execution_count": 2,
   "metadata": {},
   "outputs": [],
   "source": [
    "n_paths_train = 200\n",
    "n_paths_test = 50\n",
    "dt = 1e-2 / 3.0  # 300 time steps\n",
    "hurst_exponent = jnp.around(jnp.linspace(0.2, 0.8, 7), decimals=7).tolist()"
   ]
  },
  {
   "cell_type": "code",
   "execution_count": 3,
   "metadata": {},
   "outputs": [],
   "source": [
    "def dataloader(arrays, batch_size, *, key):\n",
    "    # this taken from equinox documentation\n",
    "    dataset_size = arrays[0].shape[0]\n",
    "    assert all(array.shape[0] == dataset_size for array in arrays)\n",
    "    indices = jnp.arange(dataset_size)\n",
    "    while True:\n",
    "        perm = jrandom.permutation(key, indices)\n",
    "        (key,) = jrandom.split(key, 1)\n",
    "        start = 0\n",
    "        end = batch_size\n",
    "        while end < dataset_size:\n",
    "            batch_perm = perm[start:end]\n",
    "            yield tuple(array[batch_perm] for array in arrays)\n",
    "            start = end\n",
    "            end = start + batch_size"
   ]
  },
  {
   "cell_type": "code",
   "execution_count": 4,
   "metadata": {},
   "outputs": [],
   "source": [
    "def generate_data(key):\n",
    "    train_key, test_key = jrandom.split(key)\n",
    "    X_train, Y_train = [], []\n",
    "    X_test, Y_test = [], []\n",
    "    # generate train\n",
    "    for hurst in hurst_exponent:\n",
    "        train_key, _ = jrandom.split(train_key)\n",
    "        X = fbm.generate_fbm(\n",
    "            hurst=hurst,\n",
    "            n_paths=n_paths_train,\n",
    "            dt=dt,\n",
    "            key=train_key,\n",
    "        )\n",
    "        Y = jnp.array([hurst] * n_paths_train)\n",
    "        X_train.append(X)\n",
    "        Y_train.append(Y)\n",
    "\n",
    "    # generate test\n",
    "    for hurst in hurst_exponent:\n",
    "        test_key, _ = jrandom.split(test_key)\n",
    "        X = fbm.generate_fbm(\n",
    "            hurst=hurst,\n",
    "            n_paths=n_paths_test,\n",
    "            dt=dt,\n",
    "            key=test_key,\n",
    "        )\n",
    "        Y = jnp.array([hurst] * n_paths_test)\n",
    "        X_test.append(X)\n",
    "        Y_test.append(Y)\n",
    "\n",
    "    X_train = jnp.concatenate(X_train)\n",
    "    Y_train = jnp.concatenate(Y_train)\n",
    "    X_test = jnp.concatenate(X_test)\n",
    "    Y_test = jnp.concatenate(Y_test)\n",
    "\n",
    "    return (\n",
    "        X_train[..., None],\n",
    "        Y_train[..., None],\n",
    "        X_test[..., None],\n",
    "        Y_test[..., None],\n",
    "    )"
   ]
  },
  {
   "cell_type": "code",
   "execution_count": 5,
   "metadata": {},
   "outputs": [],
   "source": [
    "seed = 1234\n",
    "key = jrandom.PRNGKey(seed)\n",
    "data_key, loader_key, model_key = jrandom.split(key, 3)"
   ]
  },
  {
   "cell_type": "code",
   "execution_count": 6,
   "metadata": {},
   "outputs": [],
   "source": [
    "X_train, Y_train, X_test, Y_test = generate_data(key=data_key)"
   ]
  },
  {
   "cell_type": "code",
   "execution_count": 7,
   "metadata": {},
   "outputs": [],
   "source": [
    "model = nets.create_simple_net(\n",
    "    dim=1,\n",
    "    signature_depth=3,\n",
    "    augment_layer_size=(3,),\n",
    "    augmented_kernel_size=3,\n",
    "    mlp_width=32,\n",
    "    mlp_depth=5,\n",
    "    output_size=1,\n",
    "    final_activation=jax.nn.sigmoid,\n",
    "    key=model_key,\n",
    ")"
   ]
  },
  {
   "cell_type": "code",
   "execution_count": 8,
   "metadata": {},
   "outputs": [],
   "source": [
    "iter_data = dataloader((X_train, Y_train), batch_size=128, key=loader_key)\n",
    "optim = optax.adam(learning_rate=1e-3)\n",
    "opt_state = optim.init(eqx.filter(model, eqx.is_array))"
   ]
  },
  {
   "cell_type": "code",
   "execution_count": 9,
   "metadata": {},
   "outputs": [],
   "source": [
    "@eqx.filter_value_and_grad\n",
    "def compute_loss(model, x, y):\n",
    "    pred_y = jax.vmap(model)(x)\n",
    "    assert pred_y.shape[0] == y.shape[0]\n",
    "    return jnp.mean(jnp.square(pred_y - y))"
   ]
  },
  {
   "cell_type": "code",
   "execution_count": 10,
   "metadata": {},
   "outputs": [],
   "source": [
    "@eqx.filter_jit\n",
    "def make_step(model, x, y, opt_state):\n",
    "    loss, grads = compute_loss(model, x, y)\n",
    "    updates, opt_state = optim.update(grads, opt_state)\n",
    "    model = eqx.apply_updates(model, updates)\n",
    "    return loss, model, opt_state"
   ]
  },
  {
   "cell_type": "code",
   "execution_count": 11,
   "metadata": {},
   "outputs": [
    {
     "name": "stdout",
     "output_type": "stream",
     "text": [
      "step=0 \t loss=0.04126128554344177\n",
      "step=10 \t loss=0.03442610800266266\n",
      "step=20 \t loss=0.027970541268587112\n",
      "step=30 \t loss=0.02049068734049797\n",
      "step=40 \t loss=0.01484226156026125\n",
      "step=50 \t loss=0.014639269560575485\n",
      "step=60 \t loss=0.008735964074730873\n",
      "step=70 \t loss=0.0038531336467713118\n",
      "step=80 \t loss=0.0031830957159399986\n",
      "step=90 \t loss=0.0017226743511855602\n",
      "step=100 \t loss=0.0018800243269652128\n",
      "step=110 \t loss=0.0012469328939914703\n",
      "step=120 \t loss=0.0010552152525633574\n",
      "step=130 \t loss=0.0011177052510902286\n",
      "step=140 \t loss=0.0009607325773686171\n",
      "step=150 \t loss=0.0007560456870123744\n",
      "step=160 \t loss=0.0006463616737164557\n",
      "step=170 \t loss=0.0007553522009402514\n",
      "step=180 \t loss=0.0006547566736117005\n",
      "step=190 \t loss=0.0005832615424878895\n",
      "step=200 \t loss=0.0005575531395152211\n",
      "step=210 \t loss=0.0003501984756439924\n",
      "step=220 \t loss=0.00040039338637143373\n",
      "step=230 \t loss=0.0004513182211667299\n",
      "step=240 \t loss=0.00031438664882443845\n",
      "step=250 \t loss=0.0003640485228970647\n",
      "step=260 \t loss=0.0002983831218443811\n",
      "step=270 \t loss=0.00028797108097933233\n",
      "step=280 \t loss=0.00022556362091563642\n",
      "step=290 \t loss=0.00022640280076302588\n",
      "step=300 \t loss=0.00024252274306491017\n",
      "step=310 \t loss=0.0002143357996828854\n",
      "step=320 \t loss=0.00020663977193180472\n",
      "step=330 \t loss=0.0002086591557599604\n",
      "step=340 \t loss=0.00013396628492046148\n",
      "step=350 \t loss=0.00012482644524425268\n",
      "step=360 \t loss=0.0001441657659597695\n",
      "step=370 \t loss=0.0001910612336359918\n",
      "step=380 \t loss=0.00012116802099626511\n",
      "step=390 \t loss=0.00010210460459347814\n",
      "step=400 \t loss=0.0001641385752009228\n",
      "step=410 \t loss=0.00010884780203923583\n",
      "step=420 \t loss=0.00010439904872328043\n",
      "step=430 \t loss=0.00014752187416888773\n",
      "step=440 \t loss=0.00011902485130121931\n",
      "step=450 \t loss=9.991358820116147e-05\n",
      "step=460 \t loss=9.923079778673127e-05\n",
      "step=470 \t loss=8.425720443483442e-05\n",
      "step=480 \t loss=9.922888420987874e-05\n",
      "step=490 \t loss=8.330486889462918e-05\n"
     ]
    }
   ],
   "source": [
    "test_mse = []\n",
    "for step, (x, y) in zip(range(500), iter_data):\n",
    "    loss, model, opt_state = make_step(model, x, y, opt_state)\n",
    "    loss = loss.item()\n",
    "    test_mse += [jnp.mean(jnp.square(jax.vmap(model)(X_test) - Y_test)).item()]\n",
    "    if step % 10 == 0:\n",
    "        print(f\"step={step} \\t loss={loss}\")"
   ]
  },
  {
   "cell_type": "code",
   "execution_count": 12,
   "metadata": {},
   "outputs": [
    {
     "data": {
      "image/png": "[encoded data removed]",
      "text/plain": [
       "<Figure size 432x288 with 1 Axes>"
      ]
     },
     "metadata": {
      "needs_background": "light"
     },
     "output_type": "display_data"
    }
   ],
   "source": [
    "plt.plot(test_mse)\n",
    "plt.yscale(\"log\")"
   ]
  }
 ],
 "metadata": {
  "kernelspec": {
   "display_name": "Python 3.9.7 ('base')",
   "language": "python",
   "name": "python3"
  },
  "language_info": {
   "codemirror_mode": {
    "name": "ipython",
    "version": 3
   },
   "file_extension": ".py",
   "mimetype": "text/x-python",
   "name": "python",
   "nbconvert_exporter": "python",
   "pygments_lexer": "ipython3",
   "version": "3.9.7"
  },
  "orig_nbformat": 4,
  "vscode": {
   "interpreter": {
    "hash": "f7d1fba74dfd24f4e28e69f7ae18d3d17d4ecc25efd86b65572743c77fabf4a5"
   }
  }
 },
 "nbformat": 4,
 "nbformat_minor": 2
}
