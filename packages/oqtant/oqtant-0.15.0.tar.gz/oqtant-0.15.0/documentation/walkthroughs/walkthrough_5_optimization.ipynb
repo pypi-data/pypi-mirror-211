{
 "cells": [
  {
   "cell_type": "markdown",
   "metadata": {},
   "source": [
    "# Oqtant Walkthrough 4: BEC Experimentation #\n",
    "\n",
    "### This walkthrough reviews authorizing an Oqtant session and an example of optimization for BEC. ###\n",
    "\n",
    "For more information about Oqtant refer to our documentation: https://gitlab.com/infleqtion/albert/oqtant/-/blob/main/README.md\n",
    "\n",
    "*Batch job functionality is available for users with a subscription tier of EXPLORER or INNOVATOR.*"
   ]
  },
  {
   "cell_type": "markdown",
   "metadata": {},
   "source": [
    "# Sign into Oqtant\n",
    "\n",
    "## Before you can view and submit jobs you must first sign into your Oqtant account\n",
    "\n",
    "Run the below cell to be re-directed to our login page and provide your account credentials. Once authenticated you can safely close out that tab and return to this notebook."
   ]
  },
  {
   "cell_type": "code",
   "execution_count": null,
   "metadata": {},
   "outputs": [],
   "source": [
    "from sklearn.gaussian_process import GaussianProcessRegressor as GPR\n",
    "from matplotlib import pyplot as plt\n",
    "from scipy.optimize import minimize\n",
    "from warnings import catch_warnings\n",
    "from warnings import simplefilter\n",
    "from scipy.stats import norm\n",
    "from lmfit import Model\n",
    "import numpy as np\n",
    "import inspect\n",
    "import copy\n",
    "from oqtant.oqtant_client import get_oqtant_client\n",
    "from oqtant.util.auth import get_user_token\n",
    "from bert_schemas import job as JobSchema\n",
    "from oqtant.schemas.job import (\n",
    "    OqtantJob,\n",
    "    Gaussian_dist_2D,\n",
    "    TF_dist_2D,\n",
    "    bimodal_dist_2D,\n",
    "    round_sig\n",
    ")\n",
    "import csv\n",
    "\n",
    "token = get_user_token()"
   ]
  },
  {
   "cell_type": "markdown",
   "metadata": {},
   "source": [
    "## Creating a Oqtant Client Instance ##\n",
    "\n",
    "### After successful login, create an authorized session with the Oqtant Client ###\n",
    "- the oqtant_client interacts with the albert server to perform remote lab functions. \n",
    "- the oqtant_client object also contains all the jobs which have been submitted, run, or loaded (from database or file) during this python session"
   ]
  },
  {
   "cell_type": "code",
   "execution_count": null,
   "metadata": {},
   "outputs": [],
   "source": [
    "oqtant_client = get_oqtant_client(token)"
   ]
  },
  {
   "cell_type": "markdown",
   "metadata": {},
   "source": [
    "## Define a cost function for optimization ## \n",
    "\n",
    "A cost function is a metric calculated for the system of interest which is lowered over time via some optimization script \n",
    "\n",
    "Larger value = Good:  Condensed and total atom number, condensate fraction \n",
    "Smaller value = Good: Thermal atom number, temperature \n",
    "\n",
    "Ad hoc Cost function: **C = (Nth*T)/Nc**\n",
    "\n",
    "### cost_func_5D ### \n",
    "This cost function is for a 5-dimensional optimization space, where the 5 dimensions are the RF corner frequencies.\n",
    "\n",
    "### cost_func_9D ### \n",
    "This cost function is for a 9-dimensional optimization space, where the 9 dimensions are the RF corner frequencies and the RF powers."
   ]
  },
  {
   "cell_type": "code",
   "execution_count": null,
   "metadata": {},
   "outputs": [],
   "source": [
    "costs_9D = []\n",
    "costs_5D = []\n",
    "\n",
    "default_bec_job = {\n",
    "    \"name\": \"Example Ultracold Matter Generator Job\",\n",
    "    \"job_type\": \"BEC\",\n",
    "    \"inputs\": [\n",
    "        {\n",
    "            \"values\": {\n",
    "                \"time_of_flight_ms\": 8.0,\n",
    "                \"image_type\": \"TIME_OF_FLIGHT\",\n",
    "                \"end_time_ms\": 0.0,\n",
    "                \"rf_evaporation\": {\n",
    "                    \"frequencies_mhz\": [17.0, 8.0, 4.0, 1.2, 0.045],\n",
    "                    \"powers_mw\": [500.0, 500.0, 475.0, 360.0, 220.0],\n",
    "                    \"interpolation\": \"LINEAR\",\n",
    "                    \"times_ms\": [-1600, -1200, -800, -400, 0],\n",
    "                },\n",
    "                \"optical_barriers\": None,\n",
    "                \"optical_landscape\": None,\n",
    "                \"lasers\": None,\n",
    "            },\n",
    "        }\n",
    "    ],\n",
    "}\n",
    "\n",
    "def cost_func_9D(RF_freqs_RF_powers):\n",
    "    RF_freqs = RF_freqs_RF_powers[:5]\n",
    "    RF_powers = RF_freqs_RF_powers[5:] # this needs to have 5 powers in it now\n",
    "    default_bec_job[\"inputs\"][0][\"values\"][\"rf_evaporation\"][\"frequencies_mhz\"] = RF_freqs\n",
    "    default_bec_job[\"inputs\"][0][\"values\"][\"rf_evaporation\"][\"powers_mw\"] = RF_powers\n",
    "    albert_job = oqtant_client.generate_oqtant_job(job=default_bec_job)\n",
    "    [job_id] = oqtant_client.run_jobs(job_list=[albert_job], track_status=True)\n",
    "    job_output = oqtant_client.active_jobs[job_id].inputs[0].output.values\n",
    "    Nth = job_output.thermal_atom_number\n",
    "    T = job_output.temperature_uk\n",
    "    Nc = job_output.condensed_atom_number+1\n",
    "    C = (Nth*T)/Nc\n",
    "    costs_9D.append(C)\n",
    "    return C\n",
    "\n",
    "def cost_func_5D(RF_freqs, RF_powers = [500, 475, 450, 400, 400]): # added 5th power to default\n",
    "    default_bec_job[\"inputs\"][0][\"values\"][\"rf_evaporation\"][\"frequencies_mhz\"] = RF_freqs\n",
    "    default_bec_job[\"inputs\"][0][\"values\"][\"rf_evaporation\"][\"powers_mw\"] = RF_powers\n",
    "    albert_job = oqtant_client.generate_oqtant_job(job=default_bec_job)\n",
    "    [job_id] = oqtant_client.run_jobs(job_list=[albert_job], track_status=True)\n",
    "    job_output = oqtant_client.active_jobs[job_id].inputs[0].output.values\n",
    "    Nth = job_output.thermal_atom_number\n",
    "    T = job_output.temperature_uk\n",
    "    Nc = job_output.condensed_atom_number\n",
    "    C = (Nth*T)/Nc\n",
    "    costs_5D.append(C)\n",
    "    return C"
   ]
  },
  {
   "cell_type": "markdown",
   "metadata": {},
   "source": [
    "## Set bounds for optimization ## \n",
    "\n",
    "Bounds will prevent invalid jobs parameters from being submitted to the job runner."
   ]
  },
  {
   "cell_type": "code",
   "execution_count": null,
   "metadata": {},
   "outputs": [],
   "source": [
    "bnds_5d = ((0,50),(0,50),(0,50),(0,50),(0,50))\n",
    "bnds_9d = ((0,50),(0,50),(0,50),(0,50),(0,50),(0,500),(0,500),(0,500),(0,500))"
   ]
  },
  {
   "cell_type": "markdown",
   "metadata": {},
   "source": [
    "## Choose an optimization algorithm ##\n",
    "\n",
    "Here, I chose a truncated Newton method (TNC). TNC uses a truncated Newton algorithm to minimize a function with variables subject to bounds. Within scipy.optimize.minimize there are several options for optimizers which allow for bounded variables:  \n",
    "\n",
    " - L-BFGS-B \n",
    " - TNC\n",
    " - COBYLA\n",
    " - SLSQP\n",
    " \n",
    " \n",
    " ## Provide initial conditions and max iterations ##\n",
    " \n",
    " I chose the web app default parameters for a mixed cloud for the x0 initial conditions. Specify iterations with **options={'maxiter':10}**. Note that each iteration may involve several evaluations of the cost function (which means several jobs), so setting **'maxiter':30** will not run within a single 24 hour period. "
   ]
  },
  {
   "cell_type": "code",
   "execution_count": null,
   "metadata": {},
   "outputs": [],
   "source": [
    "#res_5d = minimize(cost_func_5D, method=\"TNC\", bounds=bnds_5d, x0 = np.array([17,8,4,1.2,0.05]), options={'maxiter':10})\n",
    "#res_9d = minimize(cost_func_10D, method=\"TNC\", \n",
    "#                   x0 = np.array([17,8,4,1.2,0.07,500,475,450,400]), bounds = bnds_9d,options={'maxiter':10})\n",
    "\n",
    "#print(\"optimization results freq tuning only:\")\n",
    "#print(res_5d)\n",
    "\n",
    "#print(\"optimization results freq and power tuning:\")\n",
    "#print(res_9d)"
   ]
  },
  {
   "cell_type": "markdown",
   "metadata": {},
   "source": [
    "## Bayesian Optimization with a Gaussian Process model ##\n"
   ]
  },
  {
   "cell_type": "markdown",
   "metadata": {},
   "source": [
    "## Extract and shape the training data: ##\n",
    "\n",
    "X_train_array-like of shape (n_samples, n_features) or list of object\n",
    "Feature vectors or other representations of training data (also required for prediction).\n",
    "\n",
    "y_train_array-like of shape (n_samples,) or (n_samples, n_targets)\n",
    "Target values in training data (also required for prediction)"
   ]
  },
  {
   "cell_type": "markdown",
   "metadata": {},
   "source": [
    "## Define a new target cost function ##"
   ]
  },
  {
   "cell_type": "code",
   "execution_count": null,
   "metadata": {},
   "outputs": [],
   "source": [
    "def cost(Nc, Nth, T):\n",
    "    C = (Nth*T)/Nc\n",
    "    return C"
   ]
  },
  {
   "cell_type": "code",
   "execution_count": null,
   "metadata": {},
   "outputs": [],
   "source": [
    "X_global_train = []\n",
    "y_global_train = []\n",
    "with open('output.csv', newline='') as csvfile:\n",
    "    r = csv.reader(csvfile, delimiter=' ', quotechar='|')\n",
    "    for row in r:\n",
    "        if len(row)==26:\n",
    "            \n",
    "            rf_a_mhz = float(row[4][:-1])\n",
    "            rf_b_mhz = float(row[6][:-1])\n",
    "            rf_c_mhz = float(row[8][:-1])\n",
    "            rf_d_mhz = float(row[10][:-1])\n",
    "            rf_e_mhz = float(row[12][:-1])\n",
    "            pow_a_mw = float(row[14][:-1])\n",
    "            pow_b_mw = float(row[16][:-1])\n",
    "            pow_c_mw = float(row[18][:-1])\n",
    "            pow_d_mw = float(row[20][:-27])\n",
    "            \n",
    "            condensed_atom_number = round(float(row[23][:-1]))\n",
    "            thermal_atom_number = round(float(row[21][:-1]))\n",
    "            temperature_uk = float(row[25][:-2])\n",
    "            if temperature_uk > 0 and condensed_atom_number > 100:\n",
    "                X_global_train.append([rf_a_mhz,\n",
    "                                       rf_b_mhz,\n",
    "                                       rf_c_mhz,\n",
    "                                       rf_d_mhz,\n",
    "                                       rf_e_mhz,\n",
    "                                      pow_a_mw, \n",
    "                                      pow_b_mw, \n",
    "                                      pow_c_mw, \n",
    "                                      pow_d_mw])\n",
    "                y_global_train.append(cost(condensed_atom_number, thermal_atom_number, temperature_uk))\n",
    "\n",
    "#X_global_train = np.asarray(X_global_train)\n",
    "#y_global_train = np.asarray(y_global_train)\n",
    "\n",
    "                "
   ]
  },
  {
   "cell_type": "code",
   "execution_count": null,
   "metadata": {},
   "outputs": [],
   "source": [
    "# surrogate or approximation for the objective function\n",
    "def surrogate(model, X):\n",
    "    # catch any warning generated when making a prediction\n",
    "    with catch_warnings():\n",
    "        # ignore generated warnings\n",
    "        simplefilter(\"ignore\")\n",
    "        return model.predict(X, return_std=True)"
   ]
  },
  {
   "cell_type": "markdown",
   "metadata": {},
   "source": [
    "## Define an acquisition function ## \n",
    "\n",
    "This is a score assigned to each candidate sample on the domain. \n",
    "\n",
    "The surrogate function can be used as an acquisition (minimizing the surrogate is the goal after all)\n",
    "\n",
    "OR\n",
    "\n",
    "An acquisition function can be used. 3 common options:\n",
    "- Probability of Improvement (PI).\n",
    "- Expected Improvement (EI).\n",
    "- Lower Confidence Bound (LCB).\n",
    "\n",
    "Here I chose probability of improvement \n",
    "\n",
    "**PI = cdf((mu – best_mu) / stdev)**\n",
    "\n",
    "Where PI is the probability of improvement, cdf() is the normal cumulative distribution function, mu is the mean of the surrogate function for a given sample x, stdev is the standard deviation of the surrogate function for a given sample x, and best_mu is the mean of the surrogate function for the best sample found so far."
   ]
  },
  {
   "cell_type": "code",
   "execution_count": null,
   "metadata": {},
   "outputs": [],
   "source": [
    "def acquisition(X, Xsamples, model):\n",
    "    # calculate the best surrogate score found so far\n",
    "    yhat, _ = surrogate(model, X)\n",
    "    best = max(yhat)\n",
    "    # calculate mean and stdev via surrogate function\n",
    "    mu, std = surrogate(model, Xsamples)\n",
    "    #mu = mu[:, 0]\n",
    "    # calculate the probability of improvement\n",
    "    probs = norm.cdf((mu - best) / (std+1E-9))\n",
    "    return probs"
   ]
  },
  {
   "cell_type": "markdown",
   "metadata": {},
   "source": [
    "## Define a domain ##\n",
    "\n",
    "This is the domain of the samples. This one point where we inject prior knowledge of the system from previous experience"
   ]
  },
  {
   "cell_type": "code",
   "execution_count": null,
   "metadata": {},
   "outputs": [],
   "source": [
    "domain = [(20.,15.),(12.,5.),(5.,2.),(1.9,0.2),(0.2,0.01),\n",
    "          (500.,470.),(470.,460.),(459.,420.),(420.,350.)]\n",
    "\n",
    "def rand_domain_sample(domain):\n",
    "    scale = domain[0]-domain[1]\n",
    "    random_number = np.random.uniform()+(1E-9)\n",
    "    sample = scale*random_number+domain[1]\n",
    "    return sample"
   ]
  },
  {
   "cell_type": "markdown",
   "metadata": {},
   "source": [
    "## Define an optimizer on the acquisition function ##\n",
    "\n",
    "Here I have chosen a random search over the domain, but other search algorithms can be used. "
   ]
  },
  {
   "cell_type": "code",
   "execution_count": null,
   "metadata": {},
   "outputs": [],
   "source": [
    "def optimize_acquisition(X, y, model, sample_population):\n",
    "    # random search, generate random samples\n",
    "    Xsamples = np.asarray([[rand_domain_sample(domain[i]) for i in range(len(X[0]))] for j in range(sample_population)])\n",
    "    Xsamples = Xsamples.reshape(len(Xsamples), len(X[0]))\n",
    "    # calculate the acquisition function for each sample\n",
    "    scores = acquisition(X, Xsamples, model)\n",
    "    # locate the index of the largest scores\n",
    "    ix = np.argmax(scores)\n",
    "    return Xsamples[ix]"
   ]
  },
  {
   "cell_type": "markdown",
   "metadata": {},
   "source": [
    "## Perform the optimization ##"
   ]
  },
  {
   "cell_type": "code",
   "execution_count": null,
   "metadata": {},
   "outputs": [],
   "source": [
    "#X = sample_domain\n",
    "#y = np.asarray([cost_func_9D(x) for x in X])\n",
    "#Oqtant_model = GPR()\n",
    "#Oqtant_model.fit(X, y)\n",
    "\n",
    "X = X_global_train\n",
    "y = y_global_train\n",
    "Oqtant_model = GPR()\n",
    "Oqtant_model.fit(X_global_train, y_global_train)\n",
    "\n",
    "cost = []\n",
    "\n",
    "for i in range(20):\n",
    "    # select the next point to sample\n",
    "    x = optimize_acquisition(X, y, Oqtant_model, 500)\n",
    "    print('x', x)\n",
    "    # sample the point\n",
    "    actual = cost_func_9D(x)\n",
    "    cost.append(actual)\n",
    "    # summarize the finding\n",
    "    est, _ = surrogate(Oqtant_model, [x])\n",
    "    print(x, est, actual)\n",
    "    # add the data to the dataset\n",
    "    X = np.vstack((X, [x]))\n",
    "    y.append(actual)\n",
    "    # update the model\n",
    "    Oqtant_model.fit(X, y)"
   ]
  },
  {
   "cell_type": "code",
   "execution_count": null,
   "metadata": {},
   "outputs": [],
   "source": [
    "# plot all samples and the final surrogate function\n",
    "plt.plot(cost[5:])\n",
    "#plt.yscale(\"log\")\n",
    "plt.xlabel(\"function evaluations\")\n",
    "plt.ylabel(\"Cost\")\n",
    "plt.title(\"20 evaluations, 500 surrogate samples, 335pm 5_5_21\")\n",
    "plt.savefig(\"335pm 5_5_21.png\")\n",
    "plt.show()\n",
    "# best result\n",
    "ix = np.argmax(y)\n",
    "print('Best Result:'+str([X[ix], y[ix]]))"
   ]
  }
 ],
 "metadata": {
  "kernelspec": {
   "display_name": "Python 3 (ipykernel)",
   "language": "python",
   "name": "python3"
  },
  "language_info": {
   "codemirror_mode": {
    "name": "ipython",
    "version": 3
   },
   "file_extension": ".py",
   "mimetype": "text/x-python",
   "name": "python",
   "nbconvert_exporter": "python",
   "pygments_lexer": "ipython3",
   "version": "3.11.3"
  }
 },
 "nbformat": 4,
 "nbformat_minor": 4
}
