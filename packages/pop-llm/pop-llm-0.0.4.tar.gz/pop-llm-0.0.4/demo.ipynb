{
 "cells": [
  {
   "cell_type": "code",
   "execution_count": 1,
   "metadata": {},
   "outputs": [],
   "source": [
    "from pop_llm import PopFunction\n",
    "import openai\n",
    "\n",
    "openai.api_key_path = \"openai_api_key.txt\""
   ]
  },
  {
   "attachments": {},
   "cell_type": "markdown",
   "metadata": {},
   "source": [
    "# Demo POP Functions"
   ]
  },
  {
   "attachments": {},
   "cell_type": "markdown",
   "metadata": {},
   "source": [
    "## Add two numbers"
   ]
  },
  {
   "cell_type": "code",
   "execution_count": 13,
   "metadata": {},
   "outputs": [
    {
     "data": {
      "text/plain": [
       "488"
      ]
     },
     "execution_count": 13,
     "metadata": {},
     "output_type": "execute_result"
    }
   ],
   "source": [
    "add = PopFunction(\n",
    "    input_keys=[\"a\", \"b\"],\n",
    "    output_keys=[\"sum\"],\n",
    "    description=\"Add two numbers.\",\n",
    "    name = \"add\",\n",
    "    input_assert=lambda a, b: type(a) == int and type(b) == int,\n",
    ")\n",
    "answer = int(add(23, 465)[\"sum\"])\n",
    "answer"
   ]
  },
  {
   "attachments": {},
   "cell_type": "markdown",
   "metadata": {},
   "source": [
    "## Generate TL;DR summary"
   ]
  },
  {
   "cell_type": "code",
   "execution_count": 20,
   "metadata": {},
   "outputs": [
    {
     "name": "stdout",
     "output_type": "stream",
     "text": [
      "Linux is a family of open-source Unix-like operating systems based on the Linux kernel, which was fi\n",
      "rst released on September 17, 1991, by Linus Torvalds. Linux is typically packaged as a Linux distri\n",
      "bution, which includes the kernel and supporting system software and libraries. Popular Linux distri\n",
      "butions include Debian, Fedora Linux, and Ubuntu. Linux is used on personal computers, servers, and \n",
      "embedded systems, including routers, automation controls, smart home devices, video game consoles, t\n",
      "elevisions, automobiles, and spacecraft. Linux is one of the most prominent examples of free and ope\n",
      "n-source software collaboration.\n"
     ]
    }
   ],
   "source": [
    "tldr = PopFunction(\n",
    "    input_keys=[\"text\"],\n",
    "    output_keys=[\"summary\"],\n",
    "    description=\"Generate a TL;DR summary of a text.\",\n",
    "    name = \"tldr\",\n",
    "    input_assert=lambda text: type(text) == str,\n",
    ")\n",
    "\n",
    "# This article is from https://en.wikipedia.org/wiki/Linux\n",
    "article = \"\"\"\n",
    "Linux (/ˈliːnʊks/ (listen) LEE-nuuks or /ˈlɪnʊks/ LIN-uuks)[11] is a family of open-source Unix-like operating systems based on the Linux kernel,[12] an operating system kernel first released on September 17, 1991, by Linus Torvalds.[13][14][15] Linux is typically packaged as a Linux distribution, which includes the kernel and supporting system software and libraries, many of which are provided by the GNU Project. Many Linux distributions use the word \"Linux\" in their name, but the Free Software Foundation uses the name \"GNU/Linux\" to emphasize the importance of GNU software, causing some controversy.[16][17]\n",
    "\n",
    "Popular Linux distributions[18][19][20] include Debian, Fedora Linux, and Ubuntu, the latter of which itself consists of many different distributions and modifications, including Lubuntu and Xubuntu. Commercial distributions include Red Hat Enterprise Linux and SUSE Linux Enterprise. Desktop Linux distributions include a windowing system such as X11 or Wayland, and a desktop environment such as GNOME or KDE Plasma. Distributions intended for servers may omit graphics altogether, or include a solution stack such as LAMP. Because Linux is freely redistributable, anyone may create a distribution for any purpose.[21]\n",
    "\n",
    "Linux was originally developed for personal computers based on the Intel x86 architecture, but has since been ported to more platforms than any other operating system.[22] Because of the dominance of the Linux-based Android on smartphones, Linux, including Android, has the largest installed base of all general-purpose operating systems, as of May 2022.[23][24][25] Although Linux is, as of November 2022, used by only around 2.6 percent of desktop computers,[26] the Chromebook, which runs the Linux kernel-based ChromeOS, dominates the US K–12 education market and represents nearly 20 percent of sub-$300 notebook sales in the US.[27] Linux is the leading operating system on servers (over 96.4% of the top 1 million web servers' operating systems are Linux),[28] leads other big iron systems such as mainframe computers, and is used on all of the world's 500 fastest supercomputers[d] (since November 2017, having gradually displaced all competitors).[29][30][31]\n",
    "\n",
    "Linux also runs on embedded systems, i.e. devices whose operating system is typically built into the firmware and is highly tailored to the system. This includes routers, automation controls, smart home devices, video game consoles,[32] televisions (Samsung and LG Smart TVs),[33][34][35] automobiles (Tesla, Audi, Mercedes-Benz, Hyundai and Toyota),[36] and spacecraft (Falcon 9 rocket, Dragon crew capsule and the Perseverance rover).[37][38]\n",
    "\n",
    "Linux is one of the most prominent examples of free and open-source software collaboration. The source code may be used, modified and distributed commercially or non-commercially by anyone under the terms of its respective licenses, such as the GNU General Public License (GPL). The Linux kernel, for example, is licensed under the GPLv2, with an exception for system calls that allows code that calls the kernel via system calls not to be licensed under the GPL.[39][40][21]\n",
    "\n",
    "\"\"\"\n",
    "summary = tldr(article)[\"summary\"]\n",
    "summary = \"\\n\".join([summary[i:i+100] for i in range(0, len(summary), 100)])\n",
    "print(summary)"
   ]
  },
  {
   "attachments": {},
   "cell_type": "markdown",
   "metadata": {},
   "source": [
    "## Generate Bash command"
   ]
  },
  {
   "cell_type": "code",
   "execution_count": 21,
   "metadata": {},
   "outputs": [
    {
     "name": "stdout",
     "output_type": "stream",
     "text": [
      "mkdir pop && cd pop && git init && echo 'This is a Pop repository' > README.md && git add . && git commit -m 'Initial commit'\n"
     ]
    }
   ],
   "source": [
    "bash = PopFunction(\n",
    "    input_keys=[\"task\"],\n",
    "    output_keys=[\"command\"],\n",
    "    description=\"Generate a bash command to do a task.\",\n",
    "    name = \"bash\",\n",
    "    input_assert=lambda task: type(task) == str,\n",
    ")\n",
    "\n",
    "task = \"\"\"\n",
    "Write a single command that:\n",
    "1. Create a directory called \"pop\"\n",
    "2. Change directory to \"pop\"\n",
    "3. Initialize a git repository\n",
    "4. Create a file called \"README.md\", with the content \"This is a Pop repository\"\n",
    "5. Add all files to git\n",
    "6. Commit with the message \"Initial commit\"\n",
    "\"\"\"\n",
    "command = bash(task)[\"command\"]\n",
    "print(command)"
   ]
  },
  {
   "attachments": {},
   "cell_type": "markdown",
   "metadata": {},
   "source": [
    "## Chat with history!"
   ]
  },
  {
   "cell_type": "code",
   "execution_count": 2,
   "metadata": {},
   "outputs": [
    {
     "name": "stdout",
     "output_type": "stream",
     "text": [
      "I'm an AI language model, I don't have emotions in the way humans do, but I'm here to serve you. How may I assist you?\n",
      "Sure John, your name is remembered. How may I assist you further?\n",
      "Your name is John. Is there anything else I can help you with?\n",
      "I'm sorry, I cannot determine your name.\n"
     ]
    }
   ],
   "source": [
    "chatbot = PopFunction(\n",
    "    input_keys=[\"message\"],\n",
    "    output_keys=[\"response\"],\n",
    "    description=\"Chat with your user.\",\n",
    "    name = \"chatbot\",\n",
    "    input_assert=lambda message: type(message) == str,\n",
    "    temperature=1\n",
    ")\n",
    "\n",
    "print(chatbot(\"Hello, how are you?\")[\"response\"])\n",
    "print(chatbot(\"Remember my name is John.\")[\"response\"])\n",
    "print(chatbot(\"What is my name?\")[\"response\"])\n",
    "chatbot.reset_history()\n",
    "print(chatbot(\"What is my name?\")[\"response\"])"
   ]
  }
 ],
 "metadata": {
  "kernelspec": {
   "display_name": "pop",
   "language": "python",
   "name": "python3"
  },
  "language_info": {
   "codemirror_mode": {
    "name": "ipython",
    "version": 3
   },
   "file_extension": ".py",
   "mimetype": "text/x-python",
   "name": "python",
   "nbconvert_exporter": "python",
   "pygments_lexer": "ipython3",
   "version": "3.11.3"
  },
  "orig_nbformat": 4
 },
 "nbformat": 4,
 "nbformat_minor": 2
}
