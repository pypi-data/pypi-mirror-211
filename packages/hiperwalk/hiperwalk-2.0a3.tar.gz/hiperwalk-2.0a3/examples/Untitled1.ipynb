{
 "cells": [
  {
   "cell_type": "code",
   "execution_count": 4,
   "id": "479be09f",
   "metadata": {},
   "outputs": [],
   "source": [
    "import hiperwalk as hpw\n",
    "\n",
    "dim = 121\n",
    "lat = hpw.Lattice(dim, diagonal=True)\n",
    "center = lat.get_central_vertex()\n",
    "dtqw = hpw.CoinedWalk(lat, shift='persistent', coin='grover')\n",
    "psi0 = dtqw.state([0.5, (center, center + (1, 1))],\n",
    "                  [-0.5, (center, center + (1, -1))],\n",
    "                  [-0.5, (center, center + (-1, 1))],\n",
    "                  [0.5, (center, center + (-1, -1))])"
   ]
  },
  {
   "cell_type": "code",
   "execution_count": 5,
   "id": "b81dc7bc",
   "metadata": {},
   "outputs": [],
   "source": [
    "psi_final = dtqw.simulate(time=(0, dim // 2, 1), initial_condition=psi0, hpc=False)"
   ]
  },
  {
   "cell_type": "code",
   "execution_count": 6,
   "id": "8a67cb38",
   "metadata": {},
   "outputs": [],
   "source": [
    "prob = dtqw.probability_distribution(psi_final)"
   ]
  },
  {
   "cell_type": "code",
   "execution_count": null,
   "id": "503367b0",
   "metadata": {},
   "outputs": [],
   "source": [
    "hpw.plot_probability_distribution(prob, graph=lat, animate=True)"
   ]
  }
 ],
 "metadata": {
  "kernelspec": {
   "display_name": "Python 3 (ipykernel)",
   "language": "python",
   "name": "python3"
  },
  "language_info": {
   "codemirror_mode": {
    "name": "ipython",
    "version": 3
   },
   "file_extension": ".py",
   "mimetype": "text/x-python",
   "name": "python",
   "nbconvert_exporter": "python",
   "pygments_lexer": "ipython3",
   "version": "3.10.6"
  }
 },
 "nbformat": 4,
 "nbformat_minor": 5
}
