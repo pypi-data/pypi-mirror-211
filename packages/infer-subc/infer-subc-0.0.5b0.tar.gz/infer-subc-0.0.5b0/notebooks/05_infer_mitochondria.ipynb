{
 "cells": [
  {
   "cell_type": "markdown",
   "metadata": {},
   "source": [
    "# Infer ***mitochondria*** - part 5️⃣\n",
    "\n",
    "--------------\n",
    "OBJECTIVE: ✅ Infer sub-cellular component  ***mitochondria***  in order to understand interactome \n",
    "\n",
    "Dependencies:\n",
    "The ***mitochondria***  inference rely on the ***cytoplasm*** mask"
   ]
  },
  {
   "attachments": {},
   "cell_type": "markdown",
   "metadata": {},
   "source": [
    "## preamble\n",
    "\n",
    "1. imports\n",
    "2. setup\n",
    "3. get cytoplasm mask\n",
    "4. infer mitochondria\n",
    "    * pre-processing\n",
    "    * core processing\n",
    "    * post processing\n",
    "5. export mitochondria\n"
   ]
  },
  {
   "attachments": {},
   "cell_type": "markdown",
   "metadata": {},
   "source": [
    "\n",
    "## IMPORTS"
   ]
  },
  {
   "cell_type": "code",
   "execution_count": 1,
   "metadata": {},
   "outputs": [],
   "source": [
    "# top level imports\n",
    "from pathlib import Path\n",
    "import os, sys\n",
    "from collections import defaultdict\n",
    "\n",
    "from typing import Optional, Dict\n",
    "\n",
    "import numpy as np\n",
    "\n",
    "from aicssegmentation.core.utils import size_filter\n",
    "from aicssegmentation.core.MO_threshold import MO\n",
    "\n",
    "from skimage.measure import label\n",
    "\n",
    "# # package for io \n",
    "from aicsimageio import AICSImage\n",
    "\n",
    "import napari\n",
    "### import local python functions in ../infer_subc\n",
    "sys.path.append(os.path.abspath((os.path.join(os.getcwd(), '..'))))\n",
    "\n",
    "\n",
    "from infer_subc.core.file_io import (read_czi_image, \n",
    "                                         read_ome_image,\n",
    "                                         list_image_files, \n",
    "                                         import_inferred_organelle, \n",
    "                                         export_inferred_organelle)\n",
    "\n",
    "from infer_subc.core.img import *\n",
    "from infer_subc.organelles import fixed_infer_cellmask_fromaggr, fixed_infer_nuclei, get_cytoplasm, get_nuclei, get_cellmask\n",
    "\n",
    "%load_ext autoreload\n",
    "%autoreload 2\n",
    "\n"
   ]
  },
  {
   "cell_type": "code",
   "execution_count": 2,
   "metadata": {},
   "outputs": [],
   "source": [
    "# NOTE:  these \"constants\" are only accurate for the testing MCZ dataset\n",
    "from infer_subc.constants import (TEST_IMG_N,\n",
    "                                                                    NUC_CH ,\n",
    "                                                                    LYSO_CH ,\n",
    "                                                                    MITO_CH ,\n",
    "                                                                    GOLGI_CH ,\n",
    "                                                                    PEROX_CH ,\n",
    "                                                                    ER_CH ,\n",
    "                                                                    LD_CH ,\n",
    "                                                                    RESIDUAL_CH )              "
   ]
  },
  {
   "cell_type": "markdown",
   "metadata": {},
   "source": [
    "\n",
    "## SETUP"
   ]
  },
  {
   "cell_type": "code",
   "execution_count": 3,
   "metadata": {},
   "outputs": [],
   "source": [
    "# this will be the example image for testing the pipeline below\n",
    "test_img_n = TEST_IMG_N\n",
    "\n",
    "# build the datapath\n",
    "# all the imaging data goes here.\n",
    "data_root_path = Path(os.path.expanduser(\"~\")) / \"Projects/Imaging/data\"\n",
    "\n",
    "# linearly unmixed \".czi\" files are here\n",
    "in_data_path = data_root_path / \"raw\"\n",
    "im_type = \".czi\"\n",
    "\n",
    "# get the list of all files\n",
    "img_file_list = list_image_files(in_data_path,im_type)\n",
    "test_img_name = img_file_list[test_img_n]\n",
    "\n",
    "# save output \".tiff\" files here\n",
    "out_data_path = data_root_path / \"out\"\n",
    "\n",
    "if not Path.exists(out_data_path):\n",
    "    Path.mkdir(out_data_path)\n",
    "    print(f\"making {out_data_path}\")"
   ]
  },
  {
   "cell_type": "code",
   "execution_count": 4,
   "metadata": {},
   "outputs": [
    {
     "name": "stderr",
     "output_type": "stream",
     "text": [
      "/opt/anaconda3/envs/napariNEW/lib/python3.9/site-packages/ome_types/_convenience.py:106: FutureWarning: The default XML parser will be changing from 'xmlschema' to 'lxml' in version 0.4.0.  To silence this warning, please provide the `parser` argument, specifying either 'lxml' (to opt into the new behavior), or'xmlschema' (to retain the old behavior).\n",
      "  d = to_dict(os.fspath(xml), parser=parser, validate=validate)\n"
     ]
    }
   ],
   "source": [
    "img_data,meta_dict = read_czi_image(test_img_name)\n",
    "\n",
    "# get some top-level info about the RAW data\n",
    "channel_names = meta_dict['name']\n",
    "img = meta_dict['metadata']['aicsimage']\n",
    "scale = meta_dict['scale']\n",
    "channel_axis = meta_dict['channel_axis']\n"
   ]
  },
  {
   "cell_type": "markdown",
   "metadata": {},
   "source": [
    "## GET CYTOPLASM MASK\n",
    "\n",
    "> note: don't actually need it here, but getting for testing and visualization purposes.\n"
   ]
  },
  {
   "cell_type": "code",
   "execution_count": 5,
   "metadata": {},
   "outputs": [
    {
     "name": "stdout",
     "output_type": "stream",
     "text": [
      ">>>>>>>>>>>> tifffile.imread  (dtype=uint8in (0.01) sec\n",
      "loaded  inferred 3D `nuclei`  from /Users/ahenrie/Projects/Imaging/data/out \n",
      ">>>>>>>>>>>> tifffile.imread  (dtype=int32in (0.02) sec\n",
      "loaded  inferred 3D `cellmask`  from /Users/ahenrie/Projects/Imaging/data/out \n",
      ">>>>>>>>>>>> tifffile.imread  (dtype=uint8in (0.01) sec\n",
      "loaded  inferred 3D `cytoplasm`  from /Users/ahenrie/Projects/Imaging/data/out \n"
     ]
    }
   ],
   "source": [
    "\n",
    "###################\n",
    "# CELLMASK, NUCLEI, CYTOPLASM, NUCLEUS\n",
    "###################\n",
    "nuclei_obj =  get_nuclei(img_data,meta_dict, out_data_path)\n",
    "cellmask_obj = get_cellmask(img_data, nuclei_obj, meta_dict, out_data_path)\n",
    "cytoplasm_mask = get_cytoplasm(nuclei_obj , cellmask_obj , meta_dict, out_data_path)\n",
    "\n"
   ]
  },
  {
   "attachments": {},
   "cell_type": "markdown",
   "metadata": {},
   "source": [
    "---------------------\n",
    "\n",
    "## infer ***mitochondria***\n",
    "\n",
    "## summary of steps (Workflow #1 & #2)\n",
    "\n",
    "INPUT\n",
    "- channel  2\n",
    "- cytoplasm mask\n",
    "\n",
    "PRE-PROCESSING\n",
    "-  smoothe / remove noise\n",
    "\n",
    "CORE-PROCESSING\n",
    "-  'vesselness' enhancement\n",
    "-  threshold objects\n",
    "\n",
    "- POST-PROCESSING\n",
    "  - filter objects\n",
    "\n",
    "OUTPUT\n",
    "- inferred  ***mitochondria*** object\n",
    "\n",
    "\n",
    "Generally following the Allen Cell Segmenter procedure, but doing more aggressive contrast scaling than their prescribed contrast scaling.\n",
    "\n",
    "> Using Allen Cell Segmenter Tom20as a potential Mitochondria segmenter to start with  start from [Allen Cell](https://www.allencell.org/cell-observations/category/mitochondria).   using [seg_tomm20.py](\"../../../../aics-segmentation/aicssegmentation/structure_wrapper/seg_tomm20.py\")\n"
   ]
  },
  {
   "attachments": {},
   "cell_type": "markdown",
   "metadata": {},
   "source": [
    "## INPUT prototype"
   ]
  },
  {
   "cell_type": "code",
   "execution_count": 6,
   "metadata": {},
   "outputs": [],
   "source": [
    "\n",
    "###################\n",
    "# INPUT\n",
    "###################\n",
    "raw_mito = select_channel_from_raw(img_data, MITO_CH)\n"
   ]
  },
  {
   "attachments": {},
   "cell_type": "markdown",
   "metadata": {},
   "source": [
    "## PRE-PROCESSING prototype\n"
   ]
  },
  {
   "cell_type": "code",
   "execution_count": 7,
   "metadata": {},
   "outputs": [],
   "source": [
    "###################\n",
    "# PRE_PROCESSING\n",
    "###################\n",
    "med_filter_size = 3\n",
    "gaussian_smoothing_sigma = 1.34\n",
    "struct_img =  scale_and_smooth(raw_mito,\n",
    "                                                    median_sz = med_filter_size, \n",
    "                                                    gauss_sig = gaussian_smoothing_sigma)"
   ]
  },
  {
   "attachments": {},
   "cell_type": "markdown",
   "metadata": {},
   "source": [
    "## CORE PROCESSING prototype"
   ]
  },
  {
   "cell_type": "code",
   "execution_count": 8,
   "metadata": {},
   "outputs": [],
   "source": [
    "###################\n",
    "# CORE_PROCESSING\n",
    "###################\n",
    "\n",
    "\n",
    "################################\n",
    "## PARAMETERS for this step ##\n",
    "vesselness_sigma = 1.5\n",
    "vesselness_cutoff = 0.05\n",
    "# 2d vesselness slice by slice\n",
    "# response = vesselness_slice_by_slice(structure_img_smooth, sigmas=vesselness_sigma, cutoff=-1, tau=.75)\n",
    "bw = vesselness_slice_by_slice(struct_img, sigma=vesselness_sigma, cutoff=vesselness_cutoff, tau=.75)\n",
    "\n",
    "# # from Sec61b workflows - playground references Tom20\n",
    "# f2_param = [[1.5, 0.16]]\n",
    "# bw = filament_2d_wrapper(structure_img_smooth, f2_param)"
   ]
  },
  {
   "attachments": {},
   "cell_type": "markdown",
   "metadata": {},
   "source": [
    "## POST-PROCESSING prototype"
   ]
  },
  {
   "cell_type": "code",
   "execution_count": 9,
   "metadata": {},
   "outputs": [],
   "source": [
    "###################\n",
    "# POST_PROCESSING\n",
    "###################\n",
    "# mito_object = apply_mask(bw,cytoplasm_mask)\n",
    "\n",
    "small_object_width = 3\n",
    "mito_object = size_filter_linear_size(bw, \n",
    "                                                min_size= small_object_width)\n"
   ]
  },
  {
   "cell_type": "markdown",
   "metadata": {},
   "source": [
    "#### Visualize with `napari`\n",
    "Visualize the first-pass segmentation and labeling with `napari`."
   ]
  },
  {
   "cell_type": "code",
   "execution_count": 10,
   "metadata": {},
   "outputs": [],
   "source": [
    "viewer = napari.Viewer()\n",
    "\n"
   ]
  },
  {
   "cell_type": "code",
   "execution_count": 11,
   "metadata": {},
   "outputs": [
    {
     "data": {
      "text/plain": [
       "<Image layer 'struct_img' at 0x160be0af0>"
      ]
     },
     "execution_count": 11,
     "metadata": {},
     "output_type": "execute_result"
    }
   ],
   "source": [
    "\n",
    "\n",
    "viewer.add_image(\n",
    "    raw_mito,\n",
    ")\n",
    "\n",
    "viewer.scale_bar.visible = True\n",
    "viewer.add_image(\n",
    "    struct_img,\n",
    ")\n"
   ]
  },
  {
   "cell_type": "code",
   "execution_count": 12,
   "metadata": {},
   "outputs": [
    {
     "data": {
      "text/plain": [
       "<Image layer 'mito_object' at 0x16a3e1a00>"
      ]
     },
     "execution_count": 12,
     "metadata": {},
     "output_type": "execute_result"
    }
   ],
   "source": [
    "\n",
    "viewer.add_image(\n",
    "    mito_object,\n",
    ")\n"
   ]
  },
  {
   "cell_type": "code",
   "execution_count": 13,
   "metadata": {},
   "outputs": [
    {
     "data": {
      "text/plain": [
       "<Image layer 'bw' at 0x16b5e5610>"
      ]
     },
     "execution_count": 13,
     "metadata": {},
     "output_type": "execute_result"
    }
   ],
   "source": [
    "\n",
    "\n",
    "viewer.add_image(\n",
    "    bw,\n",
    ")\n"
   ]
  },
  {
   "attachments": {},
   "cell_type": "markdown",
   "metadata": {},
   "source": [
    "## DEFINE `infer_mito` function\n",
    "\n",
    "Based on the _prototyping_ above define the function to infer the mitochondria.  \n"
   ]
  },
  {
   "cell_type": "code",
   "execution_count": 14,
   "metadata": {},
   "outputs": [],
   "source": [
    "##########################\n",
    "#  infer_mito\n",
    "##########################\n",
    "def _infer_mito(\n",
    "                                in_img: np.ndarray,\n",
    "                                median_sz: int,\n",
    "                                gauss_sig: float,\n",
    "                                vesselness_scale : float,\n",
    "                                vesselness_cut : float,\n",
    "                                small_obj_w: int,\n",
    "                            ) -> np.ndarray:\n",
    "    \"\"\"\n",
    "    Procedure to infer mitochondria from linearly unmixed input.\n",
    "\n",
    "    Parameters\n",
    "    ------------\n",
    "    in_img:\n",
    "        a 3d image containing all the channels\n",
    "    median_sz: \n",
    "        width of median filter for signal\n",
    "    gauss_sig: \n",
    "        sigma for gaussian smoothing of  signal\n",
    "    vesselness_scale: \n",
    "        scale (log_sigma) for vesselness filter\n",
    "    vesselness_cut: \n",
    "        threshold for vesselness fitered threshold\n",
    "    small_obj_w: \n",
    "        minimu object size cutoff for nuclei post-processing\n",
    "\n",
    "    Returns\n",
    "    -------------\n",
    "    mito_object\n",
    "        mask defined extent of mitochondria object\n",
    "    \n",
    "    \"\"\"\n",
    "    mito_ch = MITO_CH\n",
    "    ###################\n",
    "    # EXTRACT\n",
    "    ###################    \n",
    "    mito = select_channel_from_raw(in_img, MITO_CH)\n",
    "    ###################\n",
    "    # PRE_PROCESSING\n",
    "    ###################                         \n",
    "    # mito = min_max_intensity_normalization(mito)\n",
    "    # mito = median_filter_slice_by_slice(mito, size=median_sz)\n",
    "    # struct_img = image_smoothing_gaussian_slice_by_slice( mito, sigma=gauss_sig )\n",
    "    struct_img =  scale_and_smooth(mito,\n",
    "                                                    median_sz = median_sz, \n",
    "                                                    gauss_sig = gauss_sig)\n",
    "    ###################   \n",
    "    # CORE_PROCESSING\n",
    "    ###################\n",
    "    struct_img = vesselness_slice_by_slice(struct_img, sigma=vesselness_scale, cutoff=vesselness_cut, tau=.75)\n",
    "\n",
    "    ###################\n",
    "    # POST_PROCESSING\n",
    "    ###################\n",
    "    # struct_obj = apply_mask(struct_img, cytoplasm_mask)\n",
    "    # struct_obj = size_filter_linear_size(struct_img, min_size=small_obj_w)\n",
    "    struct_obj = fill_and_filter_linear_size(struct_img, hole_min=0, hole_max=0, min_size= small_obj_w)\n",
    "\n",
    "    return label_uint16(struct_obj)\n",
    "\n"
   ]
  },
  {
   "attachments": {},
   "cell_type": "markdown",
   "metadata": {},
   "source": [
    "## DEFINE `_fixed_infer_mito` function\n"
   ]
  },
  {
   "cell_type": "code",
   "execution_count": 15,
   "metadata": {},
   "outputs": [],
   "source": [
    "\n",
    "\n",
    "##########################\n",
    "#  fixed_infer_mito\n",
    "##########################\n",
    "def _fixed_infer_mito(in_img: np.ndarray ) -> np.ndarray:\n",
    "    \"\"\"\n",
    "    Procedure to infer mitochondria from linearly unmixed input,\n",
    "    \n",
    "    Parameters\n",
    "    ------------\n",
    "    in_img: \n",
    "        a 3d image containing all the channels\n",
    "\n",
    "    Returns\n",
    "    -------------\n",
    "    mito_object\n",
    "        mask defined extent of mitochondria\n",
    "    \"\"\"\n",
    "    median_sz = 3\n",
    "    gauss_sig = 1.4\n",
    "    vesselness_scale = 1.5\n",
    "    vesselness_cut = 0.05\n",
    "    small_obj_w = 3\n",
    "\n",
    "    return _infer_mito(  \n",
    "                                in_img,\n",
    "                                median_sz,\n",
    "                                gauss_sig,\n",
    "                                vesselness_scale,                                \n",
    "                                vesselness_cut,\n",
    "                                small_obj_w\n",
    "                                )\n",
    "\n"
   ]
  },
  {
   "attachments": {},
   "cell_type": "markdown",
   "metadata": {},
   "source": [
    "------------------\n",
    "\n",
    "# TEST `infer_mito` function"
   ]
  },
  {
   "cell_type": "code",
   "execution_count": 16,
   "metadata": {},
   "outputs": [],
   "source": [
    "\n",
    "_mito_object =  _fixed_infer_mito(img_data) "
   ]
  },
  {
   "cell_type": "code",
   "execution_count": 18,
   "metadata": {},
   "outputs": [],
   "source": [
    "from infer_subc.organelles import fixed_infer_mito\n",
    "\n",
    "mito_object =  fixed_infer_mito(img_data) "
   ]
  },
  {
   "attachments": {},
   "cell_type": "markdown",
   "metadata": {},
   "source": [
    "## Visualize  2\n"
   ]
  },
  {
   "cell_type": "code",
   "execution_count": 19,
   "metadata": {},
   "outputs": [
    {
     "data": {
      "text/plain": [
       "<Image layer 'mito_object [1]' at 0x16bd6eb80>"
      ]
     },
     "execution_count": 19,
     "metadata": {},
     "output_type": "execute_result"
    }
   ],
   "source": [
    "\n",
    "viewer.add_image(\n",
    "    mito_object,\n",
    ")\n"
   ]
  },
  {
   "cell_type": "code",
   "execution_count": 20,
   "metadata": {},
   "outputs": [
    {
     "data": {
      "text/plain": [
       "<Image layer '_mito_object' at 0x16bd62580>"
      ]
     },
     "execution_count": 20,
     "metadata": {},
     "output_type": "execute_result"
    }
   ],
   "source": [
    "\n",
    "viewer.add_image(\n",
    "    _mito_object,\n",
    ")\n"
   ]
  },
  {
   "cell_type": "code",
   "execution_count": 21,
   "metadata": {},
   "outputs": [
    {
     "data": {
      "text/plain": [
       "<Labels layer 'Labels' at 0x16bfe0b50>"
      ]
     },
     "execution_count": 21,
     "metadata": {},
     "output_type": "execute_result"
    }
   ],
   "source": [
    "\n",
    "viewer.add_labels(\n",
    "    label(mito_object),\n",
    ")"
   ]
  },
  {
   "cell_type": "code",
   "execution_count": 22,
   "metadata": {},
   "outputs": [
    {
     "data": {
      "image/png": "[encoded data removed]",
      "text/html": [
       "<img src=\"data:image/png;base64,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\"></img>"
      ],
      "text/plain": [
       "<napari.utils.notebook_display.NotebookScreenshot at 0x16c101f10>"
      ]
     },
     "execution_count": 22,
     "metadata": {},
     "output_type": "execute_result"
    }
   ],
   "source": [
    "from napari.utils.notebook_display import nbscreenshot\n",
    "\n",
    "# viewer.dims.ndisplay = 3\n",
    "# viewer.camera.angles = (-30, 25, 120)\n",
    "nbscreenshot(viewer, canvas_only=True)"
   ]
  },
  {
   "cell_type": "code",
   "execution_count": 23,
   "metadata": {},
   "outputs": [],
   "source": [
    "viewer.close()"
   ]
  },
  {
   "attachments": {},
   "cell_type": "markdown",
   "metadata": {},
   "source": [
    "-------------\n",
    "## SUMMARY\n",
    "\n",
    "The above details how the mitochondria object is inferred.  \n",
    "\n",
    "### NEXT: INFER GOLGI\n",
    "\n",
    "proceed to [06_infer_golgi.ipynb](./06_infer_golgi.ipynb)\n"
   ]
  }
 ],
 "metadata": {
  "kernelspec": {
   "display_name": "Python 3.9.13 ('napariNEW')",
   "language": "python",
   "name": "python3"
  },
  "language_info": {
   "codemirror_mode": {
    "name": "ipython",
    "version": 3
   },
   "file_extension": ".py",
   "mimetype": "text/x-python",
   "name": "python",
   "nbconvert_exporter": "python",
   "pygments_lexer": "ipython3",
   "version": "3.9.16"
  },
  "orig_nbformat": 4,
  "vscode": {
   "interpreter": {
    "hash": "d6148ef1fb015fb20f0b6da2ea61c87c6b848bdf3dabb03087e5d5cd0c4607e9"
   }
  }
 },
 "nbformat": 4,
 "nbformat_minor": 2
}
