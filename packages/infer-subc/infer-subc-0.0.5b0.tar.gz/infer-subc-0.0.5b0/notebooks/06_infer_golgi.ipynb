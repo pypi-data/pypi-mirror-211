{
 "cells": [
  {
   "attachments": {},
   "cell_type": "markdown",
   "metadata": {},
   "source": [
    "# Infer ***golgi*** - part 6️⃣\n",
    "\n",
    "--------------\n",
    "OBJECTIVE:  ✅ Infer sub-cellular component ***golgi complex***  in order to understand interactome \n",
    "\n",
    "Dependencies:\n",
    "The ***golgi***  inference rely on the **cytoplasm** mask. "
   ]
  },
  {
   "attachments": {},
   "cell_type": "markdown",
   "metadata": {},
   "source": [
    "## preamble\n",
    "\n",
    "1. imports\n",
    "2. setup\n",
    "3. choose_Z\n",
    "4. get cellmask mask\n",
    "5. infer nuclei object  \n",
    "6. get cytoplasm mask"
   ]
  },
  {
   "cell_type": "markdown",
   "metadata": {},
   "source": []
  },
  {
   "cell_type": "markdown",
   "metadata": {},
   "source": [
    "\n",
    "## IMPORTS"
   ]
  },
  {
   "cell_type": "code",
   "execution_count": 1,
   "metadata": {},
   "outputs": [],
   "source": [
    "# top level imports\n",
    "from pathlib import Path\n",
    "import os, sys\n",
    "from collections import defaultdict\n",
    "from typing import Optional\n",
    "\n",
    "import numpy as np\n",
    "\n",
    "from aicssegmentation.core.seg_dot import dot_2d_slice_by_slice_wrapper, dot_3d_wrapper\n",
    "from aicssegmentation.core.utils import topology_preserving_thinning\n",
    "from skimage.measure import label\n",
    "\n",
    "import napari\n",
    "\n",
    "### import local python functions in ../infer_subc\n",
    "sys.path.append(os.path.abspath((os.path.join(os.getcwd(), '..'))))\n",
    "\n",
    "\n",
    "from infer_subc.core.file_io import (read_czi_image,\n",
    "                                                                    read_ome_image,\n",
    "                                                                    export_inferred_organelle,\n",
    "                                                                    import_inferred_organelle,\n",
    "                                                                    list_image_files)\n",
    "\n",
    "from infer_subc.core.img import *\n",
    "\n",
    "from infer_subc.organelles import fixed_infer_cellmask_fromaggr, fixed_infer_nuclei, get_cytoplasm, get_nuclei, get_cellmask\n",
    "\n",
    "\n",
    "%load_ext autoreload\n",
    "%autoreload 2\n"
   ]
  },
  {
   "cell_type": "code",
   "execution_count": 2,
   "metadata": {},
   "outputs": [],
   "source": [
    "# NOTE:  these \"constants\" are only accurate for the testing MCZ dataset\n",
    "from infer_subc.constants import (TEST_IMG_N,\n",
    "                                                                    NUC_CH ,\n",
    "                                                                    LYSO_CH ,\n",
    "                                                                    MITO_CH ,\n",
    "                                                                    GOLGI_CH ,\n",
    "                                                                    PEROX_CH ,\n",
    "                                                                    ER_CH ,\n",
    "                                                                    LD_CH ,\n",
    "                                                                    RESIDUAL_CH )              "
   ]
  },
  {
   "attachments": {},
   "cell_type": "markdown",
   "metadata": {},
   "source": [
    "\n",
    "## SETUP"
   ]
  },
  {
   "cell_type": "code",
   "execution_count": 3,
   "metadata": {},
   "outputs": [],
   "source": [
    "# this will be the example image for testing the pipeline below\n",
    "test_img_n = TEST_IMG_N\n",
    "\n",
    "# build the datapath\n",
    "# all the imaging data goes here.\n",
    "data_root_path = Path(os.path.expanduser(\"~\")) / \"Projects/Imaging/data\"\n",
    "\n",
    "# linearly unmixed \".czi\" files are here\n",
    "in_data_path = data_root_path / \"raw\"\n",
    "im_type = \".czi\"\n",
    "\n",
    "# get the list of all files\n",
    "img_file_list = list_image_files(in_data_path,im_type)\n",
    "test_img_name = img_file_list[test_img_n]\n",
    "\n",
    "# save output \".tiff\" files here\n",
    "out_data_path = data_root_path / \"out\"\n",
    "\n",
    "if not Path.exists(out_data_path):\n",
    "    Path.mkdir(out_data_path)\n",
    "    print(f\"making {out_data_path}\")"
   ]
  },
  {
   "cell_type": "code",
   "execution_count": 4,
   "metadata": {},
   "outputs": [
    {
     "name": "stderr",
     "output_type": "stream",
     "text": [
      "/opt/anaconda3/envs/napariNEW/lib/python3.9/site-packages/ome_types/_convenience.py:106: FutureWarning: The default XML parser will be changing from 'xmlschema' to 'lxml' in version 0.4.0.  To silence this warning, please provide the `parser` argument, specifying either 'lxml' (to opt into the new behavior), or'xmlschema' (to retain the old behavior).\n",
      "  d = to_dict(os.fspath(xml), parser=parser, validate=validate)\n"
     ]
    }
   ],
   "source": [
    "img_data,meta_dict = read_czi_image(test_img_name)\n",
    "\n",
    "# get some top-level info about the RAW data\n",
    "channel_names = meta_dict['name']\n",
    "img = meta_dict['metadata']['aicsimage']\n",
    "scale = meta_dict['scale']\n",
    "channel_axis = meta_dict['channel_axis']\n"
   ]
  },
  {
   "cell_type": "markdown",
   "metadata": {},
   "source": [
    "## GET CYTOPLASM MASK\n",
    "\n",
    "> note: don't actually need it here, but getting for testing and visualization purposes.\n"
   ]
  },
  {
   "cell_type": "code",
   "execution_count": 5,
   "metadata": {},
   "outputs": [
    {
     "name": "stdout",
     "output_type": "stream",
     "text": [
      ">>>>>>>>>>>> tifffile.imread  (dtype=uint8in (0.01) sec\n",
      "loaded  inferred 3D `nuclei`  from /Users/ahenrie/Projects/Imaging/data/out \n",
      ">>>>>>>>>>>> tifffile.imread  (dtype=int32in (0.03) sec\n",
      "loaded  inferred 3D `cellmask`  from /Users/ahenrie/Projects/Imaging/data/out \n",
      ">>>>>>>>>>>> tifffile.imread  (dtype=uint8in (0.01) sec\n",
      "loaded  inferred 3D `cytoplasm`  from /Users/ahenrie/Projects/Imaging/data/out \n"
     ]
    }
   ],
   "source": [
    "\n",
    "###################\n",
    "# CELLMASK, NUCLEI, CYTOPLASM, NUCLEUS\n",
    "###################\n",
    "nuclei_obj =  get_nuclei(img_data,meta_dict, out_data_path)\n",
    "cellmask_obj = get_cellmask(img_data, nuclei_obj, meta_dict, out_data_path)\n",
    "cytoplasm_mask = get_cytoplasm(nuclei_obj , cellmask_obj , meta_dict, out_data_path)\n",
    "\n"
   ]
  },
  {
   "attachments": {},
   "cell_type": "markdown",
   "metadata": {},
   "source": [
    "---------------------\n",
    "\n",
    "## infer ***golgi complex***\n",
    "\n",
    "## summary of steps \n",
    "INPUT\n",
    "- ch 4\n",
    "- cytoplasm mask\n",
    "\n",
    "PRE-PROCESSING\n",
    "-   non-local noise reduction\n",
    "  - size:4, distance:2, cut-off:0.1\n",
    "\n",
    "CORE-PROCESSING\n",
    "- adaptive Otsu\n",
    "    - diameter: (4,100)\n",
    "  - two classes\n",
    "    - threshold smoothing scale: 1.34\n",
    "    - threshold correction factor: .75\n",
    "    - threshold bounds: (0.14, 1)\n",
    "    - adaptive window: 20 pixels\n",
    "\n",
    "  - adaptive Sauvola\n",
    "    - threshold smoothing scale: 0\n",
    "    - threshold correction factor: .6\n",
    "    - threshold bounds: (0. ,1.0)\n",
    "    - adaptive window: 20 pixels\n",
    "\n",
    "- POST-PROCESSING\n",
    "  - N/A\n",
    "\n",
    "OUTPUT\n",
    "- inferred  ***golgi*** object\n",
    "\n",
    "\n",
    "Generally following the Allen Cell Segmenter procedure, but doing more aggressive contrast scaling than their prescribed contrast scaling.\n",
    "\n",
    "> As per the Allen Cell segmenter sialyltransferase 1 (ST6GAL1) a potential Golgi segmenter. e.g. [Allen Cell](https://www.allencell.org/cell-observations/category/golgi-apparatus).    using [seg_st6gal1.py](\"../../../../aics-segmentation/aicssegmentation/structure_wrapper/seg_st6gal1.py\") and [playground_st6gal1.ipynb](\"../../../../aics-segmentation/lookup_table_demo/playground_st6gal1.ipynb\")\n",
    "\n",
    "\n",
    ">#### ASIDE: Perform topology-preserving thinning \n",
    ">There are two parameters:\n",
    ">* `thin_dist_preserve`: Half of the minimum width you want to keep from being thinned. For example, when the object width is smaller than 4, you don't want to make this part even thinning (may break the thin object and alter the topology), you can set `thin_dist_preserve` as `2`.\n",
    ">* `thin_dist`: the amount to thin (has to be an positive integer). The number of pixels to be removed from outter boundary towards center\n"
   ]
  },
  {
   "attachments": {},
   "cell_type": "markdown",
   "metadata": {},
   "source": [
    "## INPUT prototype"
   ]
  },
  {
   "cell_type": "code",
   "execution_count": 6,
   "metadata": {},
   "outputs": [],
   "source": [
    "\n",
    "###################\n",
    "# INPUT\n",
    "###################\n",
    "raw_golgi = select_channel_from_raw(img_data, GOLGI_CH)\n",
    "\n"
   ]
  },
  {
   "attachments": {},
   "cell_type": "markdown",
   "metadata": {},
   "source": [
    "## PRE-PROCESSING prototype\n"
   ]
  },
  {
   "cell_type": "code",
   "execution_count": 7,
   "metadata": {},
   "outputs": [],
   "source": [
    "###################\n",
    "# PRE_PROCESSING\n",
    "###################\n",
    "median_sz = 4\n",
    "gauss_sig = 1.34\n",
    "\n",
    "struct_img =  scale_and_smooth(raw_golgi,\n",
    "                                                    median_sz = median_sz, \n",
    "                                                    gauss_sig = gauss_sig)"
   ]
  },
  {
   "attachments": {},
   "cell_type": "markdown",
   "metadata": {},
   "source": [
    "## CORE PROCESSING prototype"
   ]
  },
  {
   "cell_type": "code",
   "execution_count": 8,
   "metadata": {},
   "outputs": [],
   "source": [
    "###################\n",
    "# CORE_PROCESSING\n",
    "###################\n",
    "################################\n",
    "## PARAMETERS for this step ##\n",
    "cell_wise_min_area = 1200\n",
    "dot_2d_sigma = 1.6\n",
    "dot_2d_cutoff = 0.02\n",
    "thin_dist = 1\n",
    "thin_dist_preserve = 1.6\n",
    "\n",
    "\n",
    "\n",
    "###################\n",
    "# CORE_PROCESSING\n",
    "###################\n",
    "\n",
    "bw, object_for_debug = MO(struct_img, \n",
    "                                                global_thresh_method='tri', \n",
    "                                                object_minArea=cell_wise_min_area, \n",
    "                                                return_object=True)\n",
    "\n",
    "\n",
    "thin_dist_preserve = 1.6\n",
    "thin_dist = 1\n",
    "bw_thin = topology_preserving_thinning(bw, thin_dist_preserve, thin_dist)\n",
    "\n",
    "\n",
    "################################\n",
    "## PARAMETERS for this step ##\n",
    "#s3_param = [[1.6, 0.02]]\n",
    "s3_param = [(dot_2d_sigma,dot_2d_cutoff)]\n",
    "################################\n",
    "\n",
    "# bw_extra = dot_3d_wrapper(structure_img_smooth, s3_param)\n",
    "bw_extra = dot_2d_slice_by_slice_wrapper(struct_img, s3_param)\n",
    "\n",
    "bw_combine = np.logical_or(bw_extra, bw_thin)\n"
   ]
  },
  {
   "attachments": {},
   "cell_type": "markdown",
   "metadata": {},
   "source": [
    "## POST-PROCESSING prototype"
   ]
  },
  {
   "cell_type": "code",
   "execution_count": 9,
   "metadata": {},
   "outputs": [],
   "source": [
    "###################\n",
    "# POST_PROCESSING\n",
    "###################\n",
    "small_object_width = 3\n",
    "\n",
    "golgi_object = size_filter_linear_size(bw_combine, \n",
    "                                                min_size= small_object_width, \n",
    "                                                connectivity=1)\n"
   ]
  },
  {
   "cell_type": "markdown",
   "metadata": {},
   "source": [
    "#### Visualize with `napari`\n",
    "Visualize the first-pass segmentation and labeling with `napari`."
   ]
  },
  {
   "cell_type": "code",
   "execution_count": 25,
   "metadata": {},
   "outputs": [],
   "source": [
    "viewer = napari.Viewer()\n"
   ]
  },
  {
   "cell_type": "code",
   "execution_count": 11,
   "metadata": {},
   "outputs": [
    {
     "data": {
      "text/plain": [
       "<Image layer 'golgi_object' at 0x16652c6a0>"
      ]
     },
     "execution_count": 11,
     "metadata": {},
     "output_type": "execute_result"
    }
   ],
   "source": [
    "\n",
    "viewer.add_image(\n",
    "    golgi_object,\n",
    "    scale=scale\n",
    ")\n",
    "\n"
   ]
  },
  {
   "cell_type": "code",
   "execution_count": 12,
   "metadata": {},
   "outputs": [
    {
     "data": {
      "text/plain": [
       "<Image layer 'bw_thin' at 0x16f3d3ac0>"
      ]
     },
     "execution_count": 12,
     "metadata": {},
     "output_type": "execute_result"
    }
   ],
   "source": [
    "viewer.scale_bar.visible = True\n",
    "viewer.add_image(\n",
    "    bw_extra,\n",
    "    scale=scale\n",
    ")\n",
    "viewer.add_image(\n",
    "    bw_thin,\n",
    "    scale=scale\n",
    ")\n"
   ]
  },
  {
   "attachments": {},
   "cell_type": "markdown",
   "metadata": {},
   "source": [
    "## DEFINE `infer_golgi` function\n",
    "\n",
    "Based on the _prototyping_ above define the function to infer the golgi.  \n"
   ]
  },
  {
   "cell_type": "code",
   "execution_count": 20,
   "metadata": {},
   "outputs": [],
   "source": [
    "##########################\n",
    "#  infer_golgi\n",
    "##########################\n",
    "def _infer_golgi(\n",
    "            in_img: np.ndarray,\n",
    "            median_sz: int,\n",
    "            gauss_sig: float,\n",
    "            mo_method: str,\n",
    "            mo_adjust: float,\n",
    "            mo_cutoff_size: int,\n",
    "            min_thickness: int,\n",
    "            thin: int,\n",
    "            dot_scale: float,\n",
    "            dot_cut: float,\n",
    "            small_obj_w: int,\n",
    "        ) -> np.ndarray:\n",
    "\n",
    "    \"\"\"\n",
    "    Procedure to infer golgi from linearly unmixed input.\n",
    "\n",
    "   Parameters\n",
    "    ------------\n",
    "    in_img: \n",
    "        a 3d image containing all the channels\n",
    "    median_sz: \n",
    "        width of median filter for signal\n",
    "    mo_method: \n",
    "         which method to use for calculating global threshold. Options include:\n",
    "         \"triangle\" (or \"tri\"), \"median\" (or \"med\"), and \"ave_tri_med\" (or \"ave\").\n",
    "         \"ave\" refers the average of \"triangle\" threshold and \"mean\" threshold.\n",
    "    mo_adjust: \n",
    "        Masked Object threshold `local_adjust`\n",
    "    mo_cutoff_size: \n",
    "        Masked Object threshold `size_min`\n",
    "    min_thinkness: \n",
    "        Half of the minimum width you want to keep from being thinned.\n",
    "        For example, when the object width is smaller than 4, you don't\n",
    "        want to make this part even thinner (may break the thin object\n",
    "        and alter the topology), you can set this value as 2.\n",
    "    thin: \n",
    "        the amount to thin (has to be an positive integer). The number of\n",
    "         pixels to be removed from outter boundary towards center.\n",
    "    dot_scale: \n",
    "        scales (log_sigma) for dot filter (1,2, and 3)\n",
    "    dot_cut: \n",
    "        threshold for dot filter thresholds (1,2,and 3)\n",
    "    small_obj_w: \n",
    "        minimu object size cutoff for nuclei post-processing\n",
    "    \n",
    "    Returns\n",
    "    -------------\n",
    "    golgi_object\n",
    "        mask defined extent of golgi object\n",
    "    \"\"\"\n",
    "    golgi_ch = GOLGI_CH\n",
    "\n",
    "    ###################\n",
    "    # EXTRACT\n",
    "    ###################    \n",
    "    golgi = select_channel_from_raw(in_img, golgi_ch)\n",
    "\n",
    "    ###################\n",
    "    # PRE_PROCESSING\n",
    "    ###################    \n",
    "    golgi =  scale_and_smooth(golgi,\n",
    "                                                    median_sz = median_sz, \n",
    "                                                    gauss_sig = gauss_sig)\n",
    "   ###################\n",
    "    # CORE_PROCESSING\n",
    "    ###################\n",
    "    # bw = MO(golgi, global_thresh_method=thresh_method, object_minArea=obj_min_area)\n",
    "    bw = masked_object_thresh(golgi, th_method=mo_method, cutoff_size=mo_cutoff_size, th_adjust=mo_adjust)\n",
    "\n",
    "    bw_thin = topology_preserving_thinning(bw, min_thickness, thin)\n",
    "\n",
    "    s3_param = [(dot_cut,dot_scale)]\n",
    "    bw_extra = dot_2d_slice_by_slice_wrapper(golgi, s3_param)\n",
    "    # bw_extra = dot_3d_wrapper(golgi, s3_param)\n",
    "\n",
    "    bw = np.logical_or(bw_extra, bw_thin)\n",
    "    ###################\n",
    "    # POST_PROCESSING\n",
    "    ###################\n",
    "    struct_obj = size_filter_linear_size(bw, \n",
    "                                                min_size= small_obj_w, \n",
    "                                                connectivity=1)\n",
    "\n",
    "\n",
    "    return label_uint16(struct_obj)\n"
   ]
  },
  {
   "attachments": {},
   "cell_type": "markdown",
   "metadata": {},
   "source": [
    "## DEFINE `_fixed_infer_golgi` function\n"
   ]
  },
  {
   "cell_type": "code",
   "execution_count": 21,
   "metadata": {},
   "outputs": [],
   "source": [
    "##########################\n",
    "#  fixed_infer_golgi\n",
    "##########################\n",
    "def _fixed_infer_golgi(in_img: np.ndarray ) -> np.ndarray:\n",
    "    \"\"\"\n",
    "    Procedure to infer golgi from linearly unmixed input.\n",
    "\n",
    "    Parameters\n",
    "    ------------\n",
    "    in_img: \n",
    "        a 3d image containing all the channels\n",
    "    Returns\n",
    "    -------------\n",
    "   golgi_object\n",
    "        mask defined extent of golgi object\n",
    "    \"\"\"\n",
    "\n",
    "    median_sz = 4\n",
    "    gauss_sig = 1.34\n",
    "    mo_method = \"tri\"\n",
    "    mo_adjust = 0.90\n",
    "    mo_cutoff_size = 1200\n",
    "    min_thickness = 1.6\n",
    "    thin = 1\n",
    "    dot_scale = 1.6\n",
    "    dot_cut = 0.02\n",
    "    small_obj_w = 3\n",
    "\n",
    "    return _infer_golgi(\n",
    "        in_img,\n",
    "        median_sz,\n",
    "        gauss_sig,\n",
    "        mo_method,\n",
    "        mo_adjust,\n",
    "        mo_cutoff_size,\n",
    "        min_thickness,\n",
    "        thin,\n",
    "        dot_scale,\n",
    "        dot_cut,\n",
    "        small_obj_w,\n",
    "    )"
   ]
  },
  {
   "cell_type": "markdown",
   "metadata": {},
   "source": [
    "# TEST  `infer_golgi` function"
   ]
  },
  {
   "cell_type": "code",
   "execution_count": 22,
   "metadata": {},
   "outputs": [],
   "source": [
    "\n",
    "_golgi_object =  _fixed_infer_golgi(img_data) \n"
   ]
  },
  {
   "cell_type": "code",
   "execution_count": 23,
   "metadata": {},
   "outputs": [],
   "source": [
    "from infer_subc.organelles import infer_golgi, fixed_infer_golgi\n",
    "\n",
    "golgi_object =  fixed_infer_golgi(img_data) \n"
   ]
  },
  {
   "attachments": {},
   "cell_type": "markdown",
   "metadata": {},
   "source": [
    "## Visualize  2\n"
   ]
  },
  {
   "cell_type": "code",
   "execution_count": 26,
   "metadata": {},
   "outputs": [
    {
     "data": {
      "text/plain": [
       "<Labels layer 'Labels' at 0x170ff1e80>"
      ]
     },
     "execution_count": 26,
     "metadata": {},
     "output_type": "execute_result"
    }
   ],
   "source": [
    "\n",
    "viewer.add_image(\n",
    "    _golgi_object,\n",
    "    scale=scale\n",
    ")\n",
    "viewer.add_image(\n",
    "    golgi_object,\n",
    "    scale=scale\n",
    ")\n",
    "viewer.add_labels(\n",
    "    label(golgi_object),\n",
    "    scale=scale\n",
    ")"
   ]
  },
  {
   "cell_type": "code",
   "execution_count": 27,
   "metadata": {},
   "outputs": [
    {
     "data": {
      "image/png": "[encoded data removed]",
      "text/html": [
       "<img src=\"data:image/png;base64,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\"></img>"
      ],
      "text/plain": [
       "<napari.utils.notebook_display.NotebookScreenshot at 0x165eda430>"
      ]
     },
     "execution_count": 27,
     "metadata": {},
     "output_type": "execute_result"
    }
   ],
   "source": [
    "from napari.utils.notebook_display import nbscreenshot\n",
    "\n",
    "# viewer.dims.ndisplay = 3\n",
    "# viewer.camera.angles = (-30, 25, 120)\n",
    "nbscreenshot(viewer, canvas_only=True)"
   ]
  },
  {
   "cell_type": "code",
   "execution_count": 28,
   "metadata": {},
   "outputs": [],
   "source": [
    "viewer.close()"
   ]
  },
  {
   "attachments": {},
   "cell_type": "markdown",
   "metadata": {},
   "source": [
    "-------------\n",
    "## SUMMARY\n",
    "\n",
    "The above details how the golgi body object is inferred.  \n",
    "\n",
    "### NEXT: INFER PEROXISOME\n",
    "\n",
    "proceed to [07_infer_perox.ipynb](./07_infer_perox.ipynb)\n"
   ]
  },
  {
   "cell_type": "markdown",
   "metadata": {},
   "source": []
  }
 ],
 "metadata": {
  "kernelspec": {
   "display_name": "Python 3.9.13 ('napariNEW')",
   "language": "python",
   "name": "python3"
  },
  "language_info": {
   "codemirror_mode": {
    "name": "ipython",
    "version": 3
   },
   "file_extension": ".py",
   "mimetype": "text/x-python",
   "name": "python",
   "nbconvert_exporter": "python",
   "pygments_lexer": "ipython3",
   "version": "3.9.16"
  },
  "orig_nbformat": 4,
  "vscode": {
   "interpreter": {
    "hash": "d6148ef1fb015fb20f0b6da2ea61c87c6b848bdf3dabb03087e5d5cd0c4607e9"
   }
  }
 },
 "nbformat": 4,
 "nbformat_minor": 2
}
