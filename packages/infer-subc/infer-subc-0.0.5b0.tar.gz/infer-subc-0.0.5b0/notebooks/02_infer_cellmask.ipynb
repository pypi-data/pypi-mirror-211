{
 "cells": [
  {
   "cell_type": "markdown",
   "metadata": {},
   "source": []
  },
  {
   "attachments": {},
   "cell_type": "markdown",
   "metadata": {},
   "source": [
    "# Infer ***cellmask*** -  2️⃣ \n",
    "\n",
    "> WARNING: (🚨🚨🚨🚨 Steps 3-9 depend on establishing a good solution here.)\n",
    ">> #### Because we do NOT have a direct cell membrane / cellmask signal, this segmentation is trickiest and potentially most problematic part of the overall sub-cellular component inference pipeline. We are using the nuclei of the cell with the brightest total fluorescence (all channels) to identify a single cellmask for all downstream steps. The Cellmask (via the Cytoplasm mask) will be used to define ALL subsequent sub-cellular Objects.\n",
    "\n",
    "--------------\n",
    "\n",
    "## OBJECTIVE: \n",
    "### ✅ Infer sub-cellular component #2: ***cellmask***/cell body in order to understand interactome \n",
    "\n",
    "Infer a segmentation of the cell body -- the ***cellmask*** -- in order to measure its shape, position, and size.\n",
    "\n",
    "CONTEXT: \"Cellmask\" is used here becuase subsequent experiments will contain neurons who's cellmask has a similar shape to an iPS cell body.\n",
    "\n",
    "This method is used in the case where there is no cell fill/membrane marker.\n",
    "\n",
    "We will infer the cellmask from a combination of fluorescent signals. The current selection includes the lysosomes, ER, and Golgi (e.g., 'Ch = 1, 3, 5) which have some intracellular fluorescence - likely from off target marker localization to the entire cellmask and/or the cell membrane. There are two other channels, the residual channel from linear unmixing (e.g. `ch = 7`) and the lipid droplet channel (e.g., `ch = 6`) that could more lead to more unbiased selection of the entire cellmask. However, the drawback of these two markers is that they are present in every cell which makes downstream cell selection more challenging. To expand on this, we will be collecting per cell measurements, so each cell area has to be segmented individually even if there are two appropriately labeled cells within one field of view. \n",
    "\n",
    "In the long term we can build of a database of \"ground truth\" by sourcing additional markers which can be iteratively improved.  For example using the Allen Cell \"Label Free\" segmentation results should provide a good corroboration or constraints to the procedures outlined below.  \n",
    "\n",
    "A first possible _workflow_ is illustrated below.\n",
    "\n",
    "### IMAGE PROCESSING  OBJECTIVE :  infer ***cellmask***\n",
    " \n",
    "> #### Note:  we are using the Nuclei of the brightest cell to aid in inferring the Cellmask and Cytoplasm objects.   Because we do NOT have a direct cell membrane / cellmask signal this is the trickiest and potentially problematic part of the overall sub-cellular component inference.   The Cellmask (via the Cytoplasm mask) will be used to define ALL subsequent sub-cellular Objects."
   ]
  },
  {
   "attachments": {},
   "cell_type": "markdown",
   "metadata": {},
   "source": [
    "## preamble\n",
    "\n",
    "1. imports\n",
    "2. setup\n",
    "3. ~~choose_Z~~\n",
    "4. infer-cellmask\n",
    "    * input\n",
    "    * pre-processing\n",
    "    * core processing\n",
    "    * post-processing\n",
    "    * select individual cell\n",
    "    * output\n",
    "5. export cellmask\n",
    "\n"
   ]
  },
  {
   "attachments": {},
   "cell_type": "markdown",
   "metadata": {},
   "source": [
    "\n",
    "\n",
    "## IMPORTS"
   ]
  },
  {
   "cell_type": "code",
   "execution_count": 1,
   "metadata": {},
   "outputs": [],
   "source": [
    "# top level imports\n",
    "from pathlib import Path\n",
    "import os, sys\n",
    "from collections import defaultdict\n",
    "from typing import Union, Tuple, List\n",
    "\n",
    "import numpy as np\n",
    "\n",
    "from scipy import ndimage as ndi\n",
    "from aicssegmentation.core.pre_processing_utils import ( intensity_normalization, \n",
    "                                                         image_smoothing_gaussian_slice_by_slice )\n",
    "from aicssegmentation.core.MO_threshold import MO\n",
    "from aicssegmentation.core.utils import hole_filling\n",
    "\n",
    "from skimage import filters\n",
    "from skimage.segmentation import watershed, clear_border\n",
    "from skimage.morphology import remove_small_holes   # function for post-processing (size filter)\n",
    "\n",
    "from skimage.measure import label\n",
    "\n",
    "# # package for io \n",
    "from aicsimageio import AICSImage\n",
    "\n",
    "import napari\n",
    "\n",
    "### import local python functions in ../infer_subc\n",
    "sys.path.append(os.path.abspath((os.path.join(os.getcwd(), '..'))))\n",
    "\n",
    "\n",
    "from infer_subc.core.file_io import (read_czi_image,\n",
    "                                                                     read_ome_image,\n",
    "                                                                     import_inferred_organelle,\n",
    "                                                                     export_inferred_organelle,\n",
    "                                                                    list_image_files)\n",
    "\n",
    "                                             \n",
    "from infer_subc.core.img import *\n",
    "\n",
    "from infer_subc.organelles import  fixed_infer_nuclei, infer_nuclei_fromlabel, get_nuclei\n",
    "\n",
    "%load_ext autoreload\n",
    "%autoreload 2\n"
   ]
  },
  {
   "attachments": {},
   "cell_type": "markdown",
   "metadata": {},
   "source": [
    "\n",
    "## SETUP\n",
    "\n",
    "CUSTOMIZE WITH: \n",
    "1. updated path to data\n",
    "2. updated folder name for \"raw\" data\n",
    "\n",
    "> NOTE: we are operating on a single \"test\" image in this notebook.  The batch-processing of all the images will be happen at the end of the notebook after we have developed/confirmed the setmentation procedures and parameter settings.\n"
   ]
  },
  {
   "cell_type": "code",
   "execution_count": 2,
   "metadata": {},
   "outputs": [],
   "source": [
    "# NOTE:  these \"constants\" are only accurate for the testing MCZ dataset\n",
    "from infer_subc.constants import (TEST_IMG_N,\n",
    "                                                                    NUC_CH ,\n",
    "                                                                    LYSO_CH ,\n",
    "                                                                    MITO_CH ,\n",
    "                                                                    GOLGI_CH ,\n",
    "                                                                    PEROX_CH ,\n",
    "                                                                    ER_CH ,\n",
    "                                                                    LD_CH ,\n",
    "                                                                    RESIDUAL_CH )                       "
   ]
  },
  {
   "cell_type": "code",
   "execution_count": 3,
   "metadata": {},
   "outputs": [],
   "source": [
    "# this will be the example image for testing the pipeline below\n",
    "test_img_n = TEST_IMG_N\n",
    "\n",
    "# build the datapath\n",
    "# all the imaging data goes here.\n",
    "data_root_path = Path(os.path.expanduser(\"~\")) / \"Projects/Imaging/data\"\n",
    "\n",
    "# linearly unmixed \".czi\" files are here\n",
    "in_data_path = data_root_path / \"raw\"\n",
    "im_type = \".czi\"\n",
    "\n",
    "# get the list of all files\n",
    "img_file_list = list_image_files(in_data_path,im_type)\n",
    "test_img_name = img_file_list[test_img_n]\n",
    "\n",
    "# save output \".tiff\" files here\n",
    "out_data_path = data_root_path / \"out\"\n",
    "im_type = \".czi\"\n",
    "\n"
   ]
  },
  {
   "cell_type": "markdown",
   "metadata": {},
   "source": []
  },
  {
   "cell_type": "code",
   "execution_count": 4,
   "metadata": {},
   "outputs": [
    {
     "name": "stderr",
     "output_type": "stream",
     "text": [
      "/opt/anaconda3/envs/napariNEW/lib/python3.9/site-packages/ome_types/_convenience.py:106: FutureWarning: The default XML parser will be changing from 'xmlschema' to 'lxml' in version 0.4.0.  To silence this warning, please provide the `parser` argument, specifying either 'lxml' (to opt into the new behavior), or'xmlschema' (to retain the old behavior).\n",
      "  d = to_dict(os.fspath(xml), parser=parser, validate=validate)\n"
     ]
    }
   ],
   "source": [
    "img_data,meta_dict = read_czi_image(test_img_name)\n",
    "\n",
    "# get some top-level info about the RAW data\n",
    "channel_names = meta_dict['name']\n",
    "img = meta_dict['metadata']['aicsimage']\n",
    "scale = meta_dict['scale']\n",
    "channel_axis = meta_dict['channel_axis']"
   ]
  },
  {
   "attachments": {},
   "cell_type": "markdown",
   "metadata": {},
   "source": [
    "##  infer ***cellmask***\n",
    "\n",
    ">WORKFLOW #1  - modified MCZ 3/20\n",
    "\n",
    "Segmentation on a 3 channel composite as per 3/20 pipeline from MCZ\n",
    "Summary - Starting with a linear combination of three signals,  the signal is smoothed and non-linearly combined (logrithmic and edge detected) for thresholding. \n",
    "## summary of steps\n",
    "\n",
    "➡️ INPUT\n",
    "- multi-channel sum (6.*1, 3, 2.*5)\n",
    "- nuclei mask\n",
    "\n",
    "PRE-PROCESSING\n",
    "- rescaling\n",
    "- denoise/smoothing\n",
    "- log transform inensities\n",
    "- scale to max 1.0\n",
    "- create non-linear aggregate of log-intensity + scharr edge filtered intensity\n",
    "\n",
    "CORE PROCESSING\n",
    "- mask object segmentation at bottom\n",
    "\n",
    "POST-PROCESSING\n",
    "  - fill holes\n",
    "  - remove small objects\n",
    "\n",
    "OUTPUT ➡️ \n",
    "- mask of CELLMASK\n",
    "\n",
    "\n",
    "> #### Note: this pipeline will eventually include a selection step to identify the cellmask that are properly labeled with all fluorescent markers. This could be one single cell per image, or more if applicable data is available.\n"
   ]
  },
  {
   "attachments": {},
   "cell_type": "markdown",
   "metadata": {},
   "source": [
    "## INPUT prototype\n",
    "\n",
    "Combine multiple channels that will allow inference of the cellmask.\n",
    "\n",
    "Note: the selected channels were chosen based on their qualitative ability to fill the cytoplasmic area of the cell. \n",
    "\n"
   ]
  },
  {
   "attachments": {},
   "cell_type": "markdown",
   "metadata": {},
   "source": [
    "## GET inferred nuclei"
   ]
  },
  {
   "cell_type": "code",
   "execution_count": 5,
   "metadata": {},
   "outputs": [
    {
     "name": "stdout",
     "output_type": "stream",
     "text": [
      ">>>>>>>>>>>> tifffile.imread  (dtype=uint16in (0.02) sec\n",
      "loaded  inferred 3D `nuclei`  from /Users/ahenrie/Projects/Imaging/data/out \n"
     ]
    }
   ],
   "source": [
    "\n",
    "# nuclei_fname = \"/Users/ahenrie/Projects/Imaging/data/out/nuclei_ZSTACK_PBTOhNGN2hiPSCs_BR3_N04_Unmixed.ome.tiff\"\n",
    "# nuclei = import_inferred_organelle(\"nuclei\", meta_dict, out_data_path)\n",
    "\n",
    "# if nuclei is None:\n",
    "#     nuclei =  fixed_infer_nuclei(img_data) \n",
    "#     out_file_n = export_inferred_organelle(nuclei, \"nuclei\", meta_dict, out_data_path)\n",
    "#     print(f\"calculated nuclei. wrote {out_file_n}\")\n",
    "# else:\n",
    "#     print(f\"loaded nuclei from {out_data_path}\")\n",
    "\n",
    "nuclei_labels = get_nuclei(img_data,meta_dict, out_data_path)\n"
   ]
  },
  {
   "cell_type": "code",
   "execution_count": 6,
   "metadata": {},
   "outputs": [
    {
     "data": {
      "text/plain": [
       "dtype('uint16')"
      ]
     },
     "execution_count": 6,
     "metadata": {},
     "output_type": "execute_result"
    }
   ],
   "source": [
    "# # get_interior_labels.   Removes any segmentations on the edges, but we probably don't want to use it\n",
    "# nuclei_labls = get_interior_labels(nuclei)\n",
    "nuclei_labels.dtype"
   ]
  },
  {
   "cell_type": "code",
   "execution_count": 7,
   "metadata": {},
   "outputs": [],
   "source": [
    "\n",
    "###################\n",
    "# INPUT\n",
    "###################\n",
    "struct_img_raw = (6. * img_data[LYSO_CH].copy().astype(np.double) +\n",
    "                  1. * img_data[ER_CH].copy().astype(np.double) + \n",
    "                  2. * img_data[GOLGI_CH].copy().astype(np.double))\n"
   ]
  },
  {
   "cell_type": "code",
   "execution_count": 8,
   "metadata": {},
   "outputs": [
    {
     "data": {
      "text/plain": [
       "(array([1159.,  448.,  700.,  860.,  455.,  720.,  684.,  884., 1061.,\n",
       "        1085.]),\n",
       " array([1159.,  448.,  700.,  860.,  455.,  720.,  684.,  884., 1061.,\n",
       "        1085.]),\n",
       " array([1159.,  448.,  700.,  860.,  455.,  720.,  684.,  884., 1061.,\n",
       "        1085.]))"
      ]
     },
     "execution_count": 8,
     "metadata": {},
     "output_type": "execute_result"
    }
   ],
   "source": [
    "# confirm our functions work as expected:\n",
    "\n",
    "weights =  (0,6,0,2, 0,1) # _,lyso,_, golgi,_,1,0,0,_,_\n",
    "struct_img_raw2 = weighted_aggregate(img_data, *weights)\n",
    "# use splat so we can also break out the arguments for our napari widget later\n",
    "struct_img_raw3 = weighted_aggregate(img_data, 0,6,0,2, 0,1)\n",
    "\n",
    "struct_img_raw[0,0:10,0], struct_img_raw2[0,0:10,0], struct_img_raw3[0,0:10,0]\n"
   ]
  },
  {
   "attachments": {},
   "cell_type": "markdown",
   "metadata": {},
   "source": [
    "## PRE-PROCESSING prototype\n"
   ]
  },
  {
   "cell_type": "code",
   "execution_count": 13,
   "metadata": {},
   "outputs": [],
   "source": [
    "from infer_subc.organelles.cellmask import (raw_cellmask_fromaggr, \n",
    "                                               non_linear_cellmask_transform_MCZ, \n",
    "                                               choose_max_label_cellmask_union_nucleus)\n",
    "\n",
    "struct_img_raw = raw_cellmask_fromaggr(img_data)\n",
    "###################\n",
    "# PRE_PROCESSING\n",
    "###################\n",
    "#\n",
    "# DEFAULT PARAMETERS:\n",
    "\n",
    "med_filter_size = 15  \n",
    "gaussian_smoothing_sigma = 1.34\n",
    "\n",
    "\n",
    "structure_img_smooth =  scale_and_smooth(struct_img_raw,\n",
    "                                                    median_sz = med_filter_size, \n",
    "                                                    gauss_sig = gaussian_smoothing_sigma)\n",
    "\n"
   ]
  },
  {
   "cell_type": "code",
   "execution_count": 14,
   "metadata": {},
   "outputs": [],
   "source": [
    "\n",
    "# # NON-Linear aggregation\n",
    "# log_image, d = log_transform( structure_img_smooth ) \n",
    "# log_image = intensity_normalization(  log_image,  scaling_param=[0] )\n",
    "# edges = filters.scharr(log_image)\n",
    "# composite_cellmask = intensity_normalization(  edges,  scaling_param=[0] ) + log_image \n",
    "\n",
    "composite_cellmask = non_linear_cellmask_transform_MCZ(structure_img_smooth)\n"
   ]
  },
  {
   "attachments": {},
   "cell_type": "markdown",
   "metadata": {},
   "source": [
    "## CORE PROCESSING"
   ]
  },
  {
   "cell_type": "code",
   "execution_count": 15,
   "metadata": {},
   "outputs": [],
   "source": [
    "###################\n",
    "# CORE_PROCESSING\n",
    "###################\n",
    "low_level_min_size =  150\n",
    "\n",
    "################# part 1\n",
    "bw = masked_object_thresh(composite_cellmask, \n",
    "                                                th_method='ave', \n",
    "                                                cutoff_size=low_level_min_size, \n",
    "                                                th_adjust= 0.5)\n",
    "\n"
   ]
  },
  {
   "attachments": {},
   "cell_type": "markdown",
   "metadata": {},
   "source": [
    "## POST-PROCESSING"
   ]
  },
  {
   "cell_type": "code",
   "execution_count": 16,
   "metadata": {},
   "outputs": [],
   "source": [
    "###################\n",
    "# POST_PROCESSING\n",
    "###################\n",
    "hole_width = 50\n",
    "#removed_holes = remove_small_holes(bw, hole_width ** 2 )\n",
    "removed_holes = hole_filling_linear_size(bw, \n",
    "                                                    hole_min=0, \n",
    "                                                    hole_max=hole_width)\n",
    "\n",
    "\n",
    "small_object_width = 45\n",
    "\n",
    "cleaned_img = size_filter_linear_size(removed_holes, \n",
    "                                                                min_size = small_object_width)\n",
    "\n",
    "cleaned_img2 = fill_and_filter_linear_size(bw, hole_min=0, hole_max=hole_width, min_size= small_object_width)"
   ]
  },
  {
   "cell_type": "code",
   "execution_count": 17,
   "metadata": {},
   "outputs": [
    {
     "data": {
      "text/plain": [
       "True"
      ]
     },
     "execution_count": 17,
     "metadata": {},
     "output_type": "execute_result"
    }
   ],
   "source": [
    "# make sure it works..\n",
    "np.all(cleaned_img==cleaned_img2)"
   ]
  },
  {
   "attachments": {},
   "cell_type": "markdown",
   "metadata": {},
   "source": [
    "## POST POST-PROCESSING"
   ]
  },
  {
   "cell_type": "code",
   "execution_count": 18,
   "metadata": {},
   "outputs": [],
   "source": [
    "###################\n",
    "# POST- POST_PROCESSING\n",
    "###################\n",
    "\n",
    "# # below can be performed by: masked_inverted_watershed(img_in,markers, mask)\n",
    "# inverted_img = 1. - composite_cellmask\n",
    "# labels_out = watershed(\n",
    "#             inverted_img,\n",
    "#             markers=label(nuclei),\n",
    "#             connectivity=np.ones((1, 3,3), bool),\n",
    "#             mask=watershed_mask,\n",
    "#             )\n",
    "\n",
    "cellmask_labels = masked_inverted_watershed(structure_img_smooth,nuclei_labels, cleaned_img)\n",
    "\n",
    "keep_label = get_max_label(composite_cellmask, cellmask_labels)\n",
    "\n",
    "# cellmask_out = np.zeros_like(cellmask_labels)\n",
    "# cellmask_out[cellmask_labels == keep_label] = 1\n",
    "# cellmask_out[nuc_labels == keep_label] = 1\n",
    "\n",
    "cellmask_out = choose_max_label_cellmask_union_nucleus(structure_img_smooth, cleaned_img, nuclei_labels) \n"
   ]
  },
  {
   "attachments": {},
   "cell_type": "markdown",
   "metadata": {},
   "source": [
    "## Visualize with `napari` 1\n",
    "Visualize the first-pass segmentation and labeling with `napari`."
   ]
  },
  {
   "cell_type": "code",
   "execution_count": 19,
   "metadata": {},
   "outputs": [],
   "source": [
    "\n",
    "viewer = napari.view_image(\n",
    "        cleaned_img,\n",
    "    )\n"
   ]
  },
  {
   "cell_type": "code",
   "execution_count": 20,
   "metadata": {},
   "outputs": [
    {
     "data": {
      "text/plain": [
       "<Labels layer 'cellmask_out' at 0x143cfce50>"
      ]
     },
     "execution_count": 20,
     "metadata": {},
     "output_type": "execute_result"
    }
   ],
   "source": [
    "\n",
    "viewer.scale_bar.visible = True\n",
    "\n",
    "viewer.add_labels(\n",
    "    cellmask_out,\n",
    ")\n",
    "\n"
   ]
  },
  {
   "cell_type": "markdown",
   "metadata": {},
   "source": [
    "## SAVE inferred nuclei to .tif file\n",
    "\n",
    "Based on the _prototyping_ above define the function to infer nuclei.  \n"
   ]
  },
  {
   "cell_type": "code",
   "execution_count": 21,
   "metadata": {},
   "outputs": [
    {
     "name": "stderr",
     "output_type": "stream",
     "text": [
      "/opt/anaconda3/envs/napariNEW/lib/python3.9/site-packages/tifffile/tifffile.py:1459: UserWarning: <tifffile.TiffWriter 'cellmask_ZSTACK_…04_Unmixed.tiff'> ignoring 'dtype' argument\n",
      "  warnings.warn(\n"
     ]
    },
    {
     "name": "stdout",
     "output_type": "stream",
     "text": [
      ">>>>>>>>>>>> tifffile.imwrite in (0.50) sec\n",
      "saved file: None\n"
     ]
    }
   ],
   "source": [
    "\n",
    "out_file_n = export_inferred_organelle(cellmask_out, \"cellmask\", meta_dict, out_data_path)\n"
   ]
  },
  {
   "cell_type": "markdown",
   "metadata": {},
   "source": [
    "## DEFINE parameterized  `_infer_cellmask_fromaggr` function\n",
    "\n",
    "A function to infer_cellmask_fromaggr from our (Channel, 1 Z slice, X, Y) image accourding the the following parameters: \n",
    "-  "
   ]
  },
  {
   "cell_type": "code",
   "execution_count": 22,
   "metadata": {},
   "outputs": [],
   "source": [
    "from infer_subc.organelles.cellmask import raw_cellmask_fromaggr, non_linear_cellmask_transform_MCZ\n",
    "\n",
    "##########################\n",
    "# 1. infer_cellmask_fromaggr\n",
    "##########################\n",
    "\n",
    "def _infer_cellmask_fromaggr(in_img: np.ndarray,\n",
    "                nuclei_labels: np.ndarray,\n",
    "    median_sz: int,\n",
    "    gauss_sig: float,\n",
    "    mo_method: str,\n",
    "    mo_adjust: float,\n",
    "    mo_cutoff_size: int,\n",
    "    max_hole_w: int,\n",
    "    small_obj_w: int\n",
    ") -> np.ndarray:\n",
    "    \"\"\"\n",
    "    Procedure to infer cellmask from linearly unmixed input.\n",
    "\n",
    "    Parameters\n",
    "    ------------\n",
    "    in_img: \n",
    "        a 3d image containing all the channels\n",
    "    nuclei_labels: \n",
    "        a 3d image containing the inferred nuclei labels\n",
    "    median_sz: \n",
    "        width of median filter for _cellmask_ signal\n",
    "    gauss_sig: \n",
    "        sigma for gaussian smoothing of _cellmask_ signal\n",
    "    mo_method: \n",
    "         which method to use for calculating global threshold. Options include:\n",
    "         \"triangle\" (or \"tri\"), \"median\" (or \"med\"), and \"ave_tri_med\" (or \"ave\").\n",
    "         \"ave\" refers the average of \"triangle\" threshold and \"mean\" threshold.\n",
    "    mo_adjust: \n",
    "        Masked Object threshold `local_adjust`\n",
    "    mo_cutoff_size: \n",
    "        Masked Object threshold `size_min`\n",
    "    max_hole_w: \n",
    "        hole filling cutoff for cellmask signal post-processing\n",
    "    small_obj_w: \n",
    "        minimu object size cutoff for cellmask signal post-processing\n",
    "\n",
    "    Returns\n",
    "    -------------\n",
    "    cellmask_mask:\n",
    "        a logical/labels object defining boundaries of cellmask\n",
    "\n",
    "    \"\"\"\n",
    "    ###################\n",
    "    # EXTRACT\n",
    "    ###################\n",
    "    struct_img = raw_cellmask_fromaggr(in_img)\n",
    "\n",
    "    ###################\n",
    "    # PRE_PROCESSING\n",
    "    ###################                         \n",
    "    ################# part 1- cellmask\n",
    "\n",
    "    # Linear-ish processing\n",
    "    struct_img =  scale_and_smooth(struct_img,\n",
    "                        median_sz = median_sz, \n",
    "                        gauss_sig = gauss_sig)\n",
    "    \n",
    "\n",
    "    struct_img_non_lin = non_linear_cellmask_transform_MCZ(struct_img)\n",
    "\n",
    "    ###################\n",
    "    # CORE_PROCESSING\n",
    "    ###################\n",
    "    struct_obj = masked_object_thresh(struct_img_non_lin, \n",
    "                                                th_method=mo_method, \n",
    "                                                cutoff_size=mo_cutoff_size, \n",
    "                                                th_adjust=mo_adjust)               \n",
    "\n",
    "    ###################\n",
    "    # POST_PROCESSING\n",
    "    ###################\n",
    "    # struct_obj = hole_filling_linear_size(struct_obj, \n",
    "    #                                             hole_min =0 , \n",
    "    #                                             hole_max=max_hole_w) \n",
    "    # struct_obj = size_filter_linear_size(struct_obj, \n",
    "    #                                                 min_size= small_obj_w)\n",
    "    struct_obj = fill_and_filter_linear_size(struct_obj, hole_min=0, hole_max=max_hole_w, min_size= small_obj_w)\n",
    "\n",
    "    ###################\n",
    "    # POST- POST_PROCESSING\n",
    "    ###################\n",
    "    cellmask_out = choose_max_label_cellmask_union_nucleus(struct_img, struct_obj, nuclei_labels) \n",
    "\n",
    "    return cellmask_out\n",
    "\n",
    "\n",
    "\n"
   ]
  },
  {
   "cell_type": "markdown",
   "metadata": {},
   "source": [
    "## DEFINE `_fixed_infer_cellmask_fromaggr` function\n",
    "\n",
    "Based on the _prototyping_ above define the function to infer cellmask. with a *fixed* set of parameters for each step in the procedure.  That is they are all \"hard coded\""
   ]
  },
  {
   "cell_type": "code",
   "execution_count": 23,
   "metadata": {},
   "outputs": [],
   "source": [
    "##########################\n",
    "# 1. fixed_infer_cellmask_fromaggr\n",
    "##########################\n",
    "\n",
    "\n",
    "def _fixed_infer_cellmask_fromaggr(in_img: np.ndarray, nuclei_labels: np.ndarray) -> np.ndarray:\n",
    "    \"\"\"\n",
    "    Procedure to infer cellmask from linearly unmixed input, with a *fixed* set of parameters for each step in the procedure.  i.e. \"hard coded\"\n",
    "\n",
    "    Parameters\n",
    "    ------------\n",
    "    in_img: \n",
    "        a 3d image containing all the channels\n",
    "    nuclei_labels: \n",
    "        a 3d image containing the inferred nuclei\n",
    "\n",
    "    Returns\n",
    "    -------------\n",
    "    cellmask_mask:\n",
    "        a logical/labels object defining boundaries of cellmask\n",
    "    \"\"\"\n",
    "    \n",
    "\n",
    "    ###################\n",
    "    # PARAMETERS\n",
    "    ###################   \n",
    "    median_sz = 15\n",
    "    gauss_sig = 1.34\n",
    "    mo_method = \"ave\"\n",
    "    mo_adjust = 0.5\n",
    "    mo_cutoff_size = 150\n",
    "    max_hole_w = 50\n",
    "    small_obj_w = 45\n",
    "\n",
    "    cellmask_out = _infer_cellmask_fromaggr(in_img,\n",
    "                                                nuclei_labels,\n",
    "                                                median_sz,\n",
    "                                                gauss_sig,\n",
    "                                                mo_method,\n",
    "                                                mo_adjust,\n",
    "                                                mo_cutoff_size,\n",
    "                                                max_hole_w,\n",
    "                                                small_obj_w) \n",
    "\n",
    "    return cellmask_out\n",
    "\n",
    "\n"
   ]
  },
  {
   "cell_type": "code",
   "execution_count": 24,
   "metadata": {},
   "outputs": [
    {
     "name": "stdout",
     "output_type": "stream",
     "text": [
      "shape in_img (8, 16, 768, 768)\n",
      "shape nuclei_obj (16, 768, 768)\n",
      "weighted_aggregate: shape in- (8, 16, 768, 768) , shape_out- (16, 768, 768)\n",
      "shape struct_img (16, 768, 768)\n"
     ]
    }
   ],
   "source": [
    "from infer_subc.organelles import fixed_infer_cellmask_fromaggr\n",
    "\n",
    "cellmask_object =  fixed_infer_cellmask_fromaggr(img_data, nuclei_labels) \n"
   ]
  },
  {
   "cell_type": "code",
   "execution_count": 25,
   "metadata": {},
   "outputs": [
    {
     "name": "stdout",
     "output_type": "stream",
     "text": [
      ">>>>>>>>>>>> tifffile.imwrite in (0.22) sec\n",
      "saved file: None\n"
     ]
    }
   ],
   "source": [
    "\n",
    "out_file_n = export_inferred_organelle(cellmask_out, \"cellmask\", meta_dict, out_data_path)\n"
   ]
  },
  {
   "cell_type": "markdown",
   "metadata": {},
   "source": [
    "## Visualize  2\n"
   ]
  },
  {
   "cell_type": "code",
   "execution_count": 26,
   "metadata": {},
   "outputs": [
    {
     "data": {
      "text/plain": [
       "<Labels layer 'Labels' at 0x16a108820>"
      ]
     },
     "execution_count": 26,
     "metadata": {},
     "output_type": "execute_result"
    }
   ],
   "source": [
    "viewer.add_image(\n",
    "    cellmask_object,\n",
    "    opacity=0.3,\n",
    ")    \n",
    "\n",
    "\n",
    "viewer.add_labels(\n",
    "    nuclei_labels,\n",
    "    opacity=0.3,\n",
    ")\n"
   ]
  },
  {
   "cell_type": "code",
   "execution_count": 27,
   "metadata": {},
   "outputs": [
    {
     "data": {
      "image/png": "[encoded data removed]",
      "text/html": [
       "<img src=\"data:image/png;base64,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\"></img>"
      ],
      "text/plain": [
       "<napari.utils.notebook_display.NotebookScreenshot at 0x16a8edb20>"
      ]
     },
     "execution_count": 27,
     "metadata": {},
     "output_type": "execute_result"
    }
   ],
   "source": [
    "from napari.utils.notebook_display import nbscreenshot\n",
    "\n",
    "# viewer.dims.ndisplay = 3\n",
    "# viewer.camera.angles = (-30, 25, 120)\n",
    "nbscreenshot(viewer, canvas_only=True)\n"
   ]
  },
  {
   "cell_type": "code",
   "execution_count": 28,
   "metadata": {},
   "outputs": [],
   "source": [
    "viewer.close()"
   ]
  },
  {
   "cell_type": "markdown",
   "metadata": {},
   "source": [
    "---------------------\n",
    "# TEST `_infer_cellmask_fromaggr`  function defined above\n",
    "\n",
    "\n",
    "##\n"
   ]
  },
  {
   "cell_type": "code",
   "execution_count": 29,
   "metadata": {},
   "outputs": [
    {
     "name": "stdout",
     "output_type": "stream",
     "text": [
      "weighted_aggregate: shape in- (8, 16, 768, 768) , shape_out- (16, 768, 768)\n"
     ]
    }
   ],
   "source": [
    "nuclei_obj = nuclei_labels\n",
    "SO_label =  _fixed_infer_cellmask_fromaggr(img_data, nuclei_obj) "
   ]
  },
  {
   "cell_type": "code",
   "execution_count": 30,
   "metadata": {},
   "outputs": [
    {
     "name": "stdout",
     "output_type": "stream",
     "text": [
      "shape in_img (8, 16, 768, 768)\n",
      "shape nuclei_obj (16, 768, 768)\n",
      "weighted_aggregate: shape in- (8, 16, 768, 768) , shape_out- (16, 768, 768)\n",
      "shape struct_img (16, 768, 768)\n"
     ]
    }
   ],
   "source": [
    "from infer_subc.organelles import fixed_infer_cellmask_fromaggr\n",
    "\n",
    "cellmask_ =  fixed_infer_cellmask_fromaggr(img_data, nuclei_obj) "
   ]
  },
  {
   "cell_type": "code",
   "execution_count": 31,
   "metadata": {},
   "outputs": [
    {
     "data": {
      "text/plain": [
       "<Image layer 'cellmask_' at 0x143afb5e0>"
      ]
     },
     "execution_count": 31,
     "metadata": {},
     "output_type": "execute_result"
    }
   ],
   "source": [
    "viewer = napari.Viewer()\n",
    "viewer.add_image(\n",
    "    cellmask_\n",
    ")"
   ]
  },
  {
   "cell_type": "markdown",
   "metadata": {},
   "source": [
    "Write the `infer_cellmask_fromaggr` spec to the widget json"
   ]
  },
  {
   "attachments": {},
   "cell_type": "markdown",
   "metadata": {},
   "source": [
    "--------------------------\n",
    "\n",
    "# TEST `infer_cellmask_fromaggr` exported functions\n"
   ]
  },
  {
   "cell_type": "code",
   "execution_count": 17,
   "metadata": {},
   "outputs": [
    {
     "name": "stdout",
     "output_type": "stream",
     "text": [
      "shape in_img (8, 15, 768, 768)\n",
      "shape nuclei_obj (15, 768, 768)\n",
      "weighted_aggregate: shape in- (8, 15, 768, 768) , shape_out- (15, 768, 768)\n",
      "shape struct_img (15, 768, 768)\n"
     ]
    }
   ],
   "source": [
    "from infer_subc.organelles import fixed_infer_cellmask_fromaggr\n",
    "\n",
    "cellmask_mask =  fixed_infer_cellmask_fromaggr(img_data, nuclei_labels) "
   ]
  },
  {
   "cell_type": "code",
   "execution_count": 18,
   "metadata": {},
   "outputs": [],
   "source": [
    "from infer_subc.organelles.cytoplasm import infer_cytoplasm\n",
    "\n",
    "cytoplasm_mask =  infer_cytoplasm(nuclei_labels, cellmask_mask, erode_nuclei=False) \n"
   ]
  },
  {
   "cell_type": "code",
   "execution_count": 23,
   "metadata": {},
   "outputs": [
    {
     "data": {
      "text/plain": [
       "(dtype('bool'), dtype('bool'), dtype('uint16'), dtype('uint8'))"
      ]
     },
     "execution_count": 23,
     "metadata": {},
     "output_type": "execute_result"
    }
   ],
   "source": [
    "\n",
    "mask_stack = stack_masks(nuclei_labels,cellmask_mask, cytoplasm_mask)\n",
    "\n",
    "cytoplasm_mask.dtype, cellmask_mask.dtype, nuclei_labels.dtype, mask_stack.dtype\n"
   ]
  },
  {
   "cell_type": "code",
   "execution_count": 24,
   "metadata": {},
   "outputs": [
    {
     "data": {
      "text/plain": [
       "(dtype('uint8'), dtype('uint8'), dtype('uint8'))"
      ]
     },
     "execution_count": 24,
     "metadata": {},
     "output_type": "execute_result"
    }
   ],
   "source": [
    "a,b,c = mask_stack[0], mask_stack[1], mask_stack[2]\n",
    "\n",
    "a.dtype, b.dtype, c.dtype"
   ]
  },
  {
   "cell_type": "code",
   "execution_count": 25,
   "metadata": {},
   "outputs": [
    {
     "data": {
      "text/plain": [
       "<Labels layer 'c' at 0x166f81c10>"
      ]
     },
     "execution_count": 25,
     "metadata": {},
     "output_type": "execute_result"
    }
   ],
   "source": [
    "viewer.close()\n",
    "viewer = napari.Viewer()\n",
    "\n",
    "viewer.add_labels(a)\n",
    "viewer.add_labels(b)\n",
    "viewer.add_labels(c)\n"
   ]
  },
  {
   "attachments": {},
   "cell_type": "markdown",
   "metadata": {},
   "source": [
    "## Visualize  2\n"
   ]
  },
  {
   "cell_type": "code",
   "execution_count": 33,
   "metadata": {},
   "outputs": [
    {
     "data": {
      "text/plain": [
       "<Labels layer 'cellmask_mask' at 0x1665e2df0>"
      ]
     },
     "execution_count": 33,
     "metadata": {},
     "output_type": "execute_result"
    }
   ],
   "source": [
    "# viewer = napari.Viewer()\n",
    "\n",
    "viewer.scale_bar.visible = True\n",
    "\n",
    "viewer.add_labels(\n",
    "    cellmask_mask,\n",
    "    scale=scale,\n",
    "    blending='additive'\n",
    ")\n"
   ]
  },
  {
   "cell_type": "code",
   "execution_count": 34,
   "metadata": {},
   "outputs": [
    {
     "data": {
      "image/png": "[encoded data removed]",
      "text/html": [
       "<img src=\"data:image/png;base64,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\"></img>"
      ],
      "text/plain": [
       "<napari.utils.notebook_display.NotebookScreenshot at 0x169fef2e0>"
      ]
     },
     "execution_count": 34,
     "metadata": {},
     "output_type": "execute_result"
    }
   ],
   "source": [
    "\n",
    "from napari.utils.notebook_display import nbscreenshot\n",
    "\n",
    "# viewer.dims.ndisplay = 3\n",
    "# viewer.camera.angles = (-30, 25, 120)\n",
    "nbscreenshot(viewer, canvas_only=True)\n"
   ]
  },
  {
   "cell_type": "code",
   "execution_count": 35,
   "metadata": {},
   "outputs": [],
   "source": [
    "\n",
    "viewer.close()"
   ]
  },
  {
   "attachments": {},
   "cell_type": "markdown",
   "metadata": {},
   "source": [
    "-------------\n",
    "## SUMMARY\n",
    "\n",
    "The above details how the nuclei object is inferred.  \n",
    "\n",
    "### NEXT: INFER CYTOPLASM\n",
    "\n",
    "proceed to [03_infer_cytoplasm.ipynb](./03_infer_cytoplasm.ipynb)\n"
   ]
  }
 ],
 "metadata": {
  "kernelspec": {
   "display_name": "Python 3.9.13 ('napariNEW')",
   "language": "python",
   "name": "python3"
  },
  "language_info": {
   "codemirror_mode": {
    "name": "ipython",
    "version": 3
   },
   "file_extension": ".py",
   "mimetype": "text/x-python",
   "name": "python",
   "nbconvert_exporter": "python",
   "pygments_lexer": "ipython3",
   "version": "3.9.16"
  },
  "orig_nbformat": 4,
  "vscode": {
   "interpreter": {
    "hash": "d6148ef1fb015fb20f0b6da2ea61c87c6b848bdf3dabb03087e5d5cd0c4607e9"
   }
  }
 },
 "nbformat": 4,
 "nbformat_minor": 2
}
