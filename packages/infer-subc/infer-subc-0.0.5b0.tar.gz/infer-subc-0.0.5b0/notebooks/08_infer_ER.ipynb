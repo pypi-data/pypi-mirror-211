{
 "cells": [
  {
   "attachments": {},
   "cell_type": "markdown",
   "metadata": {},
   "source": [
    "# Infer ***ER*** - part 8️⃣\n",
    "\n",
    "--------------\n",
    "\n",
    "OBJECTIVE:  ✅ Infer sub-cellular component ***ER*** (***ER***) in order to understand interactome \n",
    "\n",
    "\n",
    "\n",
    "Dependencies:\n",
    "The ***ER***  inference rely on the cytoplasm mask.\n"
   ]
  },
  {
   "cell_type": "markdown",
   "metadata": {},
   "source": [
    "\n",
    "## IMPORTS"
   ]
  },
  {
   "cell_type": "code",
   "execution_count": 1,
   "metadata": {},
   "outputs": [],
   "source": [
    "# top level imports\n",
    "from pathlib import Path\n",
    "import os, sys\n",
    "\n",
    "import numpy as np\n",
    "\n",
    "from aicssegmentation.core.pre_processing_utils import ( intensity_normalization, \n",
    "                                                         image_smoothing_gaussian_3d,  \n",
    "                                                         edge_preserving_smoothing_3d )\n",
    "from aicssegmentation.core.utils import topology_preserving_thinning, size_filter\n",
    "from aicssegmentation.core.MO_threshold import MO\n",
    "from aicssegmentation.core.vessel import filament_2d_wrapper\n",
    "                                                 \n",
    "from skimage.measure import label\n",
    "\n",
    "\n",
    "import napari\n",
    "\n",
    "### import local python functions in ../infer_subc\n",
    "sys.path.append(os.path.abspath((os.path.join(os.getcwd(), '..'))))\n",
    "\n",
    "from infer_subc.core.file_io import (read_czi_image,\n",
    "                                                                    read_ome_image,\n",
    "                                                                    export_inferred_organelle,\n",
    "                                                                    import_inferred_organelle,\n",
    "                                                                    list_image_files)\n",
    "\n",
    "from infer_subc.core.img import *\n",
    "\n",
    "from infer_subc.organelles import get_cellmask, get_nuclei, get_cytoplasm\n",
    "\n",
    "\n",
    "%load_ext autoreload\n",
    "%autoreload 2\n",
    "\n"
   ]
  },
  {
   "cell_type": "code",
   "execution_count": 2,
   "metadata": {},
   "outputs": [],
   "source": [
    "# NOTE:  these \"constants\" are only accurate for the testing MCZ dataset\n",
    "from infer_subc.constants import (TEST_IMG_N,\n",
    "                                                                    NUC_CH ,\n",
    "                                                                    LYSO_CH ,\n",
    "                                                                    MITO_CH ,\n",
    "                                                                    GOLGI_CH ,\n",
    "                                                                    PEROX_CH ,\n",
    "                                                                    ER_CH ,\n",
    "                                                                    LD_CH ,\n",
    "                                                                    RESIDUAL_CH )              "
   ]
  },
  {
   "attachments": {},
   "cell_type": "markdown",
   "metadata": {},
   "source": [
    "\n",
    "## SETUP"
   ]
  },
  {
   "cell_type": "code",
   "execution_count": 3,
   "metadata": {},
   "outputs": [],
   "source": [
    "# this will be the example image for testing the pipeline below\n",
    "test_img_n = TEST_IMG_N\n",
    "\n",
    "# build the datapath\n",
    "# all the imaging data goes here.\n",
    "data_root_path = Path(os.path.expanduser(\"~\")) / \"Projects/Imaging/data\"\n",
    "\n",
    "# linearly unmixed \".czi\" files are here\n",
    "in_data_path = data_root_path / \"raw\"\n",
    "im_type = \".czi\"\n",
    "\n",
    "# get the list of all files\n",
    "img_file_list = list_image_files(in_data_path,im_type)\n",
    "test_img_name = img_file_list[test_img_n]\n",
    "\n",
    "# save output \".tiff\" files here\n",
    "out_data_path = data_root_path / \"out\"\n",
    "\n",
    "if not Path.exists(out_data_path):\n",
    "    Path.mkdir(out_data_path)\n",
    "    print(f\"making {out_data_path}\")"
   ]
  },
  {
   "cell_type": "code",
   "execution_count": 4,
   "metadata": {},
   "outputs": [
    {
     "name": "stderr",
     "output_type": "stream",
     "text": [
      "/opt/anaconda3/envs/napariNEW/lib/python3.9/site-packages/ome_types/_convenience.py:106: FutureWarning: The default XML parser will be changing from 'xmlschema' to 'lxml' in version 0.4.0.  To silence this warning, please provide the `parser` argument, specifying either 'lxml' (to opt into the new behavior), or'xmlschema' (to retain the old behavior).\n",
      "  d = to_dict(os.fspath(xml), parser=parser, validate=validate)\n"
     ]
    }
   ],
   "source": [
    "img_data,meta_dict = read_czi_image(test_img_name)\n",
    "\n",
    "# get some top-level info about the RAW data\n",
    "channel_names = meta_dict['name']\n",
    "img = meta_dict['metadata']['aicsimage']\n",
    "scale = meta_dict['scale']\n",
    "channel_axis = meta_dict['channel_axis']\n"
   ]
  },
  {
   "cell_type": "markdown",
   "metadata": {},
   "source": [
    "## GET CYTOPLASM MASK\n",
    "\n",
    "> note: don't actually need it here, but getting for testing and visualization purposes.\n"
   ]
  },
  {
   "cell_type": "code",
   "execution_count": 5,
   "metadata": {},
   "outputs": [
    {
     "name": "stdout",
     "output_type": "stream",
     "text": [
      ">>>>>>>>>>>> tifffile.imread  (dtype=uint8in (0.01) sec\n",
      "loaded  inferred 3D `nuclei`  from /Users/ahenrie/Projects/Imaging/data/out \n",
      ">>>>>>>>>>>> tifffile.imread  (dtype=int32in (0.03) sec\n",
      "loaded  inferred 3D `cellmask`  from /Users/ahenrie/Projects/Imaging/data/out \n",
      ">>>>>>>>>>>> tifffile.imread  (dtype=uint8in (0.01) sec\n",
      "loaded  inferred 3D `cytoplasm`  from /Users/ahenrie/Projects/Imaging/data/out \n"
     ]
    }
   ],
   "source": [
    "\n",
    "###################\n",
    "# CELLMASK, NUCLEI, CYTOPLASM, NUCLEUS\n",
    "###################\n",
    "nuclei_obj =  get_nuclei(img_data,meta_dict, out_data_path)\n",
    "cellmask_obj = get_cellmask(img_data, nuclei_obj, meta_dict, out_data_path)\n",
    "cytoplasm_mask = get_cytoplasm(nuclei_obj , cellmask_obj , meta_dict, out_data_path)\n",
    "\n"
   ]
  },
  {
   "attachments": {},
   "cell_type": "markdown",
   "metadata": {},
   "source": [
    "---------------------\n",
    "\n",
    "## infer ***ER***\n",
    "\n",
    "## summary of steps \n",
    "\n",
    "INPUT\n",
    "- ch 6\n",
    "- cytoplasm mask\n",
    "\n",
    "PRE-PROCESSING\n",
    "- edge preserving scaling\n",
    "\n",
    "CORE-PROCESSING\n",
    "- vesselness slice-by-slice\n",
    "\n",
    "POST-PROCESSING\n",
    "  - S  - remove objects less than 2x2 pixels (area = 4)\n",
    "\n",
    "OUTPUT\n",
    "- object **er** \n",
    "\n",
    "\n",
    "Generally following the Allen Cell Segmenter procedure, but doing more aggressive contrast scaling than their prescribed contrast scaling.\n",
    "\n",
    ">sec61beta  is  good start for ER  as per from [Allen Cell](https://www.allencell.org/cell-observations/category/endoplasmic-reticulum).    \n",
    "\n",
    "using [seg_sec61b.py](https://github.com/AllenInstitute/aics-segmentation/blob/master/aics-segmentation/aicssegmentation/structure_wrapper/seg_sec61b.py)\n",
    "[seg_sec61b_dual.py](https://github.com/AllenInstitute/aics-segmentation/blob/master/aicssegmentation/structure_wrapper/seg_sec61b_dual.py)\n",
    "\n",
    "[playground_Sec61b.ipynb](https://github.com/AllenInstitute/aics-segmentation/blob/master/lookup_table_demo/playground_Sec61b.ipynb)\n",
    "\n"
   ]
  },
  {
   "attachments": {},
   "cell_type": "markdown",
   "metadata": {},
   "source": [
    "## INPUT prototype"
   ]
  },
  {
   "cell_type": "code",
   "execution_count": 6,
   "metadata": {},
   "outputs": [],
   "source": [
    "###################\n",
    "# INPUT\n",
    "###################\n",
    "# raw_ER   = img_2D[ER_CH].copy()\n",
    "raw_ER = select_channel_from_raw(img_data, ER_CH)\n"
   ]
  },
  {
   "attachments": {},
   "cell_type": "markdown",
   "metadata": {},
   "source": [
    "## PRE-PROCESSING prototype"
   ]
  },
  {
   "cell_type": "code",
   "execution_count": 32,
   "metadata": {},
   "outputs": [],
   "source": [
    "###################\n",
    "# PRE_PROCESSING\n",
    "###################\n",
    "# struct_img = normalized_edge_preserving_smoothing( raw_ER)\n",
    "\n",
    "median_sz = 3\n",
    "gauss_sig = 2.0\n",
    "\n",
    "struct_img =  scale_and_smooth(raw_ER,\n",
    "                                                    median_sz = median_sz, \n",
    "                                                    gauss_sig = gauss_sig)\n"
   ]
  },
  {
   "attachments": {},
   "cell_type": "markdown",
   "metadata": {},
   "source": [
    "## CORE PROCESSING prototype"
   ]
  },
  {
   "cell_type": "code",
   "execution_count": 33,
   "metadata": {},
   "outputs": [],
   "source": [
    "###################\n",
    "# CORE_PROCESSING\n",
    "###################\n",
    "\n",
    "################################\n",
    "## PARAMETERS for this step ##\n",
    "f2_param = [[1, 0.015]]\n",
    "################################\n",
    "\n",
    "bw = filament_2d_wrapper(struct_img, f2_param)"
   ]
  },
  {
   "attachments": {},
   "cell_type": "markdown",
   "metadata": {},
   "source": [
    "## POST-PROCESSING prototype"
   ]
  },
  {
   "cell_type": "code",
   "execution_count": 34,
   "metadata": {},
   "outputs": [],
   "source": [
    "\n",
    "###################\n",
    "# POST_PROCESSING\n",
    "###################\n",
    "################################\n",
    "## PARAMETERS for this step ##\n",
    "small_object_width = 4\n",
    "################################\n",
    "er_object = size_filter_linear_size(bw, \n",
    "                                                min_size= small_object_width)\n",
    "\n",
    "# ################################\n",
    "# ## PARAMETERS for this step ## from seg_sec61b.py\n",
    "# min_area = 15\n",
    "# ################################\n",
    "# bw = remove_small_objects(bw > 0, min_size=min_area, connectivity=1, in_place=False)\n",
    "# # prune slice by slice\n",
    "# for zz in range(bw.shape[0]):\n",
    "#     bw[zz, :, :] = remove_small_objects(bw[zz, :, :], min_size=3, connectivity=1, in_place=False)\n",
    "\n",
    "# ER_object = remove_small_objects(bw > 0, min_size=min_area, connectivity=1, in_place=False)\n",
    "\n"
   ]
  },
  {
   "cell_type": "markdown",
   "metadata": {},
   "source": [
    "#### Visualize with `napari`\n",
    "Visualize the first-pass segmentation and labeling with `napari`."
   ]
  },
  {
   "cell_type": "code",
   "execution_count": 15,
   "metadata": {},
   "outputs": [],
   "source": [
    "viewer = napari.Viewer()\n"
   ]
  },
  {
   "cell_type": "code",
   "execution_count": 35,
   "metadata": {},
   "outputs": [
    {
     "data": {
      "text/plain": [
       "<Image layer 'er_object [5]' at 0x1762bd730>"
      ]
     },
     "execution_count": 35,
     "metadata": {},
     "output_type": "execute_result"
    }
   ],
   "source": [
    "\n",
    "viewer.add_image(\n",
    "    bw,\n",
    ")\n",
    "\n",
    "\n",
    "viewer.scale_bar.visible = True\n",
    "viewer.add_image(\n",
    "    struct_img\n",
    ")\n",
    "\n",
    "viewer.add_image(\n",
    "    er_object,\n",
    ")"
   ]
  },
  {
   "attachments": {},
   "cell_type": "markdown",
   "metadata": {},
   "source": [
    "## DEFINE `infer_ER` function\n",
    "\n",
    "Based on the _prototyping_ above define the function to infer the er.  \n"
   ]
  },
  {
   "cell_type": "code",
   "execution_count": 47,
   "metadata": {},
   "outputs": [],
   "source": [
    "##########################\n",
    "#  infer_ER\n",
    "##########################\n",
    "def _infer_ER(\n",
    "                                in_img: np.ndarray,\n",
    "                                median_sz: int,\n",
    "                                gauss_sig: float,\n",
    "                                filament_scale : float,\n",
    "                                filament_cut : float,\n",
    "                                small_obj_w: int,\n",
    "                            ) -> np.ndarray:\n",
    "    \"\"\"\n",
    "    Procedure to infer peroxisome from linearly unmixed input.\n",
    "\n",
    "    Parameters\n",
    "    ------------\n",
    "    in_img: \n",
    "        a 3d image containing all the channels\n",
    "    median_sz: \n",
    "        width of median filter for signal\n",
    "    gauss_sig: \n",
    "        sigma for gaussian smoothing of  signal\n",
    "    filament_scale: \n",
    "        scale (log_sigma) for filament filter\n",
    "    filament_cut: \n",
    "        threshold for filament fitered threshold\n",
    "    small_obj_w: \n",
    "        minimu object size cutoff for nuclei post-processing\n",
    "    Returns\n",
    "    -------------\n",
    "    peroxi_object\n",
    "        mask defined extent of peroxisome object\n",
    "    \"\"\"\n",
    "    er_ch = ER_CH\n",
    "    ###################\n",
    "    # EXTRACT\n",
    "    ###################    \n",
    "    er = select_channel_from_raw(in_img, er_ch)\n",
    "\n",
    "    ###################\n",
    "    # PRE_PROCESSING\n",
    "    ###################    \n",
    "    # er = normalized_edge_preserving_smoothing(er)\n",
    "    struct_img =  scale_and_smooth(er,\n",
    "                                                    median_sz = median_sz, \n",
    "                                                    gauss_sig = gauss_sig)\n",
    "\n",
    "   ###################\n",
    "    # CORE_PROCESSING\n",
    "    ###################\n",
    "    # f2_param = [[filament_scale, filament_cut]]\n",
    "    # # f2_param = [[1, 0.15]]  # [scale_1, cutoff_1]\n",
    "    # struct_obj = filament_2d_wrapper(er, f2_param)\n",
    "    struct_obj = filament_filter(struct_img, filament_scale, filament_cut)\n",
    "\n",
    "    ###################\n",
    "    # POST_PROCESSING\n",
    "    ################### \n",
    "    struct_obj = size_filter_linear_size(struct_obj, min_size= small_obj_w)\n",
    "\n",
    "    # ENSURE THAT there is ONLY ONE ER\n",
    "    struct_obj = label_bool_as_uint16(struct_obj)\n",
    "\n",
    "    return struct_obj \n",
    "\n"
   ]
  },
  {
   "attachments": {},
   "cell_type": "markdown",
   "metadata": {},
   "source": [
    "# TEST  `_fixed_infer_ER` function"
   ]
  },
  {
   "cell_type": "code",
   "execution_count": 39,
   "metadata": {},
   "outputs": [],
   "source": [
    "##########################\n",
    "#  fixed_infer_ER\n",
    "##########################\n",
    "def _fixed_infer_ER(in_img: np.ndarray ) -> np.ndarray:\n",
    "    \"\"\"\n",
    "    Procedure to infer endoplasmic rediculum from linearly unmixed input with *fixed parameters*\n",
    "\n",
    "    Parameters\n",
    "    ------------\n",
    "    in_img: \n",
    "        a 3d image containing all the channels\n",
    "\n",
    "    Returns\n",
    "    -------------\n",
    "    peroxi_object\n",
    "        mask defined extent of peroxisome object\n",
    "    \"\"\"\n",
    "    median_sz = 3\n",
    "    gauss_sig = 2.\n",
    "    filament_scale = 1\n",
    "    filament_cut = 0.015\n",
    "    small_obj_w = 2 \n",
    "    return _infer_ER(  in_img,\n",
    "                                median_sz,\n",
    "                                gauss_sig,\n",
    "                                filament_scale,\n",
    "                                filament_cut ,\n",
    "                                small_obj_w)\n",
    "    \n",
    "    "
   ]
  },
  {
   "cell_type": "markdown",
   "metadata": {},
   "source": [
    "# TEST  `_infer_ER` function"
   ]
  },
  {
   "cell_type": "code",
   "execution_count": 48,
   "metadata": {},
   "outputs": [],
   "source": [
    "\n",
    "_ER_object =  _fixed_infer_ER(img_data) \n"
   ]
  },
  {
   "cell_type": "code",
   "execution_count": 49,
   "metadata": {},
   "outputs": [],
   "source": [
    "from infer_subc.organelles import fixed_infer_ER\n",
    "\n",
    "er_object =  fixed_infer_ER(img_data) \n"
   ]
  },
  {
   "attachments": {},
   "cell_type": "markdown",
   "metadata": {},
   "source": [
    "## Visualize  2\n"
   ]
  },
  {
   "cell_type": "code",
   "execution_count": 50,
   "metadata": {},
   "outputs": [
    {
     "data": {
      "text/plain": [
       "<Image layer '_ER_object' at 0x176551eb0>"
      ]
     },
     "execution_count": 50,
     "metadata": {},
     "output_type": "execute_result"
    }
   ],
   "source": [
    "\n",
    "viewer.add_image(\n",
    "    er_object,\n",
    ")\n",
    "viewer.add_labels(\n",
    "    label(er_object),\n",
    ")\n",
    "\n",
    "\n",
    "viewer.add_image(\n",
    "    _ER_object,\n",
    ")"
   ]
  },
  {
   "cell_type": "code",
   "execution_count": 51,
   "metadata": {},
   "outputs": [
    {
     "data": {
      "image/png": "[encoded data removed]",
      "text/html": [
       "<img src=\"data:image/png;base64,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\"></img>"
      ],
      "text/plain": [
       "<napari.utils.notebook_display.NotebookScreenshot at 0x176987220>"
      ]
     },
     "execution_count": 51,
     "metadata": {},
     "output_type": "execute_result"
    }
   ],
   "source": [
    "from napari.utils.notebook_display import nbscreenshot\n",
    "\n",
    "# viewer.dims.ndisplay = 3\n",
    "# viewer.camera.angles = (-30, 25, 120)\n",
    "nbscreenshot(viewer, canvas_only=True)"
   ]
  },
  {
   "cell_type": "code",
   "execution_count": 52,
   "metadata": {},
   "outputs": [],
   "source": [
    "viewer.close()"
   ]
  },
  {
   "attachments": {},
   "cell_type": "markdown",
   "metadata": {},
   "source": [
    "-------------\n",
    "## SUMMARY\n",
    "\n",
    "The above details how the ER object is inferred.  \n",
    "\n",
    "### NEXT: INFER LIPID BODY\n",
    "\n",
    "proceed to [09_infer_lipid_droplet.ipynb](./09_infer_lipid_droplet.ipynb)\n"
   ]
  },
  {
   "cell_type": "markdown",
   "metadata": {},
   "source": []
  }
 ],
 "metadata": {
  "kernelspec": {
   "display_name": "Python 3.9.13 ('napariNEW')",
   "language": "python",
   "name": "python3"
  },
  "language_info": {
   "codemirror_mode": {
    "name": "ipython",
    "version": 3
   },
   "file_extension": ".py",
   "mimetype": "text/x-python",
   "name": "python",
   "nbconvert_exporter": "python",
   "pygments_lexer": "ipython3",
   "version": "3.9.16"
  },
  "orig_nbformat": 4,
  "vscode": {
   "interpreter": {
    "hash": "d6148ef1fb015fb20f0b6da2ea61c87c6b848bdf3dabb03087e5d5cd0c4607e9"
   }
  }
 },
 "nbformat": 4,
 "nbformat_minor": 2
}
