{
 "cells": [
  {
   "attachments": {},
   "cell_type": "markdown",
   "metadata": {},
   "source": [
    "# Infer ***lipid droplet*** - part 9️⃣\n",
    "\n",
    "--------------\n",
    "OBJECTIVE: ✅ Infer sub-cellular component ***lipid droplet***  in order to understand interactome \n",
    "\n",
    "\n",
    "\n",
    "Dependencies:\n",
    "The  ***lipid droplet***  inference rely on the cytoplasm mask.\n"
   ]
  },
  {
   "cell_type": "markdown",
   "metadata": {},
   "source": [
    "\n",
    "## IMPORTS"
   ]
  },
  {
   "cell_type": "code",
   "execution_count": 1,
   "metadata": {},
   "outputs": [],
   "source": [
    "# top level imports\n",
    "from pathlib import Path\n",
    "import os, sys\n",
    "from typing import Optional\n",
    "import numpy as np\n",
    "\n",
    "\n",
    "from aicssegmentation.core.pre_processing_utils import image_smoothing_gaussian_slice_by_slice\n",
    "from aicssegmentation.core.utils import hole_filling\n",
    "from skimage.measure import label\n",
    "\n",
    "import napari\n",
    "\n",
    "### import local python functions in ../infer_subc\n",
    "sys.path.append(os.path.abspath((os.path.join(os.getcwd(), '..'))))\n",
    "\n",
    "\n",
    "from infer_subc.core.file_io import (read_czi_image,\n",
    "                                                                    read_ome_image,\n",
    "                                                                    export_inferred_organelle,\n",
    "                                                                    import_inferred_organelle,\n",
    "                                                                    list_image_files)\n",
    "\n",
    "from infer_subc.core.img import *\n",
    "\n",
    "from infer_subc.organelles import get_cellmask, get_nuclei, get_cytoplasm\n",
    "\n",
    "%load_ext autoreload\n",
    "%autoreload 2\n"
   ]
  },
  {
   "cell_type": "code",
   "execution_count": 2,
   "metadata": {},
   "outputs": [],
   "source": [
    "# NOTE:  these \"constants\" are only accurate for the testing MCZ dataset\n",
    "from infer_subc.constants import (TEST_IMG_N,\n",
    "                                                                    NUC_CH ,\n",
    "                                                                    LYSO_CH ,\n",
    "                                                                    MITO_CH ,\n",
    "                                                                    GOLGI_CH ,\n",
    "                                                                    PEROX_CH ,\n",
    "                                                                    ER_CH ,\n",
    "                                                                    LD_CH ,\n",
    "                                                                    RESIDUAL_CH )              "
   ]
  },
  {
   "attachments": {},
   "cell_type": "markdown",
   "metadata": {},
   "source": [
    "\n",
    "## SETUP"
   ]
  },
  {
   "cell_type": "code",
   "execution_count": 3,
   "metadata": {},
   "outputs": [],
   "source": [
    "# this will be the example image for testing the pipeline below\n",
    "test_img_n = TEST_IMG_N\n",
    "\n",
    "# build the datapath\n",
    "# all the imaging data goes here.\n",
    "data_root_path = Path(os.path.expanduser(\"~\")) / \"Projects/Imaging/data\"\n",
    "\n",
    "# linearly unmixed \".czi\" files are here\n",
    "in_data_path = data_root_path / \"raw\"\n",
    "im_type = \".czi\"\n",
    "\n",
    "# get the list of all files\n",
    "img_file_list = list_image_files(in_data_path,im_type)\n",
    "test_img_name = img_file_list[test_img_n]\n",
    "\n",
    "# save output \".tiff\" files here\n",
    "out_data_path = data_root_path / \"out\"\n",
    "\n",
    "if not Path.exists(out_data_path):\n",
    "    Path.mkdir(out_data_path)\n",
    "    print(f\"making {out_data_path}\")"
   ]
  },
  {
   "cell_type": "code",
   "execution_count": 4,
   "metadata": {},
   "outputs": [
    {
     "name": "stderr",
     "output_type": "stream",
     "text": [
      "/opt/anaconda3/envs/napariNEW/lib/python3.9/site-packages/ome_types/_convenience.py:106: FutureWarning: The default XML parser will be changing from 'xmlschema' to 'lxml' in version 0.4.0.  To silence this warning, please provide the `parser` argument, specifying either 'lxml' (to opt into the new behavior), or'xmlschema' (to retain the old behavior).\n",
      "  d = to_dict(os.fspath(xml), parser=parser, validate=validate)\n"
     ]
    }
   ],
   "source": [
    "img_data,meta_dict = read_czi_image(test_img_name)\n",
    "\n",
    "# get some top-level info about the RAW data\n",
    "channel_names = meta_dict['name']\n",
    "img = meta_dict['metadata']['aicsimage']\n",
    "scale = meta_dict['scale']\n",
    "channel_axis = meta_dict['channel_axis']\n"
   ]
  },
  {
   "cell_type": "markdown",
   "metadata": {},
   "source": [
    "## GET CYTOPLASM MASK\n",
    "\n",
    "> note: don't actually need it here, but getting for testing and visualization purposes.\n"
   ]
  },
  {
   "cell_type": "code",
   "execution_count": 5,
   "metadata": {},
   "outputs": [
    {
     "name": "stdout",
     "output_type": "stream",
     "text": [
      ">>>>>>>>>>>> tifffile.imread  (dtype=uint8in (0.01) sec\n",
      "loaded  inferred 3D `nuclei`  from /Users/ahenrie/Projects/Imaging/data/out \n",
      ">>>>>>>>>>>> tifffile.imread  (dtype=int32in (0.03) sec\n",
      "loaded  inferred 3D `cellmask`  from /Users/ahenrie/Projects/Imaging/data/out \n",
      ">>>>>>>>>>>> tifffile.imread  (dtype=uint8in (0.01) sec\n",
      "loaded  inferred 3D `cytoplasm`  from /Users/ahenrie/Projects/Imaging/data/out \n"
     ]
    }
   ],
   "source": [
    "\n",
    "###################\n",
    "# CELLMASK, NUCLEI, CYTOPLASM, NUCLEUS\n",
    "###################\n",
    "nuclei_obj =  get_nuclei(img_data,meta_dict, out_data_path)\n",
    "cellmask_obj = get_cellmask(img_data, nuclei_obj, meta_dict, out_data_path)\n",
    "cytoplasm_mask = get_cytoplasm(nuclei_obj , cellmask_obj , meta_dict, out_data_path)\n",
    "\n"
   ]
  },
  {
   "attachments": {},
   "cell_type": "markdown",
   "metadata": {},
   "source": [
    "---------------------\n",
    "\n",
    "## infer ***lipid droplet*** \n",
    "\n",
    "## summary of steps \n",
    "\n",
    "INPUT\n",
    "- ch 7\n",
    "- cytoplasm mask\n",
    "\n",
    "\n",
    "PRE-PROCESSING\n",
    "- rescale \n",
    "-  median, window 2\n",
    "-  \n",
    "CORE-PROCESSING\n",
    "   - \"robust background\" 2 STD\n",
    "\n",
    "POST-PROCESSING\n",
    "  - n/a\n",
    "\n",
    "OUTPUT\n",
    "- object ***lipid droplet***\n",
    "\n",
    "\n",
    "\n",
    "\n",
    "NOTE:  consider using [Fibrillarin](https://www.allencell.org/cell-observations/category/fibrillarin) (nucleous marker) workflow from AllenCell.  playground_spotty.ipynb  or maybe [centrin](https://www.allencell.org/cell-observations/category/centrin)\n",
    "\n",
    "\n",
    "Not a good thing to follow from  the Allen Cell Segmenter procedure, but doing more aggressive contrast scaling than their prescribed contrast scaling.\n"
   ]
  },
  {
   "attachments": {},
   "cell_type": "markdown",
   "metadata": {},
   "source": [
    "## INPUT prototype"
   ]
  },
  {
   "cell_type": "code",
   "execution_count": 6,
   "metadata": {},
   "outputs": [],
   "source": [
    "###################\n",
    "# INPUT\n",
    "###################\n",
    "# raw_LD   = img_2D[LD_CH].copy()\n",
    "raw_LD = select_channel_from_raw(img_data, LD_CH)\n"
   ]
  },
  {
   "attachments": {},
   "cell_type": "markdown",
   "metadata": {},
   "source": [
    "## PRE-PROCESSING prototype"
   ]
  },
  {
   "cell_type": "code",
   "execution_count": 7,
   "metadata": {},
   "outputs": [],
   "source": [
    "###################\n",
    "# PRE_PROCESSING\n",
    "###################\n",
    "median_sz = 2\n",
    "gauss_sig = 1.34\n",
    "\n",
    "struct_img =  scale_and_smooth(raw_LD,\n",
    "                                                    median_sz = median_sz, \n",
    "                                                    gauss_sig = gauss_sig)\n"
   ]
  },
  {
   "attachments": {},
   "cell_type": "markdown",
   "metadata": {},
   "source": [
    "## CORE PROCESSING prototype"
   ]
  },
  {
   "cell_type": "code",
   "execution_count": 8,
   "metadata": {},
   "outputs": [],
   "source": [
    "\n",
    "###################\n",
    "# CORE_PROCESSING\n",
    "###################\n",
    "\n",
    "threshold_factor = 0.99 #from cellProfiler\n",
    "thresh_min = .5\n",
    "thresh_max = 1.\n",
    "otsu_thresholded = apply_threshold(struct_img, method= \"otsu\", thresh_factor=threshold_factor, thresh_min=thresh_min, thresh_max=thresh_max)\n"
   ]
  },
  {
   "attachments": {},
   "cell_type": "markdown",
   "metadata": {},
   "source": [
    "## POST-PROCESSING prototype"
   ]
  },
  {
   "cell_type": "code",
   "execution_count": 9,
   "metadata": {},
   "outputs": [],
   "source": [
    "\n",
    "###################\n",
    "# POST_PROCESSING\n",
    "###################\n",
    "# # wrapper to remoce_small_objects\n",
    "max_hole_w = 2.5\n",
    "small_obj_w = 4\n",
    "struct_obj = fill_and_filter_linear_size(otsu_thresholded, hole_min=0, hole_max=max_hole_w, min_size= small_obj_w)\n",
    "\n",
    "\n",
    "LD_object = struct_obj\n",
    "LD_labels = label( LD_object   )\n"
   ]
  },
  {
   "cell_type": "markdown",
   "metadata": {},
   "source": [
    "#### Visualize with `napari`\n",
    "Visualize the first-pass segmentation and labeling with `napari`."
   ]
  },
  {
   "cell_type": "code",
   "execution_count": 10,
   "metadata": {},
   "outputs": [],
   "source": [
    "\n",
    "viewer = napari.view_image(\n",
    "    LD_object,\n",
    ")\n",
    "\n"
   ]
  },
  {
   "cell_type": "code",
   "execution_count": 11,
   "metadata": {},
   "outputs": [
    {
     "data": {
      "text/plain": [
       "<Labels layer 'LD_labels' at 0x16393fdc0>"
      ]
     },
     "execution_count": 11,
     "metadata": {},
     "output_type": "execute_result"
    }
   ],
   "source": [
    "\n",
    "viewer.scale_bar.visible = True\n",
    "viewer.add_image(\n",
    "    struct_img,\n",
    ")\n",
    "\n",
    "viewer.add_labels(\n",
    "    LD_labels,\n",
    ")"
   ]
  },
  {
   "cell_type": "code",
   "execution_count": 12,
   "metadata": {},
   "outputs": [
    {
     "data": {
      "text/plain": [
       "<Image layer 'LD_object [1]' at 0x1671ce310>"
      ]
     },
     "execution_count": 12,
     "metadata": {},
     "output_type": "execute_result"
    }
   ],
   "source": [
    "viewer.add_image(\n",
    "    LD_object,\n",
    ")\n",
    "\n"
   ]
  },
  {
   "attachments": {},
   "cell_type": "markdown",
   "metadata": {},
   "source": [
    "## DEFINE `infer_LD_body` function\n",
    "\n",
    "Based on the _prototyping_ above define the function to infer the lipid boty.  \n"
   ]
  },
  {
   "cell_type": "code",
   "execution_count": 13,
   "metadata": {},
   "outputs": [],
   "source": [
    "##########################\n",
    "#  infer_LD\n",
    "##########################\n",
    "def _infer_LD(\n",
    "                            in_img: np.ndarray,\n",
    "                            median_sz: int,\n",
    "                            gauss_sig: float,\n",
    "                            method: str,\n",
    "                            thresh_factor: float,\n",
    "                            thresh_min: float,\n",
    "                            thresh_max: float,\n",
    "                            max_hole_w: int,\n",
    "                            small_obj_w: int,\n",
    "                        ) -> np.ndarray:\n",
    "    \"\"\"\n",
    "    Procedure to infer peroxisome from linearly unmixed input.\n",
    "\n",
    "    Parameters\n",
    "    ------------\n",
    "    in_img: \n",
    "        a 3d image containing all the channels\n",
    "    median_sz: \n",
    "        width of median filter for signal\n",
    "    gauss_sig: \n",
    "        sigma for gaussian smoothing of  signal\n",
    "    method: \n",
    "        method for applying threshold.  \"otsu\"  or \"li\", \"triangle\", \"median\", \"ave\", \"sauvola\",\"multi_otsu\",\"muiltiotsu\"\n",
    "    thresh_factor:\n",
    "        scaling value for threshold\n",
    "    thresh_min:\n",
    "        absolute minumum for threshold\n",
    "    thresh_max:\n",
    "        absolute maximum for threshold\n",
    "    max_hole_w: \n",
    "        hole filling cutoff for lipid post-processing\n",
    "    small_obj_w: \n",
    "        minimu object size cutoff for lipid post-processing\n",
    "    Returns\n",
    "    -------------\n",
    "    peroxi_object\n",
    "        mask defined extent of peroxisome object\n",
    "    \"\"\"\n",
    "    LD_ch = LD_CH\n",
    "    ###################\n",
    "    # EXTRACT\n",
    "    ###################    \n",
    "    lipid = select_channel_from_raw(in_img, LD_ch)\n",
    "    ###################\n",
    "    # PRE_PROCESSING\n",
    "    ###################                         \n",
    "    lipid =  scale_and_smooth(lipid,\n",
    "                                                    median_sz = median_sz, \n",
    "                                                    gauss_sig = gauss_sig)\n",
    "\n",
    "\n",
    "    ###################\n",
    "    # CORE_PROCESSING\n",
    "    ###################\n",
    "    bw = apply_threshold(lipid, \n",
    "                                            method= method, \n",
    "                                            thresh_factor=thresh_factor, \n",
    "                                            thresh_min=thresh_min, \n",
    "                                            thresh_max=thresh_max)\n",
    "\n",
    "\n",
    "    ###################\n",
    "    # POST_PROCESSING\n",
    "    ###################\n",
    "    # min_hole_w = 0\n",
    "    struct_obj = fill_and_filter_linear_size(bw, hole_min=0, hole_max=max_hole_w, min_size= small_obj_w)\n",
    "\n",
    "    return label_uint16(struct_obj)\n",
    "\n"
   ]
  },
  {
   "cell_type": "code",
   "execution_count": 14,
   "metadata": {},
   "outputs": [],
   "source": [
    "\n",
    "\n",
    "##########################\n",
    "#  fixed_infer_LD\n",
    "##########################\n",
    "def _fixed_infer_LD(in_img: np.ndarray) -> np.ndarray:\n",
    "    \"\"\"\n",
    "    Procedure to infer cellmask from linearly unmixed input, with a *fixed* set of parameters for each step in the procedure.  i.e. \"hard coded\"\n",
    "\n",
    "    Parameters\n",
    "    ------------\n",
    "    in_img: \n",
    "        a 3d image containing all the channels\n",
    "\n",
    "    Returns\n",
    "    -------------\n",
    "    LD_body_object\n",
    "        mask defined extent of liipid body\n",
    "\n",
    "    \"\"\"\n",
    "\n",
    "    median_sz = 2   \n",
    "    gauss_sig = 1.34\n",
    "    method = \"otsu\"\n",
    "    threshold_factor = 0.99 #from cellProfiler\n",
    "    thresh_min = .5\n",
    "    thresh_max = 1.\n",
    "    max_hole_w = 2.5\n",
    "    small_obj_w = 4\n",
    "\n",
    "    return _infer_LD(\n",
    "        in_img,  median_sz, gauss_sig, method, threshold_factor, thresh_min, thresh_max, max_hole_w, small_obj_w\n",
    "    )\n"
   ]
  },
  {
   "cell_type": "markdown",
   "metadata": {},
   "source": [
    "# TEST  `infer_LD_body` function"
   ]
  },
  {
   "cell_type": "code",
   "execution_count": 15,
   "metadata": {},
   "outputs": [],
   "source": [
    "\n",
    "_LD_obj =  _fixed_infer_LD(img_data) "
   ]
  },
  {
   "cell_type": "code",
   "execution_count": 16,
   "metadata": {},
   "outputs": [],
   "source": [
    "from infer_subc.organelles import fixed_infer_LD\n",
    "\n",
    "LD_obj =  fixed_infer_LD(img_data) "
   ]
  },
  {
   "attachments": {},
   "cell_type": "markdown",
   "metadata": {},
   "source": [
    "## Visualize  2\n"
   ]
  },
  {
   "cell_type": "code",
   "execution_count": 17,
   "metadata": {},
   "outputs": [
    {
     "data": {
      "text/plain": [
       "<Labels layer 'Labels' at 0x1677915b0>"
      ]
     },
     "execution_count": 17,
     "metadata": {},
     "output_type": "execute_result"
    }
   ],
   "source": [
    "\n",
    "viewer.add_image(\n",
    "    _LD_obj,\n",
    ")\n",
    "\n",
    "viewer.add_image(\n",
    "    LD_obj,\n",
    ")\n",
    "viewer.add_labels(\n",
    "    label(LD_obj),\n",
    ")"
   ]
  },
  {
   "cell_type": "code",
   "execution_count": 19,
   "metadata": {},
   "outputs": [
    {
     "data": {
      "image/png": "[encoded data removed]",
      "text/html": [
       "<img src=\"data:image/png;base64,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\"></img>"
      ],
      "text/plain": [
       "<napari.utils.notebook_display.NotebookScreenshot at 0x162db9d30>"
      ]
     },
     "execution_count": 19,
     "metadata": {},
     "output_type": "execute_result"
    }
   ],
   "source": [
    "from napari.utils.notebook_display import nbscreenshot\n",
    "\n",
    "# viewer.dims.ndisplay = 3\n",
    "# viewer.camera.angles = (-30, 25, 120)\n",
    "nbscreenshot(viewer, canvas_only=True)"
   ]
  },
  {
   "cell_type": "code",
   "execution_count": 20,
   "metadata": {},
   "outputs": [],
   "source": [
    "viewer.close()"
   ]
  },
  {
   "attachments": {},
   "cell_type": "markdown",
   "metadata": {},
   "source": [
    "-------------\n",
    "## SUMMARY\n",
    "\n",
    "The above details how the endoplasmic lipid droplet is inferred.  \n",
    "\n",
    "###  THATS IT!\n"
   ]
  },
  {
   "cell_type": "markdown",
   "metadata": {},
   "source": []
  }
 ],
 "metadata": {
  "kernelspec": {
   "display_name": "Python 3.9.13 ('napariNEW')",
   "language": "python",
   "name": "python3"
  },
  "language_info": {
   "codemirror_mode": {
    "name": "ipython",
    "version": 3
   },
   "file_extension": ".py",
   "mimetype": "text/x-python",
   "name": "python",
   "nbconvert_exporter": "python",
   "pygments_lexer": "ipython3",
   "version": "3.9.16"
  },
  "orig_nbformat": 4,
  "vscode": {
   "interpreter": {
    "hash": "d6148ef1fb015fb20f0b6da2ea61c87c6b848bdf3dabb03087e5d5cd0c4607e9"
   }
  }
 },
 "nbformat": 4,
 "nbformat_minor": 2
}
