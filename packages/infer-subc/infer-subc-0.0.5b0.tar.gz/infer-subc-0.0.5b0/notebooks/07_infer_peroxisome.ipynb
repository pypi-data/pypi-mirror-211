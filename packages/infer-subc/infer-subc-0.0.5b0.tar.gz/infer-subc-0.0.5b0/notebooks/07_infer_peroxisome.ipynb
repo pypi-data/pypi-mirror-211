{
 "cells": [
  {
   "attachments": {},
   "cell_type": "markdown",
   "metadata": {},
   "source": [
    "# Infer ***peroxisome*** - part 7️⃣\n",
    "\n",
    "--------------\n",
    "OBJECTIVE:  ✅ Infer sub-cellular component ***peroxisome*** in order to understand interactome \n",
    "\n",
    "\n",
    "\n",
    "Dependencies:\n",
    "The ***peroxisome***  inference rely on the cytoplasm mask.\n"
   ]
  },
  {
   "attachments": {},
   "cell_type": "markdown",
   "metadata": {},
   "source": [
    "## preamble\n",
    "\n",
    "1. imports\n",
    "2. setup\n",
    "3. choose_Z\n",
    "4. get cellmask mask\n",
    "5. infer nuclei object  \n",
    "6. get cytoplasm mask"
   ]
  },
  {
   "cell_type": "markdown",
   "metadata": {},
   "source": [
    "\n",
    "## IMPORTS"
   ]
  },
  {
   "cell_type": "code",
   "execution_count": 1,
   "metadata": {},
   "outputs": [],
   "source": [
    "# top level imports\n",
    "from pathlib import Path\n",
    "import os, sys\n",
    "from collections import defaultdict\n",
    "from typing import Optional\n",
    "\n",
    "import numpy as np\n",
    "\n",
    "from scipy import ndimage as ndi\n",
    "from aicssegmentation.core.seg_dot import dot_2d_slice_by_slice_wrapper\n",
    "\n",
    "from skimage.measure import label\n",
    "\n",
    "import napari\n",
    "\n",
    "### import local python functions in ../infer_subc\n",
    "sys.path.append(os.path.abspath((os.path.join(os.getcwd(), '..'))))\n",
    "\n",
    "from infer_subc.core.file_io import (read_czi_image,\n",
    "                                                                    read_ome_image,\n",
    "                                                                    export_inferred_organelle,\n",
    "                                                                    import_inferred_organelle,\n",
    "                                                                    list_image_files)\n",
    "\n",
    "from infer_subc.core.img import *\n",
    "\n",
    "                                                                    \n",
    "from infer_subc.organelles import fixed_infer_nuclei, get_cytoplasm, get_nuclei, get_cellmask\n",
    "\n",
    "\n",
    "%load_ext autoreload\n",
    "%autoreload 2\n",
    "\n"
   ]
  },
  {
   "cell_type": "code",
   "execution_count": 2,
   "metadata": {},
   "outputs": [],
   "source": [
    "# NOTE:  these \"constants\" are only accurate for the testing MCZ dataset\n",
    "from infer_subc.constants import (TEST_IMG_N,\n",
    "                                                                    NUC_CH ,\n",
    "                                                                    LYSO_CH ,\n",
    "                                                                    MITO_CH ,\n",
    "                                                                    GOLGI_CH ,\n",
    "                                                                    PEROX_CH ,\n",
    "                                                                    ER_CH ,\n",
    "                                                                    LD_CH ,\n",
    "                                                                    RESIDUAL_CH )              "
   ]
  },
  {
   "attachments": {},
   "cell_type": "markdown",
   "metadata": {},
   "source": [
    "\n",
    "## SETUP"
   ]
  },
  {
   "cell_type": "code",
   "execution_count": 3,
   "metadata": {},
   "outputs": [],
   "source": [
    "# this will be the example image for testing the pipeline below\n",
    "test_img_n = TEST_IMG_N\n",
    "\n",
    "# build the datapath\n",
    "# all the imaging data goes here.\n",
    "data_root_path = Path(os.path.expanduser(\"~\")) / \"Projects/Imaging/data\"\n",
    "\n",
    "# linearly unmixed \".czi\" files are here\n",
    "in_data_path = data_root_path / \"raw\"\n",
    "im_type = \".czi\"\n",
    "\n",
    "# get the list of all files\n",
    "img_file_list = list_image_files(in_data_path,im_type)\n",
    "test_img_name = img_file_list[test_img_n]\n",
    "\n",
    "# save output \".tiff\" files here\n",
    "out_data_path = data_root_path / \"out\"\n",
    "\n",
    "if not Path.exists(out_data_path):\n",
    "    Path.mkdir(out_data_path)\n",
    "    print(f\"making {out_data_path}\")"
   ]
  },
  {
   "cell_type": "code",
   "execution_count": 4,
   "metadata": {},
   "outputs": [
    {
     "name": "stderr",
     "output_type": "stream",
     "text": [
      "/opt/anaconda3/envs/napariNEW/lib/python3.9/site-packages/ome_types/_convenience.py:106: FutureWarning: The default XML parser will be changing from 'xmlschema' to 'lxml' in version 0.4.0.  To silence this warning, please provide the `parser` argument, specifying either 'lxml' (to opt into the new behavior), or'xmlschema' (to retain the old behavior).\n",
      "  d = to_dict(os.fspath(xml), parser=parser, validate=validate)\n"
     ]
    }
   ],
   "source": [
    "img_data,meta_dict = read_czi_image(test_img_name)\n",
    "\n",
    "# get some top-level info about the RAW data\n",
    "channel_names = meta_dict['name']\n",
    "img = meta_dict['metadata']['aicsimage']\n",
    "scale = meta_dict['scale']\n",
    "channel_axis = meta_dict['channel_axis']\n"
   ]
  },
  {
   "cell_type": "markdown",
   "metadata": {},
   "source": [
    "## GET CYTOPLASM MASK\n",
    "\n",
    "> note: don't actually need it here, but getting for testing and visualization purposes.\n"
   ]
  },
  {
   "cell_type": "code",
   "execution_count": 5,
   "metadata": {},
   "outputs": [
    {
     "name": "stdout",
     "output_type": "stream",
     "text": [
      ">>>>>>>>>>>> tifffile.imread  (dtype=uint8in (0.01) sec\n",
      "loaded  inferred 3D `nuclei`  from /Users/ahenrie/Projects/Imaging/data/out \n",
      ">>>>>>>>>>>> tifffile.imread  (dtype=int32in (0.02) sec\n",
      "loaded  inferred 3D `cellmask`  from /Users/ahenrie/Projects/Imaging/data/out \n",
      ">>>>>>>>>>>> tifffile.imread  (dtype=uint8in (0.01) sec\n",
      "loaded  inferred 3D `cytoplasm`  from /Users/ahenrie/Projects/Imaging/data/out \n"
     ]
    }
   ],
   "source": [
    "\n",
    "###################\n",
    "# CELLMASK, NUCLEI, CYTOPLASM, NUCLEUS\n",
    "###################\n",
    "nuclei_obj =  get_nuclei(img_data,meta_dict, out_data_path)\n",
    "cellmask_obj = get_cellmask(img_data, nuclei_obj, meta_dict, out_data_path)\n",
    "cytoplasm_mask = get_cytoplasm(nuclei_obj , cellmask_obj , meta_dict, out_data_path)\n",
    "\n"
   ]
  },
  {
   "attachments": {},
   "cell_type": "markdown",
   "metadata": {},
   "source": [
    "---------------------\n",
    "\n",
    "## infer ***peroxisome**\n",
    "\n",
    "## summary of steps \n",
    "\n",
    "INPUT\n",
    "- ch 4\n",
    "- cytoplasm mask\n",
    "\n",
    "PRE-PROCESSING\n",
    "-  MM scale\n",
    "-  G2 gaussian filter 2D \n",
    "   -  sigma = 1.\n",
    "\n",
    "CORE-PROCESSING\n",
    "- S2 - dot filter\n",
    "- W - watershed to disambiguate overlapping dots\n",
    "\n",
    "POST-PROCESSING\n",
    "  - S  - remove dots less than 2x2 pixels (area = 4)\n",
    "\n",
    "OUTPUT\n",
    "- object ***peroxisome*** \n",
    "\n",
    "\n",
    "\n",
    "Generally following the Allen Cell Segmenter procedure, but doing more aggressive contrast scaling than their prescribed contrast scaling.\n",
    "\n",
    "> PMP34 os  good start for Peroxisomes  as per from [Allen Cell](https://www.allencell.org/cell-observations/category/peroxisome)\n",
    "\n",
    "> [playground_dots.ipynb](https://github.com/AllenInstitute/aics-segmentation/blob/master/lookup_table_demo/playground_dots.ipynb)\n",
    "\n",
    "\n",
    "\n",
    "\n",
    ">#### ASIDE:  3D Spot filter (S3)\n",
    ">* Parameter syntax: `[[scale_1, cutoff_1], [scale_2, cutoff_2], ....]` \n",
    ">    * `scale_x` is set based on the estimated radius of your target dots. For example, if visually the diameter of the dots is usually 3~4 pixels, then you may want to set `scale_x` as `1` or something near `1` (like `1.25`). Multiple scales can be used, if you have dots of very different sizes.  \n",
    ">    * `cutoff_x` is a threshold applied on the actual filter reponse to get the binary result. Smaller `cutoff_x` may yielf more dots and fatter segmentation, while larger `cutoff_x` could be less permisive and yield less dots and slimmer segmentation. \n",
    ">* Parameter for PMP34:  `s3_param = [[1,0.03]]`\n"
   ]
  },
  {
   "attachments": {},
   "cell_type": "markdown",
   "metadata": {},
   "source": [
    "## INPUT prototype"
   ]
  },
  {
   "cell_type": "code",
   "execution_count": 6,
   "metadata": {},
   "outputs": [],
   "source": [
    "###################\n",
    "# INPUT\n",
    "###################\n",
    "raw_peroxi = select_channel_from_raw(img_data, PEROX_CH)\n"
   ]
  },
  {
   "attachments": {},
   "cell_type": "markdown",
   "metadata": {},
   "source": [
    "## PRE-PROCESSING prototype"
   ]
  },
  {
   "cell_type": "code",
   "execution_count": 7,
   "metadata": {},
   "outputs": [],
   "source": [
    "###################\n",
    "# PRE_PROCESSING\n",
    "###################\n",
    "median_sz = 0\n",
    "gauss_sig = 3.0\n",
    "\n",
    "struct_img =  scale_and_smooth(raw_peroxi,\n",
    "                                                    median_sz = median_sz, \n",
    "                                                    gauss_sig = gauss_sig)"
   ]
  },
  {
   "attachments": {},
   "cell_type": "markdown",
   "metadata": {},
   "source": [
    "## CORE PROCESSING prototype"
   ]
  },
  {
   "cell_type": "code",
   "execution_count": 8,
   "metadata": {},
   "outputs": [],
   "source": [
    "###################\n",
    "# CORE_PROCESSING\n",
    "###################\n",
    "\n",
    "################################\n",
    "## PARAMETERS for this step ##\n",
    "dot_2d_sigma = 1\n",
    "dot_2d_cutoff = 0.01\n",
    "s2_param = [[dot_2d_sigma,dot_2d_cutoff]]\n",
    "################################\n",
    "bw = dot_2d_slice_by_slice_wrapper(struct_img, s2_param)"
   ]
  },
  {
   "attachments": {},
   "cell_type": "markdown",
   "metadata": {},
   "source": [
    "## POST-PROCESSING prototype\n",
    "\n",
    "> NOTE:  AllenCell Segmenter suggests using a masked watershed to disambiguate overlapping peroxisome, but it is depricated here as our contrast/separation is pretty good."
   ]
  },
  {
   "cell_type": "code",
   "execution_count": 9,
   "metadata": {},
   "outputs": [],
   "source": [
    "\n",
    "###################\n",
    "# POST_PROCESSING\n",
    "###################\n",
    "\n",
    "small_object_width = 2 \n",
    "peroxi_object = size_filter_linear_size(bw, \n",
    "                                                min_size= small_object_width)"
   ]
  },
  {
   "cell_type": "markdown",
   "metadata": {},
   "source": [
    "#### Visualize with `napari`\n",
    "Visualize the first-pass segmentation and labeling with `napari`."
   ]
  },
  {
   "cell_type": "code",
   "execution_count": 10,
   "metadata": {},
   "outputs": [],
   "source": [
    "viewer = napari.Viewer()\n"
   ]
  },
  {
   "cell_type": "code",
   "execution_count": 11,
   "metadata": {},
   "outputs": [
    {
     "data": {
      "text/plain": [
       "<Image layer 'bw' at 0x10c63a430>"
      ]
     },
     "execution_count": 11,
     "metadata": {},
     "output_type": "execute_result"
    }
   ],
   "source": [
    "\n",
    "\n",
    "viewer.add_image(\n",
    "    peroxi_object,\n",
    ")\n",
    "\n",
    "viewer.scale_bar.visible = True\n",
    "viewer.add_image(\n",
    "    struct_img\n",
    ")\n",
    "viewer.add_image(\n",
    "    bw,\n",
    ")\n"
   ]
  },
  {
   "attachments": {},
   "cell_type": "markdown",
   "metadata": {},
   "source": [
    "## DEFINE `infer_perox` function\n",
    "\n",
    "Based on the _prototyping_ above define the function to infer the peroxisome.  \n"
   ]
  },
  {
   "cell_type": "code",
   "execution_count": 12,
   "metadata": {},
   "outputs": [],
   "source": [
    "##########################\n",
    "#  infer_perox\n",
    "##########################\n",
    "def _infer_perox( in_img: np.ndarray,\n",
    "                                median_sz: int,\n",
    "                                gauss_sig: float,\n",
    "                                dot_scale: float,\n",
    "                                dot_cut: float,\n",
    "                                small_obj_w: int,\n",
    "                            ) -> np.ndarray:\n",
    "    \"\"\"\n",
    "    Procedure to infer peroxisome from linearly unmixed input.\n",
    "\n",
    "   Parameters\n",
    "    ------------\n",
    "    in_img: \n",
    "        a 3d image containing all the channels\n",
    "    median_sz: \n",
    "        width of median filter for signal\n",
    "    gauss_sig: \n",
    "        sigma for gaussian smoothing of  signal\n",
    "    dot_scale: \n",
    "        scales (log_sigma) for dot filter (1,2, and 3)\n",
    "    dot_cut: \n",
    "        threshold for dot filter thresholds (1,2,and 3)\n",
    "    small_obj_w: \n",
    "        minimu object size cutoff for nuclei post-processing\n",
    " \n",
    "    Returns\n",
    "    -------------\n",
    "    peroxi_object\n",
    "        mask defined extent of peroxisome object\n",
    "    \"\"\"\n",
    "    peroxi_ch = PEROX_CH\n",
    "    ###################\n",
    "    # EXTRACT\n",
    "    ###################    \n",
    "    peroxi = select_channel_from_raw(in_img, peroxi_ch)\n",
    "\n",
    "    ###################\n",
    "    # PRE_PROCESSING\n",
    "    ###################    \n",
    "    peroxi =  scale_and_smooth(peroxi,\n",
    "                                                    median_sz = median_sz,            #skips for median_sz < 2\n",
    "                                                    gauss_sig = gauss_sig)\n",
    "\n",
    "   ###################\n",
    "    # CORE_PROCESSING\n",
    "    ###################\n",
    "    s3_param = [[dot_scale,dot_cut]]\n",
    "    bw = dot_2d_slice_by_slice_wrapper(peroxi, s3_param)\n",
    "\n",
    "    ###################\n",
    "    # POST_PROCESSING\n",
    "    ###################\n",
    "    struct_obj = size_filter_linear_size(bw, \n",
    "                                                min_size= small_obj_w, \n",
    "                                                connectivity=1)\n",
    "\n",
    "\n",
    "    return label_uint16(struct_obj)\n"
   ]
  },
  {
   "attachments": {},
   "cell_type": "markdown",
   "metadata": {},
   "source": [
    "## DEFINE `_fixed_infer_perox` function\n"
   ]
  },
  {
   "cell_type": "code",
   "execution_count": 13,
   "metadata": {},
   "outputs": [],
   "source": [
    "\n",
    "##########################\n",
    "#  fixed_infer_perox\n",
    "##########################\n",
    "def _fixed_infer_perox(in_img: np.ndarray) -> np.ndarray:\n",
    "    \"\"\"\n",
    "    Procedure to infer peroxisome from linearly unmixed input with fixed parameters.\n",
    "\n",
    "   Parameters\n",
    "    ------------\n",
    "    in_img: np.ndarray\n",
    "        a 3d image containing all the channels\n",
    "        \n",
    "    Returns\n",
    "    -------------\n",
    "    peroxi_object\n",
    "        mask defined extent of peroxisome object\n",
    "    \"\"\"\n",
    "    median_sz=0\n",
    "    gauss_sig = 3.\n",
    "    dot_scale = 1.0\n",
    "    dot_cut = 0.01\n",
    "    small_obj_w = 2\n",
    "\n",
    "    return _infer_perox(in_img,\n",
    "                                    median_sz,\n",
    "                                    gauss_sig,\n",
    "                                    dot_scale,\n",
    "                                    dot_cut,\n",
    "                                    small_obj_w,\n",
    "                                )\n"
   ]
  },
  {
   "cell_type": "markdown",
   "metadata": {},
   "source": [
    "# TEST  `_infer_perox` function"
   ]
  },
  {
   "cell_type": "code",
   "execution_count": 14,
   "metadata": {},
   "outputs": [],
   "source": [
    "_peroxi_object =  _fixed_infer_perox(img_data) \n"
   ]
  },
  {
   "cell_type": "code",
   "execution_count": 15,
   "metadata": {},
   "outputs": [],
   "source": [
    "from infer_subc.organelles import infer_perox, fixed_infer_perox \n",
    "\n",
    "peroxi_object =  fixed_infer_perox(img_data) \n"
   ]
  },
  {
   "attachments": {},
   "cell_type": "markdown",
   "metadata": {},
   "source": [
    "## Visualize  2\n"
   ]
  },
  {
   "cell_type": "code",
   "execution_count": 16,
   "metadata": {},
   "outputs": [
    {
     "data": {
      "text/plain": [
       "<Labels layer 'Labels' at 0x16c46fb80>"
      ]
     },
     "execution_count": 16,
     "metadata": {},
     "output_type": "execute_result"
    }
   ],
   "source": [
    "\n",
    "viewer.add_image(\n",
    "    peroxi_object)\n",
    "\n",
    "viewer.add_image(\n",
    "    _peroxi_object)\n",
    "\n",
    "viewer.add_labels(\n",
    "    label(peroxi_object))"
   ]
  },
  {
   "cell_type": "code",
   "execution_count": 17,
   "metadata": {},
   "outputs": [
    {
     "data": {
      "image/png": "[encoded data removed]",
      "text/html": [
       "<img src=\"data:image/png;base64,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\"></img>"
      ],
      "text/plain": [
       "<napari.utils.notebook_display.NotebookScreenshot at 0x14ae887f0>"
      ]
     },
     "execution_count": 17,
     "metadata": {},
     "output_type": "execute_result"
    }
   ],
   "source": [
    "from napari.utils.notebook_display import nbscreenshot\n",
    "\n",
    "# viewer.dims.ndisplay = 3\n",
    "# viewer.camera.angles = (-30, 25, 120)\n",
    "nbscreenshot(viewer, canvas_only=True)"
   ]
  },
  {
   "cell_type": "code",
   "execution_count": 18,
   "metadata": {},
   "outputs": [],
   "source": [
    "viewer.close()"
   ]
  },
  {
   "attachments": {},
   "cell_type": "markdown",
   "metadata": {},
   "source": [
    "-------------\n",
    "## SUMMARY\n",
    "\n",
    "The above details how the peroxisome object is inferred.  \n",
    "\n",
    "### NEXT: INFER ENDOPLASMIC RETICULUM\n",
    "\n",
    "proceed to [08_infer_ER.ipynb](./08_infer_ER.ipynb)\n"
   ]
  },
  {
   "cell_type": "code",
   "execution_count": null,
   "metadata": {},
   "outputs": [],
   "source": []
  }
 ],
 "metadata": {
  "kernelspec": {
   "display_name": "Python 3.9.13 ('napariNEW')",
   "language": "python",
   "name": "python3"
  },
  "language_info": {
   "codemirror_mode": {
    "name": "ipython",
    "version": 3
   },
   "file_extension": ".py",
   "mimetype": "text/x-python",
   "name": "python",
   "nbconvert_exporter": "python",
   "pygments_lexer": "ipython3",
   "version": "3.9.16"
  },
  "orig_nbformat": 4,
  "vscode": {
   "interpreter": {
    "hash": "d6148ef1fb015fb20f0b6da2ea61c87c6b848bdf3dabb03087e5d5cd0c4607e9"
   }
  }
 },
 "nbformat": 4,
 "nbformat_minor": 2
}
