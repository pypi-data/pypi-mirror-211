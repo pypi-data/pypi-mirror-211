{
 "cells": [
  {
   "attachments": {},
   "cell_type": "markdown",
   "metadata": {},
   "source": [
    "# Infer ***cytoplasm*** -  3️⃣\n",
    "(🚨🚨🚨🚨 Steps 4-9 depend on establishing a good solution here.)\n",
    "\n",
    "--------------\n",
    "\n",
    "## OBJECTIVE:  \n",
    "### Infer sub-cellular component #3: ***cytoplasm***  in order to understand interactome \n",
    "\n",
    "To measure shape, position, and size of the cytoplasm of the cell body -- the cytoplasm minus the nucleus.    \n",
    "\n",
    "Dependencies:\n",
    "The ***cytoso*** inference rely on the ***nuclei*** AND ***cytoplasm*** inference.  Therefore all of the sub-cellular objects rely on this segmentation.\n",
    "\n"
   ]
  },
  {
   "attachments": {},
   "cell_type": "markdown",
   "metadata": {},
   "source": [
    "## preamble\n",
    "\n",
    "1. imports\n",
    "2. setup\n",
    "3. get nuclei\n",
    "4. get cellmask mask\n",
    "5. get cytoplasm mask\n",
    "6. export cytoplasm\n",
    "7. get nuclues\n",
    "8.  export nucleus\n"
   ]
  },
  {
   "attachments": {},
   "cell_type": "markdown",
   "metadata": {},
   "source": [
    "\n",
    "## IMPORTS"
   ]
  },
  {
   "cell_type": "code",
   "execution_count": 1,
   "metadata": {},
   "outputs": [],
   "source": [
    "# top level imports\n",
    "from pathlib import Path\n",
    "import os, sys\n",
    "\n",
    "import numpy as np\n",
    "\n",
    "from skimage.morphology import binary_erosion\n",
    "\n",
    "import napari\n",
    "\n",
    "### import local python functions in ../infer_subc\n",
    "sys.path.append(os.path.abspath((os.path.join(os.getcwd(), '..'))))\n",
    "\n",
    "from infer_subc.core.file_io import (read_czi_image,\n",
    "                                                                    read_ome_image,\n",
    "                                                                    export_inferred_organelle,\n",
    "                                                                    import_inferred_organelle,\n",
    "                                                                    list_image_files)\n",
    "from infer_subc.core.img import *\n",
    "from infer_subc.organelles import infer_cellmask_fromaggr, fixed_infer_cellmask_fromaggr, infer_nuclei_fromlabel, get_cellmask, get_nuclei\n",
    "\n",
    "%load_ext autoreload\n",
    "%autoreload 2\n"
   ]
  },
  {
   "attachments": {},
   "cell_type": "markdown",
   "metadata": {},
   "source": [
    "\n",
    "## SETUP"
   ]
  },
  {
   "cell_type": "code",
   "execution_count": 2,
   "metadata": {},
   "outputs": [],
   "source": [
    "# NOTE:  these \"constants\" are only accurate for the testing MCZ dataset\n",
    "from infer_subc.constants import (TEST_IMG_N,\n",
    "                                                                    NUC_CH ,\n",
    "                                                                    LYSO_CH ,\n",
    "                                                                    MITO_CH ,\n",
    "                                                                    GOLGI_CH ,\n",
    "                                                                    PEROX_CH ,\n",
    "                                                                    ER_CH ,\n",
    "                                                                    LD_CH ,\n",
    "                                                                    RESIDUAL_CH )                       "
   ]
  },
  {
   "cell_type": "code",
   "execution_count": 3,
   "metadata": {},
   "outputs": [],
   "source": [
    "# this will be the example image for testing the pipeline below\n",
    "test_img_n = TEST_IMG_N\n",
    "\n",
    "# build the datapath\n",
    "# all the imaging data goes here.\n",
    "data_root_path = Path(os.path.expanduser(\"~\")) / \"Projects/Imaging/data\"\n",
    "\n",
    "# linearly unmixed \".czi\" files are here\n",
    "data_path = data_root_path / \"raw\"\n",
    "im_type = \".czi\"\n",
    "\n",
    "# get the list of all files\n",
    "img_file_list = list_image_files(data_path,im_type)\n",
    "test_img_name = img_file_list[test_img_n]\n",
    "\n",
    "# save output \".tiff\" files here\n",
    "out_data_path = data_root_path / \"out\"\n",
    "\n",
    "if not Path.exists(out_data_path):\n",
    "    Path.mkdir(out_data_path)\n",
    "    print(f\"making {out_data_path}\")"
   ]
  },
  {
   "cell_type": "code",
   "execution_count": 4,
   "metadata": {},
   "outputs": [
    {
     "name": "stderr",
     "output_type": "stream",
     "text": [
      "/opt/anaconda3/envs/napariNEW/lib/python3.9/site-packages/ome_types/_convenience.py:106: FutureWarning: The default XML parser will be changing from 'xmlschema' to 'lxml' in version 0.4.0.  To silence this warning, please provide the `parser` argument, specifying either 'lxml' (to opt into the new behavior), or'xmlschema' (to retain the old behavior).\n",
      "  d = to_dict(os.fspath(xml), parser=parser, validate=validate)\n"
     ]
    }
   ],
   "source": [
    "\n",
    "img_data,meta_dict = read_czi_image(test_img_name)\n",
    "\n",
    "# get some top-level info about the RAW data\n",
    "channel_names = meta_dict['name']\n",
    "img = meta_dict['metadata']['aicsimage']\n",
    "scale = meta_dict['scale']\n",
    "channel_axis = meta_dict['channel_axis']\n"
   ]
  },
  {
   "attachments": {},
   "cell_type": "markdown",
   "metadata": {},
   "source": [
    "## GET inferred NUCLEI\n",
    "\n"
   ]
  },
  {
   "cell_type": "code",
   "execution_count": 5,
   "metadata": {},
   "outputs": [
    {
     "name": "stdout",
     "output_type": "stream",
     "text": [
      ">>>>>>>>>>>> tifffile.imread  (dtype=uint16in (0.02) sec\n",
      "loaded  inferred 3D `nuclei`  from /Users/ahenrie/Projects/Imaging/data/out \n"
     ]
    }
   ],
   "source": [
    "\n",
    "nuclei =  get_nuclei(img_data,meta_dict, out_data_path)\n",
    "\n"
   ]
  },
  {
   "attachments": {},
   "cell_type": "markdown",
   "metadata": {},
   "source": [
    "## GET CELLMASK\n",
    "\n",
    "Find the cellmask in our chozed Z-slice"
   ]
  },
  {
   "cell_type": "code",
   "execution_count": 6,
   "metadata": {},
   "outputs": [
    {
     "name": "stdout",
     "output_type": "stream",
     "text": [
      ">>>>>>>>>>>> tifffile.imread  (dtype=uint8in (0.01) sec\n",
      "loaded  inferred 3D `cellmask`  from /Users/ahenrie/Projects/Imaging/data/out \n"
     ]
    }
   ],
   "source": [
    "# # soma_fname = \"/Users/ahenrie/Projects/Imaging/data/out/soma_ZSTACK_PBTOhNGN2hiPSCs_BR3_N04_Unmixed.ome.tiff\"\n",
    "# cellmask = import_inferred_organelle(\"cellmask\", meta_dict, out_data_path)\n",
    "\n",
    "# if cellmask is None:\n",
    "#     cellmask = fixed_infer_cellmask_fromaggr_MCZ(img_data, nuclei)\n",
    "#     out_file_n = export_inferred_organelle(cellmask, \"cellmask\", meta_dict, out_data_path)\n",
    "#     print(f\"calculated cellmask. wrote {out_file_n}\")\n",
    "# else:\n",
    "#     print(f\"loaded cellmask from {out_data_path}\")\n",
    "\n",
    "cellmask = get_cellmask(img_data, nuclei, meta_dict, out_data_path)\n",
    "\n"
   ]
  },
  {
   "cell_type": "code",
   "execution_count": 8,
   "metadata": {},
   "outputs": [
    {
     "data": {
      "text/plain": [
       "array([0, 1], dtype=uint8)"
      ]
     },
     "execution_count": 8,
     "metadata": {},
     "output_type": "execute_result"
    }
   ],
   "source": [
    "np.unique(cellmask)"
   ]
  },
  {
   "attachments": {},
   "cell_type": "markdown",
   "metadata": {},
   "source": [
    "##  infer ***cytoplasm***\n",
    "\n",
    "## summary of steps\n",
    "\n",
    "➡️ INPUT\n",
    "- labeled ***nuclei*** (objective #1)\n",
    "- labeled ***cellmask*** (objective #2)\n",
    "\n",
    "PRE-PROCESSING\n",
    "- N/A\n",
    "\n",
    "CORE PROCESSING\n",
    "- mask nuclei with ***cellmask*** for ***nucleus***\n",
    "- erode ***nucleus*** (shrink)\n",
    "  - XOR(***nucleus***, ***cellmask***)\n",
    "\n",
    "POST-PROCESSING\n",
    "  - N/A\n",
    "\n",
    "OUTPUT ➡️ \n",
    "- mask of ***cytoplasm***\n",
    "- ***cytoplasm*** object (intensity)\n"
   ]
  },
  {
   "cell_type": "markdown",
   "metadata": {},
   "source": [
    "## CORE PROCESSING"
   ]
  },
  {
   "cell_type": "code",
   "execution_count": 9,
   "metadata": {},
   "outputs": [],
   "source": [
    "###################\n",
    "# CORE_PROCESSING\n",
    "###################\n",
    "nucleus_obj =  apply_mask(nuclei, cellmask) \n",
    "\n",
    "nucleus_eroded = binary_erosion(nucleus_obj)  \n",
    "\n",
    "cyto_object = np.logical_and(cellmask,~nucleus_eroded)\n",
    "cyto_object_xor = np.logical_xor(cellmask,nucleus_eroded)\n",
    "\n",
    "#cyto_object = binary_dilation(cyto_object)"
   ]
  },
  {
   "cell_type": "code",
   "execution_count": 10,
   "metadata": {},
   "outputs": [
    {
     "data": {
      "text/plain": [
       "dtype('uint16')"
      ]
     },
     "execution_count": 10,
     "metadata": {},
     "output_type": "execute_result"
    }
   ],
   "source": [
    "nucleus_obj.dtype"
   ]
  },
  {
   "attachments": {},
   "cell_type": "markdown",
   "metadata": {},
   "source": [
    "## Visualize with `napari` "
   ]
  },
  {
   "cell_type": "code",
   "execution_count": 8,
   "metadata": {},
   "outputs": [],
   "source": [
    "\n",
    "\n",
    "viewer = napari.view_image( #viewer.add_image(\n",
    "    cellmask,\n",
    "    opacity=0.3,\n",
    ")    \n"
   ]
  },
  {
   "cell_type": "code",
   "execution_count": 9,
   "metadata": {},
   "outputs": [
    {
     "data": {
      "text/plain": [
       "<Image layer 'nucleus_eroded' at 0x16c2a0e50>"
      ]
     },
     "execution_count": 9,
     "metadata": {},
     "output_type": "execute_result"
    }
   ],
   "source": [
    "\n",
    "viewer.add_image(\n",
    "    nucleus_eroded,\n",
    "    opacity=0.3,\n",
    ")    \n"
   ]
  },
  {
   "cell_type": "code",
   "execution_count": 12,
   "metadata": {},
   "outputs": [
    {
     "data": {
      "text/plain": [
       "<Image layer 'nucleus_obj [1]' at 0x16f4177f0>"
      ]
     },
     "execution_count": 12,
     "metadata": {},
     "output_type": "execute_result"
    }
   ],
   "source": [
    "\n",
    "viewer.add_image(\n",
    "    nucleus_obj,\n",
    "    opacity=0.3,\n",
    ")    \n"
   ]
  },
  {
   "cell_type": "code",
   "execution_count": 13,
   "metadata": {},
   "outputs": [
    {
     "data": {
      "text/plain": [
       "<Image layer 'cyto_object_xor [1]' at 0x16f5ec820>"
      ]
     },
     "execution_count": 13,
     "metadata": {},
     "output_type": "execute_result"
    }
   ],
   "source": [
    "\n",
    "viewer.add_image(\n",
    "    cyto_object_xor,\n",
    "    opacity=0.3,\n",
    ")    \n"
   ]
  },
  {
   "attachments": {},
   "cell_type": "markdown",
   "metadata": {},
   "source": [
    "## DEFINE `_infer_cytoplasm` function\n",
    "\n",
    "Based on the _prototyping_ above define the function to infer cytoplasm.  \n"
   ]
  },
  {
   "cell_type": "code",
   "execution_count": 14,
   "metadata": {},
   "outputs": [],
   "source": [
    "# copy this to base.py for easy import\n",
    "\n",
    "def _infer_cytoplasm(nuclei_object, cellmask,  erode_nuclei = True):\n",
    "    \"\"\"\n",
    "    Procedure to infer cytoplasm from linearly unmixed input.\n",
    "\n",
    "    Parameters\n",
    "    ------------\n",
    "    nuclei_object: \n",
    "        a 3d image containing the nuclei signal\n",
    "    cellmask: \n",
    "        a 3d image containing the cellmask signal\n",
    "    erode_nuclei: \n",
    "        should we erode? Default False\n",
    "\n",
    "    Returns\n",
    "    -------------\n",
    "    cytoplasm_mask \n",
    "        boolean np.ndarray\n",
    "      \n",
    "    \"\"\"\n",
    "\n",
    "    nucleus_obj =  apply_mask(nuclei_object, cellmask) \n",
    "\n",
    "    if erode_nuclei:\n",
    "        # cytoplasm_mask = np.logical_and(cellmask, ~binary_erosion(nuclei_object))\n",
    "        cytoplasm_mask = np.logical_xor(cellmask, binary_erosion(nucleus_obj))\n",
    "    else:\n",
    "        # cytoplasm_mask = np.logical_and(cellmask, ~nuclei_object)\n",
    "        cytoplasm_mask = np.logical_xor(cellmask, nucleus_obj)\n",
    "\n",
    "\n",
    "    return cytoplasm_mask\n"
   ]
  },
  {
   "attachments": {},
   "cell_type": "markdown",
   "metadata": {},
   "source": [
    "--------------------------\n",
    "\n",
    "## TEST `infer_cytoplasm` exported functions\n"
   ]
  },
  {
   "cell_type": "code",
   "execution_count": 15,
   "metadata": {},
   "outputs": [],
   "source": [
    "from infer_subc.organelles.cytoplasm import infer_cytoplasm\n",
    "\n",
    "_cytoplasm_mask =  _infer_cytoplasm(nuclei, cellmask, erode_nuclei=False) \n",
    "\n",
    "cytoplasm_mask =  infer_cytoplasm(nuclei, cellmask, erode_nuclei=False) \n"
   ]
  },
  {
   "cell_type": "code",
   "execution_count": 16,
   "metadata": {},
   "outputs": [
    {
     "name": "stdout",
     "output_type": "stream",
     "text": [
      ">>>>>>>>>>>> tifffile.imwrite in (0.14) sec\n",
      "saved file: None\n"
     ]
    }
   ],
   "source": [
    "out_file_n = export_inferred_organelle(cytoplasm_mask, \"cytoplasm\", meta_dict, out_data_path)"
   ]
  },
  {
   "cell_type": "code",
   "execution_count": 42,
   "metadata": {},
   "outputs": [
    {
     "data": {
      "text/plain": [
       "'file:///Users/ahenrie/Projects/Imaging/data/raw/ZSTACK_PBTOhNGN2hiPSCs_BR3_N04_Unmixed.czi/.tif'"
      ]
     },
     "execution_count": 42,
     "metadata": {},
     "output_type": "execute_result"
    }
   ],
   "source": [
    "img_name = Path(meta_dict[\"file_name\"])  #\n",
    "Path(str(img_name.parent), img_name.name, \".tif\").as_uri()"
   ]
  },
  {
   "attachments": {},
   "cell_type": "markdown",
   "metadata": {},
   "source": [
    "## Visualize  2\n"
   ]
  },
  {
   "cell_type": "code",
   "execution_count": 17,
   "metadata": {},
   "outputs": [
    {
     "data": {
      "text/plain": [
       "<Labels layer '_cytoplasm_mask' at 0x16f417c40>"
      ]
     },
     "execution_count": 17,
     "metadata": {},
     "output_type": "execute_result"
    }
   ],
   "source": [
    "\n",
    "\n",
    "viewer.scale_bar.visible = True\n",
    "viewer.add_image(\n",
    "    cytoplasm_mask,\n",
    ")\n",
    "\n",
    "viewer.add_labels(\n",
    "    _cytoplasm_mask,\n",
    ")\n"
   ]
  },
  {
   "cell_type": "code",
   "execution_count": 18,
   "metadata": {},
   "outputs": [
    {
     "data": {
      "image/png": "[encoded data removed]",
      "text/html": [
       "<img src=\"data:image/png;base64,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\"></img>"
      ],
      "text/plain": [
       "<napari.utils.notebook_display.NotebookScreenshot at 0x16f5ec7f0>"
      ]
     },
     "execution_count": 18,
     "metadata": {},
     "output_type": "execute_result"
    }
   ],
   "source": [
    "from napari.utils.notebook_display import nbscreenshot\n",
    "\n",
    "# viewer.dims.ndisplay = 3\n",
    "# viewer.camera.angles = (-30, 25, 120)\n",
    "nbscreenshot(viewer, canvas_only=True)\n",
    "\n"
   ]
  },
  {
   "cell_type": "code",
   "execution_count": 19,
   "metadata": {},
   "outputs": [],
   "source": [
    "viewer.close()"
   ]
  },
  {
   "attachments": {},
   "cell_type": "markdown",
   "metadata": {},
   "source": [
    "-------------\n",
    "## SUMMARY\n",
    "\n",
    "The above details how the cytoplasm mask is inferred. \n",
    "\n",
    "### NEXT: INFER LYSOSOME\n",
    "\n",
    "proceed to [04_infer_lysosome.ipynb](./04_infer_lysosome.ipynb)\n"
   ]
  },
  {
   "cell_type": "markdown",
   "metadata": {},
   "source": []
  }
 ],
 "metadata": {
  "kernelspec": {
   "display_name": "Python 3.9.13 ('napariNEW')",
   "language": "python",
   "name": "python3"
  },
  "language_info": {
   "codemirror_mode": {
    "name": "ipython",
    "version": 3
   },
   "file_extension": ".py",
   "mimetype": "text/x-python",
   "name": "python",
   "nbconvert_exporter": "python",
   "pygments_lexer": "ipython3",
   "version": "3.9.16"
  },
  "orig_nbformat": 4,
  "vscode": {
   "interpreter": {
    "hash": "d6148ef1fb015fb20f0b6da2ea61c87c6b848bdf3dabb03087e5d5cd0c4607e9"
   }
  }
 },
 "nbformat": 4,
 "nbformat_minor": 2
}
